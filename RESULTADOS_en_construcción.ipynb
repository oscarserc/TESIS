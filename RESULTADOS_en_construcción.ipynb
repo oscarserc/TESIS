{
  "nbformat": 4,
  "nbformat_minor": 0,
  "metadata": {
    "colab": {
      "provenance": [],
      "authorship_tag": "ABX9TyMP95Cz6wFJ4pqzZAvhWbDV",
      "include_colab_link": true
    },
    "kernelspec": {
      "name": "python3",
      "display_name": "Python 3"
    },
    "language_info": {
      "name": "python"
    }
  },
  "cells": [
    {
      "cell_type": "markdown",
      "metadata": {
        "id": "view-in-github",
        "colab_type": "text"
      },
      "source": [
        "<a href=\"https://colab.research.google.com/github/oscarserc/TESIS/blob/main/RESULTADOS_en_construcci%C3%B3n.ipynb\" target=\"_parent\"><img src=\"https://colab.research.google.com/assets/colab-badge.svg\" alt=\"Open In Colab\"/></a>"
      ]
    },
    {
      "cell_type": "markdown",
      "source": [
        "# **<u>PRESENTACIÓN DE LOS RESULTADOS DE LA INVESTIGACIÓN</u>**\n",
        "\n",
        "\n"
      ],
      "metadata": {
        "id": "WVCjOF1z8t5K"
      }
    },
    {
      "cell_type": "code",
      "source": [],
      "metadata": {
        "id": "Y2hRWt_XqVzW"
      },
      "execution_count": null,
      "outputs": []
    },
    {
      "cell_type": "code",
      "source": [],
      "metadata": {
        "id": "KxHbJqy5qV-N"
      },
      "execution_count": null,
      "outputs": []
    },
    {
      "cell_type": "markdown",
      "source": [
        "\n",
        "#**PRUEBA 1**: <font color='green'>**RED NEURONAL CONVOLUCIONAL**</font>. Resultados obtenidos.\n"
      ],
      "metadata": {
        "id": "ye7DBF9l8uhz"
      }
    },
    {
      "cell_type": "code",
      "source": [],
      "metadata": {
        "id": "8gbvQ3mJqcxc"
      },
      "execution_count": null,
      "outputs": []
    },
    {
      "cell_type": "code",
      "source": [],
      "metadata": {
        "id": "HOHmPLTvqc0I"
      },
      "execution_count": null,
      "outputs": []
    },
    {
      "cell_type": "markdown",
      "source": [
        "\n",
        "#**PRUEBA 2**: <font color='green'>**RED NEURONAL CONVOLUCIONAL 3D**</font>. Resultados obtenidos."
      ],
      "metadata": {
        "id": "knj50HmMqc-y"
      }
    },
    {
      "cell_type": "code",
      "source": [],
      "metadata": {
        "id": "JEbkn-SoqtMm"
      },
      "execution_count": null,
      "outputs": []
    },
    {
      "cell_type": "code",
      "source": [],
      "metadata": {
        "id": "-fAK25xqqtPb"
      },
      "execution_count": null,
      "outputs": []
    },
    {
      "cell_type": "markdown",
      "source": [
        "#**PRUEBA 3**: <font color='green'>**Arquitectura de RED NEURONAL U-Net**</font>. Resultados obtenidos."
      ],
      "metadata": {
        "id": "Z6dMevh-qtjr"
      }
    },
    {
      "cell_type": "code",
      "source": [],
      "metadata": {
        "id": "MDC9gCu5rEk4"
      },
      "execution_count": null,
      "outputs": []
    },
    {
      "cell_type": "code",
      "source": [],
      "metadata": {
        "id": "U5sy4d1CrEnT"
      },
      "execution_count": null,
      "outputs": []
    },
    {
      "cell_type": "markdown",
      "source": [
        "#**PRUEBA 4: <font color=\"green\">Arquitectura TRANSFORMER</font>**. Resultados obtenidos."
      ],
      "metadata": {
        "id": "IdjXA9FYrG51"
      }
    },
    {
      "cell_type": "code",
      "source": [],
      "metadata": {
        "id": "kEDs_g5crgeV"
      },
      "execution_count": null,
      "outputs": []
    },
    {
      "cell_type": "code",
      "source": [],
      "metadata": {
        "id": "y_R4JUEmrgg-"
      },
      "execution_count": null,
      "outputs": []
    }
  ]
}