{
  "nbformat": 4,
  "nbformat_minor": 0,
  "metadata": {
    "colab": {
      "provenance": [],
      "collapsed_sections": [],
      "authorship_tag": "ABX9TyOBLHQ5xfCY1z4ySidfNAlV",
      "include_colab_link": true
    },
    "kernelspec": {
      "name": "python3",
      "display_name": "Python 3"
    },
    "language_info": {
      "name": "python"
    }
  },
  "cells": [
    {
      "cell_type": "markdown",
      "metadata": {
        "id": "view-in-github",
        "colab_type": "text"
      },
      "source": [
        "<a href=\"https://colab.research.google.com/github/oscarserc/TESIS/blob/main/z1_APENDICE.ipynb\" target=\"_parent\"><img src=\"https://colab.research.google.com/assets/colab-badge.svg\" alt=\"Open In Colab\"/></a>"
      ]
    },
    {
      "cell_type": "markdown",
      "source": [
        "#**Análisis emocional del DILEMA del PRISIONERO**\n",
        "\n",
        "Las emociones que hemos considerado son: ira,\n",
        "miedo, alegría y tristeza. Estos estados son algunas de las consideradas emociones universales <font color='blue'>[Ekman, P. (1999)]</font>. \n",
        "\n",
        "Cada emoción tiene una función que nos permite enfrentarnos de manera automática a cierto tipo de situaciones.\n",
        "\n",
        "El gráfico de la figura 1 representa el tipo de transiciones emocionales que experimenta el agente. \n",
        "\n",
        "<figure>\n",
        "<center>\n",
        "<img src='https://github.com/oscarserc/IMAGENES/blob/main/grafo_4B_GLOBAL_A%C3%B1ado_Miedo_2.png?raw=true' width=\"800\"/>\n",
        "<figcaption>fig. 1: Transiciones entre estados emocionales</figcaption></center>\n",
        "</figure>\n",
        "\n",
        "Desde el punto de vista del **Aprendizaje por Refuerzo** (*Reinforcement Learning*) las emociones son estados del agente. En cada uno de estos estados, la decisión del agente así como las condiciones del entorno (decisiones de los otros jugadores) genera en ciertas condiciones un refuerzo. Esta señal positiva es la que guía el aprendizaje. \n",
        "\n",
        "En los siguientes apartados se analiza más detenidamente cada uno de ellos.\n",
        "\n",
        "<br></br>\n",
        "**Ref.**:\n",
        "\n",
        "[Ekman, P. (1999)] https://www.paulekman.com/wp-content/uploads/2013/07/Basic-Emotions.pdf\n",
        "\n",
        "\n"
      ],
      "metadata": {
        "id": "1xkPPutTHSUu"
      }
    },
    {
      "cell_type": "markdown",
      "source": [
        "#**ALEGRÍA**\n",
        "\n",
        "La emoción alegría es prosocial por naturaleza por lo que ha de tender a la cooperación. Por ello, el refuerzo para el agente vendrá dado cuando Coopera, esperando cooperación y efectivamente la obtiene igualmente de su contrincante. Aparece una ’r’ en la vía cooperar-cooperar para señalar esta circunstancia\n",
        "(dicha recompensa se emplea en el algoritmo de aprendizaje). En la figura siguiente se representa la dinámica emocional del agente bajo la influencia de la alegría.\n",
        "\n",
        "<figure>\n",
        "<center>\n",
        "<img src='https://github.com/oscarserc/IMAGENES/blob/main/grafo_4_ALEGRIA_Marco.png?raw=true' width=\"700\"/> </center>\n",
        "<figcaption>fig. 2: Transiciones entre los estados del agente en función de sus decisiones (línea continua) y la de su oponente (línea discontinua). El color verde indica <b>cooperar</b>, y el rojo <b>no cooperar</b>. El estado emocional inicial aparece resaltado en amarillo (en este caso: Alegría). La letra ’r’ indica la recompensa (refuerzo) que recibe.\n",
        "</figcaption>\n",
        "</figure>\n",
        "\n",
        "\n",
        "\n",
        "El conjunto de reacciones del agente serían las que aparecen a continuación:\n",
        "\n",
        "· En estado de alegría, si decide cooperar recibirá una recompensa en el caso de que el contrincante hubiera tomado la misma decisión. Este refuerzo actúa durante el proceso de aprendizaje. Si, por el contrario, obtiene como respuesta la No Cooperación, el resultado es la transición a un estado de ira.\n",
        "\n",
        "· En el caso de que el agente optara por No Cooperar, la no cooperación del contrincante se traducirá en un sentimiento de pesar por no haber correspondido, lo que lleva al agente a un estado de tristeza. Si por el contrario el contrincante hubiera optado por la misma opción, el alivio se traduce en permanecer en el mismo estado.\n"
      ],
      "metadata": {
        "id": "ajVP4G7-Duk0"
      }
    },
    {
      "cell_type": "code",
      "source": [],
      "metadata": {
        "id": "XwrwbA-xQ6Fm"
      },
      "execution_count": null,
      "outputs": []
    },
    {
      "cell_type": "markdown",
      "source": [
        "#**IRA**\n",
        "\n",
        "La emoción ira permite manejar situaciones de enfrentamiento. El objetivo es la lucha con un oponente, y se refuerza la decisión de enfrentarse, mientras dicho oponente aparezca como enemigo con sus decisiones (es decir, no opte por ser un cooperador). En este caso la satisfacción es plena, lo que creará en el agente la tendencia a buscar este resultado.\n",
        "\n",
        "<figure>\n",
        "<center>\n",
        "<img src='https://github.com/oscarserc/IMAGENES/blob/main/grafo_4B_IRA_Marco.png?raw=true' width=\"700\"/>\n",
        "<figcaption>fig. 2: Transiciones entre los estados del agente bajo el estado emocional de Ira (aparece resaltado en\n",
        "amarillo).</figcaption> </center>\n",
        "</figure>\n",
        "\n",
        "El parámetro de desescalado (β) representa la probabilidad de que el agente, pese a estar en situación de conflicto, adopte una postura dócil y ante la posibilidad de verse sobrepasado por la situación le invade una nueva emoción: el miedo. Esto aumenta las posibilidades de reconducir la situación hacia la cooperación. En resumen tendríamos las siguientes vías:\n",
        "\n",
        "· En estado de ira, si opta por la <b>cooperación</b>, puede transicionar a un nuevo estado emocional: el de la alegría (en el caso de que el otro agente también coopere). Sin embargo, en este caso no existe refuerzo positivo, al no adecuarse al objetivo que marca esta emoción inicial.\n",
        "\n",
        "Si el oponente no coopera, el estado emocional permanece igual, con el agravante de que además se ha\n",
        "aprovechado de la coooperación del agente de referencia.\n",
        "\n",
        "· La otra opción consiste en que elija <b>No cooperar</b>. Si el oponente sale cooperador se habría infringido daño al otro jugador de manera injusta (lo que viola las reglas de la emoción ira). Esto provoca que aparezca el estado tristeza.\n",
        "\n",
        "En caso de que el oponente elija también la no cooperación, nos encontramos ante la situación que la ira tiene como objetivo: dañar a quien tiene intención de dañarnos, por eso se refuerza esta vía.\n",
        "Se introduce un parámetro β que representa una pequeña probabilidad de evitar que se enquiste el conflicto. Pasaría en este caso a un nuevo estado: la emoción miedo, que tiene vías de reconducir de nuevo a la cooperación.\n"
      ],
      "metadata": {
        "id": "A2gPXl2tDux8"
      }
    },
    {
      "cell_type": "code",
      "source": [],
      "metadata": {
        "id": "SL1OdxowSxG-"
      },
      "execution_count": null,
      "outputs": []
    },
    {
      "cell_type": "markdown",
      "source": [
        "#**TRISTEZA**\n",
        "\n",
        "La emoción tristeza es adecuada para situaciones de pérdida, o pesar, por ejemplo por el daño ocasionado a otra persona. El objetivo sería reparar el daño causado, y en este caso la vía que es reforzada es la cooperación-cooperación. El resto de opciones aparecen representadas en la siguiente figura.\n",
        "\n",
        "<figure>\n",
        "<center>\n",
        "<img src='https://github.com/oscarserc/IMAGENES/blob/main/grafo_4_TRISTEZA_Marco.png?raw=true' width=\"700\"/>\n",
        "<figcaption>fig. 3: Transiciones entre los estados del agente en función de sus decisiones y las de los demás. El estado emocional del agente aparece resaltado en amarillo (en este caso la emoción es: Tristeza).</figcaption></center>\n",
        "</figure>\n",
        "\n",
        "El conjunto de reacciones del agente serían las que aparecen a continuación:\n",
        "\n",
        "· En estado de tristeza la <b>cooperación</b> que es respondida con cooperación conduce a reparar el daño causado previamente y por tanto cumple el objetivo de la emoción en cuestión. Es por ello por lo que esta vía conduce a la recompensa, y la actitud cooperativa es reforzada. Si la cooperación es respondida por No cooparación, la transición emocional conducirá al estado de ira.\n",
        "\n",
        "· Si el agente opta por <b>no cooperar</b> (previendo que el otro agente no coopere), la respuesta cooperativa devolverá al agente al mismo estado. Sin embargo si la respuesta es no cooperativa, el alivio le sacaría de su estado de tristeza hacia el estado de alegría\n",
        "\n"
      ],
      "metadata": {
        "id": "7Z1iTJx1Gf9f"
      }
    },
    {
      "cell_type": "code",
      "source": [],
      "metadata": {
        "id": "GzAx8gcIV8j-"
      },
      "execution_count": null,
      "outputs": []
    },
    {
      "cell_type": "markdown",
      "source": [
        "#**MIEDO**\n",
        "\n",
        "La emoción miedo es adecuada también, al igual que la ira, para situaciones de enfrentamiento; pero en este caso se desata cuando la situación puede sobrepasar nuestras capacidades. Por ello induce la vía para desescalar cualquier conflicto.\n",
        "En este caso la vía que se vería reforzada sería la Cooperación que es respondida con Cooperación, ya que el objetivo es evitar la confrontación.\n",
        "\n",
        "<figure>\n",
        "<center>\n",
        "<img src='https://github.com/oscarserc/IMAGENES/blob/main/grafo_4B_MIEDO_Marco_2.png?raw=true' width=\"700\"/>\n",
        "<figcaption>fig. 4: Transiciones entre los estados del agente bajo el estado de la emoción: Miedo. Este estado inicial aparece resaltado en amarillo.</figcaption></center>\n",
        "</figure>\n",
        "\n",
        "El conjunto de reacciones del agente serían las que aparecen a continuación:\n",
        "\n",
        "· En estado de miedo opta por la <b>cooperación</b>. Si es correspondido aparece una recompensa de refuerzo (ya que es el objetivo de esta emoción). Sin embargo si el oponente opta por la no cooperación transicionará de nuevo al estado emocional de ira.\n",
        "\n",
        "· Si opta por <b>No Cooperar</b>, pero el oponente se muestra cooperativo, el daño provocado al otro le lleva al estado emocional de tristeza. Sin embargo si la opción elegida por el otro agente es la no cooperativa puede permanecer en estado de miedo (con una probabilidad β), o por el contrario volver al estado de\n",
        "ira.\n",
        "\n"
      ],
      "metadata": {
        "id": "ladpi9S_GgF9"
      }
    },
    {
      "cell_type": "code",
      "source": [],
      "metadata": {
        "id": "DrQdTENMDm4k"
      },
      "execution_count": null,
      "outputs": []
    },
    {
      "cell_type": "code",
      "source": [],
      "metadata": {
        "id": "ceRhNXXiDm8l"
      },
      "execution_count": null,
      "outputs": []
    }
  ]
}