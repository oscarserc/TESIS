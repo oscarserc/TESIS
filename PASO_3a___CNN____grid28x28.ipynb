{
  "nbformat": 4,
  "nbformat_minor": 0,
  "metadata": {
    "colab": {
      "provenance": [],
      "authorship_tag": "ABX9TyM5RAjq7jeE0TfN2xBm8ETh",
      "include_colab_link": true
    },
    "kernelspec": {
      "name": "python3",
      "display_name": "Python 3"
    },
    "language_info": {
      "name": "python"
    }
  },
  "cells": [
    {
      "cell_type": "markdown",
      "metadata": {
        "id": "view-in-github",
        "colab_type": "text"
      },
      "source": [
        "<a href=\"https://colab.research.google.com/github/oscarserc/TESIS/blob/main/PASO_3a___CNN____grid28x28.ipynb\" target=\"_parent\"><img src=\"https://colab.research.google.com/assets/colab-badge.svg\" alt=\"Open In Colab\"/></a>"
      ]
    },
    {
      "cell_type": "markdown",
      "source": [
        "#**UTILIZACIÓN DE TÉCNICAS DE APRENDIZAJE AUTOMÁTICO PARA LA DETECCIÓN DE LOS NODOS CONFLICTIVOS EN UNA RED SOCIAL**.\n",
        "\n",
        "La base de datos que emplearemos puede llegar a unas 12.000 observaciones. El tamaño crece rápidamente. Por ejemplo 4000 observaciones son aproximadamente 50 MB.\n",
        "\n",
        "· Pruebas iniciales con: 4.000 observaciones\n",
        "\n",
        "· Para ello generamos una 100 **simulaciones**, y guardamos unos 40 **frames** de cada una de ellas\n",
        "\n",
        "· Además como **target** guardamos la matriz con la IDENTIDAD de todos y cada uno de los AGENTES.\n",
        "\n"
      ],
      "metadata": {
        "id": "Ck6WE2qgmKul"
      }
    },
    {
      "cell_type": "code",
      "source": [],
      "metadata": {
        "id": "yclIUzOWcSjy"
      },
      "execution_count": null,
      "outputs": []
    },
    {
      "cell_type": "code",
      "source": [],
      "metadata": {
        "id": "ijoWUtiKcSpa"
      },
      "execution_count": null,
      "outputs": []
    },
    {
      "cell_type": "markdown",
      "source": [
        "#**PRUEBA 1**: Utilizaremos una <font color='green'>**RED NEURONAL CONVOLUCIONAL**</font>. Planteamos el problema de localizar a los agentes mutantes conflictivos como un problema de **Segmentación** de imágenes. (Cada pixel corresponde a un agente y ha de ser clasificado en uno de los tipos que se han definido). Posteriormente se podría aumentar la complejidad con más de 2 tipos de agentes."
      ],
      "metadata": {
        "id": "Q1K5T8gmcRFa"
      }
    },
    {
      "cell_type": "markdown",
      "source": [
        "La estructura que hemos probado de partida es la que aparece a continuación."
      ],
      "metadata": {
        "id": "4R6--3v24ATs"
      }
    },
    {
      "cell_type": "markdown",
      "source": [
        "\n",
        "<figure>\n",
        "<center>\n",
        "<img src='https://github.com/oscarserc/IMAGENES/blob/main/CNN_1h2_%20ampliado.png?raw=true' width=\"850\"/>\n",
        "<figcaption>fig. 1: En esta primera prueba manejamos sólo dos tipos de agentes: <b>Agente EMOCIONAL</b> y <b>Agente MUTANTE TRAIDOR</b>. Por ello el problema se trata de uno de CLASIFICACIÓN BINARIA. Cada pixel ha de ser marcado como perteneciente a una población u otra. La salida de la red son dos matrices de 28x28 con la probabilidad de pertenencia a cada clase.</figcaption></center>\n",
        "</figure>\n"
      ],
      "metadata": {
        "id": "8fHEsPqA4BnT"
      }
    },
    {
      "cell_type": "markdown",
      "source": [
        "El archivo de prueba contiene 4000 simulaciones de una población de AGENTES EMOCIONALES, mezclados con AGENTES MUTANTES que acosan e intentan aprovecharse sistemáticamente del resto de jugadores vecinos. Éstos últimos se generan aleatoriamente según una variable aleatoria <font color=\"blue\"><b>Bernuilli(p=0.15)</b></font>. Es decir, generamos en término medio un 15% de mutantes en cada jugada."
      ],
      "metadata": {
        "id": "4JJCGaYH4IWT"
      }
    },
    {
      "cell_type": "markdown",
      "source": [
        "\n",
        "<figure>\n",
        "<center>\n",
        "<img src='https://github.com/oscarserc/IMAGENES/blob/main/Matriz_BD_1b.png?raw=true' width=\"1000\"/>\n",
        "<figcaption></figcaption></center>\n",
        "</figure>\n",
        "\n",
        "\n",
        "\n"
      ],
      "metadata": {
        "id": "_WuC_yF0b42T"
      }
    },
    {
      "cell_type": "markdown",
      "source": [
        "Podemos comenzar **aleatorizando** las realizaciones de la base de datos, y después manteniendo agrupadas las observaciones (frames) que forman parte de la misma Simulación (animación)."
      ],
      "metadata": {
        "id": "XtCOSQJafZoe"
      }
    },
    {
      "cell_type": "markdown",
      "source": [
        "#CARGA DE LA BASE DE DATOS (mezcla agentes **emocionales** y mutantes **traidores**).\n",
        "\n",
        "#DESPUÉS ALEATORIZAMOS."
      ],
      "metadata": {
        "id": "AiozpE_AXGxY"
      }
    },
    {
      "cell_type": "code",
      "source": [
        "\n",
        "import pandas as pd\n",
        "\n",
        "# Cargamos los datos\n",
        "# ------------------\n",
        "bd_simulaciones = pd.read_csv('bd_100simulaciones_28x28_emo85_vs_15.csv')\n",
        "\n",
        "# Aleatorizamos\n",
        "# -------------\n",
        "bd_simulaciones = bd_simulaciones.sample(frac=1).reset_index(drop=True)\n",
        "\n"
      ],
      "metadata": {
        "id": "xpykoNS6TjqF"
      },
      "execution_count": 1,
      "outputs": []
    },
    {
      "cell_type": "code",
      "source": [
        "\n",
        "bd_simulaciones\n"
      ],
      "metadata": {
        "colab": {
          "base_uri": "https://localhost:8080/",
          "height": 597
        },
        "id": "drn6cob1I3gA",
        "outputId": "b09b3ab0-7207-4baf-9587-0eb4b6db759b"
      },
      "execution_count": null,
      "outputs": [
        {
          "output_type": "execute_result",
          "data": {
            "text/plain": [
              "            r0   r1   r2   r3   r4   r5   r6   r7   r8   r9  ...  b777  b778  \\\n",
              "0     0.333333  0.0  0.2  0.0  0.2  0.2  0.4  0.2  0.2  0.2  ...   0.0   0.2   \n",
              "1     0.000000  0.2  0.4  0.2  0.2  0.0  0.0  0.0  0.0  0.0  ...   0.4   0.2   \n",
              "2     0.000000  0.2  0.2  0.2  0.2  0.2  0.2  0.2  0.4  0.4  ...   0.2   1.0   \n",
              "3     0.000000  0.0  0.2  0.0  0.6  0.2  0.6  0.2  0.2  0.0  ...   1.0   1.0   \n",
              "4     0.333333  0.4  0.0  0.2  0.0  0.0  0.0  0.0  0.0  0.0  ...   1.0   0.2   \n",
              "...        ...  ...  ...  ...  ...  ...  ...  ...  ...  ...  ...   ...   ...   \n",
              "3995  0.000000  0.0  0.2  0.0  0.6  0.2  0.6  0.2  0.2  0.0  ...   1.0   1.0   \n",
              "3996  0.000000  0.0  0.2  0.4  0.4  0.4  0.0  0.2  0.0  0.2  ...   0.0   0.0   \n",
              "3997  0.000000  0.0  0.0  0.0  0.0  0.0  0.0  0.2  0.4  0.2  ...   0.2   0.2   \n",
              "3998  0.333333  0.0  0.2  0.0  0.0  0.0  0.2  0.0  0.2  0.0  ...   0.2   0.2   \n",
              "3999  0.333333  0.2  0.2  0.0  0.0  0.2  0.2  0.2  0.2  0.2  ...   0.2   1.0   \n",
              "\n",
              "      b779  b780  b781  b782      b783  Simulacion_ID  Frame  \\\n",
              "0      0.0   0.0   0.2   0.2  0.333333             57     34   \n",
              "1      0.4   0.2   0.2   0.4  1.000000             76     24   \n",
              "2      1.0   0.2   0.0   0.0  0.000000             66     38   \n",
              "3      0.6   0.2   0.0   0.0  0.000000             79     33   \n",
              "4      0.0   0.2   0.2   0.4  0.000000             44     37   \n",
              "...    ...   ...   ...   ...       ...            ...    ...   \n",
              "3995   0.6   0.2   0.0   0.0  0.000000             79      4   \n",
              "3996   0.2   1.0   0.2   0.0  0.000000             83     22   \n",
              "3997   1.0   0.2   0.2   1.0  0.333333             55     13   \n",
              "3998   0.0   0.0   0.2   1.0  0.333333             33     15   \n",
              "3999   0.4   0.4   0.2   0.2  0.000000             25      2   \n",
              "\n",
              "                                                 Target  \n",
              "0     [0, 1, 0, 0, 0, 1, 0, 0, 0, 0, 0, 0, 0, 0, 1, ...  \n",
              "1     [0, 0, 0, 1, 0, 0, 0, 0, 0, 0, 0, 0, 0, 0, 0, ...  \n",
              "2     [0, 0, 1, 1, 0, 0, 1, 1, 0, 0, 1, 0, 0, 0, 0, ...  \n",
              "3     [0, 0, 0, 1, 0, 1, 0, 0, 0, 0, 0, 0, 0, 0, 0, ...  \n",
              "4     [0, 0, 1, 0, 0, 0, 0, 0, 0, 0, 0, 0, 0, 0, 0, ...  \n",
              "...                                                 ...  \n",
              "3995  [0, 0, 0, 1, 0, 1, 0, 0, 0, 0, 0, 0, 0, 0, 0, ...  \n",
              "3996  [0, 0, 0, 0, 0, 0, 1, 0, 0, 0, 1, 1, 0, 0, 0, ...  \n",
              "3997  [0, 0, 0, 0, 0, 0, 0, 0, 0, 1, 0, 0, 0, 0, 0, ...  \n",
              "3998  [0, 1, 0, 0, 0, 0, 0, 1, 0, 0, 0, 0, 0, 0, 0, ...  \n",
              "3999  [0, 1, 0, 0, 0, 0, 0, 0, 0, 0, 0, 0, 1, 0, 0, ...  \n",
              "\n",
              "[4000 rows x 2355 columns]"
            ],
            "text/html": [
              "\n",
              "  <div id=\"df-9e5f8117-165d-47a4-a5a0-9c0ab96972d9\" class=\"colab-df-container\">\n",
              "    <div>\n",
              "<style scoped>\n",
              "    .dataframe tbody tr th:only-of-type {\n",
              "        vertical-align: middle;\n",
              "    }\n",
              "\n",
              "    .dataframe tbody tr th {\n",
              "        vertical-align: top;\n",
              "    }\n",
              "\n",
              "    .dataframe thead th {\n",
              "        text-align: right;\n",
              "    }\n",
              "</style>\n",
              "<table border=\"1\" class=\"dataframe\">\n",
              "  <thead>\n",
              "    <tr style=\"text-align: right;\">\n",
              "      <th></th>\n",
              "      <th>r0</th>\n",
              "      <th>r1</th>\n",
              "      <th>r2</th>\n",
              "      <th>r3</th>\n",
              "      <th>r4</th>\n",
              "      <th>r5</th>\n",
              "      <th>r6</th>\n",
              "      <th>r7</th>\n",
              "      <th>r8</th>\n",
              "      <th>r9</th>\n",
              "      <th>...</th>\n",
              "      <th>b777</th>\n",
              "      <th>b778</th>\n",
              "      <th>b779</th>\n",
              "      <th>b780</th>\n",
              "      <th>b781</th>\n",
              "      <th>b782</th>\n",
              "      <th>b783</th>\n",
              "      <th>Simulacion_ID</th>\n",
              "      <th>Frame</th>\n",
              "      <th>Target</th>\n",
              "    </tr>\n",
              "  </thead>\n",
              "  <tbody>\n",
              "    <tr>\n",
              "      <th>0</th>\n",
              "      <td>0.333333</td>\n",
              "      <td>0.0</td>\n",
              "      <td>0.2</td>\n",
              "      <td>0.0</td>\n",
              "      <td>0.2</td>\n",
              "      <td>0.2</td>\n",
              "      <td>0.4</td>\n",
              "      <td>0.2</td>\n",
              "      <td>0.2</td>\n",
              "      <td>0.2</td>\n",
              "      <td>...</td>\n",
              "      <td>0.0</td>\n",
              "      <td>0.2</td>\n",
              "      <td>0.0</td>\n",
              "      <td>0.0</td>\n",
              "      <td>0.2</td>\n",
              "      <td>0.2</td>\n",
              "      <td>0.333333</td>\n",
              "      <td>57</td>\n",
              "      <td>34</td>\n",
              "      <td>[0, 1, 0, 0, 0, 1, 0, 0, 0, 0, 0, 0, 0, 0, 1, ...</td>\n",
              "    </tr>\n",
              "    <tr>\n",
              "      <th>1</th>\n",
              "      <td>0.000000</td>\n",
              "      <td>0.2</td>\n",
              "      <td>0.4</td>\n",
              "      <td>0.2</td>\n",
              "      <td>0.2</td>\n",
              "      <td>0.0</td>\n",
              "      <td>0.0</td>\n",
              "      <td>0.0</td>\n",
              "      <td>0.0</td>\n",
              "      <td>0.0</td>\n",
              "      <td>...</td>\n",
              "      <td>0.4</td>\n",
              "      <td>0.2</td>\n",
              "      <td>0.4</td>\n",
              "      <td>0.2</td>\n",
              "      <td>0.2</td>\n",
              "      <td>0.4</td>\n",
              "      <td>1.000000</td>\n",
              "      <td>76</td>\n",
              "      <td>24</td>\n",
              "      <td>[0, 0, 0, 1, 0, 0, 0, 0, 0, 0, 0, 0, 0, 0, 0, ...</td>\n",
              "    </tr>\n",
              "    <tr>\n",
              "      <th>2</th>\n",
              "      <td>0.000000</td>\n",
              "      <td>0.2</td>\n",
              "      <td>0.2</td>\n",
              "      <td>0.2</td>\n",
              "      <td>0.2</td>\n",
              "      <td>0.2</td>\n",
              "      <td>0.2</td>\n",
              "      <td>0.2</td>\n",
              "      <td>0.4</td>\n",
              "      <td>0.4</td>\n",
              "      <td>...</td>\n",
              "      <td>0.2</td>\n",
              "      <td>1.0</td>\n",
              "      <td>1.0</td>\n",
              "      <td>0.2</td>\n",
              "      <td>0.0</td>\n",
              "      <td>0.0</td>\n",
              "      <td>0.000000</td>\n",
              "      <td>66</td>\n",
              "      <td>38</td>\n",
              "      <td>[0, 0, 1, 1, 0, 0, 1, 1, 0, 0, 1, 0, 0, 0, 0, ...</td>\n",
              "    </tr>\n",
              "    <tr>\n",
              "      <th>3</th>\n",
              "      <td>0.000000</td>\n",
              "      <td>0.0</td>\n",
              "      <td>0.2</td>\n",
              "      <td>0.0</td>\n",
              "      <td>0.6</td>\n",
              "      <td>0.2</td>\n",
              "      <td>0.6</td>\n",
              "      <td>0.2</td>\n",
              "      <td>0.2</td>\n",
              "      <td>0.0</td>\n",
              "      <td>...</td>\n",
              "      <td>1.0</td>\n",
              "      <td>1.0</td>\n",
              "      <td>0.6</td>\n",
              "      <td>0.2</td>\n",
              "      <td>0.0</td>\n",
              "      <td>0.0</td>\n",
              "      <td>0.000000</td>\n",
              "      <td>79</td>\n",
              "      <td>33</td>\n",
              "      <td>[0, 0, 0, 1, 0, 1, 0, 0, 0, 0, 0, 0, 0, 0, 0, ...</td>\n",
              "    </tr>\n",
              "    <tr>\n",
              "      <th>4</th>\n",
              "      <td>0.333333</td>\n",
              "      <td>0.4</td>\n",
              "      <td>0.0</td>\n",
              "      <td>0.2</td>\n",
              "      <td>0.0</td>\n",
              "      <td>0.0</td>\n",
              "      <td>0.0</td>\n",
              "      <td>0.0</td>\n",
              "      <td>0.0</td>\n",
              "      <td>0.0</td>\n",
              "      <td>...</td>\n",
              "      <td>1.0</td>\n",
              "      <td>0.2</td>\n",
              "      <td>0.0</td>\n",
              "      <td>0.2</td>\n",
              "      <td>0.2</td>\n",
              "      <td>0.4</td>\n",
              "      <td>0.000000</td>\n",
              "      <td>44</td>\n",
              "      <td>37</td>\n",
              "      <td>[0, 0, 1, 0, 0, 0, 0, 0, 0, 0, 0, 0, 0, 0, 0, ...</td>\n",
              "    </tr>\n",
              "    <tr>\n",
              "      <th>...</th>\n",
              "      <td>...</td>\n",
              "      <td>...</td>\n",
              "      <td>...</td>\n",
              "      <td>...</td>\n",
              "      <td>...</td>\n",
              "      <td>...</td>\n",
              "      <td>...</td>\n",
              "      <td>...</td>\n",
              "      <td>...</td>\n",
              "      <td>...</td>\n",
              "      <td>...</td>\n",
              "      <td>...</td>\n",
              "      <td>...</td>\n",
              "      <td>...</td>\n",
              "      <td>...</td>\n",
              "      <td>...</td>\n",
              "      <td>...</td>\n",
              "      <td>...</td>\n",
              "      <td>...</td>\n",
              "      <td>...</td>\n",
              "      <td>...</td>\n",
              "    </tr>\n",
              "    <tr>\n",
              "      <th>3995</th>\n",
              "      <td>0.000000</td>\n",
              "      <td>0.0</td>\n",
              "      <td>0.2</td>\n",
              "      <td>0.0</td>\n",
              "      <td>0.6</td>\n",
              "      <td>0.2</td>\n",
              "      <td>0.6</td>\n",
              "      <td>0.2</td>\n",
              "      <td>0.2</td>\n",
              "      <td>0.0</td>\n",
              "      <td>...</td>\n",
              "      <td>1.0</td>\n",
              "      <td>1.0</td>\n",
              "      <td>0.6</td>\n",
              "      <td>0.2</td>\n",
              "      <td>0.0</td>\n",
              "      <td>0.0</td>\n",
              "      <td>0.000000</td>\n",
              "      <td>79</td>\n",
              "      <td>4</td>\n",
              "      <td>[0, 0, 0, 1, 0, 1, 0, 0, 0, 0, 0, 0, 0, 0, 0, ...</td>\n",
              "    </tr>\n",
              "    <tr>\n",
              "      <th>3996</th>\n",
              "      <td>0.000000</td>\n",
              "      <td>0.0</td>\n",
              "      <td>0.2</td>\n",
              "      <td>0.4</td>\n",
              "      <td>0.4</td>\n",
              "      <td>0.4</td>\n",
              "      <td>0.0</td>\n",
              "      <td>0.2</td>\n",
              "      <td>0.0</td>\n",
              "      <td>0.2</td>\n",
              "      <td>...</td>\n",
              "      <td>0.0</td>\n",
              "      <td>0.0</td>\n",
              "      <td>0.2</td>\n",
              "      <td>1.0</td>\n",
              "      <td>0.2</td>\n",
              "      <td>0.0</td>\n",
              "      <td>0.000000</td>\n",
              "      <td>83</td>\n",
              "      <td>22</td>\n",
              "      <td>[0, 0, 0, 0, 0, 0, 1, 0, 0, 0, 1, 1, 0, 0, 0, ...</td>\n",
              "    </tr>\n",
              "    <tr>\n",
              "      <th>3997</th>\n",
              "      <td>0.000000</td>\n",
              "      <td>0.0</td>\n",
              "      <td>0.0</td>\n",
              "      <td>0.0</td>\n",
              "      <td>0.0</td>\n",
              "      <td>0.0</td>\n",
              "      <td>0.0</td>\n",
              "      <td>0.2</td>\n",
              "      <td>0.4</td>\n",
              "      <td>0.2</td>\n",
              "      <td>...</td>\n",
              "      <td>0.2</td>\n",
              "      <td>0.2</td>\n",
              "      <td>1.0</td>\n",
              "      <td>0.2</td>\n",
              "      <td>0.2</td>\n",
              "      <td>1.0</td>\n",
              "      <td>0.333333</td>\n",
              "      <td>55</td>\n",
              "      <td>13</td>\n",
              "      <td>[0, 0, 0, 0, 0, 0, 0, 0, 0, 1, 0, 0, 0, 0, 0, ...</td>\n",
              "    </tr>\n",
              "    <tr>\n",
              "      <th>3998</th>\n",
              "      <td>0.333333</td>\n",
              "      <td>0.0</td>\n",
              "      <td>0.2</td>\n",
              "      <td>0.0</td>\n",
              "      <td>0.0</td>\n",
              "      <td>0.0</td>\n",
              "      <td>0.2</td>\n",
              "      <td>0.0</td>\n",
              "      <td>0.2</td>\n",
              "      <td>0.0</td>\n",
              "      <td>...</td>\n",
              "      <td>0.2</td>\n",
              "      <td>0.2</td>\n",
              "      <td>0.0</td>\n",
              "      <td>0.0</td>\n",
              "      <td>0.2</td>\n",
              "      <td>1.0</td>\n",
              "      <td>0.333333</td>\n",
              "      <td>33</td>\n",
              "      <td>15</td>\n",
              "      <td>[0, 1, 0, 0, 0, 0, 0, 1, 0, 0, 0, 0, 0, 0, 0, ...</td>\n",
              "    </tr>\n",
              "    <tr>\n",
              "      <th>3999</th>\n",
              "      <td>0.333333</td>\n",
              "      <td>0.2</td>\n",
              "      <td>0.2</td>\n",
              "      <td>0.0</td>\n",
              "      <td>0.0</td>\n",
              "      <td>0.2</td>\n",
              "      <td>0.2</td>\n",
              "      <td>0.2</td>\n",
              "      <td>0.2</td>\n",
              "      <td>0.2</td>\n",
              "      <td>...</td>\n",
              "      <td>0.2</td>\n",
              "      <td>1.0</td>\n",
              "      <td>0.4</td>\n",
              "      <td>0.4</td>\n",
              "      <td>0.2</td>\n",
              "      <td>0.2</td>\n",
              "      <td>0.000000</td>\n",
              "      <td>25</td>\n",
              "      <td>2</td>\n",
              "      <td>[0, 1, 0, 0, 0, 0, 0, 0, 0, 0, 0, 0, 1, 0, 0, ...</td>\n",
              "    </tr>\n",
              "  </tbody>\n",
              "</table>\n",
              "<p>4000 rows × 2355 columns</p>\n",
              "</div>\n",
              "    <div class=\"colab-df-buttons\">\n",
              "\n",
              "  <div class=\"colab-df-container\">\n",
              "    <button class=\"colab-df-convert\" onclick=\"convertToInteractive('df-9e5f8117-165d-47a4-a5a0-9c0ab96972d9')\"\n",
              "            title=\"Convert this dataframe to an interactive table.\"\n",
              "            style=\"display:none;\">\n",
              "\n",
              "  <svg xmlns=\"http://www.w3.org/2000/svg\" height=\"24px\" viewBox=\"0 -960 960 960\">\n",
              "    <path d=\"M120-120v-720h720v720H120Zm60-500h600v-160H180v160Zm220 220h160v-160H400v160Zm0 220h160v-160H400v160ZM180-400h160v-160H180v160Zm440 0h160v-160H620v160ZM180-180h160v-160H180v160Zm440 0h160v-160H620v160Z\"/>\n",
              "  </svg>\n",
              "    </button>\n",
              "\n",
              "  <style>\n",
              "    .colab-df-container {\n",
              "      display:flex;\n",
              "      gap: 12px;\n",
              "    }\n",
              "\n",
              "    .colab-df-convert {\n",
              "      background-color: #E8F0FE;\n",
              "      border: none;\n",
              "      border-radius: 50%;\n",
              "      cursor: pointer;\n",
              "      display: none;\n",
              "      fill: #1967D2;\n",
              "      height: 32px;\n",
              "      padding: 0 0 0 0;\n",
              "      width: 32px;\n",
              "    }\n",
              "\n",
              "    .colab-df-convert:hover {\n",
              "      background-color: #E2EBFA;\n",
              "      box-shadow: 0px 1px 2px rgba(60, 64, 67, 0.3), 0px 1px 3px 1px rgba(60, 64, 67, 0.15);\n",
              "      fill: #174EA6;\n",
              "    }\n",
              "\n",
              "    .colab-df-buttons div {\n",
              "      margin-bottom: 4px;\n",
              "    }\n",
              "\n",
              "    [theme=dark] .colab-df-convert {\n",
              "      background-color: #3B4455;\n",
              "      fill: #D2E3FC;\n",
              "    }\n",
              "\n",
              "    [theme=dark] .colab-df-convert:hover {\n",
              "      background-color: #434B5C;\n",
              "      box-shadow: 0px 1px 3px 1px rgba(0, 0, 0, 0.15);\n",
              "      filter: drop-shadow(0px 1px 2px rgba(0, 0, 0, 0.3));\n",
              "      fill: #FFFFFF;\n",
              "    }\n",
              "  </style>\n",
              "\n",
              "    <script>\n",
              "      const buttonEl =\n",
              "        document.querySelector('#df-9e5f8117-165d-47a4-a5a0-9c0ab96972d9 button.colab-df-convert');\n",
              "      buttonEl.style.display =\n",
              "        google.colab.kernel.accessAllowed ? 'block' : 'none';\n",
              "\n",
              "      async function convertToInteractive(key) {\n",
              "        const element = document.querySelector('#df-9e5f8117-165d-47a4-a5a0-9c0ab96972d9');\n",
              "        const dataTable =\n",
              "          await google.colab.kernel.invokeFunction('convertToInteractive',\n",
              "                                                    [key], {});\n",
              "        if (!dataTable) return;\n",
              "\n",
              "        const docLinkHtml = 'Like what you see? Visit the ' +\n",
              "          '<a target=\"_blank\" href=https://colab.research.google.com/notebooks/data_table.ipynb>data table notebook</a>'\n",
              "          + ' to learn more about interactive tables.';\n",
              "        element.innerHTML = '';\n",
              "        dataTable['output_type'] = 'display_data';\n",
              "        await google.colab.output.renderOutput(dataTable, element);\n",
              "        const docLink = document.createElement('div');\n",
              "        docLink.innerHTML = docLinkHtml;\n",
              "        element.appendChild(docLink);\n",
              "      }\n",
              "    </script>\n",
              "  </div>\n",
              "\n",
              "\n",
              "    <div id=\"df-8d1e8468-6ab7-4fdb-ab7c-6f7a71e6cfbf\">\n",
              "      <button class=\"colab-df-quickchart\" onclick=\"quickchart('df-8d1e8468-6ab7-4fdb-ab7c-6f7a71e6cfbf')\"\n",
              "                title=\"Suggest charts\"\n",
              "                style=\"display:none;\">\n",
              "\n",
              "<svg xmlns=\"http://www.w3.org/2000/svg\" height=\"24px\"viewBox=\"0 0 24 24\"\n",
              "     width=\"24px\">\n",
              "    <g>\n",
              "        <path d=\"M19 3H5c-1.1 0-2 .9-2 2v14c0 1.1.9 2 2 2h14c1.1 0 2-.9 2-2V5c0-1.1-.9-2-2-2zM9 17H7v-7h2v7zm4 0h-2V7h2v10zm4 0h-2v-4h2v4z\"/>\n",
              "    </g>\n",
              "</svg>\n",
              "      </button>\n",
              "\n",
              "<style>\n",
              "  .colab-df-quickchart {\n",
              "      --bg-color: #E8F0FE;\n",
              "      --fill-color: #1967D2;\n",
              "      --hover-bg-color: #E2EBFA;\n",
              "      --hover-fill-color: #174EA6;\n",
              "      --disabled-fill-color: #AAA;\n",
              "      --disabled-bg-color: #DDD;\n",
              "  }\n",
              "\n",
              "  [theme=dark] .colab-df-quickchart {\n",
              "      --bg-color: #3B4455;\n",
              "      --fill-color: #D2E3FC;\n",
              "      --hover-bg-color: #434B5C;\n",
              "      --hover-fill-color: #FFFFFF;\n",
              "      --disabled-bg-color: #3B4455;\n",
              "      --disabled-fill-color: #666;\n",
              "  }\n",
              "\n",
              "  .colab-df-quickchart {\n",
              "    background-color: var(--bg-color);\n",
              "    border: none;\n",
              "    border-radius: 50%;\n",
              "    cursor: pointer;\n",
              "    display: none;\n",
              "    fill: var(--fill-color);\n",
              "    height: 32px;\n",
              "    padding: 0;\n",
              "    width: 32px;\n",
              "  }\n",
              "\n",
              "  .colab-df-quickchart:hover {\n",
              "    background-color: var(--hover-bg-color);\n",
              "    box-shadow: 0 1px 2px rgba(60, 64, 67, 0.3), 0 1px 3px 1px rgba(60, 64, 67, 0.15);\n",
              "    fill: var(--button-hover-fill-color);\n",
              "  }\n",
              "\n",
              "  .colab-df-quickchart-complete:disabled,\n",
              "  .colab-df-quickchart-complete:disabled:hover {\n",
              "    background-color: var(--disabled-bg-color);\n",
              "    fill: var(--disabled-fill-color);\n",
              "    box-shadow: none;\n",
              "  }\n",
              "\n",
              "  .colab-df-spinner {\n",
              "    border: 2px solid var(--fill-color);\n",
              "    border-color: transparent;\n",
              "    border-bottom-color: var(--fill-color);\n",
              "    animation:\n",
              "      spin 1s steps(1) infinite;\n",
              "  }\n",
              "\n",
              "  @keyframes spin {\n",
              "    0% {\n",
              "      border-color: transparent;\n",
              "      border-bottom-color: var(--fill-color);\n",
              "      border-left-color: var(--fill-color);\n",
              "    }\n",
              "    20% {\n",
              "      border-color: transparent;\n",
              "      border-left-color: var(--fill-color);\n",
              "      border-top-color: var(--fill-color);\n",
              "    }\n",
              "    30% {\n",
              "      border-color: transparent;\n",
              "      border-left-color: var(--fill-color);\n",
              "      border-top-color: var(--fill-color);\n",
              "      border-right-color: var(--fill-color);\n",
              "    }\n",
              "    40% {\n",
              "      border-color: transparent;\n",
              "      border-right-color: var(--fill-color);\n",
              "      border-top-color: var(--fill-color);\n",
              "    }\n",
              "    60% {\n",
              "      border-color: transparent;\n",
              "      border-right-color: var(--fill-color);\n",
              "    }\n",
              "    80% {\n",
              "      border-color: transparent;\n",
              "      border-right-color: var(--fill-color);\n",
              "      border-bottom-color: var(--fill-color);\n",
              "    }\n",
              "    90% {\n",
              "      border-color: transparent;\n",
              "      border-bottom-color: var(--fill-color);\n",
              "    }\n",
              "  }\n",
              "</style>\n",
              "\n",
              "      <script>\n",
              "        async function quickchart(key) {\n",
              "          const quickchartButtonEl =\n",
              "            document.querySelector('#' + key + ' button');\n",
              "          quickchartButtonEl.disabled = true;  // To prevent multiple clicks.\n",
              "          quickchartButtonEl.classList.add('colab-df-spinner');\n",
              "          try {\n",
              "            const charts = await google.colab.kernel.invokeFunction(\n",
              "                'suggestCharts', [key], {});\n",
              "          } catch (error) {\n",
              "            console.error('Error during call to suggestCharts:', error);\n",
              "          }\n",
              "          quickchartButtonEl.classList.remove('colab-df-spinner');\n",
              "          quickchartButtonEl.classList.add('colab-df-quickchart-complete');\n",
              "        }\n",
              "        (() => {\n",
              "          let quickchartButtonEl =\n",
              "            document.querySelector('#df-8d1e8468-6ab7-4fdb-ab7c-6f7a71e6cfbf button');\n",
              "          quickchartButtonEl.style.display =\n",
              "            google.colab.kernel.accessAllowed ? 'block' : 'none';\n",
              "        })();\n",
              "      </script>\n",
              "    </div>\n",
              "\n",
              "  <div id=\"id_40ebfde3-4f19-4781-b749-e0fde85b200d\">\n",
              "    <style>\n",
              "      .colab-df-generate {\n",
              "        background-color: #E8F0FE;\n",
              "        border: none;\n",
              "        border-radius: 50%;\n",
              "        cursor: pointer;\n",
              "        display: none;\n",
              "        fill: #1967D2;\n",
              "        height: 32px;\n",
              "        padding: 0 0 0 0;\n",
              "        width: 32px;\n",
              "      }\n",
              "\n",
              "      .colab-df-generate:hover {\n",
              "        background-color: #E2EBFA;\n",
              "        box-shadow: 0px 1px 2px rgba(60, 64, 67, 0.3), 0px 1px 3px 1px rgba(60, 64, 67, 0.15);\n",
              "        fill: #174EA6;\n",
              "      }\n",
              "\n",
              "      [theme=dark] .colab-df-generate {\n",
              "        background-color: #3B4455;\n",
              "        fill: #D2E3FC;\n",
              "      }\n",
              "\n",
              "      [theme=dark] .colab-df-generate:hover {\n",
              "        background-color: #434B5C;\n",
              "        box-shadow: 0px 1px 3px 1px rgba(0, 0, 0, 0.15);\n",
              "        filter: drop-shadow(0px 1px 2px rgba(0, 0, 0, 0.3));\n",
              "        fill: #FFFFFF;\n",
              "      }\n",
              "    </style>\n",
              "    <button class=\"colab-df-generate\" onclick=\"generateWithVariable('bd_simulaciones')\"\n",
              "            title=\"Generate code using this dataframe.\"\n",
              "            style=\"display:none;\">\n",
              "\n",
              "  <svg xmlns=\"http://www.w3.org/2000/svg\" height=\"24px\"viewBox=\"0 0 24 24\"\n",
              "       width=\"24px\">\n",
              "    <path d=\"M7,19H8.4L18.45,9,17,7.55,7,17.6ZM5,21V16.75L18.45,3.32a2,2,0,0,1,2.83,0l1.4,1.43a1.91,1.91,0,0,1,.58,1.4,1.91,1.91,0,0,1-.58,1.4L9.25,21ZM18.45,9,17,7.55Zm-12,3A5.31,5.31,0,0,0,4.9,8.1,5.31,5.31,0,0,0,1,6.5,5.31,5.31,0,0,0,4.9,4.9,5.31,5.31,0,0,0,6.5,1,5.31,5.31,0,0,0,8.1,4.9,5.31,5.31,0,0,0,12,6.5,5.46,5.46,0,0,0,6.5,12Z\"/>\n",
              "  </svg>\n",
              "    </button>\n",
              "    <script>\n",
              "      (() => {\n",
              "      const buttonEl =\n",
              "        document.querySelector('#id_40ebfde3-4f19-4781-b749-e0fde85b200d button.colab-df-generate');\n",
              "      buttonEl.style.display =\n",
              "        google.colab.kernel.accessAllowed ? 'block' : 'none';\n",
              "\n",
              "      buttonEl.onclick = () => {\n",
              "        google.colab.notebook.generateWithVariable('bd_simulaciones');\n",
              "      }\n",
              "      })();\n",
              "    </script>\n",
              "  </div>\n",
              "\n",
              "    </div>\n",
              "  </div>\n"
            ],
            "application/vnd.google.colaboratory.intrinsic+json": {
              "type": "dataframe",
              "variable_name": "bd_simulaciones"
            }
          },
          "metadata": {},
          "execution_count": 2
        }
      ]
    },
    {
      "cell_type": "markdown",
      "source": [
        "#Variables explicativas: **X**"
      ],
      "metadata": {
        "id": "mfiJbuVb4vKz"
      }
    },
    {
      "cell_type": "code",
      "source": [
        "\n",
        "import matplotlib.pyplot as plt\n",
        "import numpy as np\n",
        "\n",
        "size   = 28    # <----------------------------------------------------------------- AQUÍ FIJO LA QUE VA A SER LA DIMENSIÓN: 28x28\n",
        "agente = 0\n",
        "df     = bd_simulaciones.copy()\n",
        "\n",
        "lista_frames = []\n",
        "X            = []\n",
        "\n",
        "nombre_columnas_ROJO  = ['r' + str(indice) for indice in range(size*size)]\n",
        "nombre_columnas_VERDE = ['g' + str(indice) for indice in range(size*size)]\n",
        "nombre_columnas_AZUL  = ['b' + str(indice) for indice in range(size*size)]\n",
        "\n",
        "\n",
        "for fila in range(len(bd_simulaciones)):\n",
        "  canal_r = pd.array(df[nombre_columnas_ROJO].iloc[fila]).reshape(size,size)\n",
        "  canal_v = pd.array(df[nombre_columnas_VERDE].iloc[fila]).reshape(size,size)\n",
        "  canal_a = pd.array(df[nombre_columnas_AZUL].iloc[fila]).reshape(size,size)\n",
        "\n",
        "  # CUIDADO que np.dstack apila los tres valores de cada pixel\n",
        "  # ----------------------------------------------------------\n",
        "  frame = np.array([canal_r, canal_v, canal_a])\n",
        "\n",
        "  lista_frames.append(frame)\n",
        "\n",
        "X = np.array(lista_frames)\n",
        "X.shape\n"
      ],
      "metadata": {
        "colab": {
          "base_uri": "https://localhost:8080/"
        },
        "id": "eSk8Cn0AHqz8",
        "outputId": "36c0463a-06b1-4070-e75d-9fe4ed4f7aca"
      },
      "execution_count": 2,
      "outputs": [
        {
          "output_type": "execute_result",
          "data": {
            "text/plain": [
              "(4000, 3, 28, 28)"
            ]
          },
          "metadata": {},
          "execution_count": 2
        }
      ]
    },
    {
      "cell_type": "markdown",
      "source": [
        "#Target: **Y**."
      ],
      "metadata": {
        "id": "iD0mK_9x485b"
      }
    },
    {
      "cell_type": "code",
      "source": [
        "\n",
        "lista_targets = []\n",
        "\n",
        "for fila in range(len(bd_simulaciones)):\n",
        "  lista_id_agentes = bd_simulaciones.iloc[fila]['Target'].replace('[','').replace(']','')\n",
        "  target = [int(caracter) for caracter in lista_id_agentes.split(',')]\n",
        "  target = np.array(target)\n",
        "  target = target.reshape(size,size)\n",
        "\n",
        "  # Con los paréntesis  '['  ']' sale de dimensión: (8000, 1, 10, 10)   # <-------------------------- Aquí ajusto la DIMENSIÓN\n",
        "  #lista_targets.append([target])\n",
        "  # Si queremos de dimensión: (8000, 10, 10)\n",
        "  lista_targets.append(target)\n",
        "\n",
        "Y = np.array(lista_targets)\n",
        "Y.shape\n"
      ],
      "metadata": {
        "colab": {
          "base_uri": "https://localhost:8080/"
        },
        "id": "u6cv6TWZHq3M",
        "outputId": "866d052b-a647-4753-9af1-8de8738e1c14"
      },
      "execution_count": 3,
      "outputs": [
        {
          "output_type": "execute_result",
          "data": {
            "text/plain": [
              "(4000, 28, 28)"
            ]
          },
          "metadata": {},
          "execution_count": 3
        }
      ]
    },
    {
      "cell_type": "code",
      "source": [
        "\n",
        "#lista_targets = []\n",
        "\n",
        "# AHORA NO SALE EN EL BUCLE pero tomando un registro sí sale\n",
        "# -------------------------\n",
        "#lista_id_agentes = bd_simulaciones.iloc[1]['Target'].replace('[','').replace(']','')\n",
        "#target = [int(caracter) for caracter in lista_id_agentes.split(',')]\n",
        "#target = np.array(target)\n",
        "#target = target.reshape(size,size)\n",
        "#target\n",
        "\n",
        "#lista_targets.append(target)\n",
        "#Y = np.array(lista_targets)\n",
        "#Y.shape\n"
      ],
      "metadata": {
        "id": "gCGryCvzWAI8"
      },
      "execution_count": 4,
      "outputs": []
    },
    {
      "cell_type": "markdown",
      "source": [
        "#**CONVERSIÓN EN TENSORES DE PyTorch**."
      ],
      "metadata": {
        "id": "YQSjRMpk5GhL"
      }
    },
    {
      "cell_type": "code",
      "source": [
        "\n",
        "import numpy as np\n",
        "import torch\n",
        "\n",
        "# PRIMERO TENEMOS QUE EXTRAER LA MATRIX:  X\n",
        "# y los valores del TARGET:               Y\n",
        "#\n",
        "# Luego pasaremos (X, Y) al Dataset que creamos a continuación.\n",
        "# --------------------------------------------------------------\n",
        "\n",
        "X_train = X\n",
        "Y_train = Y\n",
        "\n",
        "# CREAMOS UNA CLASE PARA LOS DATOS\n",
        "# ================================\n",
        "\n",
        "class Dataset_frames(torch.utils.data.Dataset):\n",
        "  def __init__(self, X, Y):\n",
        "    self.X = torch.tensor(X).float()\n",
        "    self.Y = torch.tensor(Y).long()\n",
        "\n",
        "  def __len__(self):\n",
        "    return len(self.X)\n",
        "\n",
        "  def __getitem__(self, ix):\n",
        "    return self.X[ix], self.Y[ix]\n",
        "\n",
        "\n",
        "# SELECCIONANDO GRUPOS DE OBSERVACIONES PARA VALIDACIÓN\n",
        "# -----------------------------------------------------\n",
        "\n",
        "from sklearn.model_selection import train_test_split\n",
        "\n",
        "X_subset, X_val, Y_subset, Y_val = train_test_split(X_train, Y_train, test_size = 0.2)\n",
        "\n",
        "dataset = {\n",
        "    'train' : Dataset_frames(X_subset, Y_subset),\n",
        "    'val'   : Dataset_frames(X_val, Y_val)\n",
        "}\n",
        "\n",
        "dataloader = {\n",
        "    'train' : torch.utils.data.DataLoader(dataset['train'], batch_size=40,   shuffle=False),\n",
        "    'val'   : torch.utils.data.DataLoader(dataset['val'],   batch_size=40, shuffle=False)\n",
        "}\n"
      ],
      "metadata": {
        "id": "fJMEv00BHq5m"
      },
      "execution_count": 5,
      "outputs": []
    },
    {
      "cell_type": "code",
      "source": [
        "\n",
        "frames, mascara = next(iter(dataloader['train']))\n",
        "frames.shape, mascara.shape\n"
      ],
      "metadata": {
        "colab": {
          "base_uri": "https://localhost:8080/"
        },
        "id": "jZ9zWZmJIMEm",
        "outputId": "e06ed0a3-92d5-4394-c3b4-d1f17b4fe8b4"
      },
      "execution_count": 6,
      "outputs": [
        {
          "output_type": "execute_result",
          "data": {
            "text/plain": [
              "(torch.Size([40, 3, 28, 28]), torch.Size([40, 28, 28]))"
            ]
          },
          "metadata": {},
          "execution_count": 6
        }
      ]
    },
    {
      "cell_type": "code",
      "source": [],
      "metadata": {
        "id": "NFR3-7pB1BLx"
      },
      "execution_count": null,
      "outputs": []
    },
    {
      "cell_type": "code",
      "source": [],
      "metadata": {
        "id": "HumAhTFJ1BRB"
      },
      "execution_count": null,
      "outputs": []
    },
    {
      "cell_type": "markdown",
      "source": [
        "#**DEFINICIÓN DE LA RED Y MÉTODO PARA EL ENTRENAMIENTO**."
      ],
      "metadata": {
        "id": "LZTFi_-K5QpL"
      }
    },
    {
      "cell_type": "code",
      "source": [
        "\n",
        "from sklearn.metrics import accuracy_score\n",
        "\n",
        "# Fijamos el número de canales y filtros\n",
        "# --------------------------------------\n",
        "c           = 3\n",
        "n_filtros   = 6\n",
        "kernel_size = 3\n",
        "\n",
        "# CONSTRUIMOS EL MODELO\n",
        "# =====================\n",
        "\n",
        "def softmax(x):\n",
        "  return torch.exp(x) / torch.exp(x).sum(axis=-1, keepdims=True)\n",
        "\n",
        "# ---------------------------------------------------------------------\n",
        "# Probamos inicialmente con un grid (10x10)\n",
        "# ---------------------------------------------------------------------\n",
        "\n",
        "def build_model(c=3, n_filtros=6, kernel_size=3):        # <-------------------------------------------------------- MODIFICAR (Definir la RED CONVOLUCIONAL)\n",
        "  padding = kernel_size // 2\n",
        "  model = torch.nn.Sequential(\n",
        "      torch.nn.Conv2d(c, n_filtros, kernel_size, padding=padding),\n",
        "      torch.nn.ReLU(),\n",
        "      torch.nn.Conv2d(n_filtros, 2, (3,3), padding=1)\n",
        "  )\n",
        "  return model\n",
        "\n",
        "\n",
        "# DEFINIMOS LA FUNCIÓN DE ENTRENAMIENTO\n",
        "# =====================================\n",
        "\n",
        "def fit(model, dataloader, epochs=10, log_each=1):\n",
        "   criterion = torch.nn.CrossEntropyLoss()\n",
        "   optimizer = torch.optim.SGD(model.parameters(), lr=0.8)\n",
        "\n",
        "   l, acc         = [], []\n",
        "   val_l, val_acc = [], []\n",
        "\n",
        "   for e in range(1, epochs+1):\n",
        "      _l, _acc = [], []\n",
        "      model.train()  # <------------------------------------------ MODO de ENTRENAMIENTO\n",
        "      for x_b, y_b in dataloader['train']:\n",
        "        y_pred = model(x_b)\n",
        "        loss   = criterion(y_pred, y_b)\n",
        "        _l.append(loss.item())\n",
        "\n",
        "        optimizer.zero_grad()\n",
        "        loss.backward()\n",
        "        optimizer.step()\n",
        "\n",
        "        y_probas = torch.argmax(softmax(y_pred), axis=1)\n",
        "        # Los SCORES de SKLEARN no aceptan matrices, así que hay que convertirlas en dimensión 1D (usar flatten())\n",
        "        _acc.append(accuracy_score(y_b.numpy().flatten(), y_probas.detach().numpy().flatten()))\n",
        "\n",
        "      l.append(np.mean(_l))\n",
        "      acc.append(np.mean(_acc))\n",
        "      if not e % log_each:\n",
        "        print(f\"Epoch {e}/{epochs} loss {l[-1]:.5f} acc {acc[-1]:.5f}\")\n",
        "        #print(f\"Epoch {e}/{epochs} loss {l[-1]:.5f}\")\n",
        "\n",
        "\n",
        "      model.eval()  # <------------------------------------------- MODO de EVALUACIÓN\n",
        "      _l, _acc = [], []\n",
        "      with torch.no_grad():\n",
        "        for x_b, y_b in dataloader['val']:\n",
        "          y_pred = model(x_b)\n",
        "          loss   = criterion(y_pred, y_b)\n",
        "          _l.append(loss.item())\n",
        "          y_probas = torch.argmax(softmax(y_pred), axis=1)\n",
        "          _acc.append(accuracy_score(y_b.numpy().flatten(), y_probas.numpy().flatten()))\n",
        "      val_l.append(np.mean(_l))\n",
        "      val_acc.append(np.mean(_acc))\n",
        "\n",
        "   return {'epoch':list(range(1,epochs+1)), 'loss':l, 'acc': acc, 'val_loss': val_l, 'val_acc': val_acc}\n",
        "   #return {'epoch':list(range(1,epochs+1)), 'loss':l, 'val_loss': val_l}\n",
        "\n"
      ],
      "metadata": {
        "id": "h6er9x05IMIe"
      },
      "execution_count": 7,
      "outputs": []
    },
    {
      "cell_type": "markdown",
      "source": [
        "#**Nos preparamos para entrenar el modelo**."
      ],
      "metadata": {
        "id": "YSUT-9mY5YdC"
      }
    },
    {
      "cell_type": "code",
      "source": [
        "\n",
        "# INSTANCIAMOS EL MODELO\n",
        "# ======================\n",
        "\n",
        "# Imprimimos junta al número de Epoch, el valor de la función de pérdida y la accuracy (98%)\n",
        "model  = build_model()\n",
        "hist   = fit(model, dataloader, 20)\n"
      ],
      "metadata": {
        "colab": {
          "base_uri": "https://localhost:8080/"
        },
        "id": "YWj8mE8aIeuu",
        "outputId": "f49b8125-24f0-4ce5-daba-745bab5d223d"
      },
      "execution_count": 8,
      "outputs": [
        {
          "output_type": "stream",
          "name": "stdout",
          "text": [
            "Epoch 1/20 loss 0.20913 acc 0.73365\n",
            "Epoch 2/20 loss 0.06461 acc 0.90850\n",
            "Epoch 3/20 loss 0.05064 acc 0.95659\n",
            "Epoch 4/20 loss 0.04826 acc 0.96404\n",
            "Epoch 5/20 loss 0.04684 acc 0.96612\n",
            "Epoch 6/20 loss 0.03812 acc 0.97152\n",
            "Epoch 7/20 loss 0.03037 acc 0.97215\n",
            "Epoch 8/20 loss 0.02677 acc 0.97350\n",
            "Epoch 9/20 loss 0.02352 acc 0.97471\n",
            "Epoch 10/20 loss 0.02069 acc 0.97612\n",
            "Epoch 11/20 loss 0.01855 acc 0.97744\n",
            "Epoch 12/20 loss 0.01691 acc 0.97818\n",
            "Epoch 13/20 loss 0.01554 acc 0.97857\n",
            "Epoch 14/20 loss 0.01410 acc 0.97822\n",
            "Epoch 15/20 loss 0.01278 acc 0.97876\n",
            "Epoch 16/20 loss 0.01168 acc 0.98048\n",
            "Epoch 17/20 loss 0.01074 acc 0.98170\n",
            "Epoch 18/20 loss 0.00992 acc 0.98273\n",
            "Epoch 19/20 loss 0.00912 acc 0.98357\n",
            "Epoch 20/20 loss 0.00836 acc 0.98423\n"
          ]
        }
      ]
    },
    {
      "cell_type": "markdown",
      "source": [
        "\n",
        "#**ESTRUCTURA y PARÁMETROS DEL MODELO**.\n"
      ],
      "metadata": {
        "id": "alAxuCXxcYFc"
      }
    },
    {
      "cell_type": "code",
      "source": [
        "\n",
        "from torchsummary import summary\n",
        "\n",
        "#print(model)\n",
        "\n",
        "# EMPLEAR:\n",
        "# from torchsummary import summary\n",
        "# summary(your_model, input_size=(channels, H, W))\n",
        "# -------------------------------------------------\n",
        "\n",
        "# Supongo que podría valer: (3, 10, 10)\n",
        "summary(model, input_size=(3, 28, 28))\n"
      ],
      "metadata": {
        "colab": {
          "base_uri": "https://localhost:8080/"
        },
        "id": "itJztOQIIexd",
        "outputId": "4f756aa3-9f5e-4d9c-d3f5-d9f8c7fabbbc"
      },
      "execution_count": 9,
      "outputs": [
        {
          "output_type": "stream",
          "name": "stdout",
          "text": [
            "----------------------------------------------------------------\n",
            "        Layer (type)               Output Shape         Param #\n",
            "================================================================\n",
            "            Conv2d-1            [-1, 6, 28, 28]             168\n",
            "              ReLU-2            [-1, 6, 28, 28]               0\n",
            "            Conv2d-3            [-1, 2, 28, 28]             110\n",
            "================================================================\n",
            "Total params: 278\n",
            "Trainable params: 278\n",
            "Non-trainable params: 0\n",
            "----------------------------------------------------------------\n",
            "Input size (MB): 0.01\n",
            "Forward/backward pass size (MB): 0.08\n",
            "Params size (MB): 0.00\n",
            "Estimated Total Size (MB): 0.09\n",
            "----------------------------------------------------------------\n"
          ]
        }
      ]
    },
    {
      "cell_type": "markdown",
      "source": [
        "\n",
        "#**Representación gráfica del proceso de ENTRENAMIENTO**.\n"
      ],
      "metadata": {
        "id": "5cGBm7MscfhA"
      }
    },
    {
      "cell_type": "code",
      "source": [
        "\n",
        "# GRAFICAMOS LOS RESULTADOS DEL APRENDIZAJE - Función de Pérdida (LOSS)\n",
        "# =========================================\n",
        "\n",
        "import matplotlib.pyplot as plt\n",
        "\n",
        "fig = plt.figure(dpi=60)\n",
        "#fig = plt.figure(figsize=(10,6))\n",
        "ax  = plt.subplot(111)\n",
        "pd.DataFrame(hist).plot(x='epoch', y=['loss','val_loss'], grid=True, ax=ax)\n",
        "#lt.ylim([0,0.010])\n",
        "plt.show()\n"
      ],
      "metadata": {
        "colab": {
          "base_uri": "https://localhost:8080/",
          "height": 277
        },
        "id": "38Frts_OIe6d",
        "outputId": "4f3d318b-86cd-4837-8e6f-468ade8cd72c"
      },
      "execution_count": 10,
      "outputs": [
        {
          "output_type": "display_data",
          "data": {
            "text/plain": [
              "<Figure size 384x288 with 1 Axes>"
            ],
            "image/png": "[encoded data removed]"
          },
          "metadata": {}
        }
      ]
    },
    {
      "cell_type": "code",
      "source": [
        "\n",
        "# GRAFICAMOS LOS RESULTADOS DEL APRENDIZAJE - Precisión (ACCURACY)\n",
        "# =========================================\n",
        "\n",
        "import matplotlib.pyplot as plt\n",
        "\n",
        "fig = plt.figure(dpi=60)\n",
        "#fig = plt.figure(figsize=(10,6))\n",
        "ax  = plt.subplot(111)\n",
        "pd.DataFrame(hist).plot(x='epoch', y=['acc','val_acc'], grid=True, ax=ax)\n",
        "#lt.ylim([0,0.010])\n",
        "plt.show()\n"
      ],
      "metadata": {
        "colab": {
          "base_uri": "https://localhost:8080/",
          "height": 277
        },
        "id": "X1xQVbyoIwa4",
        "outputId": "bae00608-5eec-409b-d827-e1108187ef73"
      },
      "execution_count": 11,
      "outputs": [
        {
          "output_type": "display_data",
          "data": {
            "text/plain": [
              "<Figure size 384x288 with 1 Axes>"
            ],
            "image/png": "[encoded data removed]"
          },
          "metadata": {}
        }
      ]
    },
    {
      "cell_type": "markdown",
      "source": [
        "#Comprobamos con alguno de los grid de las simulaciones, la detección de los **agentes mutantes**."
      ],
      "metadata": {
        "id": "KeXBtm6bMqRd"
      }
    },
    {
      "cell_type": "markdown",
      "source": [
        "\n",
        "<figure>\n",
        "<center>\n",
        "<img src='https://github.com/oscarserc/IMAGENES/blob/main/Salida_1.png?raw=true' width=\"880\"/>\n",
        "<figcaption>fig. 2: El procesamiento que realiza la red neuronal (<i>empleando una función de pérdida 'Cross Entropy Loss'</i>) proporciona una salida de 2 matrices en este caso (una por cada clase, y cuyo tamaño es el del grid). Por ello cada agente (pixel de la imagen que se le pasa a la red CNN) tiene asociados 2 valores. Para llevar a cabo la clasificación, tenemos que transformar los valores de salida en probabilidades. Para esto llevamos a cabo una <b>tranformación Softmax</b>, tal y como se ve en la imagen. Para obtener la clase de agente, bastará posteriormente con extraer el índice donde ocurre el mayor de los dos valores (<i>arg max = argumento máximo</i>). Esto permite generar la matriz final con la identidad estimada de los agentes (0: agente emocional, 1: agente traidor).</figcaption></center>\n",
        "</figure>\n"
      ],
      "metadata": {
        "id": "vcKJhNh2B2wJ"
      }
    },
    {
      "cell_type": "code",
      "source": [],
      "metadata": {
        "id": "mtma52V6RYZl"
      },
      "execution_count": null,
      "outputs": []
    },
    {
      "cell_type": "code",
      "source": [],
      "metadata": {
        "id": "9p0Kb2WrRYcu"
      },
      "execution_count": null,
      "outputs": []
    },
    {
      "cell_type": "markdown",
      "source": [
        "\n",
        "# <font color=\"brown\"><b><u>EVALUACIÓN de RESULTADOS</u></b></font>.\n",
        "\n",
        "(Empleamos matrices de confusión para diseccionar cómo se producen los errores.)\n"
      ],
      "metadata": {
        "id": "41n2nYJwboPi"
      }
    },
    {
      "cell_type": "markdown",
      "source": [
        "##1) Probamos con todos los píxeles de los frames (de 28x28) del conjunto de **DATOS de ENTRENAMIENTO**."
      ],
      "metadata": {
        "id": "iMFiQxobWJEM"
      }
    },
    {
      "cell_type": "code",
      "source": [
        "\n",
        "from sklearn.metrics import confusion_matrix\n",
        "from sklearn.metrics import ConfusionMatrixDisplay\n",
        "from functools import reduce\n",
        "\n",
        "predicciones_train  = []\n",
        "observaciones_train = []\n",
        "\n",
        "# Iteramos por el conjunto de datos de Validación\n",
        "# -----------------------------------------------\n",
        "for x_b, y_b in dataloader['train']:\n",
        "  y_pred = model(x_b)\n",
        "  y_prob = torch.argmax(softmax(y_pred), axis=1)\n",
        "  # Se añaden como arrays a la lista, por lo que convertimos previamente a una lista\n",
        "  # El resultado es una lista de lista, por lo que las reducimos a una sola más abajo\n",
        "  # (Esto es así porque el procedimiento confusion_matrix sólo opera datos de 1 dimensión)\n",
        "  predicciones_train.append(list(y_prob.numpy().flatten()))\n",
        "  observaciones_train.append(list(y_b.numpy().flatten()))\n",
        "\n",
        "data_pred_train = reduce(lambda a, b: a+b, predicciones_train)\n",
        "data_obs_train  = reduce(lambda a, b: a+b, observaciones_train)\n",
        "\n",
        "confusion_matrix(data_obs_train, data_pred_train)\n"
      ],
      "metadata": {
        "colab": {
          "base_uri": "https://localhost:8080/"
        },
        "id": "nkfBdKVlXisn",
        "outputId": "17b5706b-96d4-4f7b-8b95-058c13ac1741"
      },
      "execution_count": 12,
      "outputs": [
        {
          "output_type": "execute_result",
          "data": {
            "text/plain": [
              "array([[2091212,   38746],\n",
              "       [      0,  378842]])"
            ]
          },
          "metadata": {},
          "execution_count": 12
        }
      ]
    },
    {
      "cell_type": "code",
      "source": [
        "\n",
        "ConfusionMatrixDisplay.from_predictions(data_obs_train, data_pred_train, normalize='all', values_format='.3%')\n"
      ],
      "metadata": {
        "colab": {
          "base_uri": "https://localhost:8080/",
          "height": 466
        },
        "id": "dgc1lhFhYIHw",
        "outputId": "565d0a9e-d16d-4708-ed66-302af3ecf318"
      },
      "execution_count": 13,
      "outputs": [
        {
          "output_type": "execute_result",
          "data": {
            "text/plain": [
              "<sklearn.metrics._plot.confusion_matrix.ConfusionMatrixDisplay at 0x7dc7fce789e0>"
            ]
          },
          "metadata": {},
          "execution_count": 13
        },
        {
          "output_type": "display_data",
          "data": {
            "text/plain": [
              "<Figure size 640x480 with 2 Axes>"
            ],
            "image/png": "[encoded data removed]"
          },
          "metadata": {}
        }
      ]
    },
    {
      "cell_type": "markdown",
      "source": [
        "##2) Ahora probamos con todos los píxeles de los frames (de 28x28) del conjunto de **DATOS de VALIDACIÓN**."
      ],
      "metadata": {
        "id": "keAxNcQDX8i7"
      }
    },
    {
      "cell_type": "code",
      "source": [
        "\n",
        "from functools import reduce\n",
        "\n",
        "predicciones  = []\n",
        "observaciones = []\n",
        "\n",
        "# Iteramos por el conjunto de datos de Validación\n",
        "# -----------------------------------------------\n",
        "for x_b, y_b in dataloader['val']:\n",
        "  y_pred = model(x_b)\n",
        "  y_prob = torch.argmax(softmax(y_pred), axis=1)\n",
        "  # Se añaden como arrays a la lista, por lo que convertimos previamente a una lista\n",
        "  # El resultado es una lista de lista, por lo que las reducimos a una sola más abajo\n",
        "  # (Esto es así porque el procedimiento confusion_matrix sólo opera datos de 1 dimensión)\n",
        "  predicciones.append(list(y_prob.numpy().flatten()))\n",
        "  observaciones.append(list(y_b.numpy().flatten()))\n",
        "\n",
        "data_pred = reduce(lambda a, b: a+b, predicciones)\n",
        "data_obs  = reduce(lambda a, b: a+b, observaciones)\n",
        "\n",
        "confusion_matrix(data_obs, data_pred)\n",
        "\n"
      ],
      "metadata": {
        "colab": {
          "base_uri": "https://localhost:8080/"
        },
        "id": "jiwZToVDMDRz",
        "outputId": "f10868a6-4103-456e-b3a2-a9c4ec0bec4e"
      },
      "execution_count": 14,
      "outputs": [
        {
          "output_type": "execute_result",
          "data": {
            "text/plain": [
              "array([[522553,   9769],\n",
              "       [     0,  94878]])"
            ]
          },
          "metadata": {},
          "execution_count": 14
        }
      ]
    },
    {
      "cell_type": "code",
      "source": [
        "\n",
        "ConfusionMatrixDisplay.from_predictions(data_obs, data_pred, normalize='all', values_format='.3%')\n"
      ],
      "metadata": {
        "colab": {
          "base_uri": "https://localhost:8080/",
          "height": 466
        },
        "id": "3pgxs82eUOOX",
        "outputId": "950ab37a-b9da-45c9-afba-c2f7f39bf00e"
      },
      "execution_count": 15,
      "outputs": [
        {
          "output_type": "execute_result",
          "data": {
            "text/plain": [
              "<sklearn.metrics._plot.confusion_matrix.ConfusionMatrixDisplay at 0x7dc7f6357320>"
            ]
          },
          "metadata": {},
          "execution_count": 15
        },
        {
          "output_type": "display_data",
          "data": {
            "text/plain": [
              "<Figure size 640x480 with 2 Axes>"
            ],
            "image/png": "[encoded data removed]"
          },
          "metadata": {}
        }
      ]
    },
    {
      "cell_type": "code",
      "source": [],
      "metadata": {
        "id": "-h830XZIEdCO"
      },
      "execution_count": null,
      "outputs": []
    },
    {
      "cell_type": "code",
      "source": [],
      "metadata": {
        "id": "4mqbe7WBQJDA"
      },
      "execution_count": null,
      "outputs": []
    },
    {
      "cell_type": "markdown",
      "source": [
        "#Representamos con colores a los agentes mutantes correcta o equivocadamente identificados."
      ],
      "metadata": {
        "id": "8G6yDv6rQJRX"
      }
    },
    {
      "cell_type": "code",
      "source": [
        "\n",
        "from sklearn.metrics import confusion_matrix\n",
        "\n",
        "torch.set_printoptions(precision=2)\n",
        "\n",
        "X_obs, y_obs = next(iter(dataloader['val']))\n",
        "y_probab = model(X_obs)\n",
        "y_predic = torch.argmax(softmax(y_probab), axis=1)\n",
        "\n",
        "# Utilizamos códigos para representar los colores y así identificar\n",
        "# mejor a los agentes en la predicción (agentes MUTANTES)\n",
        "red    = '\\033[91m'\n",
        "green  = '\\033[92m'\n",
        "black  = '\\x1b[0m'\n",
        "# También:\n",
        "red_bold  = '\\x1b[1;02;31m'\n",
        "green_bold = '\\x1b[1;02;32m'\n",
        "# Con fondo:\n",
        "red_bold_fondo  = '\\x1b[1;02;31;43m'\n",
        "green_bold_fondo = '\\x1b[1;02;32;43m'\n",
        "\n",
        "frame  = 1\n",
        "cadena = ''\n",
        "size_m = 3\n",
        "\n",
        "for i in range(size):\n",
        "  for j in range(size):\n",
        "    if (y_predic[frame,i,j] != y_obs[frame,i,j]) and (y_predic[frame,i,j] == 1):\n",
        "      cadena += red_bold + str(y_predic[frame,i,j].numpy()) + black + '  '\n",
        "    elif (y_predic[frame,i,j] != y_obs[frame,i,j]) and (y_predic[frame,i,j] == 0):\n",
        "      cadena += red + '.' + black + '  '\n",
        "    elif (y_predic[frame,i,j] == y_obs[frame,i,j]) and (y_predic[frame,i,j] == 1):\n",
        "      cadena += green + str(y_predic[frame,i,j].numpy()) + black + '  '\n",
        "    else:\n",
        "      cadena += str(y_predic[frame,i,j].numpy()) + '  '\n",
        "  cadena += '\\n'\n",
        "\n",
        "print(cadena)\n",
        "\n"
      ],
      "metadata": {
        "id": "3qcLSL2BEdFX",
        "colab": {
          "base_uri": "https://localhost:8080/"
        },
        "outputId": "c8ac3e71-6414-4f4d-ac63-4beed1037b45"
      },
      "execution_count": 16,
      "outputs": [
        {
          "output_type": "stream",
          "name": "stdout",
          "text": [
            "0  0  0  0  0  0  0  0  0  0  0  0  0  0  0  0  \u001b[1;02;31m1\u001b[0m  \u001b[92m1\u001b[0m  0  0  0  0  0  0  0  0  \u001b[92m1\u001b[0m  0  \n",
            "0  \u001b[92m1\u001b[0m  0  0  0  0  \u001b[92m1\u001b[0m  0  0  0  \u001b[92m1\u001b[0m  0  0  0  0  \u001b[92m1\u001b[0m  0  0  0  0  \u001b[92m1\u001b[0m  0  0  0  0  0  0  0  \n",
            "0  0  0  0  0  0  0  0  0  0  0  \u001b[92m1\u001b[0m  0  \u001b[92m1\u001b[0m  0  0  0  0  0  0  0  0  0  \u001b[92m1\u001b[0m  0  0  0  0  \n",
            "0  \u001b[92m1\u001b[0m  0  0  \u001b[92m1\u001b[0m  0  0  0  0  0  0  0  0  0  0  0  0  0  0  0  0  0  0  0  \u001b[92m1\u001b[0m  0  0  0  \n",
            "\u001b[92m1\u001b[0m  0  0  0  \u001b[92m1\u001b[0m  0  0  0  0  0  0  \u001b[92m1\u001b[0m  0  0  0  0  0  0  0  0  0  0  0  0  0  0  0  \u001b[92m1\u001b[0m  \n",
            "\u001b[92m1\u001b[0m  0  0  \u001b[92m1\u001b[0m  0  0  0  \u001b[92m1\u001b[0m  0  0  0  0  0  \u001b[92m1\u001b[0m  \u001b[92m1\u001b[0m  0  0  0  0  0  0  0  0  \u001b[92m1\u001b[0m  \u001b[92m1\u001b[0m  0  \u001b[92m1\u001b[0m  \u001b[92m1\u001b[0m  \n",
            "0  0  0  0  0  0  0  0  0  0  0  0  0  \u001b[92m1\u001b[0m  0  0  0  \u001b[92m1\u001b[0m  0  0  0  0  0  0  \u001b[92m1\u001b[0m  \u001b[1;02;31m1\u001b[0m  \u001b[92m1\u001b[0m  \u001b[1;02;31m1\u001b[0m  \n",
            "0  0  0  0  0  0  0  0  0  0  0  0  0  0  0  0  0  0  0  0  0  0  0  0  0  0  \u001b[92m1\u001b[0m  \u001b[1;02;31m1\u001b[0m  \n",
            "0  0  0  \u001b[92m1\u001b[0m  0  0  \u001b[92m1\u001b[0m  0  0  \u001b[92m1\u001b[0m  0  0  0  0  0  \u001b[92m1\u001b[0m  0  0  \u001b[92m1\u001b[0m  0  0  0  0  0  0  0  \u001b[92m1\u001b[0m  \u001b[92m1\u001b[0m  \n",
            "\u001b[92m1\u001b[0m  0  0  0  0  \u001b[92m1\u001b[0m  0  0  0  \u001b[92m1\u001b[0m  \u001b[92m1\u001b[0m  \u001b[92m1\u001b[0m  0  0  0  0  0  \u001b[92m1\u001b[0m  0  \u001b[92m1\u001b[0m  0  0  0  0  0  0  0  0  \n",
            "0  0  0  0  0  \u001b[92m1\u001b[0m  0  0  0  0  0  0  0  0  0  0  0  0  0  0  0  0  \u001b[92m1\u001b[0m  0  0  \u001b[92m1\u001b[0m  0  0  \n",
            "0  0  0  \u001b[92m1\u001b[0m  \u001b[92m1\u001b[0m  0  0  0  0  0  0  0  \u001b[92m1\u001b[0m  0  0  \u001b[92m1\u001b[0m  0  0  0  0  0  0  \u001b[92m1\u001b[0m  0  0  0  0  0  \n",
            "0  0  0  0  0  0  0  \u001b[92m1\u001b[0m  0  0  0  0  \u001b[92m1\u001b[0m  0  0  \u001b[92m1\u001b[0m  0  0  0  0  0  0  0  0  0  0  0  0  \n",
            "\u001b[92m1\u001b[0m  0  0  0  \u001b[92m1\u001b[0m  0  0  \u001b[92m1\u001b[0m  0  0  0  0  \u001b[92m1\u001b[0m  0  0  0  0  0  0  0  0  0  0  0  \u001b[92m1\u001b[0m  0  0  0  \n",
            "0  0  0  0  0  0  0  0  0  \u001b[92m1\u001b[0m  0  0  0  0  0  \u001b[92m1\u001b[0m  0  0  \u001b[92m1\u001b[0m  0  \u001b[92m1\u001b[0m  \u001b[92m1\u001b[0m  0  \u001b[92m1\u001b[0m  0  \u001b[92m1\u001b[0m  0  0  \n",
            "0  \u001b[92m1\u001b[0m  0  0  \u001b[92m1\u001b[0m  0  0  0  0  \u001b[92m1\u001b[0m  0  0  0  0  \u001b[92m1\u001b[0m  0  0  0  0  \u001b[92m1\u001b[0m  0  0  \u001b[92m1\u001b[0m  0  0  0  0  0  \n",
            "\u001b[92m1\u001b[0m  0  0  0  \u001b[92m1\u001b[0m  0  0  0  0  0  0  0  0  0  0  \u001b[92m1\u001b[0m  0  0  0  0  0  0  0  0  0  0  0  0  \n",
            "0  0  0  0  0  \u001b[92m1\u001b[0m  0  0  0  \u001b[92m1\u001b[0m  0  0  0  0  0  0  0  \u001b[92m1\u001b[0m  0  0  0  0  0  0  0  0  0  0  \n",
            "0  0  0  0  0  0  0  0  0  0  0  0  \u001b[92m1\u001b[0m  0  0  \u001b[92m1\u001b[0m  0  0  0  0  0  0  0  \u001b[92m1\u001b[0m  0  0  0  0  \n",
            "0  0  0  0  0  0  0  0  0  \u001b[92m1\u001b[0m  0  0  0  \u001b[92m1\u001b[0m  0  0  \u001b[92m1\u001b[0m  0  0  \u001b[92m1\u001b[0m  0  0  0  0  0  0  0  0  \n",
            "0  0  0  0  0  0  0  0  0  0  0  0  0  0  \u001b[92m1\u001b[0m  0  0  0  0  0  0  \u001b[92m1\u001b[0m  0  0  0  0  0  0  \n",
            "0  0  0  0  0  0  \u001b[92m1\u001b[0m  \u001b[92m1\u001b[0m  0  0  \u001b[92m1\u001b[0m  0  0  0  0  0  0  0  0  0  0  0  0  0  0  \u001b[92m1\u001b[0m  0  0  \n",
            "0  0  \u001b[92m1\u001b[0m  0  0  0  0  0  0  0  0  0  0  0  0  0  0  0  \u001b[1;02;31m1\u001b[0m  0  0  0  0  0  0  0  0  0  \n",
            "0  0  \u001b[92m1\u001b[0m  0  0  \u001b[92m1\u001b[0m  0  0  0  0  0  0  0  0  0  0  0  0  0  0  0  0  0  \u001b[92m1\u001b[0m  0  0  0  0  \n",
            "0  \u001b[92m1\u001b[0m  0  0  \u001b[92m1\u001b[0m  0  \u001b[92m1\u001b[0m  \u001b[92m1\u001b[0m  0  0  0  \u001b[92m1\u001b[0m  0  0  0  0  0  0  0  0  0  0  0  0  0  0  0  \u001b[92m1\u001b[0m  \n",
            "0  0  0  0  0  0  0  0  0  \u001b[92m1\u001b[0m  0  0  0  0  0  0  \u001b[92m1\u001b[0m  0  0  0  0  0  0  0  \u001b[92m1\u001b[0m  \u001b[92m1\u001b[0m  0  0  \n",
            "0  \u001b[92m1\u001b[0m  0  0  0  0  0  0  0  0  0  0  0  \u001b[92m1\u001b[0m  0  0  0  0  \u001b[92m1\u001b[0m  \u001b[92m1\u001b[0m  \u001b[92m1\u001b[0m  0  0  0  \u001b[92m1\u001b[0m  \u001b[92m1\u001b[0m  0  0  \n",
            "0  \u001b[92m1\u001b[0m  0  0  0  0  0  0  \u001b[92m1\u001b[0m  \u001b[92m1\u001b[0m  0  0  0  0  0  0  0  \u001b[92m1\u001b[0m  \u001b[1;02;31m1\u001b[0m  \u001b[92m1\u001b[0m  \u001b[1;02;31m1\u001b[0m  0  \u001b[92m1\u001b[0m  0  \u001b[1;02;31m1\u001b[0m  \u001b[92m1\u001b[0m  0  0  \n",
            "\n"
          ]
        }
      ]
    },
    {
      "cell_type": "code",
      "source": [
        "\n",
        "import matplotlib.pyplot as plt\n",
        "\n",
        "# Uno de los frames\n",
        "# -----------------\n",
        "plt.imshow(X_obs[1].permute(1,2,0))\n",
        "plt.show()\n",
        "\n"
      ],
      "metadata": {
        "colab": {
          "base_uri": "https://localhost:8080/",
          "height": 430
        },
        "id": "LhIPqoE-PXrZ",
        "outputId": "38ff26cb-efff-4597-8c4f-7240712aded0"
      },
      "execution_count": 17,
      "outputs": [
        {
          "output_type": "display_data",
          "data": {
            "text/plain": [
              "<Figure size 640x480 with 1 Axes>"
            ],
            "image/png": "[encoded data removed]"
          },
          "metadata": {}
        }
      ]
    },
    {
      "cell_type": "code",
      "source": [
        "\n",
        "from sklearn.metrics import roc_curve\n",
        "\n",
        "# CURVA ROC  (Creo que son 'scores' lo que se le debe pasar\n",
        "# como segundo argumento. No sé si se puede hacer así)\n",
        "# ---------------------------------------------------------\n",
        "fpr, tpr, thresholds = roc_curve(data_obs, data_pred)\n",
        "#plt.plot(fpr, tpr, 'b:', label='Convolutional Neural Net')\n",
        "plt.plot(fpr, tpr, 'b:', label='Perceptron')\n",
        "plt.plot([0, 1], [0, 1], 'k--')\n",
        "#plt.axis([0, 1, 0, 1])     # Libro de Aurelien Geron\n",
        "plt.xlabel('False Positive Rate')\n",
        "plt.ylabel('True Positive Rate (Recall)')\n",
        "plt.grid(True)\n",
        "plt.legend(loc='lower right')\n",
        "plt.show()\n"
      ],
      "metadata": {
        "id": "WSInKZGWPXuR",
        "colab": {
          "base_uri": "https://localhost:8080/",
          "height": 449
        },
        "outputId": "2a38fef1-ee01-471e-a885-b89e69e3cc72"
      },
      "execution_count": 18,
      "outputs": [
        {
          "output_type": "display_data",
          "data": {
            "text/plain": [
              "<Figure size 640x480 with 1 Axes>"
            ],
            "image/png": "[encoded data removed]"
          },
          "metadata": {}
        }
      ]
    },
    {
      "cell_type": "code",
      "source": [],
      "metadata": {
        "id": "5g70_hFig8R4"
      },
      "execution_count": null,
      "outputs": []
    },
    {
      "cell_type": "code",
      "source": [
        "\n",
        "from sklearn.metrics import confusion_matrix\n",
        "\n",
        "torch.set_printoptions(precision=2)\n",
        "\n",
        "X_obs, y_obs = next(iter(dataloader['val']))\n",
        "y_probab = model(X_obs)\n",
        "y_predic = torch.argmax(softmax(y_probab), axis=1)\n",
        "\n",
        "# Utilizamos códigos para representar los colores y así identificar\n",
        "# mejor a los agentes en la predicción (agentes MUTANTES)\n",
        "red    = '\\033[91m'\n",
        "green  = '\\033[92m'\n",
        "black  = '\\x1b[0m'\n",
        "# También:\n",
        "red_bold  = '\\x1b[1;02;31m'\n",
        "green_bold = '\\x1b[1;02;32m'\n",
        "# Con fondo:\n",
        "red_bold_fondo  = '\\x1b[1;02;31;43m'\n",
        "green_bold_fondo = '\\x1b[1;02;32;43m'\n",
        "\n",
        "frame  = 2\n",
        "cadena = ''\n",
        "size_m = 3\n",
        "\n",
        "for i in range(size):\n",
        "  for j in range(size):\n",
        "    if (y_predic[frame,i,j] != y_obs[frame,i,j]) and (y_predic[frame,i,j] == 1):\n",
        "      cadena += red_bold_fondo + str(y_predic[frame,i,j].numpy()) + black + '  '\n",
        "    elif (y_predic[frame,i,j] != y_obs[frame,i,j]) and (y_predic[frame,i,j] == 0):\n",
        "      cadena += red_bold_fondo + '.' + black + '  '\n",
        "    elif (y_predic[frame,i,j] == y_obs[frame,i,j]) and (y_predic[frame,i,j] == 1):\n",
        "      cadena += green_bold + str(y_predic[frame,i,j].numpy()) + black + '  '\n",
        "    else:\n",
        "      cadena += str(y_predic[frame,i,j].numpy()) + '  '\n",
        "  cadena += '\\n'\n",
        "\n",
        "print(cadena)\n"
      ],
      "metadata": {
        "colab": {
          "base_uri": "https://localhost:8080/"
        },
        "id": "TPNBkuX7b1Bs",
        "outputId": "1e484dc6-8b2e-4d2b-9171-3416c602ecb9"
      },
      "execution_count": 19,
      "outputs": [
        {
          "output_type": "stream",
          "name": "stdout",
          "text": [
            "0  \u001b[1;02;32m1\u001b[0m  \u001b[1;02;31;43m1\u001b[0m  \u001b[1;02;32m1\u001b[0m  0  \u001b[1;02;32m1\u001b[0m  0  0  0  0  0  0  0  0  0  0  0  0  0  0  0  0  0  0  0  0  \u001b[1;02;32m1\u001b[0m  \u001b[1;02;32m1\u001b[0m  \n",
            "0  0  \u001b[1;02;32m1\u001b[0m  0  0  0  \u001b[1;02;32m1\u001b[0m  0  0  0  0  0  0  0  0  \u001b[1;02;32m1\u001b[0m  0  0  0  \u001b[1;02;32m1\u001b[0m  0  0  0  0  0  0  0  0  \n",
            "\u001b[1;02;32m1\u001b[0m  0  \u001b[1;02;32m1\u001b[0m  0  0  0  0  0  0  0  0  0  0  0  0  0  \u001b[1;02;32m1\u001b[0m  \u001b[1;02;32m1\u001b[0m  0  0  \u001b[1;02;32m1\u001b[0m  0  0  0  0  \u001b[1;02;32m1\u001b[0m  0  0  \n",
            "0  0  0  0  0  0  \u001b[1;02;32m1\u001b[0m  0  \u001b[1;02;32m1\u001b[0m  0  0  0  0  0  \u001b[1;02;32m1\u001b[0m  0  0  0  0  0  \u001b[1;02;32m1\u001b[0m  0  0  \u001b[1;02;32m1\u001b[0m  0  0  0  0  \n",
            "0  0  0  0  0  0  \u001b[1;02;32m1\u001b[0m  0  0  0  \u001b[1;02;32m1\u001b[0m  0  0  0  0  0  0  0  \u001b[1;02;32m1\u001b[0m  0  0  0  0  0  0  0  0  0  \n",
            "0  0  \u001b[1;02;32m1\u001b[0m  0  0  0  0  \u001b[1;02;32m1\u001b[0m  0  0  0  0  0  \u001b[1;02;32m1\u001b[0m  0  0  \u001b[1;02;32m1\u001b[0m  0  0  0  0  0  0  0  0  0  \u001b[1;02;32m1\u001b[0m  \u001b[1;02;31;43m1\u001b[0m  \n",
            "0  0  0  0  0  0  0  \u001b[1;02;32m1\u001b[0m  0  0  0  0  0  0  0  0  0  0  \u001b[1;02;32m1\u001b[0m  0  \u001b[1;02;32m1\u001b[0m  0  0  0  0  \u001b[1;02;32m1\u001b[0m  \u001b[1;02;32m1\u001b[0m  0  \n",
            "0  0  \u001b[1;02;32m1\u001b[0m  0  0  0  0  0  0  0  0  0  0  \u001b[1;02;32m1\u001b[0m  0  \u001b[1;02;32m1\u001b[0m  \u001b[1;02;32m1\u001b[0m  \u001b[1;02;32m1\u001b[0m  \u001b[1;02;32m1\u001b[0m  \u001b[1;02;32m1\u001b[0m  0  0  0  0  0  0  0  0  \n",
            "0  0  0  0  0  0  0  0  0  0  0  0  0  0  \u001b[1;02;32m1\u001b[0m  \u001b[1;02;32m1\u001b[0m  \u001b[1;02;31;43m1\u001b[0m  \u001b[1;02;31;43m1\u001b[0m  \u001b[1;02;31;43m1\u001b[0m  \u001b[1;02;32m1\u001b[0m  0  0  0  0  0  0  0  0  \n",
            "0  0  0  0  0  0  0  0  0  0  0  \u001b[1;02;32m1\u001b[0m  0  0  0  0  0  \u001b[1;02;32m1\u001b[0m  0  0  0  0  0  0  0  \u001b[1;02;32m1\u001b[0m  0  0  \n",
            "0  \u001b[1;02;32m1\u001b[0m  0  0  0  0  0  0  \u001b[1;02;32m1\u001b[0m  0  0  0  0  0  0  \u001b[1;02;32m1\u001b[0m  0  0  \u001b[1;02;32m1\u001b[0m  0  0  0  \u001b[1;02;32m1\u001b[0m  0  0  0  0  0  \n",
            "0  0  \u001b[1;02;32m1\u001b[0m  0  0  0  0  \u001b[1;02;32m1\u001b[0m  0  \u001b[1;02;32m1\u001b[0m  0  0  0  0  0  0  \u001b[1;02;32m1\u001b[0m  0  0  0  0  0  0  0  0  0  0  \u001b[1;02;32m1\u001b[0m  \n",
            "0  0  0  0  0  0  \u001b[1;02;32m1\u001b[0m  0  0  0  0  0  0  0  0  0  0  0  0  0  0  \u001b[1;02;32m1\u001b[0m  0  0  \u001b[1;02;32m1\u001b[0m  0  0  0  \n",
            "0  0  \u001b[1;02;32m1\u001b[0m  0  0  0  0  \u001b[1;02;32m1\u001b[0m  0  \u001b[1;02;31;43m1\u001b[0m  \u001b[1;02;32m1\u001b[0m  0  0  0  0  0  0  0  \u001b[1;02;32m1\u001b[0m  \u001b[1;02;32m1\u001b[0m  0  \u001b[1;02;32m1\u001b[0m  0  0  0  0  0  0  \n",
            "\u001b[1;02;32m1\u001b[0m  0  \u001b[1;02;32m1\u001b[0m  0  0  0  0  0  0  0  \u001b[1;02;31;43m1\u001b[0m  0  0  0  0  \u001b[1;02;32m1\u001b[0m  0  0  0  0  0  0  0  0  0  0  0  0  \n",
            "0  0  0  0  0  0  0  0  0  0  0  \u001b[1;02;32m1\u001b[0m  \u001b[1;02;32m1\u001b[0m  0  0  \u001b[1;02;32m1\u001b[0m  0  0  0  0  \u001b[1;02;32m1\u001b[0m  0  0  0  \u001b[1;02;32m1\u001b[0m  0  0  0  \n",
            "0  0  0  0  0  0  0  0  \u001b[1;02;32m1\u001b[0m  0  0  \u001b[1;02;32m1\u001b[0m  0  0  0  0  0  0  0  0  0  0  0  0  \u001b[1;02;32m1\u001b[0m  0  \u001b[1;02;32m1\u001b[0m  0  \n",
            "0  0  0  0  0  0  0  0  0  0  0  \u001b[1;02;32m1\u001b[0m  0  \u001b[1;02;32m1\u001b[0m  0  0  0  0  0  0  \u001b[1;02;32m1\u001b[0m  0  0  0  0  0  0  0  \n",
            "\u001b[1;02;32m1\u001b[0m  0  0  0  0  0  0  0  0  0  0  0  0  0  0  \u001b[1;02;32m1\u001b[0m  0  0  0  0  0  0  0  \u001b[1;02;32m1\u001b[0m  0  0  0  0  \n",
            "0  0  0  \u001b[1;02;32m1\u001b[0m  \u001b[1;02;32m1\u001b[0m  0  0  0  0  0  0  0  \u001b[1;02;32m1\u001b[0m  0  0  0  \u001b[1;02;32m1\u001b[0m  0  0  0  0  0  0  0  0  \u001b[1;02;32m1\u001b[0m  0  0  \n",
            "0  0  0  0  0  0  0  0  0  0  \u001b[1;02;32m1\u001b[0m  0  0  0  0  \u001b[1;02;32m1\u001b[0m  0  0  0  0  0  \u001b[1;02;32m1\u001b[0m  \u001b[1;02;32m1\u001b[0m  0  0  0  0  0  \n",
            "\u001b[1;02;32m1\u001b[0m  0  0  0  \u001b[1;02;32m1\u001b[0m  \u001b[1;02;32m1\u001b[0m  0  0  0  0  0  0  0  0  0  0  0  0  \u001b[1;02;32m1\u001b[0m  0  0  0  0  0  0  0  0  0  \n",
            "0  0  \u001b[1;02;32m1\u001b[0m  0  0  0  0  0  0  0  0  0  0  0  0  0  0  0  0  0  \u001b[1;02;32m1\u001b[0m  0  0  0  0  0  0  \u001b[1;02;32m1\u001b[0m  \n",
            "\u001b[1;02;32m1\u001b[0m  0  0  0  0  0  0  0  0  \u001b[1;02;32m1\u001b[0m  0  0  0  0  0  \u001b[1;02;32m1\u001b[0m  0  0  0  0  \u001b[1;02;32m1\u001b[0m  0  0  0  0  0  0  0  \n",
            "0  0  0  0  0  \u001b[1;02;32m1\u001b[0m  0  0  0  0  0  0  \u001b[1;02;32m1\u001b[0m  0  \u001b[1;02;32m1\u001b[0m  0  0  0  0  0  0  0  0  0  0  0  0  0  \n",
            "0  0  0  \u001b[1;02;32m1\u001b[0m  0  0  \u001b[1;02;32m1\u001b[0m  0  0  0  0  \u001b[1;02;32m1\u001b[0m  0  0  0  0  0  0  \u001b[1;02;32m1\u001b[0m  0  0  0  0  0  0  0  0  0  \n",
            "0  0  0  0  0  0  0  0  0  0  0  \u001b[1;02;32m1\u001b[0m  0  0  0  0  0  0  0  0  0  0  0  0  0  0  0  0  \n",
            "\u001b[1;02;32m1\u001b[0m  0  0  0  0  0  0  0  0  0  0  0  0  0  \u001b[1;02;32m1\u001b[0m  \u001b[1;02;32m1\u001b[0m  0  0  0  0  0  0  0  0  0  0  \u001b[1;02;32m1\u001b[0m  \u001b[1;02;31;43m1\u001b[0m  \n",
            "\n"
          ]
        }
      ]
    },
    {
      "cell_type": "code",
      "source": [],
      "metadata": {
        "id": "3ycEf4Q-b1Eu"
      },
      "execution_count": null,
      "outputs": []
    }
  ]
}