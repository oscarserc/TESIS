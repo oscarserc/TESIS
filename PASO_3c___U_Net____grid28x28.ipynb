{
  "nbformat": 4,
  "nbformat_minor": 0,
  "metadata": {
    "colab": {
      "provenance": [],
      "authorship_tag": "ABX9TyOZ5QWv3DV/+cPipZgDTwoW",
      "include_colab_link": true
    },
    "kernelspec": {
      "name": "python3",
      "display_name": "Python 3"
    },
    "language_info": {
      "name": "python"
    }
  },
  "cells": [
    {
      "cell_type": "markdown",
      "metadata": {
        "id": "view-in-github",
        "colab_type": "text"
      },
      "source": [
        "<a href=\"https://colab.research.google.com/github/oscarserc/TESIS/blob/main/PASO_3c___U_Net____grid28x28.ipynb\" target=\"_parent\"><img src=\"https://colab.research.google.com/assets/colab-badge.svg\" alt=\"Open In Colab\"/></a>"
      ]
    },
    {
      "cell_type": "markdown",
      "source": [
        "#**UTILIZACIÓN DE TÉCNICAS DE APRENDIZAJE AUTOMÁTICO PARA LA DETECCIÓN DE LOS NODOS CONFLICTIVOS EN UNA RED SOCIAL**.\n",
        "\n",
        "La base de datos que emplearemos puede llegar a unas 12.000 observaciones. El tamaño crece rápidamente. Por ejemplo 4000 observaciones son aproximadamente 50 MB.\n",
        "\n",
        "· Pruebas iniciales con: 4.000 observaciones\n",
        "\n",
        "· Para ello generamos una 100 **simulaciones**, y guardamos unos 40 **frames** de cada una de ellas\n",
        "\n",
        "· Además como **target** guardamos la matriz con la IDENTIDAD de todos y cada uno de los AGENTES.\n",
        "\n",
        "\n"
      ],
      "metadata": {
        "id": "Ck6WE2qgmKul"
      }
    },
    {
      "cell_type": "code",
      "source": [],
      "metadata": {
        "id": "yclIUzOWcSjy"
      },
      "execution_count": null,
      "outputs": []
    },
    {
      "cell_type": "code",
      "source": [],
      "metadata": {
        "id": "ijoWUtiKcSpa"
      },
      "execution_count": null,
      "outputs": []
    },
    {
      "cell_type": "markdown",
      "source": [
        "#**PRUEBA 3**: Utilizaremos una <font color='green'>**Arquitectura de RED NEURONAL U-Net**</font>. Planteamos el problema de localizar a los agentes influyentes como un problema de **Segmentación** de imágenes."
      ],
      "metadata": {
        "id": "Q1K5T8gmcRFa"
      }
    },
    {
      "cell_type": "markdown",
      "source": [
        "La estructura que hemos probado de partida está basada en el modelo U-Net <font color='blue'> [Ronneberger, O., Fischer, P., & Brox, T. (2015)]</font>, y podemos observarla a continuación."
      ],
      "metadata": {
        "id": "c6o0y1oWMNW1"
      }
    },
    {
      "cell_type": "markdown",
      "source": [
        "\n",
        "<figure>\n",
        "<center>\n",
        "<img src='https://github.com/oscarserc/IMAGENES/blob/main/U_Net_2b.png?raw=true' width=\"950\"/>\n",
        "<figcaption></figcaption></center>\n",
        "</figure>\n"
      ],
      "metadata": {
        "id": "MvELwqkCMTh9"
      }
    },
    {
      "cell_type": "markdown",
      "source": [
        "\n",
        "<b>Ref.:</b>\n",
        "\n",
        "Ronneberger, O., Fischer, P., & Brox, T. (2015, October)  <i>U-Net: Convolutional Networks for Biomedical\n",
        "Image Segmentation </i>\n",
        "https://arxiv.org/pdf/1505.04597v1.pdf\n",
        "\n",
        "\n",
        "<br></br>\n"
      ],
      "metadata": {
        "id": "vidNUVGfnmmb"
      }
    },
    {
      "cell_type": "markdown",
      "source": [
        "El archivo de prueba contiene 4000 simulaciones de una población de AGENTES EMOCIONALES y ACOSADORES, por lo que nos enfrentamos ante un problema de clasificación binaria de los nodos de la red. Lo resolvemos segmentando la imagen, generando una salida de la arquitectura neuronal como refleja la imagen superior."
      ],
      "metadata": {
        "id": "yRdNBkLRMmc8"
      }
    },
    {
      "cell_type": "markdown",
      "source": [
        "\n",
        "<figure>\n",
        "<center>\n",
        "<img src='https://github.com/oscarserc/IMAGENES/blob/main/Matriz_BD_1b.png?raw=true' width=\"950\"/>\n",
        "<figcaption></figcaption></center>\n",
        "</figure>\n",
        "\n"
      ],
      "metadata": {
        "id": "_WuC_yF0b42T"
      }
    },
    {
      "cell_type": "code",
      "source": [
        "\n",
        "#!pip install wget\n"
      ],
      "metadata": {
        "colab": {
          "base_uri": "https://localhost:8080/"
        },
        "id": "rM4KvyiWzVtP",
        "outputId": "46939449-991e-4ae0-b96a-89f1960b0975"
      },
      "execution_count": null,
      "outputs": [
        {
          "output_type": "stream",
          "name": "stdout",
          "text": [
            "Looking in indexes: https://pypi.org/simple, https://us-python.pkg.dev/colab-wheels/public/simple/\n",
            "Collecting wget\n",
            "  Downloading wget-3.2.zip (10 kB)\n",
            "Building wheels for collected packages: wget\n",
            "  Building wheel for wget (setup.py) ... \u001b[?25l\u001b[?25hdone\n",
            "  Created wheel for wget: filename=wget-3.2-py3-none-any.whl size=9674 sha256=34ae9b7ed2e2d7c4ff9a110c4ad41a3265116fe23aa91e62db75b49939f18283\n",
            "  Stored in directory: /root/.cache/pip/wheels/a1/b6/7c/0e63e34eb06634181c63adacca38b79ff8f35c37e3c13e3c02\n",
            "Successfully built wget\n",
            "Installing collected packages: wget\n",
            "Successfully installed wget-3.2\n"
          ]
        }
      ]
    },
    {
      "cell_type": "markdown",
      "source": [
        "Comenzamos el procesamiento de los datos con la lectura del archivo."
      ],
      "metadata": {
        "id": "kTt3GM8Ne_5m"
      }
    },
    {
      "cell_type": "code",
      "source": [
        "\n",
        "#import wget\n",
        "\n",
        "# Si usamos el REPOSITORIO para el almacenamiento de datos, creo que hay restricciones de espacio\n",
        "# si es muy grande el archivo no se puede\n",
        "\n",
        "# Subimos a los servidores de GOOGLE COOLAB la base de datos de PRUEBA (Acceso en el repositorio: View raw)\n",
        "# --------------------------------------------------------------------\n",
        "#url_simulaciones = 'https://raw.githubusercontent.com/oscarserc/BASE_de_DATOS/main/bd_combinado.csv'\n",
        "#wget.download(url_simulaciones)\n"
      ],
      "metadata": {
        "colab": {
          "base_uri": "https://localhost:8080/",
          "height": 35
        },
        "id": "FtVG9z7h5zKS",
        "outputId": "ea42f39f-44f8-443c-bfe6-d3483524976a"
      },
      "execution_count": null,
      "outputs": [
        {
          "output_type": "execute_result",
          "data": {
            "text/plain": [
              "'bd_combinado.csv'"
            ],
            "application/vnd.google.colaboratory.intrinsic+json": {
              "type": "string"
            }
          },
          "metadata": {},
          "execution_count": 7
        }
      ]
    },
    {
      "cell_type": "markdown",
      "source": [
        "Convertimos en un DATAFRAME y permutamos las filas."
      ],
      "metadata": {
        "id": "ovonVThA6bBh"
      }
    },
    {
      "cell_type": "code",
      "source": [
        "\n",
        "#import pandas as pd\n",
        "\n",
        "# Cargamos los datos\n",
        "# ------------------\n",
        "#bd_simulaciones = pd.read_csv('bd_combinado.csv')\n",
        "\n",
        "# Aleatorizamos\n",
        "# -------------\n",
        "#bd_simulaciones = bd_simulaciones.sample(frac=1).reset_index(drop=True)\n",
        "\n"
      ],
      "metadata": {
        "id": "xpykoNS6TjqF"
      },
      "execution_count": null,
      "outputs": []
    },
    {
      "cell_type": "code",
      "source": [],
      "metadata": {
        "id": "hNCUQxtvI5Xn"
      },
      "execution_count": null,
      "outputs": []
    },
    {
      "cell_type": "markdown",
      "source": [
        "Base de datos con simulaciones en un grid de <font color=\"green\"><b>28x28</b></font> (15% de agentes mutantes traidores)."
      ],
      "metadata": {
        "id": "t8__oUcB9Fte"
      }
    },
    {
      "cell_type": "code",
      "source": [
        "\n",
        "import pandas as pd\n",
        "\n",
        "# CARGAMOS LA BASE DE DATOS SIN PERMUTAR LAS FILAS (grid de 28x28, y población 85-15 emocionales/mutantes)\n",
        "# ------------------------------------------------\n",
        "bd_simulaciones = pd.read_csv('bd_100simulaciones_28x28_emo85_vs_15.csv')\n",
        "\n",
        "# Aleatorizamos\n",
        "# -------------\n",
        "#bd_simulaciones = bd_simulaciones.sample(frac=1).reset_index(drop=True)\n"
      ],
      "metadata": {
        "id": "PyR9N2Ex9CD_"
      },
      "execution_count": null,
      "outputs": []
    },
    {
      "cell_type": "code",
      "source": [
        "\n",
        "bd_simulaciones\n"
      ],
      "metadata": {
        "id": "9pMwKXQm9CJX",
        "colab": {
          "base_uri": "https://localhost:8080/",
          "height": 597
        },
        "outputId": "291acd3a-e88d-4d56-849a-5aed08dbb0db"
      },
      "execution_count": null,
      "outputs": [
        {
          "output_type": "execute_result",
          "data": {
            "text/plain": [
              "            r0        r1   r2   r3   r4   r5   r6   r7   r8   r9  ...  b777  \\\n",
              "0     0.666667  0.701176  0.4  0.0  0.0  0.0  0.0  0.0  0.0  0.2  ...   0.4   \n",
              "1     1.000000  1.000000  0.4  0.0  0.0  0.0  0.0  0.0  0.0  0.2  ...   0.4   \n",
              "2     1.000000  1.000000  0.2  0.0  0.0  0.0  0.0  0.0  0.0  0.2  ...   0.4   \n",
              "3     0.666667  0.701176  0.4  0.0  0.0  0.0  0.0  0.0  0.0  0.2  ...   0.4   \n",
              "4     1.000000  1.000000  0.2  0.0  0.0  0.0  0.0  0.0  0.0  0.2  ...   0.4   \n",
              "...        ...       ...  ...  ...  ...  ...  ...  ...  ...  ...  ...   ...   \n",
              "3995  0.333333  0.200000  0.0  0.0  0.0  0.0  0.0  0.0  0.0  0.0  ...   0.0   \n",
              "3996  0.333333  0.200000  0.0  0.0  0.0  0.0  0.0  0.0  0.0  0.0  ...   0.0   \n",
              "3997  0.333333  0.200000  0.0  0.0  0.0  0.0  0.0  0.0  0.0  0.0  ...   0.0   \n",
              "3998  0.333333  0.200000  0.0  0.0  0.0  0.0  0.0  0.0  0.0  0.0  ...   0.0   \n",
              "3999  0.333333  0.200000  0.0  0.0  0.0  0.0  0.0  0.0  0.0  0.0  ...   0.0   \n",
              "\n",
              "      b778  b779  b780  b781  b782  b783  Simulacion_ID  Frame  \\\n",
              "0      0.4   0.2   0.0   0.0   0.0   0.0              1      1   \n",
              "1      0.4   0.2   0.0   0.0   0.0   0.0              1      2   \n",
              "2      0.4   0.2   0.0   0.0   0.0   0.0              1      3   \n",
              "3      0.4   0.2   0.0   0.0   0.0   0.0              1      4   \n",
              "4      0.4   0.2   0.0   0.0   0.0   0.0              1      5   \n",
              "...    ...   ...   ...   ...   ...   ...            ...    ...   \n",
              "3995   0.0   0.0   0.0   0.0   0.0   0.0            100     36   \n",
              "3996   0.0   0.0   0.0   0.0   0.0   0.0            100     37   \n",
              "3997   0.0   0.0   0.0   0.0   0.0   0.0            100     38   \n",
              "3998   0.0   0.0   0.0   0.0   0.0   0.0            100     39   \n",
              "3999   0.0   0.0   0.0   0.0   0.0   0.0            100     40   \n",
              "\n",
              "                                                 Target  \n",
              "0     [1, 0, 0, 0, 0, 0, 0, 0, 0, 0, 1, 0, 0, 0, 0, ...  \n",
              "1     [1, 0, 0, 0, 0, 0, 0, 0, 0, 0, 1, 0, 0, 0, 0, ...  \n",
              "2     [1, 0, 0, 0, 0, 0, 0, 0, 0, 0, 1, 0, 0, 0, 0, ...  \n",
              "3     [1, 0, 0, 0, 0, 0, 0, 0, 0, 0, 1, 0, 0, 0, 0, ...  \n",
              "4     [1, 0, 0, 0, 0, 0, 0, 0, 0, 0, 1, 0, 0, 0, 0, ...  \n",
              "...                                                 ...  \n",
              "3995  [0, 0, 0, 0, 0, 0, 0, 0, 0, 0, 0, 0, 0, 0, 1, ...  \n",
              "3996  [0, 0, 0, 0, 0, 0, 0, 0, 0, 0, 0, 0, 0, 0, 1, ...  \n",
              "3997  [0, 0, 0, 0, 0, 0, 0, 0, 0, 0, 0, 0, 0, 0, 1, ...  \n",
              "3998  [0, 0, 0, 0, 0, 0, 0, 0, 0, 0, 0, 0, 0, 0, 1, ...  \n",
              "3999  [0, 0, 0, 0, 0, 0, 0, 0, 0, 0, 0, 0, 0, 0, 1, ...  \n",
              "\n",
              "[4000 rows x 2355 columns]"
            ],
            "text/html": [
              "\n",
              "  <div id=\"df-a3ec7b4d-89f6-4e0f-bd65-1f587941c783\" class=\"colab-df-container\">\n",
              "    <div>\n",
              "<style scoped>\n",
              "    .dataframe tbody tr th:only-of-type {\n",
              "        vertical-align: middle;\n",
              "    }\n",
              "\n",
              "    .dataframe tbody tr th {\n",
              "        vertical-align: top;\n",
              "    }\n",
              "\n",
              "    .dataframe thead th {\n",
              "        text-align: right;\n",
              "    }\n",
              "</style>\n",
              "<table border=\"1\" class=\"dataframe\">\n",
              "  <thead>\n",
              "    <tr style=\"text-align: right;\">\n",
              "      <th></th>\n",
              "      <th>r0</th>\n",
              "      <th>r1</th>\n",
              "      <th>r2</th>\n",
              "      <th>r3</th>\n",
              "      <th>r4</th>\n",
              "      <th>r5</th>\n",
              "      <th>r6</th>\n",
              "      <th>r7</th>\n",
              "      <th>r8</th>\n",
              "      <th>r9</th>\n",
              "      <th>...</th>\n",
              "      <th>b777</th>\n",
              "      <th>b778</th>\n",
              "      <th>b779</th>\n",
              "      <th>b780</th>\n",
              "      <th>b781</th>\n",
              "      <th>b782</th>\n",
              "      <th>b783</th>\n",
              "      <th>Simulacion_ID</th>\n",
              "      <th>Frame</th>\n",
              "      <th>Target</th>\n",
              "    </tr>\n",
              "  </thead>\n",
              "  <tbody>\n",
              "    <tr>\n",
              "      <th>0</th>\n",
              "      <td>0.666667</td>\n",
              "      <td>0.701176</td>\n",
              "      <td>0.4</td>\n",
              "      <td>0.0</td>\n",
              "      <td>0.0</td>\n",
              "      <td>0.0</td>\n",
              "      <td>0.0</td>\n",
              "      <td>0.0</td>\n",
              "      <td>0.0</td>\n",
              "      <td>0.2</td>\n",
              "      <td>...</td>\n",
              "      <td>0.4</td>\n",
              "      <td>0.4</td>\n",
              "      <td>0.2</td>\n",
              "      <td>0.0</td>\n",
              "      <td>0.0</td>\n",
              "      <td>0.0</td>\n",
              "      <td>0.0</td>\n",
              "      <td>1</td>\n",
              "      <td>1</td>\n",
              "      <td>[1, 0, 0, 0, 0, 0, 0, 0, 0, 0, 1, 0, 0, 0, 0, ...</td>\n",
              "    </tr>\n",
              "    <tr>\n",
              "      <th>1</th>\n",
              "      <td>1.000000</td>\n",
              "      <td>1.000000</td>\n",
              "      <td>0.4</td>\n",
              "      <td>0.0</td>\n",
              "      <td>0.0</td>\n",
              "      <td>0.0</td>\n",
              "      <td>0.0</td>\n",
              "      <td>0.0</td>\n",
              "      <td>0.0</td>\n",
              "      <td>0.2</td>\n",
              "      <td>...</td>\n",
              "      <td>0.4</td>\n",
              "      <td>0.4</td>\n",
              "      <td>0.2</td>\n",
              "      <td>0.0</td>\n",
              "      <td>0.0</td>\n",
              "      <td>0.0</td>\n",
              "      <td>0.0</td>\n",
              "      <td>1</td>\n",
              "      <td>2</td>\n",
              "      <td>[1, 0, 0, 0, 0, 0, 0, 0, 0, 0, 1, 0, 0, 0, 0, ...</td>\n",
              "    </tr>\n",
              "    <tr>\n",
              "      <th>2</th>\n",
              "      <td>1.000000</td>\n",
              "      <td>1.000000</td>\n",
              "      <td>0.2</td>\n",
              "      <td>0.0</td>\n",
              "      <td>0.0</td>\n",
              "      <td>0.0</td>\n",
              "      <td>0.0</td>\n",
              "      <td>0.0</td>\n",
              "      <td>0.0</td>\n",
              "      <td>0.2</td>\n",
              "      <td>...</td>\n",
              "      <td>0.4</td>\n",
              "      <td>0.4</td>\n",
              "      <td>0.2</td>\n",
              "      <td>0.0</td>\n",
              "      <td>0.0</td>\n",
              "      <td>0.0</td>\n",
              "      <td>0.0</td>\n",
              "      <td>1</td>\n",
              "      <td>3</td>\n",
              "      <td>[1, 0, 0, 0, 0, 0, 0, 0, 0, 0, 1, 0, 0, 0, 0, ...</td>\n",
              "    </tr>\n",
              "    <tr>\n",
              "      <th>3</th>\n",
              "      <td>0.666667</td>\n",
              "      <td>0.701176</td>\n",
              "      <td>0.4</td>\n",
              "      <td>0.0</td>\n",
              "      <td>0.0</td>\n",
              "      <td>0.0</td>\n",
              "      <td>0.0</td>\n",
              "      <td>0.0</td>\n",
              "      <td>0.0</td>\n",
              "      <td>0.2</td>\n",
              "      <td>...</td>\n",
              "      <td>0.4</td>\n",
              "      <td>0.4</td>\n",
              "      <td>0.2</td>\n",
              "      <td>0.0</td>\n",
              "      <td>0.0</td>\n",
              "      <td>0.0</td>\n",
              "      <td>0.0</td>\n",
              "      <td>1</td>\n",
              "      <td>4</td>\n",
              "      <td>[1, 0, 0, 0, 0, 0, 0, 0, 0, 0, 1, 0, 0, 0, 0, ...</td>\n",
              "    </tr>\n",
              "    <tr>\n",
              "      <th>4</th>\n",
              "      <td>1.000000</td>\n",
              "      <td>1.000000</td>\n",
              "      <td>0.2</td>\n",
              "      <td>0.0</td>\n",
              "      <td>0.0</td>\n",
              "      <td>0.0</td>\n",
              "      <td>0.0</td>\n",
              "      <td>0.0</td>\n",
              "      <td>0.0</td>\n",
              "      <td>0.2</td>\n",
              "      <td>...</td>\n",
              "      <td>0.4</td>\n",
              "      <td>0.4</td>\n",
              "      <td>0.2</td>\n",
              "      <td>0.0</td>\n",
              "      <td>0.0</td>\n",
              "      <td>0.0</td>\n",
              "      <td>0.0</td>\n",
              "      <td>1</td>\n",
              "      <td>5</td>\n",
              "      <td>[1, 0, 0, 0, 0, 0, 0, 0, 0, 0, 1, 0, 0, 0, 0, ...</td>\n",
              "    </tr>\n",
              "    <tr>\n",
              "      <th>...</th>\n",
              "      <td>...</td>\n",
              "      <td>...</td>\n",
              "      <td>...</td>\n",
              "      <td>...</td>\n",
              "      <td>...</td>\n",
              "      <td>...</td>\n",
              "      <td>...</td>\n",
              "      <td>...</td>\n",
              "      <td>...</td>\n",
              "      <td>...</td>\n",
              "      <td>...</td>\n",
              "      <td>...</td>\n",
              "      <td>...</td>\n",
              "      <td>...</td>\n",
              "      <td>...</td>\n",
              "      <td>...</td>\n",
              "      <td>...</td>\n",
              "      <td>...</td>\n",
              "      <td>...</td>\n",
              "      <td>...</td>\n",
              "      <td>...</td>\n",
              "    </tr>\n",
              "    <tr>\n",
              "      <th>3995</th>\n",
              "      <td>0.333333</td>\n",
              "      <td>0.200000</td>\n",
              "      <td>0.0</td>\n",
              "      <td>0.0</td>\n",
              "      <td>0.0</td>\n",
              "      <td>0.0</td>\n",
              "      <td>0.0</td>\n",
              "      <td>0.0</td>\n",
              "      <td>0.0</td>\n",
              "      <td>0.0</td>\n",
              "      <td>...</td>\n",
              "      <td>0.0</td>\n",
              "      <td>0.0</td>\n",
              "      <td>0.0</td>\n",
              "      <td>0.0</td>\n",
              "      <td>0.0</td>\n",
              "      <td>0.0</td>\n",
              "      <td>0.0</td>\n",
              "      <td>100</td>\n",
              "      <td>36</td>\n",
              "      <td>[0, 0, 0, 0, 0, 0, 0, 0, 0, 0, 0, 0, 0, 0, 1, ...</td>\n",
              "    </tr>\n",
              "    <tr>\n",
              "      <th>3996</th>\n",
              "      <td>0.333333</td>\n",
              "      <td>0.200000</td>\n",
              "      <td>0.0</td>\n",
              "      <td>0.0</td>\n",
              "      <td>0.0</td>\n",
              "      <td>0.0</td>\n",
              "      <td>0.0</td>\n",
              "      <td>0.0</td>\n",
              "      <td>0.0</td>\n",
              "      <td>0.0</td>\n",
              "      <td>...</td>\n",
              "      <td>0.0</td>\n",
              "      <td>0.0</td>\n",
              "      <td>0.0</td>\n",
              "      <td>0.0</td>\n",
              "      <td>0.0</td>\n",
              "      <td>0.0</td>\n",
              "      <td>0.0</td>\n",
              "      <td>100</td>\n",
              "      <td>37</td>\n",
              "      <td>[0, 0, 0, 0, 0, 0, 0, 0, 0, 0, 0, 0, 0, 0, 1, ...</td>\n",
              "    </tr>\n",
              "    <tr>\n",
              "      <th>3997</th>\n",
              "      <td>0.333333</td>\n",
              "      <td>0.200000</td>\n",
              "      <td>0.0</td>\n",
              "      <td>0.0</td>\n",
              "      <td>0.0</td>\n",
              "      <td>0.0</td>\n",
              "      <td>0.0</td>\n",
              "      <td>0.0</td>\n",
              "      <td>0.0</td>\n",
              "      <td>0.0</td>\n",
              "      <td>...</td>\n",
              "      <td>0.0</td>\n",
              "      <td>0.0</td>\n",
              "      <td>0.0</td>\n",
              "      <td>0.0</td>\n",
              "      <td>0.0</td>\n",
              "      <td>0.0</td>\n",
              "      <td>0.0</td>\n",
              "      <td>100</td>\n",
              "      <td>38</td>\n",
              "      <td>[0, 0, 0, 0, 0, 0, 0, 0, 0, 0, 0, 0, 0, 0, 1, ...</td>\n",
              "    </tr>\n",
              "    <tr>\n",
              "      <th>3998</th>\n",
              "      <td>0.333333</td>\n",
              "      <td>0.200000</td>\n",
              "      <td>0.0</td>\n",
              "      <td>0.0</td>\n",
              "      <td>0.0</td>\n",
              "      <td>0.0</td>\n",
              "      <td>0.0</td>\n",
              "      <td>0.0</td>\n",
              "      <td>0.0</td>\n",
              "      <td>0.0</td>\n",
              "      <td>...</td>\n",
              "      <td>0.0</td>\n",
              "      <td>0.0</td>\n",
              "      <td>0.0</td>\n",
              "      <td>0.0</td>\n",
              "      <td>0.0</td>\n",
              "      <td>0.0</td>\n",
              "      <td>0.0</td>\n",
              "      <td>100</td>\n",
              "      <td>39</td>\n",
              "      <td>[0, 0, 0, 0, 0, 0, 0, 0, 0, 0, 0, 0, 0, 0, 1, ...</td>\n",
              "    </tr>\n",
              "    <tr>\n",
              "      <th>3999</th>\n",
              "      <td>0.333333</td>\n",
              "      <td>0.200000</td>\n",
              "      <td>0.0</td>\n",
              "      <td>0.0</td>\n",
              "      <td>0.0</td>\n",
              "      <td>0.0</td>\n",
              "      <td>0.0</td>\n",
              "      <td>0.0</td>\n",
              "      <td>0.0</td>\n",
              "      <td>0.0</td>\n",
              "      <td>...</td>\n",
              "      <td>0.0</td>\n",
              "      <td>0.0</td>\n",
              "      <td>0.0</td>\n",
              "      <td>0.0</td>\n",
              "      <td>0.0</td>\n",
              "      <td>0.0</td>\n",
              "      <td>0.0</td>\n",
              "      <td>100</td>\n",
              "      <td>40</td>\n",
              "      <td>[0, 0, 0, 0, 0, 0, 0, 0, 0, 0, 0, 0, 0, 0, 1, ...</td>\n",
              "    </tr>\n",
              "  </tbody>\n",
              "</table>\n",
              "<p>4000 rows × 2355 columns</p>\n",
              "</div>\n",
              "    <div class=\"colab-df-buttons\">\n",
              "\n",
              "  <div class=\"colab-df-container\">\n",
              "    <button class=\"colab-df-convert\" onclick=\"convertToInteractive('df-a3ec7b4d-89f6-4e0f-bd65-1f587941c783')\"\n",
              "            title=\"Convert this dataframe to an interactive table.\"\n",
              "            style=\"display:none;\">\n",
              "\n",
              "  <svg xmlns=\"http://www.w3.org/2000/svg\" height=\"24px\" viewBox=\"0 -960 960 960\">\n",
              "    <path d=\"M120-120v-720h720v720H120Zm60-500h600v-160H180v160Zm220 220h160v-160H400v160Zm0 220h160v-160H400v160ZM180-400h160v-160H180v160Zm440 0h160v-160H620v160ZM180-180h160v-160H180v160Zm440 0h160v-160H620v160Z\"/>\n",
              "  </svg>\n",
              "    </button>\n",
              "\n",
              "  <style>\n",
              "    .colab-df-container {\n",
              "      display:flex;\n",
              "      gap: 12px;\n",
              "    }\n",
              "\n",
              "    .colab-df-convert {\n",
              "      background-color: #E8F0FE;\n",
              "      border: none;\n",
              "      border-radius: 50%;\n",
              "      cursor: pointer;\n",
              "      display: none;\n",
              "      fill: #1967D2;\n",
              "      height: 32px;\n",
              "      padding: 0 0 0 0;\n",
              "      width: 32px;\n",
              "    }\n",
              "\n",
              "    .colab-df-convert:hover {\n",
              "      background-color: #E2EBFA;\n",
              "      box-shadow: 0px 1px 2px rgba(60, 64, 67, 0.3), 0px 1px 3px 1px rgba(60, 64, 67, 0.15);\n",
              "      fill: #174EA6;\n",
              "    }\n",
              "\n",
              "    .colab-df-buttons div {\n",
              "      margin-bottom: 4px;\n",
              "    }\n",
              "\n",
              "    [theme=dark] .colab-df-convert {\n",
              "      background-color: #3B4455;\n",
              "      fill: #D2E3FC;\n",
              "    }\n",
              "\n",
              "    [theme=dark] .colab-df-convert:hover {\n",
              "      background-color: #434B5C;\n",
              "      box-shadow: 0px 1px 3px 1px rgba(0, 0, 0, 0.15);\n",
              "      filter: drop-shadow(0px 1px 2px rgba(0, 0, 0, 0.3));\n",
              "      fill: #FFFFFF;\n",
              "    }\n",
              "  </style>\n",
              "\n",
              "    <script>\n",
              "      const buttonEl =\n",
              "        document.querySelector('#df-a3ec7b4d-89f6-4e0f-bd65-1f587941c783 button.colab-df-convert');\n",
              "      buttonEl.style.display =\n",
              "        google.colab.kernel.accessAllowed ? 'block' : 'none';\n",
              "\n",
              "      async function convertToInteractive(key) {\n",
              "        const element = document.querySelector('#df-a3ec7b4d-89f6-4e0f-bd65-1f587941c783');\n",
              "        const dataTable =\n",
              "          await google.colab.kernel.invokeFunction('convertToInteractive',\n",
              "                                                    [key], {});\n",
              "        if (!dataTable) return;\n",
              "\n",
              "        const docLinkHtml = 'Like what you see? Visit the ' +\n",
              "          '<a target=\"_blank\" href=https://colab.research.google.com/notebooks/data_table.ipynb>data table notebook</a>'\n",
              "          + ' to learn more about interactive tables.';\n",
              "        element.innerHTML = '';\n",
              "        dataTable['output_type'] = 'display_data';\n",
              "        await google.colab.output.renderOutput(dataTable, element);\n",
              "        const docLink = document.createElement('div');\n",
              "        docLink.innerHTML = docLinkHtml;\n",
              "        element.appendChild(docLink);\n",
              "      }\n",
              "    </script>\n",
              "  </div>\n",
              "\n",
              "\n",
              "    <div id=\"df-174397d7-ed5a-4c15-8dbc-3c244a28a113\">\n",
              "      <button class=\"colab-df-quickchart\" onclick=\"quickchart('df-174397d7-ed5a-4c15-8dbc-3c244a28a113')\"\n",
              "                title=\"Suggest charts\"\n",
              "                style=\"display:none;\">\n",
              "\n",
              "<svg xmlns=\"http://www.w3.org/2000/svg\" height=\"24px\"viewBox=\"0 0 24 24\"\n",
              "     width=\"24px\">\n",
              "    <g>\n",
              "        <path d=\"M19 3H5c-1.1 0-2 .9-2 2v14c0 1.1.9 2 2 2h14c1.1 0 2-.9 2-2V5c0-1.1-.9-2-2-2zM9 17H7v-7h2v7zm4 0h-2V7h2v10zm4 0h-2v-4h2v4z\"/>\n",
              "    </g>\n",
              "</svg>\n",
              "      </button>\n",
              "\n",
              "<style>\n",
              "  .colab-df-quickchart {\n",
              "      --bg-color: #E8F0FE;\n",
              "      --fill-color: #1967D2;\n",
              "      --hover-bg-color: #E2EBFA;\n",
              "      --hover-fill-color: #174EA6;\n",
              "      --disabled-fill-color: #AAA;\n",
              "      --disabled-bg-color: #DDD;\n",
              "  }\n",
              "\n",
              "  [theme=dark] .colab-df-quickchart {\n",
              "      --bg-color: #3B4455;\n",
              "      --fill-color: #D2E3FC;\n",
              "      --hover-bg-color: #434B5C;\n",
              "      --hover-fill-color: #FFFFFF;\n",
              "      --disabled-bg-color: #3B4455;\n",
              "      --disabled-fill-color: #666;\n",
              "  }\n",
              "\n",
              "  .colab-df-quickchart {\n",
              "    background-color: var(--bg-color);\n",
              "    border: none;\n",
              "    border-radius: 50%;\n",
              "    cursor: pointer;\n",
              "    display: none;\n",
              "    fill: var(--fill-color);\n",
              "    height: 32px;\n",
              "    padding: 0;\n",
              "    width: 32px;\n",
              "  }\n",
              "\n",
              "  .colab-df-quickchart:hover {\n",
              "    background-color: var(--hover-bg-color);\n",
              "    box-shadow: 0 1px 2px rgba(60, 64, 67, 0.3), 0 1px 3px 1px rgba(60, 64, 67, 0.15);\n",
              "    fill: var(--button-hover-fill-color);\n",
              "  }\n",
              "\n",
              "  .colab-df-quickchart-complete:disabled,\n",
              "  .colab-df-quickchart-complete:disabled:hover {\n",
              "    background-color: var(--disabled-bg-color);\n",
              "    fill: var(--disabled-fill-color);\n",
              "    box-shadow: none;\n",
              "  }\n",
              "\n",
              "  .colab-df-spinner {\n",
              "    border: 2px solid var(--fill-color);\n",
              "    border-color: transparent;\n",
              "    border-bottom-color: var(--fill-color);\n",
              "    animation:\n",
              "      spin 1s steps(1) infinite;\n",
              "  }\n",
              "\n",
              "  @keyframes spin {\n",
              "    0% {\n",
              "      border-color: transparent;\n",
              "      border-bottom-color: var(--fill-color);\n",
              "      border-left-color: var(--fill-color);\n",
              "    }\n",
              "    20% {\n",
              "      border-color: transparent;\n",
              "      border-left-color: var(--fill-color);\n",
              "      border-top-color: var(--fill-color);\n",
              "    }\n",
              "    30% {\n",
              "      border-color: transparent;\n",
              "      border-left-color: var(--fill-color);\n",
              "      border-top-color: var(--fill-color);\n",
              "      border-right-color: var(--fill-color);\n",
              "    }\n",
              "    40% {\n",
              "      border-color: transparent;\n",
              "      border-right-color: var(--fill-color);\n",
              "      border-top-color: var(--fill-color);\n",
              "    }\n",
              "    60% {\n",
              "      border-color: transparent;\n",
              "      border-right-color: var(--fill-color);\n",
              "    }\n",
              "    80% {\n",
              "      border-color: transparent;\n",
              "      border-right-color: var(--fill-color);\n",
              "      border-bottom-color: var(--fill-color);\n",
              "    }\n",
              "    90% {\n",
              "      border-color: transparent;\n",
              "      border-bottom-color: var(--fill-color);\n",
              "    }\n",
              "  }\n",
              "</style>\n",
              "\n",
              "      <script>\n",
              "        async function quickchart(key) {\n",
              "          const quickchartButtonEl =\n",
              "            document.querySelector('#' + key + ' button');\n",
              "          quickchartButtonEl.disabled = true;  // To prevent multiple clicks.\n",
              "          quickchartButtonEl.classList.add('colab-df-spinner');\n",
              "          try {\n",
              "            const charts = await google.colab.kernel.invokeFunction(\n",
              "                'suggestCharts', [key], {});\n",
              "          } catch (error) {\n",
              "            console.error('Error during call to suggestCharts:', error);\n",
              "          }\n",
              "          quickchartButtonEl.classList.remove('colab-df-spinner');\n",
              "          quickchartButtonEl.classList.add('colab-df-quickchart-complete');\n",
              "        }\n",
              "        (() => {\n",
              "          let quickchartButtonEl =\n",
              "            document.querySelector('#df-174397d7-ed5a-4c15-8dbc-3c244a28a113 button');\n",
              "          quickchartButtonEl.style.display =\n",
              "            google.colab.kernel.accessAllowed ? 'block' : 'none';\n",
              "        })();\n",
              "      </script>\n",
              "    </div>\n",
              "\n",
              "  <div id=\"id_8ac051ee-2898-4b87-b38e-d2923c20c5d3\">\n",
              "    <style>\n",
              "      .colab-df-generate {\n",
              "        background-color: #E8F0FE;\n",
              "        border: none;\n",
              "        border-radius: 50%;\n",
              "        cursor: pointer;\n",
              "        display: none;\n",
              "        fill: #1967D2;\n",
              "        height: 32px;\n",
              "        padding: 0 0 0 0;\n",
              "        width: 32px;\n",
              "      }\n",
              "\n",
              "      .colab-df-generate:hover {\n",
              "        background-color: #E2EBFA;\n",
              "        box-shadow: 0px 1px 2px rgba(60, 64, 67, 0.3), 0px 1px 3px 1px rgba(60, 64, 67, 0.15);\n",
              "        fill: #174EA6;\n",
              "      }\n",
              "\n",
              "      [theme=dark] .colab-df-generate {\n",
              "        background-color: #3B4455;\n",
              "        fill: #D2E3FC;\n",
              "      }\n",
              "\n",
              "      [theme=dark] .colab-df-generate:hover {\n",
              "        background-color: #434B5C;\n",
              "        box-shadow: 0px 1px 3px 1px rgba(0, 0, 0, 0.15);\n",
              "        filter: drop-shadow(0px 1px 2px rgba(0, 0, 0, 0.3));\n",
              "        fill: #FFFFFF;\n",
              "      }\n",
              "    </style>\n",
              "    <button class=\"colab-df-generate\" onclick=\"generateWithVariable('bd_simulaciones')\"\n",
              "            title=\"Generate code using this dataframe.\"\n",
              "            style=\"display:none;\">\n",
              "\n",
              "  <svg xmlns=\"http://www.w3.org/2000/svg\" height=\"24px\"viewBox=\"0 0 24 24\"\n",
              "       width=\"24px\">\n",
              "    <path d=\"M7,19H8.4L18.45,9,17,7.55,7,17.6ZM5,21V16.75L18.45,3.32a2,2,0,0,1,2.83,0l1.4,1.43a1.91,1.91,0,0,1,.58,1.4,1.91,1.91,0,0,1-.58,1.4L9.25,21ZM18.45,9,17,7.55Zm-12,3A5.31,5.31,0,0,0,4.9,8.1,5.31,5.31,0,0,0,1,6.5,5.31,5.31,0,0,0,4.9,4.9,5.31,5.31,0,0,0,6.5,1,5.31,5.31,0,0,0,8.1,4.9,5.31,5.31,0,0,0,12,6.5,5.46,5.46,0,0,0,6.5,12Z\"/>\n",
              "  </svg>\n",
              "    </button>\n",
              "    <script>\n",
              "      (() => {\n",
              "      const buttonEl =\n",
              "        document.querySelector('#id_8ac051ee-2898-4b87-b38e-d2923c20c5d3 button.colab-df-generate');\n",
              "      buttonEl.style.display =\n",
              "        google.colab.kernel.accessAllowed ? 'block' : 'none';\n",
              "\n",
              "      buttonEl.onclick = () => {\n",
              "        google.colab.notebook.generateWithVariable('bd_simulaciones');\n",
              "      }\n",
              "      })();\n",
              "    </script>\n",
              "  </div>\n",
              "\n",
              "    </div>\n",
              "  </div>\n"
            ],
            "application/vnd.google.colaboratory.intrinsic+json": {
              "type": "dataframe",
              "variable_name": "bd_simulaciones"
            }
          },
          "metadata": {},
          "execution_count": 5
        }
      ]
    },
    {
      "cell_type": "code",
      "source": [],
      "metadata": {
        "id": "6UfO20T3I5aA"
      },
      "execution_count": null,
      "outputs": []
    },
    {
      "cell_type": "markdown",
      "source": [
        "<b><font color='red'>ACTUALIZACIÓN: </font></b>Base de datos con simulaciones en un grid de <b>28x28</b> (15% de agentes mutantes traidores)."
      ],
      "metadata": {
        "id": "PcFKnDJtzCI5"
      }
    },
    {
      "cell_type": "code",
      "source": [
        "\n",
        "import pandas as pd\n",
        "\n",
        "# Cargamos los datos\n",
        "# ------------------\n",
        "# Inicialmente hacía un MIX de pobación emo85/traidores15. Un poco en plan como\n",
        "# cuando se balancean clases, pero no es un problema de clasificación. En la realidad\n",
        "# no habrá poblaciones puras.\n",
        "# Antes hacía:\n",
        "#          1) Archivo con 100 simulaciones: emo85/traidores15 (4000 filas)\n",
        "#          2) Archivo con 100 simulaciones: emo100 (4000 filas)\n",
        "#          3) COMBINAR ambos archivos y aleatorizar\n",
        "#             salía un archivo final de: 8000 filas\n",
        "#\n",
        "# Parece que obedece mejor a la realidad aleatorizar en la generación de agentes,\n",
        "# y no generar un lote puro y combinarlo. Haríamos sólo el primer paso:\n",
        "#\n",
        "#            x ~ Binomial(numero_agentes, prob_mutar=0.15)\n",
        "#\n",
        "# Haré, por tanto, un primer intento: 100 SIMULACIONES, 4000 PASOS, 40 FRAMES\n",
        "bd_simulaciones = pd.read_csv('bd_100simulaciones_28x28_emo85_vs_15.csv')\n",
        "\n",
        "# Aleatorizamos\n",
        "# -------------\n",
        "bd_simulaciones = bd_simulaciones.sample(frac=1).reset_index(drop=True)\n"
      ],
      "metadata": {
        "id": "5Vkd4uyGy9Xy"
      },
      "execution_count": null,
      "outputs": []
    },
    {
      "cell_type": "code",
      "source": [],
      "metadata": {
        "id": "pQOvp-Hly9ad"
      },
      "execution_count": null,
      "outputs": []
    },
    {
      "cell_type": "markdown",
      "source": [
        "#Variables explicativas: **X**"
      ],
      "metadata": {
        "id": "LThBIWFVRxjO"
      }
    },
    {
      "cell_type": "code",
      "source": [
        "\n",
        "import matplotlib.pyplot as plt\n",
        "import numpy as np\n",
        "                                                                                       # 20 de Septiembre de 2025\n",
        "                                                                                       # Actualizo: AHORA SERÁN frames de 28 x 28\n",
        "size       = 28  # <-------------------------------------------------------------------- CUIDADO, VOY A CAMBIAR EL SIZE A '28'\n",
        "num_frames = 40\n",
        "df         = bd_simulaciones.copy()\n",
        "\n",
        "lista_frames = []\n",
        "X            = []\n",
        "\n",
        "nombre_columnas_ROJO  = ['r' + str(indice) for indice in range(size*size)]\n",
        "nombre_columnas_VERDE = ['g' + str(indice) for indice in range(size*size)]\n",
        "nombre_columnas_AZUL  = ['b' + str(indice) for indice in range(size*size)]\n",
        "\n",
        "\n",
        "for fila in range(len(bd_simulaciones)):\n",
        "  canal_r = pd.array(df[nombre_columnas_ROJO].iloc[fila]).reshape(size,size)\n",
        "  canal_v = pd.array(df[nombre_columnas_VERDE].iloc[fila]).reshape(size,size)\n",
        "  canal_a = pd.array(df[nombre_columnas_AZUL].iloc[fila]).reshape(size,size)\n",
        "\n",
        "  # CUIDADO que np.dstack apila los tres valores de cada pixel\n",
        "  # ----------------------------------------------------------\n",
        "  frame = np.array([canal_r, canal_v, canal_a])\n",
        "\n",
        "  lista_frames.append(frame)\n",
        "\n",
        "X = np.array(lista_frames)\n",
        "X.shape\n",
        "\n"
      ],
      "metadata": {
        "id": "tIZiaJ4MRyRN",
        "colab": {
          "base_uri": "https://localhost:8080/"
        },
        "outputId": "5f256803-0f6a-45d8-a71d-f795719bf5c1"
      },
      "execution_count": null,
      "outputs": [
        {
          "output_type": "execute_result",
          "data": {
            "text/plain": [
              "(4000, 3, 28, 28)"
            ]
          },
          "metadata": {},
          "execution_count": 28
        }
      ]
    },
    {
      "cell_type": "code",
      "source": [],
      "metadata": {
        "id": "8zR_CK4nRyVd"
      },
      "execution_count": null,
      "outputs": []
    },
    {
      "cell_type": "markdown",
      "source": [
        "#Target: **Y**."
      ],
      "metadata": {
        "id": "WTIC-OXDSEze"
      }
    },
    {
      "cell_type": "code",
      "source": [
        "\n",
        "lista_targets = []\n",
        "\n",
        "for fila in range(len(bd_simulaciones)):\n",
        "  lista_id_agentes = bd_simulaciones.iloc[fila]['Target'].replace('[','').replace(']','')\n",
        "  target = [int(caracter) for caracter in lista_id_agentes.split(',')]\n",
        "  target = np.array(target)\n",
        "  target = target.reshape(size,size)\n",
        "\n",
        "  # Con los paréntesis  '['  ']' sale de dimensión: (8000, 1, 10, 10)   # <-------------------------- Aquí ajusto la DIMENSIÓN\n",
        "  #lista_targets.append([target])\n",
        "  # Si queremos de dimensión: (8000, 10, 10)\n",
        "  lista_targets.append(target)\n",
        "\n",
        "Y = np.array(lista_targets)\n",
        "Y.shape\n",
        "\n"
      ],
      "metadata": {
        "id": "GFFRLjcqSFC9",
        "colab": {
          "base_uri": "https://localhost:8080/"
        },
        "outputId": "f71b0ff2-8e88-4f4c-cb31-7101792b44ee"
      },
      "execution_count": null,
      "outputs": [
        {
          "output_type": "execute_result",
          "data": {
            "text/plain": [
              "(4000, 28, 28)"
            ]
          },
          "metadata": {},
          "execution_count": 29
        }
      ]
    },
    {
      "cell_type": "code",
      "source": [],
      "metadata": {
        "id": "E_e8mKSvSFGF"
      },
      "execution_count": null,
      "outputs": []
    },
    {
      "cell_type": "markdown",
      "source": [
        "#**CONVERSIÓN EN TENSORES DE PyTorch**."
      ],
      "metadata": {
        "id": "GmYu9ojSSZdm"
      }
    },
    {
      "cell_type": "code",
      "source": [
        "\n",
        "import numpy as np\n",
        "import torch\n",
        "\n",
        "# PRIMERO TENEMOS QUE EXTRAER LA MATRIX:  X\n",
        "# y los valores del TARGET:               Y\n",
        "#\n",
        "# Luego pasaremos (X, Y) al Dataset que creamos a continuación.\n",
        "# --------------------------------------------------------------\n",
        "\n",
        "X_train = X\n",
        "Y_train = Y\n",
        "\n",
        "# CREAMOS UNA CLASE PARA LOS DATOS\n",
        "# ================================\n",
        "\n",
        "class Dataset_frames(torch.utils.data.Dataset):\n",
        "  def __init__(self, X, Y):\n",
        "    # self.X = torch.tensor(X).float()\n",
        "    self.X = torch.tensor(X).float()\n",
        "    self.Y = torch.tensor(Y).long()\n",
        "\n",
        "  def __len__(self):\n",
        "    return len(self.X)\n",
        "\n",
        "  def __getitem__(self, ix):\n",
        "    return self.X[ix], self.Y[ix]\n",
        "\n",
        "\n",
        "# SELECCIONANDO GRUPOS DE OBSERVACIONES PARA VALIDACIÓN\n",
        "# -----------------------------------------------------\n",
        "\n",
        "from sklearn.model_selection import train_test_split\n",
        "\n",
        "X_subset, X_val, Y_subset, Y_val = train_test_split(X_train, Y_train, test_size = 0.2)\n",
        "\n",
        "dataset = {\n",
        "    'train' : Dataset_frames(X_subset, Y_subset),\n",
        "    'val'   : Dataset_frames(X_val, Y_val)\n",
        "}\n",
        "\n",
        "dataloader = {\n",
        "    'train' : torch.utils.data.DataLoader(dataset['train'], batch_size=30,   shuffle=False),\n",
        "    'val'   : torch.utils.data.DataLoader(dataset['val'],   batch_size=30, shuffle=False)\n",
        "}\n"
      ],
      "metadata": {
        "id": "YONWWBBkSZ8e"
      },
      "execution_count": null,
      "outputs": []
    },
    {
      "cell_type": "code",
      "source": [
        "frames, mascara = next(iter(dataloader['train']))\n",
        "frames.shape, mascara.shape"
      ],
      "metadata": {
        "id": "lMA1mJ2rSc89",
        "colab": {
          "base_uri": "https://localhost:8080/"
        },
        "outputId": "ae10d018-73ce-4a00-8164-de9b2e122c4e"
      },
      "execution_count": null,
      "outputs": [
        {
          "output_type": "execute_result",
          "data": {
            "text/plain": [
              "(torch.Size([30, 3, 28, 28]), torch.Size([30, 28, 28]))"
            ]
          },
          "metadata": {},
          "execution_count": 31
        }
      ]
    },
    {
      "cell_type": "code",
      "source": [],
      "metadata": {
        "id": "FnA1ldWHSc_4"
      },
      "execution_count": null,
      "outputs": []
    },
    {
      "cell_type": "code",
      "source": [],
      "metadata": {
        "id": "F8n9vms2TDyc"
      },
      "execution_count": null,
      "outputs": []
    },
    {
      "cell_type": "markdown",
      "source": [
        "#**Modelo U-net** (Para la discriminación de 2 clases)."
      ],
      "metadata": {
        "id": "CQCAJuNoI6AX"
      }
    },
    {
      "cell_type": "code",
      "source": [
        "\n",
        "import torch\n",
        "import torch.nn.functional as F\n",
        "\n",
        "# --------------------------------------\n",
        "# Construimos dos funciones para generar\n",
        "# módulos para la Red\n",
        "# --------------------------------------\n",
        "def conv3x3_bn(canales_in, canales_out):\n",
        "  return torch.nn.Sequential(\n",
        "      torch.nn.Conv2d(canales_in, canales_out, 3, padding=1),\n",
        "      torch.nn.BatchNorm2d(canales_out),\n",
        "      torch.nn.ReLU(inplace=True)\n",
        "  )\n",
        "\n",
        "def encoder_conv(canales_in, canales_out):\n",
        "  return torch.nn.Sequential(\n",
        "      torch.nn.MaxPool2d(2),\n",
        "      conv3x3_bn(canales_in, canales_out),\n",
        "      conv3x3_bn(canales_out, canales_out)\n",
        "  )\n",
        "# ---------------------------------------\n",
        "\n",
        "\n",
        "\n",
        "# --------------\n",
        "#  CLASE DECONV\n",
        "# --------------\n",
        "class deconv(torch.nn.Module):\n",
        "  def __init__(self, canales_in, canales_out):\n",
        "    super(deconv, self).__init__()\n",
        "    self.upsample = torch.nn.ConvTranspose2d(canales_in, canales_out, 2, stride=2)\n",
        "    self.conv1    = conv3x3_bn(canales_in, canales_out)\n",
        "    self.conv2    = conv3x3_bn(canales_out, canales_out)\n",
        "\n",
        "  # Ahora tenemos que integrar:\n",
        "  #  · Salida de la capa previa\n",
        "  #  · Salida del encoder\n",
        "  def forward(self, x1, x2):\n",
        "    x1 = self.upsample(x1)\n",
        "    diffX = x2.size()[2] - x1.size()[2]\n",
        "    diffY = x2.size()[3] - x1.size()[3]\n",
        "    x1 = F.pad(x1, (diffX, 0, diffY, 0))\n",
        "    # Concatenamos los tensores\n",
        "    x = torch.cat([x2, x1], dim=1)\n",
        "    x = self.conv1(x)\n",
        "    x = self.conv2(x)\n",
        "    return x\n",
        "\n",
        "\n",
        "# ============\n",
        "#  CLASE Unet\n",
        "# ============\n",
        "class UNet(torch.nn.Module):\n",
        "  def __init__(self, n_classes=2, in_ch=3):        # <------------------------------------------------------------------- 2 clases y CREO QUE HAY QUE PONER 3 in\n",
        "    super().__init__()\n",
        "\n",
        "    # FILTROS en cada una de las CAPAS que se van a generar\n",
        "    filtros = [16, 32, 64, 128]\n",
        "\n",
        "    # PRIMERA CAPA conv\n",
        "    self.conv1 = torch.nn.Sequential(\n",
        "        conv3x3_bn(in_ch, filtros[0]),\n",
        "        conv3x3_bn(filtros[0], filtros[0])\n",
        "    )\n",
        "\n",
        "    # Capas del ENCODER\n",
        "    self.conv2 = encoder_conv(filtros[0], filtros[1])\n",
        "    self.conv3 = encoder_conv(filtros[1], filtros[2])\n",
        "    self.conv4 = encoder_conv(filtros[2], filtros[3])\n",
        "\n",
        "    # Capas del DECODER\n",
        "    self.deconv1 = deconv(filtros[3], filtros[2])\n",
        "    self.deconv2 = deconv(filtros[2], filtros[1])\n",
        "    self.deconv3 = deconv(filtros[1], filtros[0])\n",
        "\n",
        "    # ULTIMA CAPA CONV --> Nos da la MÁSCARA\n",
        "    self.out = torch.nn.Conv2d(filtros[0], n_classes, 3, padding=1)\n",
        "\n",
        "  def forward(self, x):\n",
        "    # ENCODER\n",
        "    x1 = self.conv1(x)\n",
        "    x2 = self.conv2(x1)\n",
        "    x3 = self.conv3(x2)\n",
        "    x  = self.conv4(x3)\n",
        "\n",
        "    # DECODER\n",
        "    x = self.deconv1(x, x3)\n",
        "    x = self.deconv2(x, x2)\n",
        "    x = self.deconv3(x, x1)\n",
        "    x = self.out(x)\n",
        "    return x\n",
        "\n"
      ],
      "metadata": {
        "id": "0GW1U3gdMFXV"
      },
      "execution_count": null,
      "outputs": []
    },
    {
      "cell_type": "code",
      "source": [
        "\n",
        "modelo_UNet = UNet()\n",
        "salida = modelo_UNet(torch.randn((10, 3, 394, 394)))\n",
        "salida.shape\n"
      ],
      "metadata": {
        "id": "IisSmHiNMFaE",
        "colab": {
          "base_uri": "https://localhost:8080/"
        },
        "outputId": "eb4da093-1adc-44fe-d256-38afb29ec663"
      },
      "execution_count": null,
      "outputs": [
        {
          "output_type": "execute_result",
          "data": {
            "text/plain": [
              "torch.Size([10, 2, 394, 394])"
            ]
          },
          "metadata": {},
          "execution_count": 33
        }
      ]
    },
    {
      "cell_type": "code",
      "source": [],
      "metadata": {
        "id": "Gwas_DUjTFO0"
      },
      "execution_count": null,
      "outputs": []
    },
    {
      "cell_type": "code",
      "source": [],
      "metadata": {
        "id": "SwrUNJV2TFRl"
      },
      "execution_count": null,
      "outputs": []
    },
    {
      "cell_type": "markdown",
      "source": [
        "#**MÉTODO para el ENTRENAMIENTO**."
      ],
      "metadata": {
        "id": "KDz6hnPVTFes"
      }
    },
    {
      "cell_type": "code",
      "source": [
        "\n",
        "from sklearn.metrics import accuracy_score\n",
        "\n",
        "# Función auxiliar\n",
        "# ----------------\n",
        "\n",
        "def softmax(x):\n",
        "  return torch.exp(x) / torch.exp(x).sum(axis=-1, keepdims=True)\n",
        "\n",
        "\n",
        "\n",
        "# DEFINIMOS LA FUNCIÓN DE ENTRENAMIENTO\n",
        "# =====================================\n",
        "\n",
        "def fit(model, dataloader, epochs=10, log_each=1):\n",
        "   criterion = torch.nn.CrossEntropyLoss()\n",
        "   optimizer = torch.optim.SGD(model.parameters(), lr=0.8)\n",
        "\n",
        "   l, acc         = [], []\n",
        "   val_l, val_acc = [], []\n",
        "\n",
        "   for e in range(1, epochs+1):\n",
        "      _l, _acc = [], []\n",
        "      model.train()  # <------------------------------------------ MODO de ENTRENAMIENTO\n",
        "      for x_b, y_b in dataloader['train']:\n",
        "        y_pred = model(x_b)\n",
        "        loss   = criterion(y_pred, y_b)\n",
        "        _l.append(loss.item())\n",
        "\n",
        "        optimizer.zero_grad()\n",
        "        loss.backward()\n",
        "        optimizer.step()\n",
        "\n",
        "        y_probas = torch.argmax(softmax(y_pred), axis=1)\n",
        "        # Los SCORES de SKLEARN no aceptan matrices, así que hay que convertirlas en dimensión 1D (usar flatten())\n",
        "        _acc.append(accuracy_score(y_b.numpy().flatten(), y_probas.detach().numpy().flatten()))\n",
        "\n",
        "      l.append(np.mean(_l))\n",
        "      acc.append(np.mean(_acc))\n",
        "      if not e % log_each:\n",
        "        print(f\"Epoch {e}/{epochs} loss {l[-1]:.5f} acc {acc[-1]:.5f}\")\n",
        "\n",
        "\n",
        "      model.eval()  # <------------------------------------------- MODO de EVALUACIÓN\n",
        "      _l, _acc = [], []\n",
        "      with torch.no_grad():\n",
        "        for x_b, y_b in dataloader['val']:\n",
        "          y_pred = model(x_b)\n",
        "          loss   = criterion(y_pred, y_b)\n",
        "          _l.append(loss.item())\n",
        "          y_probas = torch.argmax(softmax(y_pred), axis=1)\n",
        "          _acc.append(accuracy_score(y_b.numpy().flatten(), y_probas.numpy().flatten()))\n",
        "      val_l.append(np.mean(_l))\n",
        "      val_acc.append(np.mean(_acc))\n",
        "\n",
        "   return {'epoch':list(range(1,epochs+1)), 'loss':l, 'acc': acc, 'val_loss': val_l, 'val_acc': val_acc}\n",
        "\n"
      ],
      "metadata": {
        "id": "vtaFXTiUTF48"
      },
      "execution_count": null,
      "outputs": []
    },
    {
      "cell_type": "code",
      "source": [],
      "metadata": {
        "id": "StZo6M5GTF8M"
      },
      "execution_count": null,
      "outputs": []
    },
    {
      "cell_type": "code",
      "source": [],
      "metadata": {
        "id": "oWTBsGv-TXl9"
      },
      "execution_count": null,
      "outputs": []
    },
    {
      "cell_type": "markdown",
      "source": [
        "#**ENTRENAMIENTO DEL MODELO**."
      ],
      "metadata": {
        "id": "4bAgjfvuUO_d"
      }
    },
    {
      "cell_type": "code",
      "source": [
        "\n",
        "# INSTANCIAMOS EL MODELO\n",
        "# ======================\n",
        "\n",
        "# Imprimimos junto al número de Epoch, el valor de la función de pérdida y la accuracy (Supera el 98%)\n",
        "model  = UNet()\n",
        "hist   = fit(model, dataloader, 20)\n"
      ],
      "metadata": {
        "id": "r74625LYUPTV",
        "colab": {
          "base_uri": "https://localhost:8080/"
        },
        "outputId": "c3123f6e-5680-4e4f-f837-6a0ea9873da4"
      },
      "execution_count": null,
      "outputs": [
        {
          "output_type": "stream",
          "name": "stdout",
          "text": [
            "Epoch 1/20 loss 0.02929 acc 0.96835\n",
            "Epoch 2/20 loss 0.00183 acc 0.99299\n",
            "Epoch 3/20 loss 0.00097 acc 0.99386\n",
            "Epoch 4/20 loss 0.00065 acc 0.99418\n",
            "Epoch 5/20 loss 0.00048 acc 0.99432\n",
            "Epoch 6/20 loss 0.00037 acc 0.99441\n",
            "Epoch 7/20 loss 0.00030 acc 0.99448\n",
            "Epoch 8/20 loss 0.00025 acc 0.99452\n",
            "Epoch 9/20 loss 0.00021 acc 0.99452\n",
            "Epoch 10/20 loss 0.00018 acc 0.99453\n",
            "Epoch 11/20 loss 0.00016 acc 0.99454\n",
            "Epoch 12/20 loss 0.00014 acc 0.99455\n",
            "Epoch 13/20 loss 0.00013 acc 0.99455\n",
            "Epoch 14/20 loss 0.00011 acc 0.99455\n",
            "Epoch 15/20 loss 0.00010 acc 0.99455\n",
            "Epoch 16/20 loss 0.00009 acc 0.99454\n",
            "Epoch 17/20 loss 0.00008 acc 0.99454\n",
            "Epoch 18/20 loss 0.00008 acc 0.99454\n",
            "Epoch 19/20 loss 0.00007 acc 0.99453\n",
            "Epoch 20/20 loss 0.00007 acc 0.99454\n"
          ]
        }
      ]
    },
    {
      "cell_type": "code",
      "source": [
        "\n",
        "# GRAFICAMOS LOS RESULTADOS DEL APRENDIZAJE\n",
        "# =========================================\n",
        "\n",
        "import matplotlib.pyplot as plt\n",
        "\n",
        "fig = plt.figure(dpi=60)\n",
        "#fig = plt.figure(figsize=(10,6))\n",
        "ax  = plt.subplot(111)\n",
        "pd.DataFrame(hist).plot(x='epoch', y=['loss','val_loss'], grid=True, ax=ax)\n",
        "#lt.ylim([0,0.010])\n",
        "plt.show()\n"
      ],
      "metadata": {
        "id": "prl5_aSAUPWO",
        "colab": {
          "base_uri": "https://localhost:8080/",
          "height": 277
        },
        "outputId": "db5d49d1-c16a-4359-b022-b3381c06583e"
      },
      "execution_count": null,
      "outputs": [
        {
          "output_type": "display_data",
          "data": {
            "text/plain": [
              "<Figure size 384x288 with 1 Axes>"
            ],
            "image/png": "[encoded data removed]"
          },
          "metadata": {}
        }
      ]
    },
    {
      "cell_type": "code",
      "source": [
        "\n",
        "# GRAFICAMOS LOS RESULTADOS DEL APRENDIZAJE\n",
        "# =========================================\n",
        "\n",
        "import matplotlib.pyplot as plt\n",
        "\n",
        "fig = plt.figure(dpi=60)\n",
        "#fig = plt.figure(figsize=(10,6))\n",
        "ax  = plt.subplot(111)\n",
        "pd.DataFrame(hist).plot(x='epoch', y=['acc','val_acc'], grid=True, ax=ax)\n",
        "#lt.ylim([0,0.010])\n",
        "plt.show()\n"
      ],
      "metadata": {
        "id": "uH6NpQK-UZjs",
        "colab": {
          "base_uri": "https://localhost:8080/",
          "height": 277
        },
        "outputId": "a62b6002-a621-4166-8b0c-d46bcd4688b6"
      },
      "execution_count": null,
      "outputs": [
        {
          "output_type": "display_data",
          "data": {
            "text/plain": [
              "<Figure size 384x288 with 1 Axes>"
            ],
            "image/png": "[encoded data removed]"
          },
          "metadata": {}
        }
      ]
    },
    {
      "cell_type": "markdown",
      "source": [
        "#Probamos con una simulación concreta para inspeccionarla."
      ],
      "metadata": {
        "id": "kbJrXf8BI_d3"
      }
    },
    {
      "cell_type": "code",
      "source": [
        "\n",
        "from sklearn.metrics import confusion_matrix\n",
        "\n",
        "torch.set_printoptions(precision=2)\n",
        "\n",
        "X_prueba, y_prueba = next(iter(dataloader['val']))\n",
        "y_prediccion = model(X_prueba)\n",
        "\n",
        "y_prob = torch.argmax(softmax(y_prediccion), axis=1)\n",
        "y_prob[1]\n"
      ],
      "metadata": {
        "colab": {
          "base_uri": "https://localhost:8080/"
        },
        "id": "TvTFMeer8s-Q",
        "outputId": "4038e5be-b7c5-4a11-899e-94da00ce1bb9"
      },
      "execution_count": null,
      "outputs": [
        {
          "output_type": "execute_result",
          "data": {
            "text/plain": [
              "tensor([[0, 0, 1, 0, 0, 1, 0, 0, 1, 0, 0, 0, 0, 0, 0, 0, 0, 1, 0, 1, 0, 0, 1, 0,\n",
              "         0, 0, 0, 0],\n",
              "        [1, 0, 0, 0, 0, 0, 0, 0, 0, 0, 1, 0, 0, 0, 0, 0, 0, 0, 0, 0, 0, 0, 0, 0,\n",
              "         0, 0, 1, 0],\n",
              "        [0, 0, 0, 0, 0, 0, 0, 0, 0, 1, 0, 0, 0, 0, 0, 0, 0, 0, 0, 0, 0, 0, 0, 0,\n",
              "         0, 1, 0, 0],\n",
              "        [0, 0, 0, 0, 0, 1, 0, 0, 0, 0, 1, 0, 1, 0, 0, 1, 0, 0, 0, 0, 0, 0, 0, 0,\n",
              "         0, 0, 0, 1],\n",
              "        [0, 0, 0, 1, 0, 0, 0, 0, 0, 0, 0, 0, 0, 0, 0, 1, 0, 0, 0, 0, 0, 0, 0, 0,\n",
              "         0, 0, 0, 0],\n",
              "        [0, 0, 0, 1, 0, 0, 0, 0, 0, 0, 0, 0, 0, 1, 1, 0, 0, 0, 0, 0, 0, 0, 0, 0,\n",
              "         0, 0, 0, 0],\n",
              "        [0, 0, 0, 0, 0, 1, 0, 0, 1, 0, 0, 0, 0, 0, 0, 0, 0, 0, 0, 0, 0, 0, 0, 0,\n",
              "         0, 0, 0, 0],\n",
              "        [1, 0, 1, 0, 0, 0, 0, 0, 0, 0, 0, 0, 0, 0, 0, 0, 1, 0, 0, 0, 0, 0, 0, 0,\n",
              "         0, 0, 0, 0],\n",
              "        [0, 0, 1, 0, 1, 0, 0, 0, 0, 0, 0, 1, 0, 0, 0, 0, 0, 0, 0, 0, 0, 0, 0, 1,\n",
              "         0, 0, 0, 0],\n",
              "        [0, 0, 1, 0, 0, 0, 0, 0, 0, 0, 1, 0, 0, 1, 0, 1, 0, 0, 0, 0, 0, 0, 0, 0,\n",
              "         0, 0, 0, 0],\n",
              "        [0, 0, 0, 0, 0, 0, 0, 0, 0, 0, 0, 0, 0, 0, 1, 1, 1, 0, 0, 1, 0, 0, 1, 0,\n",
              "         0, 1, 0, 0],\n",
              "        [0, 0, 1, 0, 0, 0, 0, 0, 0, 0, 1, 1, 0, 0, 0, 0, 0, 0, 0, 0, 0, 0, 0, 0,\n",
              "         0, 1, 0, 1],\n",
              "        [0, 0, 0, 0, 0, 0, 0, 0, 0, 0, 0, 1, 1, 0, 0, 0, 0, 0, 0, 0, 0, 0, 0, 0,\n",
              "         0, 0, 0, 1],\n",
              "        [0, 0, 0, 0, 1, 0, 1, 0, 0, 0, 0, 0, 0, 0, 0, 0, 1, 1, 0, 0, 0, 0, 0, 0,\n",
              "         0, 0, 0, 0],\n",
              "        [1, 1, 1, 0, 1, 1, 1, 0, 0, 1, 0, 0, 0, 1, 0, 0, 1, 1, 1, 1, 0, 1, 1, 0,\n",
              "         1, 1, 0, 1],\n",
              "        [1, 0, 0, 0, 1, 0, 1, 0, 0, 0, 0, 0, 0, 0, 0, 0, 1, 0, 0, 0, 0, 0, 1, 0,\n",
              "         1, 1, 0, 1],\n",
              "        [0, 0, 0, 0, 1, 0, 1, 0, 0, 0, 0, 0, 0, 0, 1, 0, 0, 0, 0, 0, 0, 0, 0, 0,\n",
              "         0, 0, 0, 0],\n",
              "        [1, 1, 0, 0, 1, 0, 0, 1, 0, 0, 0, 0, 0, 0, 0, 0, 1, 0, 0, 0, 0, 0, 0, 0,\n",
              "         0, 0, 1, 0],\n",
              "        [0, 1, 0, 0, 0, 0, 0, 0, 0, 0, 0, 1, 0, 0, 0, 0, 0, 0, 0, 0, 0, 0, 0, 1,\n",
              "         0, 1, 0, 0],\n",
              "        [1, 0, 0, 0, 0, 0, 0, 0, 0, 1, 0, 0, 0, 0, 0, 0, 1, 0, 0, 0, 0, 0, 0, 1,\n",
              "         0, 0, 0, 1],\n",
              "        [0, 0, 0, 0, 1, 0, 0, 1, 1, 0, 0, 0, 0, 0, 1, 0, 0, 0, 0, 0, 0, 0, 0, 0,\n",
              "         0, 1, 0, 1],\n",
              "        [0, 0, 0, 0, 0, 0, 0, 0, 0, 0, 0, 0, 0, 0, 0, 0, 1, 1, 0, 0, 0, 0, 0, 0,\n",
              "         1, 0, 0, 0],\n",
              "        [0, 0, 0, 0, 0, 0, 0, 0, 1, 0, 0, 0, 0, 0, 0, 0, 0, 0, 0, 0, 1, 0, 0, 0,\n",
              "         0, 0, 0, 0],\n",
              "        [0, 1, 0, 0, 0, 0, 0, 0, 0, 0, 0, 0, 0, 0, 0, 0, 0, 0, 0, 0, 0, 1, 0, 0,\n",
              "         0, 0, 0, 0],\n",
              "        [0, 1, 1, 0, 0, 0, 0, 0, 1, 1, 0, 1, 1, 0, 0, 0, 0, 0, 0, 0, 0, 0, 0, 1,\n",
              "         1, 0, 0, 0],\n",
              "        [0, 0, 0, 0, 0, 0, 1, 0, 0, 0, 0, 1, 0, 0, 1, 0, 1, 0, 0, 0, 0, 0, 0, 0,\n",
              "         1, 0, 1, 0],\n",
              "        [0, 0, 0, 0, 0, 0, 0, 0, 0, 1, 0, 1, 0, 0, 0, 0, 0, 0, 0, 0, 0, 0, 0, 0,\n",
              "         1, 1, 0, 0],\n",
              "        [0, 0, 0, 1, 0, 0, 0, 0, 0, 0, 0, 0, 0, 0, 0, 0, 0, 0, 0, 0, 0, 0, 0, 0,\n",
              "         0, 0, 1, 0]])"
            ]
          },
          "metadata": {},
          "execution_count": 12
        }
      ]
    },
    {
      "cell_type": "code",
      "source": [
        "\n",
        "confusion_matrix(y_prueba[1].flatten().numpy(), y_prob[1].flatten().numpy())\n"
      ],
      "metadata": {
        "colab": {
          "base_uri": "https://localhost:8080/"
        },
        "id": "V6NHPtUz8tA-",
        "outputId": "ceceaa46-6326-4253-8b8f-1ee28888d8ed"
      },
      "execution_count": null,
      "outputs": [
        {
          "output_type": "execute_result",
          "data": {
            "text/plain": [
              "array([[656,  19],\n",
              "       [  0, 109]])"
            ]
          },
          "metadata": {},
          "execution_count": 13
        }
      ]
    },
    {
      "cell_type": "code",
      "source": [
        "\n",
        "from sklearn.metrics import ConfusionMatrixDisplay\n",
        "\n",
        "# Agente emocional         --> código: 0\n",
        "# Agente mutante (traidor) --> código: 1\n",
        "# --------------------------------------\n",
        "ConfusionMatrixDisplay.from_predictions(y_prueba[1].flatten().numpy(), y_prob[1].flatten().numpy())\n"
      ],
      "metadata": {
        "colab": {
          "base_uri": "https://localhost:8080/",
          "height": 466
        },
        "id": "FaWry1wjIvmX",
        "outputId": "593c584b-972f-4864-e22e-86481add3923"
      },
      "execution_count": null,
      "outputs": [
        {
          "output_type": "execute_result",
          "data": {
            "text/plain": [
              "<sklearn.metrics._plot.confusion_matrix.ConfusionMatrixDisplay at 0x783aaf646630>"
            ]
          },
          "metadata": {},
          "execution_count": 14
        },
        {
          "output_type": "display_data",
          "data": {
            "text/plain": [
              "<Figure size 640x480 with 2 Axes>"
            ],
            "image/png": "[encoded data removed]"
          },
          "metadata": {}
        }
      ]
    },
    {
      "cell_type": "markdown",
      "source": [
        "#Ahora probamos con todos los datos de VALIDACIÓN."
      ],
      "metadata": {
        "id": "7evB99mSJFto"
      }
    },
    {
      "cell_type": "code",
      "source": [
        "\n",
        "from functools import reduce\n",
        "\n",
        "predicciones  = []\n",
        "observaciones = []\n",
        "\n",
        "# Iteramos por el conjunto de datos de Validación\n",
        "# -----------------------------------------------\n",
        "for x_b, y_b in dataloader['val']:\n",
        "  y_pred = model(x_b)\n",
        "  y_prob = torch.argmax(softmax(y_pred), axis=1)\n",
        "  # Se añaden como arrays a la lista, por lo que convertimos previamente a una lista\n",
        "  # El resultado es una lista de lista, por lo que las reducimos a una sola más abajo\n",
        "  # (Esto es así porque el procedimiento confusion_matrix sólo opera datos de 1 dimensión)\n",
        "  predicciones.append(list(y_prob.numpy().flatten()))\n",
        "  observaciones.append(list(y_b.numpy().flatten()))\n",
        "\n",
        "data_pred = reduce(lambda a, b: a+b, predicciones)\n",
        "data_obs  = reduce(lambda a, b: a+b, observaciones)\n",
        "\n",
        "confusion_matrix(data_obs, data_pred)\n",
        "\n"
      ],
      "metadata": {
        "colab": {
          "base_uri": "https://localhost:8080/"
        },
        "id": "rlKhqnn7IvqV",
        "outputId": "24a7a0a1-59fb-433c-dba5-678d235ed871"
      },
      "execution_count": null,
      "outputs": [
        {
          "output_type": "execute_result",
          "data": {
            "text/plain": [
              "array([[525073,   7616],\n",
              "       [   154,  94357]])"
            ]
          },
          "metadata": {},
          "execution_count": 15
        }
      ]
    },
    {
      "cell_type": "code",
      "source": [
        "\n",
        "ConfusionMatrixDisplay.from_predictions(data_obs, data_pred, normalize='all', values_format='.3%')\n"
      ],
      "metadata": {
        "colab": {
          "base_uri": "https://localhost:8080/",
          "height": 466
        },
        "id": "edldVJJMJJYI",
        "outputId": "fe025278-90c9-4de5-ea4a-ebce6cbc4daf"
      },
      "execution_count": null,
      "outputs": [
        {
          "output_type": "execute_result",
          "data": {
            "text/plain": [
              "<sklearn.metrics._plot.confusion_matrix.ConfusionMatrixDisplay at 0x783aae7502c0>"
            ]
          },
          "metadata": {},
          "execution_count": 16
        },
        {
          "output_type": "display_data",
          "data": {
            "text/plain": [
              "<Figure size 640x480 with 2 Axes>"
            ],
            "image/png": "[encoded data removed]"
          },
          "metadata": {}
        }
      ]
    },
    {
      "cell_type": "markdown",
      "source": [
        "#Inspeccionamos más detenidamente el tipo de fallos que ocurren en una animación concreta."
      ],
      "metadata": {
        "id": "bcHaY3cdJhsy"
      }
    },
    {
      "cell_type": "code",
      "source": [
        "\n",
        "from sklearn.metrics import confusion_matrix\n",
        "\n",
        "torch.set_printoptions(precision=2)\n",
        "\n",
        "X_obs, y_obs = next(iter(dataloader['val']))\n",
        "y_probab = model(X_obs)\n",
        "y_predic = torch.argmax(softmax(y_probab), axis=1)\n",
        "\n",
        "# Utilizamos códigos para representar los colores y así identificar\n",
        "# mejor a los agentes en la predicción (agentes MUTANTES)\n",
        "red    = '\\033[91m'\n",
        "green  = '\\033[92m'\n",
        "black  = '\\x1b[0m'\n",
        "\n",
        "frame  = 1\n",
        "cadena = ''\n",
        "size_m = 3\n",
        "\n",
        "for i in range(size):\n",
        "  for j in range(size):\n",
        "    if (y_predic[frame,i,j] != y_obs[frame,i,j]) and (y_predic[frame,i,j] == 1):\n",
        "      cadena += red + str(y_predic[frame,i,j].numpy()) + black + '  '\n",
        "    elif (y_predic[frame,i,j] != y_obs[frame,i,j]) and (y_predic[frame,i,j] == 0):\n",
        "      cadena += red + '.' + black + '  '\n",
        "    elif (y_predic[frame,i,j] == y_obs[frame,i,j]) and (y_predic[frame,i,j] == 1):\n",
        "      cadena += green + str(y_predic[frame,i,j].numpy()) + black + '  '\n",
        "    else:\n",
        "      cadena += str(y_predic[frame,i,j].numpy()) + '  '\n",
        "  cadena += '\\n'\n",
        "\n",
        "print(cadena)\n",
        "\n"
      ],
      "metadata": {
        "colab": {
          "base_uri": "https://localhost:8080/"
        },
        "id": "lEaJ7l9lJZ_x",
        "outputId": "e87ef837-6f4a-4c76-9845-2158843e5fa8"
      },
      "execution_count": null,
      "outputs": [
        {
          "output_type": "stream",
          "name": "stdout",
          "text": [
            "0  0  \u001b[92m1\u001b[0m  0  0  \u001b[92m1\u001b[0m  0  0  \u001b[92m1\u001b[0m  0  0  0  0  0  0  0  0  \u001b[92m1\u001b[0m  0  \u001b[92m1\u001b[0m  0  0  \u001b[92m1\u001b[0m  0  0  0  0  0  \n",
            "\u001b[92m1\u001b[0m  0  0  0  0  0  0  0  0  0  \u001b[92m1\u001b[0m  0  0  0  0  0  0  0  0  0  0  0  0  0  0  0  \u001b[92m1\u001b[0m  0  \n",
            "0  0  0  0  0  0  0  0  0  \u001b[92m1\u001b[0m  0  0  0  0  0  0  0  0  0  0  0  0  0  0  0  \u001b[92m1\u001b[0m  0  0  \n",
            "0  0  0  0  0  \u001b[92m1\u001b[0m  0  0  0  0  \u001b[92m1\u001b[0m  0  \u001b[92m1\u001b[0m  0  0  \u001b[92m1\u001b[0m  0  0  0  0  0  0  0  0  0  0  0  \u001b[92m1\u001b[0m  \n",
            "0  0  0  \u001b[92m1\u001b[0m  0  0  0  0  0  0  0  0  0  0  0  \u001b[92m1\u001b[0m  0  0  0  0  0  0  0  0  0  0  0  0  \n",
            "0  0  0  \u001b[92m1\u001b[0m  0  0  0  0  0  0  0  0  0  \u001b[92m1\u001b[0m  \u001b[92m1\u001b[0m  0  0  0  0  0  0  0  0  0  0  0  0  0  \n",
            "0  0  0  0  0  \u001b[92m1\u001b[0m  0  0  \u001b[92m1\u001b[0m  0  0  0  0  0  0  0  0  0  0  0  0  0  0  0  0  0  0  0  \n",
            "\u001b[91m1\u001b[0m  0  \u001b[92m1\u001b[0m  0  0  0  0  0  0  0  0  0  0  0  0  0  \u001b[91m1\u001b[0m  0  0  0  0  0  0  0  0  0  0  0  \n",
            "0  0  \u001b[92m1\u001b[0m  0  \u001b[92m1\u001b[0m  0  0  0  0  0  0  \u001b[92m1\u001b[0m  0  0  0  0  0  0  0  0  0  0  0  \u001b[92m1\u001b[0m  0  0  0  0  \n",
            "0  0  \u001b[92m1\u001b[0m  0  0  0  0  0  0  0  \u001b[92m1\u001b[0m  0  0  \u001b[92m1\u001b[0m  0  \u001b[92m1\u001b[0m  0  0  0  0  0  0  0  0  0  0  0  0  \n",
            "0  0  0  0  0  0  0  0  0  0  0  0  0  0  \u001b[92m1\u001b[0m  \u001b[92m1\u001b[0m  \u001b[92m1\u001b[0m  0  0  \u001b[92m1\u001b[0m  0  0  \u001b[92m1\u001b[0m  0  0  \u001b[92m1\u001b[0m  0  0  \n",
            "0  0  \u001b[92m1\u001b[0m  0  0  0  0  0  0  0  \u001b[92m1\u001b[0m  \u001b[92m1\u001b[0m  0  0  0  0  0  0  0  0  0  0  0  0  0  \u001b[92m1\u001b[0m  0  \u001b[92m1\u001b[0m  \n",
            "0  0  0  0  0  0  0  0  0  0  0  \u001b[92m1\u001b[0m  \u001b[92m1\u001b[0m  0  0  0  0  0  0  0  0  0  0  0  0  0  0  \u001b[92m1\u001b[0m  \n",
            "0  0  0  0  \u001b[92m1\u001b[0m  0  \u001b[92m1\u001b[0m  0  0  0  0  0  0  0  0  0  \u001b[92m1\u001b[0m  \u001b[92m1\u001b[0m  0  0  0  0  0  0  0  0  0  0  \n",
            "\u001b[91m1\u001b[0m  \u001b[91m1\u001b[0m  \u001b[91m1\u001b[0m  0  \u001b[91m1\u001b[0m  \u001b[91m1\u001b[0m  \u001b[91m1\u001b[0m  0  0  \u001b[91m1\u001b[0m  0  0  0  \u001b[91m1\u001b[0m  0  0  \u001b[91m1\u001b[0m  \u001b[91m1\u001b[0m  \u001b[91m1\u001b[0m  \u001b[91m1\u001b[0m  0  \u001b[91m1\u001b[0m  \u001b[91m1\u001b[0m  0  \u001b[91m1\u001b[0m  \u001b[91m1\u001b[0m  0  \u001b[91m1\u001b[0m  \n",
            "\u001b[92m1\u001b[0m  0  0  0  \u001b[92m1\u001b[0m  0  \u001b[92m1\u001b[0m  0  0  0  0  0  0  0  0  0  \u001b[92m1\u001b[0m  0  0  0  0  0  \u001b[92m1\u001b[0m  0  \u001b[92m1\u001b[0m  \u001b[92m1\u001b[0m  0  \u001b[92m1\u001b[0m  \n",
            "0  0  0  0  \u001b[92m1\u001b[0m  0  \u001b[92m1\u001b[0m  0  0  0  0  0  0  0  \u001b[92m1\u001b[0m  0  0  0  0  0  0  0  0  0  0  0  0  0  \n",
            "\u001b[92m1\u001b[0m  \u001b[92m1\u001b[0m  0  0  \u001b[92m1\u001b[0m  0  0  \u001b[92m1\u001b[0m  0  0  0  0  0  0  0  0  \u001b[92m1\u001b[0m  0  0  0  0  0  0  0  0  0  \u001b[92m1\u001b[0m  0  \n",
            "0  \u001b[92m1\u001b[0m  0  0  0  0  0  0  0  0  0  \u001b[92m1\u001b[0m  0  0  0  0  0  0  0  0  0  0  0  \u001b[92m1\u001b[0m  0  \u001b[92m1\u001b[0m  0  0  \n",
            "\u001b[92m1\u001b[0m  0  0  0  0  0  0  0  0  \u001b[92m1\u001b[0m  0  0  0  0  0  0  \u001b[92m1\u001b[0m  0  0  0  0  0  0  \u001b[92m1\u001b[0m  0  0  0  \u001b[92m1\u001b[0m  \n",
            "0  0  0  0  \u001b[92m1\u001b[0m  0  0  \u001b[92m1\u001b[0m  \u001b[92m1\u001b[0m  0  0  0  0  0  \u001b[92m1\u001b[0m  0  0  0  0  0  0  0  0  0  0  \u001b[92m1\u001b[0m  0  \u001b[92m1\u001b[0m  \n",
            "0  0  0  0  0  0  0  0  0  0  0  0  0  0  0  0  \u001b[92m1\u001b[0m  \u001b[92m1\u001b[0m  0  0  0  0  0  0  \u001b[92m1\u001b[0m  0  0  0  \n",
            "0  0  0  0  0  0  0  0  \u001b[92m1\u001b[0m  0  0  0  0  0  0  0  0  0  0  0  \u001b[92m1\u001b[0m  0  0  0  0  0  0  0  \n",
            "0  \u001b[92m1\u001b[0m  0  0  0  0  0  0  0  0  0  0  0  0  0  0  0  0  0  0  0  \u001b[92m1\u001b[0m  0  0  0  0  0  0  \n",
            "0  \u001b[92m1\u001b[0m  \u001b[92m1\u001b[0m  0  0  0  0  0  \u001b[92m1\u001b[0m  \u001b[92m1\u001b[0m  0  \u001b[92m1\u001b[0m  \u001b[92m1\u001b[0m  0  0  0  0  0  0  0  0  0  0  \u001b[92m1\u001b[0m  \u001b[92m1\u001b[0m  0  0  0  \n",
            "0  0  0  0  0  0  \u001b[92m1\u001b[0m  0  0  0  0  \u001b[92m1\u001b[0m  0  0  \u001b[92m1\u001b[0m  0  \u001b[92m1\u001b[0m  0  0  0  0  0  0  0  \u001b[92m1\u001b[0m  0  \u001b[92m1\u001b[0m  0  \n",
            "0  0  0  0  0  0  0  0  0  \u001b[92m1\u001b[0m  0  \u001b[92m1\u001b[0m  0  0  0  0  0  0  0  0  0  0  0  0  \u001b[92m1\u001b[0m  \u001b[92m1\u001b[0m  0  0  \n",
            "0  0  0  \u001b[92m1\u001b[0m  0  0  0  0  0  0  0  0  0  0  0  0  0  0  0  0  0  0  0  0  0  0  \u001b[92m1\u001b[0m  0  \n",
            "\n"
          ]
        }
      ]
    },
    {
      "cell_type": "code",
      "source": [
        "\n",
        "import matplotlib.pyplot as plt\n",
        "\n",
        "# Uno de los frames\n",
        "# -----------------\n",
        "plt.imshow(X_obs[1].permute(1,2,0))\n",
        "plt.show()\n"
      ],
      "metadata": {
        "colab": {
          "base_uri": "https://localhost:8080/",
          "height": 430
        },
        "id": "QJZH-8VDJaC7",
        "outputId": "00850851-c0b8-4bfa-9b17-17d80eb29c75"
      },
      "execution_count": null,
      "outputs": [
        {
          "output_type": "display_data",
          "data": {
            "text/plain": [
              "<Figure size 640x480 with 1 Axes>"
            ],
            "image/png": "[encoded data removed]"
          },
          "metadata": {}
        }
      ]
    },
    {
      "cell_type": "code",
      "source": [
        "\n",
        "from sklearn.metrics import roc_curve\n",
        "\n",
        "# CURVA ROC  (Creo que son 'scores' lo que se le debe pasar\n",
        "# como segundo argumento. No sé si se puede hacer así)\n",
        "# ---------------------------------------------------------\n",
        "fpr, tpr, thresholds = roc_curve(data_obs, data_pred)\n",
        "plt.plot(fpr, tpr, 'b:', label='Arquitectura U-Net')\n",
        "plt.plot([0, 1], [0, 1], 'k--')\n",
        "#plt.axis([0, 1, 0, 1])     # Libro de Aurelien Geron\n",
        "plt.xlabel('False Positive Rate')\n",
        "plt.ylabel('True Positive Rate (Recall)')\n",
        "plt.grid(True)\n",
        "plt.legend(loc='lower right')\n",
        "plt.show()\n"
      ],
      "metadata": {
        "colab": {
          "base_uri": "https://localhost:8080/",
          "height": 449
        },
        "id": "58lNz_xLI8UQ",
        "outputId": "350fe77a-b452-4b17-96c8-20113e4bbb42"
      },
      "execution_count": null,
      "outputs": [
        {
          "output_type": "display_data",
          "data": {
            "text/plain": [
              "<Figure size 640x480 with 1 Axes>"
            ],
            "image/png": "[encoded data removed]"
          },
          "metadata": {}
        }
      ]
    },
    {
      "cell_type": "code",
      "source": [],
      "metadata": {
        "id": "MwYYMdWMI8W_"
      },
      "execution_count": null,
      "outputs": []
    },
    {
      "cell_type": "code",
      "source": [],
      "metadata": {
        "id": "06PMbj4QPlWG"
      },
      "execution_count": null,
      "outputs": []
    }
  ]
}