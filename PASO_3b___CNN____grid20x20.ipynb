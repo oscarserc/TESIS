{
  "nbformat": 4,
  "nbformat_minor": 0,
  "metadata": {
    "colab": {
      "provenance": [],
      "authorship_tag": "ABX9TyMEi/mwbCaUN0ow372OVAGB",
      "include_colab_link": true
    },
    "kernelspec": {
      "name": "python3",
      "display_name": "Python 3"
    },
    "language_info": {
      "name": "python"
    }
  },
  "cells": [
    {
      "cell_type": "markdown",
      "metadata": {
        "id": "view-in-github",
        "colab_type": "text"
      },
      "source": [
        "<a href=\"https://colab.research.google.com/github/oscarserc/TESIS/blob/main/PASO_3b___CNN____grid20x20.ipynb\" target=\"_parent\"><img src=\"https://colab.research.google.com/assets/colab-badge.svg\" alt=\"Open In Colab\"/></a>"
      ]
    },
    {
      "cell_type": "markdown",
      "source": [
        "#UTILIZACIÓN DE TÉCNICAS DE APRENDIZAJE AUTOMÁTICO PARA LA DETECCIÓN DE LOS NODOS INFLUYENTES.\n",
        "\n",
        "La base de datos que emplearemos será de unas 70.000 observaciones. En concreto:\n",
        "\n",
        "· 72.000 observaciones\n",
        "\n",
        "· Para ello generamos una 1800 **simulaciones**, y guardamos unos 40 **frames** de cada una de ellas\n",
        "\n",
        "· Además como **target** guardamos la matriz con la IDENTIDAD de todos y cada uno de los AGENTES.\n",
        "\n"
      ],
      "metadata": {
        "id": "Ck6WE2qgmKul"
      }
    },
    {
      "cell_type": "code",
      "source": [],
      "metadata": {
        "id": "yclIUzOWcSjy"
      },
      "execution_count": null,
      "outputs": []
    },
    {
      "cell_type": "code",
      "source": [],
      "metadata": {
        "id": "ijoWUtiKcSpa"
      },
      "execution_count": null,
      "outputs": []
    },
    {
      "cell_type": "markdown",
      "source": [
        "#**PRUEBA 2**: Utilizaremos una <font color='green'>**RED NEURONAL CONVOLUCIONAL**</font>. Planteamos el problema de localizar a los agentes influyentes como un problema de **Segmentación** de imágenes. (Cada pixel corresponde a un agente y ha de ser clasificado en uno de los tipos que se han definico)"
      ],
      "metadata": {
        "id": "Q1K5T8gmcRFa"
      }
    },
    {
      "cell_type": "markdown",
      "source": [
        "La estructura que hemos probado de partida es la que aparece a continuación."
      ],
      "metadata": {
        "id": "4R6--3v24ATs"
      }
    },
    {
      "cell_type": "markdown",
      "source": [
        "\n",
        "<figure>\n",
        "<center>\n",
        "<img src='https://github.com/oscarserc/IMAGENES/blob/main/CNN_1g_%20ampliado.png?raw=true' width=\"850\"/>\n",
        "<figcaption>fig. 1: En esta primera prueba manejamos sólo dos tipos de agentes: <b>Agente EMOCIONAL</b> y <b>Agente MUTANTE TRAIDOR</b>. Por ello el problema se trata de uno de CLASIFICACIÓN BINARIA. Cada pixel ha de ser marcado como perteneciente a una población u otra. La salida de la red son dos matrices de 10x10 con la probabilidad de pertenencia a cada clase.</figcaption></center>\n",
        "</figure>\n"
      ],
      "metadata": {
        "id": "8fHEsPqA4BnT"
      }
    },
    {
      "cell_type": "markdown",
      "source": [
        "El archivo de prueba contiene 4000 simulaciones de una población de AGENTES EMOCIONALES, y otras 4000 de agentes TRAIDORES (de la observación 4001 a la 8000)."
      ],
      "metadata": {
        "id": "4JJCGaYH4IWT"
      }
    },
    {
      "cell_type": "markdown",
      "source": [
        "\n",
        "<figure>\n",
        "<center>\n",
        "<img src='https://github.com/oscarserc/IMAGENES/blob/main/Archivo_E_CNN.png?raw=true' width=\"1000\"/>\n",
        "<figcaption></figcaption></center>\n",
        "</figure>\n",
        "\n",
        "\n",
        "\n"
      ],
      "metadata": {
        "id": "_WuC_yF0b42T"
      }
    },
    {
      "cell_type": "markdown",
      "source": [
        "Podemos comenzar **aleatorizando**, y después manteniendo agrupadas las observaciones (frames) que forman parte de la misma Simulación (animación)."
      ],
      "metadata": {
        "id": "XtCOSQJafZoe"
      }
    },
    {
      "cell_type": "markdown",
      "source": [
        "#CARGA DE LA BASE DE DATOS (mezcla agentes **emocionales** y mutantes **traidores**).\n",
        "\n",
        "#DESPUÉS ALEATORIZAMOS."
      ],
      "metadata": {
        "id": "AiozpE_AXGxY"
      }
    },
    {
      "cell_type": "code",
      "source": [
        "\n",
        "import pandas as pd\n",
        "\n",
        "# Cargamos los datos\n",
        "# ------------------\n",
        "bd_simulaciones = pd.read_csv('bd_100simulaciones_20x20_emo85_vs_15.csv')\n",
        "\n",
        "# Aleatorizamos\n",
        "# -------------\n",
        "bd_simulaciones = bd_simulaciones.sample(frac=1).reset_index(drop=True)\n",
        "\n"
      ],
      "metadata": {
        "id": "xpykoNS6TjqF"
      },
      "execution_count": 1,
      "outputs": []
    },
    {
      "cell_type": "code",
      "source": [
        "\n",
        "bd_simulaciones\n"
      ],
      "metadata": {
        "colab": {
          "base_uri": "https://localhost:8080/",
          "height": 424
        },
        "id": "drn6cob1I3gA",
        "outputId": "12b7dd05-a307-4581-ced1-0b39da896b72"
      },
      "execution_count": null,
      "outputs": [
        {
          "output_type": "execute_result",
          "data": {
            "text/plain": [
              "            r0   r1   r2   r3   r4   r5   r6   r7   r8   r9  ...  b393  b394  \\\n",
              "0     0.000000  0.2  0.2  0.2  0.2  0.2  0.2  0.6  0.2  0.2  ...   0.2   1.0   \n",
              "1     0.333333  0.4  0.2  0.0  0.2  0.4  0.2  0.4  0.2  0.2  ...   0.2   0.2   \n",
              "2     0.333333  0.2  0.6  0.2  0.4  0.0  0.4  0.2  0.4  0.2  ...   0.0   0.0   \n",
              "3     0.000000  0.2  0.0  0.2  0.2  0.0  0.2  0.0  0.0  0.0  ...   0.0   0.0   \n",
              "4     0.000000  0.0  0.0  0.0  0.0  0.0  0.0  0.0  0.0  0.0  ...   0.4   1.0   \n",
              "...        ...  ...  ...  ...  ...  ...  ...  ...  ...  ...  ...   ...   ...   \n",
              "3995  0.000000  0.0  0.0  0.0  0.2  0.0  0.4  0.0  0.2  0.0  ...   0.2   0.4   \n",
              "3996  1.000000  0.4  0.2  0.2  0.6  0.6  0.4  0.4  0.0  0.2  ...   0.4   1.0   \n",
              "3997  0.000000  0.0  0.0  0.0  0.0  0.0  0.2  0.0  0.2  0.0  ...   1.0   1.0   \n",
              "3998  0.333333  0.0  0.4  0.0  0.4  0.2  0.2  0.0  0.0  0.0  ...   0.4   0.2   \n",
              "3999  0.000000  0.2  0.2  0.2  0.2  0.0  0.2  0.0  0.2  0.4  ...   1.0   0.4   \n",
              "\n",
              "      b395  b396  b397  b398      b399  Simulacion_ID  Frame  \\\n",
              "0      0.4   1.0   0.2   0.0  0.000000             30      5   \n",
              "1      0.0   0.0   0.2   1.0  0.333333             77     20   \n",
              "2      0.0   0.0   0.0   0.0  0.000000             56      4   \n",
              "3      0.0   0.2   0.4   0.4  0.333333             72      3   \n",
              "4      0.4   1.0   0.4   0.2  0.000000              6     13   \n",
              "...    ...   ...   ...   ...       ...            ...    ...   \n",
              "3995   1.0   0.2   0.0   0.0  0.000000             68     38   \n",
              "3996   0.2   0.0   0.2   1.0  1.000000             20     27   \n",
              "3997   0.4   1.0   1.0   0.4  0.333333              9      2   \n",
              "3998   0.2   1.0   0.4   1.0  0.333333             81     37   \n",
              "3999   0.4   0.4   0.2   0.0  0.000000             63      6   \n",
              "\n",
              "                                                 Target  \n",
              "0     [0, 0, 1, 1, 0, 0, 1, 0, 1, 0, 0, 0, 0, 0, 0, ...  \n",
              "1     [1, 0, 0, 0, 0, 0, 1, 0, 0, 0, 0, 0, 0, 0, 0, ...  \n",
              "2     [1, 1, 0, 1, 0, 0, 0, 1, 0, 0, 0, 0, 1, 1, 0, ...  \n",
              "3     [0, 0, 1, 0, 0, 1, 0, 0, 0, 0, 0, 0, 0, 0, 0, ...  \n",
              "4     [0, 0, 0, 0, 0, 0, 0, 0, 0, 0, 0, 0, 0, 0, 0, ...  \n",
              "...                                                 ...  \n",
              "3995  [0, 0, 0, 0, 0, 1, 0, 1, 0, 0, 0, 0, 0, 1, 0, ...  \n",
              "3996  [0, 0, 0, 0, 0, 1, 1, 0, 1, 0, 0, 0, 0, 0, 0, ...  \n",
              "3997  [0, 0, 0, 0, 0, 0, 0, 1, 0, 0, 0, 1, 0, 0, 0, ...  \n",
              "3998  [0, 1, 0, 1, 0, 0, 0, 0, 0, 0, 0, 1, 1, 0, 0, ...  \n",
              "3999  [0, 0, 0, 0, 0, 1, 0, 0, 0, 0, 0, 0, 0, 0, 0, ...  \n",
              "\n",
              "[4000 rows x 1203 columns]"
            ],
            "text/html": [
              "\n",
              "  <div id=\"df-ba6ea73c-10e4-4e3a-b583-043a6e69bfc2\">\n",
              "    <div class=\"colab-df-container\">\n",
              "      <div>\n",
              "<style scoped>\n",
              "    .dataframe tbody tr th:only-of-type {\n",
              "        vertical-align: middle;\n",
              "    }\n",
              "\n",
              "    .dataframe tbody tr th {\n",
              "        vertical-align: top;\n",
              "    }\n",
              "\n",
              "    .dataframe thead th {\n",
              "        text-align: right;\n",
              "    }\n",
              "</style>\n",
              "<table border=\"1\" class=\"dataframe\">\n",
              "  <thead>\n",
              "    <tr style=\"text-align: right;\">\n",
              "      <th></th>\n",
              "      <th>r0</th>\n",
              "      <th>r1</th>\n",
              "      <th>r2</th>\n",
              "      <th>r3</th>\n",
              "      <th>r4</th>\n",
              "      <th>r5</th>\n",
              "      <th>r6</th>\n",
              "      <th>r7</th>\n",
              "      <th>r8</th>\n",
              "      <th>r9</th>\n",
              "      <th>...</th>\n",
              "      <th>b393</th>\n",
              "      <th>b394</th>\n",
              "      <th>b395</th>\n",
              "      <th>b396</th>\n",
              "      <th>b397</th>\n",
              "      <th>b398</th>\n",
              "      <th>b399</th>\n",
              "      <th>Simulacion_ID</th>\n",
              "      <th>Frame</th>\n",
              "      <th>Target</th>\n",
              "    </tr>\n",
              "  </thead>\n",
              "  <tbody>\n",
              "    <tr>\n",
              "      <th>0</th>\n",
              "      <td>0.000000</td>\n",
              "      <td>0.2</td>\n",
              "      <td>0.2</td>\n",
              "      <td>0.2</td>\n",
              "      <td>0.2</td>\n",
              "      <td>0.2</td>\n",
              "      <td>0.2</td>\n",
              "      <td>0.6</td>\n",
              "      <td>0.2</td>\n",
              "      <td>0.2</td>\n",
              "      <td>...</td>\n",
              "      <td>0.2</td>\n",
              "      <td>1.0</td>\n",
              "      <td>0.4</td>\n",
              "      <td>1.0</td>\n",
              "      <td>0.2</td>\n",
              "      <td>0.0</td>\n",
              "      <td>0.000000</td>\n",
              "      <td>30</td>\n",
              "      <td>5</td>\n",
              "      <td>[0, 0, 1, 1, 0, 0, 1, 0, 1, 0, 0, 0, 0, 0, 0, ...</td>\n",
              "    </tr>\n",
              "    <tr>\n",
              "      <th>1</th>\n",
              "      <td>0.333333</td>\n",
              "      <td>0.4</td>\n",
              "      <td>0.2</td>\n",
              "      <td>0.0</td>\n",
              "      <td>0.2</td>\n",
              "      <td>0.4</td>\n",
              "      <td>0.2</td>\n",
              "      <td>0.4</td>\n",
              "      <td>0.2</td>\n",
              "      <td>0.2</td>\n",
              "      <td>...</td>\n",
              "      <td>0.2</td>\n",
              "      <td>0.2</td>\n",
              "      <td>0.0</td>\n",
              "      <td>0.0</td>\n",
              "      <td>0.2</td>\n",
              "      <td>1.0</td>\n",
              "      <td>0.333333</td>\n",
              "      <td>77</td>\n",
              "      <td>20</td>\n",
              "      <td>[1, 0, 0, 0, 0, 0, 1, 0, 0, 0, 0, 0, 0, 0, 0, ...</td>\n",
              "    </tr>\n",
              "    <tr>\n",
              "      <th>2</th>\n",
              "      <td>0.333333</td>\n",
              "      <td>0.2</td>\n",
              "      <td>0.6</td>\n",
              "      <td>0.2</td>\n",
              "      <td>0.4</td>\n",
              "      <td>0.0</td>\n",
              "      <td>0.4</td>\n",
              "      <td>0.2</td>\n",
              "      <td>0.4</td>\n",
              "      <td>0.2</td>\n",
              "      <td>...</td>\n",
              "      <td>0.0</td>\n",
              "      <td>0.0</td>\n",
              "      <td>0.0</td>\n",
              "      <td>0.0</td>\n",
              "      <td>0.0</td>\n",
              "      <td>0.0</td>\n",
              "      <td>0.000000</td>\n",
              "      <td>56</td>\n",
              "      <td>4</td>\n",
              "      <td>[1, 1, 0, 1, 0, 0, 0, 1, 0, 0, 0, 0, 1, 1, 0, ...</td>\n",
              "    </tr>\n",
              "    <tr>\n",
              "      <th>3</th>\n",
              "      <td>0.000000</td>\n",
              "      <td>0.2</td>\n",
              "      <td>0.0</td>\n",
              "      <td>0.2</td>\n",
              "      <td>0.2</td>\n",
              "      <td>0.0</td>\n",
              "      <td>0.2</td>\n",
              "      <td>0.0</td>\n",
              "      <td>0.0</td>\n",
              "      <td>0.0</td>\n",
              "      <td>...</td>\n",
              "      <td>0.0</td>\n",
              "      <td>0.0</td>\n",
              "      <td>0.0</td>\n",
              "      <td>0.2</td>\n",
              "      <td>0.4</td>\n",
              "      <td>0.4</td>\n",
              "      <td>0.333333</td>\n",
              "      <td>72</td>\n",
              "      <td>3</td>\n",
              "      <td>[0, 0, 1, 0, 0, 1, 0, 0, 0, 0, 0, 0, 0, 0, 0, ...</td>\n",
              "    </tr>\n",
              "    <tr>\n",
              "      <th>4</th>\n",
              "      <td>0.000000</td>\n",
              "      <td>0.0</td>\n",
              "      <td>0.0</td>\n",
              "      <td>0.0</td>\n",
              "      <td>0.0</td>\n",
              "      <td>0.0</td>\n",
              "      <td>0.0</td>\n",
              "      <td>0.0</td>\n",
              "      <td>0.0</td>\n",
              "      <td>0.0</td>\n",
              "      <td>...</td>\n",
              "      <td>0.4</td>\n",
              "      <td>1.0</td>\n",
              "      <td>0.4</td>\n",
              "      <td>1.0</td>\n",
              "      <td>0.4</td>\n",
              "      <td>0.2</td>\n",
              "      <td>0.000000</td>\n",
              "      <td>6</td>\n",
              "      <td>13</td>\n",
              "      <td>[0, 0, 0, 0, 0, 0, 0, 0, 0, 0, 0, 0, 0, 0, 0, ...</td>\n",
              "    </tr>\n",
              "    <tr>\n",
              "      <th>...</th>\n",
              "      <td>...</td>\n",
              "      <td>...</td>\n",
              "      <td>...</td>\n",
              "      <td>...</td>\n",
              "      <td>...</td>\n",
              "      <td>...</td>\n",
              "      <td>...</td>\n",
              "      <td>...</td>\n",
              "      <td>...</td>\n",
              "      <td>...</td>\n",
              "      <td>...</td>\n",
              "      <td>...</td>\n",
              "      <td>...</td>\n",
              "      <td>...</td>\n",
              "      <td>...</td>\n",
              "      <td>...</td>\n",
              "      <td>...</td>\n",
              "      <td>...</td>\n",
              "      <td>...</td>\n",
              "      <td>...</td>\n",
              "      <td>...</td>\n",
              "    </tr>\n",
              "    <tr>\n",
              "      <th>3995</th>\n",
              "      <td>0.000000</td>\n",
              "      <td>0.0</td>\n",
              "      <td>0.0</td>\n",
              "      <td>0.0</td>\n",
              "      <td>0.2</td>\n",
              "      <td>0.0</td>\n",
              "      <td>0.4</td>\n",
              "      <td>0.0</td>\n",
              "      <td>0.2</td>\n",
              "      <td>0.0</td>\n",
              "      <td>...</td>\n",
              "      <td>0.2</td>\n",
              "      <td>0.4</td>\n",
              "      <td>1.0</td>\n",
              "      <td>0.2</td>\n",
              "      <td>0.0</td>\n",
              "      <td>0.0</td>\n",
              "      <td>0.000000</td>\n",
              "      <td>68</td>\n",
              "      <td>38</td>\n",
              "      <td>[0, 0, 0, 0, 0, 1, 0, 1, 0, 0, 0, 0, 0, 1, 0, ...</td>\n",
              "    </tr>\n",
              "    <tr>\n",
              "      <th>3996</th>\n",
              "      <td>1.000000</td>\n",
              "      <td>0.4</td>\n",
              "      <td>0.2</td>\n",
              "      <td>0.2</td>\n",
              "      <td>0.6</td>\n",
              "      <td>0.6</td>\n",
              "      <td>0.4</td>\n",
              "      <td>0.4</td>\n",
              "      <td>0.0</td>\n",
              "      <td>0.2</td>\n",
              "      <td>...</td>\n",
              "      <td>0.4</td>\n",
              "      <td>1.0</td>\n",
              "      <td>0.2</td>\n",
              "      <td>0.0</td>\n",
              "      <td>0.2</td>\n",
              "      <td>1.0</td>\n",
              "      <td>1.000000</td>\n",
              "      <td>20</td>\n",
              "      <td>27</td>\n",
              "      <td>[0, 0, 0, 0, 0, 1, 1, 0, 1, 0, 0, 0, 0, 0, 0, ...</td>\n",
              "    </tr>\n",
              "    <tr>\n",
              "      <th>3997</th>\n",
              "      <td>0.000000</td>\n",
              "      <td>0.0</td>\n",
              "      <td>0.0</td>\n",
              "      <td>0.0</td>\n",
              "      <td>0.0</td>\n",
              "      <td>0.0</td>\n",
              "      <td>0.2</td>\n",
              "      <td>0.0</td>\n",
              "      <td>0.2</td>\n",
              "      <td>0.0</td>\n",
              "      <td>...</td>\n",
              "      <td>1.0</td>\n",
              "      <td>1.0</td>\n",
              "      <td>0.4</td>\n",
              "      <td>1.0</td>\n",
              "      <td>1.0</td>\n",
              "      <td>0.4</td>\n",
              "      <td>0.333333</td>\n",
              "      <td>9</td>\n",
              "      <td>2</td>\n",
              "      <td>[0, 0, 0, 0, 0, 0, 0, 1, 0, 0, 0, 1, 0, 0, 0, ...</td>\n",
              "    </tr>\n",
              "    <tr>\n",
              "      <th>3998</th>\n",
              "      <td>0.333333</td>\n",
              "      <td>0.0</td>\n",
              "      <td>0.4</td>\n",
              "      <td>0.0</td>\n",
              "      <td>0.4</td>\n",
              "      <td>0.2</td>\n",
              "      <td>0.2</td>\n",
              "      <td>0.0</td>\n",
              "      <td>0.0</td>\n",
              "      <td>0.0</td>\n",
              "      <td>...</td>\n",
              "      <td>0.4</td>\n",
              "      <td>0.2</td>\n",
              "      <td>0.2</td>\n",
              "      <td>1.0</td>\n",
              "      <td>0.4</td>\n",
              "      <td>1.0</td>\n",
              "      <td>0.333333</td>\n",
              "      <td>81</td>\n",
              "      <td>37</td>\n",
              "      <td>[0, 1, 0, 1, 0, 0, 0, 0, 0, 0, 0, 1, 1, 0, 0, ...</td>\n",
              "    </tr>\n",
              "    <tr>\n",
              "      <th>3999</th>\n",
              "      <td>0.000000</td>\n",
              "      <td>0.2</td>\n",
              "      <td>0.2</td>\n",
              "      <td>0.2</td>\n",
              "      <td>0.2</td>\n",
              "      <td>0.0</td>\n",
              "      <td>0.2</td>\n",
              "      <td>0.0</td>\n",
              "      <td>0.2</td>\n",
              "      <td>0.4</td>\n",
              "      <td>...</td>\n",
              "      <td>1.0</td>\n",
              "      <td>0.4</td>\n",
              "      <td>0.4</td>\n",
              "      <td>0.4</td>\n",
              "      <td>0.2</td>\n",
              "      <td>0.0</td>\n",
              "      <td>0.000000</td>\n",
              "      <td>63</td>\n",
              "      <td>6</td>\n",
              "      <td>[0, 0, 0, 0, 0, 1, 0, 0, 0, 0, 0, 0, 0, 0, 0, ...</td>\n",
              "    </tr>\n",
              "  </tbody>\n",
              "</table>\n",
              "<p>4000 rows × 1203 columns</p>\n",
              "</div>\n",
              "      <button class=\"colab-df-convert\" onclick=\"convertToInteractive('df-ba6ea73c-10e4-4e3a-b583-043a6e69bfc2')\"\n",
              "              title=\"Convert this dataframe to an interactive table.\"\n",
              "              style=\"display:none;\">\n",
              "        \n",
              "  <svg xmlns=\"http://www.w3.org/2000/svg\" height=\"24px\"viewBox=\"0 0 24 24\"\n",
              "       width=\"24px\">\n",
              "    <path d=\"M0 0h24v24H0V0z\" fill=\"none\"/>\n",
              "    <path d=\"M18.56 5.44l.94 2.06.94-2.06 2.06-.94-2.06-.94-.94-2.06-.94 2.06-2.06.94zm-11 1L8.5 8.5l.94-2.06 2.06-.94-2.06-.94L8.5 2.5l-.94 2.06-2.06.94zm10 10l.94 2.06.94-2.06 2.06-.94-2.06-.94-.94-2.06-.94 2.06-2.06.94z\"/><path d=\"M17.41 7.96l-1.37-1.37c-.4-.4-.92-.59-1.43-.59-.52 0-1.04.2-1.43.59L10.3 9.45l-7.72 7.72c-.78.78-.78 2.05 0 2.83L4 21.41c.39.39.9.59 1.41.59.51 0 1.02-.2 1.41-.59l7.78-7.78 2.81-2.81c.8-.78.8-2.07 0-2.86zM5.41 20L4 18.59l7.72-7.72 1.47 1.35L5.41 20z\"/>\n",
              "  </svg>\n",
              "      </button>\n",
              "      \n",
              "  <style>\n",
              "    .colab-df-container {\n",
              "      display:flex;\n",
              "      flex-wrap:wrap;\n",
              "      gap: 12px;\n",
              "    }\n",
              "\n",
              "    .colab-df-convert {\n",
              "      background-color: #E8F0FE;\n",
              "      border: none;\n",
              "      border-radius: 50%;\n",
              "      cursor: pointer;\n",
              "      display: none;\n",
              "      fill: #1967D2;\n",
              "      height: 32px;\n",
              "      padding: 0 0 0 0;\n",
              "      width: 32px;\n",
              "    }\n",
              "\n",
              "    .colab-df-convert:hover {\n",
              "      background-color: #E2EBFA;\n",
              "      box-shadow: 0px 1px 2px rgba(60, 64, 67, 0.3), 0px 1px 3px 1px rgba(60, 64, 67, 0.15);\n",
              "      fill: #174EA6;\n",
              "    }\n",
              "\n",
              "    [theme=dark] .colab-df-convert {\n",
              "      background-color: #3B4455;\n",
              "      fill: #D2E3FC;\n",
              "    }\n",
              "\n",
              "    [theme=dark] .colab-df-convert:hover {\n",
              "      background-color: #434B5C;\n",
              "      box-shadow: 0px 1px 3px 1px rgba(0, 0, 0, 0.15);\n",
              "      filter: drop-shadow(0px 1px 2px rgba(0, 0, 0, 0.3));\n",
              "      fill: #FFFFFF;\n",
              "    }\n",
              "  </style>\n",
              "\n",
              "      <script>\n",
              "        const buttonEl =\n",
              "          document.querySelector('#df-ba6ea73c-10e4-4e3a-b583-043a6e69bfc2 button.colab-df-convert');\n",
              "        buttonEl.style.display =\n",
              "          google.colab.kernel.accessAllowed ? 'block' : 'none';\n",
              "\n",
              "        async function convertToInteractive(key) {\n",
              "          const element = document.querySelector('#df-ba6ea73c-10e4-4e3a-b583-043a6e69bfc2');\n",
              "          const dataTable =\n",
              "            await google.colab.kernel.invokeFunction('convertToInteractive',\n",
              "                                                     [key], {});\n",
              "          if (!dataTable) return;\n",
              "\n",
              "          const docLinkHtml = 'Like what you see? Visit the ' +\n",
              "            '<a target=\"_blank\" href=https://colab.research.google.com/notebooks/data_table.ipynb>data table notebook</a>'\n",
              "            + ' to learn more about interactive tables.';\n",
              "          element.innerHTML = '';\n",
              "          dataTable['output_type'] = 'display_data';\n",
              "          await google.colab.output.renderOutput(dataTable, element);\n",
              "          const docLink = document.createElement('div');\n",
              "          docLink.innerHTML = docLinkHtml;\n",
              "          element.appendChild(docLink);\n",
              "        }\n",
              "      </script>\n",
              "    </div>\n",
              "  </div>\n",
              "  "
            ]
          },
          "metadata": {},
          "execution_count": 2
        }
      ]
    },
    {
      "cell_type": "markdown",
      "source": [
        "#Variables explicativas: **X**"
      ],
      "metadata": {
        "id": "mfiJbuVb4vKz"
      }
    },
    {
      "cell_type": "code",
      "source": [
        "\n",
        "import matplotlib.pyplot as plt\n",
        "import numpy as np\n",
        "\n",
        "size   = 20    # <----------------------------------------------------------------- AQUÍ FIJO LA QUE VA A SER LA DIMENSIÓN: 20x20\n",
        "agente = 0\n",
        "df     = bd_simulaciones.copy()\n",
        "\n",
        "lista_frames = []\n",
        "X            = []\n",
        "\n",
        "nombre_columnas_ROJO  = ['r' + str(indice) for indice in range(size*size)]\n",
        "nombre_columnas_VERDE = ['g' + str(indice) for indice in range(size*size)]\n",
        "nombre_columnas_AZUL  = ['b' + str(indice) for indice in range(size*size)]\n",
        "\n",
        "\n",
        "for fila in range(len(bd_simulaciones)):\n",
        "  canal_r = pd.array(df[nombre_columnas_ROJO].iloc[fila]).reshape(size,size)\n",
        "  canal_v = pd.array(df[nombre_columnas_VERDE].iloc[fila]).reshape(size,size)\n",
        "  canal_a = pd.array(df[nombre_columnas_AZUL].iloc[fila]).reshape(size,size)\n",
        "\n",
        "  # CUIDADO que np.dstack apila los tres valores de cada pixel\n",
        "  # ----------------------------------------------------------\n",
        "  frame = np.array([canal_r, canal_v, canal_a])\n",
        "\n",
        "  lista_frames.append(frame)\n",
        "\n",
        "X = np.array(lista_frames)\n",
        "X.shape\n"
      ],
      "metadata": {
        "colab": {
          "base_uri": "https://localhost:8080/"
        },
        "id": "eSk8Cn0AHqz8",
        "outputId": "cd9debce-dd6f-4c50-aa0e-31e4b48fdf25"
      },
      "execution_count": 2,
      "outputs": [
        {
          "output_type": "execute_result",
          "data": {
            "text/plain": [
              "(4000, 3, 20, 20)"
            ]
          },
          "metadata": {},
          "execution_count": 2
        }
      ]
    },
    {
      "cell_type": "markdown",
      "source": [
        "#Target: **Y**."
      ],
      "metadata": {
        "id": "iD0mK_9x485b"
      }
    },
    {
      "cell_type": "code",
      "source": [
        "\n",
        "lista_targets = []\n",
        "\n",
        "for fila in range(len(bd_simulaciones)):\n",
        "  lista_id_agentes = bd_simulaciones.iloc[fila]['Target'].replace('[','').replace(']','')\n",
        "  target = [int(caracter) for caracter in lista_id_agentes.split(',')]\n",
        "  target = np.array(target)\n",
        "  target = target.reshape(size,size)\n",
        "\n",
        "  # Con los paréntesis  '['  ']' sale de dimensión: (8000, 1, 10, 10)   # <-------------------------- Aquí ajusto la DIMENSIÓN\n",
        "  #lista_targets.append([target])\n",
        "  # Si queremos de dimensión: (8000, 10, 10)\n",
        "  lista_targets.append(target)\n",
        "\n",
        "Y = np.array(lista_targets)\n",
        "Y.shape\n"
      ],
      "metadata": {
        "colab": {
          "base_uri": "https://localhost:8080/"
        },
        "id": "u6cv6TWZHq3M",
        "outputId": "489d9c41-1338-423f-d2a0-186b60e76539"
      },
      "execution_count": 3,
      "outputs": [
        {
          "output_type": "execute_result",
          "data": {
            "text/plain": [
              "(4000, 20, 20)"
            ]
          },
          "metadata": {},
          "execution_count": 3
        }
      ]
    },
    {
      "cell_type": "markdown",
      "source": [
        "#**CONVERSIÓN EN TENSORES DE PyTorch**."
      ],
      "metadata": {
        "id": "YQSjRMpk5GhL"
      }
    },
    {
      "cell_type": "code",
      "source": [
        "\n",
        "import numpy as np\n",
        "import torch\n",
        "\n",
        "# PRIMERO TENEMOS QUE EXTRAER LA MATRIX:  X\n",
        "# y los valores del TARGET:               Y\n",
        "#\n",
        "# Luego pasaremos (X, Y) al Dataset que creamos a continuación.\n",
        "# --------------------------------------------------------------\n",
        "\n",
        "X_train = X\n",
        "Y_train = Y                 \n",
        "\n",
        "# CREAMOS UNA CLASE PARA LOS DATOS\n",
        "# ================================\n",
        "\n",
        "class Dataset_frames(torch.utils.data.Dataset):\n",
        "  def __init__(self, X, Y):\n",
        "    self.X = torch.tensor(X).float()\n",
        "    self.Y = torch.tensor(Y).long()\n",
        "\n",
        "  def __len__(self):\n",
        "    return len(self.X)\n",
        "\n",
        "  def __getitem__(self, ix):\n",
        "    return self.X[ix], self.Y[ix]\n",
        "\n",
        "\n",
        "# SELECCIONANDO GRUPOS DE OBSERVACIONES PARA VALIDACIÓN\n",
        "# -----------------------------------------------------\n",
        "\n",
        "from sklearn.model_selection import train_test_split\n",
        "\n",
        "X_subset, X_val, Y_subset, Y_val = train_test_split(X_train, Y_train, test_size = 0.2)\n",
        "\n",
        "dataset = {\n",
        "    'train' : Dataset_frames(X_subset, Y_subset),\n",
        "    'val'   : Dataset_frames(X_val, Y_val)\n",
        "}    \n",
        "\n",
        "dataloader = {\n",
        "    'train' : torch.utils.data.DataLoader(dataset['train'], batch_size=40,   shuffle=False),\n",
        "    'val'   : torch.utils.data.DataLoader(dataset['val'],   batch_size=40, shuffle=False)\n",
        "}\n"
      ],
      "metadata": {
        "id": "fJMEv00BHq5m"
      },
      "execution_count": 4,
      "outputs": []
    },
    {
      "cell_type": "code",
      "source": [
        "\n",
        "frames, mascara = next(iter(dataloader['train']))\n",
        "frames.shape, mascara.shape\n"
      ],
      "metadata": {
        "colab": {
          "base_uri": "https://localhost:8080/"
        },
        "id": "jZ9zWZmJIMEm",
        "outputId": "b7a348f3-f622-4dcc-c4df-69f61d7505a5"
      },
      "execution_count": 5,
      "outputs": [
        {
          "output_type": "execute_result",
          "data": {
            "text/plain": [
              "(torch.Size([40, 3, 20, 20]), torch.Size([40, 20, 20]))"
            ]
          },
          "metadata": {},
          "execution_count": 5
        }
      ]
    },
    {
      "cell_type": "code",
      "source": [],
      "metadata": {
        "id": "NFR3-7pB1BLx"
      },
      "execution_count": null,
      "outputs": []
    },
    {
      "cell_type": "code",
      "source": [],
      "metadata": {
        "id": "HumAhTFJ1BRB"
      },
      "execution_count": null,
      "outputs": []
    },
    {
      "cell_type": "code",
      "source": [
        "import matplotlib.pyplot as plt\n",
        "import numpy as np\n",
        "\n",
        "fig = plt.figure(dpi=400)\n",
        "c, r = 10, 10\n",
        "for j in range(r):\n",
        "  for i in range(c):\n",
        "    ix = j*c + i\n",
        "    ax = plt.subplot(r, c, ix + 1)\n",
        "    ax.imshow(np.moveaxis(X[ix], 0, -1))\n",
        "    ax.axis('off')\n",
        "plt.tight_layout()\n",
        "plt.show() "
      ],
      "metadata": {
        "colab": {
          "base_uri": "https://localhost:8080/",
          "height": 908
        },
        "id": "F7LZv5OD1B1p",
        "outputId": "4295f81a-4bfc-4368-d936-4c1f6b3e7287"
      },
      "execution_count": 6,
      "outputs": [
        {
          "output_type": "display_data",
          "data": {
            "text/plain": [
              "<Figure size 2400x1600 with 100 Axes>"
            ],
            "image/png": "[encoded data removed]"
          },
          "metadata": {
            "needs_background": "light"
          }
        }
      ]
    },
    {
      "cell_type": "code",
      "source": [],
      "metadata": {
        "id": "k_HmGd6e1CsD"
      },
      "execution_count": null,
      "outputs": []
    },
    {
      "cell_type": "code",
      "source": [],
      "metadata": {
        "id": "mifjFC-U1Cu4"
      },
      "execution_count": null,
      "outputs": []
    },
    {
      "cell_type": "markdown",
      "source": [
        "#**DEFINICIÓN DE LA RED Y MÉTODO PARA EL ENTRENAMIENTO**."
      ],
      "metadata": {
        "id": "LZTFi_-K5QpL"
      }
    },
    {
      "cell_type": "code",
      "source": [
        "\n",
        "from sklearn.metrics import accuracy_score\n",
        "\n",
        "# Fijamos el número de canales y filtros\n",
        "# --------------------------------------\n",
        "c           = 3\n",
        "n_filtros   = 6\n",
        "kernel_size = 3\n",
        "\n",
        "# CONSTRUIMOS EL MODELO\n",
        "# =====================\n",
        "\n",
        "def softmax(x):\n",
        "  return torch.exp(x) / torch.exp(x).sum(axis=-1, keepdims=True)\n",
        "\n",
        "# ---------------------------------------------------------------------\n",
        "# Probamos inicialmente con un grid (10x10)\n",
        "# ---------------------------------------------------------------------\n",
        "\n",
        "def build_model(c=3, n_filtros=6, kernel_size=3):        # <-------------------------------------------------------- MODIFICAR (Definir la RED CONVOLUCIONAL)\n",
        "  padding = kernel_size // 2\n",
        "  model = torch.nn.Sequential(\n",
        "      torch.nn.Conv2d(c, n_filtros, kernel_size, padding=padding),\n",
        "      torch.nn.ReLU(),\n",
        "      torch.nn.Conv2d(n_filtros, 2, (3,3), padding=1)\n",
        "  )\n",
        "  return model\n",
        "\n",
        "\n",
        "# DEFINIMOS LA FUNCIÓN DE ENTRENAMIENTO\n",
        "# =====================================\n",
        "\n",
        "def fit(model, dataloader, epochs=10, log_each=1):\n",
        "   criterion = torch.nn.CrossEntropyLoss()\n",
        "   optimizer = torch.optim.SGD(model.parameters(), lr=0.8)\n",
        "\n",
        "   l, acc         = [], []\n",
        "   val_l, val_acc = [], []\n",
        "   \n",
        "   for e in range(1, epochs+1):\n",
        "      _l, _acc = [], []\n",
        "      model.train()  # <------------------------------------------ MODO de ENTRENAMIENTO\n",
        "      for x_b, y_b in dataloader['train']:\n",
        "        y_pred = model(x_b)\n",
        "        loss   = criterion(y_pred, y_b)  \n",
        "        _l.append(loss.item())                                                                        \n",
        "\n",
        "        optimizer.zero_grad()\n",
        "        loss.backward()\n",
        "        optimizer.step()\n",
        "\n",
        "        y_probas = torch.argmax(softmax(y_pred), axis=1)\n",
        "        # Los SCORES de SKLEARN no aceptan matrices, así que hay que convertirlas en dimensión 1D (usar flatten())\n",
        "        _acc.append(accuracy_score(y_b.numpy().flatten(), y_probas.detach().numpy().flatten()))\n",
        "\n",
        "      l.append(np.mean(_l))\n",
        "      acc.append(np.mean(_acc))\n",
        "      if not e % log_each:\n",
        "        print(f\"Epoch {e}/{epochs} loss {l[-1]:.5f} acc {acc[-1]:.5f}\")\n",
        "        #print(f\"Epoch {e}/{epochs} loss {l[-1]:.5f}\")\n",
        "\n",
        "\n",
        "      model.eval()  # <------------------------------------------- MODO de EVALUACIÓN\n",
        "      _l, _acc = [], []\n",
        "      with torch.no_grad():\n",
        "        for x_b, y_b in dataloader['val']:\n",
        "          y_pred = model(x_b)\n",
        "          loss   = criterion(y_pred, y_b)\n",
        "          _l.append(loss.item())\n",
        "          y_probas = torch.argmax(softmax(y_pred), axis=1)\n",
        "          _acc.append(accuracy_score(y_b.numpy().flatten(), y_probas.numpy().flatten()))\n",
        "      val_l.append(np.mean(_l))\n",
        "      val_acc.append(np.mean(_acc))  \n",
        "\n",
        "   return {'epoch':list(range(1,epochs+1)), 'loss':l, 'acc': acc, 'val_loss': val_l, 'val_acc': val_acc}  \n",
        "   #return {'epoch':list(range(1,epochs+1)), 'loss':l, 'val_loss': val_l} \n",
        "\n"
      ],
      "metadata": {
        "id": "h6er9x05IMIe"
      },
      "execution_count": 7,
      "outputs": []
    },
    {
      "cell_type": "markdown",
      "source": [
        "#**Nos preparamos para entrenar el modelo**."
      ],
      "metadata": {
        "id": "YSUT-9mY5YdC"
      }
    },
    {
      "cell_type": "code",
      "source": [
        "\n",
        "# INSTANCIAMOS EL MODELO\n",
        "# ======================\n",
        "\n",
        "# Imprimimos junta al número de Epoch, el valor de la función de pérdida y la accuracy (Roza el 90%)\n",
        "model  = build_model()\n",
        "hist   = fit(model, dataloader, 20)\n"
      ],
      "metadata": {
        "colab": {
          "base_uri": "https://localhost:8080/"
        },
        "id": "YWj8mE8aIeuu",
        "outputId": "c66f30a5-1a39-4af1-e51a-99cc955a1fbf"
      },
      "execution_count": 8,
      "outputs": [
        {
          "output_type": "stream",
          "name": "stdout",
          "text": [
            "Epoch 1/20 loss 0.15955 acc 0.83561\n",
            "Epoch 2/20 loss 0.03164 acc 0.95048\n",
            "Epoch 3/20 loss 0.02347 acc 0.94804\n",
            "Epoch 4/20 loss 0.01995 acc 0.94803\n",
            "Epoch 5/20 loss 0.01769 acc 0.94875\n",
            "Epoch 6/20 loss 0.01594 acc 0.94961\n",
            "Epoch 7/20 loss 0.01445 acc 0.95102\n",
            "Epoch 8/20 loss 0.01315 acc 0.95268\n",
            "Epoch 9/20 loss 0.01201 acc 0.95437\n",
            "Epoch 10/20 loss 0.01101 acc 0.95608\n",
            "Epoch 11/20 loss 0.01012 acc 0.95755\n",
            "Epoch 12/20 loss 0.00936 acc 0.95861\n",
            "Epoch 13/20 loss 0.00869 acc 0.95950\n",
            "Epoch 14/20 loss 0.00810 acc 0.96025\n",
            "Epoch 15/20 loss 0.00759 acc 0.96094\n",
            "Epoch 16/20 loss 0.00713 acc 0.96163\n",
            "Epoch 17/20 loss 0.00673 acc 0.96229\n",
            "Epoch 18/20 loss 0.00637 acc 0.96290\n",
            "Epoch 19/20 loss 0.00605 acc 0.96344\n",
            "Epoch 20/20 loss 0.00576 acc 0.96397\n"
          ]
        }
      ]
    },
    {
      "cell_type": "code",
      "source": [
        "\n",
        "from torchsummary import summary\n",
        "\n",
        "#print(model)\n",
        "\n",
        "# EMPLEAR:\n",
        "# from torchsummary import summary\n",
        "# summary(your_model, input_size=(channels, H, W))\n",
        "# -------------------------------------------------\n",
        "\n",
        "# Supongo que podría valer: (3, 10, 10)\n",
        "summary(model, input_size=(3, 20, 20))\n"
      ],
      "metadata": {
        "colab": {
          "base_uri": "https://localhost:8080/"
        },
        "id": "itJztOQIIexd",
        "outputId": "f2a9eae6-a2b7-496f-e43c-ed94b98cde32"
      },
      "execution_count": null,
      "outputs": [
        {
          "output_type": "stream",
          "name": "stdout",
          "text": [
            "----------------------------------------------------------------\n",
            "        Layer (type)               Output Shape         Param #\n",
            "================================================================\n",
            "            Conv2d-1            [-1, 6, 20, 20]             168\n",
            "              ReLU-2            [-1, 6, 20, 20]               0\n",
            "            Conv2d-3            [-1, 2, 20, 20]             110\n",
            "================================================================\n",
            "Total params: 278\n",
            "Trainable params: 278\n",
            "Non-trainable params: 0\n",
            "----------------------------------------------------------------\n",
            "Input size (MB): 0.00\n",
            "Forward/backward pass size (MB): 0.04\n",
            "Params size (MB): 0.00\n",
            "Estimated Total Size (MB): 0.05\n",
            "----------------------------------------------------------------\n"
          ]
        }
      ]
    },
    {
      "cell_type": "code",
      "source": [
        "\n",
        "# GRAFICAMOS LOS RESULTADOS DEL APRENDIZAJE\n",
        "# =========================================\n",
        "\n",
        "import matplotlib.pyplot as plt\n",
        "\n",
        "fig = plt.figure(dpi=60)\n",
        "#fig = plt.figure(figsize=(10,6))\n",
        "ax  = plt.subplot(111)\n",
        "pd.DataFrame(hist).plot(x='epoch', y=['loss','val_loss'], grid=True, ax=ax)\n",
        "#lt.ylim([0,0.010])\n",
        "plt.show()\n"
      ],
      "metadata": {
        "colab": {
          "base_uri": "https://localhost:8080/",
          "height": 237
        },
        "id": "38Frts_OIe6d",
        "outputId": "93867e7d-b3a6-41e5-9218-31ead248961b"
      },
      "execution_count": 9,
      "outputs": [
        {
          "output_type": "display_data",
          "data": {
            "text/plain": [
              "<Figure size 360x240 with 1 Axes>"
            ],
            "image/png": "[encoded data removed]"
          },
          "metadata": {
            "needs_background": "light"
          }
        }
      ]
    },
    {
      "cell_type": "code",
      "source": [
        "\n",
        "# GRAFICAMOS LOS RESULTADOS DEL APRENDIZAJE\n",
        "# =========================================\n",
        "\n",
        "import matplotlib.pyplot as plt\n",
        "\n",
        "fig = plt.figure(dpi=60)\n",
        "#fig = plt.figure(figsize=(10,6))\n",
        "ax  = plt.subplot(111)\n",
        "pd.DataFrame(hist).plot(x='epoch', y=['acc','val_acc'], grid=True, ax=ax)\n",
        "#lt.ylim([0,0.010])\n",
        "plt.show()\n"
      ],
      "metadata": {
        "colab": {
          "base_uri": "https://localhost:8080/",
          "height": 237
        },
        "id": "X1xQVbyoIwa4",
        "outputId": "238b4243-77f3-4068-e362-cbf5b7b91ffe"
      },
      "execution_count": 10,
      "outputs": [
        {
          "output_type": "display_data",
          "data": {
            "text/plain": [
              "<Figure size 360x240 with 1 Axes>"
            ],
            "image/png": "[encoded data removed]"
          },
          "metadata": {
            "needs_background": "light"
          }
        }
      ]
    },
    {
      "cell_type": "markdown",
      "source": [
        "#Comprobamos con alguno de los grid de las simulaciones, la detección de los **agentes mutantes**."
      ],
      "metadata": {
        "id": "KeXBtm6bMqRd"
      }
    },
    {
      "cell_type": "markdown",
      "source": [
        "\n",
        "<figure>\n",
        "<center>\n",
        "<img src='https://github.com/oscarserc/IMAGENES/blob/main/Salida_1.png?raw=true' width=\"880\"/>\n",
        "<figcaption>fig. 2: El procesamiento que realiza la red neuronal (<i>empleando una función de pérdida 'Cross Entropy Loss'</i>) proporciona una salida de 2 matrices en este caso (una por cada clase, y cuyo tamaño es el del grid). Por ello cada agente (pixel de la imagen que se le pasa a la red CNN) tiene asociados 2 valores. Para llevar a cabo la clasificación, tenemos que transformar los valores de salida en probabilidades. Para esto llevamos a cabo una <b>tranformación Softmax</b>, tal y como se ve en la imagen. Para obtener la clase de agente, bastará posteriormente con extraer el índice donde ocurre el mayor de los dos valores (<i>arg max = argumento máximo</i>). Esto permite generar la matriz final con la identidad estimada de los agentes (0: agente emocional, 1: agente traidor).</figcaption></center>\n",
        "</figure>\n"
      ],
      "metadata": {
        "id": "vcKJhNh2B2wJ"
      }
    },
    {
      "cell_type": "code",
      "source": [
        "\n",
        "from sklearn.metrics import confusion_matrix\n",
        "\n",
        "torch.set_printoptions(precision=2)\n",
        "\n",
        "X_prueba, y_prueba = next(iter(dataloader['val']))\n",
        "y_prediccion = model(X_prueba)\n",
        "\n",
        "y_prob = torch.argmax(softmax(y_prediccion), axis=1)\n",
        "y_prob[1]\n"
      ],
      "metadata": {
        "id": "Hn7JexuVIe8u",
        "colab": {
          "base_uri": "https://localhost:8080/"
        },
        "outputId": "06939ced-ed46-499e-cd55-c8ef6974600d"
      },
      "execution_count": 11,
      "outputs": [
        {
          "output_type": "execute_result",
          "data": {
            "text/plain": [
              "tensor([[1, 1, 1, 0, 0, 0, 0, 0, 0, 0, 0, 1, 0, 0, 0, 0, 0, 0, 0, 0],\n",
              "        [1, 1, 1, 0, 0, 0, 0, 0, 0, 0, 0, 0, 0, 0, 0, 0, 0, 0, 0, 1],\n",
              "        [1, 1, 0, 0, 0, 1, 0, 1, 0, 0, 0, 0, 0, 0, 0, 0, 0, 0, 0, 0],\n",
              "        [0, 0, 1, 0, 0, 0, 0, 1, 0, 0, 0, 0, 0, 0, 0, 0, 1, 1, 0, 0],\n",
              "        [0, 0, 0, 0, 0, 0, 1, 0, 0, 0, 0, 1, 1, 1, 0, 0, 0, 0, 0, 0],\n",
              "        [0, 0, 0, 0, 0, 0, 0, 0, 0, 1, 0, 0, 0, 0, 1, 0, 0, 0, 0, 0],\n",
              "        [0, 0, 0, 0, 0, 1, 1, 0, 0, 0, 0, 0, 1, 0, 0, 0, 0, 1, 0, 0],\n",
              "        [0, 0, 0, 0, 0, 1, 0, 0, 0, 0, 0, 0, 0, 0, 0, 0, 0, 0, 0, 0],\n",
              "        [0, 0, 0, 0, 0, 0, 0, 0, 0, 0, 0, 0, 0, 0, 0, 0, 0, 0, 1, 1],\n",
              "        [0, 0, 0, 0, 0, 0, 0, 0, 0, 0, 0, 0, 0, 0, 0, 0, 0, 1, 1, 1],\n",
              "        [0, 0, 0, 0, 0, 0, 0, 0, 0, 0, 0, 0, 0, 0, 0, 0, 0, 1, 1, 1],\n",
              "        [0, 0, 0, 0, 0, 1, 0, 0, 0, 0, 1, 1, 0, 0, 0, 0, 1, 0, 0, 1],\n",
              "        [0, 0, 0, 0, 0, 0, 1, 0, 0, 0, 0, 1, 0, 0, 0, 0, 0, 0, 0, 1],\n",
              "        [0, 0, 0, 0, 0, 0, 0, 0, 0, 0, 0, 0, 0, 0, 0, 0, 0, 0, 1, 1],\n",
              "        [0, 0, 0, 0, 0, 0, 0, 0, 1, 0, 1, 0, 0, 0, 0, 0, 0, 0, 0, 0],\n",
              "        [0, 0, 0, 0, 0, 0, 0, 0, 1, 1, 1, 1, 0, 0, 1, 1, 0, 0, 0, 1],\n",
              "        [0, 0, 0, 0, 0, 0, 0, 0, 0, 0, 1, 0, 0, 0, 1, 1, 0, 0, 0, 0],\n",
              "        [0, 0, 0, 0, 0, 0, 0, 1, 0, 0, 1, 0, 0, 0, 0, 0, 0, 0, 0, 0],\n",
              "        [0, 0, 0, 0, 0, 0, 0, 0, 0, 0, 0, 1, 1, 1, 0, 0, 1, 0, 0, 0],\n",
              "        [0, 0, 0, 0, 0, 0, 0, 0, 0, 0, 0, 1, 1, 1, 0, 0, 1, 0, 0, 0]])"
            ]
          },
          "metadata": {},
          "execution_count": 11
        }
      ]
    },
    {
      "cell_type": "code",
      "source": [
        "\n",
        "y_prueba[1]\n"
      ],
      "metadata": {
        "id": "Hi1xCtB22fIk",
        "colab": {
          "base_uri": "https://localhost:8080/"
        },
        "outputId": "8b99e77a-1c78-4092-db52-1baa719dbf6e"
      },
      "execution_count": 12,
      "outputs": [
        {
          "output_type": "execute_result",
          "data": {
            "text/plain": [
              "tensor([[1, 1, 1, 0, 0, 0, 0, 0, 0, 0, 0, 1, 0, 0, 0, 0, 0, 0, 0, 0],\n",
              "        [0, 0, 0, 0, 0, 0, 0, 0, 0, 0, 0, 0, 0, 0, 0, 0, 0, 0, 0, 0],\n",
              "        [1, 1, 0, 0, 0, 1, 0, 1, 0, 0, 0, 0, 0, 0, 0, 0, 0, 0, 0, 0],\n",
              "        [0, 0, 1, 0, 0, 0, 0, 1, 0, 0, 0, 0, 0, 0, 0, 0, 1, 1, 0, 0],\n",
              "        [0, 0, 0, 0, 0, 0, 1, 0, 0, 0, 0, 1, 1, 1, 0, 0, 0, 0, 0, 0],\n",
              "        [0, 0, 0, 0, 0, 0, 0, 0, 0, 1, 0, 0, 0, 0, 1, 0, 0, 0, 0, 0],\n",
              "        [0, 0, 0, 0, 0, 1, 1, 0, 0, 0, 0, 0, 1, 0, 0, 0, 0, 1, 0, 0],\n",
              "        [0, 0, 0, 0, 0, 1, 0, 0, 0, 0, 0, 0, 0, 0, 0, 0, 0, 0, 0, 0],\n",
              "        [0, 0, 0, 0, 0, 0, 0, 0, 0, 0, 0, 0, 0, 0, 0, 0, 0, 0, 0, 0],\n",
              "        [0, 0, 0, 0, 0, 0, 0, 0, 0, 0, 0, 0, 0, 0, 0, 0, 0, 0, 0, 0],\n",
              "        [0, 0, 0, 0, 0, 0, 0, 0, 0, 0, 0, 0, 0, 0, 0, 0, 0, 1, 1, 1],\n",
              "        [0, 0, 0, 0, 0, 1, 0, 0, 0, 0, 1, 1, 0, 0, 0, 0, 1, 0, 0, 0],\n",
              "        [0, 0, 0, 0, 0, 0, 1, 0, 0, 0, 0, 1, 0, 0, 0, 0, 0, 0, 0, 0],\n",
              "        [0, 0, 0, 0, 0, 0, 0, 0, 0, 0, 0, 0, 0, 0, 0, 0, 0, 0, 1, 0],\n",
              "        [0, 0, 0, 0, 0, 0, 0, 0, 1, 0, 1, 0, 0, 0, 0, 0, 0, 0, 0, 0],\n",
              "        [0, 0, 0, 0, 0, 0, 0, 0, 0, 0, 0, 0, 0, 0, 0, 0, 0, 0, 0, 0],\n",
              "        [0, 0, 0, 0, 0, 0, 0, 0, 0, 0, 1, 0, 0, 0, 1, 1, 0, 0, 0, 0],\n",
              "        [0, 0, 0, 0, 0, 0, 0, 1, 0, 0, 1, 0, 0, 0, 0, 0, 0, 0, 0, 0],\n",
              "        [0, 0, 0, 0, 0, 0, 0, 0, 0, 0, 0, 1, 0, 1, 0, 0, 1, 0, 0, 0],\n",
              "        [0, 0, 0, 0, 0, 0, 0, 0, 0, 0, 0, 1, 0, 1, 0, 0, 1, 0, 0, 0]])"
            ]
          },
          "metadata": {},
          "execution_count": 12
        }
      ]
    },
    {
      "cell_type": "code",
      "source": [
        "y_prueba[1,1,3]"
      ],
      "metadata": {
        "colab": {
          "base_uri": "https://localhost:8080/"
        },
        "id": "mtma52V6RYZl",
        "outputId": "78114d2c-1235-400c-c2f6-c51ccfe2a8d8"
      },
      "execution_count": 13,
      "outputs": [
        {
          "output_type": "execute_result",
          "data": {
            "text/plain": [
              "tensor(0)"
            ]
          },
          "metadata": {},
          "execution_count": 13
        }
      ]
    },
    {
      "cell_type": "code",
      "source": [],
      "metadata": {
        "id": "9p0Kb2WrRYcu"
      },
      "execution_count": null,
      "outputs": []
    },
    {
      "cell_type": "markdown",
      "source": [
        "#Hemos elegido uno de los casos en los que acierta la identidad de todos los agentes:"
      ],
      "metadata": {
        "id": "VBCtxC5QM3m6"
      }
    },
    {
      "cell_type": "code",
      "source": [
        "\n",
        "confusion_matrix(y_prueba[1].flatten().numpy(), y_prob[1].flatten().numpy())\n"
      ],
      "metadata": {
        "colab": {
          "base_uri": "https://localhost:8080/"
        },
        "id": "49OtnblZLoBQ",
        "outputId": "9f1be356-3ab7-4833-ac05-3553e966bb91"
      },
      "execution_count": 14,
      "outputs": [
        {
          "output_type": "execute_result",
          "data": {
            "text/plain": [
              "array([[333,  21],\n",
              "       [  0,  46]])"
            ]
          },
          "metadata": {},
          "execution_count": 14
        }
      ]
    },
    {
      "cell_type": "code",
      "source": [
        "\n",
        "from sklearn.metrics import ConfusionMatrixDisplay\n",
        "\n",
        "# Agente emocional         --> código: 0\n",
        "# Agente mutante (traidor) --> código: 1\n",
        "# --------------------------------------\n",
        "ConfusionMatrixDisplay.from_predictions(y_prueba[1].flatten().numpy(), y_prob[1].flatten().numpy())\n"
      ],
      "metadata": {
        "colab": {
          "base_uri": "https://localhost:8080/",
          "height": 296
        },
        "id": "Sefzg9DcNDWA",
        "outputId": "652e2041-771f-40e2-e88b-5918b8ee8753"
      },
      "execution_count": 15,
      "outputs": [
        {
          "output_type": "execute_result",
          "data": {
            "text/plain": [
              "<sklearn.metrics._plot.confusion_matrix.ConfusionMatrixDisplay at 0x7f048b524fd0>"
            ]
          },
          "metadata": {},
          "execution_count": 15
        },
        {
          "output_type": "display_data",
          "data": {
            "text/plain": [
              "<Figure size 432x288 with 2 Axes>"
            ],
            "image/png": "[encoded data removed]"
          },
          "metadata": {
            "needs_background": "light"
          }
        }
      ]
    },
    {
      "cell_type": "markdown",
      "source": [
        "#Ahora probamos con todos los píxeles de los frames (de 10x10) del conjunto de **DATOS de ENTRENAMIENTO**."
      ],
      "metadata": {
        "id": "iMFiQxobWJEM"
      }
    },
    {
      "cell_type": "code",
      "source": [
        "\n",
        "from functools import reduce \n",
        "\n",
        "predicciones_train  = []\n",
        "observaciones_train = []\n",
        "\n",
        "# Iteramos por el conjunto de datos de Validación\n",
        "# -----------------------------------------------\n",
        "for x_b, y_b in dataloader['train']:\n",
        "  y_pred = model(x_b)\n",
        "  y_prob = torch.argmax(softmax(y_pred), axis=1)\n",
        "  # Se añaden como arrays a la lista, por lo que convertimos previamente a una lista\n",
        "  # El resultado es una lista de lista, por lo que las reducimos a una sola más abajo\n",
        "  # (Esto es así porque el procedimiento confusion_matrix sólo opera datos de 1 dimensión)\n",
        "  predicciones_train.append(list(y_prob.numpy().flatten()))\n",
        "  observaciones_train.append(list(y_b.numpy().flatten()))\n",
        "\n",
        "data_pred_train = reduce(lambda a, b: a+b, predicciones_train)\n",
        "data_obs_train  = reduce(lambda a, b: a+b, observaciones_train) \n",
        "\n",
        "confusion_matrix(data_obs_train, data_pred_train)\n"
      ],
      "metadata": {
        "colab": {
          "base_uri": "https://localhost:8080/"
        },
        "id": "nkfBdKVlXisn",
        "outputId": "4d21da46-b631-4c08-d3d9-9240e92befe9"
      },
      "execution_count": 16,
      "outputs": [
        {
          "output_type": "execute_result",
          "data": {
            "text/plain": [
              "array([[1039466,   46115],\n",
              "       [     18,  194401]])"
            ]
          },
          "metadata": {},
          "execution_count": 16
        }
      ]
    },
    {
      "cell_type": "code",
      "source": [
        "\n",
        "ConfusionMatrixDisplay.from_predictions(data_obs_train, data_pred_train, normalize='all', values_format='.3%')\n"
      ],
      "metadata": {
        "colab": {
          "base_uri": "https://localhost:8080/",
          "height": 297
        },
        "id": "dgc1lhFhYIHw",
        "outputId": "9fc89f57-24e6-4533-f99a-a6c19025a191"
      },
      "execution_count": 17,
      "outputs": [
        {
          "output_type": "execute_result",
          "data": {
            "text/plain": [
              "<sklearn.metrics._plot.confusion_matrix.ConfusionMatrixDisplay at 0x7f048b5c8a10>"
            ]
          },
          "metadata": {},
          "execution_count": 17
        },
        {
          "output_type": "display_data",
          "data": {
            "text/plain": [
              "<Figure size 432x288 with 2 Axes>"
            ],
            "image/png": "[encoded data removed]"
          },
          "metadata": {
            "needs_background": "light"
          }
        }
      ]
    },
    {
      "cell_type": "markdown",
      "source": [
        "#Ahora probamos con todos los píxeles de los frames (de 10x10) del conjunto de **DATOS de VALIDACIÓN**."
      ],
      "metadata": {
        "id": "keAxNcQDX8i7"
      }
    },
    {
      "cell_type": "code",
      "source": [
        "\n",
        "from functools import reduce \n",
        "\n",
        "predicciones  = []\n",
        "observaciones = []\n",
        "\n",
        "# Iteramos por el conjunto de datos de Validación\n",
        "# -----------------------------------------------\n",
        "for x_b, y_b in dataloader['val']:\n",
        "  y_pred = model(x_b)\n",
        "  y_prob = torch.argmax(softmax(y_pred), axis=1)\n",
        "  # Se añaden como arrays a la lista, por lo que convertimos previamente a una lista\n",
        "  # El resultado es una lista de lista, por lo que las reducimos a una sola más abajo\n",
        "  # (Esto es así porque el procedimiento confusion_matrix sólo opera datos de 1 dimensión)\n",
        "  predicciones.append(list(y_prob.numpy().flatten()))\n",
        "  observaciones.append(list(y_b.numpy().flatten()))\n",
        "\n",
        "data_pred = reduce(lambda a, b: a+b, predicciones)\n",
        "data_obs  = reduce(lambda a, b: a+b, observaciones) \n",
        "\n",
        "confusion_matrix(data_obs, data_pred)\n",
        "\n"
      ],
      "metadata": {
        "colab": {
          "base_uri": "https://localhost:8080/"
        },
        "id": "jiwZToVDMDRz",
        "outputId": "16b2a356-a04b-42ab-e663-7840b688c024"
      },
      "execution_count": 18,
      "outputs": [
        {
          "output_type": "execute_result",
          "data": {
            "text/plain": [
              "array([[260074,  11385],\n",
              "       [     2,  48539]])"
            ]
          },
          "metadata": {},
          "execution_count": 18
        }
      ]
    },
    {
      "cell_type": "code",
      "source": [
        "\n",
        "ConfusionMatrixDisplay.from_predictions(data_obs, data_pred, normalize='all', values_format='.3%')\n"
      ],
      "metadata": {
        "colab": {
          "base_uri": "https://localhost:8080/",
          "height": 297
        },
        "id": "3pgxs82eUOOX",
        "outputId": "2aec4112-c247-4497-e3d7-ecb9d4e0c8e1"
      },
      "execution_count": 19,
      "outputs": [
        {
          "output_type": "execute_result",
          "data": {
            "text/plain": [
              "<sklearn.metrics._plot.confusion_matrix.ConfusionMatrixDisplay at 0x7f048b5fedd0>"
            ]
          },
          "metadata": {},
          "execution_count": 19
        },
        {
          "output_type": "display_data",
          "data": {
            "text/plain": [
              "<Figure size 432x288 with 2 Axes>"
            ],
            "image/png": "[encoded data removed]"
          },
          "metadata": {
            "needs_background": "light"
          }
        }
      ]
    },
    {
      "cell_type": "code",
      "source": [],
      "metadata": {
        "id": "-h830XZIEdCO"
      },
      "execution_count": null,
      "outputs": []
    },
    {
      "cell_type": "code",
      "source": [],
      "metadata": {
        "id": "4mqbe7WBQJDA"
      },
      "execution_count": null,
      "outputs": []
    },
    {
      "cell_type": "markdown",
      "source": [
        "#Representamos con colores a los agentes mutantes correcta o equivocadamente identificados."
      ],
      "metadata": {
        "id": "8G6yDv6rQJRX"
      }
    },
    {
      "cell_type": "code",
      "source": [
        "\n",
        "from sklearn.metrics import confusion_matrix\n",
        "\n",
        "torch.set_printoptions(precision=2)\n",
        "\n",
        "X_obs, y_obs = next(iter(dataloader['val']))\n",
        "y_probab = model(X_obs)\n",
        "y_predic = torch.argmax(softmax(y_probab), axis=1)\n",
        "\n",
        "# Utilizamos códigos para representar los colores y así identificar\n",
        "# mejor a los agentes en la predicción (agentes MUTANTES)\n",
        "red    = '\\033[91m'\n",
        "green  = '\\033[92m'\n",
        "black  = '\\x1b[0m'\n",
        "# También:\n",
        "red_bold  = '\\x1b[1;02;31m'\n",
        "green_bold = '\\x1b[1;02;32m'\n",
        "\n",
        "frame  = 1\n",
        "cadena = ''\n",
        "size_m = 3\n",
        "\n",
        "for i in range(size):\n",
        "  for j in range(size):\n",
        "    if (y_predic[frame,i,j] != y_obs[frame,i,j]) and (y_predic[frame,i,j] == 1):\n",
        "      cadena += red_bold + str(y_predic[frame,i,j].numpy()) + black + '  '\n",
        "    elif (y_predic[frame,i,j] != y_obs[frame,i,j]) and (y_predic[frame,i,j] == 0):\n",
        "      cadena += red + '.' + black + '  '  \n",
        "    elif (y_predic[frame,i,j] == y_obs[frame,i,j]) and (y_predic[frame,i,j] == 1):\n",
        "      cadena += green + str(y_predic[frame,i,j].numpy()) + black + '  '\n",
        "    else:\n",
        "      cadena += str(y_predic[frame,i,j].numpy()) + '  '\n",
        "  cadena += '\\n'  \n",
        "\n",
        "print(cadena)\n",
        "\n"
      ],
      "metadata": {
        "id": "3qcLSL2BEdFX",
        "colab": {
          "base_uri": "https://localhost:8080/"
        },
        "outputId": "df2c6300-586b-4512-dd61-4bf4f4aa1f16"
      },
      "execution_count": 24,
      "outputs": [
        {
          "output_type": "stream",
          "name": "stdout",
          "text": [
            "\u001b[92m1\u001b[0m  \u001b[92m1\u001b[0m  \u001b[92m1\u001b[0m  0  0  0  0  0  0  0  0  \u001b[92m1\u001b[0m  0  0  0  0  0  0  0  0  \n",
            "\u001b[1;02;31m1\u001b[0m  \u001b[1;02;31m1\u001b[0m  \u001b[1;02;31m1\u001b[0m  0  0  0  0  0  0  0  0  0  0  0  0  0  0  0  0  \u001b[1;02;31m1\u001b[0m  \n",
            "\u001b[92m1\u001b[0m  \u001b[92m1\u001b[0m  0  0  0  \u001b[92m1\u001b[0m  0  \u001b[92m1\u001b[0m  0  0  0  0  0  0  0  0  0  0  0  0  \n",
            "0  0  \u001b[92m1\u001b[0m  0  0  0  0  \u001b[92m1\u001b[0m  0  0  0  0  0  0  0  0  \u001b[92m1\u001b[0m  \u001b[92m1\u001b[0m  0  0  \n",
            "0  0  0  0  0  0  \u001b[92m1\u001b[0m  0  0  0  0  \u001b[92m1\u001b[0m  \u001b[92m1\u001b[0m  \u001b[92m1\u001b[0m  0  0  0  0  0  0  \n",
            "0  0  0  0  0  0  0  0  0  \u001b[92m1\u001b[0m  0  0  0  0  \u001b[92m1\u001b[0m  0  0  0  0  0  \n",
            "0  0  0  0  0  \u001b[92m1\u001b[0m  \u001b[92m1\u001b[0m  0  0  0  0  0  \u001b[92m1\u001b[0m  0  0  0  0  \u001b[92m1\u001b[0m  0  0  \n",
            "0  0  0  0  0  \u001b[92m1\u001b[0m  0  0  0  0  0  0  0  0  0  0  0  0  0  0  \n",
            "0  0  0  0  0  0  0  0  0  0  0  0  0  0  0  0  0  0  \u001b[1;02;31m1\u001b[0m  \u001b[1;02;31m1\u001b[0m  \n",
            "0  0  0  0  0  0  0  0  0  0  0  0  0  0  0  0  0  \u001b[1;02;31m1\u001b[0m  \u001b[1;02;31m1\u001b[0m  \u001b[1;02;31m1\u001b[0m  \n",
            "0  0  0  0  0  0  0  0  0  0  0  0  0  0  0  0  0  \u001b[92m1\u001b[0m  \u001b[92m1\u001b[0m  \u001b[92m1\u001b[0m  \n",
            "0  0  0  0  0  \u001b[92m1\u001b[0m  0  0  0  0  \u001b[92m1\u001b[0m  \u001b[92m1\u001b[0m  0  0  0  0  \u001b[92m1\u001b[0m  0  0  \u001b[1;02;31m1\u001b[0m  \n",
            "0  0  0  0  0  0  \u001b[92m1\u001b[0m  0  0  0  0  \u001b[92m1\u001b[0m  0  0  0  0  0  0  0  \u001b[1;02;31m1\u001b[0m  \n",
            "0  0  0  0  0  0  0  0  0  0  0  0  0  0  0  0  0  0  \u001b[92m1\u001b[0m  \u001b[1;02;31m1\u001b[0m  \n",
            "0  0  0  0  0  0  0  0  \u001b[92m1\u001b[0m  0  \u001b[92m1\u001b[0m  0  0  0  0  0  0  0  0  0  \n",
            "0  0  0  0  0  0  0  0  \u001b[1;02;31m1\u001b[0m  \u001b[1;02;31m1\u001b[0m  \u001b[1;02;31m1\u001b[0m  \u001b[1;02;31m1\u001b[0m  0  0  \u001b[1;02;31m1\u001b[0m  \u001b[1;02;31m1\u001b[0m  0  0  0  \u001b[1;02;31m1\u001b[0m  \n",
            "0  0  0  0  0  0  0  0  0  0  \u001b[92m1\u001b[0m  0  0  0  \u001b[92m1\u001b[0m  \u001b[92m1\u001b[0m  0  0  0  0  \n",
            "0  0  0  0  0  0  0  \u001b[92m1\u001b[0m  0  0  \u001b[92m1\u001b[0m  0  0  0  0  0  0  0  0  0  \n",
            "0  0  0  0  0  0  0  0  0  0  0  \u001b[92m1\u001b[0m  \u001b[1;02;31m1\u001b[0m  \u001b[92m1\u001b[0m  0  0  \u001b[92m1\u001b[0m  0  0  0  \n",
            "0  0  0  0  0  0  0  0  0  0  0  \u001b[92m1\u001b[0m  \u001b[1;02;31m1\u001b[0m  \u001b[92m1\u001b[0m  0  0  \u001b[92m1\u001b[0m  0  0  0  \n",
            "\n"
          ]
        }
      ]
    },
    {
      "cell_type": "code",
      "source": [
        "\n",
        "import matplotlib.pyplot as plt\n",
        "\n",
        "# Uno de los frames\n",
        "# -----------------\n",
        "plt.imshow(X_obs[1].permute(1,2,0))\n",
        "plt.show()\n",
        "\n"
      ],
      "metadata": {
        "colab": {
          "base_uri": "https://localhost:8080/",
          "height": 265
        },
        "id": "LhIPqoE-PXrZ",
        "outputId": "f5e86fc5-050a-4dc0-e278-f63814cdfb58"
      },
      "execution_count": null,
      "outputs": [
        {
          "output_type": "display_data",
          "data": {
            "text/plain": [
              "<Figure size 432x288 with 1 Axes>"
            ],
            "image/png": "[encoded data removed]"
          },
          "metadata": {
            "needs_background": "light"
          }
        }
      ]
    },
    {
      "cell_type": "code",
      "source": [
        "\n",
        "from sklearn.metrics import roc_curve\n",
        "\n",
        "# CURVA ROC  (Creo que son 'scores' lo que se le debe pasar \n",
        "# como segundo argumento. No sé si se puede hacer así)\n",
        "# ---------------------------------------------------------\n",
        "fpr, tpr, thresholds = roc_curve(data_obs, data_pred)\n",
        "plt.plot(fpr, tpr, 'b:', label='Convolutional Neural Net')\n",
        "plt.plot([0, 1], [0, 1], 'k--') \n",
        "#plt.axis([0, 1, 0, 1])     # Libro de Aurelien Geron                             \n",
        "plt.xlabel('False Positive Rate')\n",
        "plt.ylabel('True Positive Rate (Recall)')   \n",
        "plt.grid(True)                                            \n",
        "plt.legend(loc='lower right')\n",
        "plt.show()\n"
      ],
      "metadata": {
        "id": "WSInKZGWPXuR",
        "colab": {
          "base_uri": "https://localhost:8080/",
          "height": 279
        },
        "outputId": "975f4d40-a6ea-4211-c28b-5fab19efb00f"
      },
      "execution_count": 21,
      "outputs": [
        {
          "output_type": "display_data",
          "data": {
            "text/plain": [
              "<Figure size 432x288 with 1 Axes>"
            ],
            "image/png": "[encoded data removed]"
          },
          "metadata": {
            "needs_background": "light"
          }
        }
      ]
    },
    {
      "cell_type": "code",
      "source": [],
      "metadata": {
        "id": "5g70_hFig8R4"
      },
      "execution_count": null,
      "outputs": []
    },
    {
      "cell_type": "code",
      "source": [],
      "metadata": {
        "id": "bhS7TaCKg8VA"
      },
      "execution_count": null,
      "outputs": []
    }
  ]
}