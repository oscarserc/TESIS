{
  "nbformat": 4,
  "nbformat_minor": 0,
  "metadata": {
    "colab": {
      "provenance": [],
      "authorship_tag": "ABX9TyP5cSkrKJa4DSn/l+bDlpUn",
      "include_colab_link": true
    },
    "kernelspec": {
      "name": "python3",
      "display_name": "Python 3"
    },
    "language_info": {
      "name": "python"
    }
  },
  "cells": [
    {
      "cell_type": "markdown",
      "metadata": {
        "id": "view-in-github",
        "colab_type": "text"
      },
      "source": [
        "<a href=\"https://colab.research.google.com/github/oscarserc/TESIS/blob/main/PASO_3b___CNN____grid20x20.ipynb\" target=\"_parent\"><img src=\"https://colab.research.google.com/assets/colab-badge.svg\" alt=\"Open In Colab\"/></a>"
      ]
    },
    {
      "cell_type": "markdown",
      "source": [
        "#UTILIZACIÓN DE TÉCNICAS DE APRENDIZAJE AUTOMÁTICO PARA LA DETECCIÓN DE LOS NODOS INFLUYENTES.\n",
        "\n",
        "La base de datos que emplearemos será de unas 70.000 observaciones. En concreto:\n",
        "\n",
        "· 72.000 observaciones\n",
        "\n",
        "· Para ello generamos una 1800 **simulaciones**, y guardamos unos 40 **frames** de cada una de ellas\n",
        "\n",
        "· Además como **target** guardamos la matriz con la IDENTIDAD de todos y cada uno de los AGENTES.\n",
        "\n"
      ],
      "metadata": {
        "id": "Ck6WE2qgmKul"
      }
    },
    {
      "cell_type": "code",
      "source": [],
      "metadata": {
        "id": "yclIUzOWcSjy"
      },
      "execution_count": null,
      "outputs": []
    },
    {
      "cell_type": "code",
      "source": [],
      "metadata": {
        "id": "ijoWUtiKcSpa"
      },
      "execution_count": null,
      "outputs": []
    },
    {
      "cell_type": "markdown",
      "source": [
        "#**PRUEBA 2**: Utilizaremos una <font color='green'>**RED NEURONAL CONVOLUCIONAL**</font>. Planteamos el problema de localizar a los agentes influyentes como un problema de **Segmentación** de imágenes. (Cada pixel corresponde a un agente y ha de ser clasificado en uno de los tipos que se han definico)"
      ],
      "metadata": {
        "id": "Q1K5T8gmcRFa"
      }
    },
    {
      "cell_type": "markdown",
      "source": [
        "La estructura que hemos probado de partida es la que aparece a continuación."
      ],
      "metadata": {
        "id": "4R6--3v24ATs"
      }
    },
    {
      "cell_type": "markdown",
      "source": [
        "\n",
        "<figure>\n",
        "<center>\n",
        "<img src='https://github.com/oscarserc/IMAGENES/blob/main/CNN_1h_%20ampliado.png?raw=true' width=\"850\"/>\n",
        "<figcaption>fig. 1: En esta primera prueba manejamos sólo dos tipos de agentes: <b>Agente EMOCIONAL</b> y <b>Agente MUTANTE TRAIDOR</b>. Por ello el problema se trata de uno de CLASIFICACIÓN BINARIA. Cada pixel ha de ser marcado como perteneciente a una población u otra. La salida de la red son dos matrices de 10x10 con la probabilidad de pertenencia a cada clase.</figcaption></center>\n",
        "</figure>\n"
      ],
      "metadata": {
        "id": "8fHEsPqA4BnT"
      }
    },
    {
      "cell_type": "markdown",
      "source": [
        "El archivo de prueba contiene 4000 simulaciones de una población de AGENTES EMOCIONALES, y otras 4000 de agentes TRAIDORES (de la observación 4001 a la 8000)."
      ],
      "metadata": {
        "id": "4JJCGaYH4IWT"
      }
    },
    {
      "cell_type": "markdown",
      "source": [
        "\n",
        "<figure>\n",
        "<center>\n",
        "<img src='https://github.com/oscarserc/IMAGENES/blob/main/Archivo_E_CNN.png?raw=true' width=\"1000\"/>\n",
        "<figcaption></figcaption></center>\n",
        "</figure>\n",
        "\n",
        "\n",
        "\n"
      ],
      "metadata": {
        "id": "_WuC_yF0b42T"
      }
    },
    {
      "cell_type": "markdown",
      "source": [
        "Podemos comenzar **aleatorizando**, y después manteniendo agrupadas las observaciones (frames) que forman parte de la misma Simulación (animación)."
      ],
      "metadata": {
        "id": "XtCOSQJafZoe"
      }
    },
    {
      "cell_type": "markdown",
      "source": [
        "#CARGA DE LA BASE DE DATOS (mezcla agentes **emocionales** y mutantes **traidores**).\n",
        "\n",
        "#DESPUÉS ALEATORIZAMOS."
      ],
      "metadata": {
        "id": "AiozpE_AXGxY"
      }
    },
    {
      "cell_type": "code",
      "source": [
        "\n",
        "import pandas as pd\n",
        "\n",
        "# Cargamos los datos\n",
        "# ------------------\n",
        "bd_simulaciones = pd.read_csv('bd_100simulaciones_20x20_emo85_vs_15.csv')\n",
        "\n",
        "# Aleatorizamos\n",
        "# -------------\n",
        "bd_simulaciones = bd_simulaciones.sample(frac=1).reset_index(drop=True)\n",
        "\n"
      ],
      "metadata": {
        "id": "xpykoNS6TjqF"
      },
      "execution_count": null,
      "outputs": []
    },
    {
      "cell_type": "code",
      "source": [
        "\n",
        "bd_simulaciones\n"
      ],
      "metadata": {
        "colab": {
          "base_uri": "https://localhost:8080/",
          "height": 423
        },
        "id": "drn6cob1I3gA",
        "outputId": "2d89f494-05c8-4f1c-9c0e-2c5ae01b27b3"
      },
      "execution_count": null,
      "outputs": [
        {
          "output_type": "execute_result",
          "data": {
            "text/plain": [
              "       r0   r1   r2   r3   r4   r5   r6   r7   r8   r9  ...  b393  b394  b395  \\\n",
              "0     0.0  0.2  0.0  0.0  0.0  0.0  0.2  0.2  0.2  0.0  ...   1.0   0.2   0.0   \n",
              "1     0.0  0.0  0.2  0.2  0.4  0.2  0.6  0.2  0.6  0.2  ...   0.2   0.2   0.0   \n",
              "2     0.0  0.0  0.2  0.4  0.4  0.2  0.0  0.0  0.0  0.0  ...   1.0   0.2   0.0   \n",
              "3     0.0  0.0  0.0  0.0  0.0  0.2  0.0  0.2  0.0  0.0  ...   0.2   0.0   0.0   \n",
              "4     0.0  0.0  0.2  0.4  0.4  0.2  0.0  0.0  0.0  0.0  ...   0.0   0.0   0.2   \n",
              "...   ...  ...  ...  ...  ...  ...  ...  ...  ...  ...  ...   ...   ...   ...   \n",
              "3995  0.0  0.4  0.2  0.4  0.2  0.2  0.2  0.0  0.0  0.0  ...   1.0   0.6   1.0   \n",
              "3996  0.0  0.2  0.2  0.2  0.0  0.0  0.0  0.0  0.0  0.2  ...   0.4   0.2   0.2   \n",
              "3997  0.0  0.0  0.2  0.0  0.4  0.2  0.6  0.0  0.4  0.2  ...   0.0   0.0   0.0   \n",
              "3998  1.0  0.2  0.4  0.0  0.2  0.2  0.2  0.2  0.4  0.4  ...   0.4   0.2   0.6   \n",
              "3999  0.0  0.2  0.0  0.2  0.0  0.0  0.2  0.2  0.2  0.0  ...   0.0   0.0   0.0   \n",
              "\n",
              "      b396  b397  b398      b399  Simulacion_ID  Frame  \\\n",
              "0      0.0   0.2   1.0  0.333333             26     22   \n",
              "1      0.2   0.2   0.2  0.000000             38     10   \n",
              "2      0.0   0.0   0.0  0.000000             95     38   \n",
              "3      0.2   1.0   1.0  0.333333             24     14   \n",
              "4      1.0   1.0   0.4  0.333333             67     36   \n",
              "...    ...   ...   ...       ...            ...    ...   \n",
              "3995   0.2   0.0   0.2  0.333333              2     38   \n",
              "3996   0.0   0.2   1.0  0.333333              3     25   \n",
              "3997   0.2   0.4   1.0  0.333333             64     12   \n",
              "3998   1.0   1.0   0.6  0.333333             61     20   \n",
              "3999   0.2   0.2   0.2  0.000000             14     20   \n",
              "\n",
              "                                                 Target  \n",
              "0     [1, 0, 0, 0, 0, 0, 0, 0, 0, 0, 0, 0, 0, 0, 0, ...  \n",
              "1     [0, 0, 0, 1, 0, 0, 0, 1, 0, 0, 0, 0, 0, 1, 0, ...  \n",
              "2     [0, 0, 0, 0, 0, 0, 0, 0, 0, 0, 0, 0, 0, 0, 0, ...  \n",
              "3     [0, 0, 0, 0, 0, 0, 1, 0, 0, 0, 0, 0, 0, 0, 0, ...  \n",
              "4     [0, 0, 0, 0, 0, 0, 0, 0, 0, 0, 0, 0, 0, 0, 0, ...  \n",
              "...                                                 ...  \n",
              "3995  [0, 0, 1, 0, 0, 0, 0, 0, 0, 0, 0, 1, 0, 0, 0, ...  \n",
              "3996  [0, 0, 0, 0, 0, 0, 0, 0, 0, 0, 1, 0, 1, 0, 0, ...  \n",
              "3997  [0, 0, 0, 0, 0, 1, 0, 1, 0, 0, 0, 0, 1, 0, 0, ...  \n",
              "3998  [0, 1, 0, 0, 0, 0, 0, 0, 0, 0, 0, 0, 0, 0, 0, ...  \n",
              "3999  [0, 0, 1, 0, 0, 0, 0, 0, 0, 0, 0, 0, 0, 0, 0, ...  \n",
              "\n",
              "[4000 rows x 1203 columns]"
            ],
            "text/html": [
              "\n",
              "  <div id=\"df-b2322365-e080-45ec-8740-dfa5d89c36bc\">\n",
              "    <div class=\"colab-df-container\">\n",
              "      <div>\n",
              "<style scoped>\n",
              "    .dataframe tbody tr th:only-of-type {\n",
              "        vertical-align: middle;\n",
              "    }\n",
              "\n",
              "    .dataframe tbody tr th {\n",
              "        vertical-align: top;\n",
              "    }\n",
              "\n",
              "    .dataframe thead th {\n",
              "        text-align: right;\n",
              "    }\n",
              "</style>\n",
              "<table border=\"1\" class=\"dataframe\">\n",
              "  <thead>\n",
              "    <tr style=\"text-align: right;\">\n",
              "      <th></th>\n",
              "      <th>r0</th>\n",
              "      <th>r1</th>\n",
              "      <th>r2</th>\n",
              "      <th>r3</th>\n",
              "      <th>r4</th>\n",
              "      <th>r5</th>\n",
              "      <th>r6</th>\n",
              "      <th>r7</th>\n",
              "      <th>r8</th>\n",
              "      <th>r9</th>\n",
              "      <th>...</th>\n",
              "      <th>b393</th>\n",
              "      <th>b394</th>\n",
              "      <th>b395</th>\n",
              "      <th>b396</th>\n",
              "      <th>b397</th>\n",
              "      <th>b398</th>\n",
              "      <th>b399</th>\n",
              "      <th>Simulacion_ID</th>\n",
              "      <th>Frame</th>\n",
              "      <th>Target</th>\n",
              "    </tr>\n",
              "  </thead>\n",
              "  <tbody>\n",
              "    <tr>\n",
              "      <th>0</th>\n",
              "      <td>0.0</td>\n",
              "      <td>0.2</td>\n",
              "      <td>0.0</td>\n",
              "      <td>0.0</td>\n",
              "      <td>0.0</td>\n",
              "      <td>0.0</td>\n",
              "      <td>0.2</td>\n",
              "      <td>0.2</td>\n",
              "      <td>0.2</td>\n",
              "      <td>0.0</td>\n",
              "      <td>...</td>\n",
              "      <td>1.0</td>\n",
              "      <td>0.2</td>\n",
              "      <td>0.0</td>\n",
              "      <td>0.0</td>\n",
              "      <td>0.2</td>\n",
              "      <td>1.0</td>\n",
              "      <td>0.333333</td>\n",
              "      <td>26</td>\n",
              "      <td>22</td>\n",
              "      <td>[1, 0, 0, 0, 0, 0, 0, 0, 0, 0, 0, 0, 0, 0, 0, ...</td>\n",
              "    </tr>\n",
              "    <tr>\n",
              "      <th>1</th>\n",
              "      <td>0.0</td>\n",
              "      <td>0.0</td>\n",
              "      <td>0.2</td>\n",
              "      <td>0.2</td>\n",
              "      <td>0.4</td>\n",
              "      <td>0.2</td>\n",
              "      <td>0.6</td>\n",
              "      <td>0.2</td>\n",
              "      <td>0.6</td>\n",
              "      <td>0.2</td>\n",
              "      <td>...</td>\n",
              "      <td>0.2</td>\n",
              "      <td>0.2</td>\n",
              "      <td>0.0</td>\n",
              "      <td>0.2</td>\n",
              "      <td>0.2</td>\n",
              "      <td>0.2</td>\n",
              "      <td>0.000000</td>\n",
              "      <td>38</td>\n",
              "      <td>10</td>\n",
              "      <td>[0, 0, 0, 1, 0, 0, 0, 1, 0, 0, 0, 0, 0, 1, 0, ...</td>\n",
              "    </tr>\n",
              "    <tr>\n",
              "      <th>2</th>\n",
              "      <td>0.0</td>\n",
              "      <td>0.0</td>\n",
              "      <td>0.2</td>\n",
              "      <td>0.4</td>\n",
              "      <td>0.4</td>\n",
              "      <td>0.2</td>\n",
              "      <td>0.0</td>\n",
              "      <td>0.0</td>\n",
              "      <td>0.0</td>\n",
              "      <td>0.0</td>\n",
              "      <td>...</td>\n",
              "      <td>1.0</td>\n",
              "      <td>0.2</td>\n",
              "      <td>0.0</td>\n",
              "      <td>0.0</td>\n",
              "      <td>0.0</td>\n",
              "      <td>0.0</td>\n",
              "      <td>0.000000</td>\n",
              "      <td>95</td>\n",
              "      <td>38</td>\n",
              "      <td>[0, 0, 0, 0, 0, 0, 0, 0, 0, 0, 0, 0, 0, 0, 0, ...</td>\n",
              "    </tr>\n",
              "    <tr>\n",
              "      <th>3</th>\n",
              "      <td>0.0</td>\n",
              "      <td>0.0</td>\n",
              "      <td>0.0</td>\n",
              "      <td>0.0</td>\n",
              "      <td>0.0</td>\n",
              "      <td>0.2</td>\n",
              "      <td>0.0</td>\n",
              "      <td>0.2</td>\n",
              "      <td>0.0</td>\n",
              "      <td>0.0</td>\n",
              "      <td>...</td>\n",
              "      <td>0.2</td>\n",
              "      <td>0.0</td>\n",
              "      <td>0.0</td>\n",
              "      <td>0.2</td>\n",
              "      <td>1.0</td>\n",
              "      <td>1.0</td>\n",
              "      <td>0.333333</td>\n",
              "      <td>24</td>\n",
              "      <td>14</td>\n",
              "      <td>[0, 0, 0, 0, 0, 0, 1, 0, 0, 0, 0, 0, 0, 0, 0, ...</td>\n",
              "    </tr>\n",
              "    <tr>\n",
              "      <th>4</th>\n",
              "      <td>0.0</td>\n",
              "      <td>0.0</td>\n",
              "      <td>0.2</td>\n",
              "      <td>0.4</td>\n",
              "      <td>0.4</td>\n",
              "      <td>0.2</td>\n",
              "      <td>0.0</td>\n",
              "      <td>0.0</td>\n",
              "      <td>0.0</td>\n",
              "      <td>0.0</td>\n",
              "      <td>...</td>\n",
              "      <td>0.0</td>\n",
              "      <td>0.0</td>\n",
              "      <td>0.2</td>\n",
              "      <td>1.0</td>\n",
              "      <td>1.0</td>\n",
              "      <td>0.4</td>\n",
              "      <td>0.333333</td>\n",
              "      <td>67</td>\n",
              "      <td>36</td>\n",
              "      <td>[0, 0, 0, 0, 0, 0, 0, 0, 0, 0, 0, 0, 0, 0, 0, ...</td>\n",
              "    </tr>\n",
              "    <tr>\n",
              "      <th>...</th>\n",
              "      <td>...</td>\n",
              "      <td>...</td>\n",
              "      <td>...</td>\n",
              "      <td>...</td>\n",
              "      <td>...</td>\n",
              "      <td>...</td>\n",
              "      <td>...</td>\n",
              "      <td>...</td>\n",
              "      <td>...</td>\n",
              "      <td>...</td>\n",
              "      <td>...</td>\n",
              "      <td>...</td>\n",
              "      <td>...</td>\n",
              "      <td>...</td>\n",
              "      <td>...</td>\n",
              "      <td>...</td>\n",
              "      <td>...</td>\n",
              "      <td>...</td>\n",
              "      <td>...</td>\n",
              "      <td>...</td>\n",
              "      <td>...</td>\n",
              "    </tr>\n",
              "    <tr>\n",
              "      <th>3995</th>\n",
              "      <td>0.0</td>\n",
              "      <td>0.4</td>\n",
              "      <td>0.2</td>\n",
              "      <td>0.4</td>\n",
              "      <td>0.2</td>\n",
              "      <td>0.2</td>\n",
              "      <td>0.2</td>\n",
              "      <td>0.0</td>\n",
              "      <td>0.0</td>\n",
              "      <td>0.0</td>\n",
              "      <td>...</td>\n",
              "      <td>1.0</td>\n",
              "      <td>0.6</td>\n",
              "      <td>1.0</td>\n",
              "      <td>0.2</td>\n",
              "      <td>0.0</td>\n",
              "      <td>0.2</td>\n",
              "      <td>0.333333</td>\n",
              "      <td>2</td>\n",
              "      <td>38</td>\n",
              "      <td>[0, 0, 1, 0, 0, 0, 0, 0, 0, 0, 0, 1, 0, 0, 0, ...</td>\n",
              "    </tr>\n",
              "    <tr>\n",
              "      <th>3996</th>\n",
              "      <td>0.0</td>\n",
              "      <td>0.2</td>\n",
              "      <td>0.2</td>\n",
              "      <td>0.2</td>\n",
              "      <td>0.0</td>\n",
              "      <td>0.0</td>\n",
              "      <td>0.0</td>\n",
              "      <td>0.0</td>\n",
              "      <td>0.0</td>\n",
              "      <td>0.2</td>\n",
              "      <td>...</td>\n",
              "      <td>0.4</td>\n",
              "      <td>0.2</td>\n",
              "      <td>0.2</td>\n",
              "      <td>0.0</td>\n",
              "      <td>0.2</td>\n",
              "      <td>1.0</td>\n",
              "      <td>0.333333</td>\n",
              "      <td>3</td>\n",
              "      <td>25</td>\n",
              "      <td>[0, 0, 0, 0, 0, 0, 0, 0, 0, 0, 1, 0, 1, 0, 0, ...</td>\n",
              "    </tr>\n",
              "    <tr>\n",
              "      <th>3997</th>\n",
              "      <td>0.0</td>\n",
              "      <td>0.0</td>\n",
              "      <td>0.2</td>\n",
              "      <td>0.0</td>\n",
              "      <td>0.4</td>\n",
              "      <td>0.2</td>\n",
              "      <td>0.6</td>\n",
              "      <td>0.0</td>\n",
              "      <td>0.4</td>\n",
              "      <td>0.2</td>\n",
              "      <td>...</td>\n",
              "      <td>0.0</td>\n",
              "      <td>0.0</td>\n",
              "      <td>0.0</td>\n",
              "      <td>0.2</td>\n",
              "      <td>0.4</td>\n",
              "      <td>1.0</td>\n",
              "      <td>0.333333</td>\n",
              "      <td>64</td>\n",
              "      <td>12</td>\n",
              "      <td>[0, 0, 0, 0, 0, 1, 0, 1, 0, 0, 0, 0, 1, 0, 0, ...</td>\n",
              "    </tr>\n",
              "    <tr>\n",
              "      <th>3998</th>\n",
              "      <td>1.0</td>\n",
              "      <td>0.2</td>\n",
              "      <td>0.4</td>\n",
              "      <td>0.0</td>\n",
              "      <td>0.2</td>\n",
              "      <td>0.2</td>\n",
              "      <td>0.2</td>\n",
              "      <td>0.2</td>\n",
              "      <td>0.4</td>\n",
              "      <td>0.4</td>\n",
              "      <td>...</td>\n",
              "      <td>0.4</td>\n",
              "      <td>0.2</td>\n",
              "      <td>0.6</td>\n",
              "      <td>1.0</td>\n",
              "      <td>1.0</td>\n",
              "      <td>0.6</td>\n",
              "      <td>0.333333</td>\n",
              "      <td>61</td>\n",
              "      <td>20</td>\n",
              "      <td>[0, 1, 0, 0, 0, 0, 0, 0, 0, 0, 0, 0, 0, 0, 0, ...</td>\n",
              "    </tr>\n",
              "    <tr>\n",
              "      <th>3999</th>\n",
              "      <td>0.0</td>\n",
              "      <td>0.2</td>\n",
              "      <td>0.0</td>\n",
              "      <td>0.2</td>\n",
              "      <td>0.0</td>\n",
              "      <td>0.0</td>\n",
              "      <td>0.2</td>\n",
              "      <td>0.2</td>\n",
              "      <td>0.2</td>\n",
              "      <td>0.0</td>\n",
              "      <td>...</td>\n",
              "      <td>0.0</td>\n",
              "      <td>0.0</td>\n",
              "      <td>0.0</td>\n",
              "      <td>0.2</td>\n",
              "      <td>0.2</td>\n",
              "      <td>0.2</td>\n",
              "      <td>0.000000</td>\n",
              "      <td>14</td>\n",
              "      <td>20</td>\n",
              "      <td>[0, 0, 1, 0, 0, 0, 0, 0, 0, 0, 0, 0, 0, 0, 0, ...</td>\n",
              "    </tr>\n",
              "  </tbody>\n",
              "</table>\n",
              "<p>4000 rows × 1203 columns</p>\n",
              "</div>\n",
              "      <button class=\"colab-df-convert\" onclick=\"convertToInteractive('df-b2322365-e080-45ec-8740-dfa5d89c36bc')\"\n",
              "              title=\"Convert this dataframe to an interactive table.\"\n",
              "              style=\"display:none;\">\n",
              "        \n",
              "  <svg xmlns=\"http://www.w3.org/2000/svg\" height=\"24px\"viewBox=\"0 0 24 24\"\n",
              "       width=\"24px\">\n",
              "    <path d=\"M0 0h24v24H0V0z\" fill=\"none\"/>\n",
              "    <path d=\"M18.56 5.44l.94 2.06.94-2.06 2.06-.94-2.06-.94-.94-2.06-.94 2.06-2.06.94zm-11 1L8.5 8.5l.94-2.06 2.06-.94-2.06-.94L8.5 2.5l-.94 2.06-2.06.94zm10 10l.94 2.06.94-2.06 2.06-.94-2.06-.94-.94-2.06-.94 2.06-2.06.94z\"/><path d=\"M17.41 7.96l-1.37-1.37c-.4-.4-.92-.59-1.43-.59-.52 0-1.04.2-1.43.59L10.3 9.45l-7.72 7.72c-.78.78-.78 2.05 0 2.83L4 21.41c.39.39.9.59 1.41.59.51 0 1.02-.2 1.41-.59l7.78-7.78 2.81-2.81c.8-.78.8-2.07 0-2.86zM5.41 20L4 18.59l7.72-7.72 1.47 1.35L5.41 20z\"/>\n",
              "  </svg>\n",
              "      </button>\n",
              "      \n",
              "  <style>\n",
              "    .colab-df-container {\n",
              "      display:flex;\n",
              "      flex-wrap:wrap;\n",
              "      gap: 12px;\n",
              "    }\n",
              "\n",
              "    .colab-df-convert {\n",
              "      background-color: #E8F0FE;\n",
              "      border: none;\n",
              "      border-radius: 50%;\n",
              "      cursor: pointer;\n",
              "      display: none;\n",
              "      fill: #1967D2;\n",
              "      height: 32px;\n",
              "      padding: 0 0 0 0;\n",
              "      width: 32px;\n",
              "    }\n",
              "\n",
              "    .colab-df-convert:hover {\n",
              "      background-color: #E2EBFA;\n",
              "      box-shadow: 0px 1px 2px rgba(60, 64, 67, 0.3), 0px 1px 3px 1px rgba(60, 64, 67, 0.15);\n",
              "      fill: #174EA6;\n",
              "    }\n",
              "\n",
              "    [theme=dark] .colab-df-convert {\n",
              "      background-color: #3B4455;\n",
              "      fill: #D2E3FC;\n",
              "    }\n",
              "\n",
              "    [theme=dark] .colab-df-convert:hover {\n",
              "      background-color: #434B5C;\n",
              "      box-shadow: 0px 1px 3px 1px rgba(0, 0, 0, 0.15);\n",
              "      filter: drop-shadow(0px 1px 2px rgba(0, 0, 0, 0.3));\n",
              "      fill: #FFFFFF;\n",
              "    }\n",
              "  </style>\n",
              "\n",
              "      <script>\n",
              "        const buttonEl =\n",
              "          document.querySelector('#df-b2322365-e080-45ec-8740-dfa5d89c36bc button.colab-df-convert');\n",
              "        buttonEl.style.display =\n",
              "          google.colab.kernel.accessAllowed ? 'block' : 'none';\n",
              "\n",
              "        async function convertToInteractive(key) {\n",
              "          const element = document.querySelector('#df-b2322365-e080-45ec-8740-dfa5d89c36bc');\n",
              "          const dataTable =\n",
              "            await google.colab.kernel.invokeFunction('convertToInteractive',\n",
              "                                                     [key], {});\n",
              "          if (!dataTable) return;\n",
              "\n",
              "          const docLinkHtml = 'Like what you see? Visit the ' +\n",
              "            '<a target=\"_blank\" href=https://colab.research.google.com/notebooks/data_table.ipynb>data table notebook</a>'\n",
              "            + ' to learn more about interactive tables.';\n",
              "          element.innerHTML = '';\n",
              "          dataTable['output_type'] = 'display_data';\n",
              "          await google.colab.output.renderOutput(dataTable, element);\n",
              "          const docLink = document.createElement('div');\n",
              "          docLink.innerHTML = docLinkHtml;\n",
              "          element.appendChild(docLink);\n",
              "        }\n",
              "      </script>\n",
              "    </div>\n",
              "  </div>\n",
              "  "
            ]
          },
          "metadata": {},
          "execution_count": 25
        }
      ]
    },
    {
      "cell_type": "markdown",
      "source": [
        "#Variables explicativas: **X**"
      ],
      "metadata": {
        "id": "mfiJbuVb4vKz"
      }
    },
    {
      "cell_type": "code",
      "source": [
        "\n",
        "import matplotlib.pyplot as plt\n",
        "import numpy as np\n",
        "\n",
        "size   = 20    # <----------------------------------------------------------------- AQUÍ FIJO LA QUE VA A SER LA DIMENSIÓN: 20x20\n",
        "agente = 0\n",
        "df     = bd_simulaciones.copy()\n",
        "\n",
        "lista_frames = []\n",
        "X            = []\n",
        "\n",
        "nombre_columnas_ROJO  = ['r' + str(indice) for indice in range(size*size)]\n",
        "nombre_columnas_VERDE = ['g' + str(indice) for indice in range(size*size)]\n",
        "nombre_columnas_AZUL  = ['b' + str(indice) for indice in range(size*size)]\n",
        "\n",
        "\n",
        "for fila in range(len(bd_simulaciones)):\n",
        "  canal_r = pd.array(df[nombre_columnas_ROJO].iloc[fila]).reshape(size,size)\n",
        "  canal_v = pd.array(df[nombre_columnas_VERDE].iloc[fila]).reshape(size,size)\n",
        "  canal_a = pd.array(df[nombre_columnas_AZUL].iloc[fila]).reshape(size,size)\n",
        "\n",
        "  # CUIDADO que np.dstack apila los tres valores de cada pixel\n",
        "  # ----------------------------------------------------------\n",
        "  frame = np.array([canal_r, canal_v, canal_a])\n",
        "\n",
        "  lista_frames.append(frame)\n",
        "\n",
        "X = np.array(lista_frames)\n",
        "X.shape\n"
      ],
      "metadata": {
        "colab": {
          "base_uri": "https://localhost:8080/"
        },
        "id": "eSk8Cn0AHqz8",
        "outputId": "7a8d04e3-9ece-4b3e-c30a-284e630f0f09"
      },
      "execution_count": null,
      "outputs": [
        {
          "output_type": "execute_result",
          "data": {
            "text/plain": [
              "(4000, 3, 20, 20)"
            ]
          },
          "metadata": {},
          "execution_count": 26
        }
      ]
    },
    {
      "cell_type": "markdown",
      "source": [
        "#Target: **Y**."
      ],
      "metadata": {
        "id": "iD0mK_9x485b"
      }
    },
    {
      "cell_type": "code",
      "source": [
        "\n",
        "lista_targets = []\n",
        "\n",
        "for fila in range(len(bd_simulaciones)):\n",
        "  lista_id_agentes = bd_simulaciones.iloc[fila]['Target'].replace('[','').replace(']','')\n",
        "  target = [int(caracter) for caracter in lista_id_agentes.split(',')]\n",
        "  target = np.array(target)\n",
        "  target = target.reshape(size,size)\n",
        "\n",
        "  # Con los paréntesis  '['  ']' sale de dimensión: (8000, 1, 10, 10)   # <-------------------------- Aquí ajusto la DIMENSIÓN\n",
        "  #lista_targets.append([target])\n",
        "  # Si queremos de dimensión: (8000, 10, 10)\n",
        "  lista_targets.append(target)\n",
        "\n",
        "Y = np.array(lista_targets)\n",
        "Y.shape\n"
      ],
      "metadata": {
        "colab": {
          "base_uri": "https://localhost:8080/"
        },
        "id": "u6cv6TWZHq3M",
        "outputId": "a55d4ba4-2bb6-4265-a2bc-d08d02b123b2"
      },
      "execution_count": null,
      "outputs": [
        {
          "output_type": "execute_result",
          "data": {
            "text/plain": [
              "(4000, 20, 20)"
            ]
          },
          "metadata": {},
          "execution_count": 27
        }
      ]
    },
    {
      "cell_type": "code",
      "source": [
        "\n",
        "#lista_targets = []\n",
        "\n",
        "# AHORA NO SALE EN EL BUCLE pero tomando un registro sí sale\n",
        "# -------------------------\n",
        "#lista_id_agentes = bd_simulaciones.iloc[1]['Target'].replace('[','').replace(']','')\n",
        "#target = [int(caracter) for caracter in lista_id_agentes.split(',')]\n",
        "#target = np.array(target)\n",
        "#target = target.reshape(size,size)\n",
        "#target\n",
        "\n",
        "#lista_targets.append(target)\n",
        "#Y = np.array(lista_targets)\n",
        "#Y.shape\n"
      ],
      "metadata": {
        "id": "gCGryCvzWAI8"
      },
      "execution_count": null,
      "outputs": []
    },
    {
      "cell_type": "markdown",
      "source": [
        "#**CONVERSIÓN EN TENSORES DE PyTorch**."
      ],
      "metadata": {
        "id": "YQSjRMpk5GhL"
      }
    },
    {
      "cell_type": "code",
      "source": [
        "\n",
        "import numpy as np\n",
        "import torch\n",
        "\n",
        "# PRIMERO TENEMOS QUE EXTRAER LA MATRIX:  X\n",
        "# y los valores del TARGET:               Y\n",
        "#\n",
        "# Luego pasaremos (X, Y) al Dataset que creamos a continuación.\n",
        "# --------------------------------------------------------------\n",
        "\n",
        "X_train = X\n",
        "Y_train = Y\n",
        "\n",
        "# CREAMOS UNA CLASE PARA LOS DATOS\n",
        "# ================================\n",
        "\n",
        "class Dataset_frames(torch.utils.data.Dataset):\n",
        "  def __init__(self, X, Y):\n",
        "    self.X = torch.tensor(X).float()\n",
        "    self.Y = torch.tensor(Y).long()\n",
        "\n",
        "  def __len__(self):\n",
        "    return len(self.X)\n",
        "\n",
        "  def __getitem__(self, ix):\n",
        "    return self.X[ix], self.Y[ix]\n",
        "\n",
        "\n",
        "# SELECCIONANDO GRUPOS DE OBSERVACIONES PARA VALIDACIÓN\n",
        "# -----------------------------------------------------\n",
        "\n",
        "from sklearn.model_selection import train_test_split\n",
        "\n",
        "X_subset, X_val, Y_subset, Y_val = train_test_split(X_train, Y_train, test_size = 0.2)\n",
        "\n",
        "dataset = {\n",
        "    'train' : Dataset_frames(X_subset, Y_subset),\n",
        "    'val'   : Dataset_frames(X_val, Y_val)\n",
        "}\n",
        "\n",
        "dataloader = {\n",
        "    'train' : torch.utils.data.DataLoader(dataset['train'], batch_size=40,   shuffle=False),\n",
        "    'val'   : torch.utils.data.DataLoader(dataset['val'],   batch_size=40, shuffle=False)\n",
        "}\n"
      ],
      "metadata": {
        "id": "fJMEv00BHq5m"
      },
      "execution_count": null,
      "outputs": []
    },
    {
      "cell_type": "code",
      "source": [
        "\n",
        "frames, mascara = next(iter(dataloader['train']))\n",
        "frames.shape, mascara.shape\n"
      ],
      "metadata": {
        "colab": {
          "base_uri": "https://localhost:8080/"
        },
        "id": "jZ9zWZmJIMEm",
        "outputId": "7853f3bc-2441-4629-eb7e-4f1bf9a8fbab"
      },
      "execution_count": null,
      "outputs": [
        {
          "output_type": "execute_result",
          "data": {
            "text/plain": [
              "(torch.Size([40, 3, 20, 20]), torch.Size([40, 20, 20]))"
            ]
          },
          "metadata": {},
          "execution_count": 30
        }
      ]
    },
    {
      "cell_type": "code",
      "source": [],
      "metadata": {
        "id": "NFR3-7pB1BLx"
      },
      "execution_count": null,
      "outputs": []
    },
    {
      "cell_type": "code",
      "source": [],
      "metadata": {
        "id": "HumAhTFJ1BRB"
      },
      "execution_count": null,
      "outputs": []
    },
    {
      "cell_type": "code",
      "source": [
        "import matplotlib.pyplot as plt\n",
        "import numpy as np\n",
        "\n",
        "fig = plt.figure(dpi=400)\n",
        "c, r = 10, 10\n",
        "for j in range(r):\n",
        "  for i in range(c):\n",
        "    ix = j*c + i\n",
        "    ax = plt.subplot(r, c, ix + 1)\n",
        "    ax.imshow(np.moveaxis(X[ix], 0, -1))\n",
        "    ax.axis('off')\n",
        "plt.tight_layout()\n",
        "plt.show()"
      ],
      "metadata": {
        "colab": {
          "base_uri": "https://localhost:8080/",
          "height": 996
        },
        "id": "F7LZv5OD1B1p",
        "outputId": "d91a203d-0771-477d-947d-b6ad904648a0"
      },
      "execution_count": null,
      "outputs": [
        {
          "output_type": "display_data",
          "data": {
            "text/plain": [
              "<Figure size 2560x1920 with 100 Axes>"
            ],
            "image/png": "[encoded data removed]"
          },
          "metadata": {}
        }
      ]
    },
    {
      "cell_type": "code",
      "source": [],
      "metadata": {
        "id": "k_HmGd6e1CsD"
      },
      "execution_count": null,
      "outputs": []
    },
    {
      "cell_type": "code",
      "source": [],
      "metadata": {
        "id": "mifjFC-U1Cu4"
      },
      "execution_count": null,
      "outputs": []
    },
    {
      "cell_type": "markdown",
      "source": [
        "#**DEFINICIÓN DE LA RED Y MÉTODO PARA EL ENTRENAMIENTO**."
      ],
      "metadata": {
        "id": "LZTFi_-K5QpL"
      }
    },
    {
      "cell_type": "code",
      "source": [
        "\n",
        "from sklearn.metrics import accuracy_score\n",
        "\n",
        "# Fijamos el número de canales y filtros\n",
        "# --------------------------------------\n",
        "c           = 3\n",
        "n_filtros   = 6\n",
        "kernel_size = 3\n",
        "\n",
        "# CONSTRUIMOS EL MODELO\n",
        "# =====================\n",
        "\n",
        "def softmax(x):\n",
        "  return torch.exp(x) / torch.exp(x).sum(axis=-1, keepdims=True)\n",
        "\n",
        "# ---------------------------------------------------------------------\n",
        "# Probamos inicialmente con un grid (10x10)\n",
        "# ---------------------------------------------------------------------\n",
        "\n",
        "def build_model(c=3, n_filtros=6, kernel_size=3):        # <-------------------------------------------------------- MODIFICAR (Definir la RED CONVOLUCIONAL)\n",
        "  padding = kernel_size // 2\n",
        "  model = torch.nn.Sequential(\n",
        "      torch.nn.Conv2d(c, n_filtros, kernel_size, padding=padding),\n",
        "      torch.nn.ReLU(),\n",
        "      torch.nn.Conv2d(n_filtros, 2, (3,3), padding=1)\n",
        "  )\n",
        "  return model\n",
        "\n",
        "\n",
        "# DEFINIMOS LA FUNCIÓN DE ENTRENAMIENTO\n",
        "# =====================================\n",
        "\n",
        "def fit(model, dataloader, epochs=10, log_each=1):\n",
        "   criterion = torch.nn.CrossEntropyLoss()\n",
        "   optimizer = torch.optim.SGD(model.parameters(), lr=0.8)\n",
        "\n",
        "   l, acc         = [], []\n",
        "   val_l, val_acc = [], []\n",
        "\n",
        "   for e in range(1, epochs+1):\n",
        "      _l, _acc = [], []\n",
        "      model.train()  # <------------------------------------------ MODO de ENTRENAMIENTO\n",
        "      for x_b, y_b in dataloader['train']:\n",
        "        y_pred = model(x_b)\n",
        "        loss   = criterion(y_pred, y_b)\n",
        "        _l.append(loss.item())\n",
        "\n",
        "        optimizer.zero_grad()\n",
        "        loss.backward()\n",
        "        optimizer.step()\n",
        "\n",
        "        y_probas = torch.argmax(softmax(y_pred), axis=1)\n",
        "        # Los SCORES de SKLEARN no aceptan matrices, así que hay que convertirlas en dimensión 1D (usar flatten())\n",
        "        _acc.append(accuracy_score(y_b.numpy().flatten(), y_probas.detach().numpy().flatten()))\n",
        "\n",
        "      l.append(np.mean(_l))\n",
        "      acc.append(np.mean(_acc))\n",
        "      if not e % log_each:\n",
        "        print(f\"Epoch {e}/{epochs} loss {l[-1]:.5f} acc {acc[-1]:.5f}\")\n",
        "        #print(f\"Epoch {e}/{epochs} loss {l[-1]:.5f}\")\n",
        "\n",
        "\n",
        "      model.eval()  # <------------------------------------------- MODO de EVALUACIÓN\n",
        "      _l, _acc = [], []\n",
        "      with torch.no_grad():\n",
        "        for x_b, y_b in dataloader['val']:\n",
        "          y_pred = model(x_b)\n",
        "          loss   = criterion(y_pred, y_b)\n",
        "          _l.append(loss.item())\n",
        "          y_probas = torch.argmax(softmax(y_pred), axis=1)\n",
        "          _acc.append(accuracy_score(y_b.numpy().flatten(), y_probas.numpy().flatten()))\n",
        "      val_l.append(np.mean(_l))\n",
        "      val_acc.append(np.mean(_acc))\n",
        "\n",
        "   return {'epoch':list(range(1,epochs+1)), 'loss':l, 'acc': acc, 'val_loss': val_l, 'val_acc': val_acc}\n",
        "   #return {'epoch':list(range(1,epochs+1)), 'loss':l, 'val_loss': val_l}\n",
        "\n"
      ],
      "metadata": {
        "id": "h6er9x05IMIe"
      },
      "execution_count": null,
      "outputs": []
    },
    {
      "cell_type": "markdown",
      "source": [
        "#**Nos preparamos para entrenar el modelo**."
      ],
      "metadata": {
        "id": "YSUT-9mY5YdC"
      }
    },
    {
      "cell_type": "code",
      "source": [
        "\n",
        "# INSTANCIAMOS EL MODELO\n",
        "# ======================\n",
        "\n",
        "# Imprimimos junta al número de Epoch, el valor de la función de pérdida y la accuracy (Roza el 90%)\n",
        "model  = build_model()\n",
        "hist   = fit(model, dataloader, 20)\n"
      ],
      "metadata": {
        "colab": {
          "base_uri": "https://localhost:8080/"
        },
        "id": "YWj8mE8aIeuu",
        "outputId": "19106065-08a1-4b86-e1fd-fb9b15de1a94"
      },
      "execution_count": null,
      "outputs": [
        {
          "output_type": "stream",
          "name": "stdout",
          "text": [
            "Epoch 1/20 loss 0.12824 acc 0.84506\n",
            "Epoch 2/20 loss 0.02401 acc 0.93443\n",
            "Epoch 3/20 loss 0.01943 acc 0.93204\n",
            "Epoch 4/20 loss 0.01685 acc 0.93209\n",
            "Epoch 5/20 loss 0.01506 acc 0.93361\n",
            "Epoch 6/20 loss 0.01364 acc 0.93509\n",
            "Epoch 7/20 loss 0.01245 acc 0.93656\n",
            "Epoch 8/20 loss 0.01142 acc 0.93806\n",
            "Epoch 9/20 loss 0.01052 acc 0.93940\n",
            "Epoch 10/20 loss 0.00971 acc 0.94052\n",
            "Epoch 11/20 loss 0.00900 acc 0.94161\n",
            "Epoch 12/20 loss 0.00836 acc 0.94276\n",
            "Epoch 13/20 loss 0.00779 acc 0.94389\n",
            "Epoch 14/20 loss 0.00728 acc 0.94500\n",
            "Epoch 15/20 loss 0.00683 acc 0.94613\n",
            "Epoch 16/20 loss 0.00644 acc 0.94725\n",
            "Epoch 17/20 loss 0.00608 acc 0.94822\n",
            "Epoch 18/20 loss 0.00577 acc 0.94909\n",
            "Epoch 19/20 loss 0.00548 acc 0.95005\n",
            "Epoch 20/20 loss 0.00523 acc 0.95102\n"
          ]
        }
      ]
    },
    {
      "cell_type": "code",
      "source": [
        "\n",
        "from torchsummary import summary\n",
        "\n",
        "#print(model)\n",
        "\n",
        "# EMPLEAR:\n",
        "# from torchsummary import summary\n",
        "# summary(your_model, input_size=(channels, H, W))\n",
        "# -------------------------------------------------\n",
        "\n",
        "# Supongo que podría valer: (3, 10, 10)\n",
        "summary(model, input_size=(3, 20, 20))\n"
      ],
      "metadata": {
        "colab": {
          "base_uri": "https://localhost:8080/"
        },
        "id": "itJztOQIIexd",
        "outputId": "f2a9eae6-a2b7-496f-e43c-ed94b98cde32"
      },
      "execution_count": null,
      "outputs": [
        {
          "output_type": "stream",
          "name": "stdout",
          "text": [
            "----------------------------------------------------------------\n",
            "        Layer (type)               Output Shape         Param #\n",
            "================================================================\n",
            "            Conv2d-1            [-1, 6, 20, 20]             168\n",
            "              ReLU-2            [-1, 6, 20, 20]               0\n",
            "            Conv2d-3            [-1, 2, 20, 20]             110\n",
            "================================================================\n",
            "Total params: 278\n",
            "Trainable params: 278\n",
            "Non-trainable params: 0\n",
            "----------------------------------------------------------------\n",
            "Input size (MB): 0.00\n",
            "Forward/backward pass size (MB): 0.04\n",
            "Params size (MB): 0.00\n",
            "Estimated Total Size (MB): 0.05\n",
            "----------------------------------------------------------------\n"
          ]
        }
      ]
    },
    {
      "cell_type": "code",
      "source": [
        "\n",
        "# GRAFICAMOS LOS RESULTADOS DEL APRENDIZAJE\n",
        "# =========================================\n",
        "\n",
        "import matplotlib.pyplot as plt\n",
        "\n",
        "fig = plt.figure(dpi=60)\n",
        "#fig = plt.figure(figsize=(10,6))\n",
        "ax  = plt.subplot(111)\n",
        "pd.DataFrame(hist).plot(x='epoch', y=['loss','val_loss'], grid=True, ax=ax)\n",
        "#lt.ylim([0,0.010])\n",
        "plt.show()\n"
      ],
      "metadata": {
        "colab": {
          "base_uri": "https://localhost:8080/",
          "height": 237
        },
        "id": "38Frts_OIe6d",
        "outputId": "70b0bb3f-5c90-4bae-c817-b930e61ac7a2"
      },
      "execution_count": null,
      "outputs": [
        {
          "output_type": "display_data",
          "data": {
            "text/plain": [
              "<Figure size 360x240 with 1 Axes>"
            ],
            "image/png": "[encoded data removed]"
          },
          "metadata": {
            "needs_background": "light"
          }
        }
      ]
    },
    {
      "cell_type": "code",
      "source": [
        "\n",
        "# GRAFICAMOS LOS RESULTADOS DEL APRENDIZAJE\n",
        "# =========================================\n",
        "\n",
        "import matplotlib.pyplot as plt\n",
        "\n",
        "fig = plt.figure(dpi=60)\n",
        "#fig = plt.figure(figsize=(10,6))\n",
        "ax  = plt.subplot(111)\n",
        "pd.DataFrame(hist).plot(x='epoch', y=['acc','val_acc'], grid=True, ax=ax)\n",
        "#lt.ylim([0,0.010])\n",
        "plt.show()\n"
      ],
      "metadata": {
        "colab": {
          "base_uri": "https://localhost:8080/",
          "height": 237
        },
        "id": "X1xQVbyoIwa4",
        "outputId": "d1bf5597-03ee-4a4a-e974-b20e02fc9d8e"
      },
      "execution_count": null,
      "outputs": [
        {
          "output_type": "display_data",
          "data": {
            "text/plain": [
              "<Figure size 360x240 with 1 Axes>"
            ],
            "image/png": "[encoded data removed]"
          },
          "metadata": {
            "needs_background": "light"
          }
        }
      ]
    },
    {
      "cell_type": "markdown",
      "source": [
        "#Comprobamos con alguno de los grid de las simulaciones, la detección de los **agentes mutantes**."
      ],
      "metadata": {
        "id": "KeXBtm6bMqRd"
      }
    },
    {
      "cell_type": "markdown",
      "source": [
        "\n",
        "<figure>\n",
        "<center>\n",
        "<img src='https://github.com/oscarserc/IMAGENES/blob/main/Salida_1.png?raw=true' width=\"880\"/>\n",
        "<figcaption>fig. 2: El procesamiento que realiza la red neuronal (<i>empleando una función de pérdida 'Cross Entropy Loss'</i>) proporciona una salida de 2 matrices en este caso (una por cada clase, y cuyo tamaño es el del grid). Por ello cada agente (pixel de la imagen que se le pasa a la red CNN) tiene asociados 2 valores. Para llevar a cabo la clasificación, tenemos que transformar los valores de salida en probabilidades. Para esto llevamos a cabo una <b>tranformación Softmax</b>, tal y como se ve en la imagen. Para obtener la clase de agente, bastará posteriormente con extraer el índice donde ocurre el mayor de los dos valores (<i>arg max = argumento máximo</i>). Esto permite generar la matriz final con la identidad estimada de los agentes (0: agente emocional, 1: agente traidor).</figcaption></center>\n",
        "</figure>\n"
      ],
      "metadata": {
        "id": "vcKJhNh2B2wJ"
      }
    },
    {
      "cell_type": "code",
      "source": [
        "\n",
        "from sklearn.metrics import confusion_matrix\n",
        "\n",
        "torch.set_printoptions(precision=2)\n",
        "\n",
        "X_prueba, y_prueba = next(iter(dataloader['val']))\n",
        "y_prediccion = model(X_prueba)\n",
        "\n",
        "y_prob = torch.argmax(softmax(y_prediccion), axis=1)\n",
        "y_prob[1]\n"
      ],
      "metadata": {
        "id": "Hn7JexuVIe8u",
        "colab": {
          "base_uri": "https://localhost:8080/"
        },
        "outputId": "dc692f9a-4703-48c8-e1d3-f00735e50039"
      },
      "execution_count": null,
      "outputs": [
        {
          "output_type": "execute_result",
          "data": {
            "text/plain": [
              "tensor([[1, 0, 0, 0, 0, 0, 0, 0, 0, 1, 0, 0, 0, 0, 0, 0, 0, 1, 0, 0],\n",
              "        [0, 0, 0, 0, 0, 0, 0, 1, 0, 0, 0, 0, 0, 0, 0, 0, 0, 0, 0, 0],\n",
              "        [0, 0, 0, 1, 0, 0, 1, 1, 0, 0, 0, 0, 1, 0, 1, 0, 0, 0, 0, 0],\n",
              "        [1, 0, 0, 0, 0, 0, 0, 0, 1, 0, 0, 0, 0, 0, 0, 0, 1, 1, 0, 1],\n",
              "        [0, 0, 0, 0, 0, 0, 0, 1, 0, 0, 0, 0, 0, 0, 0, 0, 1, 0, 0, 0],\n",
              "        [0, 0, 0, 0, 0, 1, 0, 0, 0, 1, 0, 0, 0, 0, 0, 0, 0, 1, 0, 0],\n",
              "        [0, 0, 0, 0, 0, 0, 1, 0, 0, 0, 0, 0, 0, 0, 0, 0, 0, 0, 0, 0],\n",
              "        [0, 1, 0, 0, 0, 0, 1, 0, 1, 0, 0, 0, 0, 0, 0, 0, 0, 0, 0, 1],\n",
              "        [1, 1, 1, 0, 0, 0, 0, 0, 0, 0, 0, 0, 1, 0, 0, 0, 0, 1, 0, 0],\n",
              "        [1, 0, 0, 0, 1, 0, 0, 0, 0, 0, 0, 0, 0, 0, 0, 0, 0, 0, 0, 1],\n",
              "        [1, 1, 1, 0, 0, 0, 0, 0, 0, 0, 0, 0, 0, 0, 0, 0, 0, 0, 0, 0],\n",
              "        [0, 1, 1, 0, 0, 0, 0, 0, 0, 1, 0, 0, 1, 0, 1, 0, 0, 0, 0, 0],\n",
              "        [0, 0, 0, 0, 0, 1, 0, 1, 0, 0, 0, 1, 0, 1, 1, 0, 0, 0, 0, 1],\n",
              "        [0, 0, 0, 0, 0, 0, 0, 0, 0, 0, 0, 1, 0, 0, 0, 1, 0, 1, 0, 0],\n",
              "        [0, 0, 0, 0, 0, 0, 0, 0, 0, 0, 0, 0, 0, 0, 1, 0, 0, 0, 0, 0],\n",
              "        [0, 0, 0, 0, 0, 1, 0, 0, 0, 1, 0, 0, 0, 0, 0, 0, 0, 0, 1, 0],\n",
              "        [0, 1, 1, 0, 0, 0, 0, 0, 0, 1, 1, 0, 0, 1, 1, 1, 1, 0, 0, 0],\n",
              "        [1, 1, 0, 0, 0, 0, 0, 0, 0, 0, 0, 0, 1, 0, 0, 0, 0, 0, 0, 0],\n",
              "        [0, 0, 1, 0, 0, 0, 0, 0, 0, 0, 0, 0, 0, 0, 0, 0, 0, 0, 0, 0],\n",
              "        [0, 0, 0, 0, 0, 0, 0, 0, 1, 0, 1, 0, 0, 1, 0, 0, 0, 0, 1, 0]])"
            ]
          },
          "metadata": {},
          "execution_count": 11
        }
      ]
    },
    {
      "cell_type": "code",
      "source": [
        "\n",
        "y_prueba[1]\n"
      ],
      "metadata": {
        "id": "Hi1xCtB22fIk",
        "colab": {
          "base_uri": "https://localhost:8080/"
        },
        "outputId": "e01190c8-06a1-4469-b92c-9926635f24cb"
      },
      "execution_count": null,
      "outputs": [
        {
          "output_type": "execute_result",
          "data": {
            "text/plain": [
              "tensor([[1, 0, 0, 0, 0, 0, 0, 0, 0, 0, 0, 0, 0, 0, 0, 0, 0, 1, 0, 0],\n",
              "        [0, 0, 0, 0, 0, 0, 0, 1, 0, 0, 0, 0, 0, 0, 0, 0, 0, 0, 0, 0],\n",
              "        [0, 0, 0, 1, 0, 0, 1, 1, 0, 0, 0, 0, 1, 0, 1, 0, 0, 0, 0, 0],\n",
              "        [1, 0, 0, 0, 0, 0, 0, 0, 1, 0, 0, 0, 0, 0, 0, 0, 1, 1, 0, 0],\n",
              "        [0, 0, 0, 0, 0, 0, 0, 1, 0, 0, 0, 0, 0, 0, 0, 0, 1, 0, 0, 0],\n",
              "        [0, 0, 0, 0, 0, 1, 0, 0, 0, 1, 0, 0, 0, 0, 0, 0, 0, 1, 0, 0],\n",
              "        [0, 0, 0, 0, 0, 0, 1, 0, 0, 0, 0, 0, 0, 0, 0, 0, 0, 0, 0, 0],\n",
              "        [0, 1, 0, 0, 0, 0, 1, 0, 1, 0, 0, 0, 0, 0, 0, 0, 0, 0, 0, 1],\n",
              "        [0, 1, 1, 0, 0, 0, 0, 0, 0, 0, 0, 0, 1, 0, 0, 0, 0, 1, 0, 0],\n",
              "        [1, 0, 0, 0, 1, 0, 0, 0, 0, 0, 0, 0, 0, 0, 0, 0, 0, 0, 0, 1],\n",
              "        [0, 0, 0, 0, 0, 0, 0, 0, 0, 0, 0, 0, 0, 0, 0, 0, 0, 0, 0, 0],\n",
              "        [0, 1, 1, 0, 0, 0, 0, 0, 0, 1, 0, 0, 1, 0, 1, 0, 0, 0, 0, 0],\n",
              "        [0, 0, 0, 0, 0, 1, 0, 1, 0, 0, 0, 1, 0, 1, 1, 0, 0, 0, 0, 1],\n",
              "        [0, 0, 0, 0, 0, 0, 0, 0, 0, 0, 0, 1, 0, 0, 0, 1, 0, 1, 0, 0],\n",
              "        [0, 0, 0, 0, 0, 0, 0, 0, 0, 0, 0, 0, 0, 0, 1, 0, 0, 0, 0, 0],\n",
              "        [0, 0, 0, 0, 0, 1, 0, 0, 0, 1, 0, 0, 0, 0, 0, 0, 0, 0, 1, 0],\n",
              "        [0, 1, 1, 0, 0, 0, 0, 0, 0, 1, 1, 0, 0, 1, 1, 1, 1, 0, 0, 0],\n",
              "        [1, 0, 0, 0, 0, 0, 0, 0, 0, 0, 0, 0, 1, 0, 0, 0, 0, 0, 0, 0],\n",
              "        [0, 0, 1, 0, 0, 0, 0, 0, 0, 0, 0, 0, 0, 0, 0, 0, 0, 0, 0, 0],\n",
              "        [0, 0, 0, 0, 0, 0, 0, 0, 1, 0, 1, 0, 0, 1, 0, 0, 0, 0, 1, 0]])"
            ]
          },
          "metadata": {},
          "execution_count": 12
        }
      ]
    },
    {
      "cell_type": "code",
      "source": [
        "y_prueba[1,1,3]"
      ],
      "metadata": {
        "colab": {
          "base_uri": "https://localhost:8080/"
        },
        "id": "mtma52V6RYZl",
        "outputId": "78114d2c-1235-400c-c2f6-c51ccfe2a8d8"
      },
      "execution_count": null,
      "outputs": [
        {
          "output_type": "execute_result",
          "data": {
            "text/plain": [
              "tensor(0)"
            ]
          },
          "metadata": {},
          "execution_count": 13
        }
      ]
    },
    {
      "cell_type": "code",
      "source": [],
      "metadata": {
        "id": "9p0Kb2WrRYcu"
      },
      "execution_count": null,
      "outputs": []
    },
    {
      "cell_type": "markdown",
      "source": [
        "#Hemos elegido uno de los casos en los que acierta la identidad de todos los agentes:"
      ],
      "metadata": {
        "id": "VBCtxC5QM3m6"
      }
    },
    {
      "cell_type": "code",
      "source": [
        "\n",
        "confusion_matrix(y_prueba[1].flatten().numpy(), y_prob[1].flatten().numpy())\n"
      ],
      "metadata": {
        "colab": {
          "base_uri": "https://localhost:8080/"
        },
        "id": "49OtnblZLoBQ",
        "outputId": "af0711ca-dc3a-4165-9687-4e26ac0faea9"
      },
      "execution_count": null,
      "outputs": [
        {
          "output_type": "execute_result",
          "data": {
            "text/plain": [
              "array([[331,   7],\n",
              "       [  0,  62]])"
            ]
          },
          "metadata": {},
          "execution_count": 13
        }
      ]
    },
    {
      "cell_type": "code",
      "source": [
        "\n",
        "from sklearn.metrics import ConfusionMatrixDisplay\n",
        "\n",
        "# Agente emocional         --> código: 0\n",
        "# Agente mutante (traidor) --> código: 1\n",
        "# --------------------------------------\n",
        "ConfusionMatrixDisplay.from_predictions(y_prueba[1].flatten().numpy(), y_prob[1].flatten().numpy())\n"
      ],
      "metadata": {
        "colab": {
          "base_uri": "https://localhost:8080/",
          "height": 296
        },
        "id": "Sefzg9DcNDWA",
        "outputId": "40d25d59-d498-45f3-a43b-7723b08bd137"
      },
      "execution_count": null,
      "outputs": [
        {
          "output_type": "execute_result",
          "data": {
            "text/plain": [
              "<sklearn.metrics._plot.confusion_matrix.ConfusionMatrixDisplay at 0x7efbaa69a750>"
            ]
          },
          "metadata": {},
          "execution_count": 14
        },
        {
          "output_type": "display_data",
          "data": {
            "text/plain": [
              "<Figure size 432x288 with 2 Axes>"
            ],
            "image/png": "[encoded data removed]"
          },
          "metadata": {
            "needs_background": "light"
          }
        }
      ]
    },
    {
      "cell_type": "markdown",
      "source": [
        "#Ahora probamos con todos los píxeles de los frames (de 10x10) del conjunto de **DATOS de ENTRENAMIENTO**."
      ],
      "metadata": {
        "id": "iMFiQxobWJEM"
      }
    },
    {
      "cell_type": "code",
      "source": [
        "\n",
        "from functools import reduce\n",
        "\n",
        "predicciones_train  = []\n",
        "observaciones_train = []\n",
        "\n",
        "# Iteramos por el conjunto de datos de Validación\n",
        "# -----------------------------------------------\n",
        "for x_b, y_b in dataloader['train']:\n",
        "  y_pred = model(x_b)\n",
        "  y_prob = torch.argmax(softmax(y_pred), axis=1)\n",
        "  # Se añaden como arrays a la lista, por lo que convertimos previamente a una lista\n",
        "  # El resultado es una lista de lista, por lo que las reducimos a una sola más abajo\n",
        "  # (Esto es así porque el procedimiento confusion_matrix sólo opera datos de 1 dimensión)\n",
        "  predicciones_train.append(list(y_prob.numpy().flatten()))\n",
        "  observaciones_train.append(list(y_b.numpy().flatten()))\n",
        "\n",
        "data_pred_train = reduce(lambda a, b: a+b, predicciones_train)\n",
        "data_obs_train  = reduce(lambda a, b: a+b, observaciones_train)\n",
        "\n",
        "confusion_matrix(data_obs_train, data_pred_train)\n"
      ],
      "metadata": {
        "colab": {
          "base_uri": "https://localhost:8080/"
        },
        "id": "nkfBdKVlXisn",
        "outputId": "3a5443b1-9061-4b83-8c62-71a51eeb43bb"
      },
      "execution_count": null,
      "outputs": [
        {
          "output_type": "execute_result",
          "data": {
            "text/plain": [
              "array([[1047504,   38206],\n",
              "       [      3,  194287]])"
            ]
          },
          "metadata": {},
          "execution_count": 15
        }
      ]
    },
    {
      "cell_type": "code",
      "source": [
        "\n",
        "ConfusionMatrixDisplay.from_predictions(data_obs_train, data_pred_train, normalize='all', values_format='.3%')\n"
      ],
      "metadata": {
        "colab": {
          "base_uri": "https://localhost:8080/",
          "height": 296
        },
        "id": "dgc1lhFhYIHw",
        "outputId": "badd1533-6279-478f-b1e1-b20f06e197f2"
      },
      "execution_count": null,
      "outputs": [
        {
          "output_type": "execute_result",
          "data": {
            "text/plain": [
              "<sklearn.metrics._plot.confusion_matrix.ConfusionMatrixDisplay at 0x7efbaa687250>"
            ]
          },
          "metadata": {},
          "execution_count": 16
        },
        {
          "output_type": "display_data",
          "data": {
            "text/plain": [
              "<Figure size 432x288 with 2 Axes>"
            ],
            "image/png": "[encoded data removed]"
          },
          "metadata": {
            "needs_background": "light"
          }
        }
      ]
    },
    {
      "cell_type": "markdown",
      "source": [
        "#Ahora probamos con todos los píxeles de los frames (de 10x10) del conjunto de **DATOS de VALIDACIÓN**."
      ],
      "metadata": {
        "id": "keAxNcQDX8i7"
      }
    },
    {
      "cell_type": "code",
      "source": [
        "\n",
        "from functools import reduce\n",
        "\n",
        "predicciones  = []\n",
        "observaciones = []\n",
        "\n",
        "# Iteramos por el conjunto de datos de Validación\n",
        "# -----------------------------------------------\n",
        "for x_b, y_b in dataloader['val']:\n",
        "  y_pred = model(x_b)\n",
        "  y_prob = torch.argmax(softmax(y_pred), axis=1)\n",
        "  # Se añaden como arrays a la lista, por lo que convertimos previamente a una lista\n",
        "  # El resultado es una lista de lista, por lo que las reducimos a una sola más abajo\n",
        "  # (Esto es así porque el procedimiento confusion_matrix sólo opera datos de 1 dimensión)\n",
        "  predicciones.append(list(y_prob.numpy().flatten()))\n",
        "  observaciones.append(list(y_b.numpy().flatten()))\n",
        "\n",
        "data_pred = reduce(lambda a, b: a+b, predicciones)\n",
        "data_obs  = reduce(lambda a, b: a+b, observaciones)\n",
        "\n",
        "confusion_matrix(data_obs, data_pred)\n",
        "\n"
      ],
      "metadata": {
        "colab": {
          "base_uri": "https://localhost:8080/"
        },
        "id": "jiwZToVDMDRz",
        "outputId": "09386b75-1392-4c6e-afc8-9ea5a106b413"
      },
      "execution_count": null,
      "outputs": [
        {
          "output_type": "execute_result",
          "data": {
            "text/plain": [
              "array([[255852,  15509],\n",
              "       [     1,  48638]])"
            ]
          },
          "metadata": {},
          "execution_count": 36
        }
      ]
    },
    {
      "cell_type": "code",
      "source": [
        "\n",
        "ConfusionMatrixDisplay.from_predictions(data_obs, data_pred, normalize='all', values_format='.3%')\n"
      ],
      "metadata": {
        "colab": {
          "base_uri": "https://localhost:8080/",
          "height": 296
        },
        "id": "3pgxs82eUOOX",
        "outputId": "089564b1-9a1f-4ba1-fed4-1bcad9d5d4c0"
      },
      "execution_count": null,
      "outputs": [
        {
          "output_type": "execute_result",
          "data": {
            "text/plain": [
              "<sklearn.metrics._plot.confusion_matrix.ConfusionMatrixDisplay at 0x7efbaa6de750>"
            ]
          },
          "metadata": {},
          "execution_count": 18
        },
        {
          "output_type": "display_data",
          "data": {
            "text/plain": [
              "<Figure size 432x288 with 2 Axes>"
            ],
            "image/png": "[encoded data removed]"
          },
          "metadata": {
            "needs_background": "light"
          }
        }
      ]
    },
    {
      "cell_type": "code",
      "source": [],
      "metadata": {
        "id": "-h830XZIEdCO"
      },
      "execution_count": null,
      "outputs": []
    },
    {
      "cell_type": "code",
      "source": [],
      "metadata": {
        "id": "4mqbe7WBQJDA"
      },
      "execution_count": null,
      "outputs": []
    },
    {
      "cell_type": "markdown",
      "source": [
        "#Representamos con colores a los agentes mutantes correcta o equivocadamente identificados."
      ],
      "metadata": {
        "id": "8G6yDv6rQJRX"
      }
    },
    {
      "cell_type": "code",
      "source": [
        "\n",
        "from sklearn.metrics import confusion_matrix\n",
        "\n",
        "torch.set_printoptions(precision=2)\n",
        "\n",
        "X_obs, y_obs = next(iter(dataloader['val']))\n",
        "y_probab = model(X_obs)\n",
        "y_predic = torch.argmax(softmax(y_probab), axis=1)\n",
        "\n",
        "# Utilizamos códigos para representar los colores y así identificar\n",
        "# mejor a los agentes en la predicción (agentes MUTANTES)\n",
        "red    = '\\033[91m'\n",
        "green  = '\\033[92m'\n",
        "black  = '\\x1b[0m'\n",
        "# También:\n",
        "red_bold  = '\\x1b[1;02;31m'\n",
        "green_bold = '\\x1b[1;02;32m'\n",
        "# Con fondo:\n",
        "red_bold_fondo  = '\\x1b[1;02;31;43m'\n",
        "green_bold_fondo = '\\x1b[1;02;32;43m'\n",
        "\n",
        "frame  = 1\n",
        "cadena = ''\n",
        "size_m = 3\n",
        "\n",
        "for i in range(size):\n",
        "  for j in range(size):\n",
        "    if (y_predic[frame,i,j] != y_obs[frame,i,j]) and (y_predic[frame,i,j] == 1):\n",
        "      cadena += red_bold + str(y_predic[frame,i,j].numpy()) + black + '  '\n",
        "    elif (y_predic[frame,i,j] != y_obs[frame,i,j]) and (y_predic[frame,i,j] == 0):\n",
        "      cadena += red + '.' + black + '  '\n",
        "    elif (y_predic[frame,i,j] == y_obs[frame,i,j]) and (y_predic[frame,i,j] == 1):\n",
        "      cadena += green + str(y_predic[frame,i,j].numpy()) + black + '  '\n",
        "    else:\n",
        "      cadena += str(y_predic[frame,i,j].numpy()) + '  '\n",
        "  cadena += '\\n'\n",
        "\n",
        "print(cadena)\n",
        "\n"
      ],
      "metadata": {
        "id": "3qcLSL2BEdFX",
        "colab": {
          "base_uri": "https://localhost:8080/"
        },
        "outputId": "0ccd7225-25fd-41c7-cd6f-f3f916697be4"
      },
      "execution_count": null,
      "outputs": [
        {
          "output_type": "stream",
          "name": "stdout",
          "text": [
            "0  0  0  0  0  0  \u001b[92m1\u001b[0m  0  0  0  0  0  \u001b[92m1\u001b[0m  \u001b[92m1\u001b[0m  \u001b[92m1\u001b[0m  0  \u001b[92m1\u001b[0m  0  0  0  \n",
            "0  0  0  0  0  0  0  0  0  \u001b[92m1\u001b[0m  0  0  0  0  0  0  0  0  \u001b[92m1\u001b[0m  0  \n",
            "0  0  0  0  \u001b[92m1\u001b[0m  0  0  0  0  0  0  0  0  0  0  0  0  0  0  \u001b[92m1\u001b[0m  \n",
            "\u001b[1;02;31m1\u001b[0m  \u001b[1;02;31m1\u001b[0m  \u001b[92m1\u001b[0m  0  0  0  0  0  \u001b[92m1\u001b[0m  0  0  0  \u001b[92m1\u001b[0m  0  0  0  0  0  0  0  \n",
            "\u001b[92m1\u001b[0m  \u001b[92m1\u001b[0m  \u001b[92m1\u001b[0m  0  0  0  0  0  0  0  0  0  0  0  0  0  0  0  0  0  \n",
            "\u001b[1;02;31m1\u001b[0m  \u001b[1;02;31m1\u001b[0m  \u001b[1;02;31m1\u001b[0m  0  0  0  \u001b[1;02;31m1\u001b[0m  0  0  0  0  0  0  0  0  0  0  0  \u001b[1;02;31m1\u001b[0m  \u001b[1;02;31m1\u001b[0m  \n",
            "0  0  0  0  0  \u001b[92m1\u001b[0m  \u001b[92m1\u001b[0m  0  \u001b[92m1\u001b[0m  0  0  0  0  0  0  \u001b[92m1\u001b[0m  0  0  \u001b[92m1\u001b[0m  \u001b[92m1\u001b[0m  \n",
            "0  \u001b[92m1\u001b[0m  0  \u001b[92m1\u001b[0m  0  \u001b[1;02;31m1\u001b[0m  0  0  0  \u001b[92m1\u001b[0m  0  0  \u001b[92m1\u001b[0m  0  0  0  0  0  0  0  \n",
            "0  0  0  0  0  0  0  0  0  \u001b[92m1\u001b[0m  \u001b[92m1\u001b[0m  0  0  0  0  0  0  0  0  0  \n",
            "0  0  0  0  \u001b[92m1\u001b[0m  \u001b[92m1\u001b[0m  0  \u001b[92m1\u001b[0m  0  \u001b[1;02;31m1\u001b[0m  \u001b[1;02;31m1\u001b[0m  0  0  0  0  0  0  0  \u001b[92m1\u001b[0m  0  \n",
            "0  0  0  \u001b[92m1\u001b[0m  \u001b[1;02;31m1\u001b[0m  \u001b[92m1\u001b[0m  0  0  0  0  \u001b[92m1\u001b[0m  0  0  0  0  0  0  0  0  \u001b[92m1\u001b[0m  \n",
            "0  \u001b[92m1\u001b[0m  \u001b[92m1\u001b[0m  0  0  0  0  0  \u001b[92m1\u001b[0m  0  0  0  0  0  0  0  0  \u001b[92m1\u001b[0m  0  0  \n",
            "0  0  0  0  0  0  0  0  0  0  0  0  0  \u001b[92m1\u001b[0m  \u001b[92m1\u001b[0m  0  0  0  0  0  \n",
            "\u001b[1;02;31m1\u001b[0m  0  0  0  0  0  0  0  0  0  0  0  \u001b[1;02;31m1\u001b[0m  \u001b[1;02;31m1\u001b[0m  \u001b[1;02;31m1\u001b[0m  0  0  0  0  0  \n",
            "0  0  0  0  0  0  0  0  0  0  0  0  0  \u001b[92m1\u001b[0m  0  0  0  0  0  0  \n",
            "0  \u001b[92m1\u001b[0m  0  0  0  0  0  \u001b[92m1\u001b[0m  0  \u001b[92m1\u001b[0m  0  0  0  0  0  \u001b[92m1\u001b[0m  0  0  0  0  \n",
            "\u001b[1;02;31m1\u001b[0m  0  0  0  0  0  0  0  0  \u001b[92m1\u001b[0m  0  0  0  0  0  \u001b[92m1\u001b[0m  0  0  0  \u001b[92m1\u001b[0m  \n",
            "\u001b[92m1\u001b[0m  0  \u001b[92m1\u001b[0m  \u001b[92m1\u001b[0m  \u001b[92m1\u001b[0m  \u001b[92m1\u001b[0m  0  0  0  \u001b[92m1\u001b[0m  0  0  0  0  0  \u001b[92m1\u001b[0m  0  0  0  \u001b[92m1\u001b[0m  \n",
            "\u001b[1;02;31m1\u001b[0m  \u001b[1;02;31m1\u001b[0m  \u001b[1;02;31m1\u001b[0m  \u001b[1;02;31m1\u001b[0m  \u001b[1;02;31m1\u001b[0m  0  0  0  0  0  0  0  0  0  0  0  0  \u001b[92m1\u001b[0m  0  0  \n",
            "\u001b[92m1\u001b[0m  \u001b[92m1\u001b[0m  \u001b[92m1\u001b[0m  \u001b[92m1\u001b[0m  0  0  \u001b[92m1\u001b[0m  0  0  0  0  0  0  0  \u001b[92m1\u001b[0m  0  0  0  0  0  \n",
            "\n"
          ]
        }
      ]
    },
    {
      "cell_type": "code",
      "source": [
        "\n",
        "import matplotlib.pyplot as plt\n",
        "\n",
        "# Uno de los frames\n",
        "# -----------------\n",
        "plt.imshow(X_obs[1].permute(1,2,0))\n",
        "plt.show()\n",
        "\n"
      ],
      "metadata": {
        "colab": {
          "base_uri": "https://localhost:8080/",
          "height": 265
        },
        "id": "LhIPqoE-PXrZ",
        "outputId": "b8a97448-7f47-4f4f-c452-092747f7d85b"
      },
      "execution_count": null,
      "outputs": [
        {
          "output_type": "display_data",
          "data": {
            "text/plain": [
              "<Figure size 432x288 with 1 Axes>"
            ],
            "image/png": "[encoded data removed]"
          },
          "metadata": {
            "needs_background": "light"
          }
        }
      ]
    },
    {
      "cell_type": "code",
      "source": [
        "\n",
        "from sklearn.metrics import roc_curve\n",
        "\n",
        "# CURVA ROC  (Creo que son 'scores' lo que se le debe pasar\n",
        "# como segundo argumento. No sé si se puede hacer así)\n",
        "# ---------------------------------------------------------\n",
        "fpr, tpr, thresholds = roc_curve(data_obs, data_pred)\n",
        "#plt.plot(fpr, tpr, 'b:', label='Convolutional Neural Net')\n",
        "plt.plot(fpr, tpr, 'b:', label='Perceptron')\n",
        "plt.plot([0, 1], [0, 1], 'k--')\n",
        "#plt.axis([0, 1, 0, 1])     # Libro de Aurelien Geron\n",
        "plt.xlabel('False Positive Rate')\n",
        "plt.ylabel('True Positive Rate (Recall)')\n",
        "plt.grid(True)\n",
        "plt.legend(loc='lower right')\n",
        "plt.show()\n"
      ],
      "metadata": {
        "id": "WSInKZGWPXuR",
        "colab": {
          "base_uri": "https://localhost:8080/",
          "height": 449
        },
        "outputId": "02712b1a-bd16-4ff7-c695-5483d00a165a"
      },
      "execution_count": null,
      "outputs": [
        {
          "output_type": "display_data",
          "data": {
            "text/plain": [
              "<Figure size 640x480 with 1 Axes>"
            ],
            "image/png": "[encoded data removed]"
          },
          "metadata": {}
        }
      ]
    },
    {
      "cell_type": "code",
      "source": [],
      "metadata": {
        "id": "5g70_hFig8R4"
      },
      "execution_count": null,
      "outputs": []
    },
    {
      "cell_type": "code",
      "source": [
        "\n",
        "from sklearn.metrics import confusion_matrix\n",
        "\n",
        "torch.set_printoptions(precision=2)\n",
        "\n",
        "X_obs, y_obs = next(iter(dataloader['val']))\n",
        "y_probab = model(X_obs)\n",
        "y_predic = torch.argmax(softmax(y_probab), axis=1)\n",
        "\n",
        "# Utilizamos códigos para representar los colores y así identificar\n",
        "# mejor a los agentes en la predicción (agentes MUTANTES)\n",
        "red    = '\\033[91m'\n",
        "green  = '\\033[92m'\n",
        "black  = '\\x1b[0m'\n",
        "# También:\n",
        "red_bold  = '\\x1b[1;02;31m'\n",
        "green_bold = '\\x1b[1;02;32m'\n",
        "# Con fondo:\n",
        "red_bold_fondo  = '\\x1b[1;02;31;43m'\n",
        "green_bold_fondo = '\\x1b[1;02;32;43m'\n",
        "\n",
        "frame  = 2\n",
        "cadena = ''\n",
        "size_m = 3\n",
        "\n",
        "for i in range(size):\n",
        "  for j in range(size):\n",
        "    if (y_predic[frame,i,j] != y_obs[frame,i,j]) and (y_predic[frame,i,j] == 1):\n",
        "      cadena += red_bold_fondo + str(y_predic[frame,i,j].numpy()) + black + '  '\n",
        "    elif (y_predic[frame,i,j] != y_obs[frame,i,j]) and (y_predic[frame,i,j] == 0):\n",
        "      cadena += red_bold_fondo + '.' + black + '  '\n",
        "    elif (y_predic[frame,i,j] == y_obs[frame,i,j]) and (y_predic[frame,i,j] == 1):\n",
        "      cadena += green_bold + str(y_predic[frame,i,j].numpy()) + black + '  '\n",
        "    else:\n",
        "      cadena += str(y_predic[frame,i,j].numpy()) + '  '\n",
        "  cadena += '\\n'\n",
        "\n",
        "print(cadena)\n"
      ],
      "metadata": {
        "colab": {
          "base_uri": "https://localhost:8080/"
        },
        "id": "TPNBkuX7b1Bs",
        "outputId": "5d8a5ffc-13cb-482b-9626-592988fcb71f"
      },
      "execution_count": null,
      "outputs": [
        {
          "output_type": "stream",
          "name": "stdout",
          "text": [
            "0  0  0  0  0  \u001b[1;02;32m1\u001b[0m  0  \u001b[1;02;32m1\u001b[0m  0  0  0  0  \u001b[1;02;32m1\u001b[0m  0  0  0  0  0  \u001b[1;02;32m1\u001b[0m  \u001b[1;02;31;43m1\u001b[0m  \n",
            "0  0  0  0  0  \u001b[1;02;32m1\u001b[0m  0  0  0  \u001b[1;02;32m1\u001b[0m  0  0  0  0  \u001b[1;02;32m1\u001b[0m  0  0  \u001b[1;02;32m1\u001b[0m  \u001b[1;02;32m1\u001b[0m  \u001b[1;02;32m1\u001b[0m  \n",
            "0  0  0  0  0  0  0  0  0  0  \u001b[1;02;32m1\u001b[0m  0  0  0  0  0  0  0  0  \u001b[1;02;32m1\u001b[0m  \n",
            "0  0  0  0  0  \u001b[1;02;32m1\u001b[0m  0  0  0  \u001b[1;02;32m1\u001b[0m  0  0  0  0  0  0  0  0  0  0  \n",
            "0  \u001b[1;02;32m1\u001b[0m  0  0  0  0  0  0  0  0  0  \u001b[1;02;32m1\u001b[0m  0  0  0  0  \u001b[1;02;31;43m1\u001b[0m  0  0  0  \n",
            "0  0  0  0  \u001b[1;02;32m1\u001b[0m  0  0  0  0  \u001b[1;02;32m1\u001b[0m  0  0  \u001b[1;02;32m1\u001b[0m  0  0  \u001b[1;02;31;43m1\u001b[0m  0  0  0  0  \n",
            "0  \u001b[1;02;32m1\u001b[0m  \u001b[1;02;32m1\u001b[0m  \u001b[1;02;32m1\u001b[0m  0  0  0  0  0  0  \u001b[1;02;32m1\u001b[0m  0  0  0  0  0  0  \u001b[1;02;32m1\u001b[0m  \u001b[1;02;32m1\u001b[0m  0  \n",
            "\u001b[1;02;32m1\u001b[0m  0  0  0  0  0  \u001b[1;02;32m1\u001b[0m  0  \u001b[1;02;32m1\u001b[0m  \u001b[1;02;32m1\u001b[0m  0  0  0  0  0  0  0  0  0  0  \n",
            "0  0  0  0  \u001b[1;02;32m1\u001b[0m  0  \u001b[1;02;32m1\u001b[0m  0  0  0  0  0  0  0  0  0  0  0  0  0  \n",
            "0  0  \u001b[1;02;32m1\u001b[0m  0  0  0  0  0  \u001b[1;02;32m1\u001b[0m  0  0  0  0  0  0  0  0  \u001b[1;02;32m1\u001b[0m  0  0  \n",
            "0  0  \u001b[1;02;32m1\u001b[0m  0  0  0  0  0  0  0  0  0  0  0  0  \u001b[1;02;32m1\u001b[0m  0  \u001b[1;02;32m1\u001b[0m  0  0  \n",
            "0  0  0  0  0  0  0  0  0  \u001b[1;02;32m1\u001b[0m  0  0  0  \u001b[1;02;32m1\u001b[0m  0  0  0  0  0  0  \n",
            "\u001b[1;02;32m1\u001b[0m  0  \u001b[1;02;32m1\u001b[0m  \u001b[1;02;32m1\u001b[0m  \u001b[1;02;32m1\u001b[0m  0  \u001b[1;02;32m1\u001b[0m  0  0  \u001b[1;02;32m1\u001b[0m  0  0  \u001b[1;02;32m1\u001b[0m  0  0  0  0  0  0  \u001b[1;02;32m1\u001b[0m  \n",
            "0  0  0  0  0  0  0  \u001b[1;02;32m1\u001b[0m  0  0  0  0  0  \u001b[1;02;32m1\u001b[0m  0  0  0  \u001b[1;02;32m1\u001b[0m  0  \u001b[1;02;32m1\u001b[0m  \n",
            "0  0  0  0  0  0  0  \u001b[1;02;32m1\u001b[0m  0  0  0  0  0  0  0  0  0  0  0  0  \n",
            "0  0  0  0  0  0  0  0  0  \u001b[1;02;32m1\u001b[0m  \u001b[1;02;32m1\u001b[0m  0  0  0  0  0  \u001b[1;02;32m1\u001b[0m  0  0  0  \n",
            "0  0  \u001b[1;02;32m1\u001b[0m  \u001b[1;02;32m1\u001b[0m  0  0  \u001b[1;02;32m1\u001b[0m  0  0  \u001b[1;02;32m1\u001b[0m  0  0  0  0  0  0  0  \u001b[1;02;31;43m1\u001b[0m  0  0  \n",
            "0  0  0  \u001b[1;02;32m1\u001b[0m  \u001b[1;02;31;43m1\u001b[0m  0  0  0  0  0  0  \u001b[1;02;32m1\u001b[0m  0  0  0  0  0  0  0  0  \n",
            "0  0  0  0  \u001b[1;02;32m1\u001b[0m  \u001b[1;02;32m1\u001b[0m  0  0  0  0  0  0  0  0  0  0  0  \u001b[1;02;32m1\u001b[0m  0  0  \n",
            "\u001b[1;02;32m1\u001b[0m  0  0  0  0  0  0  0  0  0  0  \u001b[1;02;32m1\u001b[0m  0  0  0  0  0  0  \u001b[1;02;32m1\u001b[0m  0  \n",
            "\n"
          ]
        }
      ]
    },
    {
      "cell_type": "code",
      "source": [],
      "metadata": {
        "id": "3ycEf4Q-b1Eu"
      },
      "execution_count": null,
      "outputs": []
    }
  ]
}