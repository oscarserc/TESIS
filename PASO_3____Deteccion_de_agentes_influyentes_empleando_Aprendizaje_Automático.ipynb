{
  "nbformat": 4,
  "nbformat_minor": 0,
  "metadata": {
    "colab": {
      "provenance": [],
      "authorship_tag": "ABX9TyNY9ya0x/90rADCTORmbAuO",
      "include_colab_link": true
    },
    "kernelspec": {
      "name": "python3",
      "display_name": "Python 3"
    },
    "language_info": {
      "name": "python"
    }
  },
  "cells": [
    {
      "cell_type": "markdown",
      "metadata": {
        "id": "view-in-github",
        "colab_type": "text"
      },
      "source": [
        "<a href=\"https://colab.research.google.com/github/oscarserc/TESIS/blob/main/PASO_3____Deteccion_de_agentes_influyentes_empleando_Aprendizaje_Autom%C3%A1tico.ipynb\" target=\"_parent\"><img src=\"https://colab.research.google.com/assets/colab-badge.svg\" alt=\"Open In Colab\"/></a>"
      ]
    },
    {
      "cell_type": "markdown",
      "source": [
        "#UTILIZACIÓN DE TÉCNICAS DE APRENDIZAJE AUTOMÁTICO PARA LA DETECCIÓN DE LOS NODOS INFLUYENTES.\n",
        "\n",
        "La base de datos que emplearemos será de unas 70.000 observaciones. En concreto:\n",
        "\n",
        "· 72.000 observaciones\n",
        "\n",
        "· Para ello generamos una 1800 **simulaciones**, y guardamos unos 40 **frames** de cada una de ellas\n",
        "\n",
        "· Además como **target** guardamos la matriz con la IDENTIDAD de todos y cada uno de los AGENTES.\n",
        "\n"
      ],
      "metadata": {
        "id": "Ck6WE2qgmKul"
      }
    },
    {
      "cell_type": "code",
      "source": [],
      "metadata": {
        "id": "yclIUzOWcSjy"
      },
      "execution_count": null,
      "outputs": []
    },
    {
      "cell_type": "code",
      "source": [],
      "metadata": {
        "id": "ijoWUtiKcSpa"
      },
      "execution_count": null,
      "outputs": []
    },
    {
      "cell_type": "markdown",
      "source": [
        "El procedimiento que emplearemos se puede resumir en el empleo de diversos tipos de arquitectura de Red Neuronal. Con ellas utilizaremos técnicas de visión por computadora, principalmente: técnicas de Segmentación, que nos permiten clasificar todos y cada uno de los píxeles de una imagen.\n",
        "\n",
        "<figure>\n",
        "<center>\n",
        "<img src='https://github.com/oscarserc/IMAGENES/blob/main/Planteamiento_problema_1a.png?raw=true' width=\"650\"/>\n",
        "<figcaption>fig. 1: Utilizando como <b>input</b>, la simulación de las interacciones emocionales en la Red, pretendemos conseguir que el procesamiento de la Red Neuronal produzca como <b>output</b> la clasificación de todos los nodos de la Red (en la imagen: <b>0</b> (<i>agente emocional</i>) y <b>1</b> (agente mutante traidor). </figcaption></center>\n",
        "</figure>\n",
        "\n",
        "<br></br>\n",
        "\n",
        "En la medida en que utilizamos imágenes para representar la dinámica de la Red Social, este procedimiento nos permite clasificar los distintos agentes de la red según su naturaleza."
      ],
      "metadata": {
        "id": "DeSAwMEUo2dj"
      }
    },
    {
      "cell_type": "code",
      "source": [],
      "metadata": {
        "id": "U3ot9Dr2qF0q"
      },
      "execution_count": null,
      "outputs": []
    },
    {
      "cell_type": "code",
      "source": [],
      "metadata": {
        "id": "TgqnIlD2qF3Z"
      },
      "execution_count": null,
      "outputs": []
    },
    {
      "cell_type": "markdown",
      "source": [
        "#**PRUEBA 1**: Planteamos un problema de **Clasificación**. Entrenaremos una Red Neuronal para detectar el tipo de mezcla poblacional ante la que nos encontramos. Podemos empezar por lo más sencillo. Utilizamos un <font color='green'>**PERCEPTRÓN MULTICAPA**</font>."
      ],
      "metadata": {
        "id": "F1wDGIWlcnLL"
      }
    },
    {
      "cell_type": "markdown",
      "source": [
        "\n",
        "<figure>\n",
        "<center>\n",
        "<img src='https://github.com/oscarserc/IMAGENES/blob/main/Archivo_E_CNN_target1.png?raw=true' width=\"850\"/>\n",
        "<figcaption></figcaption></center>\n",
        "</figure>\n"
      ],
      "metadata": {
        "id": "xy5oX0_Qc2m5"
      }
    },
    {
      "cell_type": "markdown",
      "source": [
        "Cargamos la base de datos de simulaciones. Para empezar utilizamos sólo simulaciones con **AGENTES EMOCIONALES** únicamente (target=0), o una población con **AGENTES MUTANTES TRAIDORES** infiltrados (target=1)."
      ],
      "metadata": {
        "id": "UJOp9oiGexop"
      }
    },
    {
      "cell_type": "code",
      "source": [],
      "metadata": {
        "id": "DI506iOhmdyA"
      },
      "execution_count": null,
      "outputs": []
    },
    {
      "cell_type": "code",
      "source": [],
      "metadata": {
        "id": "ku6oEvMV0pzc"
      },
      "execution_count": null,
      "outputs": []
    },
    {
      "cell_type": "markdown",
      "source": [
        "#**PRUEBA 2**: Utilizaremos una <font color='green'>**RED NEURONAL CONVOLUCIONAL**</font>. Planteamos el problema de localizar a los agentes influyentes como un problema de **Segmentación** de imágenes."
      ],
      "metadata": {
        "id": "Q1K5T8gmcRFa"
      }
    },
    {
      "cell_type": "markdown",
      "source": [
        "\n",
        "<figure>\n",
        "<center>\n",
        "<img src='https://github.com/oscarserc/IMAGENES/blob/main/Archivo_E_CNN_target2.png?raw=true' width=\"950\"/>\n",
        "<figcaption></figcaption></center>\n",
        "</figure>\n",
        "\n"
      ],
      "metadata": {
        "id": "_WuC_yF0b42T"
      }
    },
    {
      "cell_type": "code",
      "source": [],
      "metadata": {
        "id": "xpykoNS6TjqF"
      },
      "execution_count": null,
      "outputs": []
    },
    {
      "cell_type": "code",
      "source": [],
      "metadata": {
        "id": "EubDPNjJTjtd"
      },
      "execution_count": null,
      "outputs": []
    },
    {
      "cell_type": "markdown",
      "source": [
        "#**PRUEBA 3**: Utilizaremos una <font color='green'>**RED NEURONAL CONVOLUCIONAL 3D**</font>. "
      ],
      "metadata": {
        "id": "zFc8Qe64xyEQ"
      }
    },
    {
      "cell_type": "code",
      "source": [],
      "metadata": {
        "id": "ho3Wg1cAx1qf"
      },
      "execution_count": null,
      "outputs": []
    },
    {
      "cell_type": "code",
      "source": [],
      "metadata": {
        "id": "ZN1JbTvUx1tP"
      },
      "execution_count": null,
      "outputs": []
    },
    {
      "cell_type": "markdown",
      "source": [
        "#**PRUEBA 4**: Utilizaremos una <font color='green'>**ARQUITECTURA NEURONAL U-Net**</font>. Formada por estructuras <b>encoder</b> y <b>decoder</b>."
      ],
      "metadata": {
        "id": "W4HVyMUKx35v"
      }
    },
    {
      "cell_type": "code",
      "source": [],
      "metadata": {
        "id": "H8j2MGVByGA1"
      },
      "execution_count": null,
      "outputs": []
    },
    {
      "cell_type": "code",
      "source": [],
      "metadata": {
        "id": "ON286xAcyGD3"
      },
      "execution_count": null,
      "outputs": []
    }
  ]
}