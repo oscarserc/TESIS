{
  "nbformat": 4,
  "nbformat_minor": 0,
  "metadata": {
    "colab": {
      "provenance": [],
      "collapsed_sections": [],
      "authorship_tag": "ABX9TyP5LU+x/MTpw4aOfr9CviJi",
      "include_colab_link": true
    },
    "kernelspec": {
      "name": "python3",
      "display_name": "Python 3"
    },
    "language_info": {
      "name": "python"
    }
  },
  "cells": [
    {
      "cell_type": "markdown",
      "metadata": {
        "id": "view-in-github",
        "colab_type": "text"
      },
      "source": [
        "<a href=\"https://colab.research.google.com/github/oscarserc/TESIS/blob/main/PASO_3____Deteccion_de_agentes_influyentes_empleando_Aprendizaje_Autom%C3%A1tico.ipynb\" target=\"_parent\"><img src=\"https://colab.research.google.com/assets/colab-badge.svg\" alt=\"Open In Colab\"/></a>"
      ]
    },
    {
      "cell_type": "markdown",
      "source": [
        "#UTILIZACIÓN DE TÉCNICAS DE APRENDIZAJE AUTOMÁTICO PARA LA DETECCIÓN DE LOS NODOS INFLUYENTES.\n",
        "\n",
        "La base de datos que emplearemos será de unas 70.000 observaciones. En concreto:\n",
        "\n",
        "· 72.000 observaciones\n",
        "\n",
        "· Para ello generamos una 1800 **simulaciones**, y guardamos unos 40 **frames** de cada una de ellas\n",
        "\n",
        "· Además como **target** guardamos la matriz con la IDENTIDAD de todos y cada uno de los AGENTES.\n",
        "\n"
      ],
      "metadata": {
        "id": "Ck6WE2qgmKul"
      }
    },
    {
      "cell_type": "code",
      "source": [],
      "metadata": {
        "id": "yclIUzOWcSjy"
      },
      "execution_count": null,
      "outputs": []
    },
    {
      "cell_type": "code",
      "source": [],
      "metadata": {
        "id": "ijoWUtiKcSpa"
      },
      "execution_count": null,
      "outputs": []
    },
    {
      "cell_type": "markdown",
      "source": [
        "#**PRUEBA 1**: Planteamos un problema de **Clasificación**. Entrenaremos una Red Neuronal para detectar el tipo de mezcla poblacional ante la que nos encontramos. Podemos empezar por lo más sencillo. Utilizamos un <font color='green'>**PERCEPTRÓN MULTICAPA**</font>."
      ],
      "metadata": {
        "id": "F1wDGIWlcnLL"
      }
    },
    {
      "cell_type": "markdown",
      "source": [
        "\n",
        "<figure>\n",
        "<center>\n",
        "<img src='https://github.com/oscarserc/IMAGENES/blob/main/Archivo_C.png?raw=true' width=\"850\"/>\n",
        "<figcaption></figcaption></center>\n",
        "</figure>\n"
      ],
      "metadata": {
        "id": "xy5oX0_Qc2m5"
      }
    },
    {
      "cell_type": "markdown",
      "source": [
        "Cargamos la base de datos de simulaciones. Para empezar utilizamos sólo simulaciones con **AGENTES EMOCIONALES** únicamente (target=0), o una población con **AGENTES MUTANTES TRAIDORES** infiltrados (target=1)."
      ],
      "metadata": {
        "id": "UJOp9oiGexop"
      }
    },
    {
      "cell_type": "code",
      "source": [],
      "metadata": {
        "id": "DI506iOhmdyA"
      },
      "execution_count": null,
      "outputs": []
    },
    {
      "cell_type": "code",
      "source": [],
      "metadata": {
        "id": "ku6oEvMV0pzc"
      },
      "execution_count": null,
      "outputs": []
    },
    {
      "cell_type": "markdown",
      "source": [
        "#**PRUEBA 2**: Utilizaremos una <font color='green'>**RED NEURONAL CONVOLUCIONAL**</font>. Planteamos el problema de localizar a los agentes influyentes como un problema de **Segmentación** de imágenes."
      ],
      "metadata": {
        "id": "Q1K5T8gmcRFa"
      }
    },
    {
      "cell_type": "markdown",
      "source": [
        "\n",
        "<figure>\n",
        "<center>\n",
        "<img src='https://github.com/oscarserc/IMAGENES/blob/main/Archivo_D.png?raw=true' width=\"950\"/>\n",
        "<figcaption></figcaption></center>\n",
        "</figure>\n",
        "\n"
      ],
      "metadata": {
        "id": "_WuC_yF0b42T"
      }
    },
    {
      "cell_type": "code",
      "source": [],
      "metadata": {
        "id": "xpykoNS6TjqF"
      },
      "execution_count": null,
      "outputs": []
    },
    {
      "cell_type": "code",
      "source": [],
      "metadata": {
        "id": "EubDPNjJTjtd"
      },
      "execution_count": null,
      "outputs": []
    }
  ]
}