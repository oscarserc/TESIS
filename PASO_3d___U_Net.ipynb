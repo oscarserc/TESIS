{
  "nbformat": 4,
  "nbformat_minor": 0,
  "metadata": {
    "colab": {
      "provenance": [],
      "authorship_tag": "ABX9TyPtuouPDT14Gv6T2US7qAxg",
      "include_colab_link": true
    },
    "kernelspec": {
      "name": "python3",
      "display_name": "Python 3"
    },
    "language_info": {
      "name": "python"
    }
  },
  "cells": [
    {
      "cell_type": "markdown",
      "metadata": {
        "id": "view-in-github",
        "colab_type": "text"
      },
      "source": [
        "<a href=\"https://colab.research.google.com/github/oscarserc/TESIS/blob/main/PASO_3d___U_Net.ipynb\" target=\"_parent\"><img src=\"https://colab.research.google.com/assets/colab-badge.svg\" alt=\"Open In Colab\"/></a>"
      ]
    },
    {
      "cell_type": "markdown",
      "source": [
        "#UTILIZACIÓN DE TÉCNICAS DE APRENDIZAJE AUTOMÁTICO PARA LA DETECCIÓN DE LOS NODOS INFLUYENTES.\n",
        "\n",
        "La base de datos que emplearemos será de unas 70.000 observaciones. En concreto:\n",
        "\n",
        "· 72.000 observaciones\n",
        "\n",
        "· Para ello generamos una 1800 **simulaciones**, y guardamos unos 40 **frames** de cada una de ellas\n",
        "\n",
        "· Además como **target** guardamos la matriz con la IDENTIDAD de todos y cada uno de los AGENTES.\n",
        "\n"
      ],
      "metadata": {
        "id": "Ck6WE2qgmKul"
      }
    },
    {
      "cell_type": "code",
      "source": [],
      "metadata": {
        "id": "yclIUzOWcSjy"
      },
      "execution_count": null,
      "outputs": []
    },
    {
      "cell_type": "code",
      "source": [],
      "metadata": {
        "id": "ijoWUtiKcSpa"
      },
      "execution_count": null,
      "outputs": []
    },
    {
      "cell_type": "markdown",
      "source": [
        "#**PRUEBA 4**: Utilizaremos una <font color='green'>**Arquitectura de RED NEURONAL U-Net**</font>. Planteamos el problema de localizar a los agentes influyentes como un problema de **Segmentación** de imágenes."
      ],
      "metadata": {
        "id": "Q1K5T8gmcRFa"
      }
    },
    {
      "cell_type": "markdown",
      "source": [
        "La estructura que hemos probado de partida está basada en el modelo U-Net <font color='blue'> [Ronneberger, O., Fischer, P., & Brox, T. (2015)]</font>, y podemos observarla a continuación."
      ],
      "metadata": {
        "id": "c6o0y1oWMNW1"
      }
    },
    {
      "cell_type": "markdown",
      "source": [
        "\n",
        "<figure>\n",
        "<center>\n",
        "<img src='https://github.com/oscarserc/IMAGENES/blob/main/U_Net_1a.png?raw=true' width=\"650\"/>\n",
        "<figcaption></figcaption></center>\n",
        "</figure>\n"
      ],
      "metadata": {
        "id": "MvELwqkCMTh9"
      }
    },
    {
      "cell_type": "markdown",
      "source": [
        "\n",
        "<b>Ref.:</b>\n",
        "\n",
        "Ronneberger, O., Fischer, P., & Brox, T. (2015, October)  <i>U-Net: Convolutional Networks for Biomedical\n",
        "Image Segmentation </i>\n",
        "https://arxiv.org/pdf/1505.04597v1.pdf\n",
        "\n",
        "\n",
        "<br></br>\n"
      ],
      "metadata": {
        "id": "vidNUVGfnmmb"
      }
    },
    {
      "cell_type": "markdown",
      "source": [
        "El archivo de prueba contiene 4000 simulaciones de una población de AGENTES EMOCIONALES, y otras 4000 de agentes TRAIDORES (de la observación 4001 a la 8000)."
      ],
      "metadata": {
        "id": "yRdNBkLRMmc8"
      }
    },
    {
      "cell_type": "markdown",
      "source": [
        "\n",
        "<figure>\n",
        "<center>\n",
        "<img src='https://github.com/oscarserc/IMAGENES/blob/main/Archivo_E_CNN.png?raw=true' width=\"950\"/>\n",
        "<figcaption></figcaption></center>\n",
        "</figure>\n",
        "\n"
      ],
      "metadata": {
        "id": "_WuC_yF0b42T"
      }
    },
    {
      "cell_type": "code",
      "source": [
        "\n",
        "!pip install wget\n"
      ],
      "metadata": {
        "colab": {
          "base_uri": "https://localhost:8080/"
        },
        "id": "rM4KvyiWzVtP",
        "outputId": "46939449-991e-4ae0-b96a-89f1960b0975"
      },
      "execution_count": 2,
      "outputs": [
        {
          "output_type": "stream",
          "name": "stdout",
          "text": [
            "Looking in indexes: https://pypi.org/simple, https://us-python.pkg.dev/colab-wheels/public/simple/\n",
            "Collecting wget\n",
            "  Downloading wget-3.2.zip (10 kB)\n",
            "Building wheels for collected packages: wget\n",
            "  Building wheel for wget (setup.py) ... \u001b[?25l\u001b[?25hdone\n",
            "  Created wheel for wget: filename=wget-3.2-py3-none-any.whl size=9674 sha256=34ae9b7ed2e2d7c4ff9a110c4ad41a3265116fe23aa91e62db75b49939f18283\n",
            "  Stored in directory: /root/.cache/pip/wheels/a1/b6/7c/0e63e34eb06634181c63adacca38b79ff8f35c37e3c13e3c02\n",
            "Successfully built wget\n",
            "Installing collected packages: wget\n",
            "Successfully installed wget-3.2\n"
          ]
        }
      ]
    },
    {
      "cell_type": "markdown",
      "source": [
        "Comenzamos el procesamiento de los datos con la lectura del archivo."
      ],
      "metadata": {
        "id": "kTt3GM8Ne_5m"
      }
    },
    {
      "cell_type": "code",
      "source": [
        "\n",
        "import wget\n",
        "\n",
        "# Si usamos el REPOSITORIO para el almacenamiento de datos, creo que hay restricciones de espacio\n",
        "# si es muy grande el archivo no se puede\n",
        "\n",
        "# Subimos a los servidores de GOOGLE COOLAB la base de datos de PRUEBA (Acceso en el repositorio: View raw)\n",
        "# --------------------------------------------------------------------\n",
        "url_simulaciones = 'https://raw.githubusercontent.com/oscarserc/BASE_de_DATOS/main/bd_combinado.csv'\n",
        "wget.download(url_simulaciones)\n"
      ],
      "metadata": {
        "colab": {
          "base_uri": "https://localhost:8080/",
          "height": 35
        },
        "id": "FtVG9z7h5zKS",
        "outputId": "ea42f39f-44f8-443c-bfe6-d3483524976a"
      },
      "execution_count": 7,
      "outputs": [
        {
          "output_type": "execute_result",
          "data": {
            "text/plain": [
              "'bd_combinado.csv'"
            ],
            "application/vnd.google.colaboratory.intrinsic+json": {
              "type": "string"
            }
          },
          "metadata": {},
          "execution_count": 7
        }
      ]
    },
    {
      "cell_type": "markdown",
      "source": [
        "Convertimos en un DATAFRAME y permutamos las filas."
      ],
      "metadata": {
        "id": "ovonVThA6bBh"
      }
    },
    {
      "cell_type": "code",
      "source": [
        "\n",
        "import pandas as pd\n",
        "\n",
        "# Cargamos los datos\n",
        "# ------------------\n",
        "bd_simulaciones = pd.read_csv('bd_combinado.csv')\n",
        "\n",
        "# Aleatorizamos\n",
        "# -------------\n",
        "bd_simulaciones = bd_simulaciones.sample(frac=1).reset_index(drop=True)\n",
        "\n"
      ],
      "metadata": {
        "id": "xpykoNS6TjqF"
      },
      "execution_count": 8,
      "outputs": []
    },
    {
      "cell_type": "code",
      "source": [],
      "metadata": {
        "id": "0GW1U3gdMFXV"
      },
      "execution_count": null,
      "outputs": []
    },
    {
      "cell_type": "code",
      "source": [],
      "metadata": {
        "id": "IisSmHiNMFaE"
      },
      "execution_count": null,
      "outputs": []
    }
  ]
}