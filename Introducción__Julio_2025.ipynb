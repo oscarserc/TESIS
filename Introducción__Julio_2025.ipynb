{
  "nbformat": 4,
  "nbformat_minor": 0,
  "metadata": {
    "colab": {
      "provenance": [],
      "authorship_tag": "ABX9TyO69GlyP6J7wFl14K7R5OXo",
      "include_colab_link": true
    },
    "kernelspec": {
      "name": "python3",
      "display_name": "Python 3"
    },
    "language_info": {
      "name": "python"
    }
  },
  "cells": [
    {
      "cell_type": "markdown",
      "metadata": {
        "id": "view-in-github",
        "colab_type": "text"
      },
      "source": [
        "<a href=\"https://colab.research.google.com/github/oscarserc/TESIS/blob/main/Introducci%C3%B3n__Julio_2025.ipynb\" target=\"_parent\"><img src=\"https://colab.research.google.com/assets/colab-badge.svg\" alt=\"Open In Colab\"/></a>"
      ]
    },
    {
      "cell_type": "markdown",
      "source": [
        "\n",
        "#**ANÁLISIS DE LA CONFLICTIVIDAD EN UNA RED SOCIAL MEDIANTE TÉCNICAS DE INTELIGENCIA ARTIFICIAL y TEORÍA DE JUEGOS**.\n",
        "\n",
        "##***Un estudio basado en métodos de Segmentación de Imágenes con Redes Neuronales***.\n",
        "\n",
        "<br></br>\n"
      ],
      "metadata": {
        "id": "pAvymlBVI_yS"
      }
    },
    {
      "cell_type": "markdown",
      "source": [
        "\n",
        "\n",
        "#**<font color='brown'>· <u>Introducción</u>.</font>**\n",
        "Podría colocar una explicación de por qué el proceso tiene las características que tiene. Sería un poco la mirada desde el exterior y luego ya entro después en centrarnos en lo que hemos fijado aquí como problema de interés y las razones que se encuentran detrás.\n",
        "\n",
        "-En primer lugar mencionar la Teoría de juegos, y el estudio de la propagación de la cooperación. Cómo los seres vivos no quedan atrapados en esta serie de dilemas y cooperan extensamente.\n",
        "\n",
        "-Mecanismos como las emociones. Son fáciles de asociar en cada individuo y de analizar y etiquetar en redes sociales reales.\n",
        "\n",
        "-En seguida quedó claro el interés en estudiar el efecto de cierto tipo de jugadores agresivos en el equilibrio de la red, y cómo se puede extender por la red los efectos de sus acciones.\n",
        "\n"
      ],
      "metadata": {
        "id": "gQQxFtAVDOWi"
      }
    },
    {
      "cell_type": "markdown",
      "source": [
        "\n",
        "  <p align=\"center\">\n",
        "    <img src=\"https://github.com/oscarserc/IMAGENES/blob/main/VIDEO_3.gif?raw=true\" width=\"300\">\n",
        "    <br>\n",
        "    <em style=\"color: white\">fig. 1: Un tablero con la ferviente actividad emocional generada por los resultados en un juego bien podría representar la actividad de una Red Social</em>\n",
        "  </p>\n"
      ],
      "metadata": {
        "id": "rAwFueubDQIx"
      }
    },
    {
      "cell_type": "markdown",
      "source": [
        "\n",
        "En base a esto nos centraremos en estudiar a través de simulaciones los patrones que genera la presencia de este tipo de jugadores en la red. Posteriormente analizaremos si es posible descubrir la posición en la red de los jugadores agresivos.\n"
      ],
      "metadata": {
        "id": "Td8NVkTYD6gj"
      }
    },
    {
      "cell_type": "markdown",
      "source": [
        "\n",
        "Dado que la ordenación de los notebooks en github es alfabética, podría poner los nombres acorde para que no se altere el orden.\n",
        "Quizás:\n",
        "\n",
        "· <b>I</b>ntroducción (con las motivaciones del aspecto particular que ha acabado adoptando la Tesis)\n",
        "\n",
        "· <b>O</b>rganización de la tesis\n",
        "\n",
        "· (Luego ya los <b>P</b>asos)\n"
      ],
      "metadata": {
        "id": "JKn0rHfGF0le"
      }
    },
    {
      "cell_type": "markdown",
      "source": [
        "\n",
        "También podemos mencionar mucho más brevemente el tipo de herramientas que vamos a estudiar. Quizás también mencionar el por qué del título. Emplearemos herramientas de Inteligencia Artificial y Teoría de Juegos para la simulación.\n",
        "\n",
        "<br></br>\n",
        "\n",
        "<figure>\n",
        "<center>\n",
        "<img src='https://github.com/oscarserc/IMAGENES/blob/main/Modelos_Arquitectura_1a.png?raw=true' width=\"550\"/>\n",
        "<figcaption>fig. 2: Arquitecturas que emplearemos para lleva a cabo el estudio (clasificadas según el área habitual de aplicación).</figcaption></center>\n",
        "</figure>\n",
        "\n",
        "<br></br>\n",
        "\n",
        "Las arquitecturas neuronales que emplearemos se adaptarán convenientemente para lleva a cabo el procesamiento de imágenes.\n",
        "\n",
        "<br>\n",
        "\n"
      ],
      "metadata": {
        "id": "gJc6Z-3ZIFRO"
      }
    },
    {
      "cell_type": "markdown",
      "source": [],
      "metadata": {
        "id": "-QQStl_AJzsC"
      }
    },
    {
      "cell_type": "markdown",
      "source": [],
      "metadata": {
        "id": "6H-hPja8JzvI"
      }
    }
  ]
}