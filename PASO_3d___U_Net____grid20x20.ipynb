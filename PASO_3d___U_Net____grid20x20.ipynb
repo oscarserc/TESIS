{
  "nbformat": 4,
  "nbformat_minor": 0,
  "metadata": {
    "colab": {
      "provenance": [],
      "authorship_tag": "ABX9TyPx2dfCdn4yxZj+F/irLGd+",
      "include_colab_link": true
    },
    "kernelspec": {
      "name": "python3",
      "display_name": "Python 3"
    },
    "language_info": {
      "name": "python"
    }
  },
  "cells": [
    {
      "cell_type": "markdown",
      "metadata": {
        "id": "view-in-github",
        "colab_type": "text"
      },
      "source": [
        "<a href=\"https://colab.research.google.com/github/oscarserc/TESIS/blob/main/PASO_3d___U_Net____grid20x20.ipynb\" target=\"_parent\"><img src=\"https://colab.research.google.com/assets/colab-badge.svg\" alt=\"Open In Colab\"/></a>"
      ]
    },
    {
      "cell_type": "markdown",
      "source": [
        "#UTILIZACIÓN DE TÉCNICAS DE APRENDIZAJE AUTOMÁTICO PARA LA DETECCIÓN DE LOS NODOS INFLUYENTES.\n",
        "\n",
        "La base de datos que emplearemos será de unas 70.000 observaciones. En concreto:\n",
        "\n",
        "· 72.000 observaciones\n",
        "\n",
        "· Para ello generamos una 1800 **simulaciones**, y guardamos unos 40 **frames** de cada una de ellas\n",
        "\n",
        "· Además como **target** guardamos la matriz con la IDENTIDAD de todos y cada uno de los AGENTES.\n",
        "\n"
      ],
      "metadata": {
        "id": "Ck6WE2qgmKul"
      }
    },
    {
      "cell_type": "code",
      "source": [],
      "metadata": {
        "id": "yclIUzOWcSjy"
      },
      "execution_count": null,
      "outputs": []
    },
    {
      "cell_type": "code",
      "source": [],
      "metadata": {
        "id": "ijoWUtiKcSpa"
      },
      "execution_count": null,
      "outputs": []
    },
    {
      "cell_type": "markdown",
      "source": [
        "#**PRUEBA 4**: Utilizaremos una <font color='green'>**Arquitectura de RED NEURONAL U-Net**</font>. Planteamos el problema de localizar a los agentes influyentes como un problema de **Segmentación** de imágenes."
      ],
      "metadata": {
        "id": "Q1K5T8gmcRFa"
      }
    },
    {
      "cell_type": "markdown",
      "source": [
        "La estructura que hemos probado de partida está basada en el modelo U-Net <font color='blue'> [Ronneberger, O., Fischer, P., & Brox, T. (2015)]</font>, y podemos observarla a continuación."
      ],
      "metadata": {
        "id": "c6o0y1oWMNW1"
      }
    },
    {
      "cell_type": "markdown",
      "source": [
        "\n",
        "<figure>\n",
        "<center>\n",
        "<img src='https://github.com/oscarserc/IMAGENES/blob/main/U_Net_2a.png?raw=true' width=\"850\"/>\n",
        "<figcaption></figcaption></center>\n",
        "</figure>\n"
      ],
      "metadata": {
        "id": "MvELwqkCMTh9"
      }
    },
    {
      "cell_type": "markdown",
      "source": [
        "\n",
        "<b>Ref.:</b>\n",
        "\n",
        "Ronneberger, O., Fischer, P., & Brox, T. (2015, October)  <i>U-Net: Convolutional Networks for Biomedical\n",
        "Image Segmentation </i>\n",
        "https://arxiv.org/pdf/1505.04597v1.pdf\n",
        "\n",
        "\n",
        "<br></br>\n"
      ],
      "metadata": {
        "id": "vidNUVGfnmmb"
      }
    },
    {
      "cell_type": "markdown",
      "source": [
        "El archivo de prueba contiene 4000 simulaciones de una población de AGENTES EMOCIONALES, y otras 4000 de agentes TRAIDORES (de la observación 4001 a la 8000)."
      ],
      "metadata": {
        "id": "yRdNBkLRMmc8"
      }
    },
    {
      "cell_type": "markdown",
      "source": [
        "\n",
        "<figure>\n",
        "<center>\n",
        "<img src='https://github.com/oscarserc/IMAGENES/blob/main/Archivo_E_CNN.png?raw=true' width=\"950\"/>\n",
        "<figcaption></figcaption></center>\n",
        "</figure>\n",
        "\n"
      ],
      "metadata": {
        "id": "_WuC_yF0b42T"
      }
    },
    {
      "cell_type": "code",
      "source": [
        "\n",
        "!pip install wget\n"
      ],
      "metadata": {
        "colab": {
          "base_uri": "https://localhost:8080/"
        },
        "id": "rM4KvyiWzVtP",
        "outputId": "46939449-991e-4ae0-b96a-89f1960b0975"
      },
      "execution_count": null,
      "outputs": [
        {
          "output_type": "stream",
          "name": "stdout",
          "text": [
            "Looking in indexes: https://pypi.org/simple, https://us-python.pkg.dev/colab-wheels/public/simple/\n",
            "Collecting wget\n",
            "  Downloading wget-3.2.zip (10 kB)\n",
            "Building wheels for collected packages: wget\n",
            "  Building wheel for wget (setup.py) ... \u001b[?25l\u001b[?25hdone\n",
            "  Created wheel for wget: filename=wget-3.2-py3-none-any.whl size=9674 sha256=34ae9b7ed2e2d7c4ff9a110c4ad41a3265116fe23aa91e62db75b49939f18283\n",
            "  Stored in directory: /root/.cache/pip/wheels/a1/b6/7c/0e63e34eb06634181c63adacca38b79ff8f35c37e3c13e3c02\n",
            "Successfully built wget\n",
            "Installing collected packages: wget\n",
            "Successfully installed wget-3.2\n"
          ]
        }
      ]
    },
    {
      "cell_type": "markdown",
      "source": [
        "Comenzamos el procesamiento de los datos con la lectura del archivo."
      ],
      "metadata": {
        "id": "kTt3GM8Ne_5m"
      }
    },
    {
      "cell_type": "code",
      "source": [
        "\n",
        "import wget\n",
        "\n",
        "# Si usamos el REPOSITORIO para el almacenamiento de datos, creo que hay restricciones de espacio\n",
        "# si es muy grande el archivo no se puede\n",
        "\n",
        "# Subimos a los servidores de GOOGLE COOLAB la base de datos de PRUEBA (Acceso en el repositorio: View raw)\n",
        "# --------------------------------------------------------------------\n",
        "url_simulaciones = 'https://raw.githubusercontent.com/oscarserc/BASE_de_DATOS/main/bd_combinado.csv'\n",
        "wget.download(url_simulaciones)\n"
      ],
      "metadata": {
        "colab": {
          "base_uri": "https://localhost:8080/",
          "height": 35
        },
        "id": "FtVG9z7h5zKS",
        "outputId": "ea42f39f-44f8-443c-bfe6-d3483524976a"
      },
      "execution_count": null,
      "outputs": [
        {
          "output_type": "execute_result",
          "data": {
            "text/plain": [
              "'bd_combinado.csv'"
            ],
            "application/vnd.google.colaboratory.intrinsic+json": {
              "type": "string"
            }
          },
          "metadata": {},
          "execution_count": 7
        }
      ]
    },
    {
      "cell_type": "markdown",
      "source": [
        "Convertimos en un DATAFRAME y permutamos las filas."
      ],
      "metadata": {
        "id": "ovonVThA6bBh"
      }
    },
    {
      "cell_type": "code",
      "source": [
        "\n",
        "import pandas as pd\n",
        "\n",
        "# Cargamos los datos\n",
        "# ------------------\n",
        "bd_simulaciones = pd.read_csv('bd_combinado.csv')\n",
        "\n",
        "# Aleatorizamos\n",
        "# -------------\n",
        "bd_simulaciones = bd_simulaciones.sample(frac=1).reset_index(drop=True)\n",
        "\n"
      ],
      "metadata": {
        "id": "xpykoNS6TjqF"
      },
      "execution_count": null,
      "outputs": []
    },
    {
      "cell_type": "code",
      "source": [],
      "metadata": {
        "id": "hNCUQxtvI5Xn"
      },
      "execution_count": null,
      "outputs": []
    },
    {
      "cell_type": "markdown",
      "source": [
        "Base de datos con simulaciones en un grid de 20x20 (15% de agentes mutantes traidores)."
      ],
      "metadata": {
        "id": "t8__oUcB9Fte"
      }
    },
    {
      "cell_type": "code",
      "source": [
        "\n",
        "import pandas as pd\n",
        "\n",
        "# CARGAMOS LA BASE DE DATOS SIN PERMUTAR LAS FILAS (grid de 20x20, y población 85-15 emocionales/mutantes)\n",
        "# ------------------------------------------------\n",
        "bd_simulaciones = pd.read_csv('bd_100simulaciones_20x20_emo85_vs_15.csv')\n"
      ],
      "metadata": {
        "id": "PyR9N2Ex9CD_"
      },
      "execution_count": null,
      "outputs": []
    },
    {
      "cell_type": "code",
      "source": [],
      "metadata": {
        "id": "9pMwKXQm9CJX"
      },
      "execution_count": null,
      "outputs": []
    },
    {
      "cell_type": "code",
      "source": [],
      "metadata": {
        "id": "6UfO20T3I5aA"
      },
      "execution_count": null,
      "outputs": []
    },
    {
      "cell_type": "markdown",
      "source": [
        "#Variables explicativas: **X**"
      ],
      "metadata": {
        "id": "LThBIWFVRxjO"
      }
    },
    {
      "cell_type": "code",
      "source": [
        "\n",
        "import matplotlib.pyplot as plt\n",
        "import numpy as np\n",
        "\n",
        "size       = 20  # <-------------------------------------------------------------------- CUIDADO, VOY A CAMBIAR EL SIZE A '20'\n",
        "num_frames = 40\n",
        "df         = bd_simulaciones.copy()\n",
        "\n",
        "lista_frames = []\n",
        "X            = []\n",
        "\n",
        "nombre_columnas_ROJO  = ['r' + str(indice) for indice in range(size*size)]\n",
        "nombre_columnas_VERDE = ['g' + str(indice) for indice in range(size*size)]\n",
        "nombre_columnas_AZUL  = ['b' + str(indice) for indice in range(size*size)]\n",
        "\n",
        "\n",
        "for fila in range(len(bd_simulaciones)):\n",
        "  canal_r = pd.array(df[nombre_columnas_ROJO].iloc[fila]).reshape(size,size)\n",
        "  canal_v = pd.array(df[nombre_columnas_VERDE].iloc[fila]).reshape(size,size)\n",
        "  canal_a = pd.array(df[nombre_columnas_AZUL].iloc[fila]).reshape(size,size)\n",
        "\n",
        "  # CUIDADO que np.dstack apila los tres valores de cada pixel\n",
        "  # ----------------------------------------------------------\n",
        "  frame = np.array([canal_r, canal_v, canal_a])\n",
        "\n",
        "  lista_frames.append(frame)\n",
        "\n",
        "X = np.array(lista_frames)\n",
        "X.shape\n",
        "\n"
      ],
      "metadata": {
        "id": "tIZiaJ4MRyRN",
        "colab": {
          "base_uri": "https://localhost:8080/"
        },
        "outputId": "6dd4326f-06cc-4c6e-bd3d-5c24ebbd857c"
      },
      "execution_count": null,
      "outputs": [
        {
          "output_type": "execute_result",
          "data": {
            "text/plain": [
              "(4000, 3, 20, 20)"
            ]
          },
          "metadata": {},
          "execution_count": 2
        }
      ]
    },
    {
      "cell_type": "code",
      "source": [],
      "metadata": {
        "id": "8zR_CK4nRyVd"
      },
      "execution_count": null,
      "outputs": []
    },
    {
      "cell_type": "markdown",
      "source": [
        "#Target: **Y**."
      ],
      "metadata": {
        "id": "WTIC-OXDSEze"
      }
    },
    {
      "cell_type": "code",
      "source": [
        "\n",
        "lista_targets = []\n",
        "\n",
        "for fila in range(len(bd_simulaciones)):\n",
        "  lista_id_agentes = bd_simulaciones.iloc[fila]['Target'].replace('[','').replace(']','')\n",
        "  target = [int(caracter) for caracter in lista_id_agentes.split(',')]\n",
        "  target = np.array(target)\n",
        "  target = target.reshape(size,size)\n",
        "\n",
        "  # Con los paréntesis  '['  ']' sale de dimensión: (8000, 1, 10, 10)   # <-------------------------- Aquí ajusto la DIMENSIÓN\n",
        "  #lista_targets.append([target])\n",
        "  # Si queremos de dimensión: (8000, 10, 10)\n",
        "  lista_targets.append(target)\n",
        "\n",
        "Y = np.array(lista_targets)\n",
        "Y.shape\n",
        "\n"
      ],
      "metadata": {
        "id": "GFFRLjcqSFC9",
        "colab": {
          "base_uri": "https://localhost:8080/"
        },
        "outputId": "fdeca4c5-96a3-4362-ee9e-cf105f801951"
      },
      "execution_count": null,
      "outputs": [
        {
          "output_type": "execute_result",
          "data": {
            "text/plain": [
              "(4000, 20, 20)"
            ]
          },
          "metadata": {},
          "execution_count": 3
        }
      ]
    },
    {
      "cell_type": "code",
      "source": [],
      "metadata": {
        "id": "E_e8mKSvSFGF"
      },
      "execution_count": null,
      "outputs": []
    },
    {
      "cell_type": "markdown",
      "source": [
        "#**CONVERSIÓN EN TENSORES DE PyTorch**."
      ],
      "metadata": {
        "id": "GmYu9ojSSZdm"
      }
    },
    {
      "cell_type": "code",
      "source": [
        "\n",
        "import numpy as np\n",
        "import torch\n",
        "\n",
        "# PRIMERO TENEMOS QUE EXTRAER LA MATRIX:  X\n",
        "# y los valores del TARGET:               Y\n",
        "#\n",
        "# Luego pasaremos (X, Y) al Dataset que creamos a continuación.\n",
        "# --------------------------------------------------------------\n",
        "\n",
        "X_train = X\n",
        "Y_train = Y\n",
        "\n",
        "# CREAMOS UNA CLASE PARA LOS DATOS\n",
        "# ================================\n",
        "\n",
        "class Dataset_frames(torch.utils.data.Dataset):\n",
        "  def __init__(self, X, Y):\n",
        "    # self.X = torch.tensor(X).float()\n",
        "    self.X = torch.tensor(X).float()\n",
        "    self.Y = torch.tensor(Y).long()\n",
        "\n",
        "  def __len__(self):\n",
        "    return len(self.X)\n",
        "\n",
        "  def __getitem__(self, ix):\n",
        "    return self.X[ix], self.Y[ix]\n",
        "\n",
        "\n",
        "# SELECCIONANDO GRUPOS DE OBSERVACIONES PARA VALIDACIÓN\n",
        "# -----------------------------------------------------\n",
        "\n",
        "from sklearn.model_selection import train_test_split\n",
        "\n",
        "X_subset, X_val, Y_subset, Y_val = train_test_split(X_train, Y_train, test_size = 0.2)\n",
        "\n",
        "dataset = {\n",
        "    'train' : Dataset_frames(X_subset, Y_subset),\n",
        "    'val'   : Dataset_frames(X_val, Y_val)\n",
        "}\n",
        "\n",
        "dataloader = {\n",
        "    'train' : torch.utils.data.DataLoader(dataset['train'], batch_size=30,   shuffle=False),\n",
        "    'val'   : torch.utils.data.DataLoader(dataset['val'],   batch_size=30, shuffle=False)\n",
        "}\n"
      ],
      "metadata": {
        "id": "YONWWBBkSZ8e"
      },
      "execution_count": null,
      "outputs": []
    },
    {
      "cell_type": "code",
      "source": [
        "frames, mascara = next(iter(dataloader['train']))\n",
        "frames.shape, mascara.shape"
      ],
      "metadata": {
        "id": "lMA1mJ2rSc89",
        "colab": {
          "base_uri": "https://localhost:8080/"
        },
        "outputId": "07e5b501-a838-4e88-b933-e95c1b9a001d"
      },
      "execution_count": null,
      "outputs": [
        {
          "output_type": "execute_result",
          "data": {
            "text/plain": [
              "(torch.Size([30, 3, 20, 20]), torch.Size([30, 20, 20]))"
            ]
          },
          "metadata": {},
          "execution_count": 5
        }
      ]
    },
    {
      "cell_type": "code",
      "source": [],
      "metadata": {
        "id": "FnA1ldWHSc_4"
      },
      "execution_count": null,
      "outputs": []
    },
    {
      "cell_type": "code",
      "source": [],
      "metadata": {
        "id": "F8n9vms2TDyc"
      },
      "execution_count": null,
      "outputs": []
    },
    {
      "cell_type": "markdown",
      "source": [
        "#**Modelo U-net** (Para la discriminación de 2 clases)."
      ],
      "metadata": {
        "id": "CQCAJuNoI6AX"
      }
    },
    {
      "cell_type": "code",
      "source": [
        "\n",
        "import torch\n",
        "import torch.nn.functional as F\n",
        "\n",
        "# --------------------------------------\n",
        "# Construimos dos funciones para generar\n",
        "# módulos para la Red\n",
        "# --------------------------------------\n",
        "def conv3x3_bn(canales_in, canales_out):\n",
        "  return torch.nn.Sequential(\n",
        "      torch.nn.Conv2d(canales_in, canales_out, 3, padding=1),\n",
        "      torch.nn.BatchNorm2d(canales_out),\n",
        "      torch.nn.ReLU(inplace=True)\n",
        "  )\n",
        "\n",
        "def encoder_conv(canales_in, canales_out):\n",
        "  return torch.nn.Sequential(\n",
        "      torch.nn.MaxPool2d(2),\n",
        "      conv3x3_bn(canales_in, canales_out),\n",
        "      conv3x3_bn(canales_out, canales_out)\n",
        "  )\n",
        "# ---------------------------------------\n",
        "\n",
        "\n",
        "\n",
        "# --------------\n",
        "#  CLASE DECONV\n",
        "# --------------\n",
        "class deconv(torch.nn.Module):\n",
        "  def __init__(self, canales_in, canales_out):\n",
        "    super(deconv, self).__init__()\n",
        "    self.upsample = torch.nn.ConvTranspose2d(canales_in, canales_out, 2, stride=2)\n",
        "    self.conv1    = conv3x3_bn(canales_in, canales_out)\n",
        "    self.conv2    = conv3x3_bn(canales_out, canales_out)\n",
        "\n",
        "  # Ahora tenemos que integrar:\n",
        "  #  · Salida de la capa previa\n",
        "  #  · Salida del encoder\n",
        "  def forward(self, x1, x2):\n",
        "    x1 = self.upsample(x1)\n",
        "    diffX = x2.size()[2] - x1.size()[2]\n",
        "    diffY = x2.size()[3] - x1.size()[3]\n",
        "    x1 = F.pad(x1, (diffX, 0, diffY, 0))\n",
        "    # Concatenamos los tensores\n",
        "    x = torch.cat([x2, x1], dim=1)\n",
        "    x = self.conv1(x)\n",
        "    x = self.conv2(x)\n",
        "    return x\n",
        "\n",
        "\n",
        "# ============\n",
        "#  CLASE Unet\n",
        "# ============\n",
        "class UNet(torch.nn.Module):\n",
        "  def __init__(self, n_classes=2, in_ch=3):        # <------------------------------------------------------------------- 2 clases y CREO QUE HAY QUE PONER 3 in\n",
        "    super().__init__()\n",
        "\n",
        "    # FILTROS en cada una de las CAPAS que se van a generar\n",
        "    filtros = [16, 32, 64, 128]\n",
        "\n",
        "    # PRIMERA CAPA conv\n",
        "    self.conv1 = torch.nn.Sequential(\n",
        "        conv3x3_bn(in_ch, filtros[0]),\n",
        "        conv3x3_bn(filtros[0], filtros[0])\n",
        "    )\n",
        "\n",
        "    # Capas del ENCODER\n",
        "    self.conv2 = encoder_conv(filtros[0], filtros[1])\n",
        "    self.conv3 = encoder_conv(filtros[1], filtros[2])\n",
        "    self.conv4 = encoder_conv(filtros[2], filtros[3])\n",
        "\n",
        "    # Capas del DECODER\n",
        "    self.deconv1 = deconv(filtros[3], filtros[2])\n",
        "    self.deconv2 = deconv(filtros[2], filtros[1])\n",
        "    self.deconv3 = deconv(filtros[1], filtros[0])\n",
        "\n",
        "    # ULTIMA CAPA CONV --> Nos da la MÁSCARA\n",
        "    self.out = torch.nn.Conv2d(filtros[0], n_classes, 3, padding=1)\n",
        "\n",
        "  def forward(self, x):\n",
        "    # ENCODER\n",
        "    x1 = self.conv1(x)\n",
        "    x2 = self.conv2(x1)\n",
        "    x3 = self.conv3(x2)\n",
        "    x  = self.conv4(x3)\n",
        "\n",
        "    # DECODER\n",
        "    x = self.deconv1(x, x3)\n",
        "    x = self.deconv2(x, x2)\n",
        "    x = self.deconv3(x, x1)\n",
        "    x = self.out(x)\n",
        "    return x\n",
        "\n"
      ],
      "metadata": {
        "id": "0GW1U3gdMFXV"
      },
      "execution_count": null,
      "outputs": []
    },
    {
      "cell_type": "code",
      "source": [
        "\n",
        "modelo_UNet = UNet()\n",
        "salida = modelo_UNet(torch.randn((10, 3, 394, 394)))\n",
        "salida.shape\n"
      ],
      "metadata": {
        "id": "IisSmHiNMFaE",
        "colab": {
          "base_uri": "https://localhost:8080/"
        },
        "outputId": "9a3ab589-0017-455a-cd4a-3c2c4561f609"
      },
      "execution_count": null,
      "outputs": [
        {
          "output_type": "execute_result",
          "data": {
            "text/plain": [
              "torch.Size([10, 2, 394, 394])"
            ]
          },
          "metadata": {},
          "execution_count": 8
        }
      ]
    },
    {
      "cell_type": "code",
      "source": [],
      "metadata": {
        "id": "Gwas_DUjTFO0"
      },
      "execution_count": null,
      "outputs": []
    },
    {
      "cell_type": "code",
      "source": [],
      "metadata": {
        "id": "SwrUNJV2TFRl"
      },
      "execution_count": null,
      "outputs": []
    },
    {
      "cell_type": "markdown",
      "source": [
        "#**MÉTODO para el ENTRENAMIENTO**."
      ],
      "metadata": {
        "id": "KDz6hnPVTFes"
      }
    },
    {
      "cell_type": "code",
      "source": [
        "\n",
        "from sklearn.metrics import accuracy_score\n",
        "\n",
        "# Función auxiliar\n",
        "# ----------------\n",
        "\n",
        "def softmax(x):\n",
        "  return torch.exp(x) / torch.exp(x).sum(axis=-1, keepdims=True)\n",
        "\n",
        "\n",
        "\n",
        "# DEFINIMOS LA FUNCIÓN DE ENTRENAMIENTO\n",
        "# =====================================\n",
        "\n",
        "def fit(model, dataloader, epochs=10, log_each=1):\n",
        "   criterion = torch.nn.CrossEntropyLoss()\n",
        "   optimizer = torch.optim.SGD(model.parameters(), lr=0.8)\n",
        "\n",
        "   l, acc         = [], []\n",
        "   val_l, val_acc = [], []\n",
        "\n",
        "   for e in range(1, epochs+1):\n",
        "      _l, _acc = [], []\n",
        "      model.train()  # <------------------------------------------ MODO de ENTRENAMIENTO\n",
        "      for x_b, y_b in dataloader['train']:\n",
        "        y_pred = model(x_b)\n",
        "        loss   = criterion(y_pred, y_b)\n",
        "        _l.append(loss.item())\n",
        "\n",
        "        optimizer.zero_grad()\n",
        "        loss.backward()\n",
        "        optimizer.step()\n",
        "\n",
        "        y_probas = torch.argmax(softmax(y_pred), axis=1)\n",
        "        # Los SCORES de SKLEARN no aceptan matrices, así que hay que convertirlas en dimensión 1D (usar flatten())\n",
        "        _acc.append(accuracy_score(y_b.numpy().flatten(), y_probas.detach().numpy().flatten()))\n",
        "\n",
        "      l.append(np.mean(_l))\n",
        "      acc.append(np.mean(_acc))\n",
        "      if not e % log_each:\n",
        "        print(f\"Epoch {e}/{epochs} loss {l[-1]:.5f} acc {acc[-1]:.5f}\")\n",
        "\n",
        "\n",
        "      model.eval()  # <------------------------------------------- MODO de EVALUACIÓN\n",
        "      _l, _acc = [], []\n",
        "      with torch.no_grad():\n",
        "        for x_b, y_b in dataloader['val']:\n",
        "          y_pred = model(x_b)\n",
        "          loss   = criterion(y_pred, y_b)\n",
        "          _l.append(loss.item())\n",
        "          y_probas = torch.argmax(softmax(y_pred), axis=1)\n",
        "          _acc.append(accuracy_score(y_b.numpy().flatten(), y_probas.numpy().flatten()))\n",
        "      val_l.append(np.mean(_l))\n",
        "      val_acc.append(np.mean(_acc))\n",
        "\n",
        "   return {'epoch':list(range(1,epochs+1)), 'loss':l, 'acc': acc, 'val_loss': val_l, 'val_acc': val_acc}\n",
        "\n"
      ],
      "metadata": {
        "id": "vtaFXTiUTF48"
      },
      "execution_count": null,
      "outputs": []
    },
    {
      "cell_type": "code",
      "source": [],
      "metadata": {
        "id": "StZo6M5GTF8M"
      },
      "execution_count": null,
      "outputs": []
    },
    {
      "cell_type": "code",
      "source": [],
      "metadata": {
        "id": "oWTBsGv-TXl9"
      },
      "execution_count": null,
      "outputs": []
    },
    {
      "cell_type": "markdown",
      "source": [
        "#**ENTRENAMIENTO DEL MODELO**."
      ],
      "metadata": {
        "id": "4bAgjfvuUO_d"
      }
    },
    {
      "cell_type": "code",
      "source": [
        "\n",
        "# INSTANCIAMOS EL MODELO\n",
        "# ======================\n",
        "\n",
        "# Imprimimos junto al número de Epoch, el valor de la función de pérdida y la accuracy (Supera el 98%)\n",
        "model  = UNet()\n",
        "hist   = fit(model, dataloader, 20)\n"
      ],
      "metadata": {
        "id": "r74625LYUPTV",
        "colab": {
          "base_uri": "https://localhost:8080/"
        },
        "outputId": "3d7c33ee-7e60-40bc-8ee1-9ae51865a651"
      },
      "execution_count": null,
      "outputs": [
        {
          "output_type": "stream",
          "name": "stdout",
          "text": [
            "Epoch 1/20 loss 0.03038 acc 0.95178\n",
            "Epoch 2/20 loss 0.00152 acc 0.97992\n",
            "Epoch 3/20 loss 0.00082 acc 0.98048\n",
            "Epoch 4/20 loss 0.00055 acc 0.98060\n",
            "Epoch 5/20 loss 0.00040 acc 0.98070\n",
            "Epoch 6/20 loss 0.00030 acc 0.98073\n",
            "Epoch 7/20 loss 0.00023 acc 0.98075\n",
            "Epoch 8/20 loss 0.00019 acc 0.98081\n",
            "Epoch 9/20 loss 0.00015 acc 0.98081\n",
            "Epoch 10/20 loss 0.00013 acc 0.98081\n",
            "Epoch 11/20 loss 0.00011 acc 0.98084\n",
            "Epoch 12/20 loss 0.00010 acc 0.98083\n",
            "Epoch 13/20 loss 0.00008 acc 0.98085\n",
            "Epoch 14/20 loss 0.00008 acc 0.98085\n",
            "Epoch 15/20 loss 0.00007 acc 0.98085\n",
            "Epoch 16/20 loss 0.00006 acc 0.98086\n",
            "Epoch 17/20 loss 0.00006 acc 0.98085\n",
            "Epoch 18/20 loss 0.00005 acc 0.98085\n",
            "Epoch 19/20 loss 0.00005 acc 0.98086\n",
            "Epoch 20/20 loss 0.00005 acc 0.98087\n"
          ]
        }
      ]
    },
    {
      "cell_type": "code",
      "source": [
        "\n",
        "# GRAFICAMOS LOS RESULTADOS DEL APRENDIZAJE\n",
        "# =========================================\n",
        "\n",
        "import matplotlib.pyplot as plt\n",
        "\n",
        "fig = plt.figure(dpi=60)\n",
        "#fig = plt.figure(figsize=(10,6))\n",
        "ax  = plt.subplot(111)\n",
        "pd.DataFrame(hist).plot(x='epoch', y=['loss','val_loss'], grid=True, ax=ax)\n",
        "#lt.ylim([0,0.010])\n",
        "plt.show()\n"
      ],
      "metadata": {
        "id": "prl5_aSAUPWO",
        "colab": {
          "base_uri": "https://localhost:8080/",
          "height": 237
        },
        "outputId": "4a34fd7b-e6ec-4930-83fd-7a9ee368ce76"
      },
      "execution_count": null,
      "outputs": [
        {
          "output_type": "display_data",
          "data": {
            "text/plain": [
              "<Figure size 360x240 with 1 Axes>"
            ],
            "image/png": "[encoded data removed]"
          },
          "metadata": {
            "needs_background": "light"
          }
        }
      ]
    },
    {
      "cell_type": "code",
      "source": [
        "\n",
        "# GRAFICAMOS LOS RESULTADOS DEL APRENDIZAJE\n",
        "# =========================================\n",
        "\n",
        "import matplotlib.pyplot as plt\n",
        "\n",
        "fig = plt.figure(dpi=60)\n",
        "#fig = plt.figure(figsize=(10,6))\n",
        "ax  = plt.subplot(111)\n",
        "pd.DataFrame(hist).plot(x='epoch', y=['acc','val_acc'], grid=True, ax=ax)\n",
        "#lt.ylim([0,0.010])\n",
        "plt.show()\n"
      ],
      "metadata": {
        "id": "uH6NpQK-UZjs",
        "colab": {
          "base_uri": "https://localhost:8080/",
          "height": 237
        },
        "outputId": "6ba7b0c1-09d5-4e5f-c54a-5a6538e847a0"
      },
      "execution_count": null,
      "outputs": [
        {
          "output_type": "display_data",
          "data": {
            "text/plain": [
              "<Figure size 360x240 with 1 Axes>"
            ],
            "image/png": "[encoded data removed]"
          },
          "metadata": {
            "needs_background": "light"
          }
        }
      ]
    },
    {
      "cell_type": "markdown",
      "source": [
        "#Probamos con una simulación concreta para inspeccionarla."
      ],
      "metadata": {
        "id": "kbJrXf8BI_d3"
      }
    },
    {
      "cell_type": "code",
      "source": [
        "\n",
        "from sklearn.metrics import confusion_matrix\n",
        "\n",
        "torch.set_printoptions(precision=2)\n",
        "\n",
        "X_prueba, y_prueba = next(iter(dataloader['val']))\n",
        "y_prediccion = model(X_prueba)\n",
        "\n",
        "y_prob = torch.argmax(softmax(y_prediccion), axis=1)\n",
        "y_prob[1]\n"
      ],
      "metadata": {
        "colab": {
          "base_uri": "https://localhost:8080/"
        },
        "id": "TvTFMeer8s-Q",
        "outputId": "45a07d87-3fc4-45e0-ede8-da1e5b76d419"
      },
      "execution_count": null,
      "outputs": [
        {
          "output_type": "execute_result",
          "data": {
            "text/plain": [
              "tensor([[0, 0, 0, 0, 0, 1, 0, 1, 0, 0, 0, 0, 0, 0, 0, 1, 1, 0, 1, 0],\n",
              "        [0, 0, 1, 0, 0, 0, 0, 1, 1, 0, 0, 0, 0, 0, 0, 0, 0, 0, 1, 0],\n",
              "        [0, 0, 0, 0, 0, 0, 0, 0, 1, 0, 0, 0, 0, 0, 0, 0, 0, 0, 0, 0],\n",
              "        [0, 0, 1, 0, 0, 0, 0, 1, 0, 0, 0, 0, 0, 0, 0, 0, 0, 0, 1, 0],\n",
              "        [0, 0, 0, 0, 0, 0, 0, 1, 0, 0, 0, 0, 0, 0, 0, 0, 1, 0, 0, 0],\n",
              "        [0, 0, 1, 0, 0, 0, 1, 0, 0, 0, 0, 0, 0, 0, 0, 1, 0, 0, 0, 0],\n",
              "        [0, 0, 1, 0, 0, 0, 0, 0, 1, 1, 0, 0, 0, 0, 0, 0, 0, 1, 0, 0],\n",
              "        [0, 0, 0, 0, 1, 0, 1, 0, 0, 0, 0, 0, 1, 0, 1, 0, 0, 0, 0, 0],\n",
              "        [0, 0, 0, 0, 0, 0, 0, 0, 0, 0, 0, 0, 0, 1, 0, 0, 0, 0, 0, 1],\n",
              "        [0, 0, 0, 0, 0, 1, 0, 1, 0, 0, 0, 0, 1, 0, 1, 0, 0, 1, 0, 1],\n",
              "        [0, 0, 0, 0, 0, 0, 1, 0, 0, 0, 0, 0, 0, 1, 0, 0, 1, 0, 0, 0],\n",
              "        [0, 0, 0, 0, 0, 1, 0, 0, 1, 0, 0, 1, 0, 0, 0, 1, 0, 0, 1, 0],\n",
              "        [1, 0, 0, 0, 0, 0, 0, 1, 1, 1, 1, 1, 1, 0, 1, 1, 1, 0, 1, 0],\n",
              "        [0, 0, 0, 1, 0, 1, 0, 0, 0, 0, 0, 0, 0, 0, 0, 0, 1, 0, 0, 0],\n",
              "        [0, 0, 1, 0, 1, 1, 0, 0, 0, 1, 0, 0, 1, 0, 0, 0, 0, 0, 0, 1],\n",
              "        [0, 1, 0, 0, 0, 0, 0, 0, 0, 0, 0, 0, 0, 1, 1, 0, 0, 0, 1, 0],\n",
              "        [0, 0, 0, 0, 0, 1, 0, 0, 1, 1, 0, 0, 0, 0, 0, 1, 0, 0, 0, 0],\n",
              "        [0, 1, 0, 0, 0, 0, 0, 0, 1, 0, 0, 0, 0, 0, 0, 0, 0, 0, 0, 0],\n",
              "        [0, 0, 0, 0, 0, 0, 0, 0, 0, 1, 0, 0, 1, 0, 0, 0, 1, 1, 1, 0],\n",
              "        [0, 1, 0, 0, 1, 0, 0, 1, 0, 0, 0, 0, 0, 0, 0, 0, 0, 0, 0, 0]])"
            ]
          },
          "metadata": {},
          "execution_count": 13
        }
      ]
    },
    {
      "cell_type": "code",
      "source": [
        "\n",
        "confusion_matrix(y_prueba[1].flatten().numpy(), y_prob[1].flatten().numpy())\n"
      ],
      "metadata": {
        "colab": {
          "base_uri": "https://localhost:8080/"
        },
        "id": "V6NHPtUz8tA-",
        "outputId": "adf55186-219a-4628-e6b8-9d3c512c85fd"
      },
      "execution_count": null,
      "outputs": [
        {
          "output_type": "execute_result",
          "data": {
            "text/plain": [
              "array([[320,  11],\n",
              "       [  0,  69]])"
            ]
          },
          "metadata": {},
          "execution_count": 14
        }
      ]
    },
    {
      "cell_type": "code",
      "source": [
        "\n",
        "from sklearn.metrics import ConfusionMatrixDisplay\n",
        "\n",
        "# Agente emocional         --> código: 0\n",
        "# Agente mutante (traidor) --> código: 1\n",
        "# --------------------------------------\n",
        "ConfusionMatrixDisplay.from_predictions(y_prueba[1].flatten().numpy(), y_prob[1].flatten().numpy())\n"
      ],
      "metadata": {
        "colab": {
          "base_uri": "https://localhost:8080/",
          "height": 296
        },
        "id": "FaWry1wjIvmX",
        "outputId": "6a735c07-4ec9-412c-9ca3-5b9441c0f4f6"
      },
      "execution_count": null,
      "outputs": [
        {
          "output_type": "execute_result",
          "data": {
            "text/plain": [
              "<sklearn.metrics._plot.confusion_matrix.ConfusionMatrixDisplay at 0x7f02356f5e90>"
            ]
          },
          "metadata": {},
          "execution_count": 15
        },
        {
          "output_type": "display_data",
          "data": {
            "text/plain": [
              "<Figure size 432x288 with 2 Axes>"
            ],
            "image/png": "[encoded data removed]"
          },
          "metadata": {
            "needs_background": "light"
          }
        }
      ]
    },
    {
      "cell_type": "markdown",
      "source": [
        "#Ahora probamos con todos los datos de VALIDACIÓN."
      ],
      "metadata": {
        "id": "7evB99mSJFto"
      }
    },
    {
      "cell_type": "code",
      "source": [
        "\n",
        "from functools import reduce\n",
        "\n",
        "predicciones  = []\n",
        "observaciones = []\n",
        "\n",
        "# Iteramos por el conjunto de datos de Validación\n",
        "# -----------------------------------------------\n",
        "for x_b, y_b in dataloader['val']:\n",
        "  y_pred = model(x_b)\n",
        "  y_prob = torch.argmax(softmax(y_pred), axis=1)\n",
        "  # Se añaden como arrays a la lista, por lo que convertimos previamente a una lista\n",
        "  # El resultado es una lista de lista, por lo que las reducimos a una sola más abajo\n",
        "  # (Esto es así porque el procedimiento confusion_matrix sólo opera datos de 1 dimensión)\n",
        "  predicciones.append(list(y_prob.numpy().flatten()))\n",
        "  observaciones.append(list(y_b.numpy().flatten()))\n",
        "\n",
        "data_pred = reduce(lambda a, b: a+b, predicciones)\n",
        "data_obs  = reduce(lambda a, b: a+b, observaciones)\n",
        "\n",
        "confusion_matrix(data_obs, data_pred)\n",
        "\n"
      ],
      "metadata": {
        "colab": {
          "base_uri": "https://localhost:8080/"
        },
        "id": "rlKhqnn7IvqV",
        "outputId": "672f4238-29b6-4c7e-9bf2-ffece5c3668a"
      },
      "execution_count": null,
      "outputs": [
        {
          "output_type": "execute_result",
          "data": {
            "text/plain": [
              "array([[265294,   6228],\n",
              "       [     3,  48475]])"
            ]
          },
          "metadata": {},
          "execution_count": 16
        }
      ]
    },
    {
      "cell_type": "code",
      "source": [
        "\n",
        "ConfusionMatrixDisplay.from_predictions(data_obs, data_pred, normalize='all', values_format='.3%')\n"
      ],
      "metadata": {
        "colab": {
          "base_uri": "https://localhost:8080/",
          "height": 296
        },
        "id": "edldVJJMJJYI",
        "outputId": "fcc93879-6216-43af-e0f5-9efaf2023129"
      },
      "execution_count": null,
      "outputs": [
        {
          "output_type": "execute_result",
          "data": {
            "text/plain": [
              "<sklearn.metrics._plot.confusion_matrix.ConfusionMatrixDisplay at 0x7f02355c1050>"
            ]
          },
          "metadata": {},
          "execution_count": 17
        },
        {
          "output_type": "display_data",
          "data": {
            "text/plain": [
              "<Figure size 432x288 with 2 Axes>"
            ],
            "image/png": "[encoded data removed]"
          },
          "metadata": {
            "needs_background": "light"
          }
        }
      ]
    },
    {
      "cell_type": "markdown",
      "source": [
        "#Inspeccionamos más detenidamente el tipo de fallos que ocurren en una animación concreta."
      ],
      "metadata": {
        "id": "bcHaY3cdJhsy"
      }
    },
    {
      "cell_type": "code",
      "source": [
        "\n",
        "from sklearn.metrics import confusion_matrix\n",
        "\n",
        "torch.set_printoptions(precision=2)\n",
        "\n",
        "X_obs, y_obs = next(iter(dataloader['val']))\n",
        "y_probab = model(X_obs)\n",
        "y_predic = torch.argmax(softmax(y_probab), axis=1)\n",
        "\n",
        "# Utilizamos códigos para representar los colores y así identificar\n",
        "# mejor a los agentes en la predicción (agentes MUTANTES)\n",
        "red    = '\\033[91m'\n",
        "green  = '\\033[92m'\n",
        "black  = '\\x1b[0m'\n",
        "\n",
        "frame  = 1\n",
        "cadena = ''\n",
        "size_m = 3\n",
        "\n",
        "for i in range(size):\n",
        "  for j in range(size):\n",
        "    if (y_predic[frame,i,j] != y_obs[frame,i,j]) and (y_predic[frame,i,j] == 1):\n",
        "      cadena += red + str(y_predic[frame,i,j].numpy()) + black + '  '\n",
        "    elif (y_predic[frame,i,j] != y_obs[frame,i,j]) and (y_predic[frame,i,j] == 0):\n",
        "      cadena += red + '.' + black + '  '\n",
        "    elif (y_predic[frame,i,j] == y_obs[frame,i,j]) and (y_predic[frame,i,j] == 1):\n",
        "      cadena += green + str(y_predic[frame,i,j].numpy()) + black + '  '\n",
        "    else:\n",
        "      cadena += str(y_predic[frame,i,j].numpy()) + '  '\n",
        "  cadena += '\\n'\n",
        "\n",
        "print(cadena)\n",
        "\n"
      ],
      "metadata": {
        "colab": {
          "base_uri": "https://localhost:8080/"
        },
        "id": "lEaJ7l9lJZ_x",
        "outputId": "a25804cb-6199-457f-89c6-f9635d70daa8"
      },
      "execution_count": null,
      "outputs": [
        {
          "output_type": "stream",
          "name": "stdout",
          "text": [
            "0  0  0  0  0  \u001b[92m1\u001b[0m  0  \u001b[92m1\u001b[0m  0  0  0  0  0  0  0  \u001b[92m1\u001b[0m  \u001b[92m1\u001b[0m  0  \u001b[92m1\u001b[0m  0  \n",
            "0  0  \u001b[92m1\u001b[0m  0  0  0  0  \u001b[92m1\u001b[0m  \u001b[92m1\u001b[0m  0  0  0  0  0  0  0  0  0  \u001b[92m1\u001b[0m  0  \n",
            "0  0  0  0  0  0  0  0  \u001b[92m1\u001b[0m  0  0  0  0  0  0  0  0  0  0  0  \n",
            "0  0  \u001b[92m1\u001b[0m  0  0  0  0  \u001b[92m1\u001b[0m  0  0  0  0  0  0  0  0  0  0  \u001b[92m1\u001b[0m  0  \n",
            "0  0  0  0  0  0  0  \u001b[92m1\u001b[0m  0  0  0  0  0  0  0  0  \u001b[92m1\u001b[0m  0  0  0  \n",
            "0  0  \u001b[92m1\u001b[0m  0  0  0  \u001b[92m1\u001b[0m  0  0  0  0  0  0  0  0  \u001b[92m1\u001b[0m  0  0  0  0  \n",
            "0  0  \u001b[92m1\u001b[0m  0  0  0  0  0  \u001b[92m1\u001b[0m  \u001b[92m1\u001b[0m  0  0  0  0  0  0  0  \u001b[92m1\u001b[0m  0  0  \n",
            "0  0  0  0  \u001b[92m1\u001b[0m  0  \u001b[92m1\u001b[0m  0  0  0  0  0  \u001b[92m1\u001b[0m  0  \u001b[92m1\u001b[0m  0  0  0  0  0  \n",
            "0  0  0  0  0  0  0  0  0  0  0  0  0  \u001b[92m1\u001b[0m  0  0  0  0  0  \u001b[92m1\u001b[0m  \n",
            "0  0  0  0  0  \u001b[92m1\u001b[0m  0  \u001b[92m1\u001b[0m  0  0  0  0  \u001b[92m1\u001b[0m  0  \u001b[92m1\u001b[0m  0  0  \u001b[92m1\u001b[0m  0  \u001b[92m1\u001b[0m  \n",
            "0  0  0  0  0  0  \u001b[92m1\u001b[0m  0  0  0  0  0  0  \u001b[92m1\u001b[0m  0  0  \u001b[92m1\u001b[0m  0  0  0  \n",
            "0  0  0  0  0  \u001b[92m1\u001b[0m  0  0  \u001b[92m1\u001b[0m  0  0  \u001b[92m1\u001b[0m  0  0  0  \u001b[92m1\u001b[0m  0  0  \u001b[92m1\u001b[0m  0  \n",
            "\u001b[91m1\u001b[0m  0  0  0  0  0  0  \u001b[91m1\u001b[0m  \u001b[91m1\u001b[0m  \u001b[91m1\u001b[0m  \u001b[91m1\u001b[0m  \u001b[91m1\u001b[0m  \u001b[91m1\u001b[0m  0  \u001b[91m1\u001b[0m  \u001b[91m1\u001b[0m  \u001b[91m1\u001b[0m  0  \u001b[91m1\u001b[0m  0  \n",
            "0  0  0  \u001b[92m1\u001b[0m  0  \u001b[92m1\u001b[0m  0  0  0  0  0  0  0  0  0  0  \u001b[92m1\u001b[0m  0  0  0  \n",
            "0  0  \u001b[92m1\u001b[0m  0  \u001b[92m1\u001b[0m  \u001b[92m1\u001b[0m  0  0  0  \u001b[92m1\u001b[0m  0  0  \u001b[92m1\u001b[0m  0  0  0  0  0  0  \u001b[92m1\u001b[0m  \n",
            "0  \u001b[92m1\u001b[0m  0  0  0  0  0  0  0  0  0  0  0  \u001b[92m1\u001b[0m  \u001b[92m1\u001b[0m  0  0  0  \u001b[92m1\u001b[0m  0  \n",
            "0  0  0  0  0  \u001b[92m1\u001b[0m  0  0  \u001b[92m1\u001b[0m  \u001b[92m1\u001b[0m  0  0  0  0  0  \u001b[92m1\u001b[0m  0  0  0  0  \n",
            "0  \u001b[92m1\u001b[0m  0  0  0  0  0  0  \u001b[92m1\u001b[0m  0  0  0  0  0  0  0  0  0  0  0  \n",
            "0  0  0  0  0  0  0  0  0  \u001b[92m1\u001b[0m  0  0  \u001b[92m1\u001b[0m  0  0  0  \u001b[92m1\u001b[0m  \u001b[92m1\u001b[0m  \u001b[92m1\u001b[0m  0  \n",
            "0  \u001b[92m1\u001b[0m  0  0  \u001b[92m1\u001b[0m  0  0  \u001b[92m1\u001b[0m  0  0  0  0  0  0  0  0  0  0  0  0  \n",
            "\n"
          ]
        }
      ]
    },
    {
      "cell_type": "code",
      "source": [
        "\n",
        "import matplotlib.pyplot as plt\n",
        "\n",
        "# Uno de los frames\n",
        "# -----------------\n",
        "plt.imshow(X_obs[1].permute(1,2,0))\n",
        "plt.show()\n"
      ],
      "metadata": {
        "colab": {
          "base_uri": "https://localhost:8080/",
          "height": 265
        },
        "id": "QJZH-8VDJaC7",
        "outputId": "341f7c1b-7184-4fe5-d313-be4d6828197e"
      },
      "execution_count": null,
      "outputs": [
        {
          "output_type": "display_data",
          "data": {
            "text/plain": [
              "<Figure size 432x288 with 1 Axes>"
            ],
            "image/png": "[encoded data removed]"
          },
          "metadata": {
            "needs_background": "light"
          }
        }
      ]
    },
    {
      "cell_type": "code",
      "source": [
        "\n",
        "from sklearn.metrics import roc_curve\n",
        "\n",
        "# CURVA ROC  (Creo que son 'scores' lo que se le debe pasar\n",
        "# como segundo argumento. No sé si se puede hacer así)\n",
        "# ---------------------------------------------------------\n",
        "fpr, tpr, thresholds = roc_curve(data_obs, data_pred)\n",
        "plt.plot(fpr, tpr, 'b:', label='Arquitectura U-Net')\n",
        "plt.plot([0, 1], [0, 1], 'k--')\n",
        "#plt.axis([0, 1, 0, 1])     # Libro de Aurelien Geron\n",
        "plt.xlabel('False Positive Rate')\n",
        "plt.ylabel('True Positive Rate (Recall)')\n",
        "plt.grid(True)\n",
        "plt.legend(loc='lower right')\n",
        "plt.show()\n"
      ],
      "metadata": {
        "colab": {
          "base_uri": "https://localhost:8080/",
          "height": 279
        },
        "id": "58lNz_xLI8UQ",
        "outputId": "6821978a-7270-42fa-fa57-c9e776a3cd60"
      },
      "execution_count": null,
      "outputs": [
        {
          "output_type": "display_data",
          "data": {
            "text/plain": [
              "<Figure size 432x288 with 1 Axes>"
            ],
            "image/png": "[encoded data removed]"
          },
          "metadata": {
            "needs_background": "light"
          }
        }
      ]
    },
    {
      "cell_type": "code",
      "source": [],
      "metadata": {
        "id": "MwYYMdWMI8W_"
      },
      "execution_count": null,
      "outputs": []
    },
    {
      "cell_type": "code",
      "source": [],
      "metadata": {
        "id": "06PMbj4QPlWG"
      },
      "execution_count": null,
      "outputs": []
    }
  ]
}