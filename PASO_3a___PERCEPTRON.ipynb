{
  "nbformat": 4,
  "nbformat_minor": 0,
  "metadata": {
    "colab": {
      "provenance": [],
      "collapsed_sections": [],
      "authorship_tag": "ABX9TyPPewNcW22vqocUySxx1K/c",
      "include_colab_link": true
    },
    "kernelspec": {
      "name": "python3",
      "display_name": "Python 3"
    },
    "language_info": {
      "name": "python"
    }
  },
  "cells": [
    {
      "cell_type": "markdown",
      "metadata": {
        "id": "view-in-github",
        "colab_type": "text"
      },
      "source": [
        "<a href=\"https://colab.research.google.com/github/oscarserc/TESIS/blob/main/PASO_3a___PERCEPTRON.ipynb\" target=\"_parent\"><img src=\"https://colab.research.google.com/assets/colab-badge.svg\" alt=\"Open In Colab\"/></a>"
      ]
    },
    {
      "cell_type": "markdown",
      "source": [
        "#UTILIZACIÓN DE TÉCNICAS DE APRENDIZAJE AUTOMÁTICO PARA LA DETECCIÓN DE LOS NODOS INFLUYENTES.\n",
        "\n",
        "La base de datos que emplearemos será de unas 70.000 observaciones. En concreto:\n",
        "\n",
        "· 72.000 observaciones\n",
        "\n",
        "· Para ello generamos una 1800 **simulaciones**, y guardamos unos 40 **frames** de cada una de ellas\n",
        "\n",
        "· Además como **target** guardamos la matriz con la IDENTIDAD de todos y cada uno de los AGENTES.\n",
        "\n"
      ],
      "metadata": {
        "id": "Ck6WE2qgmKul"
      }
    },
    {
      "cell_type": "code",
      "source": [],
      "metadata": {
        "id": "yclIUzOWcSjy"
      },
      "execution_count": null,
      "outputs": []
    },
    {
      "cell_type": "code",
      "source": [],
      "metadata": {
        "id": "ijoWUtiKcSpa"
      },
      "execution_count": null,
      "outputs": []
    },
    {
      "cell_type": "markdown",
      "source": [
        "#**PRUEBA 1**: Planteamos un problema de **Clasificación**. Entrenaremos una Red Neuronal para detectar el tipo de mezcla poblacional ante la que nos encontramos."
      ],
      "metadata": {
        "id": "F1wDGIWlcnLL"
      }
    },
    {
      "cell_type": "markdown",
      "source": [
        "\n",
        "<figure>\n",
        "<center>\n",
        "<img src='https://github.com/oscarserc/IMAGENES/blob/main/Archivo_C.png?raw=true' width=\"850\"/>\n",
        "<figcaption></figcaption></center>\n",
        "</figure>\n"
      ],
      "metadata": {
        "id": "xy5oX0_Qc2m5"
      }
    },
    {
      "cell_type": "markdown",
      "source": [
        "#Podemos empezar por lo más sencillo. Utilizamos un <font color='green'>**PERCEPTRÓN MULTICAPA**</font>.\n",
        "\n",
        "<figure>\n",
        "<center>\n",
        "<img src='https://github.com/oscarserc/IMAGENES/blob/main/Esquema_RN_3b_corregido.png?raw=true' width=\"650\"/>\n",
        "<figcaption>fig. 1: Transformamos la matriz en un vector de dimensión 1 y, para simplificar, lo convertimos a una escala de grises. En estas condiciones podemos introducirlo como entrada de la Red Neuronal Densamente Conectada.</figcaption></center>\n",
        "</figure>\n"
      ],
      "metadata": {
        "id": "jndwCnQyy0gl"
      }
    },
    {
      "cell_type": "markdown",
      "source": [
        "A) Cargamos la base de datos de simulaciones. Para empezar utilizamos sólo simulaciones con **AGENTES EMOCIONALES** únicamente (target=0), o una población con **AGENTES MUTANTES TRAIDORES** infiltrados (target=1)."
      ],
      "metadata": {
        "id": "UJOp9oiGexop"
      }
    },
    {
      "cell_type": "code",
      "source": [],
      "metadata": {
        "id": "Nb8A2pCyq19V"
      },
      "execution_count": null,
      "outputs": []
    },
    {
      "cell_type": "markdown",
      "source": [
        "#Aleatorizando las filas."
      ],
      "metadata": {
        "id": "gRBZYYAkyHrb"
      }
    },
    {
      "cell_type": "code",
      "source": [
        "\n",
        "import pandas as pd\n",
        "\n",
        "# Cargamos los datos\n",
        "# ------------------\n",
        "bd_simulaciones = pd.read_csv('bd_combinado.csv')\n",
        "\n",
        "# Aleatorizamos\n",
        "# -------------\n",
        "bd_simulaciones = bd_simulaciones.sample(frac=1).reset_index(drop=True)\n",
        "\n"
      ],
      "metadata": {
        "id": "Fiui5K0TTy5B"
      },
      "execution_count": null,
      "outputs": []
    },
    {
      "cell_type": "markdown",
      "source": [
        "#Sin aleatorizar."
      ],
      "metadata": {
        "id": "3T7rLefIyEcp"
      }
    },
    {
      "cell_type": "code",
      "source": [
        "\n",
        "# Cargamos los datos pero no aleatorizamos\n",
        "# ------------------\n",
        "bd_simulaciones = pd.read_csv('bd_combinado.csv')\n"
      ],
      "metadata": {
        "id": "aNBTTJMfsHp0"
      },
      "execution_count": null,
      "outputs": []
    },
    {
      "cell_type": "code",
      "source": [
        "\n",
        "bd_simulaciones.iloc[:,303].hist()\n"
      ],
      "metadata": {
        "colab": {
          "base_uri": "https://localhost:8080/",
          "height": 282
        },
        "id": "AgLwq40prSVp",
        "outputId": "07229743-c6d3-4e43-a358-09954440ed07"
      },
      "execution_count": null,
      "outputs": [
        {
          "output_type": "execute_result",
          "data": {
            "text/plain": [
              "<matplotlib.axes._subplots.AxesSubplot at 0x7f4f758ce910>"
            ]
          },
          "metadata": {},
          "execution_count": 85
        },
        {
          "output_type": "display_data",
          "data": {
            "text/plain": [
              "<Figure size 432x288 with 1 Axes>"
            ],
            "image/png": "[encoded data removed]"
          },
          "metadata": {
            "needs_background": "light"
          }
        }
      ]
    },
    {
      "cell_type": "markdown",
      "source": [
        "#Prueba de convertir el RGB a GRIS."
      ],
      "metadata": {
        "id": "91u0RY04F70U"
      }
    },
    {
      "cell_type": "code",
      "source": [
        "\n",
        "df = bd_simulaciones.copy()\n",
        "\n",
        "size = 10\n",
        "nombres_columnas_gris = ['gris' + str(indice) for indice in range(size*size)]\n",
        "\n",
        "df_gris = pd.DataFrame(columns=nombres_columnas_gris)\n",
        "#nuevo_frame = []\n",
        "gris  = []\n",
        "\n",
        "indices_r, indices_v, indices_a = [], [], []\n",
        "\n",
        "for obs in range(len(df)):\n",
        "  for pixel in range (100):\n",
        "      columna_r = pixel\n",
        "      columna_v = (size*size) + pixel\n",
        "      columna_a = 2*(size*size) + pixel\n",
        "      gris.append((df.iloc[obs, columna_r] + df.iloc[obs, columna_v] + df.iloc[obs, columna_a]) / 3.)\n",
        "      #indices_r.append(columna_r)\n",
        "      #indices_v.append(columna_v)\n",
        "      #indices_a.append(columna_a)\n",
        "  #nuevo_frame = nuevo_frame + gris\n",
        "  frame  = pd.DataFrame([gris], columns=nombres_columnas_gris)\n",
        "  df_gris = pd.concat([df_gris, frame], ignore_index=True)\n",
        "  gris = []\n",
        "\n",
        "df_gris\n"
      ],
      "metadata": {
        "colab": {
          "base_uri": "https://localhost:8080/",
          "height": 488
        },
        "id": "_xhKj6OgF2e0",
        "outputId": "4de298cf-43de-42f0-bd04-9e13c587054c"
      },
      "execution_count": null,
      "outputs": [
        {
          "output_type": "execute_result",
          "data": {
            "text/plain": [
              "         gris0     gris1     gris2     gris3     gris4     gris5     gris6  \\\n",
              "0     0.333333  0.466667  0.466667  0.600000  0.466667  0.466667  0.466667   \n",
              "1     0.333333  0.466667  0.466667  0.600000  0.466667  0.466667  0.466667   \n",
              "2     0.333333  0.466667  0.466667  0.600000  0.466667  0.466667  0.466667   \n",
              "3     0.333333  0.466667  0.466667  0.600000  0.466667  0.466667  0.466667   \n",
              "4     0.333333  0.466667  0.466667  0.600000  0.466667  0.466667  0.466667   \n",
              "...        ...       ...       ...       ...       ...       ...       ...   \n",
              "7995  0.333333  0.333333  0.333333  0.333333  0.333333  0.333333  0.333333   \n",
              "7996  0.333333  0.333333  0.466667  0.333333  0.333333  0.333333  0.333333   \n",
              "7997  0.555556  0.333333  0.333333  0.333333  0.333333  0.333333  0.333333   \n",
              "7998  0.333333  0.333333  0.333333  0.333333  0.333333  0.333333  0.333333   \n",
              "7999  0.333333  0.333333  0.333333  0.333333  0.333333  0.333333  0.333333   \n",
              "\n",
              "         gris7     gris8     gris9  ...    gris90    gris91    gris92  \\\n",
              "0     0.333333  0.600000  0.555556  ...  0.555556  0.466667  0.333333   \n",
              "1     0.333333  0.600000  0.555556  ...  0.333333  0.333333  0.333333   \n",
              "2     0.333333  0.600000  0.555556  ...  0.333333  0.333333  0.333333   \n",
              "3     0.333333  0.600000  0.555556  ...  0.333333  0.333333  0.333333   \n",
              "4     0.333333  0.600000  0.555556  ...  0.333333  0.333333  0.333333   \n",
              "...        ...       ...       ...  ...       ...       ...       ...   \n",
              "7995  0.333333  0.333333  0.333333  ...  0.333333  0.333333  0.333333   \n",
              "7996  0.333333  0.333333  0.333333  ...  0.333333  0.333333  0.333333   \n",
              "7997  0.333333  0.333333  0.333333  ...  0.333333  0.333333  0.333333   \n",
              "7998  0.333333  0.333333  0.333333  ...  0.333333  0.333333  0.333333   \n",
              "7999  0.333333  0.333333  0.333333  ...  0.333333  0.333333  0.333333   \n",
              "\n",
              "        gris93    gris94    gris95    gris96    gris97    gris98    gris99  \n",
              "0     0.333333  0.333333  0.466667  0.466667  0.466667  0.600000  0.555556  \n",
              "1     0.333333  0.333333  0.333333  0.466667  0.466667  0.600000  0.555556  \n",
              "2     0.333333  0.466667  0.466667  0.600000  0.466667  0.600000  0.555556  \n",
              "3     0.333333  0.333333  0.333333  0.466667  0.466667  0.600000  0.555556  \n",
              "4     0.333333  0.333333  0.333333  0.466667  0.466667  0.600000  0.555556  \n",
              "...        ...       ...       ...       ...       ...       ...       ...  \n",
              "7995  0.333333  0.333333  0.333333  0.333333  0.333333  0.333333  0.333333  \n",
              "7996  0.333333  0.333333  0.333333  0.333333  0.333333  0.333333  0.333333  \n",
              "7997  0.333333  0.333333  0.333333  0.333333  0.333333  0.333333  0.333333  \n",
              "7998  0.333333  0.333333  0.333333  0.333333  0.333333  0.333333  0.333333  \n",
              "7999  0.333333  0.333333  0.333333  0.333333  0.333333  0.333333  0.333333  \n",
              "\n",
              "[8000 rows x 100 columns]"
            ],
            "text/html": [
              "\n",
              "  <div id=\"df-6174e1bb-deb4-46d2-9372-fc535a168f49\">\n",
              "    <div class=\"colab-df-container\">\n",
              "      <div>\n",
              "<style scoped>\n",
              "    .dataframe tbody tr th:only-of-type {\n",
              "        vertical-align: middle;\n",
              "    }\n",
              "\n",
              "    .dataframe tbody tr th {\n",
              "        vertical-align: top;\n",
              "    }\n",
              "\n",
              "    .dataframe thead th {\n",
              "        text-align: right;\n",
              "    }\n",
              "</style>\n",
              "<table border=\"1\" class=\"dataframe\">\n",
              "  <thead>\n",
              "    <tr style=\"text-align: right;\">\n",
              "      <th></th>\n",
              "      <th>gris0</th>\n",
              "      <th>gris1</th>\n",
              "      <th>gris2</th>\n",
              "      <th>gris3</th>\n",
              "      <th>gris4</th>\n",
              "      <th>gris5</th>\n",
              "      <th>gris6</th>\n",
              "      <th>gris7</th>\n",
              "      <th>gris8</th>\n",
              "      <th>gris9</th>\n",
              "      <th>...</th>\n",
              "      <th>gris90</th>\n",
              "      <th>gris91</th>\n",
              "      <th>gris92</th>\n",
              "      <th>gris93</th>\n",
              "      <th>gris94</th>\n",
              "      <th>gris95</th>\n",
              "      <th>gris96</th>\n",
              "      <th>gris97</th>\n",
              "      <th>gris98</th>\n",
              "      <th>gris99</th>\n",
              "    </tr>\n",
              "  </thead>\n",
              "  <tbody>\n",
              "    <tr>\n",
              "      <th>0</th>\n",
              "      <td>0.333333</td>\n",
              "      <td>0.466667</td>\n",
              "      <td>0.466667</td>\n",
              "      <td>0.600000</td>\n",
              "      <td>0.466667</td>\n",
              "      <td>0.466667</td>\n",
              "      <td>0.466667</td>\n",
              "      <td>0.333333</td>\n",
              "      <td>0.600000</td>\n",
              "      <td>0.555556</td>\n",
              "      <td>...</td>\n",
              "      <td>0.555556</td>\n",
              "      <td>0.466667</td>\n",
              "      <td>0.333333</td>\n",
              "      <td>0.333333</td>\n",
              "      <td>0.333333</td>\n",
              "      <td>0.466667</td>\n",
              "      <td>0.466667</td>\n",
              "      <td>0.466667</td>\n",
              "      <td>0.600000</td>\n",
              "      <td>0.555556</td>\n",
              "    </tr>\n",
              "    <tr>\n",
              "      <th>1</th>\n",
              "      <td>0.333333</td>\n",
              "      <td>0.466667</td>\n",
              "      <td>0.466667</td>\n",
              "      <td>0.600000</td>\n",
              "      <td>0.466667</td>\n",
              "      <td>0.466667</td>\n",
              "      <td>0.466667</td>\n",
              "      <td>0.333333</td>\n",
              "      <td>0.600000</td>\n",
              "      <td>0.555556</td>\n",
              "      <td>...</td>\n",
              "      <td>0.333333</td>\n",
              "      <td>0.333333</td>\n",
              "      <td>0.333333</td>\n",
              "      <td>0.333333</td>\n",
              "      <td>0.333333</td>\n",
              "      <td>0.333333</td>\n",
              "      <td>0.466667</td>\n",
              "      <td>0.466667</td>\n",
              "      <td>0.600000</td>\n",
              "      <td>0.555556</td>\n",
              "    </tr>\n",
              "    <tr>\n",
              "      <th>2</th>\n",
              "      <td>0.333333</td>\n",
              "      <td>0.466667</td>\n",
              "      <td>0.466667</td>\n",
              "      <td>0.600000</td>\n",
              "      <td>0.466667</td>\n",
              "      <td>0.466667</td>\n",
              "      <td>0.466667</td>\n",
              "      <td>0.333333</td>\n",
              "      <td>0.600000</td>\n",
              "      <td>0.555556</td>\n",
              "      <td>...</td>\n",
              "      <td>0.333333</td>\n",
              "      <td>0.333333</td>\n",
              "      <td>0.333333</td>\n",
              "      <td>0.333333</td>\n",
              "      <td>0.466667</td>\n",
              "      <td>0.466667</td>\n",
              "      <td>0.600000</td>\n",
              "      <td>0.466667</td>\n",
              "      <td>0.600000</td>\n",
              "      <td>0.555556</td>\n",
              "    </tr>\n",
              "    <tr>\n",
              "      <th>3</th>\n",
              "      <td>0.333333</td>\n",
              "      <td>0.466667</td>\n",
              "      <td>0.466667</td>\n",
              "      <td>0.600000</td>\n",
              "      <td>0.466667</td>\n",
              "      <td>0.466667</td>\n",
              "      <td>0.466667</td>\n",
              "      <td>0.333333</td>\n",
              "      <td>0.600000</td>\n",
              "      <td>0.555556</td>\n",
              "      <td>...</td>\n",
              "      <td>0.333333</td>\n",
              "      <td>0.333333</td>\n",
              "      <td>0.333333</td>\n",
              "      <td>0.333333</td>\n",
              "      <td>0.333333</td>\n",
              "      <td>0.333333</td>\n",
              "      <td>0.466667</td>\n",
              "      <td>0.466667</td>\n",
              "      <td>0.600000</td>\n",
              "      <td>0.555556</td>\n",
              "    </tr>\n",
              "    <tr>\n",
              "      <th>4</th>\n",
              "      <td>0.333333</td>\n",
              "      <td>0.466667</td>\n",
              "      <td>0.466667</td>\n",
              "      <td>0.600000</td>\n",
              "      <td>0.466667</td>\n",
              "      <td>0.466667</td>\n",
              "      <td>0.466667</td>\n",
              "      <td>0.333333</td>\n",
              "      <td>0.600000</td>\n",
              "      <td>0.555556</td>\n",
              "      <td>...</td>\n",
              "      <td>0.333333</td>\n",
              "      <td>0.333333</td>\n",
              "      <td>0.333333</td>\n",
              "      <td>0.333333</td>\n",
              "      <td>0.333333</td>\n",
              "      <td>0.333333</td>\n",
              "      <td>0.466667</td>\n",
              "      <td>0.466667</td>\n",
              "      <td>0.600000</td>\n",
              "      <td>0.555556</td>\n",
              "    </tr>\n",
              "    <tr>\n",
              "      <th>...</th>\n",
              "      <td>...</td>\n",
              "      <td>...</td>\n",
              "      <td>...</td>\n",
              "      <td>...</td>\n",
              "      <td>...</td>\n",
              "      <td>...</td>\n",
              "      <td>...</td>\n",
              "      <td>...</td>\n",
              "      <td>...</td>\n",
              "      <td>...</td>\n",
              "      <td>...</td>\n",
              "      <td>...</td>\n",
              "      <td>...</td>\n",
              "      <td>...</td>\n",
              "      <td>...</td>\n",
              "      <td>...</td>\n",
              "      <td>...</td>\n",
              "      <td>...</td>\n",
              "      <td>...</td>\n",
              "      <td>...</td>\n",
              "      <td>...</td>\n",
              "    </tr>\n",
              "    <tr>\n",
              "      <th>7995</th>\n",
              "      <td>0.333333</td>\n",
              "      <td>0.333333</td>\n",
              "      <td>0.333333</td>\n",
              "      <td>0.333333</td>\n",
              "      <td>0.333333</td>\n",
              "      <td>0.333333</td>\n",
              "      <td>0.333333</td>\n",
              "      <td>0.333333</td>\n",
              "      <td>0.333333</td>\n",
              "      <td>0.333333</td>\n",
              "      <td>...</td>\n",
              "      <td>0.333333</td>\n",
              "      <td>0.333333</td>\n",
              "      <td>0.333333</td>\n",
              "      <td>0.333333</td>\n",
              "      <td>0.333333</td>\n",
              "      <td>0.333333</td>\n",
              "      <td>0.333333</td>\n",
              "      <td>0.333333</td>\n",
              "      <td>0.333333</td>\n",
              "      <td>0.333333</td>\n",
              "    </tr>\n",
              "    <tr>\n",
              "      <th>7996</th>\n",
              "      <td>0.333333</td>\n",
              "      <td>0.333333</td>\n",
              "      <td>0.466667</td>\n",
              "      <td>0.333333</td>\n",
              "      <td>0.333333</td>\n",
              "      <td>0.333333</td>\n",
              "      <td>0.333333</td>\n",
              "      <td>0.333333</td>\n",
              "      <td>0.333333</td>\n",
              "      <td>0.333333</td>\n",
              "      <td>...</td>\n",
              "      <td>0.333333</td>\n",
              "      <td>0.333333</td>\n",
              "      <td>0.333333</td>\n",
              "      <td>0.333333</td>\n",
              "      <td>0.333333</td>\n",
              "      <td>0.333333</td>\n",
              "      <td>0.333333</td>\n",
              "      <td>0.333333</td>\n",
              "      <td>0.333333</td>\n",
              "      <td>0.333333</td>\n",
              "    </tr>\n",
              "    <tr>\n",
              "      <th>7997</th>\n",
              "      <td>0.555556</td>\n",
              "      <td>0.333333</td>\n",
              "      <td>0.333333</td>\n",
              "      <td>0.333333</td>\n",
              "      <td>0.333333</td>\n",
              "      <td>0.333333</td>\n",
              "      <td>0.333333</td>\n",
              "      <td>0.333333</td>\n",
              "      <td>0.333333</td>\n",
              "      <td>0.333333</td>\n",
              "      <td>...</td>\n",
              "      <td>0.333333</td>\n",
              "      <td>0.333333</td>\n",
              "      <td>0.333333</td>\n",
              "      <td>0.333333</td>\n",
              "      <td>0.333333</td>\n",
              "      <td>0.333333</td>\n",
              "      <td>0.333333</td>\n",
              "      <td>0.333333</td>\n",
              "      <td>0.333333</td>\n",
              "      <td>0.333333</td>\n",
              "    </tr>\n",
              "    <tr>\n",
              "      <th>7998</th>\n",
              "      <td>0.333333</td>\n",
              "      <td>0.333333</td>\n",
              "      <td>0.333333</td>\n",
              "      <td>0.333333</td>\n",
              "      <td>0.333333</td>\n",
              "      <td>0.333333</td>\n",
              "      <td>0.333333</td>\n",
              "      <td>0.333333</td>\n",
              "      <td>0.333333</td>\n",
              "      <td>0.333333</td>\n",
              "      <td>...</td>\n",
              "      <td>0.333333</td>\n",
              "      <td>0.333333</td>\n",
              "      <td>0.333333</td>\n",
              "      <td>0.333333</td>\n",
              "      <td>0.333333</td>\n",
              "      <td>0.333333</td>\n",
              "      <td>0.333333</td>\n",
              "      <td>0.333333</td>\n",
              "      <td>0.333333</td>\n",
              "      <td>0.333333</td>\n",
              "    </tr>\n",
              "    <tr>\n",
              "      <th>7999</th>\n",
              "      <td>0.333333</td>\n",
              "      <td>0.333333</td>\n",
              "      <td>0.333333</td>\n",
              "      <td>0.333333</td>\n",
              "      <td>0.333333</td>\n",
              "      <td>0.333333</td>\n",
              "      <td>0.333333</td>\n",
              "      <td>0.333333</td>\n",
              "      <td>0.333333</td>\n",
              "      <td>0.333333</td>\n",
              "      <td>...</td>\n",
              "      <td>0.333333</td>\n",
              "      <td>0.333333</td>\n",
              "      <td>0.333333</td>\n",
              "      <td>0.333333</td>\n",
              "      <td>0.333333</td>\n",
              "      <td>0.333333</td>\n",
              "      <td>0.333333</td>\n",
              "      <td>0.333333</td>\n",
              "      <td>0.333333</td>\n",
              "      <td>0.333333</td>\n",
              "    </tr>\n",
              "  </tbody>\n",
              "</table>\n",
              "<p>8000 rows × 100 columns</p>\n",
              "</div>\n",
              "      <button class=\"colab-df-convert\" onclick=\"convertToInteractive('df-6174e1bb-deb4-46d2-9372-fc535a168f49')\"\n",
              "              title=\"Convert this dataframe to an interactive table.\"\n",
              "              style=\"display:none;\">\n",
              "        \n",
              "  <svg xmlns=\"http://www.w3.org/2000/svg\" height=\"24px\"viewBox=\"0 0 24 24\"\n",
              "       width=\"24px\">\n",
              "    <path d=\"M0 0h24v24H0V0z\" fill=\"none\"/>\n",
              "    <path d=\"M18.56 5.44l.94 2.06.94-2.06 2.06-.94-2.06-.94-.94-2.06-.94 2.06-2.06.94zm-11 1L8.5 8.5l.94-2.06 2.06-.94-2.06-.94L8.5 2.5l-.94 2.06-2.06.94zm10 10l.94 2.06.94-2.06 2.06-.94-2.06-.94-.94-2.06-.94 2.06-2.06.94z\"/><path d=\"M17.41 7.96l-1.37-1.37c-.4-.4-.92-.59-1.43-.59-.52 0-1.04.2-1.43.59L10.3 9.45l-7.72 7.72c-.78.78-.78 2.05 0 2.83L4 21.41c.39.39.9.59 1.41.59.51 0 1.02-.2 1.41-.59l7.78-7.78 2.81-2.81c.8-.78.8-2.07 0-2.86zM5.41 20L4 18.59l7.72-7.72 1.47 1.35L5.41 20z\"/>\n",
              "  </svg>\n",
              "      </button>\n",
              "      \n",
              "  <style>\n",
              "    .colab-df-container {\n",
              "      display:flex;\n",
              "      flex-wrap:wrap;\n",
              "      gap: 12px;\n",
              "    }\n",
              "\n",
              "    .colab-df-convert {\n",
              "      background-color: #E8F0FE;\n",
              "      border: none;\n",
              "      border-radius: 50%;\n",
              "      cursor: pointer;\n",
              "      display: none;\n",
              "      fill: #1967D2;\n",
              "      height: 32px;\n",
              "      padding: 0 0 0 0;\n",
              "      width: 32px;\n",
              "    }\n",
              "\n",
              "    .colab-df-convert:hover {\n",
              "      background-color: #E2EBFA;\n",
              "      box-shadow: 0px 1px 2px rgba(60, 64, 67, 0.3), 0px 1px 3px 1px rgba(60, 64, 67, 0.15);\n",
              "      fill: #174EA6;\n",
              "    }\n",
              "\n",
              "    [theme=dark] .colab-df-convert {\n",
              "      background-color: #3B4455;\n",
              "      fill: #D2E3FC;\n",
              "    }\n",
              "\n",
              "    [theme=dark] .colab-df-convert:hover {\n",
              "      background-color: #434B5C;\n",
              "      box-shadow: 0px 1px 3px 1px rgba(0, 0, 0, 0.15);\n",
              "      filter: drop-shadow(0px 1px 2px rgba(0, 0, 0, 0.3));\n",
              "      fill: #FFFFFF;\n",
              "    }\n",
              "  </style>\n",
              "\n",
              "      <script>\n",
              "        const buttonEl =\n",
              "          document.querySelector('#df-6174e1bb-deb4-46d2-9372-fc535a168f49 button.colab-df-convert');\n",
              "        buttonEl.style.display =\n",
              "          google.colab.kernel.accessAllowed ? 'block' : 'none';\n",
              "\n",
              "        async function convertToInteractive(key) {\n",
              "          const element = document.querySelector('#df-6174e1bb-deb4-46d2-9372-fc535a168f49');\n",
              "          const dataTable =\n",
              "            await google.colab.kernel.invokeFunction('convertToInteractive',\n",
              "                                                     [key], {});\n",
              "          if (!dataTable) return;\n",
              "\n",
              "          const docLinkHtml = 'Like what you see? Visit the ' +\n",
              "            '<a target=\"_blank\" href=https://colab.research.google.com/notebooks/data_table.ipynb>data table notebook</a>'\n",
              "            + ' to learn more about interactive tables.';\n",
              "          element.innerHTML = '';\n",
              "          dataTable['output_type'] = 'display_data';\n",
              "          await google.colab.output.renderOutput(dataTable, element);\n",
              "          const docLink = document.createElement('div');\n",
              "          docLink.innerHTML = docLinkHtml;\n",
              "          element.appendChild(docLink);\n",
              "        }\n",
              "      </script>\n",
              "    </div>\n",
              "  </div>\n",
              "  "
            ]
          },
          "metadata": {},
          "execution_count": 13
        }
      ]
    },
    {
      "cell_type": "code",
      "source": [],
      "metadata": {
        "id": "H-1J1YUiF2oV"
      },
      "execution_count": null,
      "outputs": []
    },
    {
      "cell_type": "code",
      "source": [],
      "metadata": {
        "id": "MfkRSWmzKTbU"
      },
      "execution_count": null,
      "outputs": []
    },
    {
      "cell_type": "markdown",
      "source": [
        "B) Creamos una clase para convertir en **tensores** los datos. Posteriormente procedemos a utilizar la clase ***DataLoader*** para poder iterar por ellos seleccionando batches para el entrenamiento."
      ],
      "metadata": {
        "id": "pwpfW5PyUYwZ"
      }
    },
    {
      "cell_type": "code",
      "source": [
        "\n",
        "import numpy as np\n",
        "import torch\n",
        "\n",
        "# PRIMERO TENEMOS QUE EXTRAER LA MATRIX:  X\n",
        "# que contendrá sólo imágenes (obtenidas con np.stack del 'csv')\n",
        "# y los valores del TARGET:               Y\n",
        "#\n",
        "# Luego pasaremos (X, Y) al Dataset que creamos a continuación.\n",
        "# --------------------------------------------------------------\n",
        "\n",
        "X_train = df_gris.iloc[:,:100].values\n",
        "Y_train = bd_simulaciones.iloc[:,303]\n",
        "\n",
        "# CREAMOS UNA CLASE PARA LOS DATOS\n",
        "# ================================\n",
        "\n",
        "class Dataset_frames(torch.utils.data.Dataset):\n",
        "  def __init__(self, X, Y):\n",
        "    self.X = torch.tensor(X).float()\n",
        "    self.Y = torch.tensor(Y).long()\n",
        "\n",
        "  def __len__(self):\n",
        "    return len(self.X)\n",
        "\n",
        "  def __getitem__(self, ix):\n",
        "    return self.X[ix], self.Y[ix]\n",
        "\n",
        "dataset    = Dataset_frames(X_train, Y_train)\n",
        "dataloader = torch.utils.data.DataLoader(dataset, batch_size=40, shuffle=False)\n"
      ],
      "metadata": {
        "id": "7N6tqd0mcncC"
      },
      "execution_count": null,
      "outputs": []
    },
    {
      "cell_type": "markdown",
      "source": [
        "#Con TRAIN_TEST_SPLIT"
      ],
      "metadata": {
        "id": "ke7MWCXQypNN"
      }
    },
    {
      "cell_type": "code",
      "source": [
        "\n",
        "import numpy as np\n",
        "import torch\n",
        "\n",
        "# PRIMERO TENEMOS QUE EXTRAER LA MATRIX:  X\n",
        "# que contendrá sólo imágenes (obtenidas con np.stack del 'csv')\n",
        "# y los valores del TARGET:               Y\n",
        "#\n",
        "# Luego pasaremos (X, Y) al Dataset que creamos a continuación.\n",
        "# --------------------------------------------------------------\n",
        "\n",
        "X_train = bd_simulaciones.iloc[:,:100].values\n",
        "Y_train = bd_simulaciones.iloc[:,303]\n",
        "\n",
        "# CREAMOS UNA CLASE PARA LOS DATOS\n",
        "# ================================\n",
        "\n",
        "class Dataset_frames(torch.utils.data.Dataset):\n",
        "  def __init__(self, X, Y):\n",
        "    self.X = torch.tensor(X).float()\n",
        "    self.Y = torch.tensor(Y.to_numpy()).long()\n",
        "\n",
        "  def __len__(self):\n",
        "    return len(self.X)\n",
        "\n",
        "  def __getitem__(self, ix):\n",
        "    return self.X[ix], self.Y[ix]\n",
        "\n",
        "\n",
        "# SELECCIONANDO GRUPOS DE OBSERVACIONES PARA VALIDACIÓN\n",
        "# -----------------------------------------------------\n",
        "\n",
        "from sklearn.model_selection import train_test_split\n",
        "\n",
        "X_subset, X_val, Y_subset, Y_val = train_test_split(X_train, Y_train, test_size = 0.2)\n",
        "\n",
        "dataset = {\n",
        "    'train' : Dataset_frames(X_subset, Y_subset),\n",
        "    'val'   : Dataset_frames(X_val, Y_val)\n",
        "}    \n",
        "\n",
        "dataloader = {\n",
        "    'train' : torch.utils.data.DataLoader(dataset['train'], batch_size=40,   shuffle=False),\n",
        "    'val'   : torch.utils.data.DataLoader(dataset['val'],   batch_size=40, shuffle=False)\n",
        "}\n",
        "\n"
      ],
      "metadata": {
        "id": "cqWdgc8Ktwzh"
      },
      "execution_count": null,
      "outputs": []
    },
    {
      "cell_type": "markdown",
      "source": [
        "#Creamos la RED COMPLETAMENTE CONECTADA. Empleamos el conjunto de entrenamiento y el de validación, para comprobar el desempeño de la red."
      ],
      "metadata": {
        "id": "ki-RXAkCkKFB"
      }
    },
    {
      "cell_type": "code",
      "source": [
        "\n",
        "# CONSTRUIMOS EL MODELO\n",
        "# =====================\n",
        "\n",
        "from sklearn.metrics import accuracy_score\n",
        "\n",
        "def softmax(x):\n",
        "  return torch.exp(x) / torch.exp(x).sum(axis=-1, keepdims=True)\n",
        "\n",
        "# ---------------------------------------------------------------------\n",
        "# Probamos inicialmente con un grid (10x10), por lo que D_in = 100 * 3 canales\n",
        "# Introducimos una capa oculta de 50 neuronas (H = 150)\n",
        "# Finalmente tanteamos una clasificación en 2 clases, según si hay sólo\n",
        "# agentes EMOCIONALES o también MUTANTES (D_out = 2) \n",
        "# ---------------------------------------------------------------------\n",
        "\n",
        "def build_model(D_in=100, H=50, D_out=2):\n",
        "  model = torch.nn.Sequential(\n",
        "      torch.nn.Linear(D_in, H),\n",
        "      torch.nn.ReLU(),\n",
        "      torch.nn.Linear(H, D_out)\n",
        "  )\n",
        "  return model\n",
        "\n",
        "\n",
        "# DEFINIMOS LA FUNCIÓN DE ENTRENAMIENTO\n",
        "# =====================================\n",
        "\n",
        "def fit(model, dataloader, epochs=10, log_each=1):\n",
        "   criterion = torch.nn.CrossEntropyLoss()\n",
        "   optimizer = torch.optim.SGD(model.parameters(), lr=0.8)\n",
        "\n",
        "   l, acc         = [], []\n",
        "   val_l, val_acc = [], []\n",
        "   \n",
        "   for e in range(1, epochs+1):\n",
        "      _l, _acc = [], []\n",
        "      model.train()  # <------------------------------------------ MODO de ENTRENAMIENTO\n",
        "      for x_b, y_b in dataloader['train']:\n",
        "        y_pred = model(x_b)\n",
        "        loss   = criterion(y_pred, y_b)\n",
        "        _l.append(loss.item())\n",
        "\n",
        "        optimizer.zero_grad()\n",
        "        loss.backward()\n",
        "        optimizer.step()\n",
        "\n",
        "        y_probas = torch.argmax(softmax(y_pred), axis=1)\n",
        "        _acc.append(accuracy_score(y_b.numpy(), y_probas.detach().numpy()))\n",
        "\n",
        "      l.append(np.mean(_l))\n",
        "      acc.append(np.mean(_acc))\n",
        "      if not e % log_each:\n",
        "        print(f\"Epoch {e}/{epochs} loss {l[-1]:.5f} acc {acc[-1]:.5f}\")\n",
        "\n",
        "      model.eval()  # <------------------------------------------- MODO de EVALUACIÓN\n",
        "      _l, _acc = [], []\n",
        "      with torch.no_grad():\n",
        "        for x_b, y_b in dataloader['val']:\n",
        "          y_pred = model(x_b)\n",
        "          loss   = criterion(y_pred, y_b)\n",
        "          _l.append(loss.item())\n",
        "          y_probas = torch.argmax(softmax(y_pred), axis=1)\n",
        "          _acc.append(accuracy_score(y_b.numpy(), y_probas.numpy()))\n",
        "      val_l.append(np.mean(_l))\n",
        "      val_acc.append(np.mean(_acc))  \n",
        "\n",
        "   return {'epoch':list(range(1,epochs+1)), 'loss':l, 'acc': acc, 'val_loss': val_l, 'val_acc': val_acc}  \n",
        "\n"
      ],
      "metadata": {
        "id": "ONvGzJfocnfS"
      },
      "execution_count": null,
      "outputs": []
    },
    {
      "cell_type": "code",
      "source": [
        "\n",
        "# INSTANCIAMOS EL MODELO\n",
        "# ======================\n",
        "\n",
        "model  = build_model()\n",
        "hist   = fit(model, dataloader, 10)\n"
      ],
      "metadata": {
        "colab": {
          "base_uri": "https://localhost:8080/"
        },
        "id": "qgCGto6Tzy7m",
        "outputId": "82040ada-f38e-4ba9-dab2-d5be5bfabad3"
      },
      "execution_count": null,
      "outputs": [
        {
          "output_type": "stream",
          "name": "stdout",
          "text": [
            "Epoch 1/10 loss 0.02600 acc 0.99266\n",
            "Epoch 2/10 loss 0.00069 acc 1.00000\n",
            "Epoch 3/10 loss 0.00036 acc 1.00000\n",
            "Epoch 4/10 loss 0.00024 acc 1.00000\n",
            "Epoch 5/10 loss 0.00018 acc 1.00000\n",
            "Epoch 6/10 loss 0.00014 acc 1.00000\n",
            "Epoch 7/10 loss 0.00012 acc 1.00000\n",
            "Epoch 8/10 loss 0.00010 acc 1.00000\n",
            "Epoch 9/10 loss 0.00008 acc 1.00000\n",
            "Epoch 10/10 loss 0.00007 acc 1.00000\n"
          ]
        }
      ]
    },
    {
      "cell_type": "code",
      "source": [
        "\n",
        "# GRAFICAMOS LOS RESULTADOS DEL APRENDIZAJE\n",
        "# =========================================\n",
        "\n",
        "import matplotlib.pyplot as plt\n",
        "\n",
        "fig = plt.figure(dpi=60)\n",
        "ax  = plt.subplot(111)\n",
        "#ax.legend(loc='upper right')\n",
        "pd.DataFrame(hist).plot(x='epoch', grid=True, ax=ax)\n",
        "plt.show()\n"
      ],
      "metadata": {
        "colab": {
          "base_uri": "https://localhost:8080/",
          "height": 237
        },
        "id": "WKkvZmJrrd80",
        "outputId": "1373d1df-c5ed-4e0c-95da-63b3c9fe7a9d"
      },
      "execution_count": null,
      "outputs": [
        {
          "output_type": "display_data",
          "data": {
            "text/plain": [
              "<Figure size 360x240 with 1 Axes>"
            ],
            "image/png": "[encoded data removed]"
          },
          "metadata": {
            "needs_background": "light"
          }
        }
      ]
    },
    {
      "cell_type": "code",
      "source": [
        "\n",
        "# GRAFICAMOS LOS RESULTADOS DEL APRENDIZAJE\n",
        "# =========================================\n",
        "\n",
        "import matplotlib.pyplot as plt\n",
        "\n",
        "fig = plt.figure(dpi=60)\n",
        "#fig = plt.figure(figsize=(10,6))\n",
        "ax  = plt.subplot(111)\n",
        "pd.DataFrame(hist).plot(x='epoch', y=['loss','val_loss'], grid=True, ax=ax)\n",
        "#lt.ylim([0,0.010])\n",
        "plt.show()\n"
      ],
      "metadata": {
        "colab": {
          "base_uri": "https://localhost:8080/",
          "height": 237
        },
        "id": "r5Tn0sMSzy-F",
        "outputId": "1fc095b2-797c-4abc-e263-3ee85e626a0d"
      },
      "execution_count": null,
      "outputs": [
        {
          "output_type": "display_data",
          "data": {
            "text/plain": [
              "<Figure size 360x240 with 1 Axes>"
            ],
            "image/png": "[encoded data removed]"
          },
          "metadata": {
            "needs_background": "light"
          }
        }
      ]
    },
    {
      "cell_type": "code",
      "source": [
        "\n",
        "fig = plt.figure(dpi=60)\n",
        "ax  = plt.subplot(111)\n",
        "pd.DataFrame(hist).plot(x='epoch', y=['acc', 'val_acc'], grid=True, ax=ax)\n",
        "plt.show()\n"
      ],
      "metadata": {
        "colab": {
          "base_uri": "https://localhost:8080/",
          "height": 237
        },
        "id": "vH5Oud3Bmdvh",
        "outputId": "d0cd42a2-cc88-4c65-fb94-c74ac65fbc31"
      },
      "execution_count": null,
      "outputs": [
        {
          "output_type": "display_data",
          "data": {
            "text/plain": [
              "<Figure size 360x240 with 1 Axes>"
            ],
            "image/png": "[encoded data removed]"
          },
          "metadata": {
            "needs_background": "light"
          }
        }
      ]
    },
    {
      "cell_type": "markdown",
      "source": [
        "Representamos algunas de las simulaciones. Las primeras 4000 observaciones del archivo corresponden a mezcla poblacional con AGENTES **Traidores** y **Emocionales**. Si empleamos la casilla de aleatorizar el archivo saldrán aquí mezcladas. Se reconocen fácilmente los emocionales al estar en equilibrio feliz."
      ],
      "metadata": {
        "id": "QIxKiJpkfo7P"
      }
    },
    {
      "cell_type": "markdown",
      "source": [
        "#Cargando el archivo sin aleatorizar representamos algunas de las secuencias de cada tipo de población.\n",
        "\n",
        "· Primero sin mezcla poblacional (todos agentes emocionales)\n",
        "\n",
        "· Segundo introduciendo una población mutante (agentes traidores)\n"
      ],
      "metadata": {
        "id": "NMilFpWFy3kr"
      }
    },
    {
      "cell_type": "code",
      "source": [
        "\n",
        "import matplotlib.pyplot as plt\n",
        "import numpy as np\n",
        "\n",
        "# Dado que las imágenes son una secuencia, cogemos el índice desplazado a saltos\n",
        "# de 40, para coger frames de distintas simulaciones\n",
        "# Si no, con emocionales salen muy parecidos\n",
        "# ------------------------------------------------------------------------------\n",
        "\n",
        "fig = plt.figure(dpi=400)\n",
        "c, r = 10, 10\n",
        "for j in range(r):\n",
        "  for i in range(c):\n",
        "    ix = j*c + i\n",
        "    ax = plt.subplot(r, c, ix + 1)\n",
        "    img   = np.array(df_gris.iloc[ix*40]).reshape(10,10)\n",
        "    label = Y_train[ix*40]\n",
        "    ax.imshow(img)\n",
        "    #ax.set_title(Y_train[ix], fontsize=6)\n",
        "    ax.axis('off')\n",
        "plt.tight_layout()\n",
        "plt.show()    \n",
        "\n"
      ],
      "metadata": {
        "colab": {
          "base_uri": "https://localhost:8080/",
          "height": 908
        },
        "id": "IQo6i-D-f45W",
        "outputId": "50bf738b-109c-4b8d-bc43-6cec1c8a5f98"
      },
      "execution_count": null,
      "outputs": [
        {
          "output_type": "display_data",
          "data": {
            "text/plain": [
              "<Figure size 2400x1600 with 100 Axes>"
            ],
            "image/png": "[encoded data removed]"
          },
          "metadata": {
            "needs_background": "light"
          }
        }
      ]
    },
    {
      "cell_type": "markdown",
      "source": [
        "Las siguientes observaciones hasta las 8000 del archivo corresponden a una población únicamente formada por AGENTES **Emocionales**."
      ],
      "metadata": {
        "id": "N2xIXjq5f5LN"
      }
    },
    {
      "cell_type": "code",
      "source": [
        "\n",
        "import matplotlib.pyplot as plt\n",
        "import numpy as np\n",
        "\n",
        "#plt.imshow(np.array(df_gris.iloc[1000]).reshape(10,10))\n",
        "#plt.show()\n",
        "\n",
        "fig = plt.figure(dpi=400)\n",
        "c, r = 10, 10\n",
        "for j in range(r):\n",
        "  for i in range(c):\n",
        "    ix = j*c + i\n",
        "    ax = plt.subplot(r, c, ix + 1)\n",
        "    img   = np.array(df_gris.iloc[4000 + ix]).reshape(10,10)\n",
        "    label = Y_train[4000 + ix]\n",
        "    ax.imshow(img)\n",
        "    #ax.set_title(Y_train[ix], fontsize=6)\n",
        "    ax.axis('off')\n",
        "plt.tight_layout()\n",
        "plt.show()    \n",
        "\n"
      ],
      "metadata": {
        "id": "DI506iOhmdyA",
        "colab": {
          "base_uri": "https://localhost:8080/",
          "height": 908
        },
        "outputId": "35589802-0b4a-45f9-c3f1-67c391778baf"
      },
      "execution_count": null,
      "outputs": [
        {
          "output_type": "display_data",
          "data": {
            "text/plain": [
              "<Figure size 2400x1600 with 100 Axes>"
            ],
            "image/png": "[encoded data removed]"
          },
          "metadata": {
            "needs_background": "light"
          }
        }
      ]
    },
    {
      "cell_type": "code",
      "source": [],
      "metadata": {
        "id": "v_ipdHHrN2J6"
      },
      "execution_count": null,
      "outputs": []
    },
    {
      "cell_type": "code",
      "source": [],
      "metadata": {
        "id": "ku6oEvMV0pzc"
      },
      "execution_count": null,
      "outputs": []
    }
  ]
}