{
  "nbformat": 4,
  "nbformat_minor": 0,
  "metadata": {
    "colab": {
      "provenance": [],
      "authorship_tag": "ABX9TyMX/fRCNChNHAKLJRjAQhhf",
      "include_colab_link": true
    },
    "kernelspec": {
      "name": "python3",
      "display_name": "Python 3"
    },
    "language_info": {
      "name": "python"
    }
  },
  "cells": [
    {
      "cell_type": "markdown",
      "metadata": {
        "id": "view-in-github",
        "colab_type": "text"
      },
      "source": [
        "<a href=\"https://colab.research.google.com/github/oscarserc/TESIS/blob/main/INTRODUCCI%C3%93N.ipynb\" target=\"_parent\"><img src=\"https://colab.research.google.com/assets/colab-badge.svg\" alt=\"Open In Colab\"/></a>"
      ]
    },
    {
      "cell_type": "markdown",
      "source": [
        "#**ANÁLISIS DE LA CONFLICTIVIDAD EN UNA RED SOCIAL MEDIANTE TÉCNICAS DE INTELIGENCIA ARTIFICIAL y TEORÍA DE JUEGOS**.\n",
        "\n",
        "##***Un estudio basado en métodos de Segmentación de Imágenes***.\n",
        "\n",
        "#**<font color='brown'>· <u>Introducción</u>.</font>**\n",
        "Vivimos en un mundo cada vez más interconectado, donde las comunicaciones juegan un papel de creciente importancia. Esto hecho posibilita que la influencia de unos individuos sobre otros se difunda más facilmente.\n",
        "Como consecuencia de ello nuestra manera de comportarnos, o la forma de interpretar los acontecimientos que nos rodean puede verse alterada por\n",
        "individuos con los que entramos en contacto.\n",
        "\n",
        "Conscientes de ello, todo tipo de actores maliciosos han trasladado su actividad a la red, con la finalidad de conseguir sus propios fines. La proliferación de fenómenos como la difusión de noticias falsas o la creación interesada de estados artificiales de opinión, son un reflejo de los problemas que pueden surgir. En una sociedad avanzada, en la que la opinión pública juega un importante papel, esto puede generar un peligroso efecto de desestabilización.\n",
        "\n",
        "Además, el anonimato en el que se amparan muchas de estas acciones, puede hacer que situaciones como la manipulación y el acoso se vivan de manera mucho más dramática, por la indefensión de la persona que lo sufre.\n",
        "En situaciones como éstas, el temor y la vergüenza de la víctima pueden acabar silenciando e invisibilizando el problema, lo que dificulta su cuantificación, así como su estudio y análisis, y la toma de medidas orientadas a su solución.\n",
        "\n",
        "Por todo ello creemos que la modelización matemática de este tipo de fenómenos puede contribuir decisivamente a combatir dichos comportamientos, así como avanzar en la puesta en marcha de medidas que contribuyan a acabar con estas prácticas.\n",
        "\n",
        "**Con la presente tesis pretendemos abordar el estudio de situaciones de interacción social que conllevan perjuicios intencionados de unos individuos sobre otros, y donde el anonimato desde el que se llevan a cabo juega un papel esencial**.\n",
        "\n",
        "Planteamos, por tanto, el problema de diagnosticar el estado de una red social, detectando situaciones de interacción conflictivas, donde resulta esencial descubrir tanto la naturaleza de los distintos tipos de agentes que operan en ella, como su localización en la red.\n",
        "\n",
        "<figure>\n",
        "<center>\n",
        "<img src='https://github.com/oscarserc/IMAGENES/blob/main/Grid_1a.png?raw=true' width=\"160\"/>\n",
        "<figcaption>fig. 1: Para llevar a cabo el estudio emplearemos redes regulares como la de la imagen. Cada celda es un miembro de la red social, y se relaciona con las celdas vecinas.</figcaption></center>\n",
        "</figure>\n",
        "\n",
        "Los elevados tiempos computacionales que conllevan el análisis de la estructura de una red aconseja explorar otras vías. La opción que hemos elegido para llevar a cabo el proyecto consistirá en la utilización de métodos de aprendizaje automático. En concreto: Redes neuronales.\n",
        "Esto nos permitiría detectar patrones y regularidades en la actividad de la red asociados a la presencia de nodos conflictivos. Esto requerirá la obtención de datos sobre el funcionamiento de la red para entrenar los algoritmos.\n",
        "\n",
        "Los datos que necesitamos provendrán de simulaciones. La elección más adecuada para formalizar la interacción de individuos consistirá en emplear Teoría de Juegos. Los mecanismos de interacción que nos puede proporcionar, nos permitirá generar situaciones lo suficientemente ricas en base a las elecciónes de los distintos jugadores. Esto producirá un determinado estado en cada agente, que podemos asociar con sus emociones. Esta opción es muy conveniente puesto que muchas de las redes sociales actuales (Twitter, China weibo, entro otras) permiten etiquetar emociones de los usuarios.\n",
        "\n",
        "\n",
        "<figure>\n",
        "<center>\n",
        "<img src='https://github.com/oscarserc/IMAGENES/blob/main/Grid_2a_Emociones.png?raw=true' width=\"400\"/>\n",
        "<figcaption>fig. 2: El estado emocional de cada nodo quedará codificado con un color sobre su celda correspondiente.</figcaption></center>\n",
        "</figure>\n",
        "\n",
        "El estudio lo realizaremos sobre redes regulares (grid), y donde cada uno de los nodos pasará a ser representado como un pixel en una cuadrícula. Esto nos permitirá codificar mediante colores el estado emocional de los nodos de la red y generar con esta información una imagen (*Ver fig. 2* ).\n",
        "\n",
        "En resumen: desarrollaremos una primera **fase de SIMULACIÓN** de la red social. Para ello nos serviremos de un modelo de difusión que plantearemos utilizando Teoría de Juegos. La evolución de la actividad de la red quedará registrada como una secuencia de imágenes.\n",
        "\n",
        "<figure>\n",
        "<center>\n",
        "<img src='https://github.com/oscarserc/IMAGENES/blob/main/Resumen_1.png?raw=true' width=\"500\"/>\n",
        "<figcaption>fig. 3: Objetivos del estudio</figcaption></center>\n",
        "</figure>\n",
        "\n",
        "<br></br>\n",
        "\n",
        "A esta fase de simulación le seguirá una **fase de CLASIFICACIÓN de nodos** de la red social. Para ello emplearemos la información previamente generada para entrenar diversas arquitecturas de Redes Neuronales. El objetivo consistirá en enseñar a las redes neuronales la detección y localización de los agentes conflictivos.\n",
        "\n",
        "<br></br>\n"
      ],
      "metadata": {
        "id": "SGnL-jNK0Gk8"
      }
    },
    {
      "cell_type": "markdown",
      "source": [
        "#**<font color='brown'>· <u>Fase I: SIMULACIÓN de la Red Social</u>.</font>**\n",
        "\n",
        "Si observamos el funcionamiento de las redes sociales, vemos que en muchas de ellas se etiqueta (o es posible hacerlo) el estado emocional del usuario. Por ello esta es una vía mediante la que es posible codificar el estado de una red social.\n",
        "\n",
        "Como mecanismo que tenga cierta complejidad y que pueda abarcar algunas de las principales reacciones emocionales hemos elegido un juego de los planteados por la Teoría de Juegos: **El Dilema del Prisionero**. Mediante la dinámica de juego que se establezca entre los agentes de la red, se generará su estado emocional que es lo que registraremos y codificaremos como una secuencia de imágenes.\n",
        "\n",
        "\n",
        "\n",
        "<figure>\n",
        "<center>\n",
        "<img src='https://github.com/oscarserc/IMAGENES/blob/main/Hip%C3%B3tesis_3a.png?raw=true' width=\"500\"/>\n",
        "<figcaption>Proponemos un mecanismo de difusión en la Red basado en las emociones de los agentes. Esto nos permite registrar y generar imágenes de la actividad de la red empleando colores según el estado emocional de cada nodo.</figcaption></center>\n",
        "</figure>\n",
        "\n",
        "En lo que sigue analizamos algunos de los resultados existentes en la literatura que nos permiten diseñar un conjunto de agentes que se interrelacionan en una red social.\n",
        "\n",
        "<br></br>\n",
        "\n",
        "#**1. MECANISMO DE DIFUSIÓN**\n",
        "#**Influencia de las EMOCIONES en las interacciones en una Red Social**.\n",
        "\n",
        "Cuando analizamos el comportamiento de individuos en una Red Social se observan fenómenos llamativos en los cuales las emociones parecen jugar un papel fundamental. Las emociones por ejemplo impulsan la viralización de información <font color='blue'> [Berger, J. \\& Milkman, K. (2011)]</font>.\n",
        "\n",
        "Algunos estudios como el de Framingam, muestran el contagio de las emociones por la red y la creación de clusters: los individuos suelen mostrar, incluso a largo plazo, estados emocionales sintonizados con su vecindario más cercano (ver fig. 1) <font color='blue'> [Fowler, J. H. & Christakis, N. A. (2008)] </font>.\n",
        "\n",
        "\n",
        "<figure>\n",
        "<center>\n",
        "<img src='https://github.com/oscarserc/IMAGENES/blob/main/Framingham_1_A%C3%B1adoLeyenda.png?raw=true' width=\"450\"/>\n",
        "<figcaption>fig. 1: Estados emocionales en una Red Social    [Fowler, J. H. & Christakis, N. A. (2008)]</figcaption></center>\n",
        "</figure>\n",
        "\n",
        "\n",
        "Los trabajos de otros autores han puesto de manifiesto también el papel que tienen las emociones en la toma de decisiones y en la forma de comportarnos <font color='blue'>[Damasio, A.R. (1994)]</font>. Por ello es natural plantearse la posibilidad de que las emociones - con su capacidad de contagio y propagación viral - sean capaces de propiciar la extensión de una determinada conducta (por ejemplo favorecer el surgimiento de estrategias cooperativas).\n",
        "\n",
        "Algunos autores han alertado sobre la utilización cada vez mayor de medios automatizados (*bots*) para influir en el clima de opinión en las redes sociales on-line, y con ello polarizar y alterar el equilibrio de la red social <font color='blue'> [Ferrara, E. et al. (2017)] </font>.\n",
        "\n",
        "Teniendo en cuenta todo lo anterior, nos planteamos la búsqueda de los nodos críticos de una red social. Es decir: Si la información que disponemos de las relaciones entre individuos es su estado emocional, nos interesa encontrar aquellos que determinan el clima emocional que se está generando en la red.\n",
        "\n",
        "\n",
        "<br></br>\n",
        "**Ref**.:\n",
        "\n",
        "[Berger, J. \\& Milkman, K. (2011)] https://jonahberger.com/wp-content/uploads/2013/02/ViralityB.pdf\n",
        "\n",
        "[Damasio, A.R. (1994)] <i>Descartes' error: Emotion, reason and the human brain\n",
        "</i>\n",
        "\n",
        "[Ferrara, E. et al. (2017)] https://arxiv.org/pdf/1407.5225.pdf\n",
        "\n",
        "[Fowler, J. H. & Christakis, N. A. (2008)] https://www.bmj.com/content/bmj/337/bmj.a2338.full.pdf\n",
        "\n"
      ],
      "metadata": {
        "id": "esZEoGyBhve3"
      }
    },
    {
      "cell_type": "code",
      "source": [],
      "metadata": {
        "id": "GwNWrHN-Aduc"
      },
      "execution_count": null,
      "outputs": []
    },
    {
      "cell_type": "code",
      "source": [],
      "metadata": {
        "id": "Eqr3ekAShqBV"
      },
      "execution_count": null,
      "outputs": []
    },
    {
      "cell_type": "markdown",
      "source": [
        "#**2. Objetivos a alcanzar**:\n",
        "\n",
        "A partir del estado emocional de los agentes de una Red Social, nos proponemos encontrar los nodos más influyentes y sobre los que podemos alterar el estado de la Red Social.\n",
        "\n",
        "Esto se concreta en dos OBJETIVOS:\n",
        "\n",
        "1) Construir un modelo con la dinámica emocional de una Red Social, que refleje fenómenos como los constatados por estudios como los mencionados previamente.\n",
        "\n",
        "2) Encontrar los nodos más influyentes. De esta manera, tenemos la posibilidad de inducir un cambio de comportamiento en los individuos de una determinada sociedad, a través de la difusión de emociones por la Red Social.\n",
        "\n",
        "<br></br>\n",
        "\n",
        "\n"
      ],
      "metadata": {
        "id": "Nip4MjwEAWY-"
      }
    },
    {
      "cell_type": "code",
      "source": [],
      "metadata": {
        "id": "cdwvM97VBCdO"
      },
      "execution_count": null,
      "outputs": []
    },
    {
      "cell_type": "code",
      "source": [],
      "metadata": {
        "id": "pdzFo4IHAxi7"
      },
      "execution_count": null,
      "outputs": []
    },
    {
      "cell_type": "markdown",
      "source": [
        "#**3. Metodología**:\n",
        "\n",
        "Procederemos a crear una sociedad artificial simplificada, donde los individuos están interconectados entre sí. Se relacionan mediante un mecanismo sencillo de interacción. En concreto:\n",
        "\n",
        "· Los agentes interaccionan entre sí empleando el conocido como el <b>Dilema del prisionero</b> (Teoría de Juegos). Es un modelo básico de interacción , y se programará estudiando las reacciones emocionales de los agentes ante cada situación particular del juego del Prisionero. Con ello podremos analizar a través del estudio de los juegos iterados, la evolución de la cooperación y el enfrentamiento.\n",
        "\n",
        "<figure>\n",
        "<center>\n",
        "<img src='https://github.com/oscarserc/IMAGENES/blob/main/Dilema_Prisionero.png?raw=true' width=\"250\"/>\n",
        "<figcaption>fig. 2: Matriz de pagos del Dilema del Prisionero</figcaption></center>\n",
        "</figure>\n",
        "\n",
        "· Simularemos el comportamiento en una Red Social regular (en forma de cuadrícula). En la figura 3, vemos un ejemplo. Cada celda representa un agente, y su color e intensidad están relacionados con su estado emocional. La estrategia adoptada aparece señalada cuando es cooperativa ('C').\n",
        "\n",
        "<figure>\n",
        "<center>\n",
        "<img src='https://github.com/oscarserc/IMAGENES/blob/main/VIDEO_1.gif?raw=true' width=\"300\"/>\n",
        "<figcaption>fig. 3: Animación con una secuencia de jugadas al Dilema del Prisionero en una Red Social, representada como una rejilla regular de 10x10 (grid). La letra 'C' indica un agente que decide cooperar.</figcaption></center>\n",
        "</figure>\n",
        "\n",
        "· Emplearemos agentes diseñados para comportarse guiados por sus emociones. Se utilizan técnicas de Aprendizaje por Refuerdo (*Reinforcement* *Learning*). Los agentes toman decisiones basándose en su estado emocional. [Para un análisis más en profundidad ver APENDICE]\n",
        "\n",
        "\n",
        "<br></br>\n",
        "**Modelo de emociones empleado:**\n",
        "\n",
        "1) Las emociones son un mecanismo de refuerzo que facilita el aprendizaje de acciones (<i>aprendizaje instrumental</i>), en determinadas situaciones muy específicas y características de cada emoción <font color='blue'>[Rolls, E.T. (2014)]</font>. Esto nos sirve de base para el empleo de técnicas de Aprendizaje por Refuerzo (<i>Reinforcement Learning</i>).\n",
        "\n",
        "2) Para elaborar un modelo de las emociones simplificado que sea viable computacionalmente, nos basaremos en los trabajos de Robert Plutchick <font color='blue'>[Plutchick, R. (2001)]</font> (ver figura 4).\n",
        "\n",
        "Empleamos 4 emociones básicas <font color='blue'>[Ekman, P. (2004)]</font>, que son las que aparecen en el diagrama derecho de la figura. Vemos que :\n",
        "- Aparecen opuestas dos a dos. Ira/miedo y Alegría/tristeza, ya que sólo se puede sentir una de ellas a la vez\n",
        "- Están representadas sobre ejes ortogonales, ya que sirven para enfrentarnos a dos tipos de situaciones incompatibles: una de enfrentamiento (la ira y el miedo) y otra de cooperación (alegría y tristeza), tal y como plantea el mecanismo de interacción que hemos propuesto (<b>Dilema del Prisionero</b>).\n",
        "\n",
        "<figure>\n",
        "<center>\n",
        "<img src='https://github.com/oscarserc/IMAGENES/blob/main/Plutchick.png?raw=true' width=\"550\"/>\n",
        "<figcaption>fig. 4: Modelo simplificado de la rueda de emociones de Robert Plutchick</figcaption></center>\n",
        "</figure>\n",
        "\n",
        "Las transiciones emocionales de los agentes, resultado del tipo de interacciones que llevan a cabo entre sí están representadas en el siguiente grafo [<i>Para un análisis más en profundidad ver APENDICE</i>].\n",
        "\n",
        "<figure>\n",
        "<center>\n",
        "<img src='https://github.com/oscarserc/IMAGENES/blob/main/grafo_4B_GLOBAL_A%C3%B1ado_Miedo_2.png?raw=true' width=\"700\"/>\n",
        "<figcaption></figcaption></center>\n",
        "</figure>\n",
        "\n",
        "\n",
        "<br></br>\n",
        "**Ref**.:\n",
        "\n",
        "[Ekman, P. (2004)] <i>Emotions revealed</i>\n",
        "\n",
        "[Plutchick, R. (2001)]  The nature of emotions\n",
        "\n",
        "[Rolls, E.T. (2014)]  <i>Emotion and decision-making explained</i>\n",
        "\n"
      ],
      "metadata": {
        "id": "g27Za133AyTa"
      }
    },
    {
      "cell_type": "code",
      "source": [],
      "metadata": {
        "id": "btSFbeYRAxnJ"
      },
      "execution_count": null,
      "outputs": []
    },
    {
      "cell_type": "code",
      "source": [],
      "metadata": {
        "id": "OQKj8J0HhPl2"
      },
      "execution_count": null,
      "outputs": []
    },
    {
      "cell_type": "markdown",
      "source": [
        "#**<font color='brown'>· <u>Fase II: Clasificación de los nodos de la Red Social</u>:**\n",
        "\n",
        "#<font color='brown'>- Entrenamiento de las arquitecturas neuronales</font>\n",
        "#<font color='brown'>- Predicción de nodos</font>\n"
      ],
      "metadata": {
        "id": "g4eQUgW2q-jk"
      }
    },
    {
      "cell_type": "markdown",
      "source": [
        "En esta fase aprovecharemos las secuencias de imágenes generadas en la fase de simulación para entrenar Redes Neuronales. Como han sido generadas por simulación, sabemos en todo momento la identidad y localización de los jugadores, y el objetivo final consiste en aprender a descubrirlo a partir de la actividad emocional de la red que se genera.\n",
        "\n",
        "<figure>\n",
        "<center>\n",
        "<img src='https://github.com/oscarserc/IMAGENES/blob/main/Hip%C3%B3tesis_4a.png?raw=true' width=\"500\"/>\n",
        "<figcaption>Una red entrenada en descifrar los patrones de actividad de una red social nos permitirá detectar y localizar la presencia de agentes conflictivos. La red neuronal recibe como INPUT la actividad emocional de la red social, y devuelve como OUTPUT la predicción sobre la identidad del tipo de jugador que hay en cada nodo.</figcaption></center>\n",
        "</figure>\n",
        "\n",
        "En lo que sigue abordaremos los distintos pasos para conseguir el objetivo que nos hemos propuesto.\n"
      ],
      "metadata": {
        "id": "CHaA-z_4r4wF"
      }
    },
    {
      "cell_type": "code",
      "source": [],
      "metadata": {
        "id": "u2ewhzxsq_Dq"
      },
      "execution_count": null,
      "outputs": []
    },
    {
      "cell_type": "code",
      "source": [],
      "metadata": {
        "id": "ICyI5Qxoq_HL"
      },
      "execution_count": null,
      "outputs": []
    },
    {
      "cell_type": "markdown",
      "source": [
        "#**Objetivos a alcanzar**:\n",
        "\n",
        "Como se ha comentado, el anonimato ha permitido que todo tipo de conductas intolerables se extiendan por redes como Internet.\n",
        "Podemos encontrar  desde grupos de presión que intentar imponer un clima de opinión favorable a sus intereses, pasando por la difusión de noticias falsas, hasta episodios de acoso e intimidación.\n",
        "Por su propia naturaleza, muchos de estas situaciones acaban silenciadas e invisibilizadas. Es por ello que retendemos predecir probabilisticamente la localización de los puntos conflictivos de la red social. Para ello entrenaremos redes neuronales en la tarea de localizar este tipo de agentes."
      ],
      "metadata": {
        "id": "LTMNV4iW4-1n"
      }
    },
    {
      "cell_type": "code",
      "source": [],
      "metadata": {
        "id": "y8cXlIjv4_GK"
      },
      "execution_count": null,
      "outputs": []
    },
    {
      "cell_type": "code",
      "source": [],
      "metadata": {
        "id": "ZVYvj3xb4_JA"
      },
      "execution_count": null,
      "outputs": []
    },
    {
      "cell_type": "markdown",
      "source": [
        "#**PASO 1: SIMULACIÓN DE UNA RED SOCIAL**.\n",
        "\n",
        "En esta fase programamos el mecanismo de interacción junto al tipo de transiciones entre los estados, y llevamos a cabo el juego iterado.\n",
        "Una vez estabilizado el aprendizaje de los agentes podemos ver que algunas regiones del grid, propagan influencia por la red. La cuestión es si podemos determinar los agentes que la provocan y su identidad (traidor, tit-for-tat, etc.) empleando métodos de Aprendizaje Automático.\n",
        "\n",
        "Convertimos el problema en uno de Aprendizaje Supervisado.\n",
        "\n",
        "<figure>\n",
        "<center>\n",
        "<img src='https://github.com/oscarserc/IMAGENES/blob/main/VIDEO_1.gif?raw=true' width=\"300\"/>\n",
        "<figcaption>fig. 4: Animación con una secuencia de jugadas al Dilema del Prisionero en una Red Social, representada como una rejilla regular de 10x10 (grid)</figcaption></center>\n",
        "</figure>\n",
        "\n",
        "Cada agente emplea un mecanismo de aprendizaje que le permite adaptarse a su entorno. En concreto emplearemos algoritmos sencillos de Aprendizaje por Refuerzo como el algoritmo <b>Q-Learning</b>. Pese a no quedar garantizada su convergencia en entornos multiagente, las simulaciones llevadas a cabo presentan buenos resultados. El objetivo del agente consiste en el aprendizaje de la función de decisión Q(s,a), donde los estados 's' aluden a sus estados emocionales, y la acción 'a' alude a la estrategia elegida (Cooperar/No Cooperar). En la figura 5, podemos ver un ejemplo extraido de una de las simulaciones.\n",
        "\n",
        "<figure>\n",
        "<center>\n",
        "<img src='https://github.com/oscarserc/IMAGENES/blob/main/Q_sa_2.png?raw=true' width=\"400\"/>\n",
        "<figcaption>fig. 5: Función de decisión Q(s,a) estimada mediante el aprendizaje por refuerzo, por uno de los agentes empleados en la simulación</figcaption></center>\n",
        "</figure>\n",
        "\n",
        "Se puede comprobar cómo el mecanismo emocional que se ha diseñado representa adecuadamente un proceso viral. Cuando todos los agentes son emocionales, la alegría se extiende por todo el tablero y con ella la cooperación, tal y como podemos comprobar en la siguiente figura.\n",
        "\n",
        "En la siguiente sencuencia podemos observar la evolución que experimenta una población según el número de ciclos que se ha empleado para el aprendizaje de los agentes. Podemos comprobar que el modelo emocional que hemos propuesto, sí puede representar un fenómeno de **viralización**.\n",
        "\n",
        "<center>\n",
        "<table><tr>\n",
        "<td>\n",
        "  <p align=\"center\">\n",
        "    <img src='https://github.com/oscarserc/IMAGENES/blob/main/VIDEO_5a_Todos_emocionales_400ciclos.gif?raw=true' width=\"300\">\n",
        "    <br>\n",
        "    <em style=\"color: white\">400 ciclos</em>\n",
        "  </p>\n",
        "</td>\n",
        "<td>\n",
        "  <p align=\"center\">\n",
        "    <img src='https://github.com/oscarserc/IMAGENES/blob/main/flecha.png?raw=true' width=\"80\">\n",
        "    <br>\n",
        "  </p>\n",
        "</td>\n",
        "<td>\n",
        "  <p align=\"center\">\n",
        "    <img src=\"https://github.com/oscarserc/IMAGENES/blob/main/VIDEO_5b_Todos_emocionales_1000ciclos.gif?raw=true\" width=\"300\">\n",
        "    <br>\n",
        "    <em style=\"color: white\">1000 ciclos</em>\n",
        "  </p>\n",
        "</td>\n",
        "<td>\n",
        "  <p align=\"center\">\n",
        "    <img src=\"https://github.com/oscarserc/IMAGENES/blob/main/flecha.png?raw=true\" width=\"80\">\n",
        "  </p>\n",
        "</td>\n",
        "<td>\n",
        "  <p align=\"center\">\n",
        "    <img src=\"https://github.com/oscarserc/IMAGENES/blob/main/VIDEO_5c_Todos_emocionales_4000ciclos.gif?raw=true\" width=\"300\">\n",
        "    <br>\n",
        "    <em style=\"color: white\">4000 ciclos</em>\n",
        "  </p>\n",
        "</td>\n",
        "</tr></table>\n",
        "\n",
        "\n",
        "\n",
        "\n",
        "\n",
        "\n"
      ],
      "metadata": {
        "id": "oquKrQYf_xUG"
      }
    },
    {
      "cell_type": "markdown",
      "source": [
        "En concreto podemos observar en la figura 6, a lo largo de la secuencia de aprendizaje, cómo se va imponiendo el estado 'Alegre' y la cooperación.\n",
        "\n",
        "<figure>\n",
        "<center>\n",
        "<img src='https://github.com/oscarserc/IMAGENES/blob/main/Grafico_emociones_colores_correctos.png?raw=true' width=\"800\"/>\n",
        "<figcaption>fig. 6: Acumulación de reacciones emocionales, y cooperaciones según evoluciona el entrenamiento</figcaption></center>\n",
        "</figure>"
      ],
      "metadata": {
        "id": "id_ZLRL1Vi2u"
      }
    },
    {
      "cell_type": "markdown",
      "source": [
        "Si representamos mediante un grafo las transiciones entre estados aparecen en la figura 7 (el grosor de cada arco representa la frecuencia con que se ha presentado).\n",
        "\n",
        "<figure>\n",
        "<center>\n",
        "<img src='https://github.com/oscarserc/IMAGENES/blob/main/Grafo_emociones_1.png?raw=true' width=\"500\"/>\n",
        "<figcaption>fig. 7: Acumulación de reacciones emocionales, y cooperaciones obtenidas en la simulación</figcaption></center>\n",
        "</figure>"
      ],
      "metadata": {
        "id": "cJ8fMjeBlXpu"
      }
    },
    {
      "cell_type": "markdown",
      "source": [
        "En las siguientes animaciones podemos observar el resultado de varias simulaciones. En todas ellas se han llevado a cabo 4000 ciclos de entrenamiento. En la a) y b) se observa ya un escenario muy estable y en el que se aprecian algunas destellos que se desplazan por todo el tablero.\n",
        "\n",
        "En la simulación central (simulación b), a diferencia de las otras dos, tenemos un mayor número de agentes emocionales. En estado emocional alegre se extiende por todo buena parte del tablero, al igual que la cooperación.\n",
        "\n",
        "La simulación c es más llamativa, ya que pasa de un estado de ira en un gran número de celdas a otro más calmado, lo que sugiere que existen ciertas condiciones que puedan facilitar la desescalada del conflicto en el tablero.\n",
        "\n",
        "<br>\n",
        "\n",
        "<center>\n",
        "<table><tr>\n",
        "<td>\n",
        "  <p align=\"center\">\n",
        "    <img src='https://github.com/oscarserc/IMAGENES/blob/main/VIDEO_1.gif?raw=true' width=\"300\">\n",
        "    <br>\n",
        "    <em style=\"color: white\">Simulación a</em>\n",
        "  </p>\n",
        "</td>\n",
        "<td>\n",
        "  <p align=\"center\">\n",
        "    <img src=\"https://github.com/oscarserc/IMAGENES/blob/main/VIDEO_2.gif?raw=true\" width=\"300\">\n",
        "    <br>\n",
        "    <em style=\"color: white\">Simulación b</em>\n",
        "  </p>\n",
        "</td>\n",
        "<td>\n",
        "  <p align=\"center\">\n",
        "    <img src=\"https://github.com/oscarserc/IMAGENES/blob/main/VIDEO_3.gif?raw=true\" width=\"300\">\n",
        "    <br>\n",
        "    <em style=\"color: white\">Simulación c</em>\n",
        "  </p>\n",
        "</td>\n",
        "</tr></table>\n"
      ],
      "metadata": {
        "id": "3rFVkTyolMpX"
      }
    },
    {
      "cell_type": "markdown",
      "source": [
        "En concreto introdujimos un parámetro de desescalada, que favorezca el salir del estado de enfrentamiento, en el cual la ira predomina. En la siguiente figura aparecen los resultados tras proceder a llevar a cabo un gran número de realizaciones de la simulación, en diferentes condiciones (porcentaje de agentes no cooperadores y parámetro β).\n",
        "\n",
        "<figure>\n",
        "<center>\n",
        "<img src='https://github.com/oscarserc/IMAGENES/blob/main/Estudio_parametro_de_desescalada_1a.png?raw=true' width=\"600\"/>\n",
        "<figcaption>fig. 8: Estudio del parámetro de desescalada (β)</figcaption></center>\n",
        "</figure>\n",
        "\n",
        "<br></br>\n",
        "\n",
        "Si analizamos el nivel de cooperación cuando progresivamente se añade una proporción de agentes mutantes no cooperadores, observamos una drástica reducción del nivel de cooperación en la red (fig. 9b).\n",
        "\n",
        "<figure>\n",
        "<center>\n",
        "<img src='https://github.com/oscarserc/IMAGENES/blob/main/COOPERACION__pMutantes_vs_UmbralCoop_1a.png?raw=true' width=\"400\"/>\n",
        "<figcaption>fig. 9b: Estudio del nivel de cooperación al introducir una cierta proporción de agentes mutantes traidores (Se evalúa a distintos niveles de cooperación exigida en el vecindario, a la que el agente considera cooperativo el entorno).</figcaption></center>\n",
        "</figure>\n",
        "\n",
        "<br></br>\n",
        "\n",
        "Si cambiamos los incentivos del juego, el efecto se traslada igualmente al nivel de cooperación. Para ello alteramos el agente emocional para que tome decisiones basándose tanto en su sistema de refuerzos emocionales, como con las recompensas del juego. Es decir, ahora la recompensa que maneja el algoritmo de aprendizaje utiliza alguna proporción de los incentivos del juego (*Dilema del Prisionero*):\n",
        "\n",
        "\n",
        "$r = \\lambda \\cdot r_{emocional} \\; + \\;(1-\\lambda) \\cdot r_{juego} $\n",
        "\n",
        "<figure>\n",
        "<center>\n",
        "<img src='https://github.com/oscarserc/IMAGENES/blob/main/Evolucion_segun_lambda_1b.png?raw=true' width=\"1000\"/>\n",
        "<figcaption>fig. 9c: Para λ = 0, el agente se guía exclusivamente por los incentivos del juego.</figcaption></center>\n",
        "</figure>\n",
        "\n",
        "<br></br>\n",
        "\n",
        "\n",
        "\n"
      ],
      "metadata": {
        "id": "oQFTsEHQqTjn"
      }
    },
    {
      "cell_type": "code",
      "source": [],
      "metadata": {
        "id": "0AxC1OCpBDY0"
      },
      "execution_count": null,
      "outputs": []
    },
    {
      "cell_type": "code",
      "source": [],
      "metadata": {
        "id": "gcNPNUVtBDce"
      },
      "execution_count": null,
      "outputs": []
    },
    {
      "cell_type": "markdown",
      "source": [
        "#**PASO 2: Creación de un ARCHIVO con los datos de las Simulaciones**.\n",
        "\n",
        "El procedimiento empleado para generar la Simulación y representar gráficamente su evolución consiste en emplear colores para cada emoción.\n",
        "- Verde (alegría)\n",
        "- Rojo (ira)\n",
        "- Azul (miedo)\n",
        "- Gris (tristeza)\n",
        "\n",
        "Su intensidad varía según se presenten en mayor o menor medida los factores que la generan (*por ejemplo la alegría se intensifica con la cooperación, y la ira se incrementa con la estrategia contraria*).\n",
        "\n",
        "<figure>\n",
        "<center>\n",
        "<img src='https://github.com/oscarserc/IMAGENES/blob/main/rgb_2a.png?raw=true' width=\"650\"/>\n",
        "<figcaption>fig. 10: Extracción de la información en formato RGB, tras convertir la matriz en un vector de 1 dimensión</figcaption></center>\n",
        "</figure>\n",
        "\n",
        "<br></br>\n",
        "\n",
        "Los colores son traducidos a números, en concreto valores RGB (red, green, blue) y se guardan en una estructura de datos de la librería PANDAS. En concreto: un dataframe. Posteriormente se pueden ir añadiendo las columnas que identifican la simulación y el número de frame. El <b>Target</b> se genera según el tipo de técnica (clasificación, segmentación, etc.) que se vaya a emplear para analizar los datos, y la arquitectura de red neuronal que se vaya a emplear.\n",
        "\n",
        "<figure>\n",
        "<center>\n",
        "<img src='https://github.com/oscarserc/IMAGENES/blob/main/Archivo_C.png?raw=true' width=\"850\"/>\n",
        "<figcaption>fig. 4: Simulaciones guardadas en un Data Frame</figcaption></center>\n",
        "</figure>\n",
        "\n",
        "El archivo incorpora la información obtenida en sucesivas simulaciones. Cada simulación queda etiquetada numéricamente de tal manera que se puede identificar (columna: <b>Simulación_ID</b>). En concreto de cada simulación se guardan 40 ciclos (frames), que quedan identificados en su respectiva columna (<b>Frame</b>)."
      ],
      "metadata": {
        "id": "lKyebxvf0Guy"
      }
    },
    {
      "cell_type": "code",
      "source": [],
      "metadata": {
        "id": "n_geUznlBETl"
      },
      "execution_count": null,
      "outputs": []
    },
    {
      "cell_type": "code",
      "source": [],
      "metadata": {
        "id": "uSTu38EUBEWc"
      },
      "execution_count": null,
      "outputs": []
    },
    {
      "cell_type": "markdown",
      "source": [
        "#**PASO 3: Clasificación de agentes en la red social mediante técnicas de Aprendizaje Automático** (Visión por Computadora).\n",
        "\n",
        "Una vez que hemos generado mediante simulación una gran cantidad de secuencias del tipo de dinámica que las emociones crean en una Red Social, nos interesa descubrir el tipo de agente que se oculta en cada nodo. Para ello emplearemos técnicas de Visión por Computadora, especialmente <b>técnicas de segmentación</b> de imágenes.\n",
        "\n",
        "<figure>\n",
        "<center>\n",
        "<img src='https://github.com/oscarserc/IMAGENES/blob/main/Segmentacion_1a.png?raw=true' width=\"650\"/>\n",
        "<figcaption>fig. 12a: En la imagen de la izquierda vemos los elementos que nos interesa detectar. A la derecha aparece la misma imagen ya segmentada. Las técnicas de segmentación buscan separar cada uno de los elementos que existen en la imagen (<i>imagen: Facebook AI research</i>).</figcaption></center>\n",
        "</figure>\n",
        "\n",
        "<figure>\n",
        "<center>\n",
        "<img src='https://github.com/oscarserc/IMAGENES/blob/main/SEGMENTACION_1c.png?raw=true' width=\"1050\"/>\n",
        "<figcaption>fig. 12b: En el fondo, un problema de segmentar imágenes consiste en un problema de clasificación, en el que se clasifican todos y cada uno de los pixeles de la imagen. Podemos plantearlo como un Aprendizaje supervisado, entrenando una red neuronal con imágenes y sus píxeles anotados por clases como salida de la red.</figcaption></center>\n",
        "</figure>\n",
        "\n",
        "<br></br>\n",
        "\n",
        "Un ejemplo lo vemos en la figura 12. Cuando se emplean técnicas de segmentación a nivel de pixel, nos encontramos ante el reto de clasificar a todos y cada uno de los píxeles de la imagen. En la medida en que estamos representando mediante imágenes el comportamiento de la Red Social, y cada <b>pixel/nodo</b> es un <b>agente</b>, este procedimiento nos puede ser de utilidad para clasificar a los agentes en una red regular como la que estamos manejando.\n",
        "\n",
        "<br></br>\n",
        "\n",
        "<i>Deep Learning for Generic Object Detection: A Survey</i>  https://arxiv.org/pdf/1809.02165.pdf\n",
        "\n"
      ],
      "metadata": {
        "id": "jC2GYOom0G6D"
      }
    },
    {
      "cell_type": "markdown",
      "source": [
        "#· CLASIFICACIÓN de IMÁGENES\n",
        "\n",
        "En nuestro caso la clasificación de imágenes se traduce en poder discriminar el tipo de agentes que están interactuando en la red.\n",
        "\n",
        "<figure>\n",
        "<center>\n",
        "<img src='https://github.com/oscarserc/IMAGENES/blob/main/Clasificacion_1a.png?raw=true' width=\"450\"/>\n",
        "<figcaption>fig. 13: Problema de clasificación aplicado a la detección de agentes influyentes en la red.</figcaption></center>\n",
        "</figure>\n",
        "\n",
        "<br></br>\n",
        "\n",
        "En este caso el target especifica el tipo de mezcla poblacional que genera la simulación. Emplearíamos una variable categórica: 0 (todos agentes emocionales), 1 (agentes emocionales y agentes traidores), etc.\n",
        "\n",
        "<figure>\n",
        "<center>\n",
        "<img src='https://github.com/oscarserc/IMAGENES/blob/main/Target_a.png?raw=true' width=\"350\"/>\n",
        "<figcaption>fig. 4: Simulaciones guardadas en un Data Frame</figcaption></center>\n",
        "</figure>\n"
      ],
      "metadata": {
        "id": "pBTjp7eDQpsj"
      }
    },
    {
      "cell_type": "markdown",
      "source": [
        "#· SEGMENTACIÓN DE IMÁGENES\n",
        "\n",
        "En este caso vamos aún más alla, y pretendemos no sólo detectar algunos tipos de agentes que puedan existir en la Red Social. Ahora el emplear técnicas de segmentación de imágenes permite que el algoritmo funcione como un clasificador de todos y cada uno de los pixeles de la imagen (nodos de la red social). El target utiliza un array con la identidad de todos los agentes.\n",
        "\n",
        "<figure>\n",
        "<center>\n",
        "<img src='https://github.com/oscarserc/IMAGENES/blob/main/Clasificacion_2a_segm.png?raw=true' width=\"450\"/>\n",
        "<figcaption>fig. 15: Problema de segmentación sobre una imagen de la actividad de la red. Interesa clasificar a todos y cada uno de los nodos (pixeles)</figcaption></center>\n",
        "</figure>\n",
        "\n",
        "<br></br>\n",
        "\n",
        "Segmentar una imagen (ver fig. 12) es en realidad un problema de clasificación en el que han de ser clasificados todos y cada uno de los pixeles según el elemento al que pertenecen.\n",
        "\n",
        "Si tenemos en cuenta que estamos representando la actividad de una Red Social mediante imágenes, podemos plantearnos si es posible traducir esta información en la detección de los tipos de agentes de la Red. Para esta tarea tendremos que disponer como <b>target</b> del grupo de pertenencia de cada agente (ver fig. 16). Esta información tendremos que guardarla para guiar el proceso de aprendizaje.\n",
        "\n",
        "<figure>\n",
        "<center>\n",
        "<img src='https://github.com/oscarserc/IMAGENES/blob/main/Target_b.png?raw=true' width=\"550\"/>\n",
        "<figcaption>fig. 4: Simulaciones guardadas en un Data Frame</figcaption></center>\n",
        "</figure>\n"
      ],
      "metadata": {
        "id": "hq44FMnKQsvb"
      }
    },
    {
      "cell_type": "markdown",
      "source": [
        "#**<font color='brown'>· <u>RESULTADOS</u>.</font>**\n",
        "\n",
        "Podemos resumir esquematicamente tanto los objetivos, como la metodología y las aportaciones que hemos llevado a cabo, y que quedan reflejados en la Tesis Doctoral en el siguiene esquema.\n",
        "\n",
        "<figure>\n",
        "<center>\n",
        "<img src='https://github.com/oscarserc/IMAGENES/blob/main/Esquema_1e.png?raw=true' width=\"1050\"/>\n",
        "<figcaption>fig. 4: Esquema con la estructura de la investigación</figcaption></center>\n",
        "</figure>\n",
        "\n",
        "El resultado de la comparación entre las diferentes arquitecturas neuronales se presentará posteriormente.\n"
      ],
      "metadata": {
        "id": "wF6AhhkfWtgV"
      }
    },
    {
      "cell_type": "code",
      "source": [],
      "metadata": {
        "id": "5vriVFZjALHN"
      },
      "execution_count": null,
      "outputs": []
    },
    {
      "cell_type": "code",
      "source": [],
      "metadata": {
        "id": "iIDy3ClOoKOi"
      },
      "execution_count": null,
      "outputs": []
    },
    {
      "cell_type": "code",
      "source": [],
      "metadata": {
        "id": "bPoNnVcLALKl"
      },
      "execution_count": null,
      "outputs": []
    }
  ]
}