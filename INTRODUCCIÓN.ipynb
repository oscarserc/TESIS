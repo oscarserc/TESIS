{
  "nbformat": 4,
  "nbformat_minor": 0,
  "metadata": {
    "colab": {
      "provenance": [],
      "authorship_tag": "ABX9TyM2NrhaGxhYSKGjSnzdHM5V",
      "include_colab_link": true
    },
    "kernelspec": {
      "name": "python3",
      "display_name": "Python 3"
    },
    "language_info": {
      "name": "python"
    }
  },
  "cells": [
    {
      "cell_type": "markdown",
      "metadata": {
        "id": "view-in-github",
        "colab_type": "text"
      },
      "source": [
        "<a href=\"https://colab.research.google.com/github/oscarserc/TESIS/blob/main/INTRODUCCI%C3%93N.ipynb\" target=\"_parent\"><img src=\"https://colab.research.google.com/assets/colab-badge.svg\" alt=\"Open In Colab\"/></a>"
      ]
    },
    {
      "cell_type": "markdown",
      "source": [
        "\n",
        "#**ANÁLISIS DEL ACOSO EN UNA RED SOCIAL MEDIANTE TÉCNICAS DE INTELIGENCIA ARTIFICIAL y TEORÍA DE JUEGOS**.\n",
        "\n",
        "##***Un estudio basado en métodos de Segmentación de Imágenes con Redes Neuronales***.\n",
        "\n",
        "<br></br>\n"
      ],
      "metadata": {
        "id": "pAvymlBVI_yS"
      }
    },
    {
      "cell_type": "markdown",
      "source": [
        "\n",
        "\n",
        "#**<font color='brown'>· <u>Introducción</u>.</font>**\n",
        "Las redes sociales han ido ocupando progresivamente un espacio cada vez mayor en muchas áreas de nuestra vida, provocando que desarrollemos una parte importante de nuestras interacciones en este mundo virtual.\n",
        "Esta virtualización de las relaciones sociales permite ocultarnos detrás de una identidad distinta a aquello que somos. El anonimato permite aflorar la vanidad que llevamos dentro por ejemplo (presentándonos como mucho más de lo que somos) sin mayores consecuencias. Sin embargo, también facilita que aparezcan otro tipo de conductas mucho más indeseables y dañinas, como puede ser el ciberbulling y el acoso.\n",
        "\n",
        "Esta ocultación de la identidad que hemos mencionado, puede conducir a una peligrosa situación: el anonimato provoca la indefensión de la víctima, lo que lleva al silencio y la invisibilización del problema, así como a la impunidad del agresor. El objetivo deseable consistiría en localizar los puntos de la red donde se sitúan los agresores.\n",
        "Una posible vía de solución consistiría en aprovechar el papel que juegan las emociones. Pese a que la victima oculte su situación a su entorno, sus emociones son una vía de escape que acabará reflejando su situación interior y revelando en parte su situación personal.\n",
        "\n",
        "<br>\n",
        "\n",
        "<b>Problema a resolver</b>.\n",
        "\n",
        "El problema que acabamos de plantear será el tema central de la tesis que vamos a desarrollar, y que se puede resumir en que:\n",
        "<i>Dada una red social donde los individuos enteractúan entre sí, y donde algunos de ellos se dedican a acosar a los demás desde el anonimato, ser capaz de detectar su presencia y localizar su posición en la red. Las acciones de todos ellos quedan ocultas, pero las emociones quedan reflejadas en el estado de cada nodo. Si tenemos en cuenta algunos estudios sobre el efecto contagio de las emociones, podemos aprovechar el modo en que éstas pueden extender sus efectos localmente para modelizar matemáticamente el funcionamiento de una red social.</i>\n",
        "\n",
        "<br></br>\n",
        "\n",
        "<figure>\n",
        "<center>\n",
        "<img src='https://github.com/oscarserc/IMAGENES/blob/main/Grafo_1a.png?raw=true' width=\"460\"/>\n",
        "<figcaption>fig. 1b: Representación de una red social mediante un grafo. </figcaption></center>\n",
        "</figure>\n",
        "\n",
        "<br></br>\n",
        "\n",
        "Desde el punto de vista matemático la forma más inmediata de representar una red social, es a través de un grafo: un conjunto de nodos unidos por aristas. Y para poder localizar los nodos en las condiciones que hemos planteado, se podrían emplear técnicas clásicas sobre la difusión de información en una red. Este es, sin embargo, un problema que algorítmicamente puede volverse intratable computacionalmente, cuando la red es suficientemente grande.\n",
        "\n",
        "Nuestro objetivo consistirá en plantear innovaciones metodológicas que sean computacionalmente tratables, y que permitan resolver el problema que hemos planteado. La existencia de redes con etiquetado emocional (<i>como Tweeter [ahora X] o China Weibo</i> ), y la creciente aplicación de técnicas de análisis de sentimientos puede facilitar la recolección de este tipo de información en una Red Social. El estudio lo llevaremos a cabo con el tipo de red más sencilla, para posteriormente evaluar la posible extensión al caso más general.\n",
        "\n",
        "<br>\n",
        "\n",
        "<b>Vía de investigación</b>.\n",
        "1) En primer lugar generaremos una simulación que refleje el funcionamiento de una red social. La red de partida será una red regular (rejilla o grid), y emplearemos vías formalizadas de interacción entre individuos como las que plantea la Teoría de Juegos, en concreto 'El dilema del prisionero iterado' (<i>ver fig. 1</i> ). Este es un juego en el que la incertidumbre sobre las intenciones del otro jugador ejerce un papel esencial, y que tiene la suficiente sencillez para ser tratable, pero a la vez la suficiente complejidad como para reflejar las más importantes situaciones que nos podamos encontrar (cooperar, enfrentarse, traicionar, etc. y las emociones asociadas).\n",
        "\n",
        "2) La parte de resolución recaerá en modernas técnicas de Inteligencia Artificial. En concreto emplearemos Redes Neuronales, con las que procesaremos la actividad que hemos simulado en la fase anterior, con el fin de detectar patrones emocionales y regularidades propias de la actividad de los agresores en la red.\n"
      ],
      "metadata": {
        "id": "gQQxFtAVDOWi"
      }
    },
    {
      "cell_type": "markdown",
      "source": [
        "\n",
        "  <p align=\"center\">\n",
        "    <img src=\"https://github.com/oscarserc/IMAGENES/blob/main/VIDEO_3.gif?raw=true\" width=\"300\">\n",
        "    <br>\n",
        "    <em style=\"color: white\">fig. 1: Ferviente actividad social en un tablero. Es una red regular, y cada celda corresponde a un individuo. Los colores representan el estado emocional de cada celda, y se generan mediante un modelo de interrelación que plantearemos. El modelo de interacción que utilizaremos se basa en un juego: <b>El dilema del Prisionero</b\n",
        "    >. La cooperación del jugador en cada ronda aparece marcada como '<b>c</b>'. El uso de este juego será la vía elegida para representar una Red Social, y sobre la que desarrollaremos el estudio que quedará plasmado en la Tesis.</em>\n",
        "  </p>\n",
        "\n",
        "<br>"
      ],
      "metadata": {
        "id": "rAwFueubDQIx"
      }
    },
    {
      "cell_type": "markdown",
      "source": [
        "El objetivo final consistirá en obtener la clasificación de todas y cada uno de las celdas de la cuadrícula en los distintos tipos de jugador con los que ha sido entrenada la red. De esta manera podemos localizar los individuos acosadores. A través del entrenamiento la red irá aprendienco a predecir la situación de los agentes que nos interesan (<i>ver figura 2</i> ).\n",
        "\n",
        "</br>\n",
        "\n",
        "  <p align=\"center\">\n",
        "    <img src=\"https://github.com/oscarserc/IMAGENES/blob/main/Target_INTRO_1b.png?raw=true\" width=\"540\">\n",
        "    <br>\n",
        "    <em style=\"color: white\">fig. 2: Las REDES NEURONALES serán entrenadas con secuencias de la actividad emocional de la red como las de la figura 1. Durante el entrenamiento, estos inputs irán acompañados de la salida (target) que ha de generar la red con el menor número posible de errores. Vemos que se corresponde con la identidad de los agentes (<b>0</b>: agente normal, <b>1</b>: agente acosador), que en modo entrenamiento conocemos perfectamente al haber sido generada la actividad por simulación. Una vez entrenada la red neuronal, seremos capaces de generar una predicción sobre la identidad de cada agente de la red social a partir de una muestra de la actividad emocional en la red.</em>\n",
        "  </p>\n",
        "\n",
        "<br>\n"
      ],
      "metadata": {
        "id": "lYX1zyn5pahd"
      }
    },
    {
      "cell_type": "markdown",
      "source": [
        "\n",
        "En la investigación nos centraremos en la utilización de algunas de las arquitecturas de redes neuronales que han proporcionado mejores resultados en áreas como la <b><i>Visión por Computadora</i></b> y el <b><i>Procesamiento del Lenguaje Natural (NLP)</i></b> (Ver fig. 3).\n"
      ],
      "metadata": {
        "id": "Td8NVkTYD6gj"
      }
    },
    {
      "cell_type": "markdown",
      "source": [
        "\n",
        "\n",
        "\n",
        "<br></br>\n",
        "\n",
        "<figure>\n",
        "<center>\n",
        "<img src='https://github.com/oscarserc/IMAGENES/blob/main/Modelos_Arquitectura_1a.png?raw=true' width=\"550\"/>\n",
        "<figcaption>fig. 3: Arquitecturas que emplearemos para lleva a cabo el estudio (clasificadas según el área habitual de aplicación). Analizaremos arquitecturas basadas en Redes Neuronales Convolucionales (CNN - <i>Convolutional Neural Networks</i> ) y en Transformers.</figcaption></center>\n",
        "</figure>\n",
        "\n",
        "<br></br>\n",
        "\n",
        "\n",
        "<br>\n",
        "\n"
      ],
      "metadata": {
        "id": "gJc6Z-3ZIFRO"
      }
    },
    {
      "cell_type": "markdown",
      "source": [
        "Arquitecturas basadas en el Transformer han ido evolucionando progresivamente para optimizar el procesamiento paralelo de la información y lograr mejores tiempos de ejecución."
      ],
      "metadata": {
        "id": "7pdaw4KnlPH0"
      }
    }
  ]
}