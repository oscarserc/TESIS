{
  "nbformat": 4,
  "nbformat_minor": 0,
  "metadata": {
    "colab": {
      "provenance": [],
      "collapsed_sections": [],
      "authorship_tag": "ABX9TyPUa2F1h5OreP+L/wSjO+ic",
      "include_colab_link": true
    },
    "kernelspec": {
      "name": "python3",
      "display_name": "Python 3"
    },
    "language_info": {
      "name": "python"
    }
  },
  "cells": [
    {
      "cell_type": "markdown",
      "metadata": {
        "id": "view-in-github",
        "colab_type": "text"
      },
      "source": [
        "<a href=\"https://colab.research.google.com/github/oscarserc/TESIS/blob/main/INTRODUCCI%C3%93N.ipynb\" target=\"_parent\"><img src=\"https://colab.research.google.com/assets/colab-badge.svg\" alt=\"Open In Colab\"/></a>"
      ]
    },
    {
      "cell_type": "markdown",
      "source": [
        "#**Influencia de las EMOCIONES en las interacciones en una Red Social**.\n",
        "\n",
        "Cuando analizamos el comportamiento de individuos en una Red Social se observan fenómenos llamativos en los cuales las emociones parecen jugar un papel fundamental. Las emociones por ejemplo impulsan la viralización de información <font color='blue'> [Berger, J. \\& Milkman, K. (2011)]</font>.\n",
        "\n",
        "Algunos estudios como el de Framingam, muestran el contagio de las emociones por la red y la creación de clusters: los individuos suelen mostrar, incluso a largo plazo, estados emocionales sintonizados con su vecindario más cercano (ver fig. 1) <font color='blue'> [Fowler, J. H. & Christakis, N. A. (2008)] </font>.\n",
        "\n",
        "\n",
        "<figure>\n",
        "<center>\n",
        "<img src='https://github.com/oscarserc/IMAGENES/blob/main/Framingham_1_A%C3%B1adoLeyenda.png?raw=true' width=\"450\"/>\n",
        "<figcaption>fig. 1: Estados emocionales en una Red Social    [Fowler, J. H. & Christakis, N. A. (2008)]</figcaption></center>\n",
        "</figure>\n",
        "\n",
        "\n",
        "Los trabajos de otros autores han puesto de manifiesto también el papel que tienen las emociones en la toma de decisiones y en la forma de comportarnos <font color='blue'>[Damasio, A.R. (1994)]</font>. Por ello es natural plantearse la posibilidad de que las emociones - con su capacidad de contagio y propagación viral - sean capaces de propiciar la extensión de una determinada conducta (por ejemplo favorecer el surgimiento de estrategias cooperativas).\n",
        "\n",
        "Algunos autores han alertado sobre la utilización cada vez mayor de medios automatizados (*bots*) para influir en el clima de opinión en las redes sociales on-line, y con ello polarizar y alterar el equilibrio de la red social <font color='blue'> [Ferrara, E. et al. (2017)] </font>.\n",
        "\n",
        "Teniendo en cuenta todo lo anterior, nos planteamos la búsqueda de los nodos críticos de una red social. Es decir: Si la información que disponemos de las relaciones entre individuos es su estado emocional, nos interesa encontrar aquellos que determinan el clima emocional que se está generando en la red.\n",
        "\n",
        "\n",
        "<br></br>\n",
        "**Ref**.:\n",
        "\n",
        "[Berger, J. \\& Milkman, K. (2011)] https://jonahberger.com/wp-content/uploads/2013/02/ViralityB.pdf\n",
        "\n",
        "[Damasio, A.R. (1994)] <i>Descartes' error: Emotion, reason and the human brain\n",
        "</i>\n",
        "\n",
        "[Ferrara, E. et al. (2017)] https://arxiv.org/pdf/1407.5225.pdf\n",
        "\n",
        "[Fowler, J. H. & Christakis, N. A. (2008)] https://www.bmj.com/content/bmj/337/bmj.a2338.full.pdf\n"
      ],
      "metadata": {
        "id": "SGnL-jNK0Gk8"
      }
    },
    {
      "cell_type": "code",
      "source": [],
      "metadata": {
        "id": "Ul5LnmqUAdc1"
      },
      "execution_count": null,
      "outputs": []
    },
    {
      "cell_type": "code",
      "source": [],
      "metadata": {
        "id": "GwNWrHN-Aduc"
      },
      "execution_count": null,
      "outputs": []
    },
    {
      "cell_type": "markdown",
      "source": [
        "#**PROBLEMA A RESOLVER**: \n",
        "\n",
        "A partir del estado emocional de los agentes de una Red Social, nos proponemos encontrar los nodos más influyentes y sobre los que podemos alterar el estado de la Red Social.\n",
        "\n",
        "Esto se concreta en dos OBJETIVOS:\n",
        "\n",
        "1) Construir un modelo con la dinámica emocional de una Red Social, que refleje fenómenos como los constatados por estudios como los mencionados previamente.\n",
        "\n",
        "2) Encontrar los nodos más influyentes. De esta manera, tenemos la posibilidad de inducir un cambio de comportamiento en los individuos de una determinada sociedad, a través de la difusión de emociones por la Red Social.\n",
        "\n",
        "<br></br>\n",
        "\n",
        "\n"
      ],
      "metadata": {
        "id": "Nip4MjwEAWY-"
      }
    },
    {
      "cell_type": "code",
      "source": [],
      "metadata": {
        "id": "cdwvM97VBCdO"
      },
      "execution_count": null,
      "outputs": []
    },
    {
      "cell_type": "code",
      "source": [],
      "metadata": {
        "id": "pdzFo4IHAxi7"
      },
      "execution_count": null,
      "outputs": []
    },
    {
      "cell_type": "markdown",
      "source": [
        "#**PROCEDIMIENTO**:\n",
        "\n",
        "Procederemos a crear una sociedad artificial simplificada, donde los individuos están interconectados entre sí. Se relacionan mediante un mecanismo sencillo de interacción. En concreto:\n",
        "\n",
        "· Los agentes interaccionan entre sí empleando el conocido como el <b>Dilema del prisionero</b> (Teoría de Juegos). Es un modelo básico de interacción , y se programará estudiando las reacciones emocionales de los agentes ante cada situación particular del juego del Prisionero. Con ello podremos analizar a través del estudio de los juegos iterados, la evolución de la cooperación y el enfrentamiento.\n",
        "\n",
        "<figure>\n",
        "<center>\n",
        "<img src='https://github.com/oscarserc/IMAGENES/blob/main/Dilema_Prisionero.png?raw=true' width=\"250\"/>\n",
        "<figcaption>fig. 2: Matriz de pagos del Dilema del Prisionero</figcaption></center>\n",
        "</figure>\n",
        "\n",
        "· Simularemos el comportamiento en una Red Social regular (en forma de cuadrícula). En la figura 3, vemos un ejemplo. Cada celda representa un agente, y su color e intensidad están relacionados con su estado emocional. La estrategia adoptada aparece señalada cuando es cooperativa ('C').\n",
        "\n",
        "<figure>\n",
        "<center>\n",
        "<img src='https://github.com/oscarserc/IMAGENES/blob/main/VIDEO_1.gif?raw=true' width=\"300\"/>\n",
        "<figcaption>fig. 3: Animación con una secuencia de jugadas al Dilema del Prisionero en una Red Social, representada como una rejilla regular de 10x10 (grid). La letra 'C' indica un agente que decide cooperar.</figcaption></center>\n",
        "</figure>\n",
        "\n",
        "· Emplearemos agentes diseñados para comportarse guiados por sus emociones. Se utilizan técnicas de Aprendizaje por Refuerdo (*Reinforcement* *Learning*). Los agentes toman decisiones basándose en su estado emocional. [Para un análisis más en profundidad ver APENDICE]\n",
        "\n",
        "\n",
        "<br></br>\n",
        "**Modelo de emociones empleado:**\n",
        "\n",
        "1) Las emociones son un mecanismo de refuerzo que facilita el aprendizaje de acciones (<i>aprendizaje instrumental</i>), en determinadas situaciones muy específicas y características de cada emoción <font color='blue'>[Rolls, E.T. (2014)]</font>. Esto nos sirve de base para el empleo de técnicas de Aprendizaje por Refuerzo (<i>Reinforcement Learning</i>).\n",
        "\n",
        "2) Para elaborar un modelo de las emociones simplificado que sea viable computacionalmente, nos basaremos en los trabajos de Robert Plutchick <font color='blue'>[Plutchick, R. (2001)]</font> (ver figura 4). \n",
        "\n",
        "Empleamos 4 emociones básicas <font color='blue'>[Ekman, P. (2004)]</font>, que son las que aparecen en el diagrama derecho de la figura. Vemos que :\n",
        "- Aparecen opuestas dos a dos. Ira/miedo y Alegría/tristeza, ya que sólo se puede sentir una de ellas a la vez\n",
        "- Están representadas sobre ejes ortogonales, ya que sirven para enfrentarnos a dos tipos de situaciones incompatibles: una de enfrentamiento (la ira y el miedo) y otra de cooperación (alegría y tristeza), tal y como plantea el mecanismo de interacción que hemos propuesto (<b>Dilema del Prisionero</b>).\n",
        "\n",
        "<figure>\n",
        "<center>\n",
        "<img src='https://github.com/oscarserc/IMAGENES/blob/main/Plutchick.png?raw=true' width=\"550\"/>\n",
        "<figcaption>fig. 4: Modelo simplificado de la rueda de emociones de Robert Plutchick</figcaption></center>\n",
        "</figure>\n",
        "\n",
        "Las transiciones emocionales de los agentes, resultado del tipo de interacciones que llevan a cabo entre sí están representadas en el siguiente grafo [<i>Para un análisis más en profundidad ver APENDICE</i>]. \n",
        "\n",
        "<figure>\n",
        "<center>\n",
        "<img src='https://github.com/oscarserc/IMAGENES/blob/main/grafo_4B_GLOBAL_A%C3%B1ado_Miedo_2.png?raw=true' width=\"700\"/>\n",
        "<figcaption></figcaption></center>\n",
        "</figure>\n",
        "\n",
        "\n",
        "<br></br>\n",
        "**Ref**.:\n",
        "\n",
        "[Ekman, P. (2004)] <i>Emotions revealed</i>\n",
        "\n",
        "[Plutchick, R. (2001)]  The nature of emotions\n",
        "\n",
        "[Rolls, E.T. (2014)]  <i>Emotion and decision-making explained</i>\n",
        "\n"
      ],
      "metadata": {
        "id": "g27Za133AyTa"
      }
    },
    {
      "cell_type": "code",
      "source": [],
      "metadata": {
        "id": "btSFbeYRAxnJ"
      },
      "execution_count": null,
      "outputs": []
    },
    {
      "cell_type": "code",
      "source": [],
      "metadata": {
        "id": "OQKj8J0HhPl2"
      },
      "execution_count": null,
      "outputs": []
    },
    {
      "cell_type": "markdown",
      "source": [
        "#**PASO 1: SIMULACIÓN DE UNA RED SOCIAL**.\n",
        "\n",
        "En esta fase programamos el mecanismo de interacción junto al tipo de transiciones entre los estados, y llevamos a cabo el juego iterado.\n",
        "Una vez estabilizado el aprendizaje de los agentes podemos ver que algunas regiones del grid, propagan influencia por la red. La cuestión es si podemos determinar los agentes que la provocan y su identidad (traidor, tit-for-tat, etc.) empleando métodos de Aprendizaje Automático.\n",
        "\n",
        "Convertimos el problema en uno de Aprendizaje Supervisado.\n",
        "\n",
        "<figure>\n",
        "<center>\n",
        "<img src='https://github.com/oscarserc/IMAGENES/blob/main/VIDEO_1.gif?raw=true' width=\"300\"/>\n",
        "<figcaption>fig. 4: Animación con una secuencia de jugadas al Dilema del Prisionero en una Red Social, representada como una rejilla regular de 10x10 (grid)</figcaption></center>\n",
        "</figure>\n",
        "\n",
        "Cada agente emplea un mecanismo de aprendizaje que le permite adaptarse a su entorno. En concreto emplearemos algoritmos sencillos de Aprendizaje por Refuerzo como el algoritmo <b>Q-Learning</b>. Pese a no quedar garantizada su convergencia en entornos multiagente, las simulaciones llevadas a cabo presentan buenos resultados. El objetivo del agente consiste en el aprendizaje de la función de decisión Q(s,a), donde los estados 's' aluden a sus estados emocionales, y la acción 'a' alude a la estrategia elegida (Cooperar/No Cooperar). En la figura 5, podemos ver un ejemplo extraido de una de las simulaciones.\n",
        "\n",
        "<figure>\n",
        "<center>\n",
        "<img src='https://github.com/oscarserc/IMAGENES/blob/main/Q_sa_2.png?raw=true' width=\"400\"/>\n",
        "<figcaption>fig. 5: Función de decisión Q(s,a) estimada mediante el aprendizaje por refuerzo, por uno de los agentes empleados en la simulación</figcaption></center>\n",
        "</figure>\n",
        "\n",
        "Se puede comprobar cómo el mecanismo emocional que se ha diseñado representa adecuadamente un proceso viral. Cuando todos los agentes son emocionales, la alegría se extiende por todo el tablero y con ella la cooperación, tal y como podemos comprobar en la siguiente figura.\n",
        "\n",
        "En la siguiente sencuencia podemos observar la evolución que experimenta una población según el número de ciclos que se ha empleado para el aprendizaje de los agentes. Podemos comprobar que el modelo emocional que hemos propuesto, sí puede representar un fenómeno de **viralización**.\n",
        "\n",
        "<center>\n",
        "<table><tr>\n",
        "<td> \n",
        "  <p align=\"center\">\n",
        "    <img src='https://github.com/oscarserc/IMAGENES/blob/main/VIDEO_5a_Todos_emocionales_400ciclos.gif?raw=true' width=\"300\">\n",
        "    <br>\n",
        "    <em style=\"color: white\">400 ciclos</em>\n",
        "  </p> \n",
        "</td>\n",
        "<td> \n",
        "  <p align=\"center\">\n",
        "    <img src='https://github.com/oscarserc/IMAGENES/blob/main/flecha.png?raw=true' width=\"80\">\n",
        "    <br>\n",
        "  </p> \n",
        "</td>\n",
        "<td> \n",
        "  <p align=\"center\">\n",
        "    <img src=\"https://github.com/oscarserc/IMAGENES/blob/main/VIDEO_5b_Todos_emocionales_1000ciclos.gif?raw=true\" width=\"300\">\n",
        "    <br>\n",
        "    <em style=\"color: white\">1000 ciclos</em>\n",
        "  </p> \n",
        "</td>\n",
        "<td> \n",
        "  <p align=\"center\">\n",
        "    <img src=\"https://github.com/oscarserc/IMAGENES/blob/main/flecha.png?raw=true\" width=\"80\">\n",
        "  </p> \n",
        "</td>\n",
        "<td> \n",
        "  <p align=\"center\">\n",
        "    <img src=\"https://github.com/oscarserc/IMAGENES/blob/main/VIDEO_5c_Todos_emocionales_4000ciclos.gif?raw=true\" width=\"300\">\n",
        "    <br>\n",
        "    <em style=\"color: white\">4000 ciclos</em>\n",
        "  </p> \n",
        "</td>\n",
        "</tr></table>\n",
        "\n",
        "\n",
        "\n",
        "\n",
        "\n",
        "\n"
      ],
      "metadata": {
        "id": "oquKrQYf_xUG"
      }
    },
    {
      "cell_type": "markdown",
      "source": [
        "En concreto podemos observar en la figura 6, a lo largo de la secuencia de aprendizaje, cómo se va imponiendo el estado 'Alegre' y la cooperación.\n",
        "\n",
        "<figure>\n",
        "<center>\n",
        "<img src='https://github.com/oscarserc/IMAGENES/blob/main/Grafico_emociones_colores_correctos.png?raw=true' width=\"800\"/>\n",
        "<figcaption>fig. 6: Acumulación de reacciones emocionales, y cooperaciones según evoluciona el entrenamiento</figcaption></center>\n",
        "</figure>"
      ],
      "metadata": {
        "id": "id_ZLRL1Vi2u"
      }
    },
    {
      "cell_type": "markdown",
      "source": [
        "Si representamos mediante un grafo las transiciones entre estados aparecen en la figura 7 (el grosor de cada arco representa la frecuencia con que se ha presentado).\n",
        "\n",
        "<figure>\n",
        "<center>\n",
        "<img src='https://github.com/oscarserc/IMAGENES/blob/main/Grafo_emociones_1.png?raw=true' width=\"500\"/>\n",
        "<figcaption>fig. 7: Acumulación de reacciones emocionales, y cooperaciones obtenidas en la simulación</figcaption></center>\n",
        "</figure>"
      ],
      "metadata": {
        "id": "cJ8fMjeBlXpu"
      }
    },
    {
      "cell_type": "markdown",
      "source": [
        "En las siguientes animaciones podemos observar el resultado de varias simulaciones. En todas ellas se han llevado a cabo 4000 ciclos de entrenamiento. En la a) y b) se observa ya un escenario muy estable y en el que se aprecian algunas destellos que se desplazan por todo el tablero. \n",
        "\n",
        "En la simulación central (simulación b), a diferencia de las otras dos, tenemos un mayor número de agentes emocionales. En estado emocional alegre se extiende por todo buena parte del tablero, al igual que la cooperación.\n",
        "\n",
        "La simulación c es más llamativa, ya que pasa de un estado de ira en un gran número de celdas a otro más calmado, lo que sugiere que existen ciertas condiciones que puedan facilitar la desescalada del conflicto en el tablero.\n",
        "\n",
        "<br>\n",
        "\n",
        "<center>\n",
        "<table><tr>\n",
        "<td> \n",
        "  <p align=\"center\">\n",
        "    <img src='https://github.com/oscarserc/IMAGENES/blob/main/VIDEO_1.gif?raw=true' width=\"300\">\n",
        "    <br>\n",
        "    <em style=\"color: white\">Simulación a</em>\n",
        "  </p> \n",
        "</td>\n",
        "<td> \n",
        "  <p align=\"center\">\n",
        "    <img src=\"https://github.com/oscarserc/IMAGENES/blob/main/VIDEO_2.gif?raw=true\" width=\"300\">\n",
        "    <br>\n",
        "    <em style=\"color: white\">Simulación b</em>\n",
        "  </p> \n",
        "</td>\n",
        "<td> \n",
        "  <p align=\"center\">\n",
        "    <img src=\"https://github.com/oscarserc/IMAGENES/blob/main/VIDEO_3.gif?raw=true\" width=\"300\">\n",
        "    <br>\n",
        "    <em style=\"color: white\">Simulación c</em>\n",
        "  </p> \n",
        "</td>\n",
        "</tr></table>\n"
      ],
      "metadata": {
        "id": "3rFVkTyolMpX"
      }
    },
    {
      "cell_type": "markdown",
      "source": [
        "En concreto introdujimos un parámetro de desescalada, que favorezca el salir del estado de enfrentamiento, en el cual la ira predomina. En la siguiente figura aparecen los resultados tras proceder a llevar a cabo un gran número de realizaciones de la simulación, en diferentes condiciones (porcentaje de agentes no cooperadores y parámetro β).\n",
        "\n",
        "<figure>\n",
        "<center>\n",
        "<img src='https://github.com/oscarserc/IMAGENES/blob/main/Estudio_parametro_de_desescalada_1a.png?raw=true' width=\"600\"/>\n",
        "<figcaption>fig. 8: Estudio del parámetro de desescalada (β)</figcaption></center>\n",
        "</figure>"
      ],
      "metadata": {
        "id": "oQFTsEHQqTjn"
      }
    },
    {
      "cell_type": "code",
      "source": [],
      "metadata": {
        "id": "0AxC1OCpBDY0"
      },
      "execution_count": null,
      "outputs": []
    },
    {
      "cell_type": "code",
      "source": [],
      "metadata": {
        "id": "gcNPNUVtBDce"
      },
      "execution_count": null,
      "outputs": []
    },
    {
      "cell_type": "markdown",
      "source": [
        "#**PASO 2: Creación de un ARCHIVO con los datos de las Simulaciones**.\n",
        "\n",
        "El procedimiento empleado para generar la Simulación y representar gráficamente su evolución consiste en emplear colores para cada emoción. \n",
        "- Verde (alegría)\n",
        "- Rojo (ira)\n",
        "- Azul (miedo)\n",
        "- Gris (tristeza)\n",
        "\n",
        "Su intensidad varía según se presenten en mayor o menor medida los factores que la generan (*por ejemplo la alegría se intensifica con la cooperación, y la ira se incrementa con la estrategia contraria*).\n",
        "\n",
        "Los colores son traducidos a números, en concreto valores RGB (red, green, blue) y se guardan en una estructura de datos de la librería PANDAS. En concreto: un dataframe. Posteriormente se pueden ir añadiendo las columnas que identifican la simulación y el número de frame. El <b>Target</b> se genera según el tipo de técnica (clasificación, segmentación, etc.) que se vaya a emplear para analizar los datos, y la arquitectura de red neuronal que se vaya a emplear.\n",
        "\n",
        "<figure>\n",
        "<center>\n",
        "<img src='https://github.com/oscarserc/IMAGENES/blob/main/Archivo_C.png?raw=true' width=\"850\"/>\n",
        "<figcaption>fig. 4: Simulaciones guardadas en un Data Frame</figcaption></center>\n",
        "</figure>\n",
        "\n",
        "El archivo incorpora la información obtenida en sucesivas simulaciones. Cada simulación queda etiquetada numéricamente de tal manera que se puede identificar (columna: <b>Simulación_ID</b>). En concreto de cada simulación se guardan 40 ciclos (frames), que quedan identificados en su respectiva columna (<b>Frame</b>)."
      ],
      "metadata": {
        "id": "lKyebxvf0Guy"
      }
    },
    {
      "cell_type": "code",
      "source": [],
      "metadata": {
        "id": "n_geUznlBETl"
      },
      "execution_count": null,
      "outputs": []
    },
    {
      "cell_type": "code",
      "source": [],
      "metadata": {
        "id": "uSTu38EUBEWc"
      },
      "execution_count": null,
      "outputs": []
    },
    {
      "cell_type": "markdown",
      "source": [
        "#**PASO 3: Búsqueda de agentes influyentes en la red mediante técnicas de Aprendizaje Automático**."
      ],
      "metadata": {
        "id": "jC2GYOom0G6D"
      }
    },
    {
      "cell_type": "markdown",
      "source": [
        "#· CLASIFICACIÓN de IMÁGENES\n",
        "\n",
        "En este caso el target especifica el tipo de mezcla poblacional que genera la simulación. Emplearíamos una variable categórica: 0 (todos agentes emocionales), 1 (agentes emocionales y agentes traidores), etc.\n",
        "\n",
        "<figure>\n",
        "<center>\n",
        "<img src='https://github.com/oscarserc/IMAGENES/blob/main/Target_a.png?raw=true' width=\"350\"/>\n",
        "<figcaption>fig. 4: Simulaciones guardadas en un Data Frame</figcaption></center>\n",
        "</figure>\n"
      ],
      "metadata": {
        "id": "pBTjp7eDQpsj"
      }
    },
    {
      "cell_type": "markdown",
      "source": [
        "#· SEGMENTACIÓN DE IMÁGENES\n",
        "\n",
        "En este caso vamos aún más alla, y pretendemos no sólo detectar algunos tipos de agentes que puedan existir en la Red Social. Ahora el emplear técnicas de segmentación de imágenes permite que el algoritmo funcione como un clasificador de todos y cada uno de los pixeles de la imagen (nodos de la red social). El target utiliza un array con la identidad de todos los agentes.\n",
        "\n",
        "<figure>\n",
        "<center>\n",
        "<img src='https://github.com/oscarserc/IMAGENES/blob/main/Target_b.png?raw=true' width=\"550\"/>\n",
        "<figcaption>fig. 4: Simulaciones guardadas en un Data Frame</figcaption></center>\n",
        "</figure>\n"
      ],
      "metadata": {
        "id": "hq44FMnKQsvb"
      }
    },
    {
      "cell_type": "markdown",
      "source": [
        "#· LOCALIZACIÓN DE OBJETOS"
      ],
      "metadata": {
        "id": "wF6AhhkfWtgV"
      }
    },
    {
      "cell_type": "code",
      "source": [],
      "metadata": {
        "id": "5vriVFZjALHN"
      },
      "execution_count": null,
      "outputs": []
    },
    {
      "cell_type": "code",
      "source": [],
      "metadata": {
        "id": "bPoNnVcLALKl"
      },
      "execution_count": null,
      "outputs": []
    }
  ]
}