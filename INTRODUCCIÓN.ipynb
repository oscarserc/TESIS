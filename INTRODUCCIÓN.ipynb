{
  "nbformat": 4,
  "nbformat_minor": 0,
  "metadata": {
    "colab": {
      "provenance": [],
      "authorship_tag": "ABX9TyMSEFRvkuDIgB00mvLKtftC",
      "include_colab_link": true
    },
    "kernelspec": {
      "name": "python3",
      "display_name": "Python 3"
    },
    "language_info": {
      "name": "python"
    }
  },
  "cells": [
    {
      "cell_type": "markdown",
      "metadata": {
        "id": "view-in-github",
        "colab_type": "text"
      },
      "source": [
        "<a href=\"https://colab.research.google.com/github/oscarserc/TESIS/blob/main/INTRODUCCI%C3%93N.ipynb\" target=\"_parent\"><img src=\"https://colab.research.google.com/assets/colab-badge.svg\" alt=\"Open In Colab\"/></a>"
      ]
    },
    {
      "cell_type": "markdown",
      "source": [
        "#**ANÁLISIS DE LA CONFLICTIVIDAD EN UNA RED SOCIAL MEDIANTE TÉCNICAS DE INTELIGENCIA ARTIFICIAL y TEORÍA DE JUEGOS**.\n",
        "\n",
        "##***Un estudio basado en métodos de Segmentación de Imágenes con Redes Neuronales***.\n",
        "\n",
        "<br></br>\n",
        "**INDICE**\n",
        "\n",
        "· Introducción\n",
        "\n",
        "· FASE I : Simulación de una Red Social\n",
        "\n",
        "   1. Mecanismo de difusión: Emociones\n",
        "   2. Objetivos a alcanzar\n",
        "   3. Metodología\n",
        "\n",
        "· FASE II: Clasificación de los nodos de la Red Social\n",
        "\n",
        "   1. Detección de agentes conflictivos: Técnicas de Segmentación de imágenes\n",
        "   2. Objetivos a alcanzar\n",
        "   3. Metodología\n",
        "\n",
        "\n",
        "· IMPLEMENTACIÓN\n",
        "\n",
        "   <font color='white'>1.     </font>PASO 1: Simulación de la Red Social en Python\n",
        "\n",
        "   <font color='white'>2.     </font>PASO 2: Generación de una Base de Datos con simulaciones\n",
        "\n",
        "   <font color='white'>3.     </font>PASO 3: Clasificación de los nodos de la Red Social\n",
        "\n",
        "· RESULTADOS\n",
        "\n",
        "<br></br>"
      ],
      "metadata": {
        "id": "JTUeqma1ctls"
      }
    },
    {
      "cell_type": "code",
      "source": [],
      "metadata": {
        "id": "mkfhD48wcpMY"
      },
      "execution_count": null,
      "outputs": []
    },
    {
      "cell_type": "code",
      "source": [],
      "metadata": {
        "id": "HgA0luHqcsEH"
      },
      "execution_count": null,
      "outputs": []
    },
    {
      "cell_type": "markdown",
      "source": [
        "\n",
        "\n",
        "#**<font color='brown'>· <u>Introducción</u>.</font>**\n",
        "Vivimos en un mundo cada vez más interconectado, donde las comunicaciones juegan un papel de creciente importancia. Esto hecho posibilita que la influencia de unos individuos sobre otros se difunda más facilmente.\n",
        "Como consecuencia de ello nuestra manera de comportarnos, o la forma de interpretar los acontecimientos que nos rodean puede verse alterada por\n",
        "individuos con los que entramos en contacto.\n",
        "\n",
        "Conscientes de ello, todo tipo de actores maliciosos han trasladado su actividad a la red, con la finalidad de conseguir sus propios fines. La proliferación de fenómenos como la difusión de noticias falsas o la creación interesada de estados artificiales de opinión, son un reflejo de los problemas que pueden surgir. En una sociedad avanzada, en la que la opinión pública juega un importante papel, esto puede generar un peligroso efecto de desestabilización.\n",
        "\n",
        "Además, el anonimato en el que se amparan muchas de estas acciones, puede hacer que situaciones como la manipulación y el acoso se vivan de manera mucho más dramática, por la indefensión de la persona que lo sufre.\n",
        "En situaciones como éstas, el temor y la vergüenza de la víctima pueden acabar silenciando e invisibilizando el problema, lo que dificulta su estudio y análisis, así como la toma de medidas orientadas a su solución.\n",
        "\n",
        "Por todo ello creemos que la modelización matemática de este tipo de fenómenos puede contribuir decisivamente a cuantificar la extensión de la conflictividad en una red social, así como avanzar en la puesta en marcha de medidas que contribuyan a acabar con prácticas abusivas como el acoso.\n",
        "\n",
        "<br></br>\n",
        "\n",
        "<figure>\n",
        "<center>\n",
        "<img src='https://github.com/oscarserc/IMAGENES/blob/main/Acoso_1a.png?raw=true' width=\"660\"/>\n",
        "<figcaption>fig. 1a: El anonimato que caracteriza muchas de las interacciones que se realizan en una red social supone todo un reto a la hora de evitar la propagación de actitudes conflictivas que dañen a personas inocentes. (<i>Dibujo: <font color='blue'>https://stock.adobe.com/</font><i/>) </figcaption></center>\n",
        "</figure>\n",
        "\n",
        "<br></br>\n",
        "\n",
        "A continuación pasamos a detallar con mayor precisión el problema que nos hemos propuesto resolver, y los detalles específicos que nos servirán de base para la modelización matemática.\n",
        "\n",
        "<br></br>\n",
        "\n",
        "**<U>OBJETIVO</U>**.\n",
        "\n",
        "**Con la presente tesis pretendemos abordar el estudio de situaciones de interacción social que conllevan perjuicios intencionados de unos individuos sobre otros, y donde el anonimato desde el que se llevan a cabo juega un papel esencial**.\n",
        "\n",
        "Planteamos, por tanto, el problema de diagnosticar el estado de una red social, detectando situaciones de interacción conflictivas, donde resulta esencial descubrir tanto la naturaleza de los distintos tipos de agentes que operan en ella, como su localización en la red.\n",
        "\n",
        "\n",
        "<br></br>\n",
        "\n",
        "<figure>\n",
        "<center>\n",
        "<img src='https://github.com/oscarserc/IMAGENES/blob/main/Grafo_1a.png?raw=true' width=\"460\"/>\n",
        "<figcaption>fig. 1b: Un grafo (como el que aparece en la imagen) es la estructura que representa una red social. Los algoritmos que conllevan el análisis de las relaciones puede hacer impracticable la computación. </figcaption></center>\n",
        "</figure>\n",
        "\n",
        "<br></br>\n",
        "\n",
        "La estructura que puede representar una red social es un grafo (ver imagen 1b).\n",
        "Sin embargo, el elevado tiempo computacional que conlleva su análisis algorítmico, aconseja explorar otras vías. Nos centraremos en aportar innovaciones metodológicas en este sentido. Para ello empezaremos con el estudio de las redes regulares que son las más sencillas (fig. 1c).\n",
        "\n",
        "<br></br>\n",
        "\n",
        "<figure>\n",
        "<center>\n",
        "<img src='https://github.com/oscarserc/IMAGENES/blob/main/Grafo_regular_1a.png?raw=true' width=\"460\"/>\n",
        "<figcaption>fig. 1c: Un grafo regular representado como una cuadrícula. </figcaption></center>\n",
        "</figure>\n",
        "\n",
        "<br></br>\n",
        "\n",
        "\n",
        "La opción que hemos elegido para llevar a cabo el proyecto consistirá en la utilización de métodos de **Aprendizaje Automático**. En concreto: Redes neuronales.\n",
        "\n",
        "La utilización de este tipo de técnicas requiere disponer de ejemplos del funcionamiento del sistema que se pretende analizar. Esto permitirá al modelo que se va a construir, detectar patrones y regularidades en la actividad del sistema. La finalidad en nuestro caso: detectar la presencia de nodos conflictivos. Por ello necesitaremos previamente simular el sistema.\n",
        "\n",
        "<br></br>\n",
        "\n",
        "**A) <u>Simulación de una Red Social</u>**.\n",
        "\n",
        "El primer desafío al que nos enfrentamos es el de simular el funcionamiento de una Red Social. La representación de la actividad de la red es el reto inicial que debemos resolver en este sentido.\n",
        "\n",
        "Lo más adecuado podría consistir en representar la actividad de la red registrando el estado de cada agente en cada momento, y para ello emplearíamos algún tipo de propiedad que se pueda ligar a las interacciones que tiene con los agentes con los que entra en contacto. Una posible respuesta podría consistir en la utilización de <b>emociones</b>. Muchas de las redes sociales (<i>Twitter, China Weibo, entro otras</i> ) tienen alguna forma de etiquetado emocional del usuario, y existen técnicas de análisis de sentimientos que permiten lograr así mismo dicho objetivo.\n",
        "\n",
        "El siguiente reto consistirá en encontrar alguna vía de generar el estado emocional de los agentes. Podríamos emplear para ello, algún tipo de juego como mecanismo de interacción. Las distintas situaciones que podrían aparecer, según la acción de cada agente, servirían como desencadenante de la respuesta emocional (<i>sentirse correspondido induciría alegría, verse traicionado provocaría ira, etc</i> ).\n",
        "\n",
        "La rama matemática conocida como **Teoría de Juegos** proporciona abundantes esquemas formalizados de interacción de este tipo que podrían servirnos. De entre todos ellos hemos elegido **<i>El Dilema del Prisionero</i>**, tal y como analizaremos posteriormente. Los agentes, además, podrían guiarse por algún tipo de estrategia particular, como puede ser la de acosar y aprovecharse de los demás sistemáticamente. Nuestro objetivo consistirá en identificar la presencia de este tipo de jugadores y su localización en la red.\n",
        "\n",
        "<br></br>\n",
        "\n",
        "<figure>\n",
        "<center>\n",
        "<img src='https://github.com/oscarserc/IMAGENES/blob/main/Grid_2a.png?raw=true' width=\"160\"/>\n",
        "<figcaption>fig. 1: Para llevar a cabo el estudio emplearemos redes regulares como la de la imagen. Cada celda es un miembro de la red social, y se relaciona con las celdas vecinas. Como mecanismo de interacción emplean un juego: <b>El dilema del Prisionero</b>. En la figura podemos ver algunas celdas que han desarrollado una estrategia (<b>C</b>)ooperativa. Posteriormente, dependiendo de la respuesta de sus celdas vecinas se desencadenará su reacción emocional.</figcaption></center>\n",
        "</figure>\n",
        "\n",
        "<br></br>\n",
        "\n",
        "El estudio lo llevaremos a cabo inicialmente sobre redes regulares (<i>ver rejilla regular o grid de la fig.1</i> ), por lo que cada uno de los nodos pasará a ser representado como un pixel en una cuadrícula. Esto nos permitirá codificar mediante colores el estado emocional de los nodos de la red y generar con esta información una imagen (*Ver fig. 2* ).\n",
        "\n",
        "<br></br>\n",
        "\n",
        "<figure>\n",
        "<center>\n",
        "<img src='https://github.com/oscarserc/IMAGENES/blob/main/Grid_2a_Emociones.png?raw=true' width=\"400\"/>\n",
        "<figcaption>fig. 2: El estado emocional de cada nodo quedará codificado con un color sobre su celda correspondiente, y lo determinan las interacciones que lleva a cabo con sus celdas vecinas durante el juego. La intensidad del color dependerá del número de celdas vecinas que impulsen su reacción emocional.</figcaption></center>\n",
        "</figure>\n",
        "\n",
        "<br></br>\n",
        "\n",
        "En resumen: desarrollaremos una primera **fase de SIMULACIÓN** de la red social. Para lo cual nos serviremos de un modelo de difusión que plantearemos, que utiliza herramientas de  Teoría de Juegos, y en el que las emociones juegan un papel central. Además la conducta del agente tendrá cierto componente inteligente, para lo cual emplearemos <b><i>Aprendizaje por Refuerzo</i></b> (en concreto el algoritmo <b><i>Q-Learning</i></b>). El resultado de todo ello será la simulación de la actividad de una red social, cuya evolución quedará registrada como una secuencia de imágenes.\n",
        "\n",
        "<br></br>\n",
        "\n",
        "\n",
        "**B) <u>Clasificación de los nodos de la Red Social</u>**.\n",
        "\n",
        "A esta fase de simulación le seguirá una **fase de CLASIFICACIÓN de nodos** de la red social. Para ello emplearemos la información previamente generada para entrenar diversas arquitecturas de Redes Neuronales. El objetivo consistirá en enseñar a las redes neuronales la detección y localización de los agentes conflictivos (<i>ver fig. 2b</i> ).\n",
        "\n",
        "<br></br>\n",
        "\n",
        "<figure>\n",
        "<center>\n",
        "<img src='https://github.com/oscarserc/IMAGENES/blob/main/Input_Output_1a.png?raw=true' width=\"500\"/>\n",
        "<figcaption>fig. 2b: Entrenaremos diferentes arquitecturas de Redes Neuronales para predecir probabilísticamente la naturaleza de cada nodo de la red social, a partir de la dinámica emocional detectada. En la imagen podemos ver la detección y localización de varios acosadores en la red social. Plantearíamos el problema como uno de clasificación binaria de todos los nodos de la red (Valores \"<b>O</b>\": <i>nodos emocionales normales</i>, \"<b>1</b>\": <i>nodos abusadores</i> ).</figcaption></center>\n",
        "</figure>\n",
        "\n",
        "<br></br>\n",
        "\n",
        "Utilizaremos arquitecturas neuronales especializadas en el tratamiento de imágenes y también de secuencias. Estas arquitecturas se han desarrollado en el área de la Visión por Computadora, y en el área del Lenguaje.\n",
        "\n",
        "<br></br>\n",
        "\n",
        "**<u>ESQUEMA RESUMEN</u>.**\n",
        "\n",
        "Las áreas de conocimiento en que desarrollaremos la tesis aparecen resaltadas en el gráfico siguiente. Utilizaremos técnicas de Aprendizaje Automático, empleando aprendizaje por refuerzo para optimizar la conducta de los agentes (tal y como se detallará posteriormente) y redes neuronales para analizar la secuencia de imágenes que generan las simulaciones (<i>fig. 3a</i> ).\n",
        "\n",
        "<br></br>\n",
        "\n",
        "<figure>\n",
        "<center>\n",
        "<img src='https://github.com/oscarserc/IMAGENES/blob/main/IA_Esquema_1b.png?raw=true' width=\"550\"/>\n",
        "<figcaption>fig. 3a: Esquema con algunas de las áreas que constituyen la Inteligencia Artificial (adaptado de: <font color='blue'>Prince, Simon J. D. (2023)</font>.). Sobre dicho esquema aparecen señaladas las zonas en que desarrollaremos la investigación: Aprendizaje por refuerzo (para la parte de simulación) y Aprendizaje Supervisado (para la parte de segmentación de imágenes).</figcaption></center>\n",
        "</figure>\n",
        "\n",
        "<br></br>\n",
        "\n",
        "En la <i>figura 3b</i> podemos ver un esquema simplificado de la estructura de la Tesis con algunas de las ideas que se desarrollan más abajo.\n",
        "\n",
        "<br></br>\n",
        "\n",
        "<figure>\n",
        "<center>\n",
        "<img src='https://github.com/oscarserc/IMAGENES/blob/main/Resumen_1.png?raw=true' width=\"500\"/>\n",
        "<figcaption>fig. 3b: Objetivos del estudio</figcaption></center>\n",
        "</figure>\n",
        "\n",
        "<br></br>\n",
        "\n",
        "En lo que sigue se presentan algunos detalles que permiten comprender mejor el proyecto de tesis, así como la colección de notebooks con la programación que se ha desarrollado .\n",
        "\n",
        "<br></br>\n",
        "\n",
        "**Ref**.:\n",
        "\n",
        "<font color='brown'>[Prince, Simon J. D. (2023)]</font>\n",
        "*Understanding Deep Learning. MIT press.*\n",
        "\n",
        "<br></br>\n",
        "\n",
        "\n"
      ],
      "metadata": {
        "id": "SGnL-jNK0Gk8"
      }
    },
    {
      "cell_type": "code",
      "source": [],
      "metadata": {
        "id": "v-9moT5hpd0b"
      },
      "execution_count": null,
      "outputs": []
    },
    {
      "cell_type": "code",
      "source": [],
      "metadata": {
        "id": "I8haP7Rhpd34"
      },
      "execution_count": null,
      "outputs": []
    },
    {
      "cell_type": "markdown",
      "source": [
        "#**<font color='brown'>· <u>Fase I: SIMULACIÓN de la Red Social</u>.</font>**\n",
        "\n",
        "Si observamos el funcionamiento de las redes sociales, vemos que en muchas de ellas, tal y como se ha comentado previamente, se etiqueta (<i>o es posible hacerlo</i> ) el estado emocional del usuario. Por ello esta es una vía mediante la que es posible codificar el estado de los agentes en una red social.\n",
        "\n",
        "Como mecanismo que tenga cierta complejidad y que pueda abarcar algunas de las principales reacciones emocionales, hemos elegido un juego de los planteados por la Teoría de Juegos: **El Dilema del Prisionero**. Mediante la dinámica de juego que se establezca entre los agentes de la red, se generará su estado emocional que es lo que registraremos y codificaremos como una secuencia de imágenes.\n",
        "\n",
        "<br></br>\n",
        "\n",
        "<figure>\n",
        "<center>\n",
        "<img src='https://github.com/oscarserc/IMAGENES/blob/main/Hip%C3%B3tesis_3a.png?raw=true' width=\"500\"/>\n",
        "<figcaption>fig. 4: Proponemos un mecanismo de difusión en la Red basado en las emociones de los agentes. Esto nos permite registrar y generar imágenes de la actividad de la red empleando colores según el estado emocional de cada nodo.</figcaption></center>\n",
        "</figure>\n",
        "\n",
        "<br></br>\n",
        "\n",
        "En lo que sigue analizamos algunos de los resultados existentes en la literatura que nos permiten diseñar un conjunto de agentes que se interrelacionan en una red social, y en donde su conducta se encuentra muy influenciada por las emociones.\n",
        "\n",
        "Nos centraremos inicialmente en la forma en que las emociones pueden servir de mecanismo de difusión, de influencia entre los individuos que operan en la red social. Tal y como refleja la <i>figura 4</i>, una interacción local puede generar un efecto macroscópico en la red. <b>El Dilema del Prisionero</b> presenta además el interés de ver cómo se puede extender una actividad cooperativa por todo el tablero.\n",
        "\n",
        "<br></br>\n",
        "\n",
        "#**1. MECANISMO DE DIFUSIÓN**\n",
        "#**Influencia de las EMOCIONES en las interacciones en una Red Social**.\n",
        "\n",
        "Cuando analizamos el comportamiento de individuos en una Red Social se observan fenómenos llamativos en los cuales las emociones parecen jugar un papel fundamental. Las emociones por ejemplo impulsan la viralización de información <font color='blue'> [Berger, J. \\& Milkman, K. (2011)]</font>.\n",
        "\n",
        "Algunos estudios como el de Framingam, muestran el contagio de las emociones por la red y la creación de clusters: los individuos suelen mostrar, incluso a largo plazo, estados emocionales sintonizados con su vecindario más cercano (<i>ver fig. 5</i> ) <font color='blue'> [Fowler, J. H. & Christakis, N. A. (2008)] </font>.\n",
        "\n",
        "<br></br>\n",
        "\n",
        "<figure>\n",
        "<center>\n",
        "<img src='https://github.com/oscarserc/IMAGENES/blob/main/Framingham_1_A%C3%B1adoLeyenda.png?raw=true' width=\"450\"/>\n",
        "<figcaption>fig. 5: Estados emocionales en una Red Social    [Fowler, J. H. & Christakis, N. A. (2008)]</figcaption></center>\n",
        "</figure>\n",
        "\n",
        "<br></br>\n",
        "\n",
        "Los trabajos de otros autores han puesto de manifiesto también el papel que tienen las emociones en la toma de decisiones y en la forma de comportarnos <font color='blue'>[Damasio, A.R. (1994)]</font>. Por ello es natural plantearse la posibilidad de que las emociones - con su capacidad de contagio y propagación viral tal y como sugieren algunos autores - sean capaces de propiciar la extensión de una determinada conducta (por ejemplo favorecer el surgimiento de estrategias cooperativas).\n",
        "\n",
        "Tal y como alertan algunos estudios, nos encontramos cada vez con más frecuencia con la utilización cada vez mayor de medios automatizados (*bots*) para influir en el clima de opinión en las redes sociales on-line, y con ello polarizar y alterar el equilibrio de la red social <font color='blue'> [Ferrara, E. et al. (2017)] </font>.\n",
        "\n",
        "Teniendo en cuenta todo lo anterior, nos planteamos la búsqueda de los nodos críticos de una red social. Es decir: Si la información que disponemos de las relaciones entre individuos es su estado emocional, nos interesa encontrar aquellos que perturban el clima emocional que se está generando en la red.\n",
        "\n",
        "\n",
        "<br></br>\n",
        "**Ref**.:\n",
        "\n",
        "<font color='brown'>[Berger, J. \\& Milkman, K. (2011)]</font> <i>What Makes online Content Viral?</i>\n",
        " https://jonahberger.com/wp-content/uploads/2013/02/ViralityB.pdf\n",
        "\n",
        "<font color='brown'>[Damasio, A.R. (1994)] </font> <i>Descartes' error: Emotion, reason and the human brain\n",
        "</i>\n",
        "\n",
        "<font color='brown'>[Ferrara, E. et al. (2017)]</font> <i>The rise of social bots</i>  https://arxiv.org/pdf/1407.5225.pdf\n",
        "\n",
        "<font color='brown'>[Fowler, J. H. & Christakis, N. A. (2008)]</font>\n",
        "<i>Dynamic spread of happiness in a large social network:\n",
        "longitudinal analysis over 20 years in the Framingham\n",
        "Heart Study</i> https://www.bmj.com/content/bmj/337/bmj.a2338.full.pdf\n",
        "\n"
      ],
      "metadata": {
        "id": "esZEoGyBhve3"
      }
    },
    {
      "cell_type": "code",
      "source": [],
      "metadata": {
        "id": "GwNWrHN-Aduc"
      },
      "execution_count": null,
      "outputs": []
    },
    {
      "cell_type": "code",
      "source": [],
      "metadata": {
        "id": "Eqr3ekAShqBV"
      },
      "execution_count": null,
      "outputs": []
    },
    {
      "cell_type": "markdown",
      "source": [
        "#**2. Objetivos a alcanzar**:\n",
        "\n",
        "A partir del estado emocional de los agentes de una Red Social, nos proponemos encontrar los nodos que están perturbando la red, generalmente a través de acciones maliciosas. La detección de estos agentes influyentes es esencial para alterar el estado de la Red Social.\n",
        "\n",
        "Esto se concreta en dos OBJETIVOS:\n",
        "\n",
        "1) Construir un modelo con la dinámica emocional de una Red Social, que refleje fenómenos como los constatados por estudios como los mencionados previamente.\n",
        "\n",
        "2) Encontrar los nodos que alteran el funcionamiento de la red con acciones maliciosas. De esta manera, tenemos la posibilidad de inducir un cambio de comportamiento en los individuos de una determinada sociedad. Esto es a través de la difusión de emociones por la Red Social. Ya que estan son según algunos autores un refuerzo en el aprendizaje instrumental (y por tanto para desarrollar estrategias acordes con dicho estado).\n",
        "\n",
        "<br></br>\n",
        "\n",
        "\n"
      ],
      "metadata": {
        "id": "Nip4MjwEAWY-"
      }
    },
    {
      "cell_type": "code",
      "source": [],
      "metadata": {
        "id": "cdwvM97VBCdO"
      },
      "execution_count": null,
      "outputs": []
    },
    {
      "cell_type": "code",
      "source": [],
      "metadata": {
        "id": "pdzFo4IHAxi7"
      },
      "execution_count": null,
      "outputs": []
    },
    {
      "cell_type": "markdown",
      "source": [
        "#**3. Metodología**:\n",
        "\n",
        "Procederemos a crear una sociedad artificial simplificada, donde los individuos están interconectados entre sí. Se relacionan mediante un mecanismo sencillo de interacción. En concreto:\n",
        "\n",
        "· Los agentes interaccionan entre sí empleando el conocido como el <b>Dilema del prisionero</b> (Teoría de Juegos): <i>'El juego consiste en elegir un tipo de acción cooperativa frente a una acción no cooperativa, desconociendo en todo momento cual va a ser la elección del compañero. El dilema consiste en que la traición es beneficiosa si el otro jugador optó por cooperar'</i>. La matriz de pagos de cada jugador en cada caso sería la que aparece en la <i>figura 6</i>.\n",
        "\n",
        "<br></br>\n",
        "\n",
        "<figure>\n",
        "<center>\n",
        "<img src='https://github.com/oscarserc/IMAGENES/blob/main/Dilema_Prisionero.png?raw=true' width=\"250\"/>\n",
        "<figcaption>fig. 6: Matriz de pagos del Dilema del Prisionero</figcaption></center>\n",
        "</figure>\n",
        "\n",
        "<br></br>\n",
        "\n",
        "Cada celda de la red juega un tipo de estrategia con las que la rodean. Todos desconocen la postura que adoptarán los demás.\n",
        "Es un modelo básico de interacción , y se programará estudiando las reacciones emocionales de los agentes ante cada situación particular del juego del Prisionero. Con ello podremos analizar a través del estudio de los juegos iterados, la evolución de la cooperación y el enfrentamiento.\n",
        "\n",
        "· Simularemos el comportamiento en una Red Social regular (en forma de cuadrícula). En la figura 7, vemos un ejemplo. Cada celda representa un agente, y su color e intensidad están relacionados con su estado emocional. La estrategia adoptada aparece señalada cuando es cooperativa ('<b>C</b>').\n",
        "\n",
        "<figure>\n",
        "<center>\n",
        "<img src='https://github.com/oscarserc/IMAGENES/blob/main/VIDEO_1.gif?raw=true' width=\"300\"/>\n",
        "<figcaption>fig. 7: Animación con una secuencia de jugadas al Dilema del Prisionero en una Red Social, representada como una rejilla regular de 10x10 (grid). La letra '<b>C</b>' indica un agente que decide <b>cooperar</b> (no enfrentarse al compañero y buscar ciegamente el bien común).</figcaption></center>\n",
        "</figure>\n",
        "\n",
        "<br></br>\n",
        "\n",
        "· Emplearemos agentes diseñados para comportarse guiados por sus emociones. Se utilizan técnicas de Aprendizaje por Refuerdo (*Reinforcement* *Learning*). Los agentes toman decisiones basándose en su estado emocional. [Para un análisis más en profundidad ver APENDICE]\n",
        "\n",
        "\n",
        "<br></br>\n",
        "**Modelo de emociones empleado:**\n",
        "\n",
        "1) Las emociones son un mecanismo de refuerzo que facilita el aprendizaje de acciones (<i>aprendizaje instrumental</i> ), en determinadas situaciones muy específicas y características de cada emoción <font color='blue'>[Rolls, E.T. (2014)]</font>. Esto nos sirve de base para el empleo de técnicas de Aprendizaje por Refuerzo (<i>Reinforcement Learning</i> ).\n",
        "\n",
        "2) Para elaborar un modelo de las emociones simplificado que sea viable computacionalmente, nos basaremos en los trabajos de Robert Plutchick <font color='blue'>[Plutchick, R. (2001)]</font> (ver figura 8).\n",
        "\n",
        "Empleamos 4 emociones básicas <font color='blue'>[Ekman, P. (2004)]</font>, que son las que aparecen en el diagrama derecho de la figura. Vemos que :\n",
        "- Aparecen opuestas dos a dos. Ira/miedo y Alegría/tristeza, ya que sólo se puede sentir una de ellas a la vez\n",
        "- Están representadas sobre ejes ortogonales, ya que sirven para enfrentarnos a dos tipos de situaciones incompatibles: una de enfrentamiento (la ira y el miedo) y otra de cooperación (alegría y tristeza), tal y como plantea el mecanismo de interacción que hemos propuesto (<b>Dilema del Prisionero</b>).\n",
        "\n",
        "<figure>\n",
        "<center>\n",
        "<img src='https://github.com/oscarserc/IMAGENES/blob/main/Plutchick.png?raw=true' width=\"550\"/>\n",
        "<figcaption>fig. 8: Modelo simplificado de la rueda de emociones de Robert Plutchick</figcaption></center>\n",
        "</figure>\n",
        "\n",
        "<br></br>\n",
        "\n",
        "Las transiciones emocionales de los agentes, resultado del tipo de interacciones que llevan a cabo entre sí están representadas en el siguiente grafo [<i>Para un análisis más en profundidad ver APENDICE z1</i>].\n",
        "\n",
        "<figure>\n",
        "<center>\n",
        "<img src='https://github.com/oscarserc/IMAGENES/blob/main/grafo_4B_GLOBAL_A%C3%B1ado_Miedo_2.png?raw=true' width=\"700\"/>\n",
        "<figcaption></figcaption></center>\n",
        "</figure>\n",
        "\n",
        "\n",
        "<br></br>\n",
        "**Sitema de aprendizaje:**\n",
        "\n",
        "Las emociones proporcionan el refuerzo durante los diversos lances del juego. El procedimiento para que el agente interiorice este tipo de señales y le dote de cierto comportamiento inteligente será el algoritmo <b>Q-Learning</b> <font color='blue'>[Watkins, C. and Dayan, P. (1992)]</font> (<i>Aprendizaje por Refuerzo</i> ). El agente desarrollará un comportamiento emocional adaptado al tipo de entorno que le rodea.\n",
        "\n",
        "\n",
        "<br></br>\n",
        "**Ref**.:\n",
        "\n",
        "<font color='brown'>[Ekman, P. (2004)]</font> <i>Emotions revealed</i>\n",
        "\n",
        "<font color='brown'>[Plutchik, Robert (2001)]</font>  <i>The nature of emotions</i>  https://joaomfjorge.wordpress.com/wp-content/uploads/2019/11/the_nature_of_emotions_plutchik_2001.pdf\n",
        "\n",
        "<font color='brown'>[Rolls, E.T. (2014)] </font> <i>Emotion and decision-making explained</i>\n",
        "\n",
        "<font color='brown'>[Watkins, C. and Dayan, P. (1992)] </font> <i>Q-Learning</i>\n",
        " https://link.springer.com/content/pdf/10.1007/BF00992698.pdf\n",
        "\n",
        "\n",
        "<br></br>"
      ],
      "metadata": {
        "id": "g27Za133AyTa"
      }
    },
    {
      "cell_type": "code",
      "source": [],
      "metadata": {
        "id": "btSFbeYRAxnJ"
      },
      "execution_count": null,
      "outputs": []
    },
    {
      "cell_type": "code",
      "source": [],
      "metadata": {
        "id": "OQKj8J0HhPl2"
      },
      "execution_count": null,
      "outputs": []
    },
    {
      "cell_type": "markdown",
      "source": [
        "#**<font color='brown'>· <u>Fase II: Clasificación de los nodos de la Red Social</u>:**\n",
        "\n",
        "#<font color='brown'>- Entrenamiento de las arquitecturas neuronales</font>\n",
        "#<font color='brown'>- Predicción de nodos</font>\n"
      ],
      "metadata": {
        "id": "g4eQUgW2q-jk"
      }
    },
    {
      "cell_type": "markdown",
      "source": [
        "#**1. Innovación metodológica: Utilización de Aprendizaje Automático para localizar los nodos conflictivos**.\n",
        "\n",
        "En esta fase aprovecharemos las secuencias de imágenes generadas en la fase de simulación para entrenar Redes Neuronales. Como han sido generadas por simulación, sabemos en todo momento la identidad y localización de los jugadores, y el objetivo final consiste en aprender a descubrirlo a partir de la actividad emocional de la red que se genera (<i>fig. 9</i> ).\n",
        "\n",
        "<figure>\n",
        "<center>\n",
        "<img src='https://github.com/oscarserc/IMAGENES/blob/main/Hip%C3%B3tesis_4a.png?raw=true' width=\"500\"/>\n",
        "<figcaption>fig. 9: Una red entrenada en descifrar los patrones de actividad de una red social nos permitirá detectar y localizar la presencia de agentes conflictivos. La red neuronal recibe como INPUT la actividad emocional de la red social, y devuelve como OUTPUT la predicción sobre la identidad del tipo de jugador que hay en cada nodo.</figcaption></center>\n",
        "</figure>\n",
        "\n",
        "<br></br>\n",
        "\n",
        "Utilizaremos diversas arquitecturas de redes neuronales y compararemos su eficacia en la tarea.\n",
        "\n",
        "<br></br>\n",
        "\n"
      ],
      "metadata": {
        "id": "CHaA-z_4r4wF"
      }
    },
    {
      "cell_type": "code",
      "source": [],
      "metadata": {
        "id": "u2ewhzxsq_Dq"
      },
      "execution_count": null,
      "outputs": []
    },
    {
      "cell_type": "code",
      "source": [],
      "metadata": {
        "id": "ICyI5Qxoq_HL"
      },
      "execution_count": null,
      "outputs": []
    },
    {
      "cell_type": "markdown",
      "source": [
        "#**2. Objetivos a alcanzar**:\n",
        "\n",
        "Como se ha comentado, el anonimato ha permitido que todo tipo de conductas intolerables se extiendan por redes como Internet.\n",
        "Podemos encontrar  desde grupos de presión que intentar imponer un clima de opinión favorable a sus intereses, pasando por la difusión de noticias falsas, hasta episodios de acoso e intimidación.\n",
        "Por su propia naturaleza, muchos de estas situaciones acaban silenciadas e invisibilizadas. Es por ello que retendemos predecir probabilisticamente la localización de los puntos conflictivos de la red social. Para ello entrenaremos redes neuronales en la tarea de localizar este tipo de agentes."
      ],
      "metadata": {
        "id": "LTMNV4iW4-1n"
      }
    },
    {
      "cell_type": "code",
      "source": [],
      "metadata": {
        "id": "y8cXlIjv4_GK"
      },
      "execution_count": null,
      "outputs": []
    },
    {
      "cell_type": "code",
      "source": [],
      "metadata": {
        "id": "ZVYvj3xb4_JA"
      },
      "execution_count": null,
      "outputs": []
    },
    {
      "cell_type": "markdown",
      "source": [
        "#**3. Metodología**:\n",
        "\n",
        "Una vez que hemos generado mediante simulación una gran cantidad de secuencias del tipo de dinámica que las emociones crean en una Red Social, nos interesa descubrir el tipo de agente que se oculta en cada nodo. Para ello emplearemos técnicas de Visión por Computadora, especialmente <b>técnicas de segmentación</b> de imágenes.\n",
        "\n",
        "<figure>\n",
        "<center>\n",
        "<img src='https://github.com/oscarserc/IMAGENES/blob/main/Segmentacion_1a.png?raw=true' width=\"650\"/>\n",
        "<figcaption>fig. 18a: En la imagen de la izquierda vemos los elementos que nos interesa detectar. A la derecha aparece la misma imagen ya segmentada. Las técnicas de segmentación buscan separar cada uno de los elementos que existen en la imagen (<i>imagen: Facebook AI research</i>).</figcaption></center>\n",
        "</figure>\n",
        "\n",
        "<figure>\n",
        "<center>\n",
        "<img src='https://github.com/oscarserc/IMAGENES/blob/main/SEGMENTACION_1c.png?raw=true' width=\"1050\"/>\n",
        "<figcaption>fig. 10: En el fondo, un problema de segmentar imágenes consiste en un problema de clasificación, en el que se clasifican todos y cada uno de los pixeles de la imagen. Podemos plantearlo como un Aprendizaje supervisado, entrenando una red neuronal con imágenes y sus píxeles anotados por clases como salida de la red.</figcaption></center>\n",
        "</figure>\n",
        "\n",
        "<br></br>\n",
        "\n",
        "Un ejemplo lo vemos en la <i>figura 10</i>. Cuando se emplean técnicas de segmentación a nivel de pixel, nos encontramos ante el reto de clasificar a todos y cada uno de los píxeles de la imagen. En la medida en que estamos representando mediante imágenes el comportamiento de la Red Social, y cada <b>pixel/nodo</b> es un <b>agente</b>, este procedimiento nos puede ser de utilidad para clasificar a los agentes en una red regular como la que estamos manejando.\n",
        "\n",
        "<br></br>\n",
        "\n",
        "**Ref**.:\n",
        "\n",
        "<font color='brown'>[Liu, Li et al. (2020)]</font>\n",
        "<i>Deep Learning for Generic Object Detection: A Survey</i>  https://arxiv.org/pdf/1809.02165.pdf\n",
        "\n",
        "<br></br>\n",
        "\n",
        "\n"
      ],
      "metadata": {
        "id": "drA4PQOuR0ps"
      }
    },
    {
      "cell_type": "code",
      "source": [],
      "metadata": {
        "id": "NknBnzKTREdO"
      },
      "execution_count": null,
      "outputs": []
    },
    {
      "cell_type": "code",
      "source": [],
      "metadata": {
        "id": "8kgcRPhkRElP"
      },
      "execution_count": null,
      "outputs": []
    },
    {
      "cell_type": "markdown",
      "source": [
        "#**<font color='brown'>· <u>IMPLEMENTACIÓN</u>**\n",
        "\n",
        "Una vez llevada a cabo la presentación esquemática del diseño de la investigación, procederemos a presentar a continuación la estructura de la parte de implementación.\n",
        "\n",
        "La programación de todas las tareas se ha llevado a cabo en **Python**, utilizando además la librería **PyTorch** para el proceso de entrenamiento de las redes neuronales. Todo el proceso ha sido dividido finalmente en 3 pasos:\n",
        "\n",
        "<font color='black'><b>Paso 1</b>: Simulación de la red</font>\n",
        "\n",
        "<font color='black'><b>Paso 2</b>: Generación de una Base de Datos con simulaciones</font>\n",
        "\n",
        "<font color='black'><b>Paso 3</b>: Análisis de las distintas arquitecturas neuronales. Predicción de la identidad de los nodos.</font>\n",
        "\n",
        "A continuación se analizan brevemente los resultados que hemos obtenido. Estos se analizan extensamente en sus respectivos Notebooks, donde aparece el código de programación en Python que ha generado los resultados. (Todos son ejecutables en los servidores de **Google** (*Google Colab*)).\n",
        "\n",
        "<br></br>"
      ],
      "metadata": {
        "id": "ANkQ4djKRFof"
      }
    },
    {
      "cell_type": "markdown",
      "source": [
        "#**PASO 1: SIMULACIÓN DE UNA RED SOCIAL**.\n",
        "\n",
        "En esta fase programamos el mecanismo de interacción junto al tipo de transiciones entre los estados, y llevamos a cabo el juego iterado.\n",
        "Una vez estabilizado el aprendizaje de los agentes podemos ver que algunas regiones del grid, propagan influencia por la red. La cuestión es si podemos determinar los agentes que la provocan y su identidad (traidor, tit-for-tat, etc.) empleando métodos de Aprendizaje Automático.\n",
        "\n",
        "Convertimos el problema en uno de Aprendizaje Supervisado.\n",
        "\n",
        "<figure>\n",
        "<center>\n",
        "<img src='https://github.com/oscarserc/IMAGENES/blob/main/VIDEO_1.gif?raw=true' width=\"300\"/>\n",
        "<figcaption>fig. 11: Animación con una secuencia de jugadas al Dilema del Prisionero en una Red Social, representada como una rejilla regular de 10x10 (grid)</figcaption></center>\n",
        "</figure>\n",
        "\n",
        "<br></br>\n",
        "\n",
        "Cada agente emplea un mecanismo de aprendizaje que le permite adaptarse a su entorno. En concreto emplearemos algoritmos sencillos de Aprendizaje por Refuerzo como el algoritmo <b>Q-Learning</b>. Pese a no quedar garantizada su convergencia en entornos multiagente, las simulaciones llevadas a cabo presentan buenos resultados. El objetivo del agente consiste en el aprendizaje de la función de decisión Q(s,a), donde los estados 's' aluden a sus estados emocionales, y la acción 'a' alude a la estrategia elegida (Cooperar/No Cooperar). En la figura 12, podemos ver un ejemplo extraido de una de las simulaciones.\n",
        "\n",
        "<figure>\n",
        "<center>\n",
        "<img src='https://github.com/oscarserc/IMAGENES/blob/main/Q_sa_2.png?raw=true' width=\"400\"/>\n",
        "<figcaption>fig. 12: Función de decisión Q(s,a) estimada mediante el aprendizaje por refuerzo, por uno de los agentes empleados en la simulación</figcaption></center>\n",
        "</figure>\n",
        "\n",
        "<br></br>\n",
        "\n",
        "Se puede comprobar cómo el mecanismo emocional que se ha diseñado representa adecuadamente un proceso viral. Cuando todos los agentes son emocionales, la alegría se extiende por todo el tablero y con ella la cooperación, tal y como podemos comprobar en la siguiente figura.\n",
        "\n",
        "En la siguiente sencuencia podemos observar la evolución que experimenta una población según el número de ciclos que se ha empleado para el aprendizaje de los agentes. Podemos comprobar que el modelo emocional que hemos propuesto, sí puede representar un fenómeno de **viralización**.\n",
        "\n",
        "<center>\n",
        "<table><tr>\n",
        "<td>\n",
        "  <p align=\"center\">\n",
        "    <img src='https://github.com/oscarserc/IMAGENES/blob/main/VIDEO_5a_Todos_emocionales_400ciclos.gif?raw=true' width=\"300\">\n",
        "    <br>\n",
        "    <em style=\"color: white\">400 ciclos</em>\n",
        "  </p>\n",
        "</td>\n",
        "<td>\n",
        "  <p align=\"center\">\n",
        "    <img src='https://github.com/oscarserc/IMAGENES/blob/main/flecha.png?raw=true' width=\"80\">\n",
        "    <br>\n",
        "  </p>\n",
        "</td>\n",
        "<td>\n",
        "  <p align=\"center\">\n",
        "    <img src=\"https://github.com/oscarserc/IMAGENES/blob/main/VIDEO_5b_Todos_emocionales_1000ciclos.gif?raw=true\" width=\"300\">\n",
        "    <br>\n",
        "    <em style=\"color: white\">1000 ciclos</em>\n",
        "  </p>\n",
        "</td>\n",
        "<td>\n",
        "  <p align=\"center\">\n",
        "    <img src=\"https://github.com/oscarserc/IMAGENES/blob/main/flecha.png?raw=true\" width=\"80\">\n",
        "  </p>\n",
        "</td>\n",
        "<td>\n",
        "  <p align=\"center\">\n",
        "    <img src=\"https://github.com/oscarserc/IMAGENES/blob/main/VIDEO_5c_Todos_emocionales_4000ciclos.gif?raw=true\" width=\"300\">\n",
        "    <br>\n",
        "    <em style=\"color: white\">4000 ciclos</em>\n",
        "  </p>\n",
        "</td>\n",
        "</tr></table>\n",
        "\n",
        "\n",
        "\n",
        "\n",
        "\n",
        "\n"
      ],
      "metadata": {
        "id": "oquKrQYf_xUG"
      }
    },
    {
      "cell_type": "markdown",
      "source": [
        "En concreto podemos observar en la figura 13, a lo largo de la secuencia de aprendizaje, cómo se va imponiendo el estado 'Alegre' y la cooperación.\n",
        "\n",
        "<figure>\n",
        "<center>\n",
        "<img src='https://github.com/oscarserc/IMAGENES/blob/main/Grafico_emociones_colores_correctos.png?raw=true' width=\"800\"/>\n",
        "<figcaption>fig. 13: Acumulación de reacciones emocionales, y cooperaciones según evoluciona el entrenamiento</figcaption></center>\n",
        "</figure>"
      ],
      "metadata": {
        "id": "id_ZLRL1Vi2u"
      }
    },
    {
      "cell_type": "markdown",
      "source": [
        "Si representamos mediante un grafo las transiciones entre estados aparecen en la figura 14 (el grosor de cada arco representa la frecuencia con que se ha presentado).\n",
        "\n",
        "<figure>\n",
        "<center>\n",
        "<img src='https://github.com/oscarserc/IMAGENES/blob/main/Grafo_emociones_1.png?raw=true' width=\"500\"/>\n",
        "<figcaption>fig. 14: Acumulación de reacciones emocionales, y cooperaciones obtenidas en la simulación</figcaption></center>\n",
        "</figure>"
      ],
      "metadata": {
        "id": "cJ8fMjeBlXpu"
      }
    },
    {
      "cell_type": "markdown",
      "source": [
        "En las siguientes animaciones podemos observar el resultado de varias simulaciones. En todas ellas se han llevado a cabo 4000 ciclos de entrenamiento. En la a) y b) se observa ya un escenario muy estable y en el que se aprecian algunas destellos que se desplazan por todo el tablero.\n",
        "\n",
        "En la simulación central (simulación b), a diferencia de las otras dos, tenemos un mayor número de agentes emocionales. En estado emocional alegre se extiende por todo buena parte del tablero, al igual que la cooperación.\n",
        "\n",
        "La simulación c es más llamativa, ya que pasa de un estado de ira en un gran número de celdas a otro más calmado, lo que sugiere que existen ciertas condiciones que puedan facilitar la desescalada del conflicto en el tablero.\n",
        "\n",
        "<br>\n",
        "\n",
        "<center>\n",
        "<table><tr>\n",
        "<td>\n",
        "  <p align=\"center\">\n",
        "    <img src='https://github.com/oscarserc/IMAGENES/blob/main/VIDEO_1.gif?raw=true' width=\"300\">\n",
        "    <br>\n",
        "    <em style=\"color: white\">Simulación a</em>\n",
        "  </p>\n",
        "</td>\n",
        "<td>\n",
        "  <p align=\"center\">\n",
        "    <img src=\"https://github.com/oscarserc/IMAGENES/blob/main/VIDEO_2.gif?raw=true\" width=\"300\">\n",
        "    <br>\n",
        "    <em style=\"color: white\">Simulación b</em>\n",
        "  </p>\n",
        "</td>\n",
        "<td>\n",
        "  <p align=\"center\">\n",
        "    <img src=\"https://github.com/oscarserc/IMAGENES/blob/main/VIDEO_3.gif?raw=true\" width=\"300\">\n",
        "    <br>\n",
        "    <em style=\"color: white\">Simulación c</em>\n",
        "  </p>\n",
        "</td>\n",
        "</tr></table>\n"
      ],
      "metadata": {
        "id": "3rFVkTyolMpX"
      }
    },
    {
      "cell_type": "markdown",
      "source": [
        "En concreto introdujimos un parámetro de desescalada, que favorezca el salir del estado de enfrentamiento, en el cual la ira predomina. En la siguiente figura aparecen los resultados tras proceder a llevar a cabo un gran número de realizaciones de la simulación, en diferentes condiciones (porcentaje de agentes no cooperadores y parámetro β).\n",
        "\n",
        "<figure>\n",
        "<center>\n",
        "<img src='https://github.com/oscarserc/IMAGENES/blob/main/Estudio_parametro_de_desescalada_1a.png?raw=true' width=\"600\"/>\n",
        "<figcaption>fig. 15: Estudio del parámetro de desescalada (β)</figcaption></center>\n",
        "</figure>\n",
        "\n",
        "<br></br>\n",
        "\n",
        "Si analizamos el nivel de cooperación cuando progresivamente se añade una proporción de agentes mutantes no cooperadores, observamos una drástica reducción del nivel de cooperación en la red (fig. 15a).\n",
        "\n",
        "<figure>\n",
        "<center>\n",
        "<img src='https://github.com/oscarserc/IMAGENES/blob/main/COOPERACION__pMutantes_vs_UmbralCoop_1a.png?raw=true' width=\"400\"/>\n",
        "<figcaption>fig. 15a: Estudio del nivel de cooperación al introducir una cierta proporción de agentes mutantes traidores (Se evalúa a distintos niveles de cooperación exigida en el vecindario, a la que el agente considera cooperativo el entorno).</figcaption></center>\n",
        "</figure>\n",
        "\n",
        "<br></br>\n",
        "\n",
        "Si cambiamos los incentivos del juego, el efecto se traslada igualmente al nivel de cooperación. Para ello alteramos el agente emocional para que tome decisiones basándose tanto en su sistema de refuerzos emocionales, como con las recompensas del juego. Es decir, ahora la recompensa que maneja el algoritmo de aprendizaje utiliza alguna proporción de los incentivos del juego (*Dilema del Prisionero*):\n",
        "\n",
        "\n",
        "$r = \\lambda \\cdot r_{emocional} \\; + \\;(1-\\lambda) \\cdot r_{juego} $\n",
        "\n",
        "<figure>\n",
        "<center>\n",
        "<img src='https://github.com/oscarserc/IMAGENES/blob/main/Evolucion_segun_lambda_1b.png?raw=true' width=\"1000\"/>\n",
        "<figcaption>fig. 15b: Para λ = 0, el agente se guía exclusivamente por los incentivos del juego.</figcaption></center>\n",
        "</figure>\n",
        "\n",
        "<br></br>\n",
        "\n",
        "\n",
        "\n"
      ],
      "metadata": {
        "id": "oQFTsEHQqTjn"
      }
    },
    {
      "cell_type": "code",
      "source": [],
      "metadata": {
        "id": "0AxC1OCpBDY0"
      },
      "execution_count": null,
      "outputs": []
    },
    {
      "cell_type": "code",
      "source": [],
      "metadata": {
        "id": "gcNPNUVtBDce"
      },
      "execution_count": null,
      "outputs": []
    },
    {
      "cell_type": "markdown",
      "source": [
        "#**PASO 2: Creación de un ARCHIVO con los datos de las Simulaciones**.\n",
        "\n",
        "El procedimiento empleado para generar la Simulación y representar gráficamente su evolución consiste en emplear colores para cada emoción.\n",
        "- Verde (alegría)\n",
        "- Rojo (ira)\n",
        "- Azul (miedo)\n",
        "- Gris (tristeza)\n",
        "\n",
        "Su intensidad varía según se presenten en mayor o menor medida los factores que la generan (*por ejemplo la alegría se intensifica con la cooperación, y la ira se incrementa con la estrategia contraria*).\n",
        "\n",
        "<figure>\n",
        "<center>\n",
        "<img src='https://github.com/oscarserc/IMAGENES/blob/main/rgb_2a.png?raw=true' width=\"650\"/>\n",
        "<figcaption>fig. 16: Extracción de la información en formato RGB, tras convertir la matriz en un vector de 1 dimensión</figcaption></center>\n",
        "</figure>\n",
        "\n",
        "<br></br>\n",
        "\n",
        "Los colores son traducidos a números, en concreto valores RGB (red, green, blue) y se guardan en una estructura de datos de la librería PANDAS. En concreto: un dataframe. Posteriormente se pueden ir añadiendo las columnas que identifican la simulación y el número de frame. El <b>Target</b> se genera según el tipo de técnica (clasificación, segmentación, etc.) que se vaya a emplear para analizar los datos, y la arquitectura de red neuronal que se vaya a emplear.\n",
        "\n",
        "<figure>\n",
        "<center>\n",
        "<img src='https://github.com/oscarserc/IMAGENES/blob/main/Archivo_C.png?raw=true' width=\"850\"/>\n",
        "<figcaption>fig. 17: Simulaciones guardadas en un Data Frame</figcaption></center>\n",
        "</figure>\n",
        "\n",
        "El archivo incorpora la información obtenida en sucesivas simulaciones. Cada simulación queda etiquetada numéricamente de tal manera que se puede identificar (columna: <b>Simulación_ID</b>). En concreto de cada simulación se guardan 40 ciclos (frames), que quedan identificados en su respectiva columna (<b>Frame</b>)."
      ],
      "metadata": {
        "id": "lKyebxvf0Guy"
      }
    },
    {
      "cell_type": "code",
      "source": [],
      "metadata": {
        "id": "n_geUznlBETl"
      },
      "execution_count": null,
      "outputs": []
    },
    {
      "cell_type": "code",
      "source": [],
      "metadata": {
        "id": "uSTu38EUBEWc"
      },
      "execution_count": null,
      "outputs": []
    },
    {
      "cell_type": "markdown",
      "source": [
        "#**PASO 3: Clasificación de agentes en la red social mediante técnicas de Aprendizaje Automático** (Visión por Computadora).\n",
        "\n"
      ],
      "metadata": {
        "id": "jC2GYOom0G6D"
      }
    },
    {
      "cell_type": "markdown",
      "source": [
        "#· CLASIFICACIÓN de IMÁGENES\n",
        "\n",
        "En nuestro caso la clasificación de imágenes se traduce en poder discriminar el tipo de agentes que están interactuando en la red.\n",
        "\n",
        "<figure>\n",
        "<center>\n",
        "<img src='https://github.com/oscarserc/IMAGENES/blob/main/Clasificacion_1a.png?raw=true' width=\"450\"/>\n",
        "<figcaption>fig. 18: Problema de clasificación aplicado a la detección de agentes influyentes en la red.</figcaption></center>\n",
        "</figure>\n",
        "\n",
        "<br></br>\n",
        "\n",
        "En este caso el target especifica el tipo de mezcla poblacional que genera la simulación. Emplearíamos una variable categórica: 0 (todos agentes emocionales), 1 (agentes emocionales y agentes traidores), etc.\n",
        "\n",
        "<figure>\n",
        "<center>\n",
        "<img src='https://github.com/oscarserc/IMAGENES/blob/main/Target_a.png?raw=true' width=\"350\"/>\n",
        "<figcaption>fig. 19: Simulaciones guardadas en un Data Frame</figcaption></center>\n",
        "</figure>\n"
      ],
      "metadata": {
        "id": "pBTjp7eDQpsj"
      }
    },
    {
      "cell_type": "markdown",
      "source": [
        "#· SEGMENTACIÓN DE IMÁGENES\n",
        "\n",
        "En este caso vamos aún más alla, y pretendemos no sólo detectar algunos tipos de agentes que puedan existir en la Red Social. Ahora el emplear técnicas de segmentación de imágenes permite que el algoritmo funcione como un clasificador de todos y cada uno de los pixeles de la imagen (nodos de la red social). El target utiliza un array con la identidad de todos los agentes.\n",
        "\n",
        "<figure>\n",
        "<center>\n",
        "<img src='https://github.com/oscarserc/IMAGENES/blob/main/Clasificacion_2a_segm.png?raw=true' width=\"450\"/>\n",
        "<figcaption>fig. 20: Problema de segmentación sobre una imagen de la actividad de la red. Interesa clasificar a todos y cada uno de los nodos (pixeles)</figcaption></center>\n",
        "</figure>\n",
        "\n",
        "<br></br>\n",
        "\n",
        "Segmentar una imagen (ver fig. 18) es en realidad un problema de clasificación en el que han de ser clasificados todos y cada uno de los pixeles según el elemento al que pertenecen.\n",
        "\n",
        "Si tenemos en cuenta que estamos representando la actividad de una Red Social mediante imágenes, podemos plantearnos si es posible traducir esta información en la detección de los tipos de agentes de la Red. Para esta tarea tendremos que disponer como <b>target</b> del grupo de pertenencia de cada agente (ver fig. 22). Esta información tendremos que guardarla para guiar el proceso de aprendizaje.\n",
        "\n",
        "<figure>\n",
        "<center>\n",
        "<img src='https://github.com/oscarserc/IMAGENES/blob/main/Target_b.png?raw=true' width=\"550\"/>\n",
        "<figcaption>fig. 21: Simulaciones guardadas en un Data Frame</figcaption></center>\n",
        "</figure>\n",
        "\n",
        "<br></br>\n"
      ],
      "metadata": {
        "id": "hq44FMnKQsvb"
      }
    },
    {
      "cell_type": "code",
      "source": [],
      "metadata": {
        "id": "15DWYoH42buM"
      },
      "execution_count": null,
      "outputs": []
    },
    {
      "cell_type": "code",
      "source": [],
      "metadata": {
        "id": "2lDtwF7v2b1U"
      },
      "execution_count": null,
      "outputs": []
    },
    {
      "cell_type": "markdown",
      "source": [
        "#**<font color='brown'>· <u>RESULTADOS</u>.</font>**\n",
        "\n",
        "Podemos resumir esquematicamente tanto los objetivos, como la metodología y las aportaciones que hemos llevado a cabo, y que quedan reflejados en la Tesis Doctoral en el siguiente esquema.\n",
        "\n",
        "<br></br>\n",
        "\n",
        "<figure>\n",
        "<center>\n",
        "<img src='https://github.com/oscarserc/IMAGENES/blob/main/Esquema_1e.png?raw=true' width=\"1050\"/>\n",
        "<figcaption>fig. 22: Esquema con la estructura de la investigación</figcaption></center>\n",
        "</figure>\n",
        "\n",
        "<br></br>\n",
        "\n",
        "El resultado de la comparación entre las diferentes arquitecturas neuronales se presentará posteriormente.\n",
        "\n",
        "<br></br>\n",
        "\n"
      ],
      "metadata": {
        "id": "wF6AhhkfWtgV"
      }
    },
    {
      "cell_type": "code",
      "source": [],
      "metadata": {
        "id": "5vriVFZjALHN"
      },
      "execution_count": null,
      "outputs": []
    },
    {
      "cell_type": "code",
      "source": [],
      "metadata": {
        "id": "iIDy3ClOoKOi"
      },
      "execution_count": null,
      "outputs": []
    },
    {
      "cell_type": "code",
      "source": [],
      "metadata": {
        "id": "bPoNnVcLALKl"
      },
      "execution_count": null,
      "outputs": []
    }
  ]
}