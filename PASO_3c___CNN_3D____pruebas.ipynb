{
  "nbformat": 4,
  "nbformat_minor": 0,
  "metadata": {
    "colab": {
      "provenance": [],
      "authorship_tag": "ABX9TyPcagC3HWlG8Qdb7gK9Mfhc",
      "include_colab_link": true
    },
    "kernelspec": {
      "name": "python3",
      "display_name": "Python 3"
    },
    "language_info": {
      "name": "python"
    }
  },
  "cells": [
    {
      "cell_type": "markdown",
      "metadata": {
        "id": "view-in-github",
        "colab_type": "text"
      },
      "source": [
        "<a href=\"https://colab.research.google.com/github/oscarserc/TESIS/blob/main/PASO_3c___CNN_3D____pruebas.ipynb\" target=\"_parent\"><img src=\"https://colab.research.google.com/assets/colab-badge.svg\" alt=\"Open In Colab\"/></a>"
      ]
    },
    {
      "cell_type": "markdown",
      "source": [
        "#UTILIZACIÓN DE TÉCNICAS DE APRENDIZAJE AUTOMÁTICO PARA LA DETECCIÓN DE LOS NODOS INFLUYENTES.\n",
        "\n",
        "La base de datos que emplearemos será de unas 70.000 observaciones. En concreto:\n",
        "\n",
        "· 72.000 observaciones\n",
        "\n",
        "· Para ello generamos una 1800 **simulaciones**, y guardamos unos 40 **frames** de cada una de ellas\n",
        "\n",
        "· Además como **target** guardamos la matriz con la IDENTIDAD de todos y cada uno de los AGENTES.\n",
        "\n"
      ],
      "metadata": {
        "id": "Ck6WE2qgmKul"
      }
    },
    {
      "cell_type": "code",
      "source": [],
      "metadata": {
        "id": "yclIUzOWcSjy"
      },
      "execution_count": null,
      "outputs": []
    },
    {
      "cell_type": "code",
      "source": [],
      "metadata": {
        "id": "ijoWUtiKcSpa"
      },
      "execution_count": null,
      "outputs": []
    },
    {
      "cell_type": "markdown",
      "source": [
        "#**PRUEBA 3**: Utilizaremos una <font color='green'>**RED NEURONAL CONVOLUCIONAL 3D**</font>, ya que nos permite preservar el orden de los frames en cada SIMULACIÓN. \n",
        "\n",
        "#Planteamos nuevamente el problema de localizar a los agentes influyentes como un problema de **Segmentación** de imágenes. (Cada pixel corresponde a un agente y ha de ser clasificado en uno de los tipos que se han definico)"
      ],
      "metadata": {
        "id": "Q1K5T8gmcRFa"
      }
    },
    {
      "cell_type": "markdown",
      "source": [
        "La estructura que hemos probado de partida es la que aparece a continuación."
      ],
      "metadata": {
        "id": "4R6--3v24ATs"
      }
    },
    {
      "cell_type": "markdown",
      "source": [
        "\n",
        "<figure>\n",
        "<center>\n",
        "<img src='https://github.com/oscarserc/IMAGENES/blob/main/CNN_3D__3a.png?raw=true' width=\"850\"/>\n",
        "<figcaption>fig. 1: En esta primera prueba manejamos sólo dos tipos de agentes: <b>Agente EMOCIONAL</b> y <b>Agente MUTANTE TRAIDOR</b>. Por ello el problema se trata de uno de CLASIFICACIÓN BINARIA. Cada pixel ha de ser marcado como perteneciente a una población u otra. La salida de la red son dos matrices de 10x10 (dos por cada frame de la animación) con la probabilidad de pertenencia a cada clase.</figcaption></center>\n",
        "</figure>\n"
      ],
      "metadata": {
        "id": "8fHEsPqA4BnT"
      }
    },
    {
      "cell_type": "markdown",
      "source": [
        "El archivo de prueba contiene 4000 simulaciones de una población de AGENTES EMOCIONALES, y otras 4000 de agentes TRAIDORES (de la observación 4001 a la 8000)."
      ],
      "metadata": {
        "id": "4JJCGaYH4IWT"
      }
    },
    {
      "cell_type": "markdown",
      "source": [
        "\n",
        "<figure>\n",
        "<center>\n",
        "<img src='https://github.com/oscarserc/IMAGENES/blob/main/Archivo_E_CNN.png?raw=true' width=\"1000\"/>\n",
        "<figcaption></figcaption></center>\n",
        "</figure>\n",
        "\n",
        "\n",
        "\n"
      ],
      "metadata": {
        "id": "_WuC_yF0b42T"
      }
    },
    {
      "cell_type": "markdown",
      "source": [
        "Podemos comenzar **aleatorizando**, y después manteniendo agrupadas las observaciones (frames) que forman parte de la misma Simulación (animación)."
      ],
      "metadata": {
        "id": "XtCOSQJafZoe"
      }
    },
    {
      "cell_type": "markdown",
      "source": [
        "#CARGA DE LA BASE DE DATOS (mezcla agentes **emocionales** y mutantes **traidores**).\n",
        "\n",
        "Como hemos de empaquetar los frames asociados a cada simulación (inicialmente en la base de prueba: 200 simulaciones x 40 frames = 8000 observaciones en el data frame), la aleatorización habremos de hacerla al final. De esta manera conservamos la relación temporal entre frames."
      ],
      "metadata": {
        "id": "AiozpE_AXGxY"
      }
    },
    {
      "cell_type": "code",
      "source": [
        "\n",
        "import pandas as pd\n",
        "\n",
        "# CARGAMOS LA BASE DE DATOS SIN PERMUTAR LAS FILAS\n",
        "# ------------------------------------------------\n",
        "bd_simulaciones = pd.read_csv('bd_combinado.csv')\n"
      ],
      "metadata": {
        "id": "xpykoNS6TjqF"
      },
      "execution_count": null,
      "outputs": []
    },
    {
      "cell_type": "code",
      "source": [
        "\n",
        "pd.options.display.float_format = '{:,.2f}'.format\n",
        "bd_simulaciones\n"
      ],
      "metadata": {
        "colab": {
          "base_uri": "https://localhost:8080/",
          "height": 641
        },
        "id": "drn6cob1I3gA",
        "outputId": "b5dab914-e2ff-4165-d634-a3dd74e328a2"
      },
      "execution_count": null,
      "outputs": [
        {
          "output_type": "execute_result",
          "data": {
            "text/plain": [
              "       r0   r1   r2   r3   r4   r5   r6   r7   r8   r9  ...  b94  b95  b96  \\\n",
              "0    0.00 0.20 0.20 0.40 0.20 0.20 0.20 0.00 0.40 0.33  ... 0.00 0.20 0.20   \n",
              "1    0.00 0.20 0.20 0.40 0.20 0.20 0.20 0.00 0.40 0.33  ... 0.00 0.00 1.00   \n",
              "2    0.00 0.20 0.20 0.40 0.20 0.20 0.20 0.00 0.40 0.33  ... 0.20 0.20 0.40   \n",
              "3    0.00 0.20 0.20 0.40 0.20 0.20 0.20 0.00 0.40 0.33  ... 0.00 0.00 0.20   \n",
              "4    0.00 0.20 0.20 0.40 0.20 0.20 0.20 0.00 0.40 0.33  ... 0.00 0.00 0.20   \n",
              "...   ...  ...  ...  ...  ...  ...  ...  ...  ...  ...  ...  ...  ...  ...   \n",
              "7995 0.00 0.00 0.00 0.00 0.00 0.00 0.00 0.00 0.00 0.00  ... 0.00 0.00 0.00   \n",
              "7996 0.00 0.00 0.20 0.00 0.00 0.00 0.00 0.00 0.00 0.00  ... 0.00 0.00 0.00   \n",
              "7997 0.33 0.00 0.00 0.00 0.00 0.00 0.00 0.00 0.00 0.00  ... 0.00 0.00 0.00   \n",
              "7998 0.00 0.00 0.00 0.00 0.00 0.00 0.00 0.00 0.00 0.00  ... 0.00 0.00 0.00   \n",
              "7999 0.00 0.00 0.00 0.00 0.00 0.00 0.00 0.00 0.00 0.00  ... 0.00 0.00 0.00   \n",
              "\n",
              "      b97  b98  b99  Simulacion_ID  Frame  \\\n",
              "0    0.20 0.40 0.33              1      1   \n",
              "1    0.20 0.40 0.33              1      2   \n",
              "2    0.20 0.40 0.33              1      3   \n",
              "3    0.20 0.40 0.33              1      4   \n",
              "4    0.20 0.40 0.33              1      5   \n",
              "...   ...  ...  ...            ...    ...   \n",
              "7995 0.00 0.00 0.00            100     36   \n",
              "7996 0.00 0.00 0.00            100     37   \n",
              "7997 0.00 0.00 0.00            100     38   \n",
              "7998 0.00 0.00 0.00            100     39   \n",
              "7999 0.00 0.00 0.00            100     40   \n",
              "\n",
              "                                                 Target  Target_class  \n",
              "0     [0, 0, 0, 0, 0, 0, 0, 1, 0, 0, 0, 0, 1, 0, 1, ...             1  \n",
              "1     [0, 0, 0, 0, 0, 0, 0, 1, 0, 0, 0, 0, 1, 0, 1, ...             1  \n",
              "2     [0, 0, 0, 0, 0, 0, 0, 1, 0, 0, 0, 0, 1, 0, 1, ...             1  \n",
              "3     [0, 0, 0, 0, 0, 0, 0, 1, 0, 0, 0, 0, 1, 0, 1, ...             1  \n",
              "4     [0, 0, 0, 0, 0, 0, 0, 1, 0, 0, 0, 0, 1, 0, 1, ...             1  \n",
              "...                                                 ...           ...  \n",
              "7995  [0, 0, 0, 0, 0, 0, 0, 0, 0, 0, 0, 0, 0, 0, 0, ...             0  \n",
              "7996  [0, 0, 0, 0, 0, 0, 0, 0, 0, 0, 0, 0, 0, 0, 0, ...             0  \n",
              "7997  [0, 0, 0, 0, 0, 0, 0, 0, 0, 0, 0, 0, 0, 0, 0, ...             0  \n",
              "7998  [0, 0, 0, 0, 0, 0, 0, 0, 0, 0, 0, 0, 0, 0, 0, ...             0  \n",
              "7999  [0, 0, 0, 0, 0, 0, 0, 0, 0, 0, 0, 0, 0, 0, 0, ...             0  \n",
              "\n",
              "[8000 rows x 304 columns]"
            ],
            "text/html": [
              "\n",
              "  <div id=\"df-f50b6a9d-84bb-4f63-9a88-0ed5bbc01a1c\">\n",
              "    <div class=\"colab-df-container\">\n",
              "      <div>\n",
              "<style scoped>\n",
              "    .dataframe tbody tr th:only-of-type {\n",
              "        vertical-align: middle;\n",
              "    }\n",
              "\n",
              "    .dataframe tbody tr th {\n",
              "        vertical-align: top;\n",
              "    }\n",
              "\n",
              "    .dataframe thead th {\n",
              "        text-align: right;\n",
              "    }\n",
              "</style>\n",
              "<table border=\"1\" class=\"dataframe\">\n",
              "  <thead>\n",
              "    <tr style=\"text-align: right;\">\n",
              "      <th></th>\n",
              "      <th>r0</th>\n",
              "      <th>r1</th>\n",
              "      <th>r2</th>\n",
              "      <th>r3</th>\n",
              "      <th>r4</th>\n",
              "      <th>r5</th>\n",
              "      <th>r6</th>\n",
              "      <th>r7</th>\n",
              "      <th>r8</th>\n",
              "      <th>r9</th>\n",
              "      <th>...</th>\n",
              "      <th>b94</th>\n",
              "      <th>b95</th>\n",
              "      <th>b96</th>\n",
              "      <th>b97</th>\n",
              "      <th>b98</th>\n",
              "      <th>b99</th>\n",
              "      <th>Simulacion_ID</th>\n",
              "      <th>Frame</th>\n",
              "      <th>Target</th>\n",
              "      <th>Target_class</th>\n",
              "    </tr>\n",
              "  </thead>\n",
              "  <tbody>\n",
              "    <tr>\n",
              "      <th>0</th>\n",
              "      <td>0.00</td>\n",
              "      <td>0.20</td>\n",
              "      <td>0.20</td>\n",
              "      <td>0.40</td>\n",
              "      <td>0.20</td>\n",
              "      <td>0.20</td>\n",
              "      <td>0.20</td>\n",
              "      <td>0.00</td>\n",
              "      <td>0.40</td>\n",
              "      <td>0.33</td>\n",
              "      <td>...</td>\n",
              "      <td>0.00</td>\n",
              "      <td>0.20</td>\n",
              "      <td>0.20</td>\n",
              "      <td>0.20</td>\n",
              "      <td>0.40</td>\n",
              "      <td>0.33</td>\n",
              "      <td>1</td>\n",
              "      <td>1</td>\n",
              "      <td>[0, 0, 0, 0, 0, 0, 0, 1, 0, 0, 0, 0, 1, 0, 1, ...</td>\n",
              "      <td>1</td>\n",
              "    </tr>\n",
              "    <tr>\n",
              "      <th>1</th>\n",
              "      <td>0.00</td>\n",
              "      <td>0.20</td>\n",
              "      <td>0.20</td>\n",
              "      <td>0.40</td>\n",
              "      <td>0.20</td>\n",
              "      <td>0.20</td>\n",
              "      <td>0.20</td>\n",
              "      <td>0.00</td>\n",
              "      <td>0.40</td>\n",
              "      <td>0.33</td>\n",
              "      <td>...</td>\n",
              "      <td>0.00</td>\n",
              "      <td>0.00</td>\n",
              "      <td>1.00</td>\n",
              "      <td>0.20</td>\n",
              "      <td>0.40</td>\n",
              "      <td>0.33</td>\n",
              "      <td>1</td>\n",
              "      <td>2</td>\n",
              "      <td>[0, 0, 0, 0, 0, 0, 0, 1, 0, 0, 0, 0, 1, 0, 1, ...</td>\n",
              "      <td>1</td>\n",
              "    </tr>\n",
              "    <tr>\n",
              "      <th>2</th>\n",
              "      <td>0.00</td>\n",
              "      <td>0.20</td>\n",
              "      <td>0.20</td>\n",
              "      <td>0.40</td>\n",
              "      <td>0.20</td>\n",
              "      <td>0.20</td>\n",
              "      <td>0.20</td>\n",
              "      <td>0.00</td>\n",
              "      <td>0.40</td>\n",
              "      <td>0.33</td>\n",
              "      <td>...</td>\n",
              "      <td>0.20</td>\n",
              "      <td>0.20</td>\n",
              "      <td>0.40</td>\n",
              "      <td>0.20</td>\n",
              "      <td>0.40</td>\n",
              "      <td>0.33</td>\n",
              "      <td>1</td>\n",
              "      <td>3</td>\n",
              "      <td>[0, 0, 0, 0, 0, 0, 0, 1, 0, 0, 0, 0, 1, 0, 1, ...</td>\n",
              "      <td>1</td>\n",
              "    </tr>\n",
              "    <tr>\n",
              "      <th>3</th>\n",
              "      <td>0.00</td>\n",
              "      <td>0.20</td>\n",
              "      <td>0.20</td>\n",
              "      <td>0.40</td>\n",
              "      <td>0.20</td>\n",
              "      <td>0.20</td>\n",
              "      <td>0.20</td>\n",
              "      <td>0.00</td>\n",
              "      <td>0.40</td>\n",
              "      <td>0.33</td>\n",
              "      <td>...</td>\n",
              "      <td>0.00</td>\n",
              "      <td>0.00</td>\n",
              "      <td>0.20</td>\n",
              "      <td>0.20</td>\n",
              "      <td>0.40</td>\n",
              "      <td>0.33</td>\n",
              "      <td>1</td>\n",
              "      <td>4</td>\n",
              "      <td>[0, 0, 0, 0, 0, 0, 0, 1, 0, 0, 0, 0, 1, 0, 1, ...</td>\n",
              "      <td>1</td>\n",
              "    </tr>\n",
              "    <tr>\n",
              "      <th>4</th>\n",
              "      <td>0.00</td>\n",
              "      <td>0.20</td>\n",
              "      <td>0.20</td>\n",
              "      <td>0.40</td>\n",
              "      <td>0.20</td>\n",
              "      <td>0.20</td>\n",
              "      <td>0.20</td>\n",
              "      <td>0.00</td>\n",
              "      <td>0.40</td>\n",
              "      <td>0.33</td>\n",
              "      <td>...</td>\n",
              "      <td>0.00</td>\n",
              "      <td>0.00</td>\n",
              "      <td>0.20</td>\n",
              "      <td>0.20</td>\n",
              "      <td>0.40</td>\n",
              "      <td>0.33</td>\n",
              "      <td>1</td>\n",
              "      <td>5</td>\n",
              "      <td>[0, 0, 0, 0, 0, 0, 0, 1, 0, 0, 0, 0, 1, 0, 1, ...</td>\n",
              "      <td>1</td>\n",
              "    </tr>\n",
              "    <tr>\n",
              "      <th>...</th>\n",
              "      <td>...</td>\n",
              "      <td>...</td>\n",
              "      <td>...</td>\n",
              "      <td>...</td>\n",
              "      <td>...</td>\n",
              "      <td>...</td>\n",
              "      <td>...</td>\n",
              "      <td>...</td>\n",
              "      <td>...</td>\n",
              "      <td>...</td>\n",
              "      <td>...</td>\n",
              "      <td>...</td>\n",
              "      <td>...</td>\n",
              "      <td>...</td>\n",
              "      <td>...</td>\n",
              "      <td>...</td>\n",
              "      <td>...</td>\n",
              "      <td>...</td>\n",
              "      <td>...</td>\n",
              "      <td>...</td>\n",
              "      <td>...</td>\n",
              "    </tr>\n",
              "    <tr>\n",
              "      <th>7995</th>\n",
              "      <td>0.00</td>\n",
              "      <td>0.00</td>\n",
              "      <td>0.00</td>\n",
              "      <td>0.00</td>\n",
              "      <td>0.00</td>\n",
              "      <td>0.00</td>\n",
              "      <td>0.00</td>\n",
              "      <td>0.00</td>\n",
              "      <td>0.00</td>\n",
              "      <td>0.00</td>\n",
              "      <td>...</td>\n",
              "      <td>0.00</td>\n",
              "      <td>0.00</td>\n",
              "      <td>0.00</td>\n",
              "      <td>0.00</td>\n",
              "      <td>0.00</td>\n",
              "      <td>0.00</td>\n",
              "      <td>100</td>\n",
              "      <td>36</td>\n",
              "      <td>[0, 0, 0, 0, 0, 0, 0, 0, 0, 0, 0, 0, 0, 0, 0, ...</td>\n",
              "      <td>0</td>\n",
              "    </tr>\n",
              "    <tr>\n",
              "      <th>7996</th>\n",
              "      <td>0.00</td>\n",
              "      <td>0.00</td>\n",
              "      <td>0.20</td>\n",
              "      <td>0.00</td>\n",
              "      <td>0.00</td>\n",
              "      <td>0.00</td>\n",
              "      <td>0.00</td>\n",
              "      <td>0.00</td>\n",
              "      <td>0.00</td>\n",
              "      <td>0.00</td>\n",
              "      <td>...</td>\n",
              "      <td>0.00</td>\n",
              "      <td>0.00</td>\n",
              "      <td>0.00</td>\n",
              "      <td>0.00</td>\n",
              "      <td>0.00</td>\n",
              "      <td>0.00</td>\n",
              "      <td>100</td>\n",
              "      <td>37</td>\n",
              "      <td>[0, 0, 0, 0, 0, 0, 0, 0, 0, 0, 0, 0, 0, 0, 0, ...</td>\n",
              "      <td>0</td>\n",
              "    </tr>\n",
              "    <tr>\n",
              "      <th>7997</th>\n",
              "      <td>0.33</td>\n",
              "      <td>0.00</td>\n",
              "      <td>0.00</td>\n",
              "      <td>0.00</td>\n",
              "      <td>0.00</td>\n",
              "      <td>0.00</td>\n",
              "      <td>0.00</td>\n",
              "      <td>0.00</td>\n",
              "      <td>0.00</td>\n",
              "      <td>0.00</td>\n",
              "      <td>...</td>\n",
              "      <td>0.00</td>\n",
              "      <td>0.00</td>\n",
              "      <td>0.00</td>\n",
              "      <td>0.00</td>\n",
              "      <td>0.00</td>\n",
              "      <td>0.00</td>\n",
              "      <td>100</td>\n",
              "      <td>38</td>\n",
              "      <td>[0, 0, 0, 0, 0, 0, 0, 0, 0, 0, 0, 0, 0, 0, 0, ...</td>\n",
              "      <td>0</td>\n",
              "    </tr>\n",
              "    <tr>\n",
              "      <th>7998</th>\n",
              "      <td>0.00</td>\n",
              "      <td>0.00</td>\n",
              "      <td>0.00</td>\n",
              "      <td>0.00</td>\n",
              "      <td>0.00</td>\n",
              "      <td>0.00</td>\n",
              "      <td>0.00</td>\n",
              "      <td>0.00</td>\n",
              "      <td>0.00</td>\n",
              "      <td>0.00</td>\n",
              "      <td>...</td>\n",
              "      <td>0.00</td>\n",
              "      <td>0.00</td>\n",
              "      <td>0.00</td>\n",
              "      <td>0.00</td>\n",
              "      <td>0.00</td>\n",
              "      <td>0.00</td>\n",
              "      <td>100</td>\n",
              "      <td>39</td>\n",
              "      <td>[0, 0, 0, 0, 0, 0, 0, 0, 0, 0, 0, 0, 0, 0, 0, ...</td>\n",
              "      <td>0</td>\n",
              "    </tr>\n",
              "    <tr>\n",
              "      <th>7999</th>\n",
              "      <td>0.00</td>\n",
              "      <td>0.00</td>\n",
              "      <td>0.00</td>\n",
              "      <td>0.00</td>\n",
              "      <td>0.00</td>\n",
              "      <td>0.00</td>\n",
              "      <td>0.00</td>\n",
              "      <td>0.00</td>\n",
              "      <td>0.00</td>\n",
              "      <td>0.00</td>\n",
              "      <td>...</td>\n",
              "      <td>0.00</td>\n",
              "      <td>0.00</td>\n",
              "      <td>0.00</td>\n",
              "      <td>0.00</td>\n",
              "      <td>0.00</td>\n",
              "      <td>0.00</td>\n",
              "      <td>100</td>\n",
              "      <td>40</td>\n",
              "      <td>[0, 0, 0, 0, 0, 0, 0, 0, 0, 0, 0, 0, 0, 0, 0, ...</td>\n",
              "      <td>0</td>\n",
              "    </tr>\n",
              "  </tbody>\n",
              "</table>\n",
              "<p>8000 rows × 304 columns</p>\n",
              "</div>\n",
              "      <button class=\"colab-df-convert\" onclick=\"convertToInteractive('df-f50b6a9d-84bb-4f63-9a88-0ed5bbc01a1c')\"\n",
              "              title=\"Convert this dataframe to an interactive table.\"\n",
              "              style=\"display:none;\">\n",
              "        \n",
              "  <svg xmlns=\"http://www.w3.org/2000/svg\" height=\"24px\"viewBox=\"0 0 24 24\"\n",
              "       width=\"24px\">\n",
              "    <path d=\"M0 0h24v24H0V0z\" fill=\"none\"/>\n",
              "    <path d=\"M18.56 5.44l.94 2.06.94-2.06 2.06-.94-2.06-.94-.94-2.06-.94 2.06-2.06.94zm-11 1L8.5 8.5l.94-2.06 2.06-.94-2.06-.94L8.5 2.5l-.94 2.06-2.06.94zm10 10l.94 2.06.94-2.06 2.06-.94-2.06-.94-.94-2.06-.94 2.06-2.06.94z\"/><path d=\"M17.41 7.96l-1.37-1.37c-.4-.4-.92-.59-1.43-.59-.52 0-1.04.2-1.43.59L10.3 9.45l-7.72 7.72c-.78.78-.78 2.05 0 2.83L4 21.41c.39.39.9.59 1.41.59.51 0 1.02-.2 1.41-.59l7.78-7.78 2.81-2.81c.8-.78.8-2.07 0-2.86zM5.41 20L4 18.59l7.72-7.72 1.47 1.35L5.41 20z\"/>\n",
              "  </svg>\n",
              "      </button>\n",
              "      \n",
              "  <style>\n",
              "    .colab-df-container {\n",
              "      display:flex;\n",
              "      flex-wrap:wrap;\n",
              "      gap: 12px;\n",
              "    }\n",
              "\n",
              "    .colab-df-convert {\n",
              "      background-color: #E8F0FE;\n",
              "      border: none;\n",
              "      border-radius: 50%;\n",
              "      cursor: pointer;\n",
              "      display: none;\n",
              "      fill: #1967D2;\n",
              "      height: 32px;\n",
              "      padding: 0 0 0 0;\n",
              "      width: 32px;\n",
              "    }\n",
              "\n",
              "    .colab-df-convert:hover {\n",
              "      background-color: #E2EBFA;\n",
              "      box-shadow: 0px 1px 2px rgba(60, 64, 67, 0.3), 0px 1px 3px 1px rgba(60, 64, 67, 0.15);\n",
              "      fill: #174EA6;\n",
              "    }\n",
              "\n",
              "    [theme=dark] .colab-df-convert {\n",
              "      background-color: #3B4455;\n",
              "      fill: #D2E3FC;\n",
              "    }\n",
              "\n",
              "    [theme=dark] .colab-df-convert:hover {\n",
              "      background-color: #434B5C;\n",
              "      box-shadow: 0px 1px 3px 1px rgba(0, 0, 0, 0.15);\n",
              "      filter: drop-shadow(0px 1px 2px rgba(0, 0, 0, 0.3));\n",
              "      fill: #FFFFFF;\n",
              "    }\n",
              "  </style>\n",
              "\n",
              "      <script>\n",
              "        const buttonEl =\n",
              "          document.querySelector('#df-f50b6a9d-84bb-4f63-9a88-0ed5bbc01a1c button.colab-df-convert');\n",
              "        buttonEl.style.display =\n",
              "          google.colab.kernel.accessAllowed ? 'block' : 'none';\n",
              "\n",
              "        async function convertToInteractive(key) {\n",
              "          const element = document.querySelector('#df-f50b6a9d-84bb-4f63-9a88-0ed5bbc01a1c');\n",
              "          const dataTable =\n",
              "            await google.colab.kernel.invokeFunction('convertToInteractive',\n",
              "                                                     [key], {});\n",
              "          if (!dataTable) return;\n",
              "\n",
              "          const docLinkHtml = 'Like what you see? Visit the ' +\n",
              "            '<a target=\"_blank\" href=https://colab.research.google.com/notebooks/data_table.ipynb>data table notebook</a>'\n",
              "            + ' to learn more about interactive tables.';\n",
              "          element.innerHTML = '';\n",
              "          dataTable['output_type'] = 'display_data';\n",
              "          await google.colab.output.renderOutput(dataTable, element);\n",
              "          const docLink = document.createElement('div');\n",
              "          docLink.innerHTML = docLinkHtml;\n",
              "          element.appendChild(docLink);\n",
              "        }\n",
              "      </script>\n",
              "    </div>\n",
              "  </div>\n",
              "  "
            ]
          },
          "metadata": {},
          "execution_count": 121
        }
      ]
    },
    {
      "cell_type": "markdown",
      "source": [
        "#Variables explicativas: **X**"
      ],
      "metadata": {
        "id": "mfiJbuVb4vKz"
      }
    },
    {
      "cell_type": "code",
      "source": [
        "\n",
        "import matplotlib.pyplot as plt\n",
        "import numpy as np\n",
        "\n",
        "size       = 10\n",
        "num_frames = 40\n",
        "df         = bd_simulaciones.copy()\n",
        "\n",
        "lista_RGBs         = []\n",
        "lista_simulaciones = []\n",
        "\n",
        "X            = []\n",
        "\n",
        "nombre_columnas_ROJO  = ['r' + str(indice) for indice in range(size*size)]\n",
        "nombre_columnas_VERDE = ['g' + str(indice) for indice in range(size*size)]\n",
        "nombre_columnas_AZUL  = ['b' + str(indice) for indice in range(size*size)]\n",
        "\n",
        "# Iteramos por las 8000 filas de la base de datos de prueba\n",
        "for fila in range(len(bd_simulaciones)):\n",
        "  canal_r = pd.array(df[nombre_columnas_ROJO].iloc[fila]).reshape(size,size)\n",
        "  canal_v = pd.array(df[nombre_columnas_VERDE].iloc[fila]).reshape(size,size)\n",
        "  canal_a = pd.array(df[nombre_columnas_AZUL].iloc[fila]).reshape(size,size)\n",
        "\n",
        "  # CUIDADO que np.dstack apila los tres valores de cada pixel\n",
        "  # ----------------------------------------------------------\n",
        "  frame = np.array([canal_r, canal_v, canal_a])\n",
        "\n",
        "  lista_RGBs.append(frame)\n",
        "\n",
        "  if ((fila+1) % num_frames == 0):\n",
        "    lista_simulaciones.append(np.array(lista_RGBs))\n",
        "    lista_RGBs = []  \n",
        "\n",
        "\n",
        "X = np.array(lista_simulaciones)\n",
        "X.shape\n",
        "\n"
      ],
      "metadata": {
        "colab": {
          "base_uri": "https://localhost:8080/"
        },
        "id": "wg_tw-eb1Nnx",
        "outputId": "e667411f-4be6-4dd6-ce68-9ed2dc204667"
      },
      "execution_count": null,
      "outputs": [
        {
          "output_type": "execute_result",
          "data": {
            "text/plain": [
              "(200, 40, 3, 10, 10)"
            ]
          },
          "metadata": {},
          "execution_count": 2
        }
      ]
    },
    {
      "cell_type": "code",
      "source": [],
      "metadata": {
        "id": "74u3JMi9_j9N"
      },
      "execution_count": null,
      "outputs": []
    },
    {
      "cell_type": "code",
      "source": [],
      "metadata": {
        "id": "HxuHfFQS9AAu"
      },
      "execution_count": null,
      "outputs": []
    },
    {
      "cell_type": "markdown",
      "source": [
        "#Target: **Y**."
      ],
      "metadata": {
        "id": "iD0mK_9x485b"
      }
    },
    {
      "cell_type": "code",
      "source": [
        "\n",
        "lista_targets            = []\n",
        "lista_targets_simulacion = []\n",
        "\n",
        "for fila in range(len(bd_simulaciones)):\n",
        "  lista_id_agentes = bd_simulaciones.iloc[fila]['Target'].replace('[','').replace(']','')\n",
        "  target = [int(caracter) for caracter in lista_id_agentes.split(',')]\n",
        "  target = np.array(target)\n",
        "  target = target.reshape(size,size)\n",
        "\n",
        "  # Con los paréntesis  '['  ']' sale de dimensión: (8000, 1, 10, 10)   # <-------------------------- Aquí ajusto la DIMENSIÓN\n",
        "  #lista_targets.append([target])\n",
        "  # Si queremos de dimensión: (8000, 10, 10)\n",
        "  lista_targets_simulacion.append(target)\n",
        "\n",
        "  if ((fila+1) % num_frames == 0):\n",
        "    lista_targets.append(np.array(lista_targets_simulacion))\n",
        "    lista_targets_simulacion = []  \n",
        "\n",
        "Y = np.array(lista_targets)\n",
        "Y.shape\n"
      ],
      "metadata": {
        "colab": {
          "base_uri": "https://localhost:8080/"
        },
        "id": "u6cv6TWZHq3M",
        "outputId": "ba9aaf3e-662a-47e3-9aba-e4bbf640aeca"
      },
      "execution_count": null,
      "outputs": [
        {
          "output_type": "execute_result",
          "data": {
            "text/plain": [
              "(200, 40, 10, 10)"
            ]
          },
          "metadata": {},
          "execution_count": 4
        }
      ]
    },
    {
      "cell_type": "code",
      "source": [],
      "metadata": {
        "id": "GI78Uxq6jzaD"
      },
      "execution_count": null,
      "outputs": []
    },
    {
      "cell_type": "code",
      "source": [],
      "metadata": {
        "id": "BxJYnDphjzdS"
      },
      "execution_count": null,
      "outputs": []
    },
    {
      "cell_type": "markdown",
      "source": [
        "#**CONVERSIÓN EN TENSORES DE PyTorch**."
      ],
      "metadata": {
        "id": "YQSjRMpk5GhL"
      }
    },
    {
      "cell_type": "code",
      "source": [
        "\n",
        "import numpy as np\n",
        "import torch\n",
        "\n",
        "# PRIMERO TENEMOS QUE EXTRAER LA MATRIX:  X\n",
        "# y los valores del TARGET:               Y\n",
        "#\n",
        "# Luego pasaremos (X, Y) al Dataset que creamos a continuación.\n",
        "# --------------------------------------------------------------\n",
        "\n",
        "X_train = X\n",
        "Y_train = Y                 \n",
        "\n",
        "# CREAMOS UNA CLASE PARA LOS DATOS\n",
        "# ================================\n",
        "\n",
        "class Dataset_frames(torch.utils.data.Dataset):\n",
        "  def __init__(self, X, Y):\n",
        "    # self.X = torch.tensor(X).float()\n",
        "    self.X = torch.tensor(X).permute(0,2,1,3,4).float()\n",
        "    self.Y = torch.tensor(Y).long()\n",
        "\n",
        "  def __len__(self):\n",
        "    return len(self.X)\n",
        "\n",
        "  def __getitem__(self, ix):\n",
        "    return self.X[ix], self.Y[ix]\n",
        "\n",
        "\n",
        "# SELECCIONANDO GRUPOS DE OBSERVACIONES PARA VALIDACIÓN\n",
        "# -----------------------------------------------------\n",
        "\n",
        "from sklearn.model_selection import train_test_split\n",
        "\n",
        "X_subset, X_val, Y_subset, Y_val = train_test_split(X_train, Y_train, test_size = 0.2)\n",
        "\n",
        "dataset = {\n",
        "    'train' : Dataset_frames(X_subset, Y_subset),\n",
        "    'val'   : Dataset_frames(X_val, Y_val)\n",
        "}    \n",
        "\n",
        "# Al bajar el batch_size mejora mucho el entrenamiento. Debe ser que si pongo muchos, queda muy poca muestra\n",
        "# Con 30 sale muy malo. Con 10 mejora mucho\n",
        "\n",
        "dataloader = {\n",
        "    'train' : torch.utils.data.DataLoader(dataset['train'], batch_size=10,   shuffle=False),\n",
        "    'val'   : torch.utils.data.DataLoader(dataset['val'],   batch_size=10, shuffle=False)\n",
        "}\n"
      ],
      "metadata": {
        "id": "fJMEv00BHq5m"
      },
      "execution_count": null,
      "outputs": []
    },
    {
      "cell_type": "code",
      "source": [
        "\n",
        "frames, mascara = next(iter(dataloader['train']))\n",
        "frames.shape, mascara.shape\n"
      ],
      "metadata": {
        "colab": {
          "base_uri": "https://localhost:8080/"
        },
        "id": "jZ9zWZmJIMEm",
        "outputId": "c6191a6a-584c-40c2-d17c-1b3304b6692d"
      },
      "execution_count": null,
      "outputs": [
        {
          "output_type": "execute_result",
          "data": {
            "text/plain": [
              "(torch.Size([30, 3, 40, 10, 10]), torch.Size([30, 40, 10, 10]))"
            ]
          },
          "metadata": {},
          "execution_count": 6
        }
      ]
    },
    {
      "cell_type": "markdown",
      "source": [
        "#**DEFINICIÓN DE LA RED Y MÉTODO PARA EL ENTRENAMIENTO**."
      ],
      "metadata": {
        "id": "LZTFi_-K5QpL"
      }
    },
    {
      "cell_type": "code",
      "source": [
        "\n",
        "from sklearn.metrics import accuracy_score\n",
        "\n",
        "# Fijamos el número de canales, filtros y profundidad de la imagen (número de frames de la animación)\n",
        "# ----------------------------------------------------------------\n",
        "n_in        = 3 # 40\n",
        "n_filtros   = 40\n",
        "kernel_size = 3\n",
        "deepth      = 40  # Tomamos 40 frames de animación (parece que itera automáticamente por los índices profundidad y altura y anchura)\n",
        "\n",
        "# CONSTRUIMOS EL MODELO\n",
        "# =====================\n",
        "\n",
        "def softmax(x):\n",
        "  return torch.exp(x) / torch.exp(x).sum(axis=-1, keepdims=True)\n",
        "\n",
        "# ---------------------------------------------------------------------\n",
        "# Probamos inicialmente con un grid (10x10)\n",
        "# ---------------------------------------------------------------------\n",
        "\n",
        "def build_model(c=3, n_filtros=n_filtros, kernel_size=3):        # <-------------------------------------------------------- MODIFICAR (Definir la RED CONVOLUCIONAL)\n",
        "  padding = kernel_size // 2\n",
        "  model = torch.nn.Sequential(\n",
        "      torch.nn.Conv3d(n_in, n_filtros, kernel_size, padding=padding),\n",
        "      torch.nn.ReLU(),\n",
        "      torch.nn.Conv3d(n_filtros, 2, kernel_size, padding=1)\n",
        "  )\n",
        "  return model\n",
        "\n",
        "\n",
        "# DEFINIMOS LA FUNCIÓN DE ENTRENAMIENTO\n",
        "# =====================================\n",
        "\n",
        "def fit(model, dataloader, epochs=10, log_each=1):\n",
        "   criterion = torch.nn.CrossEntropyLoss()\n",
        "   optimizer = torch.optim.SGD(model.parameters(), lr=0.8)\n",
        "\n",
        "   l, acc         = [], []\n",
        "   val_l, val_acc = [], []\n",
        "   \n",
        "   for e in range(1, epochs+1):\n",
        "      _l, _acc = [], []\n",
        "      model.train()  # <------------------------------------------ MODO de ENTRENAMIENTO\n",
        "      for x_b, y_b in dataloader['train']:\n",
        "        y_pred = model(x_b)\n",
        "        loss   = criterion(y_pred, y_b)  \n",
        "        _l.append(loss.item())                                                                        \n",
        "\n",
        "        optimizer.zero_grad()\n",
        "        loss.backward()\n",
        "        optimizer.step()\n",
        "\n",
        "        y_probas = torch.argmax(softmax(y_pred), axis=1)\n",
        "        # Los SCORES de SKLEARN no aceptan matrices, así que hay que convertirlas en dimensión 1D (usar flatten())\n",
        "        _acc.append(accuracy_score(y_b.numpy().flatten(), y_probas.detach().numpy().flatten()))\n",
        "\n",
        "      l.append(np.mean(_l))\n",
        "      acc.append(np.mean(_acc))\n",
        "      if not e % log_each:\n",
        "        print(f\"Epoch {e}/{epochs} loss {l[-1]:.5f} acc {acc[-1]:.5f}\")\n",
        "        #print(f\"Epoch {e}/{epochs} loss {l[-1]:.5f}\")\n",
        "\n",
        "\n",
        "      model.eval()  # <------------------------------------------- MODO de EVALUACIÓN\n",
        "      _l, _acc = [], []\n",
        "      with torch.no_grad():\n",
        "        for x_b, y_b in dataloader['val']:\n",
        "          y_pred = model(x_b)\n",
        "          loss   = criterion(y_pred, y_b)\n",
        "          _l.append(loss.item())\n",
        "          y_probas = torch.argmax(softmax(y_pred), axis=1)\n",
        "          _acc.append(accuracy_score(y_b.numpy().flatten(), y_probas.numpy().flatten()))\n",
        "      val_l.append(np.mean(_l))\n",
        "      val_acc.append(np.mean(_acc))  \n",
        "\n",
        "   return {'epoch':list(range(1,epochs+1)), 'loss':l, 'acc': acc, 'val_loss': val_l, 'val_acc': val_acc}  \n",
        "   #return {'epoch':list(range(1,epochs+1)), 'loss':l, 'val_loss': val_l} \n",
        "\n"
      ],
      "metadata": {
        "id": "h6er9x05IMIe"
      },
      "execution_count": null,
      "outputs": []
    },
    {
      "cell_type": "markdown",
      "source": [
        "#**Nos preparamos para entrenar el modelo**."
      ],
      "metadata": {
        "id": "YSUT-9mY5YdC"
      }
    },
    {
      "cell_type": "code",
      "source": [
        "\n",
        "# INSTANCIAMOS EL MODELO\n",
        "# ======================\n",
        "\n",
        "# Imprimimos junta al número de Epoch, el valor de la función de pérdida y la accuracy (Roza el 90%)\n",
        "model  = build_model()\n",
        "hist   = fit(model, dataloader, 20)\n"
      ],
      "metadata": {
        "colab": {
          "base_uri": "https://localhost:8080/"
        },
        "id": "YWj8mE8aIeuu",
        "outputId": "0933d869-760b-42de-a403-655f75adcccb"
      },
      "execution_count": null,
      "outputs": [
        {
          "output_type": "stream",
          "name": "stdout",
          "text": [
            "Epoch 1/20 loss 0.55111 acc 0.62378\n",
            "Epoch 2/20 loss 0.70775 acc 0.64495\n",
            "Epoch 3/20 loss 0.38867 acc 0.70442\n",
            "Epoch 4/20 loss 0.38147 acc 0.60139\n",
            "Epoch 5/20 loss 0.37430 acc 0.45161\n",
            "Epoch 6/20 loss 0.37072 acc 0.64365\n",
            "Epoch 7/20 loss 0.37189 acc 0.63776\n",
            "Epoch 8/20 loss 0.37166 acc 0.60295\n",
            "Epoch 9/20 loss 0.36556 acc 0.62795\n",
            "Epoch 10/20 loss 0.35552 acc 0.45767\n",
            "Epoch 11/20 loss 0.34444 acc 0.51898\n",
            "Epoch 12/20 loss 0.36880 acc 0.67382\n",
            "Epoch 13/20 loss 0.37199 acc 0.46916\n",
            "Epoch 14/20 loss 0.37188 acc 0.67267\n",
            "Epoch 15/20 loss 0.37184 acc 0.67470\n",
            "Epoch 16/20 loss 0.36293 acc 0.57791\n",
            "Epoch 17/20 loss 0.39284 acc 0.57808\n",
            "Epoch 18/20 loss 0.37206 acc 0.62948\n",
            "Epoch 19/20 loss 0.37192 acc 0.67570\n",
            "Epoch 20/20 loss 0.37191 acc 0.41724\n"
          ]
        }
      ]
    },
    {
      "cell_type": "code",
      "source": [
        "\n",
        "from torchsummary import summary\n",
        "\n",
        "#print(model)\n",
        "\n",
        "# EMPLEAR:\n",
        "# from torchsummary import summary\n",
        "# summary(your_model, input_size=(channels, deepth, H, W))\n",
        "# -------------------------------------------------\n",
        "\n",
        "# Supongo que podría valer: (3, 40, 10, 10)\n",
        "summary(model, input_size=(3, 40, 10, 10))\n"
      ],
      "metadata": {
        "colab": {
          "base_uri": "https://localhost:8080/"
        },
        "id": "itJztOQIIexd",
        "outputId": "6eb4ce88-1251-40f2-fc73-5d50fd1f14d2"
      },
      "execution_count": null,
      "outputs": [
        {
          "output_type": "stream",
          "name": "stdout",
          "text": [
            "----------------------------------------------------------------\n",
            "        Layer (type)               Output Shape         Param #\n",
            "================================================================\n",
            "            Conv3d-1       [-1, 16, 40, 10, 10]           1,312\n",
            "              ReLU-2       [-1, 16, 40, 10, 10]               0\n",
            "            Conv3d-3        [-1, 2, 40, 10, 10]             866\n",
            "================================================================\n",
            "Total params: 2,178\n",
            "Trainable params: 2,178\n",
            "Non-trainable params: 0\n",
            "----------------------------------------------------------------\n",
            "Input size (MB): 0.05\n",
            "Forward/backward pass size (MB): 1.04\n",
            "Params size (MB): 0.01\n",
            "Estimated Total Size (MB): 1.09\n",
            "----------------------------------------------------------------\n"
          ]
        }
      ]
    },
    {
      "cell_type": "code",
      "source": [
        "\n",
        "# GRAFICAMOS LOS RESULTADOS DEL APRENDIZAJE\n",
        "# =========================================\n",
        "\n",
        "import matplotlib.pyplot as plt\n",
        "\n",
        "fig = plt.figure(dpi=60)\n",
        "#fig = plt.figure(figsize=(10,6))\n",
        "ax  = plt.subplot(111)\n",
        "pd.DataFrame(hist).plot(x='epoch', y=['loss','val_loss'], grid=True, ax=ax)\n",
        "#lt.ylim([0,0.010])\n",
        "plt.show()\n"
      ],
      "metadata": {
        "colab": {
          "base_uri": "https://localhost:8080/",
          "height": 237
        },
        "id": "38Frts_OIe6d",
        "outputId": "2a5d9322-d839-4687-c879-588c1de52161"
      },
      "execution_count": null,
      "outputs": [
        {
          "output_type": "display_data",
          "data": {
            "text/plain": [
              "<Figure size 360x240 with 1 Axes>"
            ],
            "image/png": "[encoded data removed]"
          },
          "metadata": {
            "needs_background": "light"
          }
        }
      ]
    },
    {
      "cell_type": "code",
      "source": [
        "\n",
        "# GRAFICAMOS LOS RESULTADOS DEL APRENDIZAJE\n",
        "# =========================================\n",
        "\n",
        "import matplotlib.pyplot as plt\n",
        "\n",
        "fig = plt.figure(dpi=60)\n",
        "#fig = plt.figure(figsize=(10,6))\n",
        "ax  = plt.subplot(111)\n",
        "pd.DataFrame(hist).plot(x='epoch', y=['acc','val_acc'], grid=True, ax=ax)\n",
        "#lt.ylim([0,0.010])\n",
        "plt.show()\n"
      ],
      "metadata": {
        "colab": {
          "base_uri": "https://localhost:8080/",
          "height": 237
        },
        "id": "X1xQVbyoIwa4",
        "outputId": "9134cd76-31a7-4e7f-f023-1e9c21d0b52c"
      },
      "execution_count": null,
      "outputs": [
        {
          "output_type": "display_data",
          "data": {
            "text/plain": [
              "<Figure size 360x240 with 1 Axes>"
            ],
            "image/png": "[encoded data removed]"
          },
          "metadata": {
            "needs_background": "light"
          }
        }
      ]
    },
    {
      "cell_type": "markdown",
      "source": [
        "#Comprobamos con alguno de los grid de las simulaciones, la detección de los **agentes mutantes**."
      ],
      "metadata": {
        "id": "KeXBtm6bMqRd"
      }
    },
    {
      "cell_type": "code",
      "source": [
        "\n",
        "from sklearn.metrics import confusion_matrix\n",
        "\n",
        "torch.set_printoptions(precision=2)\n",
        "\n",
        "X_prueba, y_prueba = next(iter(dataloader['val']))\n",
        "y_prediccion = model(X_prueba)\n",
        "\n",
        "y_prob = torch.argmax(softmax(y_prediccion), axis=1)\n",
        "y_prob[1]\n"
      ],
      "metadata": {
        "id": "Hn7JexuVIe8u",
        "colab": {
          "base_uri": "https://localhost:8080/"
        },
        "outputId": "78e66fff-66c0-4172-cf0a-cd508bff6984"
      },
      "execution_count": null,
      "outputs": [
        {
          "output_type": "execute_result",
          "data": {
            "text/plain": [
              "tensor([[[0, 0, 1,  ..., 1, 1, 1],\n",
              "         [1, 1, 0,  ..., 0, 0, 0],\n",
              "         [0, 0, 0,  ..., 0, 0, 0],\n",
              "         ...,\n",
              "         [0, 0, 0,  ..., 0, 0, 0],\n",
              "         [0, 0, 0,  ..., 0, 0, 0],\n",
              "         [0, 0, 0,  ..., 0, 0, 0]],\n",
              "\n",
              "        [[1, 0, 1,  ..., 1, 1, 1],\n",
              "         [1, 1, 0,  ..., 0, 0, 0],\n",
              "         [0, 0, 0,  ..., 0, 0, 0],\n",
              "         ...,\n",
              "         [0, 0, 0,  ..., 0, 0, 0],\n",
              "         [0, 0, 0,  ..., 0, 0, 0],\n",
              "         [0, 0, 0,  ..., 0, 0, 0]],\n",
              "\n",
              "        [[1, 0, 0,  ..., 0, 0, 0],\n",
              "         [1, 1, 0,  ..., 0, 0, 0],\n",
              "         [0, 0, 0,  ..., 0, 0, 0],\n",
              "         ...,\n",
              "         [0, 0, 0,  ..., 0, 0, 0],\n",
              "         [0, 0, 0,  ..., 0, 0, 0],\n",
              "         [0, 0, 0,  ..., 0, 0, 0]],\n",
              "\n",
              "        ...,\n",
              "\n",
              "        [[1, 0, 1,  ..., 1, 1, 1],\n",
              "         [1, 1, 0,  ..., 0, 0, 0],\n",
              "         [0, 0, 0,  ..., 0, 0, 0],\n",
              "         ...,\n",
              "         [0, 0, 0,  ..., 0, 0, 0],\n",
              "         [0, 0, 0,  ..., 0, 0, 0],\n",
              "         [0, 0, 0,  ..., 0, 0, 0]],\n",
              "\n",
              "        [[1, 1, 1,  ..., 0, 0, 1],\n",
              "         [1, 1, 1,  ..., 0, 0, 1],\n",
              "         [0, 0, 0,  ..., 0, 0, 0],\n",
              "         ...,\n",
              "         [0, 0, 0,  ..., 0, 0, 0],\n",
              "         [1, 1, 1,  ..., 1, 0, 1],\n",
              "         [1, 1, 1,  ..., 1, 0, 0]],\n",
              "\n",
              "        [[1, 1, 1,  ..., 0, 0, 1],\n",
              "         [1, 1, 1,  ..., 0, 0, 1],\n",
              "         [0, 0, 0,  ..., 0, 0, 0],\n",
              "         ...,\n",
              "         [0, 0, 0,  ..., 0, 0, 0],\n",
              "         [0, 0, 0,  ..., 0, 0, 1],\n",
              "         [0, 0, 0,  ..., 0, 1, 1]]])"
            ]
          },
          "metadata": {},
          "execution_count": 85
        }
      ]
    },
    {
      "cell_type": "code",
      "source": [
        "\n",
        "y_prueba[1]\n"
      ],
      "metadata": {
        "id": "Hi1xCtB22fIk",
        "colab": {
          "base_uri": "https://localhost:8080/"
        },
        "outputId": "ab36fcc1-3e14-4fc0-bdf2-58131e9b9b3c"
      },
      "execution_count": null,
      "outputs": [
        {
          "output_type": "execute_result",
          "data": {
            "text/plain": [
              "tensor([[[0, 0, 0,  ..., 0, 0, 0],\n",
              "         [0, 0, 0,  ..., 0, 0, 0],\n",
              "         [0, 0, 0,  ..., 0, 0, 0],\n",
              "         ...,\n",
              "         [0, 0, 0,  ..., 0, 0, 0],\n",
              "         [0, 0, 0,  ..., 0, 0, 0],\n",
              "         [0, 0, 0,  ..., 0, 0, 0]],\n",
              "\n",
              "        [[0, 0, 0,  ..., 0, 0, 0],\n",
              "         [0, 0, 0,  ..., 0, 0, 0],\n",
              "         [0, 0, 0,  ..., 0, 0, 0],\n",
              "         ...,\n",
              "         [0, 0, 0,  ..., 0, 0, 0],\n",
              "         [0, 0, 0,  ..., 0, 0, 0],\n",
              "         [0, 0, 0,  ..., 0, 0, 0]],\n",
              "\n",
              "        [[0, 0, 0,  ..., 0, 0, 0],\n",
              "         [0, 0, 0,  ..., 0, 0, 0],\n",
              "         [0, 0, 0,  ..., 0, 0, 0],\n",
              "         ...,\n",
              "         [0, 0, 0,  ..., 0, 0, 0],\n",
              "         [0, 0, 0,  ..., 0, 0, 0],\n",
              "         [0, 0, 0,  ..., 0, 0, 0]],\n",
              "\n",
              "        ...,\n",
              "\n",
              "        [[0, 0, 0,  ..., 0, 0, 0],\n",
              "         [0, 0, 0,  ..., 0, 0, 0],\n",
              "         [0, 0, 0,  ..., 0, 0, 0],\n",
              "         ...,\n",
              "         [0, 0, 0,  ..., 0, 0, 0],\n",
              "         [0, 0, 0,  ..., 0, 0, 0],\n",
              "         [0, 0, 0,  ..., 0, 0, 0]],\n",
              "\n",
              "        [[0, 0, 0,  ..., 0, 0, 0],\n",
              "         [0, 0, 0,  ..., 0, 0, 0],\n",
              "         [0, 0, 0,  ..., 0, 0, 0],\n",
              "         ...,\n",
              "         [0, 0, 0,  ..., 0, 0, 0],\n",
              "         [0, 0, 0,  ..., 0, 0, 0],\n",
              "         [0, 0, 0,  ..., 0, 0, 0]],\n",
              "\n",
              "        [[0, 0, 0,  ..., 0, 0, 0],\n",
              "         [0, 0, 0,  ..., 0, 0, 0],\n",
              "         [0, 0, 0,  ..., 0, 0, 0],\n",
              "         ...,\n",
              "         [0, 0, 0,  ..., 0, 0, 0],\n",
              "         [0, 0, 0,  ..., 0, 0, 0],\n",
              "         [0, 0, 0,  ..., 0, 0, 0]]])"
            ]
          },
          "metadata": {},
          "execution_count": 66
        }
      ]
    },
    {
      "cell_type": "code",
      "source": [
        "\n",
        "y_prob[1].shape\n"
      ],
      "metadata": {
        "colab": {
          "base_uri": "https://localhost:8080/"
        },
        "id": "grtfuCfqFs05",
        "outputId": "3c042633-39ae-4960-c16e-852fc0800720"
      },
      "execution_count": null,
      "outputs": [
        {
          "output_type": "execute_result",
          "data": {
            "text/plain": [
              "torch.Size([40, 10, 10])"
            ]
          },
          "metadata": {},
          "execution_count": 67
        }
      ]
    },
    {
      "cell_type": "code",
      "source": [
        "\n",
        "y_prueba[1].shape\n"
      ],
      "metadata": {
        "colab": {
          "base_uri": "https://localhost:8080/"
        },
        "id": "-mA4XKyWdbrW",
        "outputId": "d2c5fd11-0e37-4e56-d0ca-f8339d6c1ea4"
      },
      "execution_count": null,
      "outputs": [
        {
          "output_type": "execute_result",
          "data": {
            "text/plain": [
              "torch.Size([40, 10, 10])"
            ]
          },
          "metadata": {},
          "execution_count": 68
        }
      ]
    },
    {
      "cell_type": "code",
      "source": [
        "y_prob[1, 1]"
      ],
      "metadata": {
        "colab": {
          "base_uri": "https://localhost:8080/"
        },
        "id": "s0gHlHCBGQ55",
        "outputId": "0c21cd48-bac6-4a2e-f545-6164189b2b81"
      },
      "execution_count": null,
      "outputs": [
        {
          "output_type": "execute_result",
          "data": {
            "text/plain": [
              "tensor([[0, 0, 0, 0, 0, 0, 0, 0, 0, 1],\n",
              "        [0, 0, 0, 0, 0, 0, 0, 0, 0, 1],\n",
              "        [0, 0, 0, 0, 0, 0, 0, 0, 1, 1],\n",
              "        [0, 0, 0, 0, 0, 0, 0, 0, 1, 1],\n",
              "        [0, 0, 0, 0, 0, 0, 0, 0, 1, 1],\n",
              "        [0, 0, 0, 0, 0, 0, 0, 0, 1, 1],\n",
              "        [0, 0, 0, 0, 0, 0, 0, 0, 1, 1],\n",
              "        [0, 0, 0, 0, 0, 0, 0, 0, 1, 1],\n",
              "        [0, 0, 0, 0, 0, 0, 0, 0, 1, 0],\n",
              "        [0, 0, 0, 0, 0, 0, 0, 0, 1, 0]])"
            ]
          },
          "metadata": {},
          "execution_count": 69
        }
      ]
    },
    {
      "cell_type": "code",
      "source": [
        "y_prueba[1, 1]"
      ],
      "metadata": {
        "colab": {
          "base_uri": "https://localhost:8080/"
        },
        "id": "Id6FllmVGWa4",
        "outputId": "9529d75a-16ac-4090-d7be-d629c1b3d3a9"
      },
      "execution_count": null,
      "outputs": [
        {
          "output_type": "execute_result",
          "data": {
            "text/plain": [
              "tensor([[0, 0, 0, 0, 0, 0, 0, 0, 0, 0],\n",
              "        [0, 0, 0, 0, 0, 0, 0, 0, 0, 0],\n",
              "        [0, 0, 0, 0, 0, 0, 0, 0, 0, 0],\n",
              "        [0, 0, 0, 0, 0, 0, 0, 0, 0, 0],\n",
              "        [0, 0, 0, 0, 0, 0, 0, 0, 0, 0],\n",
              "        [0, 0, 0, 0, 0, 0, 0, 0, 0, 0],\n",
              "        [0, 0, 0, 0, 0, 0, 0, 0, 0, 0],\n",
              "        [0, 0, 0, 0, 0, 0, 0, 0, 0, 0],\n",
              "        [0, 0, 0, 0, 0, 0, 0, 0, 0, 0],\n",
              "        [0, 0, 0, 0, 0, 0, 0, 0, 0, 0]])"
            ]
          },
          "metadata": {},
          "execution_count": 70
        }
      ]
    },
    {
      "cell_type": "code",
      "source": [
        "y_prob.shape, y_prueba.shape"
      ],
      "metadata": {
        "colab": {
          "base_uri": "https://localhost:8080/"
        },
        "id": "pd2nniTNGQ8x",
        "outputId": "15c80f07-5722-45f8-8c91-a68957937d04"
      },
      "execution_count": null,
      "outputs": [
        {
          "output_type": "execute_result",
          "data": {
            "text/plain": [
              "(torch.Size([30, 40, 10, 10]), torch.Size([30, 40, 10, 10]))"
            ]
          },
          "metadata": {},
          "execution_count": 46
        }
      ]
    },
    {
      "cell_type": "code",
      "source": [
        "\n",
        "# SALEN BIEN LOS CANALES: 2 canales por cada imagen que hemos metido --> lote de 30 videos (los cuales cada uno tiene 40 frames)\n",
        "# -----------------------\n",
        "y_prediccion.shape\n"
      ],
      "metadata": {
        "colab": {
          "base_uri": "https://localhost:8080/"
        },
        "id": "1Twk2Me2QzJb",
        "outputId": "e18615a5-04c3-49d1-c1bd-fe4f1af69272"
      },
      "execution_count": null,
      "outputs": [
        {
          "output_type": "execute_result",
          "data": {
            "text/plain": [
              "torch.Size([30, 2, 40, 10, 10])"
            ]
          },
          "metadata": {},
          "execution_count": 47
        }
      ]
    },
    {
      "cell_type": "code",
      "source": [
        "\n",
        "# PODRÍAMOS CONSIDERAR 40 REPETICIONES DE LA PREDICCIÓN (como si fuera un ensamblado)\n",
        "# y tomar el máximo como predicción GLOBAL\n",
        "# -----------------------------------------------------------------------------------\n"
      ],
      "metadata": {
        "id": "xQQnESAERGMT"
      },
      "execution_count": null,
      "outputs": []
    },
    {
      "cell_type": "code",
      "source": [],
      "metadata": {
        "id": "WufGIcjpRGPs"
      },
      "execution_count": null,
      "outputs": []
    },
    {
      "cell_type": "code",
      "source": [],
      "metadata": {
        "id": "KFSWnl38QzMd"
      },
      "execution_count": null,
      "outputs": []
    },
    {
      "cell_type": "markdown",
      "source": [
        "#Elegimos un caso para evaluar el clasificador binario. Empleamos la matriz de confusión:"
      ],
      "metadata": {
        "id": "VBCtxC5QM3m6"
      }
    },
    {
      "cell_type": "code",
      "source": [
        "\n",
        "confusion_matrix(y_prueba[1].flatten().numpy(), y_prob[1].flatten().numpy())\n"
      ],
      "metadata": {
        "colab": {
          "base_uri": "https://localhost:8080/"
        },
        "id": "49OtnblZLoBQ",
        "outputId": "97500a67-367f-412d-b7f2-2fea1bc4a1b8"
      },
      "execution_count": null,
      "outputs": [
        {
          "output_type": "execute_result",
          "data": {
            "text/plain": [
              "array([[2613,  227],\n",
              "       [ 993,  167]])"
            ]
          },
          "metadata": {},
          "execution_count": 86
        }
      ]
    },
    {
      "cell_type": "code",
      "source": [
        "\n",
        "from sklearn.metrics import ConfusionMatrixDisplay\n",
        "\n",
        "# Agente emocional         --> código: 0\n",
        "# Agente mutante (traidor) --> código: 1\n",
        "# --------------------------------------\n",
        "ConfusionMatrixDisplay.from_predictions(y_prueba[1].flatten().numpy(), y_prob[1].flatten().numpy())\n"
      ],
      "metadata": {
        "colab": {
          "base_uri": "https://localhost:8080/",
          "height": 296
        },
        "id": "Sefzg9DcNDWA",
        "outputId": "158f1935-917b-4ffd-de5f-5aef0cf32a76"
      },
      "execution_count": null,
      "outputs": [
        {
          "output_type": "execute_result",
          "data": {
            "text/plain": [
              "<sklearn.metrics._plot.confusion_matrix.ConfusionMatrixDisplay at 0x7f42a46336d0>"
            ]
          },
          "metadata": {},
          "execution_count": 87
        },
        {
          "output_type": "display_data",
          "data": {
            "text/plain": [
              "<Figure size 432x288 with 2 Axes>"
            ],
            "image/png": "[encoded data removed]"
          },
          "metadata": {
            "needs_background": "light"
          }
        }
      ]
    },
    {
      "cell_type": "markdown",
      "source": [
        "#Ahora probamos con todos los píxeles de los frames (de 10x10) del conjunto de **DATOS de ENTRENAMIENTO**."
      ],
      "metadata": {
        "id": "iMFiQxobWJEM"
      }
    },
    {
      "cell_type": "markdown",
      "source": [
        "<font color='red'>Parece que aprende a decir la clase más representada</font>"
      ],
      "metadata": {
        "id": "Y2-H7wGNdQvZ"
      }
    },
    {
      "cell_type": "code",
      "source": [
        "\n",
        "from functools import reduce \n",
        "\n",
        "predicciones_train  = []\n",
        "observaciones_train = []\n",
        "\n",
        "# Iteramos por el conjunto de datos de Validación\n",
        "# -----------------------------------------------\n",
        "for x_b, y_b in dataloader['train']:\n",
        "  y_pred = model(x_b)\n",
        "  y_prob = torch.argmax(softmax(y_pred), axis=1)\n",
        "  # Se añaden como arrays a la lista, por lo que convertimos previamente a una lista\n",
        "  # El resultado es una lista de lista, por lo que las reducimos a una sola más abajo\n",
        "  # (Esto es así porque el procedimiento confusion_matrix sólo opera datos de 1 dimensión)\n",
        "  predicciones_train.append(list(y_prob.numpy().flatten()))\n",
        "  observaciones_train.append(list(y_b.numpy().flatten()))\n",
        "\n",
        "data_pred_train = reduce(lambda a, b: a+b, predicciones_train)\n",
        "data_obs_train  = reduce(lambda a, b: a+b, observaciones_train) \n",
        "\n",
        "confusion_matrix(data_obs_train, data_pred_train)\n"
      ],
      "metadata": {
        "colab": {
          "base_uri": "https://localhost:8080/"
        },
        "id": "nkfBdKVlXisn",
        "outputId": "eec1e60d-dfa6-4da7-cd5c-5d8ce07051af"
      },
      "execution_count": null,
      "outputs": [
        {
          "output_type": "execute_result",
          "data": {
            "text/plain": [
              "array([[544347,  17533],\n",
              "       [ 74699,   3421]])"
            ]
          },
          "metadata": {},
          "execution_count": 88
        }
      ]
    },
    {
      "cell_type": "code",
      "source": [
        "\n",
        "ConfusionMatrixDisplay.from_predictions(data_obs_train, data_pred_train, normalize='all', values_format='.3%')\n"
      ],
      "metadata": {
        "colab": {
          "base_uri": "https://localhost:8080/",
          "height": 296
        },
        "id": "dgc1lhFhYIHw",
        "outputId": "c629c618-b03a-44d0-f90e-174401b9118b"
      },
      "execution_count": null,
      "outputs": [
        {
          "output_type": "execute_result",
          "data": {
            "text/plain": [
              "<sklearn.metrics._plot.confusion_matrix.ConfusionMatrixDisplay at 0x7f42a46605d0>"
            ]
          },
          "metadata": {},
          "execution_count": 89
        },
        {
          "output_type": "display_data",
          "data": {
            "text/plain": [
              "<Figure size 432x288 with 2 Axes>"
            ],
            "image/png": "[encoded data removed]"
          },
          "metadata": {
            "needs_background": "light"
          }
        }
      ]
    },
    {
      "cell_type": "markdown",
      "source": [
        "#Ahora probamos con todos los píxeles de los frames (de 10x10) del conjunto de **DATOS de VALIDACIÓN**."
      ],
      "metadata": {
        "id": "keAxNcQDX8i7"
      }
    },
    {
      "cell_type": "code",
      "source": [
        "\n",
        "from functools import reduce \n",
        "\n",
        "predicciones  = []\n",
        "observaciones = []\n",
        "\n",
        "# Iteramos por el conjunto de datos de Validación\n",
        "# -----------------------------------------------\n",
        "for x_b, y_b in dataloader['val']:\n",
        "  y_pred = model(x_b)\n",
        "  y_prob = torch.argmax(softmax(y_pred), axis=1)\n",
        "  # Se añaden como arrays a la lista, por lo que convertimos previamente a una lista\n",
        "  # El resultado es una lista de lista, por lo que las reducimos a una sola más abajo\n",
        "  # (Esto es así porque el procedimiento confusion_matrix sólo opera datos de 1 dimensión)\n",
        "  predicciones.append(list(y_prob.numpy().flatten()))\n",
        "  observaciones.append(list(y_b.numpy().flatten()))\n",
        "\n",
        "data_pred = reduce(lambda a, b: a+b, predicciones)\n",
        "data_obs  = reduce(lambda a, b: a+b, observaciones) \n",
        "\n",
        "confusion_matrix(data_obs, data_pred)\n",
        "\n"
      ],
      "metadata": {
        "colab": {
          "base_uri": "https://localhost:8080/"
        },
        "id": "jiwZToVDMDRz",
        "outputId": "982909b5-b28f-4d17-9845-2ffd6e6a35c1"
      },
      "execution_count": null,
      "outputs": [
        {
          "output_type": "execute_result",
          "data": {
            "text/plain": [
              "array([[133354,   4886],\n",
              "       [ 20663,   1097]])"
            ]
          },
          "metadata": {},
          "execution_count": 90
        }
      ]
    },
    {
      "cell_type": "code",
      "source": [
        "\n",
        "ConfusionMatrixDisplay.from_predictions(data_obs, data_pred, normalize='all', values_format='.3%')\n"
      ],
      "metadata": {
        "colab": {
          "base_uri": "https://localhost:8080/",
          "height": 296
        },
        "id": "3pgxs82eUOOX",
        "outputId": "6c49397f-588d-45d8-902e-3cacca27a1a2"
      },
      "execution_count": null,
      "outputs": [
        {
          "output_type": "execute_result",
          "data": {
            "text/plain": [
              "<sklearn.metrics._plot.confusion_matrix.ConfusionMatrixDisplay at 0x7f42a4bf7cd0>"
            ]
          },
          "metadata": {},
          "execution_count": 91
        },
        {
          "output_type": "display_data",
          "data": {
            "text/plain": [
              "<Figure size 432x288 with 2 Axes>"
            ],
            "image/png": "[encoded data removed]"
          },
          "metadata": {
            "needs_background": "light"
          }
        }
      ]
    },
    {
      "cell_type": "code",
      "source": [],
      "metadata": {
        "id": "YAxNv1nBS12x"
      },
      "execution_count": null,
      "outputs": []
    },
    {
      "cell_type": "code",
      "source": [],
      "metadata": {
        "id": "xqK9HDUQS15Y"
      },
      "execution_count": null,
      "outputs": []
    },
    {
      "cell_type": "markdown",
      "source": [
        "#<font color='red'>PRUEBAS</font> (Por si tengo que construir un ensamblado con la respuesta más frecuente entre las 40 matrices - una por cada frame -, aunque como la respuesta misma se repite por todo el lote no debería hacer falta)"
      ],
      "metadata": {
        "id": "xRZ8P789JnAS"
      }
    },
    {
      "cell_type": "code",
      "source": [
        "\n",
        "# Consulta: How does one use 3D convolutions on standard 3 channel images?\n",
        "# https://stackoverflow.com/questions/57484508/how-does-one-use-3d-convolutions-on-standard-3-channel-images \n",
        "# EJEMPLO:\n",
        "# --------\n",
        "\n",
        "torch.set_printoptions(precision=2)\n",
        "\n",
        "torch.random.manual_seed(0)\n",
        "N,C,D,H,W = 1,3,1,7,7\n",
        "img = torch.randn(N,C,D,H,W)\n",
        "\n",
        "# PARÁMETROS\n",
        "# ----------\n",
        "in_channels = C\n",
        "out_channels = 2\n",
        "kernel_size = 3\n",
        "# -------------------\n",
        "\n",
        "padding = kernel_size // 2\n",
        "\n",
        "# RED\n",
        "# ---\n",
        "conv = torch.nn.Conv3d(in_channels, out_channels, kernel_size, padding=padding)\n",
        "#conv = torch.nn.Sequential(\n",
        "#    torch.nn.Conv3d(in_channels, out_channels, kernel_size, padding=1),\n",
        "#    torch.nn.ReLU(),\n",
        "#    torch.nn.Conv3d(n_filtros, 2, kernel_size, padding=1)\n",
        "#)\n",
        "\n",
        "\n",
        "# SALIDA:\n",
        "# -------\n",
        "# Le pasamos un video (N=1), con 3 canales (C=3), y una profundidad de 1 frames (D=1): N,C,D,H,W = 1,3,1,7,7\n",
        "# Las dimensiones de la imagen son de: 7x7\n",
        "\n",
        "out = conv(img)\n",
        "\n",
        "print(out)\n",
        "print(out.size())\n",
        "\n"
      ],
      "metadata": {
        "colab": {
          "base_uri": "https://localhost:8080/"
        },
        "id": "VoPSUVqOJrt4",
        "outputId": "9e29c1b7-56c6-48de-eb36-fc2805e4613c"
      },
      "execution_count": null,
      "outputs": [
        {
          "output_type": "stream",
          "name": "stdout",
          "text": [
            "tensor([[[[[ 0.40, -0.45,  0.33, -0.21,  0.28,  0.35, -0.22],\n",
            "           [-0.07, -0.21, -0.18, -0.02,  0.00,  0.59, -0.22],\n",
            "           [ 0.01, -0.10,  0.19, -0.32, -0.19, -0.11,  0.20],\n",
            "           [ 0.24,  0.63,  0.60,  0.41, -0.25,  0.61,  0.36],\n",
            "           [ 0.01, -0.39, -0.03,  0.10,  0.29, -0.13,  0.31],\n",
            "           [-0.29,  0.02,  0.16,  0.03,  0.57,  0.11,  0.06],\n",
            "           [ 0.14,  0.31,  0.24,  0.32,  0.59, -0.11, -0.18]]],\n",
            "\n",
            "\n",
            "         [[[ 0.35,  0.22,  0.26,  0.38,  0.13,  0.01, -0.07],\n",
            "           [-0.30,  0.33,  0.46,  0.33,  0.26, -0.37,  0.03],\n",
            "           [ 0.08,  0.27,  0.13,  0.21,  0.30,  0.27, -0.29],\n",
            "           [ 0.25, -0.45, -0.20, -0.50, -0.02, -0.03, -0.26],\n",
            "           [ 0.27, -0.08, -0.21,  0.03,  0.25,  0.69, -0.27],\n",
            "           [-0.15,  0.15,  0.03, -0.15,  0.33,  0.32,  0.27],\n",
            "           [-0.07, -0.07, -0.32,  0.10, -0.37,  0.06,  0.41]]]]],\n",
            "       grad_fn=<ConvolutionBackward0>)\n",
            "torch.Size([1, 2, 1, 7, 7])\n"
          ]
        }
      ]
    },
    {
      "cell_type": "code",
      "source": [
        "\n",
        "import numpy as np\n",
        "np.set_printoptions(precision=2)\n",
        "\n",
        "# size = 7x7\n",
        "v = np.zeros((7,7))\n",
        "\n",
        "\n",
        "for i in range(7):\n",
        "  for j in range(7):\n",
        "    v[i,j] = max(out[0,:,0,i,j])\n",
        "\n",
        "#matriz_numpy = out.squeeze(0).detach().numpy()\n",
        "#matriz_numpy\n",
        "#np.max(out.detach().numpy())\n",
        "\n",
        "v\n"
      ],
      "metadata": {
        "colab": {
          "base_uri": "https://localhost:8080/"
        },
        "id": "SDvuqb9DJr3_",
        "outputId": "7247672c-d295-4cfc-c0c1-93d957867511"
      },
      "execution_count": null,
      "outputs": [
        {
          "output_type": "execute_result",
          "data": {
            "text/plain": [
              "array([[ 0.4 ,  0.22,  0.33,  0.38,  0.28,  0.35, -0.07],\n",
              "       [-0.07,  0.33,  0.46,  0.33,  0.26,  0.59,  0.03],\n",
              "       [ 0.08,  0.27,  0.19,  0.21,  0.3 ,  0.27,  0.2 ],\n",
              "       [ 0.25,  0.63,  0.6 ,  0.41, -0.02,  0.61,  0.36],\n",
              "       [ 0.27, -0.08, -0.03,  0.1 ,  0.29,  0.69,  0.31],\n",
              "       [-0.15,  0.15,  0.16,  0.03,  0.57,  0.32,  0.27],\n",
              "       [ 0.14,  0.31,  0.24,  0.32,  0.59,  0.06,  0.41]])"
            ]
          },
          "metadata": {},
          "execution_count": 58
        }
      ]
    }
  ]
}