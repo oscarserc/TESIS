{
  "nbformat": 4,
  "nbformat_minor": 0,
  "metadata": {
    "colab": {
      "provenance": [],
      "collapsed_sections": [],
      "authorship_tag": "ABX9TyPmsTzTL3tlOLPzlqoHHW0p",
      "include_colab_link": true
    },
    "kernelspec": {
      "name": "python3",
      "display_name": "Python 3"
    },
    "language_info": {
      "name": "python"
    }
  },
  "cells": [
    {
      "cell_type": "markdown",
      "metadata": {
        "id": "view-in-github",
        "colab_type": "text"
      },
      "source": [
        "<a href=\"https://colab.research.google.com/github/oscarserc/TESIS/blob/main/PASO_2____Generacion_de_Base_de_Datos_con_interacciones.ipynb\" target=\"_parent\"><img src=\"https://colab.research.google.com/assets/colab-badge.svg\" alt=\"Open In Colab\"/></a>"
      ]
    },
    {
      "cell_type": "markdown",
      "source": [
        "#**GENERACIÓN de una BASE DE DATOS con las interacciones de la Red Social:** La base de datos nos permitirá emplear procedimientos de Aprendizaje Automático (Machine Learning).\n",
        "\n",
        "\n"
      ],
      "metadata": {
        "id": "fvLeNgY-29Fp"
      }
    },
    {
      "cell_type": "markdown",
      "source": [
        "#**1). Cargamos algunas librerías empleadas en la creación de agentes y fijamos los valores de los parámetros.**"
      ],
      "metadata": {
        "id": "Icr4mBzmAoZN"
      }
    },
    {
      "cell_type": "code",
      "source": [
        "\n",
        "# Importamos las LIBRERÍAS\n",
        "import numpy as np\n",
        "import pandas as pd\n",
        "import random\n",
        "\n",
        "# En primer lugar procedemos a especificar los parámetros que se emplearán a lo largo del\n",
        "# PROGRAMA\n",
        "# =======================================================================================\n",
        "# PARÁMETROS\n",
        "# ----------\n",
        "alfa    = 0.1     # TASA DE APRENDIZAJE\n",
        "gamma   = 0.1     # TASA DE DESCUENTO\n",
        "epsilon = 0.01    # probabilidad de EXPLORACIÓN    #----> PRIMERO PUSE 0.2\n",
        "num_estados  = 4  # EMOCIONES - Pongo 4: Alegría, Tristeza, Ira, Miedo \n",
        "num_acciones = 2  # Cooperar o NoCooperar\n",
        "\n",
        "# Recompensas intrínsecas\n",
        "r_alegria      = 1       # Quizás poner 1, (2 parece un poco arbitrario)\n",
        "r_ira          = 1\n",
        "r_tristeza     = 1\n",
        "r_miedo        = 1\n",
        "beta           = 0.5\n",
        "\n",
        "# TAMAÑOS POBLACIONALES (Inicialmente ponemos todos AGENTES EMOCIONALES)\n",
        "probabilidad_clases = np.zeros(3)\n",
        "# Para la experimentación con TRAIDORES poner un parámetro 'p' por ejemplo, y hacerlo recorrer el intervalo\n",
        "#     p in (0.1, 0.2, 0.3, 0.4, 0.5, 0.6, 0.7, 0.8, 0.9, 1)\n",
        "#            probabilidad_clases[0] = 1 - p\n",
        "#            probabilidad_clases[1] = p\n",
        "probabilidad_clases[0] = 0.25   # Primer punto de corte > Si es menor que: 100 deja hueco por encima a  TRAIDOR  INGENUO  Tit-for-Tat\n",
        "probabilidad_clases[1] = 0.75   #                         Por encima:                                      -     INGENUO  Tit-for-Tat\n",
        "probabilidad_clases[2] = 0.0    #                         Por encima:                                      -        -     Tit-for-Tat\n",
        "\n",
        "# TAMAÑO DE LA CUADRICULA (Grid) - Por ejemplo: (size=10)  =>  (10 filas x 10 columnas)\n",
        "size = 10 # 20\n",
        "\n",
        "# COMPROBACIÓN DE SEGURIDAD: Voy a ver si los objetos son alterados \n",
        "LISTA_IDs      = []\n",
        "# -----------------------------------------------------------------\n",
        "\n",
        "LISTA_MUTANTES = []\n",
        "LISTA_NODOS_VECINOS = []\n",
        "MATRIZ_ADYACENCIA_Red_Social = np.zeros((size*size + 1, size*size + 1))\n"
      ],
      "metadata": {
        "id": "IB4YSuCo2wUK"
      },
      "execution_count": null,
      "outputs": []
    },
    {
      "cell_type": "markdown",
      "source": [
        "#**2). Definimos las clases de los AGENTES que intervienen en el programa**\n",
        "\n",
        "<figure>\n",
        "<center>\n",
        "<img src='https://github.com/oscarserc/IMAGENES/blob/main/Jerarquia_Objetos_Agente_1a.png?raw=true' width=\"600\"/>\n",
        "<figcaption></figcaption></center>\n",
        "</figure>\n",
        "\n",
        "Partimos de un AGENTE EMOCIONAL. Es el objeto principal, y a partir de él creamos otros 3 tipos de Agentes MUTANTES, que toman decisiones como un Autómata Celular."
      ],
      "metadata": {
        "id": "Ew8ha7003LRS"
      }
    },
    {
      "cell_type": "markdown",
      "source": [
        "#A) CLASE AGENTE EMOCIONAL\n",
        "\n",
        "<figure>\n",
        "<center>\n",
        "<img src='https://github.com/oscarserc/IMAGENES/blob/main/grafo_4B_GLOBAL_A%C3%B1ado_Miedo_2.png?raw=true' width=\"700\"/>\n",
        "<figcaption></figcaption></center>\n",
        "</figure>\n",
        "\n",
        "Las EMOCIONES que gobiernan la toma de decisiones del agentes podemos analizarlas separadamente. En color amarillo vemos el tipo de transiciones emocionales a las que se enfrenta el AGENTE, según la decisión de su oponente (*en linea discontinua*) partiendo de su propia decisión (*en linea continua*). A continuación aparece el gráfico asociado a las emociones MIEDO e IRA.\n",
        "\n",
        "<figure>\n",
        "<center>\n",
        "<img src='https://github.com/oscarserc/IMAGENES/blob/main/grafo_4B_IRA_Marco.png?raw=true' width=\"430\"/>\n",
        "<img src='https://github.com/oscarserc/IMAGENES/blob/main/grafo_4B_MIEDO_Marco_2.png?raw=true' width=\"470\"/>\n",
        "<figcaption></figcaption></center>\n",
        "</figure>\n",
        "\n",
        "Las transiciones asociadas a las emociones TRISTEZA y ALEGRÍA aparecen a continuación.\n",
        "\n",
        "<figure>\n",
        "<center>\n",
        "<img src='https://github.com/oscarserc/IMAGENES/blob/main/grafo_4_TRISTEZA_Marco.png?raw=true' width=\"430\"/>\n",
        "<img src='https://github.com/oscarserc/IMAGENES/blob/main/grafo_4_ALEGRIA_Marco.png?raw=true' width=\"470\"/>\n",
        "<figcaption></figcaption></center>\n",
        "</figure>\n",
        "\n"
      ],
      "metadata": {
        "id": "GZHnKPpS3aLS"
      }
    },
    {
      "cell_type": "code",
      "source": [
        "\n",
        "# CLASE PRINCIPAL\n",
        "# ===============\n",
        "\n",
        "# 1) Clase AGENTE EMOCIONAL >>> Primera prueba: (Agente con exploración epsilon-greedy)\n",
        "# -------------------------\n",
        "\n",
        "class AgenteEmocional(object):\n",
        "  def __init__(self, alfa=0.1, gamma=0.1):\n",
        "     self.alfa     = alfa\n",
        "     self.gamma    = gamma\n",
        "     self.estados  = num_estados\n",
        "     self.acciones = num_acciones\n",
        "     self.MUTANTE               = 0  \n",
        "     self.TRAICIONADO           = 0  # A cero mientras no sea traicionado\n",
        "     self.num_vecinos           = 0\n",
        "     self.Numero_nodo           = 0\n",
        "     self.lista_nodos_vecinos   = [] # Preparo para distribuir pagos a todos los jugadores que intervienen en la jugada\n",
        "     self.lista_vecinos_grid    = [] # y para crear una MATRIZ de ADYACENCIA y dibujar un grafo de la Red-Grid\n",
        "     \n",
        "     # RECOMPENSAS y GANANCIAS\n",
        "     # -----------------------\n",
        "     self.recompensa            = 0\n",
        "     self.recompensa_intrinseca = 0\n",
        "     self.ganancias             = []\n",
        "     self.ganancias_acumuladas  = []\n",
        "     \n",
        "     # ESTADOS EMOCIONALES (S y S')                 # AQUÍ ALEATORIZAMOS LA EMOCIÓN INICIAL  <-------- Octubre 2022 (Probar INICIO FORZADO)\n",
        "     # ----------------------------\n",
        "     #                                              # 3 Octubre de 2022\n",
        "     # self.emocion = 1\n",
        "     self.emocion               = np.random.randint(num_estados) # Emocion inicial\n",
        "     self.emocion_tras_jugada   = 0                              # Un valor cualquiera, se modificará de inmediato\n",
        "     self.MATRIZ_ADYACENCIA_EMOCIONES = np.zeros((4,4))          # GUARDAMOS LAS TRANSICIONES\n",
        "     self.SERIE_ALEGRIA         = []\n",
        "     self.SERIE_ALEGRIA.append(0)\n",
        "     self.SERIE_IRA             = []\n",
        "     self.SERIE_IRA.append(0)\n",
        "     self.SERIE_TRISTEZA        = []\n",
        "     self.SERIE_TRISTEZA.append(0)\n",
        "     self.SERIE_MIEDO           = []\n",
        "     self.SERIE_MIEDO.append(0)\n",
        "     if (self.emocion == 0):\n",
        "       self.SERIE_ALEGRIA[-1] = self.SERIE_ALEGRIA[-1]+1\n",
        "     elif (self.emocion == 1):\n",
        "       self.SERIE_IRA[-1] = self.SERIE_IRA[-1]+1\n",
        "     elif (self.emocion == 2):\n",
        "       self.SERIE_TRISTEZA[-1] = self.SERIE_TRISTEZA[-1]+1\n",
        "     elif (self.emocion == 3):\n",
        "       self.SERIE_MIEDO[-1] = self.SERIE_MIEDO[-1]+1\n",
        "     # Usaremos CODIFICACIÓN:    ALEGRIA = 0  /  IRA = 1  /  TRISTEZA = 2  /  MIEDO = 3\n",
        "    \n",
        "     # DECISIONES\n",
        "     # ----------\n",
        "     self.accion_propia         = 0  # Un valor cualquiera, se modificará de inmediato\n",
        "     self.accion_vecindario     = 0  # Un valor cualquiera, se modificará de inmediato\n",
        "     self.numero_cooperadores   = 0 \n",
        "     self.DECISIONES            = []\n",
        "     self.contador_inicio       = 0  # USO UN CONTADOR PARA TitForTat  # <--------------------------------------------- Para generar estrategia TIT for TAT\n",
        "     self.SERIE_COOPERACIONES   = []\n",
        "     self.SERIE_COOPERACIONES.append(0)\n",
        "\n",
        "     # PROCESO DE APRENDIZAJE\n",
        "     # ----------------------\n",
        "     self.matriz_Q = np.zeros((num_estados, num_acciones))\n",
        "     self.ERRORES               = []\n",
        "\n",
        "  def Fijar_vecinos(self,vecinos):\n",
        "    self.num_vecinos = vecinos\n",
        "\n",
        "  def Vecinos(self):\n",
        "    return self.num_vecinos  \n",
        "\n",
        "  def Fijar_num_cooperadores(self, numero):\n",
        "    self.numero_cooperadores = numero\n",
        "\n",
        "  def Fijar_intensidad_emocional(self, intensidad):\n",
        "    self.intensidad_emocional = intensidad\n",
        "\n",
        "  def Q(self):\n",
        "    return self.matriz_Q\n",
        "\n",
        "  def Mutar(self, identidad):\n",
        "    self.MUTANTE = identidad\n",
        "\n",
        "  def Mutante(self):\n",
        "    return self.MUTANTE  \n",
        "\n",
        "  # DECISIONES: epsilon-greedy\n",
        "  def Tomar_decision(self, estado):\n",
        "    # ---------------------------------\n",
        "    # LA LLAMADA PARA LA TOMA DE DECISIONES SE REALIZA EN EL PROCEDIMIENTO\n",
        "    # step()\n",
        "    # -------------------------------------------------------------------------------\n",
        "    TRAIDOR   = 1 # No coopera nunca\n",
        "    INGENUO   = 2 # Coopera siempre a ciegas\n",
        "    TitForTat = 3 # Coopera hasta que le traicionan y DEJA DE COOPERAR PARA SIEMPRE\n",
        "    \n",
        "    valor_aleatorio = np.random.uniform(0,1)\n",
        "\n",
        "    # DECISIÓN e-greedy\n",
        "    # -----------------\n",
        "    if valor_aleatorio < epsilon:\n",
        "        accion = np.random.randint(num_acciones)          # epsilon-probabilidad\n",
        "        self.accion_propia = accion   # <---------------- Aquí surge la ACCIÓN inicio\n",
        "    else:\n",
        "        Qs = self.matriz_Q[estado]  \n",
        "        accion = np.argmax(Qs)                            # max Q(s,a)\n",
        "        self.accion_propia = accion   # <---------------- Aquí surte la ACCIÓN inicio\n",
        "    # -------------------------------------------------------------------------------    \n",
        "        \n",
        "\n",
        "\n",
        "    # ==============================\n",
        "    #  PODAR ESTA SECCIÓN DE CÓDIGO  : Para que no contamine al AGENTE EMOCIONAL, que ya nada tiene que ver con los otros AGENTES MUTANTES\n",
        "    # ==============================\n",
        "    # Si es MUTANTE toma decisiones de la siguiente manera:    \n",
        "    if (self.MUTANTE == TRAIDOR):           # AGENTE TRAIDOR\n",
        "        accion = 0   \n",
        "        self.accion_propia = 0 \n",
        "    elif (self.MUTANTE == INGENUO):         # AGENTE INGENUO\n",
        "        accion = 1\n",
        "        self.accion_propia = 1\n",
        "    elif (self.MUTANTE == TitForTat):       # AGENTE TitForTat\n",
        "        if (self.contador_inicio == 0):     # ACTUALIZAR EL CONTADOR\n",
        "            accion = 1\n",
        "            self.accion_propia = 1\n",
        "        else:\n",
        "            accion = self.accion_vecindario\n",
        "            self.accion_propia = self.accion_vecindario\n",
        "    # ----------------------------------------------------- \n",
        "    self.contador_inicio = self.contador_inicio + 1\n",
        "    self.accion_propia = accion  # <------------------------------------------------------- O CENTRALIZADO AQUÍ\n",
        "    # ==============================\n",
        "    #  PODAR ESTA SECCIÓN DE CÓDIGO  \n",
        "    # ============================== \n",
        "\n",
        "\n",
        "    return accion\n",
        "\n",
        "\n",
        "\n",
        "  def Accion(self):\n",
        "    return self.accion_propia\n",
        "\n",
        "  def Accion_vecindario(self, accion_vecinos):\n",
        "    self.accion_vecindario = accion_vecinos\n",
        "\n",
        "  def Recompensa(self, recompensa):\n",
        "    self.recompensa = recompensa\n",
        "\n",
        "\n",
        "  def nuevo_estado(self, accion_vecindario):\n",
        "    ALEGRIA      = 0\n",
        "    IRA          = 1\n",
        "    TRISTEZA     = 2  \n",
        "    MIEDO        = 3\n",
        "\n",
        "    No_COOPERAR  = 0\n",
        "    COOPERAR     = 1\n",
        "    \n",
        "    # Series temporales de estados emocionales\n",
        "    # ----------------------------------------\n",
        "    self.SERIE_ALEGRIA.append(self.SERIE_ALEGRIA[-1])\n",
        "    self.SERIE_IRA.append(self.SERIE_IRA[-1])\n",
        "    self.SERIE_TRISTEZA.append(self.SERIE_TRISTEZA[-1])\n",
        "    self.SERIE_MIEDO.append(self.SERIE_MIEDO[-1])\n",
        "    # ------------------------------------------------------------------\n",
        "\n",
        "    # Parámetro de DESESCALADA\n",
        "    # -------------------------\n",
        "    Beta                 = 0.5\n",
        "    evaluacion_situacion = np.random.uniform(0,1)\n",
        "    # ----------------------------------------\n",
        "\n",
        "    #\n",
        "    # Partimos de Estado inicial: ALEGRÍA  ('0')\n",
        "    # ---------------------------\n",
        "    if ((self.emocion == ALEGRIA) and (self.accion_propia == COOPERAR)):              # Está ALEGRE y COOPERA\n",
        "        if (self.accion_vecindario == COOPERAR):           #  <---------  Vecinos COOPERAN\n",
        "            self.emocion_tras_jugada   = ALEGRIA\n",
        "            self.SERIE_ALEGRIA[-1] = self.SERIE_ALEGRIA[-1]+1\n",
        "            self.recompensa_intrinseca = r_alegria\n",
        "            self.MATRIZ_ADYACENCIA_EMOCIONES[ALEGRIA][ALEGRIA] += 1\n",
        "        else:                                       #  <---------  Vecinos No COOPERAN\n",
        "            self.emocion_tras_jugada   = IRA  \n",
        "            self.SERIE_IRA[-1] = self.SERIE_IRA[-1]+1    \n",
        "            self.recompensa_intrinseca = 0  \n",
        "            self.TRAICIONADO = 1\n",
        "            self.MATRIZ_ADYACENCIA_EMOCIONES[ALEGRIA][IRA] += 1\n",
        "    elif ((self.emocion == ALEGRIA) and (self.accion_propia == No_COOPERAR)):      # Está ALEGRE y NoCOOPERA\n",
        "        if (self.accion_vecindario == COOPERAR):\n",
        "            self.emocion_tras_jugada   = TRISTEZA\n",
        "            self.SERIE_TRISTEZA[-1] = self.SERIE_TRISTEZA[-1]+1\n",
        "            self.recompensa_intrinseca = 0\n",
        "            self.MATRIZ_ADYACENCIA_EMOCIONES[ALEGRIA][TRISTEZA] += 1\n",
        "        else:\n",
        "            self.emocion_tras_jugada   = ALEGRIA  \n",
        "            self.SERIE_ALEGRIA[-1] = self.SERIE_ALEGRIA[-1]+1    \n",
        "            self.recompensa_intrinseca = 0  \n",
        "            self.TRAICIONADO = 1\n",
        "            self.MATRIZ_ADYACENCIA_EMOCIONES[ALEGRIA][ALEGRIA] += 1\n",
        "\n",
        "    # Partimos de Estado inicial: IRA  ('1')\n",
        "    # ---------------------------\n",
        "    if (self.emocion == IRA) and (self.accion_propia == COOPERAR):                 # Está IRACUNDO y COOPERA              \n",
        "        if (self.accion_vecindario == COOPERAR):     #  <---------  Vecinos COOPERAN                                      \n",
        "            self.emocion_tras_jugada   = ALEGRIA                                                                          \n",
        "            self.SERIE_ALEGRIA[-1] = self.SERIE_ALEGRIA[-1]+1                                                             \n",
        "            self.recompensa_intrinseca = 0                                                                                \n",
        "            self.MATRIZ_ADYACENCIA_EMOCIONES[IRA][ALEGRIA] += 1   # parece error IRA y VECINOS COOPERAN => TRISTEZA   \n",
        "        else:                                        #  <---------  Vecinos No COOPERAN\n",
        "            self.emocion_tras_jugada   = IRA   \n",
        "            self.SERIE_IRA[-1] = self.SERIE_IRA[-1]+1   \n",
        "            self.recompensa_intrinseca = 0  \n",
        "            self.TRAICIONADO = 1\n",
        "            self.MATRIZ_ADYACENCIA_EMOCIONES[IRA][IRA] += 1\n",
        "\n",
        "    elif (self.emocion == IRA) and (self.accion_propia == No_COOPERAR):          # Está IRACUNDO y NoCOOPERA\n",
        "        if (self.accion_vecindario == COOPERAR):     #  <---------  Vecinos COOPERAN\n",
        "            self.emocion_tras_jugada   = TRISTEZA\n",
        "            self.SERIE_TRISTEZA[-1] = self.SERIE_TRISTEZA[-1]+1\n",
        "            self.recompensa_intrinseca = 0\n",
        "            self.MATRIZ_ADYACENCIA_EMOCIONES[IRA][TRISTEZA] += 1\n",
        "        else:                                        #  <---------  Vecinos No COOPERAN\n",
        "            # TIENE SUFICIENTE GRAVEDAD COMO PARA NO CONSIDERAR\n",
        "            # NINGÚN FACTOR PARA DESESCALAR\n",
        "            if   (evaluacion_situacion >= Beta):\n",
        "                self.emocion_tras_jugada   = IRA   \n",
        "                self.SERIE_IRA[-1] = self.SERIE_IRA[-1]+1   \n",
        "                self.recompensa_intrinseca = r_ira  \n",
        "                self.TRAICIONADO = 0    # Antes a 1, pongo a 0\n",
        "                self.MATRIZ_ADYACENCIA_EMOCIONES[IRA][IRA] += 1\n",
        "            # AHORA SI SE SIENTE SOBREPASADO POR LA SITUACIÓN\n",
        "            # Y ES MEJOR DESESCALAR\n",
        "            # Beta ----> Tendencia a eludir la confrontación\n",
        "            #            No es para tanto, y merece la pena frenar\n",
        "            elif (evaluacion_situacion < Beta):      \n",
        "                self.emocion_tras_jugada   = MIEDO   \n",
        "                self.SERIE_MIEDO[-1] = self.SERIE_MIEDO[-1]+1  \n",
        "                self.recompensa_intrinseca = 0  \n",
        "                self.TRAICIONADO = 0     # CREO QUE ASÍ\n",
        "                self.MATRIZ_ADYACENCIA_EMOCIONES[IRA][MIEDO] += 1\n",
        "            \n",
        "\n",
        "    # Partimos de Estado inicial: TRISTEZA  ('2')\n",
        "    # ---------------------------\n",
        "    if (self.emocion == TRISTEZA) and (self.accion_propia == COOPERAR):        # Siente CULPABILIDAD y COOPERA\n",
        "        if (self.accion_vecindario == COOPERAR):     #  <---------  Vecinos COOPERAN\n",
        "            self.emocion_tras_jugada   = ALEGRIA\n",
        "            self.SERIE_ALEGRIA[-1] = self.SERIE_ALEGRIA[-1]+1\n",
        "            self.recompensa_intrinseca = r_tristeza\n",
        "            self.MATRIZ_ADYACENCIA_EMOCIONES[TRISTEZA][ALEGRIA] += 1\n",
        "        else:                                        #  <---------  Vecinos No COOPERAN\n",
        "            self.emocion_tras_jugada   = IRA     \n",
        "            self.SERIE_IRA[-1] = self.SERIE_IRA[-1]+1 \n",
        "            self.recompensa_intrinseca = 0 \n",
        "            self.TRAICIONADO = 1\n",
        "            self.MATRIZ_ADYACENCIA_EMOCIONES[TRISTEZA][IRA] += 1\n",
        "    elif (self.emocion == TRISTEZA) and (self.accion_propia == No_COOPERAR): # Siente CULPABILIDAD y NoCOOPERA\n",
        "        if (self.accion_vecindario == COOPERAR):     #  <---------  Vecinos COOPERAN\n",
        "            self.emocion_tras_jugada   = TRISTEZA\n",
        "            self.SERIE_TRISTEZA[-1] = self.SERIE_TRISTEZA[-1]+1\n",
        "            self.recompensa_intrinseca = 0\n",
        "            self.MATRIZ_ADYACENCIA_EMOCIONES[TRISTEZA][TRISTEZA] += 1                                                         \n",
        "        else:                                        #  <---------  Vecinos COOPERAN                                          \n",
        "            #self.emocion_tras_jugada   = IRA                                                                                 \n",
        "            #self.SERIE_IRA[-1] = self.SERIE_IRA[-1]+1                                                                        \n",
        "            self.recompensa_intrinseca = 0                                                                                    \n",
        "            self.TRAICIONADO = 1\n",
        "            #self.MATRIZ_ADYACENCIA_EMOCIONES[TRISTEZA][IRA] += 1\n",
        "            self.emocion_tras_jugada   = ALEGRIA\n",
        "            self.SERIE_ALEGRIA[-1] = self.SERIE_ALEGRIA[-1]+1\n",
        "            self.MATRIZ_ADYACENCIA_EMOCIONES[TRISTEZA][ALEGRIA] += 1\n",
        "\n",
        "    # Partimos de Estado inicial: MIEDO  ('3')\n",
        "    # ---------------------------\n",
        "    if (self.emocion == MIEDO) and (self.accion_propia == COOPERAR):        # Siente CULPABILIDAD y COOPERA\n",
        "        if (self.accion_vecindario == COOPERAR):     #  <---------  Vecinos COOPERAN\n",
        "            self.emocion_tras_jugada   = ALEGRIA\n",
        "            self.SERIE_ALEGRIA[-1] = self.SERIE_ALEGRIA[-1]+1\n",
        "            self.recompensa_intrinseca = r_miedo\n",
        "            self.MATRIZ_ADYACENCIA_EMOCIONES[MIEDO][ALEGRIA] += 1\n",
        "        else:                                        #  <---------  Vecinos No COOPERAN\n",
        "            self.emocion_tras_jugada   = IRA     \n",
        "            self.SERIE_IRA[-1] = self.SERIE_IRA[-1]+1 \n",
        "            self.recompensa_intrinseca = 0 \n",
        "            self.TRAICIONADO = 1\n",
        "            self.MATRIZ_ADYACENCIA_EMOCIONES[MIEDO][IRA] += 1\n",
        "    elif (self.emocion == MIEDO) and (self.accion_propia == No_COOPERAR): # Siente CULPABILIDAD y NoCOOPERA\n",
        "        if (self.accion_vecindario == COOPERAR):     #  <---------  Vecinos COOPERAN                                           \n",
        "            self.emocion_tras_jugada   = TRISTEZA                        \n",
        "            self.SERIE_TRISTEZA[-1] = self.SERIE_TRISTEZA[-1]+1          \n",
        "            self.recompensa_intrinseca = 0\n",
        "            self.MATRIZ_ADYACENCIA_EMOCIONES[MIEDO][TRISTEZA] += 1\n",
        "        else:                                        #  <---------  Vecinos COOPERAN\n",
        "            if   (evaluacion_situacion >= Beta):\n",
        "                self.emocion_tras_jugada   = IRA  \n",
        "                self.SERIE_IRA[-1] = self.SERIE_IRA[-1]+1   \n",
        "                self.recompensa_intrinseca = 0  \n",
        "                self.TRAICIONADO = 0     # CREO QUE ASÍ \n",
        "                self.MATRIZ_ADYACENCIA_EMOCIONES[MIEDO][IRA] += 1\n",
        "            elif (evaluacion_situacion < Beta):      \n",
        "                self.emocion_tras_jugada   = MIEDO   \n",
        "                self.SERIE_MIEDO[-1] = self.SERIE_MIEDO[-1]+1  \n",
        "                self.recompensa_intrinseca = 0  \n",
        "                self.TRAICIONADO = 0     # CREO QUE ASÍ\n",
        "                self.MATRIZ_ADYACENCIA_EMOCIONES[MIEDO][MIEDO] += 1\n",
        "    \n",
        "    return self.emocion_tras_jugada\n",
        "\n",
        "   \n",
        "  def paso_aprendizaje(self):\n",
        "    # ESTADOS:    s (estado) y s' (estado_nuevo)\n",
        "    # --------\n",
        "    estado = self.emocion         # ESTADO INICIO: Se asgna aleatoriamente en el INIT\n",
        "    estado_nuevo = self.nuevo_estado(self.accion_vecindario)\n",
        "\n",
        "    # RECOMPENSA: r\n",
        "    # -----------\n",
        "    # r = self.recompensa + self.recompensa_intrinseca\n",
        "    r = self.recompensa_intrinseca    \n",
        "\n",
        "    # ACCIÓN:     a (accion) y a' (accion_nueva)\n",
        "    # -------\n",
        "    accion = self.accion_propia\n",
        "    accion_nueva = self.Tomar_decision(estado_nuevo)\n",
        "    self.DECISIONES.append(accion_nueva)\n",
        "\n",
        "    # Ahora incrementamos la última si COOPERA (En el init se hizo un append '0')\n",
        "    if (accion):\n",
        "        self.SERIE_COOPERACIONES[-1] = self.SERIE_COOPERACIONES[-1]+1\n",
        "    self.SERIE_COOPERACIONES.append(self.SERIE_COOPERACIONES[-1])\n",
        "    # Seguimos el rastro de las recompensas que recibe\n",
        "    self.ganancias.append(r)\n",
        "    if len(self.ganancias) > 1:\n",
        "        self.ganancias_acumuladas.append(self.ganancias_acumuladas[-1] + self.ganancias[-1])\n",
        "    else:\n",
        "        self.ganancias_acumuladas.append(self.ganancias[-1])\n",
        "\n",
        "    # --------------------\n",
        "    # Algoritmo Q-Learning\n",
        "    # --------------------\n",
        "    # APRENDIZAJE:\n",
        "    target = float(r) + gamma * self.matriz_Q[estado_nuevo].max()  \n",
        "    error  = target - self.matriz_Q[estado][accion]\n",
        "    self.ERRORES.append(error)\n",
        "    self.matriz_Q[estado][accion] = self.matriz_Q[estado][accion] + (alfa*error)\n",
        "\n",
        "    self.emocion = estado_nuevo\n",
        "    self.accion_propia = accion_nueva\n",
        "\n"
      ],
      "metadata": {
        "id": "KubP1p0D2wbp"
      },
      "execution_count": null,
      "outputs": []
    },
    {
      "cell_type": "markdown",
      "source": [
        "A continuación las CLASES DE AGENTES MUTANTES. En la medida en que todos introducen en PASO_APRENDIZAJE un mismo cambio, podría convenir definir una clase AGENTE_MUTANTE de la que heredan todos."
      ],
      "metadata": {
        "id": "RdPogH53QqwG"
      }
    },
    {
      "cell_type": "markdown",
      "source": [
        "#B) CLASE AGENTE MUTANTE: Traidor"
      ],
      "metadata": {
        "id": "ADx6kBKq4Vbj"
      }
    },
    {
      "cell_type": "code",
      "source": [
        "\n",
        "class Agente_MUTANTE_Traidor(AgenteEmocional):\n",
        "  def Tomar_decision(self, estado):\n",
        "    return 0\n",
        "\n",
        "  def paso_aprendizaje(self):\n",
        "    # ESTADOS:    s (estado) y s' (estado_nuevo)\n",
        "    # --------\n",
        "    estado = self.emocion         # ESTADO INICIO: Se asgna aleatoriamente en el INIT\n",
        "    estado_nuevo = self.nuevo_estado(self.accion_vecindario)\n",
        "\n",
        "    # ACCIÓN:     a (accion) y a' (accion_nueva)\n",
        "    # -------\n",
        "    accion = self.accion_propia\n",
        "    accion_nueva = self.Tomar_decision(estado_nuevo)                               # -------------------- \n",
        "    self.DECISIONES.append(accion_nueva)                                           # 3 de Octubre de 2022  -  MODIFICACIÓN: incluyo 'r' también\n",
        "                                                                                   # --------------------\n",
        "    # RECOMPENSA: r                                                                # LO PONGO PARA QUE NO DÉ ERROR. Ver si es necesario. Lo utilizo\n",
        "    # -----------                                                                  # Para hacer seguimiento de las ganancias\n",
        "    # r = self.recompensa + self.recompensa_intrinseca                             # ---------------------------------------------------------------\n",
        "    r = self.recompensa_intrinseca   \n",
        "\n",
        "    # Ahora incrementamos la última si COOPERA (En el init se hizo un append '0')\n",
        "    if (accion):\n",
        "        self.SERIE_COOPERACIONES[-1] = self.SERIE_COOPERACIONES[-1]+1\n",
        "    self.SERIE_COOPERACIONES.append(self.SERIE_COOPERACIONES[-1])\n",
        "    # Seguimos el rastro de las recompensas que recibe\n",
        "    self.ganancias.append(r)                                             # <------------------ CUIDAR EL TRATAMIENTO DE GANANCIAS (si es r_intr) o la del JUEGO\n",
        "    if len(self.ganancias) > 1:                                                                                          # si no, los MUTANTES no ganan nada\n",
        "        self.ganancias_acumuladas.append(self.ganancias_acumuladas[-1] + self.ganancias[-1])\n",
        "    else:\n",
        "        self.ganancias_acumuladas.append(self.ganancias[-1])\n",
        "\n",
        "    self.ERRORES.append(0)\n",
        "    self.emocion = estado_nuevo\n",
        "    self.accion_propia = accion_nueva\n",
        "\n"
      ],
      "metadata": {
        "id": "8bbhPMtf2wfK"
      },
      "execution_count": null,
      "outputs": []
    },
    {
      "cell_type": "markdown",
      "source": [
        "#C) CLASE AGENTE MUTANTE: Ingenuo"
      ],
      "metadata": {
        "id": "8lymQ_6d47P7"
      }
    },
    {
      "cell_type": "code",
      "source": [
        "class Agente_MUTANTE_Ingenuo(AgenteEmocional):\n",
        "  def Tomar_decision(self, estado):\n",
        "    return 1\n",
        "\n",
        "  def paso_aprendizaje(self):\n",
        "    # ESTADOS:    s (estado) y s' (estado_nuevo)\n",
        "    # --------\n",
        "    estado = self.emocion         # ESTADO INICIO: Se asgna aleatoriamente en el INIT\n",
        "    estado_nuevo = self.nuevo_estado(self.accion_vecindario) \n",
        "\n",
        "    # ACCIÓN:     a (accion) y a' (accion_nueva)\n",
        "    # -------\n",
        "    accion = self.accion_propia\n",
        "    accion_nueva = self.Tomar_decision(estado_nuevo)\n",
        "    self.DECISIONES.append(accion_nueva)\n",
        "\n",
        "    # RECOMPENSA: r\n",
        "    # -----------\n",
        "    # r = self.recompensa + self.recompensa_intrinseca   \n",
        "    r = self.recompensa_intrinseca                         # <-------------------------------------------------------------------------------- ##\n",
        "\n",
        "    # Ahora incrementamos la última si COOPERA (En el init se hizo un append '0')\n",
        "    if (accion):\n",
        "        self.SERIE_COOPERACIONES[-1] = self.SERIE_COOPERACIONES[-1]+1\n",
        "    self.SERIE_COOPERACIONES.append(self.SERIE_COOPERACIONES[-1])\n",
        "    # Seguimos el rastro de las recompensas que recibe\n",
        "    self.ganancias.append(r)\n",
        "    if len(self.ganancias) > 1:\n",
        "        self.ganancias_acumuladas.append(self.ganancias_acumuladas[-1] + self.ganancias[-1])\n",
        "    else:\n",
        "        self.ganancias_acumuladas.append(self.ganancias[-1])    \n",
        "\n",
        "    self.ERRORES.append(0)\n",
        "    self.emocion = estado_nuevo\n",
        "    self.accion_propia = accion_nueva\n"
      ],
      "metadata": {
        "id": "nsnexwRM5CDr"
      },
      "execution_count": null,
      "outputs": []
    },
    {
      "cell_type": "markdown",
      "source": [
        "#D) CLASE AGENTE MUTANTE: Tit-for-Tat"
      ],
      "metadata": {
        "id": "sIiaeay95NG7"
      }
    },
    {
      "cell_type": "code",
      "source": [
        "\n",
        "class Agente_MUTANTE_Tif_for_Tat(AgenteEmocional):\n",
        "  def Tomar_decision(self, estado):\n",
        "    if (self.contador_inicio == 0):     # ACTUALIZAR EL CONTADOR\n",
        "        accion = 1\n",
        "        self.accion_propia = 1\n",
        "    else:\n",
        "        accion = self.accion_vecindario\n",
        "        self.accion_propia = self.accion_vecindario\n",
        "    \n",
        "    self.contador_inicio = self.contador_inicio + 1\n",
        "    self.accion_propia = accion  \n",
        "\n",
        "    return accion\n",
        "\n",
        "\n",
        "  def paso_aprendizaje(self):\n",
        "    # ESTADOS:    s (estado) y s' (estado_nuevo)\n",
        "    # --------\n",
        "    estado = self.emocion         # ESTADO INICIO: Se asgna aleatoriamente en el INIT\n",
        "    estado_nuevo = self.nuevo_estado(self.accion_vecindario)\n",
        "\n",
        "    # ACCIÓN:     a (accion) y a' (accion_nueva)\n",
        "    # -------\n",
        "    accion = self.accion_propia\n",
        "    accion_nueva = self.Tomar_decision(estado_nuevo)\n",
        "    self.DECISIONES.append(accion_nueva)\n",
        "\n",
        "    # RECOMPENSA: r\n",
        "    # -----------\n",
        "    # r = self.recompensa + self.recompensa_intrinseca   \n",
        "    r = self.recompensa_intrinseca                         # <-------------------------------------------------------------------------------- ##\n",
        "\n",
        "    # Ahora incrementamos la última si COOPERA (En el init se hizo un append '0')\n",
        "    if (accion):\n",
        "        self.SERIE_COOPERACIONES[-1] = self.SERIE_COOPERACIONES[-1]+1\n",
        "    self.SERIE_COOPERACIONES.append(self.SERIE_COOPERACIONES[-1])\n",
        "    # Seguimos el rastro de las recompensas que recibe\n",
        "    self.ganancias.append(r)\n",
        "    if len(self.ganancias) > 1:\n",
        "        self.ganancias_acumuladas.append(self.ganancias_acumuladas[-1] + self.ganancias[-1])\n",
        "    else:\n",
        "        self.ganancias_acumuladas.append(self.ganancias[-1])\n",
        "\n",
        "    self.ERRORES.append(0)\n",
        "    self.emocion = estado_nuevo\n",
        "    self.accion_propia = accion_nueva        \n"
      ],
      "metadata": {
        "id": "JnsjyRqw5CJC"
      },
      "execution_count": null,
      "outputs": []
    },
    {
      "cell_type": "markdown",
      "source": [
        "#**Definimos la clase del SISTEMA en el que van a interactuar los agentes**.\n",
        "\n",
        "<figure>\n",
        "<center>\n",
        "<img src='https://github.com/oscarserc/IMAGENES/blob/main/Esquema.png?raw=true' width=\"300\"/>\n",
        "<figcaption></figcaption></center>\n",
        "</figure>\n"
      ],
      "metadata": {
        "id": "Fk0W7ZEZ52or"
      }
    },
    {
      "cell_type": "code",
      "source": [
        "\n",
        "# 2) Clase AMBIENTE\n",
        "# -----------------\n",
        "\n",
        "class Environment(object):\n",
        "  def __init__(self, size_):\n",
        "    # CREAMOS UNA MATRIZ DE ADYACENCIA (Registraremos en ella las cooperaciones)\n",
        "    self.MATRIZ_Adj = np.zeros((size_*size_ + 1, size_*size_ + 1))\n",
        "\n",
        "    # Para las MATRICES DE PAGOS:\n",
        "    # ---------------------------\n",
        "    self.matriz_pagos_J1 = np.zeros((2,2))\n",
        "    self.matriz_pagos_J2 = np.zeros((2,2))\n",
        "\n",
        "    # ================================\n",
        "    # MATRIZ DEL Dilema del Prisionero   Por ahora sólo pongo en exhaustivo este JUEGO\n",
        "    # ================================\n",
        "    # MATRIZ DE PAGOS del Jugador 1 (índice: 0/1 = NoCooperar/Cooperar)\n",
        "    self.matriz_pagos_J1[0][0] = 0   \n",
        "    self.matriz_pagos_J1[0][1] = 5\n",
        "    self.matriz_pagos_J1[1][0] = 0   \n",
        "    self.matriz_pagos_J1[1][1] = 3\n",
        "\n",
        "    # MATRIZ DE PAGOS del Jugador 2 (índice: 0/1 = NoCooperar/Cooperar)\n",
        "    self.matriz_pagos_J2[0][0] = 0   \n",
        "    self.matriz_pagos_J2[0][1] = 0\n",
        "    self.matriz_pagos_J2[1][0] = 5   \n",
        "    self.matriz_pagos_J2[1][1] = 3\n",
        "    # -------------------------------------------------------------------------\n",
        "\n",
        "    # PARA ACCESO DESDE AFUERA\n",
        "    self.p = []\n",
        "    # ------------------------\n",
        "\n",
        "    # VALORES INICIALIZADOS EN LA ZONA DE PARÁMETROS al principio\n",
        "    # -----------------------------------------------------------\n",
        "    p0 = probabilidad_clases[0]               # Punto de CORTE 1   \n",
        "    p1 = probabilidad_clases[1] + p0          # Punto de CORTE 2\n",
        "    p2 = probabilidad_clases[2] + p1          # Punto de CORTE 3\n",
        "    p3 = 1.                                   #   (explicitamos el límite superior)\n",
        "\n",
        "    # En la prueba sería: 0.8, 1, 1\n",
        "    print('Iniciando construcción del ENTORNO \\n')\n",
        "    print('· Generando poblaciones -> Puntos de corte: (', p0, ' ,', p1, ' ,', p2, ' )')\n",
        "\n",
        "    # Para acceso desde fuera\n",
        "    self.p.append(p0)\n",
        "    self.p.append(p1)\n",
        "    self.p.append(p2)\n",
        "    self.p.append(p3)\n",
        "    # -----------------------\n",
        "\n",
        "    # ------------------------------------------------------\n",
        "    # AQUÍ CONTROLAMOS SI EL AGENTE EMOCIONAL SUFRE MUTACIÓN\n",
        "    # ------------------------------------------------------\n",
        "\n",
        "    # ---------------\n",
        "    global LISTA_IDs                             \n",
        "    # ---------------\n",
        "\n",
        "    self.size = size_\n",
        "    self.Grid = np.full((size + 2, size + 2), AgenteEmocional)          \n",
        "                                                                        \n",
        "                                                                         # --------------------\n",
        "                                                                         # 3 de Octubre de 2022           AÑADO CORRECCIÓN\n",
        "    for i in range(size+2):                # Antes puse: range(size)     # --------------------\n",
        "        for j in range(size+2):                                          # INTRODUZCO LOS CAMBIOS QUE YA INTRODUJE ANTES. Creo agentes en PADDING\n",
        "            self.Grid[i][j] = AgenteEmocional()                          # <---------------------------- ASIGNAMOS UN AGENTE DISTINTO A LAS REFERENCIAS\n",
        "            LISTA_IDs.append(id(self.Grid[i][j]))                        # POSTERIORMENTE NO VOLVER A CREARLOS EN LA ASIGNACIÓN DE VECINOS\n",
        "                                                                         # ya que si no perdemos TODAS LAS MUTACIONES, que son las que aparecen\n",
        "                                                                         # a continuación  \n",
        "                                                                         # \n",
        "    print('Rellenando GRID con Agentes : id -> ', id(self.Grid), '\\n')   # Primer Intento --> He creado agentes en el PADDING, y reasigno y creo agentes\n",
        "                                                                         #                    con la MUTACIÓN en el siguiente código\n",
        "    global LISTA_MUTANTES\n",
        "\n",
        "    for i in range(1, size+1, 1):\n",
        "        for j in range(1, size+1, 1):\n",
        "            valor_aleatorio = np.random.uniform(0,1) \n",
        "            if   (p0 < valor_aleatorio <= p1):\n",
        "                LISTA_MUTANTES.append(1) \n",
        "                self.Grid[i][j] = Agente_MUTANTE_Traidor() \n",
        "                self.Grid[i][j].Mutar(1)\n",
        "                #print('Agente (', i, ',', j, ')', '--> MUTANTE 1')\n",
        "\n",
        "            elif (p1 < valor_aleatorio <= p2):\n",
        "                LISTA_MUTANTES.append(2)\n",
        "                self.Grid[i][j] = Agente_MUTANTE_Ingenuo() \n",
        "                self.Grid[i][j].Mutar(2)\n",
        "                #print('Agente (', i, ',', j, ')', '--> MUTANTE 2')\n",
        "\n",
        "            elif (p2 < valor_aleatorio <= p3):\n",
        "                LISTA_MUTANTES.append(3)\n",
        "                self.Grid[i][j] = Agente_MUTANTE_Tif_for_Tat() \n",
        "                self.Grid[i][j].Mutar(3)\n",
        "                #print('Agente (', i, ',', j, ')', '--> MUTANTE 3')\n",
        "            elif (0.0 < valor_aleatorio <= p0):\n",
        "                self.Grid[i][j] = AgenteEmocional() \n",
        "                #print('*')  # Sí se mete aquí\n",
        "                \n",
        "            LISTA_IDs.append(id(self.Grid[i][j]))            \n",
        "      \n",
        "    \n",
        "    # PROBAMOS A INCLUIRLO EN EL __init__. Antes: def inicializar_tablero(self):                   # 3 de Octubre de 2022\n",
        "    # ASIGNAMOS VECINOS al crear OBJETOS (Para graduar la intensidad emocional)                    # -------------------\n",
        "    # ----------------------------------                                                           # AÑADIDA CORRECCIÓN: Quito creación AgenteEmocional() \n",
        "    # · AL INTERIOR DEL TABLERO:            <-------------- 8 VECINOS                              # -------------------\n",
        "    for i in range(size+2):                                                 \n",
        "        for j in range(size+2):                             # <---------------------------------------- OJO (8 de Agosto de 2022)\n",
        "            #self.Grid[i][j] = AgenteEmocional()            # <---------------------------------------- Aquí es donde reasigno los OBJETOS. Si lo quito da ERROR \n",
        "            #print('.')\n",
        "            if ((i>1 and i<size) and (j>1 and j<size)):\n",
        "                self.Grid[i][j].Fijar_vecinos(8)  \n",
        "            else:\n",
        "                self.Grid[i][j].Fijar_vecinos(0)\n",
        "\n",
        "    # · A LAS ESQUINAS                      <-------------- 3 VECINOS\n",
        "    self.Grid[1][1].Fijar_vecinos(3)\n",
        "    self.Grid[size][size].Fijar_vecinos(3)\n",
        "    self.Grid[size][1].Fijar_vecinos(3)\n",
        "    self.Grid[1][size].Fijar_vecinos(3)\n",
        "\n",
        "    # · AL BORDE                            <-------------- 5 VECINOS\n",
        "    for columna in range(2,size,+1): self.Grid[1][columna].Fijar_vecinos(5)\n",
        "    for columna in range(2,size,+1): self.Grid[size][columna].Fijar_vecinos(5)\n",
        "    for fila in range(2,size,+1):    self.Grid[fila][1].Fijar_vecinos(5)\n",
        "    for fila in range(2,size,+1):    self.Grid[fila][size].Fijar_vecinos(5)\n",
        "\n",
        "\n",
        "    # Numeramos los nodos - También podría hacerse la asignación de num_vecinos como longitud de los siguientes vectores\n",
        "    # -------------------\n",
        "    filas    = size_\n",
        "    columnas = size_\n",
        "    for fila in range(1,filas+1,1):\n",
        "      for columna in range(1,columnas+1,1):\n",
        "        self.Grid[fila][columna].Numero_nodo = (fila-1)*(columnas) + columna \n",
        "\n",
        "\n",
        "    global LISTA_NODOS_VECINOS\n",
        "\n",
        "    # PARA CONSTRUIR LISTAS DE VECINOS DE CADA CELDA DEL GRID (por numero nodo)\n",
        "    # -------------------------------------------------------\n",
        "    for i in range(1,size+1,1):\n",
        "      for j in range(1,size+1,1):\n",
        "        for _ in range(1,size*size,1):\n",
        "          nodo = self.Grid[i][j].Numero_nodo\n",
        "          if   (i==1 and j==1):                           # ESQUINA (1,1)\n",
        "            self.Grid[i][j].lista_nodos_vecinos.extend([nodo+1, nodo+size, nodo+size+1])\n",
        "          elif (i==1) and (j in list(range(2,size))):     # Fila de abajo\n",
        "            self.Grid[i][j].lista_nodos_vecinos.extend([nodo-1, nodo+1, nodo+size-1, nodo+size, nodo+size+1])\n",
        "          elif (i==1 and j==size):                        # ESQUINA (1,size)\n",
        "            self.Grid[i][j].lista_nodos_vecinos.extend([nodo-1, nodo+size-1, nodo+size])\n",
        "          elif (i in list(range(2,size,1)) and j==1):     # Columna izquierda\n",
        "            self.Grid[i][j].lista_nodos_vecinos.extend([nodo-size, nodo-size+1, nodo+1, nodo+size, nodo+size+1])\n",
        "          elif (i in list(range(2,size,1)) and j==size):  # Columna derecha\n",
        "            self.Grid[i][j].lista_nodos_vecinos.extend([nodo-size-1, nodo-size, nodo-1, nodo+size-1, nodo+size])\n",
        "          elif (i==size and j==1):                        # ESQUINA (size,1)   \n",
        "            self.Grid[i][j].lista_nodos_vecinos.extend([nodo-size, nodo-size+1, nodo+1])\n",
        "          elif (i==size and j in list(range(2,size))):    # Fila superior\n",
        "            self.Grid[i][j].lista_nodos_vecinos.extend([nodo-size-1, nodo-size, nodo-size+1, nodo-1, nodo+1])\n",
        "          elif (i==size and j==size):                     # ESQUINA (size,size)  \n",
        "            self.Grid[i][j].lista_nodos_vecinos.extend([nodo-size-1, nodo-size, nodo-1])\n",
        "          else:                                           # Grid central\n",
        "            self.Grid[i][j].lista_nodos_vecinos.extend([nodo-size-1, nodo-size, nodo-size+1,\n",
        "                                                        nodo-1, nodo+1, \n",
        "                                                        nodo+size-1, nodo+size, nodo+size+1])\n",
        "          LISTA_NODOS_VECINOS.append(self.Grid[i][j].lista_nodos_vecinos)  \n",
        "          break\n",
        "    # -------------------------------------------------------\n",
        "    # PARA CONSTRUIR LISTAS DE VECINOS DE CADA CELDA DEL GRID (por fila-columna en el grid)\n",
        "    # -------------------------------------------------------\n",
        "    for i in range(1,size+1,1):\n",
        "      for j in range(1,size+1,1):\n",
        "          lista =  self.Grid[i][j].lista_nodos_vecinos\n",
        "\n",
        "          for numero_nodo in lista:\n",
        "            if ((numero_nodo % size) == 0):\n",
        "              fila = (numero_nodo // size) # quito: -1 , para un grid 1..size\n",
        "              columna = size\n",
        "            else:\n",
        "              fila = (numero_nodo // size) + 1\n",
        "              columna = numero_nodo % size\n",
        "            self.Grid[i][j].lista_vecinos_grid.append((fila, columna))\n",
        "    # --------------------------------------------------------------------------------------        \n",
        "\n",
        "\n",
        "  def Devolver_Grid(self):\n",
        "    print('Procediendo a devolver referencia al GRID: id -> ', id(self.Grid), '\\n')\n",
        "    return self.Grid\n",
        "\n",
        "  def Devolver_Matriz_Adj(self):\n",
        "    return self.MATRIZ_Adj\n",
        "\n",
        "  def step(self):\n",
        "    num_cooperadores = 0\n",
        "    reward           = 0\n",
        "    Vecinos_Cooperan = 0\n",
        "    filas    = size\n",
        "    columnas = size\n",
        "    recompensa = 0\n",
        "\n",
        "    # CREAMOS UNA MATRIZ CUADRADA de (size x size)\n",
        "    # CON UN BORDE ALREDEDOR\n",
        "    acciones   = np.zeros((size+2, size+2),dtype=int)\n",
        "    emociones  = np.zeros((size+2, size+2),dtype=int)\n",
        "    intensidad = np.zeros((size+2, size+2))\n",
        "\n",
        "    # Aquí cada AGENTE toma su DECISIÓN:\n",
        "    for i in range(1,filas+1,+1):\n",
        "        for j in range(1,columnas+1,+1):\n",
        "            # ESTO CONSTITUIRÁ EL 'FRAME' con las acciones en un paso \n",
        "            estado            = self.Grid[i][j].emocion\n",
        "            acciones[i][j]    = self.Grid[i][j].Accion()                                               #   (A)\n",
        "            emociones[i][j]   = self.Grid[i][j].emocion                                                #   (E)\n",
        "\n",
        "    # MATRIZ de ADYACENCIA - En ella acumulamos COOPERACIONES para dibujar después\n",
        "    # --------------------\n",
        "    for i in range(1,size+1,1):\n",
        "      for j in range(1,size+1,1):\n",
        "        for nodo_vecino in self.Grid[i][j].lista_nodos_vecinos:\n",
        "          if (self.Grid[i][j].Accion()):  \n",
        "            self.MATRIZ_Adj[self.Grid[i][j].Numero_nodo][nodo_vecino] += 1\n",
        "    # Volcamos el contenido en la variable global\n",
        "    global MATRIZ_ADYACENCIA_Red_Social\n",
        "    MATRIZ_ADYACENCIA_Red_Social = self.MATRIZ_Adj\n",
        "    # --------------------------------------------\n",
        "\n",
        "\n",
        "    # Ahora recopilamos todos los resultados del ENTORNO para enviar al AGENTE\n",
        "    for i in range(1,size+1,+1):\n",
        "        for j in range(1,size+1,+1):\n",
        "            cooperadores = self.Grid[i-1][j-1].Accion() + self.Grid[i-1][j].Accion() + self.Grid[i-1][j+1].Accion() + \\\n",
        "                           self.Grid[i][j-1].Accion()   +                              self.Grid[i][j+1].Accion()   + \\\n",
        "                           self.Grid[i+1][j-1].Accion() + self.Grid[i+1][j].Accion() + self.Grid[i+1][j+1].Accion() \n",
        "\n",
        "            vecinos = self.Grid[i][j].Vecinos() \n",
        "            grado_unanimidad_cooperacion    = (cooperadores / vecinos)\n",
        "            grado_unanimidad_enfrentamiento = ((vecinos - cooperadores) / vecinos)\n",
        "\n",
        "            # --------------------------------------------------------\n",
        "            #  AQUÍ PODRÍA AÑADIR LO QUE ME FALTA: \n",
        "            #       -> Poner pagos para el resto de jugadores \n",
        "            #  y MANEJAR LA INFORMACIÓN PARA CREAR UN GRAFO DE LA RED\n",
        "            #       -> Actualizar una MATRIZ_ADYACENCIA con las\n",
        "            #          COOPERACIONES entre nodos\n",
        "            # --------------------------------------------------------\n",
        "\n",
        "            if (grado_unanimidad_cooperacion > 0.5):\n",
        "                Vecinos_Cooperan = 1\n",
        "            self.Grid[i][j].Accion_vecindario(Vecinos_Cooperan)\n",
        "\n",
        "            if ((self.Grid[i][j].emocion == 0) or (self.Grid[i][j].emocion == 2)):\n",
        "              self.Grid[i][j].Fijar_intensidad_emocional(grado_unanimidad_cooperacion)\n",
        "              intensidad[i][j] = grado_unanimidad_cooperacion                                          # (I)\n",
        "            elif ((self.Grid[i][j].emocion == 1) or (self.Grid[i][j].emocion == 3)):\n",
        "              self.Grid[i][j].Fijar_intensidad_emocional(grado_unanimidad_enfrentamiento)\n",
        "              intensidad[i][j] = grado_unanimidad_enfrentamiento \n",
        "       \n",
        "            a_J1 = acciones[i][j]   \n",
        "            a_J2 = Vecinos_Cooperan\n",
        "            self.Grid[i][j].Fijar_num_cooperadores(cooperadores)  \n",
        "            self.Grid[i][j].Recompensa(self.matriz_pagos_J1[a_J1][a_J2])  \n",
        "            self.Grid[i][j].paso_aprendizaje()  # <---------------------------------------------------------------- LLAMADA A APRENDIZAJE \n",
        "\n",
        "    return acciones, emociones, intensidad  \n",
        "\n",
        "\n"
      ],
      "metadata": {
        "id": "VLkfU5F45COK"
      },
      "execution_count": null,
      "outputs": []
    },
    {
      "cell_type": "markdown",
      "source": [
        "#**3). Creamos una instancia del entorno y realizamos algunos ciclos para comprobar cómo se comporta el ERROR**"
      ],
      "metadata": {
        "id": "2OLt9eBUC9A5"
      }
    },
    {
      "cell_type": "code",
      "source": [
        "\n",
        "env = Environment(size)\n",
        "\n",
        "CICLOS =  4000  \n",
        "\n",
        "# REPETIMOS JUGADAS que vienen dadas por el número de 'CICLOS'\n",
        "for _ in range(CICLOS):\n",
        "  env.step()\n",
        "\n"
      ],
      "metadata": {
        "id": "ixh1kKH35CRL",
        "colab": {
          "base_uri": "https://localhost:8080/"
        },
        "outputId": "fefada15-cf1b-4281-dea5-80b818aee2f4"
      },
      "execution_count": null,
      "outputs": [
        {
          "output_type": "stream",
          "name": "stdout",
          "text": [
            "Iniciando construcción del ENTORNO \n",
            "\n",
            "· Generando poblaciones -> Puntos de corte: ( 0.25  , 1.0  , 1.0  )\n",
            "Rellenando GRID con Agentes : id ->  140385835223440 \n",
            "\n"
          ]
        }
      ]
    },
    {
      "cell_type": "markdown",
      "source": [
        "#**PREPARACIÓN DE LA BASE DE DATOS de Simulaciones de la Red Social**"
      ],
      "metadata": {
        "id": "5KZOmGEHTJyJ"
      }
    },
    {
      "cell_type": "markdown",
      "source": [
        "#**<font color='green'>Preparando la generación de las secuencias de observaciones para alimentar la red**</font>.\n",
        "\n",
        "<figure>\n",
        "<center>\n",
        "<img src='https://github.com/oscarserc/IMAGENES/blob/main/MEZCLAS_POBLACIONALES_3.png?raw=true' width=\"1000\"/>\n",
        "<figcaption></figcaption></center>\n",
        "</figure>\n",
        "\n",
        "\n"
      ],
      "metadata": {
        "id": "RwGkh_aq9cPO"
      }
    },
    {
      "cell_type": "code",
      "source": [],
      "metadata": {
        "id": "3fIhABd3xdqM"
      },
      "execution_count": null,
      "outputs": []
    },
    {
      "cell_type": "markdown",
      "source": [
        "\n",
        "#OBTENCIÓN DEL ARCHIVO EN DISCO: Base de Datos con las simulaciones.\n",
        "\n",
        "Partimos de un conjunto de sencuencias de transiciones de la red social. Cada Simulación está formada por un conjunto de 40 frames, que representan las transiciones en la Red Social en 40 ciclos de interacciones.\n",
        "\n",
        "<figure>\n",
        "<center>\n",
        "<img src='https://github.com/oscarserc/IMAGENES/blob/main/Archivo_a.png?raw=true' width=\"250\"/>\n",
        "<figcaption></figcaption></center>\n",
        "</figure>\n",
        "\n",
        "Posteriormente cada matriz es convertida en un vector de 1 dimensión. Esto nos permite guardar todas las secuencias en un archivo para su posterior análisis.\n",
        "\n",
        "<figure>\n",
        "<center>\n",
        "<img src='https://github.com/oscarserc/IMAGENES/blob/main/Archivo_b.png?raw=true' width=\"750\"/>\n",
        "<figcaption></figcaption></center>\n",
        "</figure>\n",
        "\n",
        "\n"
      ],
      "metadata": {
        "id": "irNQ-snAr0-5"
      }
    },
    {
      "cell_type": "code",
      "source": [],
      "metadata": {
        "id": "d5mFlELd7JB7"
      },
      "execution_count": null,
      "outputs": []
    },
    {
      "cell_type": "markdown",
      "source": [
        "#**PROBAMOS A GENERAR LOS FRAMES PARA GUARDAR EN UN ARCHIVO**."
      ],
      "metadata": {
        "id": "VV_AfutORmph"
      }
    },
    {
      "cell_type": "code",
      "source": [
        "\n",
        "'''\n",
        "*** Primer intento: utilizamos una proporción de agentes traidores en la red (p=0.2)\n",
        "*** Obtenemos: \n",
        "        1, 2, . . . , NUM_SIMULACIONES\n",
        "*** Cada una de las simulaciones se guarda como (40 filas = 40 frames) en un archivo\n",
        "    , para que después sean procesadas por una arquitectura de red neuronal \n",
        "'''\n",
        "\n",
        "# CONSTRUIMOS UN PROCEDIMIENTO para generar los frames con la representación de cada transición\n",
        "# ---------------------------------------------------------------------------------------------\n",
        "def generar_frame(matriz_emociones, matriz_intensidad):\n",
        "  # Pintamos sobre un fondo negro                background = [255, 255, 255]\n",
        "  # Si es ALEGRÍA (0), tenemos color VERDE: emplear ----> green = [ 0 , 255,  0 ]\n",
        "  # Si es IRA (1), tenemos color ROJO:      emplear ---->   red = [255,  0 ,  0 ]\n",
        "  # Si es TRISTEZA (2), tenemos color AZUL: emplear ---->  blue = [ 0 ,  0 , 255]\n",
        "  # Si es MIEDO (3), tenemos color GRIS:    emplear ---->  grey = [128, 128, 128]\n",
        "  background = [255, 255, 255]\n",
        "  red        = [255,  0 ,  0 ]\n",
        "  green      = [ 0 , 255,  0 ]\n",
        "  blue       = [ 0 ,  0 , 255]\n",
        "  grey       = [128, 128, 128]\n",
        "  # Vamos construyendo la representación del color de la emoción en RGBA\n",
        "  for i in range(size):\n",
        "    for j in range(size):\n",
        "      if   (matriz_emociones[i][j] == 0):\n",
        "        rgba  = green\n",
        "      elif (matriz_emociones[i][j] == 1):\n",
        "        rgba  = red\n",
        "      elif (matriz_emociones[i][j] == 2):\n",
        "        rgba  = blue\n",
        "      elif (matriz_emociones[i][j] == 3):\n",
        "        rgba  = gray\n",
        "      # Creo que ha de estar en un rango (0,1):\n",
        "      alpha = intensidad[i][j]\n",
        "      rgba.append(alpha)\n",
        "      # ---------------------------\n",
        "      # CONVERTIMOS A VALORES 'rgb' con el degradado (alpha) que da la intensidad\n",
        "      # ---------------------------\n",
        "      rgb_red   = ((1-alpha)*background[0]/255.) + (alpha*rgba[0]/255.)\n",
        "      rgb_green = ((1-alpha)*background[1]/255.) + (alpha*rgba[1]/255.)\n",
        "      rgb_blue  = ((1-alpha)*background[2]/255.) + (alpha*rgba[2]/255.)\n",
        "      valores_rojo.append(rgb_red)\n",
        "      valores_verde.append(rgb_green)\n",
        "      valores_azul.append(rgb_blue)\n",
        "  return [valores_rojo, valores_verde, valores_azul]\n",
        "\n",
        "# ---------------------------------------------------------------------------------------------\n",
        "\n",
        "CICLOS_de_ENTRENAMIENTO = 4000\n",
        "NUM_SIMULACIONES        =   10\n",
        "NUM_FRAMES              =   40\n",
        "\n",
        "nombre_columnas_ROJO  = ['r' + str(indice) for indice in range(size*size)]\n",
        "nombre_columnas_VERDE = ['g' + str(indice) for indice in range(size*size)]\n",
        "nombre_columnas_AZUL  = ['b' + str(indice) for indice in range(size*size)]\n",
        "nombres_columnas      = [nombre_columnas_ROJO, nombre_columnas_VERDE, nombre_columnas_AZUL]\n",
        "df     = pd.DataFrame(columns=nombres_columnas)\n",
        "\n",
        "# PRIMER PASO: Entrenar hasta que se estabilice (unas 4000 iteraciones) \n",
        "# ------------\n",
        "\n",
        "for num_simulacion in range(NUM_SIMULACIONES):\n",
        "  env = Environment(size)  \n",
        "  # REPETIMOS JUGADAS que vienen dadas por el número de 'CICLOS'\n",
        "  for _ in range(CICLOS_de_ENTRENAMIENTO):\n",
        "    env.step()\n",
        "\n",
        "\n",
        "# SEGUNDO PASO: Guardar en ARCHIVO unos 40 frames (serán los que sirvan para entrenar la red)\n",
        "# -------------\n",
        "\n",
        "  # Ahora empezamos a guardar realizaciones\n",
        "  for num_frame in range(NUM_FRAMES):\n",
        "\n",
        "    _, emociones, intensidad = env.step()\n",
        "\n",
        "    # AÑADIMOS LOS CANALES DE ROJO, VERDE y AZUL de cada transición en un frame\n",
        "    nuevo_frame = generar_frame(emociones, intensidad)\n",
        "\n",
        "    # CONSTRUIMOS EL DATAFRAME\n",
        "    frame  = pd.DataFrame(nuevo_frame.ravel()[None], columns=nombres_columnas)\n",
        "    frame['Simulacion_ID'] = num_simulacion\n",
        "    frame['Frame']         = num_frame\n",
        "    # Consideramos 0 (si sólo hay agentes emocionales) y 1 (si además hay TRAIDORES)\n",
        "    frame['Target']        = 1           \n",
        "    df = pd.concat([df, frame], ignore_index=True)\n",
        "\n",
        "\n",
        "# DAMOS FORMATO ENTERO A LAS COLUMNAS QUE IDENTIFICAN: Simulación, Frame y Target\n",
        "# -------------------------------------------------------------------------------\n",
        "df['Simulacion_ID'] = df.Simulacion_ID.astype('int8')\n",
        "df['Frame']         = df.Frame.astype('int8')\n",
        "df['Target']        = df.Target.astype('int8')\n",
        "\n"
      ],
      "metadata": {
        "id": "1b_WpCbNRlVd"
      },
      "execution_count": null,
      "outputs": []
    },
    {
      "cell_type": "code",
      "source": [],
      "metadata": {
        "id": "k-Nf3EoARlX-"
      },
      "execution_count": null,
      "outputs": []
    },
    {
      "cell_type": "markdown",
      "source": [
        "# **HACEMOS UNA PRUEBA CON UNA SERIE DE CICLOS**"
      ],
      "metadata": {
        "id": "X300ZeQn_2CG"
      }
    },
    {
      "cell_type": "code",
      "source": [
        "\n",
        "import pandas as pd\n",
        "import numpy as np\n",
        "\n",
        "size          = 10\n",
        "num_emociones =  4\n",
        "\n",
        "#matriz_emociones  = np.random.randint(num_emociones, size=(size, size))\n",
        "#matriz_intensidad = np.random.random(size=(size, size))\n",
        "\n",
        "background = [255, 255, 255]\n",
        "red        = [255,  0 ,  0 ]\n",
        "green      = [ 0 , 255,  0 ]\n",
        "blue       = [ 0 ,  0 , 255]\n",
        "grey       = [128, 128, 128]\n",
        "valores_rojo, valores_verde, valores_azul = [], [], []\n",
        "\n",
        "CICLOS_de_ENTRENAMIENTO = 4000\n",
        "NUM_SIMULACIONES        =   4\n",
        "NUM_FRAMES              =   20\n",
        "\n",
        "nombre_columnas_ROJO  = ['r' + str(indice) for indice in range(size*size)]\n",
        "nombre_columnas_VERDE = ['g' + str(indice) for indice in range(size*size)]\n",
        "nombre_columnas_AZUL  = ['b' + str(indice) for indice in range(size*size)]\n",
        "nombres_columnas      = nombre_columnas_ROJO  + \\\n",
        "                        nombre_columnas_VERDE + \\\n",
        "                        nombre_columnas_AZUL\n",
        "#[nombre_columnas_ROJO, nombre_columnas_VERDE, nombre_columnas_AZUL]\n",
        "\n",
        "df                    = pd.DataFrame(columns=nombres_columnas)\n",
        "nuevo_frame           = []\n",
        "\n",
        "# PRIMER PASO: Entrenar hasta que se estabilice (unas 4000 iteraciones) \n",
        "# ------------\n",
        "for num_simulacion in range(NUM_SIMULACIONES):\n",
        "  env = Environment(size)  \n",
        "  # REPETIMOS JUGADAS que vienen dadas por el número de 'CICLOS'\n",
        "  for _ in range(CICLOS_de_ENTRENAMIENTO):\n",
        "    env.step()\n",
        "\n",
        "\n",
        "# SEGUNDO PASO: Guardar en ARCHIVO los 40 frames\n",
        "# -------------\n",
        "  # Ahora empezamos a guardar realizaciones\n",
        "  for num_frame in range(NUM_FRAMES):\n",
        "    _, emociones, intensidad = env.step()\n",
        "    emociones  = emociones[1:size+1,1:size+1]\n",
        "    intensidad = intensidad[1:size+1,1:size+1]\n",
        "\n",
        "    # AÑADIMOS LOS CANALES DE ROJO, VERDE y AZUL de cada transición en un frame\n",
        "    for i in range(size):\n",
        "      for j in range(size):\n",
        "        if   (emociones[i][j] == 0):\n",
        "          rgba  = green\n",
        "        elif (emociones[i][j] == 1):\n",
        "          rgba  = red\n",
        "        elif (emociones[i][j] == 2):\n",
        "          rgba  = blue\n",
        "        elif (emociones[i][j] == 3):\n",
        "          rgba  = grey\n",
        "        # Creo que ha de estar en un rango (0,1):\n",
        "        alpha = intensidad[i][j]\n",
        "        rgba.append(alpha)\n",
        "        # ---------------------------\n",
        "        # CONVERTIMOS A VALORES 'rgb' con el degradado (alpha) que da la intensidad\n",
        "        # ---------------------------\n",
        "        rgb_red   = ((1-alpha)*background[0]/255.) + (alpha*rgba[0]/255.)\n",
        "        rgb_green = ((1-alpha)*background[1]/255.) + (alpha*rgba[1]/255.)\n",
        "        rgb_blue  = ((1-alpha)*background[2]/255.) + (alpha*rgba[2]/255.)\n",
        "        valores_rojo.append(rgb_red)\n",
        "        valores_verde.append(rgb_green)\n",
        "        valores_azul.append(rgb_blue)\n",
        "    nuevo_frame = nuevo_frame + valores_rojo + valores_verde + valores_azul\n",
        "    #nuevo_frame = nuevo_frame + valores_verde \n",
        "    #nuevo_frame = nuevo_frame + valores_azul\n",
        "    \n",
        "\n",
        "    # CONSTRUIMOS EL DATAFRAME\n",
        "    # Creo que devuelve ya en un vector, no en una matriz por lo que no hace falta alisarlo\n",
        "    #frame  = pd.DataFrame(nuevo_frame.ravel()[None], columns=nombres_columnas)\n",
        "    frame  = pd.DataFrame([nuevo_frame], columns=nombres_columnas)\n",
        "    frame['Simulacion_ID'] = num_simulacion + 1\n",
        "    frame['Frame']         = num_frame + 1\n",
        "    # Consideramos 0 (si sólo hay agentes emocionales) y 1 (si además hay TRAIDORES)\n",
        "    frame['Target']        = 1           \n",
        "    df = pd.concat([df, frame], ignore_index=True)\n",
        "    valores_rojo, valores_verde, valores_azul = [], [], []\n",
        "    nuevo_frame = []\n",
        "\n",
        "# DAMOS FORMATO ENTERO A LAS COLUMNAS QUE IDENTIFICAN: Simulación, Frame y Target\n",
        "# -------------------------------------------------------------------------------\n",
        "df['Simulacion_ID'] = df.Simulacion_ID.astype('int8')\n",
        "df['Frame']         = df.Frame.astype('int8')\n",
        "df['Target']        = df.Target.astype('int8')\n",
        "\n"
      ],
      "metadata": {
        "colab": {
          "base_uri": "https://localhost:8080/"
        },
        "id": "l3bRJk21_1Nn",
        "outputId": "128764d8-3c2a-49f2-8b7e-33e2fecc02b4"
      },
      "execution_count": null,
      "outputs": [
        {
          "output_type": "stream",
          "name": "stdout",
          "text": [
            "Iniciando construcción del ENTORNO \n",
            "\n",
            "· Generando poblaciones -> Puntos de corte: ( 0.25  , 1.0  , 1.0  )\n",
            "Rellenando GRID con Agentes : id ->  140385809848816 \n",
            "\n",
            "Iniciando construcción del ENTORNO \n",
            "\n",
            "· Generando poblaciones -> Puntos de corte: ( 0.25  , 1.0  , 1.0  )\n",
            "Rellenando GRID con Agentes : id ->  140385809705840 \n",
            "\n",
            "Iniciando construcción del ENTORNO \n",
            "\n",
            "· Generando poblaciones -> Puntos de corte: ( 0.25  , 1.0  , 1.0  )\n",
            "Rellenando GRID con Agentes : id ->  140385834386512 \n",
            "\n",
            "Iniciando construcción del ENTORNO \n",
            "\n",
            "· Generando poblaciones -> Puntos de corte: ( 0.25  , 1.0  , 1.0  )\n",
            "Rellenando GRID con Agentes : id ->  140385835285936 \n",
            "\n"
          ]
        }
      ]
    },
    {
      "cell_type": "code",
      "source": [
        "\n",
        "df\n",
        "\n",
        "#df_ = pd.DataFrame(np.array(nuevo_frame).reshape(-1, len(nuevo_frame)))\n",
        "#df_\n"
      ],
      "metadata": {
        "colab": {
          "base_uri": "https://localhost:8080/",
          "height": 488
        },
        "id": "lG5vlCCC_1Qe",
        "outputId": "449ec170-7e61-4c81-b8fa-6501d71bcc6d"
      },
      "execution_count": null,
      "outputs": [
        {
          "output_type": "execute_result",
          "data": {
            "text/plain": [
              "          r0        r1   r2        r3        r4        r5        r6   r7   r8  \\\n",
              "0   1.000000  1.000000  1.0  1.000000  1.000000  1.000000  0.601569  1.0  1.0   \n",
              "1   1.000000  1.000000  1.0  1.000000  0.601569  0.501961  1.000000  1.0  0.6   \n",
              "2   0.501961  1.000000  1.0  1.000000  0.501961  1.000000  0.601569  0.8  0.8   \n",
              "3   0.501961  1.000000  1.0  0.501961  0.501961  1.000000  1.000000  1.0  0.8   \n",
              "4   0.501961  1.000000  1.0  1.000000  0.501961  1.000000  0.601569  0.8  0.8   \n",
              "..       ...       ...  ...       ...       ...       ...       ...  ...  ...   \n",
              "75  0.667974  0.501961  1.0  1.000000  1.000000  1.000000  1.000000  0.8  1.0   \n",
              "76  1.000000  1.000000  0.6  0.800000  1.000000  1.000000  0.501961  1.0  1.0   \n",
              "77  0.667974  0.501961  1.0  1.000000  1.000000  0.501961  1.000000  0.8  1.0   \n",
              "78  0.501961  1.000000  1.0  1.000000  1.000000  1.000000  0.501961  1.0  1.0   \n",
              "79  1.000000  1.000000  0.6  0.800000  0.501961  1.000000  1.000000  0.8  1.0   \n",
              "\n",
              "          r9  ...       b93       b94  b95       b96  b97       b98       b99  \\\n",
              "0   1.000000  ...  0.501961  1.000000  0.8  0.501961  0.8  0.501961  0.000000   \n",
              "1   0.667974  ...  0.000000  0.800000  1.0  0.000000  1.0  0.000000  0.000000   \n",
              "2   1.000000  ...  0.501961  1.000000  1.0  0.000000  0.8  0.200000  0.501961   \n",
              "3   0.501961  ...  0.000000  0.800000  0.8  0.501961  1.0  0.000000  0.000000   \n",
              "4   1.000000  ...  0.501961  1.000000  1.0  0.000000  1.0  0.200000  0.501961   \n",
              "..       ...  ...       ...       ...  ...       ...  ...       ...       ...   \n",
              "75  1.000000  ...  0.800000  0.000000  0.8  0.200000  0.6  0.800000  0.333333   \n",
              "76  0.501961  ...  1.000000  0.501961  1.0  0.200000  0.8  0.600000  0.501961   \n",
              "77  1.000000  ...  1.000000  0.000000  1.0  0.000000  0.8  1.000000  0.000000   \n",
              "78  0.501961  ...  0.800000  0.000000  0.8  0.501961  0.8  0.800000  0.333333   \n",
              "79  0.501961  ...  1.000000  0.501961  1.0  0.000000  1.0  0.800000  0.501961   \n",
              "\n",
              "    Simulacion_ID  Frame  Target  \n",
              "0               1      1       1  \n",
              "1               1      2       1  \n",
              "2               1      3       1  \n",
              "3               1      4       1  \n",
              "4               1      5       1  \n",
              "..            ...    ...     ...  \n",
              "75              4     16       1  \n",
              "76              4     17       1  \n",
              "77              4     18       1  \n",
              "78              4     19       1  \n",
              "79              4     20       1  \n",
              "\n",
              "[80 rows x 303 columns]"
            ],
            "text/html": [
              "\n",
              "  <div id=\"df-a6fc4ebe-55ec-444d-8e86-6e81d1ef0d46\">\n",
              "    <div class=\"colab-df-container\">\n",
              "      <div>\n",
              "<style scoped>\n",
              "    .dataframe tbody tr th:only-of-type {\n",
              "        vertical-align: middle;\n",
              "    }\n",
              "\n",
              "    .dataframe tbody tr th {\n",
              "        vertical-align: top;\n",
              "    }\n",
              "\n",
              "    .dataframe thead th {\n",
              "        text-align: right;\n",
              "    }\n",
              "</style>\n",
              "<table border=\"1\" class=\"dataframe\">\n",
              "  <thead>\n",
              "    <tr style=\"text-align: right;\">\n",
              "      <th></th>\n",
              "      <th>r0</th>\n",
              "      <th>r1</th>\n",
              "      <th>r2</th>\n",
              "      <th>r3</th>\n",
              "      <th>r4</th>\n",
              "      <th>r5</th>\n",
              "      <th>r6</th>\n",
              "      <th>r7</th>\n",
              "      <th>r8</th>\n",
              "      <th>r9</th>\n",
              "      <th>...</th>\n",
              "      <th>b93</th>\n",
              "      <th>b94</th>\n",
              "      <th>b95</th>\n",
              "      <th>b96</th>\n",
              "      <th>b97</th>\n",
              "      <th>b98</th>\n",
              "      <th>b99</th>\n",
              "      <th>Simulacion_ID</th>\n",
              "      <th>Frame</th>\n",
              "      <th>Target</th>\n",
              "    </tr>\n",
              "  </thead>\n",
              "  <tbody>\n",
              "    <tr>\n",
              "      <th>0</th>\n",
              "      <td>1.000000</td>\n",
              "      <td>1.000000</td>\n",
              "      <td>1.0</td>\n",
              "      <td>1.000000</td>\n",
              "      <td>1.000000</td>\n",
              "      <td>1.000000</td>\n",
              "      <td>0.601569</td>\n",
              "      <td>1.0</td>\n",
              "      <td>1.0</td>\n",
              "      <td>1.000000</td>\n",
              "      <td>...</td>\n",
              "      <td>0.501961</td>\n",
              "      <td>1.000000</td>\n",
              "      <td>0.8</td>\n",
              "      <td>0.501961</td>\n",
              "      <td>0.8</td>\n",
              "      <td>0.501961</td>\n",
              "      <td>0.000000</td>\n",
              "      <td>1</td>\n",
              "      <td>1</td>\n",
              "      <td>1</td>\n",
              "    </tr>\n",
              "    <tr>\n",
              "      <th>1</th>\n",
              "      <td>1.000000</td>\n",
              "      <td>1.000000</td>\n",
              "      <td>1.0</td>\n",
              "      <td>1.000000</td>\n",
              "      <td>0.601569</td>\n",
              "      <td>0.501961</td>\n",
              "      <td>1.000000</td>\n",
              "      <td>1.0</td>\n",
              "      <td>0.6</td>\n",
              "      <td>0.667974</td>\n",
              "      <td>...</td>\n",
              "      <td>0.000000</td>\n",
              "      <td>0.800000</td>\n",
              "      <td>1.0</td>\n",
              "      <td>0.000000</td>\n",
              "      <td>1.0</td>\n",
              "      <td>0.000000</td>\n",
              "      <td>0.000000</td>\n",
              "      <td>1</td>\n",
              "      <td>2</td>\n",
              "      <td>1</td>\n",
              "    </tr>\n",
              "    <tr>\n",
              "      <th>2</th>\n",
              "      <td>0.501961</td>\n",
              "      <td>1.000000</td>\n",
              "      <td>1.0</td>\n",
              "      <td>1.000000</td>\n",
              "      <td>0.501961</td>\n",
              "      <td>1.000000</td>\n",
              "      <td>0.601569</td>\n",
              "      <td>0.8</td>\n",
              "      <td>0.8</td>\n",
              "      <td>1.000000</td>\n",
              "      <td>...</td>\n",
              "      <td>0.501961</td>\n",
              "      <td>1.000000</td>\n",
              "      <td>1.0</td>\n",
              "      <td>0.000000</td>\n",
              "      <td>0.8</td>\n",
              "      <td>0.200000</td>\n",
              "      <td>0.501961</td>\n",
              "      <td>1</td>\n",
              "      <td>3</td>\n",
              "      <td>1</td>\n",
              "    </tr>\n",
              "    <tr>\n",
              "      <th>3</th>\n",
              "      <td>0.501961</td>\n",
              "      <td>1.000000</td>\n",
              "      <td>1.0</td>\n",
              "      <td>0.501961</td>\n",
              "      <td>0.501961</td>\n",
              "      <td>1.000000</td>\n",
              "      <td>1.000000</td>\n",
              "      <td>1.0</td>\n",
              "      <td>0.8</td>\n",
              "      <td>0.501961</td>\n",
              "      <td>...</td>\n",
              "      <td>0.000000</td>\n",
              "      <td>0.800000</td>\n",
              "      <td>0.8</td>\n",
              "      <td>0.501961</td>\n",
              "      <td>1.0</td>\n",
              "      <td>0.000000</td>\n",
              "      <td>0.000000</td>\n",
              "      <td>1</td>\n",
              "      <td>4</td>\n",
              "      <td>1</td>\n",
              "    </tr>\n",
              "    <tr>\n",
              "      <th>4</th>\n",
              "      <td>0.501961</td>\n",
              "      <td>1.000000</td>\n",
              "      <td>1.0</td>\n",
              "      <td>1.000000</td>\n",
              "      <td>0.501961</td>\n",
              "      <td>1.000000</td>\n",
              "      <td>0.601569</td>\n",
              "      <td>0.8</td>\n",
              "      <td>0.8</td>\n",
              "      <td>1.000000</td>\n",
              "      <td>...</td>\n",
              "      <td>0.501961</td>\n",
              "      <td>1.000000</td>\n",
              "      <td>1.0</td>\n",
              "      <td>0.000000</td>\n",
              "      <td>1.0</td>\n",
              "      <td>0.200000</td>\n",
              "      <td>0.501961</td>\n",
              "      <td>1</td>\n",
              "      <td>5</td>\n",
              "      <td>1</td>\n",
              "    </tr>\n",
              "    <tr>\n",
              "      <th>...</th>\n",
              "      <td>...</td>\n",
              "      <td>...</td>\n",
              "      <td>...</td>\n",
              "      <td>...</td>\n",
              "      <td>...</td>\n",
              "      <td>...</td>\n",
              "      <td>...</td>\n",
              "      <td>...</td>\n",
              "      <td>...</td>\n",
              "      <td>...</td>\n",
              "      <td>...</td>\n",
              "      <td>...</td>\n",
              "      <td>...</td>\n",
              "      <td>...</td>\n",
              "      <td>...</td>\n",
              "      <td>...</td>\n",
              "      <td>...</td>\n",
              "      <td>...</td>\n",
              "      <td>...</td>\n",
              "      <td>...</td>\n",
              "      <td>...</td>\n",
              "    </tr>\n",
              "    <tr>\n",
              "      <th>75</th>\n",
              "      <td>0.667974</td>\n",
              "      <td>0.501961</td>\n",
              "      <td>1.0</td>\n",
              "      <td>1.000000</td>\n",
              "      <td>1.000000</td>\n",
              "      <td>1.000000</td>\n",
              "      <td>1.000000</td>\n",
              "      <td>0.8</td>\n",
              "      <td>1.0</td>\n",
              "      <td>1.000000</td>\n",
              "      <td>...</td>\n",
              "      <td>0.800000</td>\n",
              "      <td>0.000000</td>\n",
              "      <td>0.8</td>\n",
              "      <td>0.200000</td>\n",
              "      <td>0.6</td>\n",
              "      <td>0.800000</td>\n",
              "      <td>0.333333</td>\n",
              "      <td>4</td>\n",
              "      <td>16</td>\n",
              "      <td>1</td>\n",
              "    </tr>\n",
              "    <tr>\n",
              "      <th>76</th>\n",
              "      <td>1.000000</td>\n",
              "      <td>1.000000</td>\n",
              "      <td>0.6</td>\n",
              "      <td>0.800000</td>\n",
              "      <td>1.000000</td>\n",
              "      <td>1.000000</td>\n",
              "      <td>0.501961</td>\n",
              "      <td>1.0</td>\n",
              "      <td>1.0</td>\n",
              "      <td>0.501961</td>\n",
              "      <td>...</td>\n",
              "      <td>1.000000</td>\n",
              "      <td>0.501961</td>\n",
              "      <td>1.0</td>\n",
              "      <td>0.200000</td>\n",
              "      <td>0.8</td>\n",
              "      <td>0.600000</td>\n",
              "      <td>0.501961</td>\n",
              "      <td>4</td>\n",
              "      <td>17</td>\n",
              "      <td>1</td>\n",
              "    </tr>\n",
              "    <tr>\n",
              "      <th>77</th>\n",
              "      <td>0.667974</td>\n",
              "      <td>0.501961</td>\n",
              "      <td>1.0</td>\n",
              "      <td>1.000000</td>\n",
              "      <td>1.000000</td>\n",
              "      <td>0.501961</td>\n",
              "      <td>1.000000</td>\n",
              "      <td>0.8</td>\n",
              "      <td>1.0</td>\n",
              "      <td>1.000000</td>\n",
              "      <td>...</td>\n",
              "      <td>1.000000</td>\n",
              "      <td>0.000000</td>\n",
              "      <td>1.0</td>\n",
              "      <td>0.000000</td>\n",
              "      <td>0.8</td>\n",
              "      <td>1.000000</td>\n",
              "      <td>0.000000</td>\n",
              "      <td>4</td>\n",
              "      <td>18</td>\n",
              "      <td>1</td>\n",
              "    </tr>\n",
              "    <tr>\n",
              "      <th>78</th>\n",
              "      <td>0.501961</td>\n",
              "      <td>1.000000</td>\n",
              "      <td>1.0</td>\n",
              "      <td>1.000000</td>\n",
              "      <td>1.000000</td>\n",
              "      <td>1.000000</td>\n",
              "      <td>0.501961</td>\n",
              "      <td>1.0</td>\n",
              "      <td>1.0</td>\n",
              "      <td>0.501961</td>\n",
              "      <td>...</td>\n",
              "      <td>0.800000</td>\n",
              "      <td>0.000000</td>\n",
              "      <td>0.8</td>\n",
              "      <td>0.501961</td>\n",
              "      <td>0.8</td>\n",
              "      <td>0.800000</td>\n",
              "      <td>0.333333</td>\n",
              "      <td>4</td>\n",
              "      <td>19</td>\n",
              "      <td>1</td>\n",
              "    </tr>\n",
              "    <tr>\n",
              "      <th>79</th>\n",
              "      <td>1.000000</td>\n",
              "      <td>1.000000</td>\n",
              "      <td>0.6</td>\n",
              "      <td>0.800000</td>\n",
              "      <td>0.501961</td>\n",
              "      <td>1.000000</td>\n",
              "      <td>1.000000</td>\n",
              "      <td>0.8</td>\n",
              "      <td>1.0</td>\n",
              "      <td>0.501961</td>\n",
              "      <td>...</td>\n",
              "      <td>1.000000</td>\n",
              "      <td>0.501961</td>\n",
              "      <td>1.0</td>\n",
              "      <td>0.000000</td>\n",
              "      <td>1.0</td>\n",
              "      <td>0.800000</td>\n",
              "      <td>0.501961</td>\n",
              "      <td>4</td>\n",
              "      <td>20</td>\n",
              "      <td>1</td>\n",
              "    </tr>\n",
              "  </tbody>\n",
              "</table>\n",
              "<p>80 rows × 303 columns</p>\n",
              "</div>\n",
              "      <button class=\"colab-df-convert\" onclick=\"convertToInteractive('df-a6fc4ebe-55ec-444d-8e86-6e81d1ef0d46')\"\n",
              "              title=\"Convert this dataframe to an interactive table.\"\n",
              "              style=\"display:none;\">\n",
              "        \n",
              "  <svg xmlns=\"http://www.w3.org/2000/svg\" height=\"24px\"viewBox=\"0 0 24 24\"\n",
              "       width=\"24px\">\n",
              "    <path d=\"M0 0h24v24H0V0z\" fill=\"none\"/>\n",
              "    <path d=\"M18.56 5.44l.94 2.06.94-2.06 2.06-.94-2.06-.94-.94-2.06-.94 2.06-2.06.94zm-11 1L8.5 8.5l.94-2.06 2.06-.94-2.06-.94L8.5 2.5l-.94 2.06-2.06.94zm10 10l.94 2.06.94-2.06 2.06-.94-2.06-.94-.94-2.06-.94 2.06-2.06.94z\"/><path d=\"M17.41 7.96l-1.37-1.37c-.4-.4-.92-.59-1.43-.59-.52 0-1.04.2-1.43.59L10.3 9.45l-7.72 7.72c-.78.78-.78 2.05 0 2.83L4 21.41c.39.39.9.59 1.41.59.51 0 1.02-.2 1.41-.59l7.78-7.78 2.81-2.81c.8-.78.8-2.07 0-2.86zM5.41 20L4 18.59l7.72-7.72 1.47 1.35L5.41 20z\"/>\n",
              "  </svg>\n",
              "      </button>\n",
              "      \n",
              "  <style>\n",
              "    .colab-df-container {\n",
              "      display:flex;\n",
              "      flex-wrap:wrap;\n",
              "      gap: 12px;\n",
              "    }\n",
              "\n",
              "    .colab-df-convert {\n",
              "      background-color: #E8F0FE;\n",
              "      border: none;\n",
              "      border-radius: 50%;\n",
              "      cursor: pointer;\n",
              "      display: none;\n",
              "      fill: #1967D2;\n",
              "      height: 32px;\n",
              "      padding: 0 0 0 0;\n",
              "      width: 32px;\n",
              "    }\n",
              "\n",
              "    .colab-df-convert:hover {\n",
              "      background-color: #E2EBFA;\n",
              "      box-shadow: 0px 1px 2px rgba(60, 64, 67, 0.3), 0px 1px 3px 1px rgba(60, 64, 67, 0.15);\n",
              "      fill: #174EA6;\n",
              "    }\n",
              "\n",
              "    [theme=dark] .colab-df-convert {\n",
              "      background-color: #3B4455;\n",
              "      fill: #D2E3FC;\n",
              "    }\n",
              "\n",
              "    [theme=dark] .colab-df-convert:hover {\n",
              "      background-color: #434B5C;\n",
              "      box-shadow: 0px 1px 3px 1px rgba(0, 0, 0, 0.15);\n",
              "      filter: drop-shadow(0px 1px 2px rgba(0, 0, 0, 0.3));\n",
              "      fill: #FFFFFF;\n",
              "    }\n",
              "  </style>\n",
              "\n",
              "      <script>\n",
              "        const buttonEl =\n",
              "          document.querySelector('#df-a6fc4ebe-55ec-444d-8e86-6e81d1ef0d46 button.colab-df-convert');\n",
              "        buttonEl.style.display =\n",
              "          google.colab.kernel.accessAllowed ? 'block' : 'none';\n",
              "\n",
              "        async function convertToInteractive(key) {\n",
              "          const element = document.querySelector('#df-a6fc4ebe-55ec-444d-8e86-6e81d1ef0d46');\n",
              "          const dataTable =\n",
              "            await google.colab.kernel.invokeFunction('convertToInteractive',\n",
              "                                                     [key], {});\n",
              "          if (!dataTable) return;\n",
              "\n",
              "          const docLinkHtml = 'Like what you see? Visit the ' +\n",
              "            '<a target=\"_blank\" href=https://colab.research.google.com/notebooks/data_table.ipynb>data table notebook</a>'\n",
              "            + ' to learn more about interactive tables.';\n",
              "          element.innerHTML = '';\n",
              "          dataTable['output_type'] = 'display_data';\n",
              "          await google.colab.output.renderOutput(dataTable, element);\n",
              "          const docLink = document.createElement('div');\n",
              "          docLink.innerHTML = docLinkHtml;\n",
              "          element.appendChild(docLink);\n",
              "        }\n",
              "      </script>\n",
              "    </div>\n",
              "  </div>\n",
              "  "
            ]
          },
          "metadata": {},
          "execution_count": 9
        }
      ]
    },
    {
      "cell_type": "code",
      "source": [
        "\n",
        "import matplotlib.pyplot as plt\n",
        "\n",
        "# CANAL ROJO\n",
        "# ==========\n",
        "#dibujo_r = pd.array(df[nombre_columnas_ROJO].iloc[0]).reshape(size,size)\n",
        "#plt.imshow(dibujo_r)\n",
        "#plt.show()\n"
      ],
      "metadata": {
        "colab": {
          "base_uri": "https://localhost:8080/",
          "height": 265
        },
        "id": "VVfCSw2VPV6O",
        "outputId": "8e4ebb68-df4f-450f-a530-6fbab4615024"
      },
      "execution_count": null,
      "outputs": [
        {
          "output_type": "display_data",
          "data": {
            "text/plain": [
              "<Figure size 432x288 with 1 Axes>"
            ],
            "image/png": "[encoded data removed]"
          },
          "metadata": {
            "needs_background": "light"
          }
        }
      ]
    },
    {
      "cell_type": "code",
      "source": [
        "\n",
        "# CANAL VERDE\n",
        "# ===========\n",
        "#dibujo_v = pd.array(df[nombre_columnas_VERDE].iloc[0]).reshape(size,size)\n",
        "#plt.imshow(dibujo_v)\n",
        "#plt.show()\n"
      ],
      "metadata": {
        "colab": {
          "base_uri": "https://localhost:8080/",
          "height": 265
        },
        "id": "F80S49gORjZN",
        "outputId": "53472679-47db-47e8-92e6-c1284ecfd740"
      },
      "execution_count": null,
      "outputs": [
        {
          "output_type": "display_data",
          "data": {
            "text/plain": [
              "<Figure size 432x288 with 1 Axes>"
            ],
            "image/png": "[encoded data removed]"
          },
          "metadata": {
            "needs_background": "light"
          }
        }
      ]
    },
    {
      "cell_type": "code",
      "source": [
        "\n",
        "# CANAL AZUL\n",
        "# ==========\n",
        "#dibujo_a = pd.array(df[nombre_columnas_AZUL].iloc[0]).reshape(size,size)\n",
        "#plt.imshow(dibujo_a)\n",
        "#plt.show()\n"
      ],
      "metadata": {
        "colab": {
          "base_uri": "https://localhost:8080/",
          "height": 265
        },
        "id": "fo5TY0lxRjbr",
        "outputId": "2925b585-a900-4cc1-9dd1-1a02048be424"
      },
      "execution_count": null,
      "outputs": [
        {
          "output_type": "display_data",
          "data": {
            "text/plain": [
              "<Figure size 432x288 with 1 Axes>"
            ],
            "image/png": "[encoded data removed]"
          },
          "metadata": {
            "needs_background": "light"
          }
        }
      ]
    },
    {
      "cell_type": "code",
      "source": [
        "\n",
        "import matplotlib.pyplot as plt\n",
        "\n",
        "for agente in range(NUM_SIMULACIONES*NUM_FRAMES):\n",
        "  dibujo_r = pd.array(df[nombre_columnas_ROJO].iloc[agente]).reshape(size,size)\n",
        "  dibujo_v = pd.array(df[nombre_columnas_VERDE].iloc[agente]).reshape(size,size)\n",
        "  dibujo_a = pd.array(df[nombre_columnas_AZUL].iloc[agente]).reshape(size,size)\n",
        "\n",
        "  frame = np.dstack((dibujo_r, dibujo_v, dibujo_a))\n",
        "  plt.imshow(frame)\n",
        "  plt.show()\n"
      ],
      "metadata": {
        "colab": {
          "base_uri": "https://localhost:8080/",
          "height": 1000
        },
        "id": "4jU4CQmYPV9m",
        "outputId": "775abf7b-1d12-469d-c4df-b4b9993184ac"
      },
      "execution_count": null,
      "outputs": [
        {
          "output_type": "display_data",
          "data": {
            "text/plain": [
              "<Figure size 432x288 with 1 Axes>"
            ],
            "image/png": "[encoded data removed]"
          },
          "metadata": {
            "needs_background": "light"
          }
        },
        {
          "output_type": "display_data",
          "data": {
            "text/plain": [
              "<Figure size 432x288 with 1 Axes>"
            ],
            "image/png": "[encoded data removed]"
          },
          "metadata": {
            "needs_background": "light"
          }
        },
        {
          "output_type": "display_data",
          "data": {
            "text/plain": [
              "<Figure size 432x288 with 1 Axes>"
            ],
            "image/png": "[encoded data removed]"
          },
          "metadata": {
            "needs_background": "light"
          }
        },
        {
          "output_type": "display_data",
          "data": {
            "text/plain": [
              "<Figure size 432x288 with 1 Axes>"
            ],
            "image/png": "[encoded data removed]"
          },
          "metadata": {
            "needs_background": "light"
          }
        },
        {
          "output_type": "display_data",
          "data": {
            "text/plain": [
              "<Figure size 432x288 with 1 Axes>"
            ],
            "image/png": "[encoded data removed]"
          },
          "metadata": {
            "needs_background": "light"
          }
        },
        {
          "output_type": "display_data",
          "data": {
            "text/plain": [
              "<Figure size 432x288 with 1 Axes>"
            ],
            "image/png": "[encoded data removed]"
          },
          "metadata": {
            "needs_background": "light"
          }
        },
        {
          "output_type": "display_data",
          "data": {
            "text/plain": [
              "<Figure size 432x288 with 1 Axes>"
            ],
            "image/png": "[encoded data removed]"
          },
          "metadata": {
            "needs_background": "light"
          }
        },
        {
          "output_type": "display_data",
          "data": {
            "text/plain": [
              "<Figure size 432x288 with 1 Axes>"
            ],
            "image/png": "[encoded data removed]"
          },
          "metadata": {
            "needs_background": "light"
          }
        },
        {
          "output_type": "display_data",
          "data": {
            "text/plain": [
              "<Figure size 432x288 with 1 Axes>"
            ],
            "image/png": "[encoded data removed]"
          },
          "metadata": {
            "needs_background": "light"
          }
        },
        {
          "output_type": "display_data",
          "data": {
            "text/plain": [
              "<Figure size 432x288 with 1 Axes>"
            ],
            "image/png": "[encoded data removed]"
          },
          "metadata": {
            "needs_background": "light"
          }
        },
        {
          "output_type": "display_data",
          "data": {
            "text/plain": [
              "<Figure size 432x288 with 1 Axes>"
            ],
            "image/png": "[encoded data removed]"
          },
          "metadata": {
            "needs_background": "light"
          }
        },
        {
          "output_type": "display_data",
          "data": {
            "text/plain": [
              "<Figure size 432x288 with 1 Axes>"
            ],
            "image/png": "[encoded data removed]"
          },
          "metadata": {
            "needs_background": "light"
          }
        },
        {
          "output_type": "display_data",
          "data": {
            "text/plain": [
              "<Figure size 432x288 with 1 Axes>"
            ],
            "image/png": "[encoded data removed]"
          },
          "metadata": {
            "needs_background": "light"
          }
        },
        {
          "output_type": "display_data",
          "data": {
            "text/plain": [
              "<Figure size 432x288 with 1 Axes>"
            ],
            "image/png": "[encoded data removed]"
          },
          "metadata": {
            "needs_background": "light"
          }
        },
        {
          "output_type": "display_data",
          "data": {
            "text/plain": [
              "<Figure size 432x288 with 1 Axes>"
            ],
            "image/png": "[encoded data removed]"
          },
          "metadata": {
            "needs_background": "light"
          }
        },
        {
          "output_type": "display_data",
          "data": {
            "text/plain": [
              "<Figure size 432x288 with 1 Axes>"
            ],
            "image/png": "[encoded data removed]"
          },
          "metadata": {
            "needs_background": "light"
          }
        },
        {
          "output_type": "display_data",
          "data": {
            "text/plain": [
              "<Figure size 432x288 with 1 Axes>"
            ],
            "image/png": "[encoded data removed]"
          },
          "metadata": {
            "needs_background": "light"
          }
        },
        {
          "output_type": "display_data",
          "data": {
            "text/plain": [
              "<Figure size 432x288 with 1 Axes>"
            ],
            "image/png": "[encoded data removed]"
          },
          "metadata": {
            "needs_background": "light"
          }
        },
        {
          "output_type": "display_data",
          "data": {
            "text/plain": [
              "<Figure size 432x288 with 1 Axes>"
            ],
            "image/png": "[encoded data removed]"
          },
          "metadata": {
            "needs_background": "light"
          }
        },
        {
          "output_type": "display_data",
          "data": {
            "text/plain": [
              "<Figure size 432x288 with 1 Axes>"
            ],
            "image/png": "[encoded data removed]"
          },
          "metadata": {
            "needs_background": "light"
          }
        },
        {
          "output_type": "display_data",
          "data": {
            "text/plain": [
              "<Figure size 432x288 with 1 Axes>"
            ],
            "image/png": "[encoded data removed]"
          },
          "metadata": {
            "needs_background": "light"
          }
        },
        {
          "output_type": "display_data",
          "data": {
            "text/plain": [
              "<Figure size 432x288 with 1 Axes>"
            ],
            "image/png": "[encoded data removed]"
          },
          "metadata": {
            "needs_background": "light"
          }
        },
        {
          "output_type": "display_data",
          "data": {
            "text/plain": [
              "<Figure size 432x288 with 1 Axes>"
            ],
            "image/png": "[encoded data removed]"
          },
          "metadata": {
            "needs_background": "light"
          }
        },
        {
          "output_type": "display_data",
          "data": {
            "text/plain": [
              "<Figure size 432x288 with 1 Axes>"
            ],
            "image/png": "[encoded data removed]"
          },
          "metadata": {
            "needs_background": "light"
          }
        },
        {
          "output_type": "display_data",
          "data": {
            "text/plain": [
              "<Figure size 432x288 with 1 Axes>"
            ],
            "image/png": "[encoded data removed]"
          },
          "metadata": {
            "needs_background": "light"
          }
        },
        {
          "output_type": "display_data",
          "data": {
            "text/plain": [
              "<Figure size 432x288 with 1 Axes>"
            ],
            "image/png": "[encoded data removed]"
          },
          "metadata": {
            "needs_background": "light"
          }
        },
        {
          "output_type": "display_data",
          "data": {
            "text/plain": [
              "<Figure size 432x288 with 1 Axes>"
            ],
            "image/png": "[encoded data removed]"
          },
          "metadata": {
            "needs_background": "light"
          }
        },
        {
          "output_type": "display_data",
          "data": {
            "text/plain": [
              "<Figure size 432x288 with 1 Axes>"
            ],
            "image/png": "[encoded data removed]"
          },
          "metadata": {
            "needs_background": "light"
          }
        },
        {
          "output_type": "display_data",
          "data": {
            "text/plain": [
              "<Figure size 432x288 with 1 Axes>"
            ],
            "image/png": "[encoded data removed]"
          },
          "metadata": {
            "needs_background": "light"
          }
        },
        {
          "output_type": "display_data",
          "data": {
            "text/plain": [
              "<Figure size 432x288 with 1 Axes>"
            ],
            "image/png": "[encoded data removed]"
          },
          "metadata": {
            "needs_background": "light"
          }
        },
        {
          "output_type": "display_data",
          "data": {
            "text/plain": [
              "<Figure size 432x288 with 1 Axes>"
            ],
            "image/png": "[encoded data removed]"
          },
          "metadata": {
            "needs_background": "light"
          }
        },
        {
          "output_type": "display_data",
          "data": {
            "text/plain": [
              "<Figure size 432x288 with 1 Axes>"
            ],
            "image/png": "[encoded data removed]"
          },
          "metadata": {
            "needs_background": "light"
          }
        },
        {
          "output_type": "display_data",
          "data": {
            "text/plain": [
              "<Figure size 432x288 with 1 Axes>"
            ],
            "image/png": "[encoded data removed]"
          },
          "metadata": {
            "needs_background": "light"
          }
        },
        {
          "output_type": "display_data",
          "data": {
            "text/plain": [
              "<Figure size 432x288 with 1 Axes>"
            ],
            "image/png": "[encoded data removed]"
          },
          "metadata": {
            "needs_background": "light"
          }
        },
        {
          "output_type": "display_data",
          "data": {
            "text/plain": [
              "<Figure size 432x288 with 1 Axes>"
            ],
            "image/png": "[encoded data removed]"
          },
          "metadata": {
            "needs_background": "light"
          }
        },
        {
          "output_type": "display_data",
          "data": {
            "text/plain": [
              "<Figure size 432x288 with 1 Axes>"
            ],
            "image/png": "[encoded data removed]"
          },
          "metadata": {
            "needs_background": "light"
          }
        },
        {
          "output_type": "display_data",
          "data": {
            "text/plain": [
              "<Figure size 432x288 with 1 Axes>"
            ],
            "image/png": "[encoded data removed]"
          },
          "metadata": {
            "needs_background": "light"
          }
        },
        {
          "output_type": "display_data",
          "data": {
            "text/plain": [
              "<Figure size 432x288 with 1 Axes>"
            ],
            "image/png": "[encoded data removed]"
          },
          "metadata": {
            "needs_background": "light"
          }
        },
        {
          "output_type": "display_data",
          "data": {
            "text/plain": [
              "<Figure size 432x288 with 1 Axes>"
            ],
            "image/png": "[encoded data removed]"
          },
          "metadata": {
            "needs_background": "light"
          }
        },
        {
          "output_type": "display_data",
          "data": {
            "text/plain": [
              "<Figure size 432x288 with 1 Axes>"
            ],
            "image/png": "[encoded data removed]"
          },
          "metadata": {
            "needs_background": "light"
          }
        },
        {
          "output_type": "display_data",
          "data": {
            "text/plain": [
              "<Figure size 432x288 with 1 Axes>"
            ],
            "image/png": "[encoded data removed]"
          },
          "metadata": {
            "needs_background": "light"
          }
        },
        {
          "output_type": "display_data",
          "data": {
            "text/plain": [
              "<Figure size 432x288 with 1 Axes>"
            ],
            "image/png": "[encoded data removed]"
          },
          "metadata": {
            "needs_background": "light"
          }
        },
        {
          "output_type": "display_data",
          "data": {
            "text/plain": [
              "<Figure size 432x288 with 1 Axes>"
            ],
            "image/png": "[encoded data removed]"
          },
          "metadata": {
            "needs_background": "light"
          }
        },
        {
          "output_type": "display_data",
          "data": {
            "text/plain": [
              "<Figure size 432x288 with 1 Axes>"
            ],
            "image/png": "[encoded data removed]"
          },
          "metadata": {
            "needs_background": "light"
          }
        },
        {
          "output_type": "display_data",
          "data": {
            "text/plain": [
              "<Figure size 432x288 with 1 Axes>"
            ],
            "image/png": "[encoded data removed]"
          },
          "metadata": {
            "needs_background": "light"
          }
        },
        {
          "output_type": "display_data",
          "data": {
            "text/plain": [
              "<Figure size 432x288 with 1 Axes>"
            ],
            "image/png": "[encoded data removed]"
          },
          "metadata": {
            "needs_background": "light"
          }
        },
        {
          "output_type": "display_data",
          "data": {
            "text/plain": [
              "<Figure size 432x288 with 1 Axes>"
            ],
            "image/png": "[encoded data removed]"
          },
          "metadata": {
            "needs_background": "light"
          }
        },
        {
          "output_type": "display_data",
          "data": {
            "text/plain": [
              "<Figure size 432x288 with 1 Axes>"
            ],
            "image/png": "[encoded data removed]"
          },
          "metadata": {
            "needs_background": "light"
          }
        },
        {
          "output_type": "display_data",
          "data": {
            "text/plain": [
              "<Figure size 432x288 with 1 Axes>"
            ],
            "image/png": "[encoded data removed]"
          },
          "metadata": {
            "needs_background": "light"
          }
        },
        {
          "output_type": "display_data",
          "data": {
            "text/plain": [
              "<Figure size 432x288 with 1 Axes>"
            ],
            "image/png": "[encoded data removed]"
          },
          "metadata": {
            "needs_background": "light"
          }
        },
        {
          "output_type": "display_data",
          "data": {
            "text/plain": [
              "<Figure size 432x288 with 1 Axes>"
            ],
            "image/png": "[encoded data removed]"
          },
          "metadata": {
            "needs_background": "light"
          }
        },
        {
          "output_type": "display_data",
          "data": {
            "text/plain": [
              "<Figure size 432x288 with 1 Axes>"
            ],
            "image/png": "[encoded data removed]"
          },
          "metadata": {
            "needs_background": "light"
          }
        },
        {
          "output_type": "display_data",
          "data": {
            "text/plain": [
              "<Figure size 432x288 with 1 Axes>"
            ],
            "image/png": "[encoded data removed]"
          },
          "metadata": {
            "needs_background": "light"
          }
        },
        {
          "output_type": "display_data",
          "data": {
            "text/plain": [
              "<Figure size 432x288 with 1 Axes>"
            ],
            "image/png": "[encoded data removed]"
          },
          "metadata": {
            "needs_background": "light"
          }
        },
        {
          "output_type": "display_data",
          "data": {
            "text/plain": [
              "<Figure size 432x288 with 1 Axes>"
            ],
            "image/png": "[encoded data removed]"
          },
          "metadata": {
            "needs_background": "light"
          }
        },
        {
          "output_type": "display_data",
          "data": {
            "text/plain": [
              "<Figure size 432x288 with 1 Axes>"
            ],
            "image/png": "[encoded data removed]"
          },
          "metadata": {
            "needs_background": "light"
          }
        },
        {
          "output_type": "display_data",
          "data": {
            "text/plain": [
              "<Figure size 432x288 with 1 Axes>"
            ],
            "image/png": "[encoded data removed]"
          },
          "metadata": {
            "needs_background": "light"
          }
        },
        {
          "output_type": "display_data",
          "data": {
            "text/plain": [
              "<Figure size 432x288 with 1 Axes>"
            ],
            "image/png": "[encoded data removed]"
          },
          "metadata": {
            "needs_background": "light"
          }
        },
        {
          "output_type": "display_data",
          "data": {
            "text/plain": [
              "<Figure size 432x288 with 1 Axes>"
            ],
            "image/png": "[encoded data removed]"
          },
          "metadata": {
            "needs_background": "light"
          }
        },
        {
          "output_type": "display_data",
          "data": {
            "text/plain": [
              "<Figure size 432x288 with 1 Axes>"
            ],
            "image/png": "[encoded data removed]"
          },
          "metadata": {
            "needs_background": "light"
          }
        },
        {
          "output_type": "display_data",
          "data": {
            "text/plain": [
              "<Figure size 432x288 with 1 Axes>"
            ],
            "image/png": "[encoded data removed]"
          },
          "metadata": {
            "needs_background": "light"
          }
        },
        {
          "output_type": "display_data",
          "data": {
            "text/plain": [
              "<Figure size 432x288 with 1 Axes>"
            ],
            "image/png": "[encoded data removed]"
          },
          "metadata": {
            "needs_background": "light"
          }
        },
        {
          "output_type": "display_data",
          "data": {
            "text/plain": [
              "<Figure size 432x288 with 1 Axes>"
            ],
            "image/png": "[encoded data removed]"
          },
          "metadata": {
            "needs_background": "light"
          }
        },
        {
          "output_type": "display_data",
          "data": {
            "text/plain": [
              "<Figure size 432x288 with 1 Axes>"
            ],
            "image/png": "[encoded data removed]"
          },
          "metadata": {
            "needs_background": "light"
          }
        },
        {
          "output_type": "display_data",
          "data": {
            "text/plain": [
              "<Figure size 432x288 with 1 Axes>"
            ],
            "image/png": "[encoded data removed]"
          },
          "metadata": {
            "needs_background": "light"
          }
        },
        {
          "output_type": "display_data",
          "data": {
            "text/plain": [
              "<Figure size 432x288 with 1 Axes>"
            ],
            "image/png": "[encoded data removed]"
          },
          "metadata": {
            "needs_background": "light"
          }
        },
        {
          "output_type": "display_data",
          "data": {
            "text/plain": [
              "<Figure size 432x288 with 1 Axes>"
            ],
            "image/png": "[encoded data removed]"
          },
          "metadata": {
            "needs_background": "light"
          }
        },
        {
          "output_type": "display_data",
          "data": {
            "text/plain": [
              "<Figure size 432x288 with 1 Axes>"
            ],
            "image/png": "[encoded data removed]"
          },
          "metadata": {
            "needs_background": "light"
          }
        },
        {
          "output_type": "display_data",
          "data": {
            "text/plain": [
              "<Figure size 432x288 with 1 Axes>"
            ],
            "image/png": "[encoded data removed]"
          },
          "metadata": {
            "needs_background": "light"
          }
        },
        {
          "output_type": "display_data",
          "data": {
            "text/plain": [
              "<Figure size 432x288 with 1 Axes>"
            ],
            "image/png": "[encoded data removed]"
          },
          "metadata": {
            "needs_background": "light"
          }
        },
        {
          "output_type": "display_data",
          "data": {
            "text/plain": [
              "<Figure size 432x288 with 1 Axes>"
            ],
            "image/png": "[encoded data removed]"
          },
          "metadata": {
            "needs_background": "light"
          }
        },
        {
          "output_type": "display_data",
          "data": {
            "text/plain": [
              "<Figure size 432x288 with 1 Axes>"
            ],
            "image/png": "[encoded data removed]"
          },
          "metadata": {
            "needs_background": "light"
          }
        },
        {
          "output_type": "display_data",
          "data": {
            "text/plain": [
              "<Figure size 432x288 with 1 Axes>"
            ],
            "image/png": "[encoded data removed]"
          },
          "metadata": {
            "needs_background": "light"
          }
        },
        {
          "output_type": "display_data",
          "data": {
            "text/plain": [
              "<Figure size 432x288 with 1 Axes>"
            ],
            "image/png": "[encoded data removed]"
          },
          "metadata": {
            "needs_background": "light"
          }
        },
        {
          "output_type": "display_data",
          "data": {
            "text/plain": [
              "<Figure size 432x288 with 1 Axes>"
            ],
            "image/png": "[encoded data removed]"
          },
          "metadata": {
            "needs_background": "light"
          }
        },
        {
          "output_type": "display_data",
          "data": {
            "text/plain": [
              "<Figure size 432x288 with 1 Axes>"
            ],
            "image/png": "[encoded data removed]"
          },
          "metadata": {
            "needs_background": "light"
          }
        },
        {
          "output_type": "display_data",
          "data": {
            "text/plain": [
              "<Figure size 432x288 with 1 Axes>"
            ],
            "image/png": "[encoded data removed]"
          },
          "metadata": {
            "needs_background": "light"
          }
        },
        {
          "output_type": "display_data",
          "data": {
            "text/plain": [
              "<Figure size 432x288 with 1 Axes>"
            ],
            "image/png": "[encoded data removed]"
          },
          "metadata": {
            "needs_background": "light"
          }
        },
        {
          "output_type": "display_data",
          "data": {
            "text/plain": [
              "<Figure size 432x288 with 1 Axes>"
            ],
            "image/png": "[encoded data removed]"
          },
          "metadata": {
            "needs_background": "light"
          }
        },
        {
          "output_type": "display_data",
          "data": {
            "text/plain": [
              "<Figure size 432x288 with 1 Axes>"
            ],
            "image/png": "[encoded data removed]"
          },
          "metadata": {
            "needs_background": "light"
          }
        }
      ]
    },
    {
      "cell_type": "code",
      "source": [],
      "metadata": {
        "id": "TzdAK1raOVA2"
      },
      "execution_count": null,
      "outputs": []
    },
    {
      "cell_type": "code",
      "source": [],
      "metadata": {
        "id": "NFxVDLRkOVEU"
      },
      "execution_count": null,
      "outputs": []
    },
    {
      "cell_type": "markdown",
      "source": [
        "#GUARDANDO EL **DATA FRAME** EN UN ARCHIVO csv."
      ],
      "metadata": {
        "id": "_k3nMr2YZjGf"
      }
    },
    {
      "cell_type": "code",
      "source": [
        "import pandas as pd \n",
        "\n",
        "df.to_csv(\"bd_simulaciones.csv\", index=None)\n"
      ],
      "metadata": {
        "id": "aRj2jLJmOVHd"
      },
      "execution_count": null,
      "outputs": []
    },
    {
      "cell_type": "markdown",
      "source": [
        "#LEYENDO EL **DATA FRAME** DEL ARCHIVO csv."
      ],
      "metadata": {
        "id": "RtWGMiSVZ0ig"
      }
    },
    {
      "cell_type": "code",
      "source": [
        "\n",
        "datos = pd.read_csv('bd_simulaciones.csv')\n",
        "datos\n"
      ],
      "metadata": {
        "id": "bxM_cU3iOVLu",
        "colab": {
          "base_uri": "https://localhost:8080/",
          "height": 488
        },
        "outputId": "b26c03f3-f9f3-43c4-906f-e36e5dd6b183"
      },
      "execution_count": null,
      "outputs": [
        {
          "output_type": "execute_result",
          "data": {
            "text/plain": [
              "          r0        r1   r2        r3        r4        r5        r6   r7   r8  \\\n",
              "0   1.000000  1.000000  1.0  1.000000  1.000000  1.000000  0.601569  1.0  1.0   \n",
              "1   1.000000  1.000000  1.0  1.000000  0.601569  0.501961  1.000000  1.0  0.6   \n",
              "2   0.501961  1.000000  1.0  1.000000  0.501961  1.000000  0.601569  0.8  0.8   \n",
              "3   0.501961  1.000000  1.0  0.501961  0.501961  1.000000  1.000000  1.0  0.8   \n",
              "4   0.501961  1.000000  1.0  1.000000  0.501961  1.000000  0.601569  0.8  0.8   \n",
              "..       ...       ...  ...       ...       ...       ...       ...  ...  ...   \n",
              "75  0.667974  0.501961  1.0  1.000000  1.000000  1.000000  1.000000  0.8  1.0   \n",
              "76  1.000000  1.000000  0.6  0.800000  1.000000  1.000000  0.501961  1.0  1.0   \n",
              "77  0.667974  0.501961  1.0  1.000000  1.000000  0.501961  1.000000  0.8  1.0   \n",
              "78  0.501961  1.000000  1.0  1.000000  1.000000  1.000000  0.501961  1.0  1.0   \n",
              "79  1.000000  1.000000  0.6  0.800000  0.501961  1.000000  1.000000  0.8  1.0   \n",
              "\n",
              "          r9  ...       b93       b94  b95       b96  b97       b98       b99  \\\n",
              "0   1.000000  ...  0.501961  1.000000  0.8  0.501961  0.8  0.501961  0.000000   \n",
              "1   0.667974  ...  0.000000  0.800000  1.0  0.000000  1.0  0.000000  0.000000   \n",
              "2   1.000000  ...  0.501961  1.000000  1.0  0.000000  0.8  0.200000  0.501961   \n",
              "3   0.501961  ...  0.000000  0.800000  0.8  0.501961  1.0  0.000000  0.000000   \n",
              "4   1.000000  ...  0.501961  1.000000  1.0  0.000000  1.0  0.200000  0.501961   \n",
              "..       ...  ...       ...       ...  ...       ...  ...       ...       ...   \n",
              "75  1.000000  ...  0.800000  0.000000  0.8  0.200000  0.6  0.800000  0.333333   \n",
              "76  0.501961  ...  1.000000  0.501961  1.0  0.200000  0.8  0.600000  0.501961   \n",
              "77  1.000000  ...  1.000000  0.000000  1.0  0.000000  0.8  1.000000  0.000000   \n",
              "78  0.501961  ...  0.800000  0.000000  0.8  0.501961  0.8  0.800000  0.333333   \n",
              "79  0.501961  ...  1.000000  0.501961  1.0  0.000000  1.0  0.800000  0.501961   \n",
              "\n",
              "    Simulacion_ID  Frame  Target  \n",
              "0               1      1       1  \n",
              "1               1      2       1  \n",
              "2               1      3       1  \n",
              "3               1      4       1  \n",
              "4               1      5       1  \n",
              "..            ...    ...     ...  \n",
              "75              4     16       1  \n",
              "76              4     17       1  \n",
              "77              4     18       1  \n",
              "78              4     19       1  \n",
              "79              4     20       1  \n",
              "\n",
              "[80 rows x 303 columns]"
            ],
            "text/html": [
              "\n",
              "  <div id=\"df-720e09ed-9101-4165-8cba-dc598038b71e\">\n",
              "    <div class=\"colab-df-container\">\n",
              "      <div>\n",
              "<style scoped>\n",
              "    .dataframe tbody tr th:only-of-type {\n",
              "        vertical-align: middle;\n",
              "    }\n",
              "\n",
              "    .dataframe tbody tr th {\n",
              "        vertical-align: top;\n",
              "    }\n",
              "\n",
              "    .dataframe thead th {\n",
              "        text-align: right;\n",
              "    }\n",
              "</style>\n",
              "<table border=\"1\" class=\"dataframe\">\n",
              "  <thead>\n",
              "    <tr style=\"text-align: right;\">\n",
              "      <th></th>\n",
              "      <th>r0</th>\n",
              "      <th>r1</th>\n",
              "      <th>r2</th>\n",
              "      <th>r3</th>\n",
              "      <th>r4</th>\n",
              "      <th>r5</th>\n",
              "      <th>r6</th>\n",
              "      <th>r7</th>\n",
              "      <th>r8</th>\n",
              "      <th>r9</th>\n",
              "      <th>...</th>\n",
              "      <th>b93</th>\n",
              "      <th>b94</th>\n",
              "      <th>b95</th>\n",
              "      <th>b96</th>\n",
              "      <th>b97</th>\n",
              "      <th>b98</th>\n",
              "      <th>b99</th>\n",
              "      <th>Simulacion_ID</th>\n",
              "      <th>Frame</th>\n",
              "      <th>Target</th>\n",
              "    </tr>\n",
              "  </thead>\n",
              "  <tbody>\n",
              "    <tr>\n",
              "      <th>0</th>\n",
              "      <td>1.000000</td>\n",
              "      <td>1.000000</td>\n",
              "      <td>1.0</td>\n",
              "      <td>1.000000</td>\n",
              "      <td>1.000000</td>\n",
              "      <td>1.000000</td>\n",
              "      <td>0.601569</td>\n",
              "      <td>1.0</td>\n",
              "      <td>1.0</td>\n",
              "      <td>1.000000</td>\n",
              "      <td>...</td>\n",
              "      <td>0.501961</td>\n",
              "      <td>1.000000</td>\n",
              "      <td>0.8</td>\n",
              "      <td>0.501961</td>\n",
              "      <td>0.8</td>\n",
              "      <td>0.501961</td>\n",
              "      <td>0.000000</td>\n",
              "      <td>1</td>\n",
              "      <td>1</td>\n",
              "      <td>1</td>\n",
              "    </tr>\n",
              "    <tr>\n",
              "      <th>1</th>\n",
              "      <td>1.000000</td>\n",
              "      <td>1.000000</td>\n",
              "      <td>1.0</td>\n",
              "      <td>1.000000</td>\n",
              "      <td>0.601569</td>\n",
              "      <td>0.501961</td>\n",
              "      <td>1.000000</td>\n",
              "      <td>1.0</td>\n",
              "      <td>0.6</td>\n",
              "      <td>0.667974</td>\n",
              "      <td>...</td>\n",
              "      <td>0.000000</td>\n",
              "      <td>0.800000</td>\n",
              "      <td>1.0</td>\n",
              "      <td>0.000000</td>\n",
              "      <td>1.0</td>\n",
              "      <td>0.000000</td>\n",
              "      <td>0.000000</td>\n",
              "      <td>1</td>\n",
              "      <td>2</td>\n",
              "      <td>1</td>\n",
              "    </tr>\n",
              "    <tr>\n",
              "      <th>2</th>\n",
              "      <td>0.501961</td>\n",
              "      <td>1.000000</td>\n",
              "      <td>1.0</td>\n",
              "      <td>1.000000</td>\n",
              "      <td>0.501961</td>\n",
              "      <td>1.000000</td>\n",
              "      <td>0.601569</td>\n",
              "      <td>0.8</td>\n",
              "      <td>0.8</td>\n",
              "      <td>1.000000</td>\n",
              "      <td>...</td>\n",
              "      <td>0.501961</td>\n",
              "      <td>1.000000</td>\n",
              "      <td>1.0</td>\n",
              "      <td>0.000000</td>\n",
              "      <td>0.8</td>\n",
              "      <td>0.200000</td>\n",
              "      <td>0.501961</td>\n",
              "      <td>1</td>\n",
              "      <td>3</td>\n",
              "      <td>1</td>\n",
              "    </tr>\n",
              "    <tr>\n",
              "      <th>3</th>\n",
              "      <td>0.501961</td>\n",
              "      <td>1.000000</td>\n",
              "      <td>1.0</td>\n",
              "      <td>0.501961</td>\n",
              "      <td>0.501961</td>\n",
              "      <td>1.000000</td>\n",
              "      <td>1.000000</td>\n",
              "      <td>1.0</td>\n",
              "      <td>0.8</td>\n",
              "      <td>0.501961</td>\n",
              "      <td>...</td>\n",
              "      <td>0.000000</td>\n",
              "      <td>0.800000</td>\n",
              "      <td>0.8</td>\n",
              "      <td>0.501961</td>\n",
              "      <td>1.0</td>\n",
              "      <td>0.000000</td>\n",
              "      <td>0.000000</td>\n",
              "      <td>1</td>\n",
              "      <td>4</td>\n",
              "      <td>1</td>\n",
              "    </tr>\n",
              "    <tr>\n",
              "      <th>4</th>\n",
              "      <td>0.501961</td>\n",
              "      <td>1.000000</td>\n",
              "      <td>1.0</td>\n",
              "      <td>1.000000</td>\n",
              "      <td>0.501961</td>\n",
              "      <td>1.000000</td>\n",
              "      <td>0.601569</td>\n",
              "      <td>0.8</td>\n",
              "      <td>0.8</td>\n",
              "      <td>1.000000</td>\n",
              "      <td>...</td>\n",
              "      <td>0.501961</td>\n",
              "      <td>1.000000</td>\n",
              "      <td>1.0</td>\n",
              "      <td>0.000000</td>\n",
              "      <td>1.0</td>\n",
              "      <td>0.200000</td>\n",
              "      <td>0.501961</td>\n",
              "      <td>1</td>\n",
              "      <td>5</td>\n",
              "      <td>1</td>\n",
              "    </tr>\n",
              "    <tr>\n",
              "      <th>...</th>\n",
              "      <td>...</td>\n",
              "      <td>...</td>\n",
              "      <td>...</td>\n",
              "      <td>...</td>\n",
              "      <td>...</td>\n",
              "      <td>...</td>\n",
              "      <td>...</td>\n",
              "      <td>...</td>\n",
              "      <td>...</td>\n",
              "      <td>...</td>\n",
              "      <td>...</td>\n",
              "      <td>...</td>\n",
              "      <td>...</td>\n",
              "      <td>...</td>\n",
              "      <td>...</td>\n",
              "      <td>...</td>\n",
              "      <td>...</td>\n",
              "      <td>...</td>\n",
              "      <td>...</td>\n",
              "      <td>...</td>\n",
              "      <td>...</td>\n",
              "    </tr>\n",
              "    <tr>\n",
              "      <th>75</th>\n",
              "      <td>0.667974</td>\n",
              "      <td>0.501961</td>\n",
              "      <td>1.0</td>\n",
              "      <td>1.000000</td>\n",
              "      <td>1.000000</td>\n",
              "      <td>1.000000</td>\n",
              "      <td>1.000000</td>\n",
              "      <td>0.8</td>\n",
              "      <td>1.0</td>\n",
              "      <td>1.000000</td>\n",
              "      <td>...</td>\n",
              "      <td>0.800000</td>\n",
              "      <td>0.000000</td>\n",
              "      <td>0.8</td>\n",
              "      <td>0.200000</td>\n",
              "      <td>0.6</td>\n",
              "      <td>0.800000</td>\n",
              "      <td>0.333333</td>\n",
              "      <td>4</td>\n",
              "      <td>16</td>\n",
              "      <td>1</td>\n",
              "    </tr>\n",
              "    <tr>\n",
              "      <th>76</th>\n",
              "      <td>1.000000</td>\n",
              "      <td>1.000000</td>\n",
              "      <td>0.6</td>\n",
              "      <td>0.800000</td>\n",
              "      <td>1.000000</td>\n",
              "      <td>1.000000</td>\n",
              "      <td>0.501961</td>\n",
              "      <td>1.0</td>\n",
              "      <td>1.0</td>\n",
              "      <td>0.501961</td>\n",
              "      <td>...</td>\n",
              "      <td>1.000000</td>\n",
              "      <td>0.501961</td>\n",
              "      <td>1.0</td>\n",
              "      <td>0.200000</td>\n",
              "      <td>0.8</td>\n",
              "      <td>0.600000</td>\n",
              "      <td>0.501961</td>\n",
              "      <td>4</td>\n",
              "      <td>17</td>\n",
              "      <td>1</td>\n",
              "    </tr>\n",
              "    <tr>\n",
              "      <th>77</th>\n",
              "      <td>0.667974</td>\n",
              "      <td>0.501961</td>\n",
              "      <td>1.0</td>\n",
              "      <td>1.000000</td>\n",
              "      <td>1.000000</td>\n",
              "      <td>0.501961</td>\n",
              "      <td>1.000000</td>\n",
              "      <td>0.8</td>\n",
              "      <td>1.0</td>\n",
              "      <td>1.000000</td>\n",
              "      <td>...</td>\n",
              "      <td>1.000000</td>\n",
              "      <td>0.000000</td>\n",
              "      <td>1.0</td>\n",
              "      <td>0.000000</td>\n",
              "      <td>0.8</td>\n",
              "      <td>1.000000</td>\n",
              "      <td>0.000000</td>\n",
              "      <td>4</td>\n",
              "      <td>18</td>\n",
              "      <td>1</td>\n",
              "    </tr>\n",
              "    <tr>\n",
              "      <th>78</th>\n",
              "      <td>0.501961</td>\n",
              "      <td>1.000000</td>\n",
              "      <td>1.0</td>\n",
              "      <td>1.000000</td>\n",
              "      <td>1.000000</td>\n",
              "      <td>1.000000</td>\n",
              "      <td>0.501961</td>\n",
              "      <td>1.0</td>\n",
              "      <td>1.0</td>\n",
              "      <td>0.501961</td>\n",
              "      <td>...</td>\n",
              "      <td>0.800000</td>\n",
              "      <td>0.000000</td>\n",
              "      <td>0.8</td>\n",
              "      <td>0.501961</td>\n",
              "      <td>0.8</td>\n",
              "      <td>0.800000</td>\n",
              "      <td>0.333333</td>\n",
              "      <td>4</td>\n",
              "      <td>19</td>\n",
              "      <td>1</td>\n",
              "    </tr>\n",
              "    <tr>\n",
              "      <th>79</th>\n",
              "      <td>1.000000</td>\n",
              "      <td>1.000000</td>\n",
              "      <td>0.6</td>\n",
              "      <td>0.800000</td>\n",
              "      <td>0.501961</td>\n",
              "      <td>1.000000</td>\n",
              "      <td>1.000000</td>\n",
              "      <td>0.8</td>\n",
              "      <td>1.0</td>\n",
              "      <td>0.501961</td>\n",
              "      <td>...</td>\n",
              "      <td>1.000000</td>\n",
              "      <td>0.501961</td>\n",
              "      <td>1.0</td>\n",
              "      <td>0.000000</td>\n",
              "      <td>1.0</td>\n",
              "      <td>0.800000</td>\n",
              "      <td>0.501961</td>\n",
              "      <td>4</td>\n",
              "      <td>20</td>\n",
              "      <td>1</td>\n",
              "    </tr>\n",
              "  </tbody>\n",
              "</table>\n",
              "<p>80 rows × 303 columns</p>\n",
              "</div>\n",
              "      <button class=\"colab-df-convert\" onclick=\"convertToInteractive('df-720e09ed-9101-4165-8cba-dc598038b71e')\"\n",
              "              title=\"Convert this dataframe to an interactive table.\"\n",
              "              style=\"display:none;\">\n",
              "        \n",
              "  <svg xmlns=\"http://www.w3.org/2000/svg\" height=\"24px\"viewBox=\"0 0 24 24\"\n",
              "       width=\"24px\">\n",
              "    <path d=\"M0 0h24v24H0V0z\" fill=\"none\"/>\n",
              "    <path d=\"M18.56 5.44l.94 2.06.94-2.06 2.06-.94-2.06-.94-.94-2.06-.94 2.06-2.06.94zm-11 1L8.5 8.5l.94-2.06 2.06-.94-2.06-.94L8.5 2.5l-.94 2.06-2.06.94zm10 10l.94 2.06.94-2.06 2.06-.94-2.06-.94-.94-2.06-.94 2.06-2.06.94z\"/><path d=\"M17.41 7.96l-1.37-1.37c-.4-.4-.92-.59-1.43-.59-.52 0-1.04.2-1.43.59L10.3 9.45l-7.72 7.72c-.78.78-.78 2.05 0 2.83L4 21.41c.39.39.9.59 1.41.59.51 0 1.02-.2 1.41-.59l7.78-7.78 2.81-2.81c.8-.78.8-2.07 0-2.86zM5.41 20L4 18.59l7.72-7.72 1.47 1.35L5.41 20z\"/>\n",
              "  </svg>\n",
              "      </button>\n",
              "      \n",
              "  <style>\n",
              "    .colab-df-container {\n",
              "      display:flex;\n",
              "      flex-wrap:wrap;\n",
              "      gap: 12px;\n",
              "    }\n",
              "\n",
              "    .colab-df-convert {\n",
              "      background-color: #E8F0FE;\n",
              "      border: none;\n",
              "      border-radius: 50%;\n",
              "      cursor: pointer;\n",
              "      display: none;\n",
              "      fill: #1967D2;\n",
              "      height: 32px;\n",
              "      padding: 0 0 0 0;\n",
              "      width: 32px;\n",
              "    }\n",
              "\n",
              "    .colab-df-convert:hover {\n",
              "      background-color: #E2EBFA;\n",
              "      box-shadow: 0px 1px 2px rgba(60, 64, 67, 0.3), 0px 1px 3px 1px rgba(60, 64, 67, 0.15);\n",
              "      fill: #174EA6;\n",
              "    }\n",
              "\n",
              "    [theme=dark] .colab-df-convert {\n",
              "      background-color: #3B4455;\n",
              "      fill: #D2E3FC;\n",
              "    }\n",
              "\n",
              "    [theme=dark] .colab-df-convert:hover {\n",
              "      background-color: #434B5C;\n",
              "      box-shadow: 0px 1px 3px 1px rgba(0, 0, 0, 0.15);\n",
              "      filter: drop-shadow(0px 1px 2px rgba(0, 0, 0, 0.3));\n",
              "      fill: #FFFFFF;\n",
              "    }\n",
              "  </style>\n",
              "\n",
              "      <script>\n",
              "        const buttonEl =\n",
              "          document.querySelector('#df-720e09ed-9101-4165-8cba-dc598038b71e button.colab-df-convert');\n",
              "        buttonEl.style.display =\n",
              "          google.colab.kernel.accessAllowed ? 'block' : 'none';\n",
              "\n",
              "        async function convertToInteractive(key) {\n",
              "          const element = document.querySelector('#df-720e09ed-9101-4165-8cba-dc598038b71e');\n",
              "          const dataTable =\n",
              "            await google.colab.kernel.invokeFunction('convertToInteractive',\n",
              "                                                     [key], {});\n",
              "          if (!dataTable) return;\n",
              "\n",
              "          const docLinkHtml = 'Like what you see? Visit the ' +\n",
              "            '<a target=\"_blank\" href=https://colab.research.google.com/notebooks/data_table.ipynb>data table notebook</a>'\n",
              "            + ' to learn more about interactive tables.';\n",
              "          element.innerHTML = '';\n",
              "          dataTable['output_type'] = 'display_data';\n",
              "          await google.colab.output.renderOutput(dataTable, element);\n",
              "          const docLink = document.createElement('div');\n",
              "          docLink.innerHTML = docLinkHtml;\n",
              "          element.appendChild(docLink);\n",
              "        }\n",
              "      </script>\n",
              "    </div>\n",
              "  </div>\n",
              "  "
            ]
          },
          "metadata": {},
          "execution_count": 13
        }
      ]
    },
    {
      "cell_type": "code",
      "source": [],
      "metadata": {
        "id": "NLb9osO-A7yP"
      },
      "execution_count": null,
      "outputs": []
    }
  ]
}